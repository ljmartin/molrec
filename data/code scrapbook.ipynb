{
 "cells": [
  {
   "cell_type": "code",
   "execution_count": 9,
   "metadata": {},
   "outputs": [],
   "source": [
    "import pandas as pd\n",
    "import numpy as np\n",
    "from scipy import sparse\n",
    "import copy\n",
    "from tqdm import tqdm_notebook"
   ]
  },
  {
   "cell_type": "code",
   "execution_count": 10,
   "metadata": {},
   "outputs": [],
   "source": [
    "df = pd.read_csv('./interaction_data_ALL_species.csv')\n",
    "df.columns = ['chembl_id', 'pref_name', 'instance_id', 'canonical_smiles']"
   ]
  },
  {
   "cell_type": "code",
   "execution_count": 12,
   "metadata": {},
   "outputs": [
    {
     "name": "stdout",
     "output_type": "stream",
     "text": [
      "1678621\n"
     ]
    }
   ],
   "source": [
    "print(len(df))"
   ]
  },
  {
   "cell_type": "markdown",
   "metadata": {},
   "source": [
    "# Remove duplicates:"
   ]
  },
  {
   "cell_type": "code",
   "execution_count": 13,
   "metadata": {},
   "outputs": [],
   "source": [
    "df = df.drop_duplicates(['pref_name', 'instance_id'],keep='first').sort_values('pref_name')"
   ]
  },
  {
   "cell_type": "code",
   "execution_count": 14,
   "metadata": {
    "scrolled": true
   },
   "outputs": [],
   "source": [
    "keeplist = list()\n",
    "for i in df['pref_name'].value_counts().items():\n",
    "    if i[1]>150:\n",
    "        keeplist.append(i[0])"
   ]
  },
  {
   "cell_type": "code",
   "execution_count": 15,
   "metadata": {},
   "outputs": [],
   "source": [
    "df = df[df['pref_name'].isin(keeplist)]"
   ]
  },
  {
   "cell_type": "code",
   "execution_count": 17,
   "metadata": {},
   "outputs": [
    {
     "data": {
      "text/plain": [
       "1011723"
      ]
     },
     "execution_count": 17,
     "metadata": {},
     "output_type": "execute_result"
    }
   ],
   "source": [
    "len(df)"
   ]
  },
  {
   "cell_type": "code",
   "execution_count": 6,
   "metadata": {},
   "outputs": [
    {
     "data": {
      "text/plain": [
       "(851,)"
      ]
     },
     "execution_count": 6,
     "metadata": {},
     "output_type": "execute_result"
    }
   ],
   "source": [
    "df['pref_name'].unique().shape"
   ]
  },
  {
   "cell_type": "markdown",
   "metadata": {},
   "source": [
    "# Make into a n,m matrix:"
   ]
  },
  {
   "cell_type": "code",
   "execution_count": 7,
   "metadata": {},
   "outputs": [],
   "source": [
    "num_instances = df['instance_id'].unique().shape[0]\n",
    "num_targets = df['pref_name'].unique().shape[0]"
   ]
  },
  {
   "cell_type": "code",
   "execution_count": 8,
   "metadata": {},
   "outputs": [
    {
     "data": {
      "text/plain": [
       "630482"
      ]
     },
     "execution_count": 8,
     "metadata": {},
     "output_type": "execute_result"
    }
   ],
   "source": [
    "num_instances"
   ]
  },
  {
   "cell_type": "code",
   "execution_count": 94,
   "metadata": {},
   "outputs": [],
   "source": [
    "interaction_matrix = np.zeros([num_instances, num_targets])\n"
   ]
  },
  {
   "cell_type": "code",
   "execution_count": 95,
   "metadata": {},
   "outputs": [
    {
     "data": {
      "application/vnd.jupyter.widget-view+json": {
       "model_id": "dcf1e522ad894a1aa5f1b33ecc13d5e1",
       "version_major": 2,
       "version_minor": 0
      },
      "text/plain": [
       "HBox(children=(IntProgress(value=1, bar_style='info', max=1), HTML(value='')))"
      ]
     },
     "metadata": {},
     "output_type": "display_data"
    },
    {
     "name": "stdout",
     "output_type": "stream",
     "text": [
      "\n"
     ]
    }
   ],
   "source": [
    "##Setting up containers:\n",
    "tids = df.sort_values('pref_name')['pref_name'].unique()\n",
    "cids = df.sort_values('instance_id')['instance_id'].unique()\n",
    "target_indices = dict()\n",
    "for count, i in enumerate(tids):\n",
    "    target_indices[i]=count\n",
    "    \n",
    "instance_indices = dict()\n",
    "for count, i in enumerate(cids):\n",
    "    instance_indices[i]=count\n",
    "\n",
    "    \n",
    "##Filling the values:\n",
    "for count, item in tqdm_notebook(df.iterrows()):\n",
    "    t_id = item['pref_name']\n",
    "    i_id = item['instance_id']\n",
    "    \n",
    "    row = instance_indices[i_id]\n",
    "    column = target_indices[t_id]\n",
    "    \n",
    "    interaction_matrix[row, column]=1\n"
   ]
  },
  {
   "cell_type": "code",
   "execution_count": 96,
   "metadata": {},
   "outputs": [
    {
     "name": "stdout",
     "output_type": "stream",
     "text": [
      "passed\n",
      "(630482, 851)\n"
     ]
    }
   ],
   "source": [
    "for _ in range(100):\n",
    "    row = np.random.choice(interaction_matrix.shape[0]) #select a random instance\n",
    "    col = np.random.choice(interaction_matrix[row].nonzero()[0]) #select a label for that instance\n",
    "    assert tids[col] in list(df[df['instance_id']==cids[row]]['pref_name'])\n",
    "    \n",
    "print('passed')\n",
    "print(interaction_matrix.shape)"
   ]
  },
  {
   "cell_type": "code",
   "execution_count": 97,
   "metadata": {},
   "outputs": [
    {
     "name": "stderr",
     "output_type": "stream",
     "text": [
      "/home/lewis/miniconda3/envs/lew_conda/lib/python3.7/site-packages/ipykernel_launcher.py:4: FutureWarning: The signature of `Series.to_csv` was aligned to that of `DataFrame.to_csv`, and argument 'header' will change its default value from False to True: please pass an explicit value to suppress this warning.\n",
      "  after removing the cwd from sys.path.\n"
     ]
    }
   ],
   "source": [
    "sparse.save_npz('./interaction_matrix_ALL_species.npz', sparse.csr_matrix(interaction_matrix))\n",
    "\n",
    "df.sort_values('instance_id').drop_duplicates(['instance_id'])[['instance_id', 'canonical_smiles']].to_csv('all_chemicals')\n",
    "df.sort_values('pref_name').drop_duplicates(['pref_name'])['pref_name'].to_csv('all_targets', index=False, header=None)\n",
    "\n",
    "\n",
    "\n"
   ]
  },
  {
   "cell_type": "code",
   "execution_count": 98,
   "metadata": {
    "scrolled": true
   },
   "outputs": [
    {
     "data": {
      "text/html": [
       "<div>\n",
       "<style scoped>\n",
       "    .dataframe tbody tr th:only-of-type {\n",
       "        vertical-align: middle;\n",
       "    }\n",
       "\n",
       "    .dataframe tbody tr th {\n",
       "        vertical-align: top;\n",
       "    }\n",
       "\n",
       "    .dataframe thead th {\n",
       "        text-align: right;\n",
       "    }\n",
       "</style>\n",
       "<table border=\"1\" class=\"dataframe\">\n",
       "  <thead>\n",
       "    <tr style=\"text-align: right;\">\n",
       "      <th></th>\n",
       "      <th>0</th>\n",
       "    </tr>\n",
       "  </thead>\n",
       "  <tbody>\n",
       "    <tr>\n",
       "      <th>0</th>\n",
       "      <td>11-beta-hydroxysteroid dehydrogenase 1</td>\n",
       "    </tr>\n",
       "    <tr>\n",
       "      <th>1</th>\n",
       "      <td>15-hydroxyprostaglandin dehydrogenase [NAD+]</td>\n",
       "    </tr>\n",
       "    <tr>\n",
       "      <th>2</th>\n",
       "      <td>2-acylglycerol O-acyltransferase 2</td>\n",
       "    </tr>\n",
       "    <tr>\n",
       "      <th>3</th>\n",
       "      <td>3-phosphoinositide dependent protein kinase-1</td>\n",
       "    </tr>\n",
       "    <tr>\n",
       "      <th>4</th>\n",
       "      <td>5-lipoxygenase activating protein</td>\n",
       "    </tr>\n",
       "    <tr>\n",
       "      <th>5</th>\n",
       "      <td>6-phosphofructo-2-kinase/fructose-2,6-bisphosp...</td>\n",
       "    </tr>\n",
       "    <tr>\n",
       "      <th>6</th>\n",
       "      <td>ADAM17</td>\n",
       "    </tr>\n",
       "    <tr>\n",
       "      <th>7</th>\n",
       "      <td>ADAMTS4</td>\n",
       "    </tr>\n",
       "    <tr>\n",
       "      <th>8</th>\n",
       "      <td>ADAMTS5</td>\n",
       "    </tr>\n",
       "    <tr>\n",
       "      <th>9</th>\n",
       "      <td>ALK tyrosine kinase receptor</td>\n",
       "    </tr>\n",
       "    <tr>\n",
       "      <th>10</th>\n",
       "      <td>AMP-activated protein kinase, AMPK</td>\n",
       "    </tr>\n",
       "    <tr>\n",
       "      <th>11</th>\n",
       "      <td>AMP-activated protein kinase, alpha-1 subunit</td>\n",
       "    </tr>\n",
       "    <tr>\n",
       "      <th>12</th>\n",
       "      <td>ATP-binding cassette sub-family G member 2</td>\n",
       "    </tr>\n",
       "    <tr>\n",
       "      <th>13</th>\n",
       "      <td>ATP-dependent DNA helicase Q1</td>\n",
       "    </tr>\n",
       "    <tr>\n",
       "      <th>14</th>\n",
       "      <td>ATP-sensitive inward rectifier potassium chann...</td>\n",
       "    </tr>\n",
       "    <tr>\n",
       "      <th>15</th>\n",
       "      <td>Acetyl-CoA carboxylase 1</td>\n",
       "    </tr>\n",
       "    <tr>\n",
       "      <th>16</th>\n",
       "      <td>Acetyl-CoA carboxylase 2</td>\n",
       "    </tr>\n",
       "    <tr>\n",
       "      <th>17</th>\n",
       "      <td>Acetylcholinesterase</td>\n",
       "    </tr>\n",
       "    <tr>\n",
       "      <th>18</th>\n",
       "      <td>Activin receptor type-1</td>\n",
       "    </tr>\n",
       "    <tr>\n",
       "      <th>19</th>\n",
       "      <td>Acyl coenzyme A:cholesterol acyltransferase</td>\n",
       "    </tr>\n",
       "    <tr>\n",
       "      <th>20</th>\n",
       "      <td>Acyl coenzyme A:cholesterol acyltransferase 1</td>\n",
       "    </tr>\n",
       "    <tr>\n",
       "      <th>21</th>\n",
       "      <td>Acyl-CoA desaturase</td>\n",
       "    </tr>\n",
       "    <tr>\n",
       "      <th>22</th>\n",
       "      <td>Acyl-CoA desaturase 1</td>\n",
       "    </tr>\n",
       "    <tr>\n",
       "      <th>23</th>\n",
       "      <td>Adenosine A1 receptor</td>\n",
       "    </tr>\n",
       "    <tr>\n",
       "      <th>24</th>\n",
       "      <td>Adenosine A2 receptor</td>\n",
       "    </tr>\n",
       "    <tr>\n",
       "      <th>25</th>\n",
       "      <td>Adenosine A2a receptor</td>\n",
       "    </tr>\n",
       "    <tr>\n",
       "      <th>26</th>\n",
       "      <td>Adenosine A2b receptor</td>\n",
       "    </tr>\n",
       "    <tr>\n",
       "      <th>27</th>\n",
       "      <td>Adenosine A3 receptor</td>\n",
       "    </tr>\n",
       "    <tr>\n",
       "      <th>28</th>\n",
       "      <td>Adenosine kinase</td>\n",
       "    </tr>\n",
       "    <tr>\n",
       "      <th>29</th>\n",
       "      <td>Adenosylhomocysteinase</td>\n",
       "    </tr>\n",
       "    <tr>\n",
       "      <th>...</th>\n",
       "      <td>...</td>\n",
       "    </tr>\n",
       "    <tr>\n",
       "      <th>821</th>\n",
       "      <td>Vascular endothelial growth factor receptor 2</td>\n",
       "    </tr>\n",
       "    <tr>\n",
       "      <th>822</th>\n",
       "      <td>Vascular endothelial growth factor receptor 3</td>\n",
       "    </tr>\n",
       "    <tr>\n",
       "      <th>823</th>\n",
       "      <td>Vasopressin V1 receptor</td>\n",
       "    </tr>\n",
       "    <tr>\n",
       "      <th>824</th>\n",
       "      <td>Vasopressin V1a receptor</td>\n",
       "    </tr>\n",
       "    <tr>\n",
       "      <th>825</th>\n",
       "      <td>Vasopressin V1b receptor</td>\n",
       "    </tr>\n",
       "    <tr>\n",
       "      <th>826</th>\n",
       "      <td>Vasopressin V2 receptor</td>\n",
       "    </tr>\n",
       "    <tr>\n",
       "      <th>827</th>\n",
       "      <td>Vesicular acetylcholine transporter</td>\n",
       "    </tr>\n",
       "    <tr>\n",
       "      <th>828</th>\n",
       "      <td>Vitamin D receptor</td>\n",
       "    </tr>\n",
       "    <tr>\n",
       "      <th>829</th>\n",
       "      <td>Voltage-gated L-type calcium channel</td>\n",
       "    </tr>\n",
       "    <tr>\n",
       "      <th>830</th>\n",
       "      <td>Voltage-gated L-type calcium channel alpha-1C ...</td>\n",
       "    </tr>\n",
       "    <tr>\n",
       "      <th>831</th>\n",
       "      <td>Voltage-gated L-type calcium channel alpha-1D ...</td>\n",
       "    </tr>\n",
       "    <tr>\n",
       "      <th>832</th>\n",
       "      <td>Voltage-gated N-type calcium channel alpha-1B ...</td>\n",
       "    </tr>\n",
       "    <tr>\n",
       "      <th>833</th>\n",
       "      <td>Voltage-gated N-type calcium channel alpha-1B ...</td>\n",
       "    </tr>\n",
       "    <tr>\n",
       "      <th>834</th>\n",
       "      <td>Voltage-gated T-type calcium channel alpha-1G ...</td>\n",
       "    </tr>\n",
       "    <tr>\n",
       "      <th>835</th>\n",
       "      <td>Voltage-gated T-type calcium channel alpha-1H ...</td>\n",
       "    </tr>\n",
       "    <tr>\n",
       "      <th>836</th>\n",
       "      <td>Voltage-gated calcium channel alpha2/delta sub...</td>\n",
       "    </tr>\n",
       "    <tr>\n",
       "      <th>837</th>\n",
       "      <td>Voltage-gated potassium channel subunit Kv1.3</td>\n",
       "    </tr>\n",
       "    <tr>\n",
       "      <th>838</th>\n",
       "      <td>Voltage-gated potassium channel subunit Kv1.5</td>\n",
       "    </tr>\n",
       "    <tr>\n",
       "      <th>839</th>\n",
       "      <td>X-box-binding protein 1</td>\n",
       "    </tr>\n",
       "    <tr>\n",
       "      <th>840</th>\n",
       "      <td>Xanthine dehydrogenase</td>\n",
       "    </tr>\n",
       "    <tr>\n",
       "      <th>841</th>\n",
       "      <td>Zinc finger protein GLI1</td>\n",
       "    </tr>\n",
       "    <tr>\n",
       "      <th>842</th>\n",
       "      <td>c-Jun N-terminal kinase 1</td>\n",
       "    </tr>\n",
       "    <tr>\n",
       "      <th>843</th>\n",
       "      <td>c-Jun N-terminal kinase 2</td>\n",
       "    </tr>\n",
       "    <tr>\n",
       "      <th>844</th>\n",
       "      <td>c-Jun N-terminal kinase 3</td>\n",
       "    </tr>\n",
       "    <tr>\n",
       "      <th>845</th>\n",
       "      <td>cAMP and cAMP-inhibited cGMP 3',5'-cyclic phos...</td>\n",
       "    </tr>\n",
       "    <tr>\n",
       "      <th>846</th>\n",
       "      <td>cAMP-dependent protein kinase (PKA)</td>\n",
       "    </tr>\n",
       "    <tr>\n",
       "      <th>847</th>\n",
       "      <td>cAMP-dependent protein kinase alpha-catalytic ...</td>\n",
       "    </tr>\n",
       "    <tr>\n",
       "      <th>848</th>\n",
       "      <td>dCTP pyrophosphatase 1</td>\n",
       "    </tr>\n",
       "    <tr>\n",
       "      <th>849</th>\n",
       "      <td>dUTP pyrophosphatase</td>\n",
       "    </tr>\n",
       "    <tr>\n",
       "      <th>850</th>\n",
       "      <td>p53-binding protein Mdm-2</td>\n",
       "    </tr>\n",
       "  </tbody>\n",
       "</table>\n",
       "<p>851 rows × 1 columns</p>\n",
       "</div>"
      ],
      "text/plain": [
       "                                                     0\n",
       "0               11-beta-hydroxysteroid dehydrogenase 1\n",
       "1         15-hydroxyprostaglandin dehydrogenase [NAD+]\n",
       "2                   2-acylglycerol O-acyltransferase 2\n",
       "3        3-phosphoinositide dependent protein kinase-1\n",
       "4                    5-lipoxygenase activating protein\n",
       "5    6-phosphofructo-2-kinase/fructose-2,6-bisphosp...\n",
       "6                                               ADAM17\n",
       "7                                              ADAMTS4\n",
       "8                                              ADAMTS5\n",
       "9                         ALK tyrosine kinase receptor\n",
       "10                  AMP-activated protein kinase, AMPK\n",
       "11       AMP-activated protein kinase, alpha-1 subunit\n",
       "12          ATP-binding cassette sub-family G member 2\n",
       "13                       ATP-dependent DNA helicase Q1\n",
       "14   ATP-sensitive inward rectifier potassium chann...\n",
       "15                            Acetyl-CoA carboxylase 1\n",
       "16                            Acetyl-CoA carboxylase 2\n",
       "17                                Acetylcholinesterase\n",
       "18                             Activin receptor type-1\n",
       "19         Acyl coenzyme A:cholesterol acyltransferase\n",
       "20       Acyl coenzyme A:cholesterol acyltransferase 1\n",
       "21                                 Acyl-CoA desaturase\n",
       "22                               Acyl-CoA desaturase 1\n",
       "23                               Adenosine A1 receptor\n",
       "24                               Adenosine A2 receptor\n",
       "25                              Adenosine A2a receptor\n",
       "26                              Adenosine A2b receptor\n",
       "27                               Adenosine A3 receptor\n",
       "28                                    Adenosine kinase\n",
       "29                              Adenosylhomocysteinase\n",
       "..                                                 ...\n",
       "821      Vascular endothelial growth factor receptor 2\n",
       "822      Vascular endothelial growth factor receptor 3\n",
       "823                            Vasopressin V1 receptor\n",
       "824                           Vasopressin V1a receptor\n",
       "825                           Vasopressin V1b receptor\n",
       "826                            Vasopressin V2 receptor\n",
       "827                Vesicular acetylcholine transporter\n",
       "828                                 Vitamin D receptor\n",
       "829               Voltage-gated L-type calcium channel\n",
       "830  Voltage-gated L-type calcium channel alpha-1C ...\n",
       "831  Voltage-gated L-type calcium channel alpha-1D ...\n",
       "832  Voltage-gated N-type calcium channel alpha-1B ...\n",
       "833  Voltage-gated N-type calcium channel alpha-1B ...\n",
       "834  Voltage-gated T-type calcium channel alpha-1G ...\n",
       "835  Voltage-gated T-type calcium channel alpha-1H ...\n",
       "836  Voltage-gated calcium channel alpha2/delta sub...\n",
       "837      Voltage-gated potassium channel subunit Kv1.3\n",
       "838      Voltage-gated potassium channel subunit Kv1.5\n",
       "839                            X-box-binding protein 1\n",
       "840                             Xanthine dehydrogenase\n",
       "841                           Zinc finger protein GLI1\n",
       "842                          c-Jun N-terminal kinase 1\n",
       "843                          c-Jun N-terminal kinase 2\n",
       "844                          c-Jun N-terminal kinase 3\n",
       "845  cAMP and cAMP-inhibited cGMP 3',5'-cyclic phos...\n",
       "846                cAMP-dependent protein kinase (PKA)\n",
       "847  cAMP-dependent protein kinase alpha-catalytic ...\n",
       "848                             dCTP pyrophosphatase 1\n",
       "849                               dUTP pyrophosphatase\n",
       "850                          p53-binding protein Mdm-2\n",
       "\n",
       "[851 rows x 1 columns]"
      ]
     },
     "execution_count": 98,
     "metadata": {},
     "output_type": "execute_result"
    }
   ],
   "source": [
    "pd.read_csv('all_targets', header=None)"
   ]
  }
 ],
 "metadata": {
  "kernelspec": {
   "display_name": "Python 3",
   "language": "python",
   "name": "python3"
  },
  "language_info": {
   "codemirror_mode": {
    "name": "ipython",
    "version": 3
   },
   "file_extension": ".py",
   "mimetype": "text/x-python",
   "name": "python",
   "nbconvert_exporter": "python",
   "pygments_lexer": "ipython3",
   "version": "3.7.6"
  }
 },
 "nbformat": 4,
 "nbformat_minor": 2
}
