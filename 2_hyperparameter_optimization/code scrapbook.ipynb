{
 "cells": [
  {
   "cell_type": "code",
   "execution_count": 3,
   "metadata": {},
   "outputs": [],
   "source": [
    "import matplotlib.pyplot as plt\n",
    "from scipy.special import logit, expit\n",
    "from scipy.stats import gaussian_kde\n",
    "import numpy as np\n",
    "plt.style.use('seaborn')\n",
    "from statsmodels.distributions import ECDF\n",
    "\n",
    "from seaborn import kdeplot"
   ]
  },
  {
   "cell_type": "code",
   "execution_count": 4,
   "metadata": {},
   "outputs": [],
   "source": [
    "filenames = ['hpo_implicit_als.dat', 'hpo_implicit_bpr.dat',\n",
    "             'hpo_lightfm_warp.dat', 'hpo_lightfm_bpr.dat']"
   ]
  },
  {
   "cell_type": "code",
   "execution_count": 7,
   "metadata": {},
   "outputs": [],
   "source": [
    "for filename in filenames:\n",
    "    file = open(filename, 'r')\n",
    "    func_evals = list()\n",
    "    record=False\n",
    "    for line in file:\n",
    "        if record:\n",
    "            func_evals.append(float(line.strip('\\n').split()[-1]))\n",
    "        if 'All' in line:\n",
    "            record=True"
   ]
  },
  {
   "cell_type": "code",
   "execution_count": 5,
   "metadata": {},
   "outputs": [],
   "source": [
    "def plot_fig_label(ax, lab):\n",
    "    ax.text(0, 1.1, lab, transform=ax.transAxes,\n",
    "        fontsize=24, va='top', ha='left')\n",
    "\n",
    "def simple_bootstrap(data, fun=np.mean, n=1000, take = 350):\n",
    "    return fun(np.random.choice(data, size=(n,take)), axis=1)\n",
    "\n",
    "def simple_ci(data):\n",
    "    d_sorted = np.sort(data)\n",
    "    low = int(d_sorted.shape[0] // (1/0.025))\n",
    "    high = int(d_sorted.shape[0] // (1/0.975))\n",
    "    return (d_sorted[low], d_sorted[high])\n",
    "\n",
    "def simple_ecdf(ranks, maxrank):\n",
    "    x = np.arange(1, maxrank)\n",
    "    ecdf = [(ranks<=i).sum()/len(ranks) for i in x]\n",
    "    return x, ecdf\n",
    "\n",
    "def plot(nn=False):\n",
    "    fig, ax = plt.subplots(nrows=2, ncols=1)\n",
    "    fig.set_figheight(10)\n",
    "    fig.set_figwidth(7)\n",
    "    if nn:\n",
    "        nnranks = np.load('./processed_data/2015_nearest_neighbor.npy')\n",
    "        mask = nnranks>3\n",
    "\n",
    "    jits = np.linspace(0.35,4.4, 6)\n",
    "    np.random.shuffle(jits)\n",
    "    for count, name in enumerate(filenames):\n",
    "        #load\n",
    "        ranks = np.load('./processed_data/'+str(year)+'_'+name+'.npy')\n",
    "        if nn:\n",
    "            ranks = ranks[mask]\n",
    "\n",
    "        #analyse\n",
    "        bstrap = simple_bootstrap(ranks, take=len(ranks))\n",
    "        ci = simple_ci(bstrap)\n",
    "        x,y = simple_ecdf(ranks, 243)\n",
    "\n",
    "        #plot:\n",
    "        #A\n",
    "        ax[0].plot(x,y,'-o', mfc='white', mew=1.5, linewidth=1.5,label=name, c='C'+str(count))\n",
    "\n",
    "        #B\n",
    "        out = kdeplot(bstrap, ax=ax[1], shade=True, color='C'+str(count))\n",
    "        #jit = np.random.uniform()*3+1\n",
    "        jit = jits[count]\n",
    "        ax[1].plot([ci[0], ci[1]], [-jit,-jit], lw=5.5, c='C'+str(count),zorder=10)\n",
    "        ax[1].scatter([np.mean(ci)], [-jit],\n",
    "                       facecolor='white',\n",
    "                       edgecolor='C'+str(count),\n",
    "                       lw=3.5,\n",
    "                       zorder=20)\n",
    "\n",
    "    fsize = 14\n",
    "    ax[1].plot([0.3, 0.5], [1e6, 1e6], c='black', linewidth=3.5, label='95% CI')\n",
    "    ax[1].set_ylim(-5,25)\n",
    "    ax[1].set_xlim(-0.01, 0.6)\n",
    "    ax[1].legend()\n",
    "    ax[1].set_xlabel('p@3', fontsize=fsize)\n",
    "    ax[1].set_ylabel('Bootstrap density', fontsize=fsize)\n",
    "    yt = np.arange(-5,25, 5)\n",
    "    ax[1].set_yticks(yt)\n",
    "    ax[1].set_yticklabels(['' for i in yt])\n",
    "\n",
    "    plot_fig_label(ax[0], 'A.')\n",
    "    plot_fig_label(ax[1], 'B.')\n",
    "\n",
    "    ax[0].legend()\n",
    "    ax[0].set_xlim(0,20)\n",
    "    ax[0].set_xlabel('Rank', fontsize=fsize)\n",
    "    ax[0].set_ylabel('ECDF', fontsize=fsize)\n",
    "    xt = np.arange(1,20,2)\n",
    "    ax[0].set_xticks(xt)\n",
    "    ax[0].axvline(3, c='k', linestyle='--', zorder=1)\n",
    "    plt.tight_layout()\n",
    "\n",
    "    return fig, ax"
   ]
  },
  {
   "cell_type": "code",
   "execution_count": null,
   "metadata": {},
   "outputs": [],
   "source": []
  },
  {
   "cell_type": "code",
   "execution_count": null,
   "metadata": {},
   "outputs": [],
   "source": []
  },
  {
   "cell_type": "code",
   "execution_count": null,
   "metadata": {},
   "outputs": [],
   "source": []
  },
  {
   "cell_type": "code",
   "execution_count": null,
   "metadata": {},
   "outputs": [],
   "source": []
  },
  {
   "cell_type": "code",
   "execution_count": null,
   "metadata": {},
   "outputs": [],
   "source": []
  },
  {
   "cell_type": "code",
   "execution_count": null,
   "metadata": {},
   "outputs": [],
   "source": []
  },
  {
   "cell_type": "code",
   "execution_count": null,
   "metadata": {},
   "outputs": [],
   "source": []
  },
  {
   "cell_type": "code",
   "execution_count": null,
   "metadata": {},
   "outputs": [],
   "source": []
  },
  {
   "cell_type": "code",
   "execution_count": 43,
   "metadata": {
    "scrolled": true
   },
   "outputs": [],
   "source": [
    "#normal tools:\n",
    "from scipy import sparse\n",
    "import numpy as np\n",
    "import copy\n",
    "import sys\n",
    "sys.path.append(\"..\")\n",
    "import utils\n",
    "\n",
    "from scipy.stats.mstats import rankdata\n",
    "import matplotlib.pyplot as plt\n",
    "%matplotlib inline\n",
    "\n",
    "#learning library:\n",
    "import lightfm\n",
    "import implicit\n",
    "\n",
    "#skopt:\n",
    "from skopt.space import Real, Integer\n",
    "from skopt import Optimizer\n",
    "from sklearn.externals.joblib import Parallel, delayed\n",
    "from skopt.utils import use_named_args\n",
    "import skopt"
   ]
  },
  {
   "cell_type": "code",
   "execution_count": null,
   "metadata": {},
   "outputs": [],
   "source": [
    "#this performs multiple repeats of the test/train split, if desired:\n",
    "def bootstrap(params, interaction_matrix, algorithm_function, repeats):\n",
    "    results = list()\n",
    "    for _ in range(repeats):\n",
    "        #get a train/test split:\n",
    "        train, test = utils.train_test_split(interaction_matrix, 0.05)\n",
    "        #train matrix is used to train the model and make predictions:\n",
    "        pred_matrix = algorithm_function(params,train)\n",
    "        #test matrix is used to score the predictions:\n",
    "        results.append(utils.evaluate_predictions(pred_matrix, test, train).mean())\n",
    "    return np.mean(results)"
   ]
  },
  {
   "cell_type": "code",
   "execution_count": 2,
   "metadata": {},
   "outputs": [],
   "source": [
    "interaction_matrix = utils.load_subset()"
   ]
  },
  {
   "cell_type": "code",
   "execution_count": 3,
   "metadata": {},
   "outputs": [],
   "source": [
    "train, test = utils.train_test_split(interaction_matrix, 0.05)"
   ]
  },
  {
   "cell_type": "code",
   "execution_count": 6,
   "metadata": {},
   "outputs": [],
   "source": [
    "params = utils.read_params('hpo_implicit_bpr')\n",
    "\n",
    "preds = utils.train_implicit_bpr(params, train)"
   ]
  },
  {
   "cell_type": "code",
   "execution_count": 20,
   "metadata": {},
   "outputs": [],
   "source": [
    "predictions = copy.copy(preds)"
   ]
  },
  {
   "cell_type": "code",
   "execution_count": 21,
   "metadata": {},
   "outputs": [],
   "source": [
    "if isinstance(test, sparse.csr_matrix):\n",
    "    test = test.toarray()\n",
    "if isinstance(train, sparse.csr_matrix):\n",
    "    train = train.toarray()\n",
    "if isinstance(predictions, sparse.csr_matrix):\n",
    "    predictions = predictions.toarray()"
   ]
  },
  {
   "cell_type": "code",
   "execution_count": 26,
   "metadata": {},
   "outputs": [],
   "source": [
    "shift_true_pos = train*-10000*preds"
   ]
  },
  {
   "cell_type": "code",
   "execution_count": 28,
   "metadata": {},
   "outputs": [],
   "source": [
    "ranked = shift_true_pos.argsort(axis=0).argsort(axis=0)"
   ]
  },
  {
   "cell_type": "code",
   "execution_count": 32,
   "metadata": {},
   "outputs": [],
   "source": [
    "actual_ranks = ranked[test.astype(bool)]"
   ]
  },
  {
   "cell_type": "code",
   "execution_count": 33,
   "metadata": {},
   "outputs": [
    {
     "data": {
      "text/plain": [
       "<matplotlib.axes._subplots.AxesSubplot at 0x150ca79d0>"
      ]
     },
     "execution_count": 33,
     "metadata": {},
     "output_type": "execute_result"
    },
    {
     "data": {
      "image/png": "[encoded data removed]",
      "text/plain": [
       "<Figure size 432x288 with 1 Axes>"
      ]
     },
     "metadata": {
      "needs_background": "light"
     },
     "output_type": "display_data"
    }
   ],
   "source": [
    "from seaborn import kdeplot\n",
    "kdeplot(actual_ranks)"
   ]
  },
  {
   "cell_type": "code",
   "execution_count": 34,
   "metadata": {},
   "outputs": [],
   "source": [
    "#mask the known positives so they won't be calculated in the ranking:\n",
    "predictions = np.ma.masked_array(predictions, mask=train.astype(bool))"
   ]
  },
  {
   "cell_type": "code",
   "execution_count": 45,
   "metadata": {},
   "outputs": [
    {
     "name": "stdout",
     "output_type": "stream",
     "text": [
      "CPU times: user 7.12 s, sys: 148 ms, total: 7.27 s\n",
      "Wall time: 7.49 s\n"
     ]
    }
   ],
   "source": [
    "%%time\n",
    "prediction_ranks = rankdata(-predictions[:,:50], axis=0)"
   ]
  },
  {
   "cell_type": "code",
   "execution_count": 47,
   "metadata": {},
   "outputs": [
    {
     "data": {
      "text/plain": [
       "4.8"
      ]
     },
     "execution_count": 47,
     "metadata": {},
     "output_type": "execute_result"
    }
   ],
   "source": [
    "36*8 / 60"
   ]
  },
  {
   "cell_type": "code",
   "execution_count": 39,
   "metadata": {},
   "outputs": [],
   "source": [
    "test_ranks = prediction_ranks[test.astype(bool)]"
   ]
  },
  {
   "cell_type": "code",
   "execution_count": 48,
   "metadata": {},
   "outputs": [
    {
     "data": {
      "text/plain": [
       "1833.41115164148"
      ]
     },
     "execution_count": 48,
     "metadata": {},
     "output_type": "execute_result"
    }
   ],
   "source": [
    "np.mean(test_ranks)"
   ]
  },
  {
   "cell_type": "code",
   "execution_count": 49,
   "metadata": {},
   "outputs": [
    {
     "data": {
      "text/plain": [
       "429.0"
      ]
     },
     "execution_count": 49,
     "metadata": {},
     "output_type": "execute_result"
    }
   ],
   "source": [
    "np.median(test_ranks)"
   ]
  },
  {
   "cell_type": "code",
   "execution_count": 44,
   "metadata": {},
   "outputs": [
    {
     "data": {
      "text/plain": [
       "[<matplotlib.lines.Line2D at 0x1a0651090>]"
      ]
     },
     "execution_count": 44,
     "metadata": {},
     "output_type": "execute_result"
    },
    {
     "data": {
      "image/png": "[encoded data removed]",
      "text/plain": [
       "<Figure size 432x288 with 1 Axes>"
      ]
     },
     "metadata": {
      "needs_background": "light"
     },
     "output_type": "display_data"
    }
   ],
   "source": [
    "plt.plot([(test_ranks<i).sum() / len(test_ranks) for i in range(100)])"
   ]
  },
  {
   "cell_type": "code",
   "execution_count": 52,
   "metadata": {},
   "outputs": [
    {
     "data": {
      "text/plain": [
       "[<matplotlib.lines.Line2D at 0x149f3f710>]"
      ]
     },
     "execution_count": 52,
     "metadata": {},
     "output_type": "execute_result"
    },
    {
     "data": {
      "image/png": "[encoded data removed]",
      "text/plain": [
       "<Figure size 432x288 with 1 Axes>"
      ]
     },
     "metadata": {
      "needs_background": "light"
     },
     "output_type": "display_data"
    }
   ],
   "source": [
    "plt.plot([(test_ranks<i).sum()/242 for i in range(100)])"
   ]
  },
  {
   "cell_type": "code",
   "execution_count": 19,
   "metadata": {},
   "outputs": [
    {
     "data": {
      "text/plain": [
       "18"
      ]
     },
     "execution_count": 19,
     "metadata": {},
     "output_type": "execute_result"
    }
   ],
   "source": [
    "(test.sum(axis=0)==0)"
   ]
  },
  {
   "cell_type": "code",
   "execution_count": null,
   "metadata": {},
   "outputs": [],
   "source": [
    "row_mask = np.array(test.sum(axis=1)>0).reshape(-1,)\n",
    "test_masked = test[row_mask]\n",
    "get_ranks = test_masked.astype(bool)"
   ]
  },
  {
   "cell_type": "code",
   "execution_count": null,
   "metadata": {},
   "outputs": [],
   "source": [
    "#effect since the algo's are really good at ranking known positives highly.\n",
    "predictions = np.ma.masked_array(predictions[row_mask], mask=train[row_mask].astype(bool))\n",
    "#rankdata approach, which correctly handles ties and also thankgod can take masked arrays:\n",
    "prediction_ranks = rankdata(-predictions, axis=1)"
   ]
  },
  {
   "cell_type": "code",
   "execution_count": null,
   "metadata": {},
   "outputs": [],
   "source": [
    "all_test_ranks = prediction_ranks[get_ranks]\n",
    "return all_test_ranks"
   ]
  }
 ],
 "metadata": {
  "kernelspec": {
   "display_name": "Python 3",
   "language": "python",
   "name": "python3"
  },
  "language_info": {
   "codemirror_mode": {
    "name": "ipython",
    "version": 3
   },
   "file_extension": ".py",
   "mimetype": "text/x-python",
   "name": "python",
   "nbconvert_exporter": "python",
   "pygments_lexer": "ipython3",
   "version": "3.7.8"
  }
 },
 "nbformat": 4,
 "nbformat_minor": 4
}
