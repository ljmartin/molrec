{
 "cells": [
  {
   "cell_type": "code",
   "execution_count": 1,
   "metadata": {},
   "outputs": [],
   "source": [
    "import pandas as pd\n"
   ]
  },
  {
   "cell_type": "code",
   "execution_count": 282,
   "metadata": {},
   "outputs": [],
   "source": [
    "assays_long = pd.read_csv('assays_long.csv')"
   ]
  },
  {
   "cell_type": "code",
   "execution_count": 283,
   "metadata": {
    "scrolled": true
   },
   "outputs": [],
   "source": [
    "###Count up conditions using groupby:\n",
    "numActive = assays_long.groupby(['instance_id', 'pref_name']).apply( \n",
    "    lambda grouped_df: (grouped_df['outcome'].str.contains('Active').any())).values.sum()\n",
    "numInactive = assays_long.groupby(['instance_id', 'pref_name']).apply( \n",
    "    lambda grouped_df: (grouped_df['outcome'].str.contains('Inactive').any())).values.sum()\n",
    "\n",
    "numBoth = assays_long.groupby(['instance_id', 'pref_name']).apply( \n",
    "    lambda grouped_df: ((grouped_df['outcome'].str.contains('Inactive').any()) & \n",
    "                        (grouped_df['outcome'].str.contains('Active').any()))).values.sum()\n",
    "\n",
    "numNone = assays_long.groupby(['instance_id', 'pref_name']).apply( \n",
    "    lambda grouped_df: (~(grouped_df['outcome'].str.contains('Inactive').any()) & \n",
    "                        ~(grouped_df['outcome'].str.contains('Active').any()))).values.sum()"
   ]
  },
  {
   "cell_type": "code",
   "execution_count": 284,
   "metadata": {},
   "outputs": [],
   "source": [
    "###Or count up conditions the boring way:\n",
    "y=0\n",
    "n=0\n",
    "b=0\n",
    "neither=0\n",
    "instance_ids = assays_long.drop_duplicates(['instance_id', 'pref_name'])['instance_id']\n",
    "pref_names = assays_long.drop_duplicates(['instance_id', 'pref_name'])['pref_name']\n",
    "for i, name in zip(instance_ids, pref_names):\n",
    "    mask = (assays_long['pref_name']==name) & (assays_long['instance_id']==i)\n",
    "    group = assays_long[mask]\n",
    "    outcomes = list(group['outcome'])\n",
    "    if ('Active' in outcomes) and ('Inactive' in outcomes):\n",
    "        b+=1\n",
    "    elif ('Active' in outcomes):\n",
    "        y+=1\n",
    "    elif ('Inactive' in outcomes):\n",
    "        n+=1\n",
    "    else:\n",
    "        neither+=1\n",
    "        "
   ]
  },
  {
   "cell_type": "code",
   "execution_count": 285,
   "metadata": {},
   "outputs": [
    {
     "name": "stdout",
     "output_type": "stream",
     "text": [
      "Active: 146\n",
      "Inactive: 27\n",
      "Both: 8\n",
      "None: 359\n"
     ]
    }
   ],
   "source": [
    "#Verify both ways are the same:\n",
    "print(f'Active: {y}')\n",
    "print(f'Inactive: {n}')\n",
    "print(f'Both: {b}')\n",
    "print(f'None: {neither}')"
   ]
  },
  {
   "cell_type": "code",
   "execution_count": 286,
   "metadata": {},
   "outputs": [
    {
     "name": "stdout",
     "output_type": "stream",
     "text": [
      "Active: 146\n",
      "Inactive: 27\n",
      "Both: 8\n",
      "None: 359\n"
     ]
    }
   ],
   "source": [
    "#Both ways are the same:\n",
    "print(f'Active: {numActive-numBoth}')\n",
    "print(f'Inactive: {numInactive-numBoth}')\n",
    "print(f'Both: {numBoth}')\n",
    "print(f'None: {numNone}')"
   ]
  },
  {
   "cell_type": "code",
   "execution_count": 287,
   "metadata": {},
   "outputs": [
    {
     "data": {
      "text/html": [
       "<div>\n",
       "<style scoped>\n",
       "    .dataframe tbody tr th:only-of-type {\n",
       "        vertical-align: middle;\n",
       "    }\n",
       "\n",
       "    .dataframe tbody tr th {\n",
       "        vertical-align: top;\n",
       "    }\n",
       "\n",
       "    .dataframe thead th {\n",
       "        text-align: right;\n",
       "    }\n",
       "</style>\n",
       "<table border=\"1\" class=\"dataframe\">\n",
       "  <thead>\n",
       "    <tr style=\"text-align: right;\">\n",
       "      <th></th>\n",
       "      <th>results</th>\n",
       "      <th>activity</th>\n",
       "      <th>number</th>\n",
       "      <th>proportion</th>\n",
       "    </tr>\n",
       "  </thead>\n",
       "  <tbody>\n",
       "    <tr>\n",
       "      <th>0</th>\n",
       "      <td>Results</td>\n",
       "      <td>Active</td>\n",
       "      <td>154</td>\n",
       "      <td>0.276978</td>\n",
       "    </tr>\n",
       "    <tr>\n",
       "      <th>1</th>\n",
       "      <td>Results</td>\n",
       "      <td>Inactive</td>\n",
       "      <td>35</td>\n",
       "      <td>0.0629496</td>\n",
       "    </tr>\n",
       "    <tr>\n",
       "      <th>2</th>\n",
       "      <td>Results</td>\n",
       "      <td>Both</td>\n",
       "      <td>8</td>\n",
       "      <td>0.0143885</td>\n",
       "    </tr>\n",
       "    <tr>\n",
       "      <th>3</th>\n",
       "      <td>Results</td>\n",
       "      <td>Unknown</td>\n",
       "      <td>359</td>\n",
       "      <td>0.645683</td>\n",
       "    </tr>\n",
       "  </tbody>\n",
       "</table>\n",
       "</div>"
      ],
      "text/plain": [
       "   results  activity number proportion\n",
       "0  Results    Active    154   0.276978\n",
       "1  Results  Inactive     35  0.0629496\n",
       "2  Results      Both      8  0.0143885\n",
       "3  Results   Unknown    359   0.645683"
      ]
     },
     "execution_count": 287,
     "metadata": {},
     "output_type": "execute_result"
    }
   ],
   "source": [
    "df = pd.DataFrame(columns=['results','activity', 'number'])\n",
    "df.loc[0]=['Results', 'Active', numActive]\n",
    "df.loc[1]=['Results', 'Inactive', numInactive]\n",
    "df.loc[2]=['Results', 'Both', numBoth]\n",
    "df.loc[3]=['Results', 'Unknown', numNone ]\n",
    "df['proportion'] = df['number']/df['number'].sum()\n",
    "df"
   ]
  },
  {
   "cell_type": "code",
   "execution_count": null,
   "metadata": {},
   "outputs": [],
   "source": []
  },
  {
   "cell_type": "code",
   "execution_count": 288,
   "metadata": {},
   "outputs": [
    {
     "data": {
      "text/html": [
       "\n",
       "<div id=\"altair-viz-0deab766a62d49068f0d28adb7ceab14\"></div>\n",
       "<script type=\"text/javascript\">\n",
       "  (function(spec, embedOpt){\n",
       "    let outputDiv = document.currentScript.previousElementSibling;\n",
       "    if (outputDiv.id !== \"altair-viz-0deab766a62d49068f0d28adb7ceab14\") {\n",
       "      outputDiv = document.getElementById(\"altair-viz-0deab766a62d49068f0d28adb7ceab14\");\n",
       "    }\n",
       "    const paths = {\n",
       "      \"vega\": \"https://cdn.jsdelivr.net/npm//vega@5?noext\",\n",
       "      \"vega-lib\": \"https://cdn.jsdelivr.net/npm//vega-lib?noext\",\n",
       "      \"vega-lite\": \"https://cdn.jsdelivr.net/npm//vega-lite@4.8.1?noext\",\n",
       "      \"vega-embed\": \"https://cdn.jsdelivr.net/npm//vega-embed@6?noext\",\n",
       "    };\n",
       "\n",
       "    function loadScript(lib) {\n",
       "      return new Promise(function(resolve, reject) {\n",
       "        var s = document.createElement('script');\n",
       "        s.src = paths[lib];\n",
       "        s.async = true;\n",
       "        s.onload = () => resolve(paths[lib]);\n",
       "        s.onerror = () => reject(`Error loading script: ${paths[lib]}`);\n",
       "        document.getElementsByTagName(\"head\")[0].appendChild(s);\n",
       "      });\n",
       "    }\n",
       "\n",
       "    function showError(err) {\n",
       "      outputDiv.innerHTML = `<div class=\"error\" style=\"color:red;\">${err}</div>`;\n",
       "      throw err;\n",
       "    }\n",
       "\n",
       "    function displayChart(vegaEmbed) {\n",
       "      vegaEmbed(outputDiv, spec, embedOpt)\n",
       "        .catch(err => showError(`Javascript Error: ${err.message}<br>This usually means there's a typo in your chart specification. See the javascript console for the full traceback.`));\n",
       "    }\n",
       "\n",
       "    if(typeof define === \"function\" && define.amd) {\n",
       "      requirejs.config({paths});\n",
       "      require([\"vega-embed\"], displayChart, err => showError(`Error loading script: ${err.message}`));\n",
       "    } else if (typeof vegaEmbed === \"function\") {\n",
       "      displayChart(vegaEmbed);\n",
       "    } else {\n",
       "      loadScript(\"vega\")\n",
       "        .then(() => loadScript(\"vega-lite\"))\n",
       "        .then(() => loadScript(\"vega-embed\"))\n",
       "        .catch(showError)\n",
       "        .then(() => displayChart(vegaEmbed));\n",
       "    }\n",
       "  })({\"config\": {\"view\": {\"continuousWidth\": 400, \"continuousHeight\": 300}}, \"vconcat\": [{\"data\": {\"name\": \"data-db9936f7aa2e5b3dc28e2966254e7c8b\"}, \"mark\": \"bar\", \"encoding\": {\"color\": {\"condition\": {\"type\": \"nominal\", \"field\": \"activity\", \"selection\": \"selector004\"}, \"value\": \"lightgray\"}, \"order\": {\"type\": \"nominal\", \"field\": \"activity\", \"sort\": \"ascending\"}, \"x\": {\"type\": \"quantitative\", \"field\": \"PercentOfTotal\"}, \"y\": {\"type\": \"nominal\", \"field\": \"results\"}}, \"selection\": {\"selector004\": {\"type\": \"single\", \"encodings\": [\"x\", \"color\"]}}, \"transform\": [{\"joinaggregate\": [{\"op\": \"sum\", \"field\": \"number\", \"as\": \"Total\"}]}, {\"calculate\": \"datum.number / datum.Total\", \"as\": \"PercentOfTotal\"}]}, {\"data\": {\"name\": \"data-a6ab826c077c4643d440a9a496a699b3\"}, \"mark\": \"bar\", \"encoding\": {\"color\": {\"condition\": {\"type\": \"nominal\", \"field\": \"activity\", \"selection\": \"selector004\"}, \"value\": \"lightgray\"}, \"order\": {\"type\": \"nominal\", \"field\": \"activity\", \"sort\": \"ascending\"}, \"x\": {\"type\": \"quantitative\", \"field\": \"PercentOfTotal\"}, \"y\": {\"type\": \"nominal\", \"field\": \"results\"}}, \"selection\": {\"selector004\": {\"type\": \"single\", \"encodings\": [\"x\", \"color\"]}}, \"transform\": [{\"joinaggregate\": [{\"op\": \"sum\", \"field\": \"number\", \"as\": \"Total\"}]}, {\"calculate\": \"datum.number / datum.Total\", \"as\": \"PercentOfTotal\"}]}], \"$schema\": \"https://vega.github.io/schema/vega-lite/v4.8.1.json\", \"datasets\": {\"data-db9936f7aa2e5b3dc28e2966254e7c8b\": [{\"results\": \"Results\", \"activity\": \"Active\", \"number\": 154, \"proportion\": 0.27697841726618705}, {\"results\": \"Results\", \"activity\": \"Inactive\", \"number\": 35, \"proportion\": 0.06294964028776978}, {\"results\": \"Results\", \"activity\": \"Both\", \"number\": 8, \"proportion\": 0.014388489208633094}, {\"results\": \"Results\", \"activity\": \"Unknown\", \"number\": 359, \"proportion\": 0.64568345323741}], \"data-a6ab826c077c4643d440a9a496a699b3\": [{\"results\": \"Results\", \"activity\": \"Active\", \"number\": 154, \"proportion\": 0.27697841726618705}, {\"results\": \"Results\", \"activity\": \"Inactive\", \"number\": 35, \"proportion\": 0.06294964028776978}, {\"results\": \"Results\", \"activity\": \"Both\", \"number\": 8, \"proportion\": 0.014388489208633094}]}}, {\"mode\": \"vega-lite\"});\n",
       "</script>"
      ],
      "text/plain": [
       "alt.VConcatChart(...)"
      ]
     },
     "execution_count": 288,
     "metadata": {},
     "output_type": "execute_result"
    }
   ],
   "source": [
    "chart_one = alt.Chart(df).transform_joinaggregate(\n",
    "        Total='sum(number)'\n",
    "    ).transform_calculate(PercentOfTotal=\"datum.number / datum.Total\").mark_bar().encode(\n",
    "    x=alt.X('PercentOfTotal:Q'),#,sort='descending'),\n",
    "    y='results',\n",
    "    color=alt.condition(selector, 'activity', alt.value('lightgray')),\n",
    "    order=alt.Order('activity', sort='ascending')\n",
    ").add_selection(\n",
    "    selector\n",
    ")\n",
    "\n",
    "chart_two = alt.Chart(df.iloc[:3]).transform_joinaggregate(\n",
    "        Total='sum(number)'\n",
    "    ).transform_calculate(PercentOfTotal=\"datum.number / datum.Total\").mark_bar().encode(\n",
    "    x=alt.X('PercentOfTotal:Q'),#,sort='descending'),\n",
    "    y='results',\n",
    "    color=alt.condition(selector, 'activity', alt.value('lightgray')),\n",
    "    order=alt.Order('activity', sort='ascending')\n",
    ").add_selection(\n",
    "    selector\n",
    ")\n",
    "\n",
    "chart_one&chart_two\n"
   ]
  },
  {
   "cell_type": "code",
   "execution_count": 274,
   "metadata": {},
   "outputs": [],
   "source": [
    "####Interactive version:\n",
    "# brush = alt.selection(type='interval', encodings=['x'])\n",
    "\n",
    "# base = alt.Chart(df).transform_joinaggregate(\n",
    "#         Total='sum(number)'\n",
    "#     ).transform_calculate(PercentOfTotal=\"datum.number / datum.Total\").mark_bar().encode(\n",
    "#     #x='number',\n",
    "#     x='PercentOfTotal:Q',\n",
    "#     y='results',\n",
    "#     color='activity')\n",
    "\n",
    "# upper = base.encode(\n",
    "#     alt.X('PercentOfTotal:Q', scale=alt.Scale(domain=brush)))\n",
    "\n",
    "# lower = base.add_selection(brush)\n",
    "\n",
    "# lower&upper \n"
   ]
  },
  {
   "cell_type": "code",
   "execution_count": null,
   "metadata": {},
   "outputs": [],
   "source": []
  }
 ],
 "metadata": {
  "kernelspec": {
   "display_name": "Python 3",
   "language": "python",
   "name": "python3"
  },
  "language_info": {
   "codemirror_mode": {
    "name": "ipython",
    "version": 3
   },
   "file_extension": ".py",
   "mimetype": "text/x-python",
   "name": "python",
   "nbconvert_exporter": "python",
   "pygments_lexer": "ipython3",
   "version": "3.7.6"
  }
 },
 "nbformat": 4,
 "nbformat_minor": 4
}
