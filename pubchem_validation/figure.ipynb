{
 "cells": [
  {
   "cell_type": "code",
   "execution_count": 289,
   "metadata": {},
   "outputs": [],
   "source": [
    "import pandas as pd\n"
   ]
  },
  {
   "cell_type": "code",
   "execution_count": 499,
   "metadata": {},
   "outputs": [],
   "source": [
    "assays_long = pd.read_csv('assays_long.csv')"
   ]
  },
  {
   "cell_type": "markdown",
   "metadata": {},
   "source": [
    "# Proportion stacked bar plot:"
   ]
  },
  {
   "cell_type": "code",
   "execution_count": 500,
   "metadata": {
    "scrolled": true
   },
   "outputs": [],
   "source": [
    "###Count up conditions using groupby:\n",
    "numActive = assays_long.groupby(['instance_id', 'pref_name']).apply( \n",
    "    lambda grouped_df: (grouped_df['outcome'].str.contains('Active').any())).values.sum()\n",
    "numInactive = assays_long.groupby(['instance_id', 'pref_name']).apply( \n",
    "    lambda grouped_df: (grouped_df['outcome'].str.contains('Inactive').any())).values.sum()\n",
    "\n",
    "numBoth = assays_long.groupby(['instance_id', 'pref_name']).apply( \n",
    "    lambda grouped_df: ((grouped_df['outcome'].str.contains('Inactive').any()) & \n",
    "                        (grouped_df['outcome'].str.contains('Active').any()))).values.sum()\n",
    "\n",
    "numNone = assays_long.groupby(['instance_id', 'pref_name']).apply( \n",
    "    lambda grouped_df: (~(grouped_df['outcome'].str.contains('Inactive').any()) & \n",
    "                        ~(grouped_df['outcome'].str.contains('Active').any()))).values.sum()"
   ]
  },
  {
   "cell_type": "code",
   "execution_count": 501,
   "metadata": {},
   "outputs": [],
   "source": [
    "###Or count up conditions the boring way:\n",
    "y=0\n",
    "n=0\n",
    "b=0\n",
    "neither=0\n",
    "instance_ids = assays_long.drop_duplicates(['instance_id', 'pref_name'])['instance_id']\n",
    "pref_names = assays_long.drop_duplicates(['instance_id', 'pref_name'])['pref_name']\n",
    "for i, name in zip(instance_ids, pref_names):\n",
    "    mask = (assays_long['pref_name']==name) & (assays_long['instance_id']==i)\n",
    "    group = assays_long[mask]\n",
    "    outcomes = list(group['outcome'])\n",
    "    if ('Active' in outcomes) and ('Inactive' in outcomes):\n",
    "        b+=1\n",
    "    elif ('Active' in outcomes):\n",
    "        y+=1\n",
    "    elif ('Inactive' in outcomes):\n",
    "        n+=1\n",
    "    else:\n",
    "        neither+=1\n",
    "        "
   ]
  },
  {
   "cell_type": "code",
   "execution_count": 502,
   "metadata": {},
   "outputs": [
    {
     "data": {
      "text/plain": [
       "667"
      ]
     },
     "execution_count": 502,
     "metadata": {},
     "output_type": "execute_result"
    }
   ],
   "source": [
    "assays_long.groupby(['instance_id', 'pref_name']).apply( \n",
    "    lambda grouped_df: (~(grouped_df['outcome'].str.contains('Inactive').any()) & \n",
    "                        ~(grouped_df['outcome'].str.contains('Active').any()))).values.sum()"
   ]
  },
  {
   "cell_type": "code",
   "execution_count": null,
   "metadata": {},
   "outputs": [],
   "source": []
  },
  {
   "cell_type": "code",
   "execution_count": 503,
   "metadata": {},
   "outputs": [
    {
     "name": "stdout",
     "output_type": "stream",
     "text": [
      "Active: 288\n",
      "Inactive: 45\n",
      "Both: 12\n",
      "None: 667\n"
     ]
    }
   ],
   "source": [
    "#Verify both ways are the same:\n",
    "print(f'Active: {y}')\n",
    "print(f'Inactive: {n}')\n",
    "print(f'Both: {b}')\n",
    "print(f'None: {neither}')"
   ]
  },
  {
   "cell_type": "code",
   "execution_count": 504,
   "metadata": {},
   "outputs": [
    {
     "name": "stdout",
     "output_type": "stream",
     "text": [
      "Active: 288\n",
      "Inactive: 45\n",
      "Both: 12\n",
      "None: 667\n"
     ]
    }
   ],
   "source": [
    "#Both ways are the same:\n",
    "print(f'Active: {numActive-numBoth}')\n",
    "print(f'Inactive: {numInactive-numBoth}')\n",
    "print(f'Both: {numBoth}')\n",
    "print(f'None: {numNone}')"
   ]
  },
  {
   "cell_type": "code",
   "execution_count": 505,
   "metadata": {},
   "outputs": [
    {
     "data": {
      "text/html": [
       "<div>\n",
       "<style scoped>\n",
       "    .dataframe tbody tr th:only-of-type {\n",
       "        vertical-align: middle;\n",
       "    }\n",
       "\n",
       "    .dataframe tbody tr th {\n",
       "        vertical-align: top;\n",
       "    }\n",
       "\n",
       "    .dataframe thead th {\n",
       "        text-align: right;\n",
       "    }\n",
       "</style>\n",
       "<table border=\"1\" class=\"dataframe\">\n",
       "  <thead>\n",
       "    <tr style=\"text-align: right;\">\n",
       "      <th></th>\n",
       "      <th>results</th>\n",
       "      <th>activity</th>\n",
       "      <th>number</th>\n",
       "      <th>proportion</th>\n",
       "    </tr>\n",
       "  </thead>\n",
       "  <tbody>\n",
       "    <tr>\n",
       "      <th>0</th>\n",
       "      <td>Results</td>\n",
       "      <td>Active</td>\n",
       "      <td>300</td>\n",
       "      <td>0.289575</td>\n",
       "    </tr>\n",
       "    <tr>\n",
       "      <th>1</th>\n",
       "      <td>Results</td>\n",
       "      <td>Inactive</td>\n",
       "      <td>57</td>\n",
       "      <td>0.0550193</td>\n",
       "    </tr>\n",
       "    <tr>\n",
       "      <th>2</th>\n",
       "      <td>Results</td>\n",
       "      <td>Both</td>\n",
       "      <td>12</td>\n",
       "      <td>0.011583</td>\n",
       "    </tr>\n",
       "    <tr>\n",
       "      <th>3</th>\n",
       "      <td>Results</td>\n",
       "      <td>Unknown</td>\n",
       "      <td>667</td>\n",
       "      <td>0.643822</td>\n",
       "    </tr>\n",
       "  </tbody>\n",
       "</table>\n",
       "</div>"
      ],
      "text/plain": [
       "   results  activity number proportion\n",
       "0  Results    Active    300   0.289575\n",
       "1  Results  Inactive     57  0.0550193\n",
       "2  Results      Both     12   0.011583\n",
       "3  Results   Unknown    667   0.643822"
      ]
     },
     "execution_count": 505,
     "metadata": {},
     "output_type": "execute_result"
    }
   ],
   "source": [
    "df = pd.DataFrame(columns=['results','activity', 'number'])\n",
    "df.loc[0]=['Results', 'Active', numActive]\n",
    "df.loc[1]=['Results', 'Inactive', numInactive]\n",
    "df.loc[2]=['Results', 'Both', numBoth]\n",
    "df.loc[3]=['Results', 'Unknown', numNone ]\n",
    "df['proportion'] = df['number']/df['number'].sum()\n",
    "df"
   ]
  },
  {
   "cell_type": "code",
   "execution_count": null,
   "metadata": {},
   "outputs": [],
   "source": []
  },
  {
   "cell_type": "code",
   "execution_count": 506,
   "metadata": {},
   "outputs": [
    {
     "data": {
      "text/html": [
       "\n",
       "<div id=\"altair-viz-204279a4813b4616b7b7ba94e56c86c1\"></div>\n",
       "<script type=\"text/javascript\">\n",
       "  (function(spec, embedOpt){\n",
       "    let outputDiv = document.currentScript.previousElementSibling;\n",
       "    if (outputDiv.id !== \"altair-viz-204279a4813b4616b7b7ba94e56c86c1\") {\n",
       "      outputDiv = document.getElementById(\"altair-viz-204279a4813b4616b7b7ba94e56c86c1\");\n",
       "    }\n",
       "    const paths = {\n",
       "      \"vega\": \"https://cdn.jsdelivr.net/npm//vega@5?noext\",\n",
       "      \"vega-lib\": \"https://cdn.jsdelivr.net/npm//vega-lib?noext\",\n",
       "      \"vega-lite\": \"https://cdn.jsdelivr.net/npm//vega-lite@4.8.1?noext\",\n",
       "      \"vega-embed\": \"https://cdn.jsdelivr.net/npm//vega-embed@6?noext\",\n",
       "    };\n",
       "\n",
       "    function loadScript(lib) {\n",
       "      return new Promise(function(resolve, reject) {\n",
       "        var s = document.createElement('script');\n",
       "        s.src = paths[lib];\n",
       "        s.async = true;\n",
       "        s.onload = () => resolve(paths[lib]);\n",
       "        s.onerror = () => reject(`Error loading script: ${paths[lib]}`);\n",
       "        document.getElementsByTagName(\"head\")[0].appendChild(s);\n",
       "      });\n",
       "    }\n",
       "\n",
       "    function showError(err) {\n",
       "      outputDiv.innerHTML = `<div class=\"error\" style=\"color:red;\">${err}</div>`;\n",
       "      throw err;\n",
       "    }\n",
       "\n",
       "    function displayChart(vegaEmbed) {\n",
       "      vegaEmbed(outputDiv, spec, embedOpt)\n",
       "        .catch(err => showError(`Javascript Error: ${err.message}<br>This usually means there's a typo in your chart specification. See the javascript console for the full traceback.`));\n",
       "    }\n",
       "\n",
       "    if(typeof define === \"function\" && define.amd) {\n",
       "      requirejs.config({paths});\n",
       "      require([\"vega-embed\"], displayChart, err => showError(`Error loading script: ${err.message}`));\n",
       "    } else if (typeof vegaEmbed === \"function\") {\n",
       "      displayChart(vegaEmbed);\n",
       "    } else {\n",
       "      loadScript(\"vega\")\n",
       "        .then(() => loadScript(\"vega-lite\"))\n",
       "        .then(() => loadScript(\"vega-embed\"))\n",
       "        .catch(showError)\n",
       "        .then(() => displayChart(vegaEmbed));\n",
       "    }\n",
       "  })({\"config\": {\"view\": {\"continuousWidth\": 400, \"continuousHeight\": 300}}, \"vconcat\": [{\"data\": {\"name\": \"data-c8ff6c75327497d556bdd6eac04ede2a\"}, \"mark\": \"bar\", \"encoding\": {\"color\": {\"type\": \"nominal\", \"field\": \"activity\", \"title\": \"Activity type\"}, \"order\": {\"type\": \"nominal\", \"field\": \"activity\", \"sort\": \"ascending\"}, \"x\": {\"type\": \"quantitative\", \"field\": \"PercentOfTotal\"}, \"y\": {\"type\": \"nominal\", \"field\": \"results\", \"title\": \"\"}}, \"selection\": {\"selector004\": {\"type\": \"single\", \"encodings\": [\"x\", \"color\"]}}, \"transform\": [{\"joinaggregate\": [{\"op\": \"sum\", \"field\": \"number\", \"as\": \"Total\"}]}, {\"calculate\": \"datum.number / datum.Total\", \"as\": \"PercentOfTotal\"}]}, {\"data\": {\"name\": \"data-0e01c610e98ef8316865033c1a21eb8a\"}, \"mark\": \"bar\", \"encoding\": {\"color\": {\"type\": \"nominal\", \"field\": \"activity\", \"title\": \"Activity type\"}, \"order\": {\"type\": \"nominal\", \"field\": \"activity\", \"sort\": \"ascending\"}, \"x\": {\"type\": \"quantitative\", \"field\": \"PercentOfTotal\"}, \"y\": {\"type\": \"nominal\", \"field\": \"results\", \"title\": \"\"}}, \"selection\": {\"selector004\": {\"type\": \"single\", \"encodings\": [\"x\", \"color\"]}}, \"transform\": [{\"joinaggregate\": [{\"op\": \"sum\", \"field\": \"number\", \"as\": \"Total\"}]}, {\"calculate\": \"datum.number / datum.Total\", \"as\": \"PercentOfTotal\"}]}], \"$schema\": \"https://vega.github.io/schema/vega-lite/v4.8.1.json\", \"datasets\": {\"data-c8ff6c75327497d556bdd6eac04ede2a\": [{\"results\": \"Results\", \"activity\": \"Active\", \"number\": 300, \"proportion\": 0.28957528957528955}, {\"results\": \"Results\", \"activity\": \"Inactive\", \"number\": 57, \"proportion\": 0.05501930501930502}, {\"results\": \"Results\", \"activity\": \"Both\", \"number\": 12, \"proportion\": 0.011583011583011582}, {\"results\": \"Results\", \"activity\": \"Unknown\", \"number\": 667, \"proportion\": 0.6438223938223938}], \"data-0e01c610e98ef8316865033c1a21eb8a\": [{\"results\": \"Results\", \"activity\": \"Active\", \"number\": 300, \"proportion\": 0.28957528957528955}, {\"results\": \"Results\", \"activity\": \"Inactive\", \"number\": 57, \"proportion\": 0.05501930501930502}, {\"results\": \"Results\", \"activity\": \"Both\", \"number\": 12, \"proportion\": 0.011583011583011582}]}}, {\"mode\": \"vega-lite\"});\n",
       "</script>"
      ],
      "text/plain": [
       "alt.VConcatChart(...)"
      ]
     },
     "execution_count": 506,
     "metadata": {},
     "output_type": "execute_result"
    }
   ],
   "source": [
    "chart_one = alt.Chart(df).transform_joinaggregate(\n",
    "        Total='sum(number)'\n",
    "    ).transform_calculate(PercentOfTotal=\"datum.number / datum.Total\").mark_bar().encode(\n",
    "    x=alt.X('PercentOfTotal:Q'),#,sort='descending'),\n",
    "    y=alt.Y('results', title=''),\n",
    "    color=alt.Color('activity', title='Activity type'),\n",
    "    order=alt.Order('activity', sort='ascending')\n",
    ").add_selection(\n",
    "    selector\n",
    ")\n",
    "\n",
    "chart_two = alt.Chart(df.iloc[:3]).transform_joinaggregate(\n",
    "        Total='sum(number)'\n",
    "    ).transform_calculate(PercentOfTotal=\"datum.number / datum.Total\").mark_bar().encode(\n",
    "    x=alt.X('PercentOfTotal:Q'),#,sort='descending'),\n",
    "    y=alt.Y('results', title=''),\n",
    "    color=alt.Color('activity', title='Activity type'),\n",
    "    order=alt.Order('activity', sort='ascending')\n",
    ").add_selection(\n",
    "    selector\n",
    ")\n",
    "\n",
    "chart_one&chart_two\n"
   ]
  },
  {
   "cell_type": "code",
   "execution_count": 507,
   "metadata": {},
   "outputs": [],
   "source": [
    "####Interactive version:\n",
    "# brush = alt.selection(type='interval', encodings=['x'])\n",
    "\n",
    "# base = alt.Chart(df).transform_joinaggregate(\n",
    "#         Total='sum(number)'\n",
    "#     ).transform_calculate(PercentOfTotal=\"datum.number / datum.Total\").mark_bar().encode(\n",
    "#     #x='number',\n",
    "#     x='PercentOfTotal:Q',\n",
    "#     y='results',\n",
    "#     color='activity')\n",
    "\n",
    "# upper = base.encode(\n",
    "#     alt.X('PercentOfTotal:Q', scale=alt.Scale(domain=brush)))\n",
    "\n",
    "# lower = base.add_selection(brush)\n",
    "\n",
    "# lower&upper \n"
   ]
  },
  {
   "cell_type": "markdown",
   "metadata": {},
   "source": [
    "# Target type barplot:\n"
   ]
  },
  {
   "cell_type": "code",
   "execution_count": 508,
   "metadata": {},
   "outputs": [],
   "source": [
    "out = assays_long.groupby(['instance_id', 'pref_name']).apply( \n",
    "    lambda grouped_df: (~(grouped_df['outcome'].str.contains('Inactive').any()) & \n",
    "                        (grouped_df['outcome'].str.contains('Active').any())))\n",
    "\n",
    "positive_targets=[i[1] for i, v in zip(out.index, out.values) if v==True]\n",
    "all_pos_targets = pd.DataFrame(out[out==True]).reset_index().drop([0],axis=1)\n",
    "pos_targets_gb= all_pos_targets.groupby(['pref_name']).count().reset_index().sort_values(by='instance_id', ascending=False)\n",
    "pos_targets_gb.columns=['pref_name', 'count']"
   ]
  },
  {
   "cell_type": "code",
   "execution_count": 509,
   "metadata": {},
   "outputs": [],
   "source": [
    "##Do the count aggregation within altair. \n",
    "##Can't figure out how to get it ordered by 'count' for some reason.\n",
    "chart = alt.Chart(all_pos_targets).mark_bar()\n",
    "\n",
    "chart = chart.encode(\n",
    "    x = alt.X('pref_name', sort='-y'),\n",
    "    y = alt.Y('count()'), \n",
    ")#.configure_axisBottom(labelAngle=-45)"
   ]
  },
  {
   "cell_type": "code",
   "execution_count": 510,
   "metadata": {},
   "outputs": [
    {
     "data": {
      "text/html": [
       "\n",
       "<div id=\"altair-viz-52811016e8444f02a83343050905b117\"></div>\n",
       "<script type=\"text/javascript\">\n",
       "  (function(spec, embedOpt){\n",
       "    let outputDiv = document.currentScript.previousElementSibling;\n",
       "    if (outputDiv.id !== \"altair-viz-52811016e8444f02a83343050905b117\") {\n",
       "      outputDiv = document.getElementById(\"altair-viz-52811016e8444f02a83343050905b117\");\n",
       "    }\n",
       "    const paths = {\n",
       "      \"vega\": \"https://cdn.jsdelivr.net/npm//vega@5?noext\",\n",
       "      \"vega-lib\": \"https://cdn.jsdelivr.net/npm//vega-lib?noext\",\n",
       "      \"vega-lite\": \"https://cdn.jsdelivr.net/npm//vega-lite@4.8.1?noext\",\n",
       "      \"vega-embed\": \"https://cdn.jsdelivr.net/npm//vega-embed@6?noext\",\n",
       "    };\n",
       "\n",
       "    function loadScript(lib) {\n",
       "      return new Promise(function(resolve, reject) {\n",
       "        var s = document.createElement('script');\n",
       "        s.src = paths[lib];\n",
       "        s.async = true;\n",
       "        s.onload = () => resolve(paths[lib]);\n",
       "        s.onerror = () => reject(`Error loading script: ${paths[lib]}`);\n",
       "        document.getElementsByTagName(\"head\")[0].appendChild(s);\n",
       "      });\n",
       "    }\n",
       "\n",
       "    function showError(err) {\n",
       "      outputDiv.innerHTML = `<div class=\"error\" style=\"color:red;\">${err}</div>`;\n",
       "      throw err;\n",
       "    }\n",
       "\n",
       "    function displayChart(vegaEmbed) {\n",
       "      vegaEmbed(outputDiv, spec, embedOpt)\n",
       "        .catch(err => showError(`Javascript Error: ${err.message}<br>This usually means there's a typo in your chart specification. See the javascript console for the full traceback.`));\n",
       "    }\n",
       "\n",
       "    if(typeof define === \"function\" && define.amd) {\n",
       "      requirejs.config({paths});\n",
       "      require([\"vega-embed\"], displayChart, err => showError(`Error loading script: ${err.message}`));\n",
       "    } else if (typeof vegaEmbed === \"function\") {\n",
       "      displayChart(vegaEmbed);\n",
       "    } else {\n",
       "      loadScript(\"vega\")\n",
       "        .then(() => loadScript(\"vega-lite\"))\n",
       "        .then(() => loadScript(\"vega-embed\"))\n",
       "        .catch(showError)\n",
       "        .then(() => displayChart(vegaEmbed));\n",
       "    }\n",
       "  })({\"config\": {\"view\": {\"continuousWidth\": 400, \"continuousHeight\": 300}, \"axisBottom\": {\"labelAngle\": -45}}, \"vconcat\": [{\"data\": {\"name\": \"data-c8ff6c75327497d556bdd6eac04ede2a\"}, \"mark\": \"bar\", \"encoding\": {\"color\": {\"type\": \"nominal\", \"field\": \"activity\", \"title\": \"Activity type\"}, \"order\": {\"type\": \"nominal\", \"field\": \"activity\", \"sort\": \"ascending\"}, \"x\": {\"type\": \"quantitative\", \"field\": \"PercentOfTotal\"}, \"y\": {\"type\": \"nominal\", \"field\": \"results\", \"title\": \"\"}}, \"selection\": {\"selector004\": {\"type\": \"single\", \"encodings\": [\"x\", \"color\"]}}, \"transform\": [{\"joinaggregate\": [{\"op\": \"sum\", \"field\": \"number\", \"as\": \"Total\"}]}, {\"calculate\": \"datum.number / datum.Total\", \"as\": \"PercentOfTotal\"}]}, {\"data\": {\"name\": \"data-0e01c610e98ef8316865033c1a21eb8a\"}, \"mark\": \"bar\", \"encoding\": {\"color\": {\"type\": \"nominal\", \"field\": \"activity\", \"title\": \"Activity type\"}, \"order\": {\"type\": \"nominal\", \"field\": \"activity\", \"sort\": \"ascending\"}, \"x\": {\"type\": \"quantitative\", \"field\": \"PercentOfTotal\"}, \"y\": {\"type\": \"nominal\", \"field\": \"results\", \"title\": \"\"}}, \"selection\": {\"selector004\": {\"type\": \"single\", \"encodings\": [\"x\", \"color\"]}}, \"transform\": [{\"joinaggregate\": [{\"op\": \"sum\", \"field\": \"number\", \"as\": \"Total\"}]}, {\"calculate\": \"datum.number / datum.Total\", \"as\": \"PercentOfTotal\"}]}, {\"data\": {\"name\": \"data-481ac349d0155016f6a8738bf72ce08a\"}, \"mark\": \"bar\", \"encoding\": {\"x\": {\"type\": \"nominal\", \"field\": \"pref_name\", \"sort\": \"-y\"}, \"y\": {\"type\": \"quantitative\", \"aggregate\": \"count\"}}}], \"$schema\": \"https://vega.github.io/schema/vega-lite/v4.8.1.json\", \"datasets\": {\"data-c8ff6c75327497d556bdd6eac04ede2a\": [{\"results\": \"Results\", \"activity\": \"Active\", \"number\": 300, \"proportion\": 0.28957528957528955}, {\"results\": \"Results\", \"activity\": \"Inactive\", \"number\": 57, \"proportion\": 0.05501930501930502}, {\"results\": \"Results\", \"activity\": \"Both\", \"number\": 12, \"proportion\": 0.011583011583011582}, {\"results\": \"Results\", \"activity\": \"Unknown\", \"number\": 667, \"proportion\": 0.6438223938223938}], \"data-0e01c610e98ef8316865033c1a21eb8a\": [{\"results\": \"Results\", \"activity\": \"Active\", \"number\": 300, \"proportion\": 0.28957528957528955}, {\"results\": \"Results\", \"activity\": \"Inactive\", \"number\": 57, \"proportion\": 0.05501930501930502}, {\"results\": \"Results\", \"activity\": \"Both\", \"number\": 12, \"proportion\": 0.011583011583011582}], \"data-481ac349d0155016f6a8738bf72ce08a\": [{\"instance_id\": \"CHEMBL1081312\", \"pref_name\": \"Tyrosine-protein kinase receptor FLT3\"}, {\"instance_id\": \"CHEMBL1081484\", \"pref_name\": \"Tyrosine-protein kinase JAK2\"}, {\"instance_id\": \"CHEMBL1084546\", \"pref_name\": \"Macrophage colony stimulating factor receptor\"}, {\"instance_id\": \"CHEMBL1093358\", \"pref_name\": \"Histone deacetylase 1\"}, {\"instance_id\": \"CHEMBL1099212\", \"pref_name\": \"Serotonin transporter\"}, {\"instance_id\": \"CHEMBL1161700\", \"pref_name\": \"Carbonic anhydrase II\"}, {\"instance_id\": \"CHEMBL1172842\", \"pref_name\": \"Cytochrome P450 11B2\"}, {\"instance_id\": \"CHEMBL118\", \"pref_name\": \"Carbonic anhydrase I\"}, {\"instance_id\": \"CHEMBL1200739\", \"pref_name\": \"Carbonic anhydrase II\"}, {\"instance_id\": \"CHEMBL1241532\", \"pref_name\": \"Carbonic anhydrase I\"}, {\"instance_id\": \"CHEMBL1241772\", \"pref_name\": \"PI3-kinase p110-alpha subunit\"}, {\"instance_id\": \"CHEMBL1242025\", \"pref_name\": \"PI3-kinase p110-alpha subunit\"}, {\"instance_id\": \"CHEMBL1242030\", \"pref_name\": \"PI3-kinase p110-alpha subunit\"}, {\"instance_id\": \"CHEMBL1242794\", \"pref_name\": \"Carbonic anhydrase I\"}, {\"instance_id\": \"CHEMBL14060\", \"pref_name\": \"Carbonic anhydrase I\"}, {\"instance_id\": \"CHEMBL1440486\", \"pref_name\": \"Cytochrome P450 11B2\"}, {\"instance_id\": \"CHEMBL148169\", \"pref_name\": \"Matrix metalloproteinase 9\"}, {\"instance_id\": \"CHEMBL1556445\", \"pref_name\": \"Cytochrome P450 11B2\"}, {\"instance_id\": \"CHEMBL1644696\", \"pref_name\": \"Carbonic anhydrase II\"}, {\"instance_id\": \"CHEMBL1644697\", \"pref_name\": \"Carbonic anhydrase II\"}, {\"instance_id\": \"CHEMBL1644699\", \"pref_name\": \"Carbonic anhydrase II\"}, {\"instance_id\": \"CHEMBL1760160\", \"pref_name\": \"PI3-kinase p110-alpha subunit\"}, {\"instance_id\": \"CHEMBL176495\", \"pref_name\": \"Carbonic anhydrase I\"}, {\"instance_id\": \"CHEMBL1771212\", \"pref_name\": \"Matrix metalloproteinase-2\"}, {\"instance_id\": \"CHEMBL1801046\", \"pref_name\": \"Matrix metalloproteinase-2\"}, {\"instance_id\": \"CHEMBL1801052\", \"pref_name\": \"Matrix metalloproteinase-2\"}, {\"instance_id\": \"CHEMBL1801393\", \"pref_name\": \"Matrix metalloproteinase-2\"}, {\"instance_id\": \"CHEMBL1801429\", \"pref_name\": \"Matrix metalloproteinase-2\"}, {\"instance_id\": \"CHEMBL1801430\", \"pref_name\": \"Matrix metalloproteinase-2\"}, {\"instance_id\": \"CHEMBL180672\", \"pref_name\": \"Serotonin transporter\"}, {\"instance_id\": \"CHEMBL183419\", \"pref_name\": \"Carbonic anhydrase II\"}, {\"instance_id\": \"CHEMBL183460\", \"pref_name\": \"Serotonin 2c (5-HT2c) receptor\"}, {\"instance_id\": \"CHEMBL1910899\", \"pref_name\": \"Serine/threonine-protein kinase PIM2\"}, {\"instance_id\": \"CHEMBL1910902\", \"pref_name\": \"Serine/threonine-protein kinase PIM2\"}, {\"instance_id\": \"CHEMBL1910905\", \"pref_name\": \"Serine/threonine-protein kinase PIM2\"}, {\"instance_id\": \"CHEMBL1910907\", \"pref_name\": \"Serine/threonine-protein kinase PIM1\"}, {\"instance_id\": \"CHEMBL1910908\", \"pref_name\": \"Serine/threonine-protein kinase PIM1\"}, {\"instance_id\": \"CHEMBL1910909\", \"pref_name\": \"Serine/threonine-protein kinase PIM1\"}, {\"instance_id\": \"CHEMBL1910910\", \"pref_name\": \"Serine/threonine-protein kinase PIM1\"}, {\"instance_id\": \"CHEMBL1910911\", \"pref_name\": \"Serine/threonine-protein kinase PIM1\"}, {\"instance_id\": \"CHEMBL1910912\", \"pref_name\": \"Serine/threonine-protein kinase PIM1\"}, {\"instance_id\": \"CHEMBL1910913\", \"pref_name\": \"Serine/threonine-protein kinase PIM1\"}, {\"instance_id\": \"CHEMBL1910914\", \"pref_name\": \"Serine/threonine-protein kinase PIM1\"}, {\"instance_id\": \"CHEMBL1910915\", \"pref_name\": \"Serine/threonine-protein kinase PIM1\"}, {\"instance_id\": \"CHEMBL191384\", \"pref_name\": \"Serine/threonine-protein kinase PIM2\"}, {\"instance_id\": \"CHEMBL196871\", \"pref_name\": \"Carbonic anhydrase I\"}, {\"instance_id\": \"CHEMBL1973540\", \"pref_name\": \"Cyclin-dependent kinase 2\"}, {\"instance_id\": \"CHEMBL1997617\", \"pref_name\": \"Tyrosine-protein kinase LCK\"}, {\"instance_id\": \"CHEMBL2011240\", \"pref_name\": \"Cytochrome P450 11B2\"}, {\"instance_id\": \"CHEMBL2011241\", \"pref_name\": \"Cytochrome P450 11B2\"}, {\"instance_id\": \"CHEMBL2011245\", \"pref_name\": \"Cytochrome P450 11B2\"}, {\"instance_id\": \"CHEMBL2011249\", \"pref_name\": \"Cytochrome P450 11B2\"}, {\"instance_id\": \"CHEMBL2011250\", \"pref_name\": \"Cytochrome P450 11B2\"}, {\"instance_id\": \"CHEMBL2011251\", \"pref_name\": \"Cytochrome P450 11B2\"}, {\"instance_id\": \"CHEMBL2011252\", \"pref_name\": \"Cytochrome P450 11B2\"}, {\"instance_id\": \"CHEMBL2011436\", \"pref_name\": \"Cytochrome P450 11B2\"}, {\"instance_id\": \"CHEMBL204524\", \"pref_name\": \"Vascular endothelial growth factor receptor 2\"}, {\"instance_id\": \"CHEMBL2046613\", \"pref_name\": \"Histone deacetylase 1\"}, {\"instance_id\": \"CHEMBL2046623\", \"pref_name\": \"Histone deacetylase 1\"}, {\"instance_id\": \"CHEMBL204727\", \"pref_name\": \"Vascular endothelial growth factor receptor 2\"}, {\"instance_id\": \"CHEMBL2048860\", \"pref_name\": \"Serine/threonine-protein kinase PIM2\"}, {\"instance_id\": \"CHEMBL2048863\", \"pref_name\": \"Serine/threonine-protein kinase PIM1\"}, {\"instance_id\": \"CHEMBL2048871\", \"pref_name\": \"Serine/threonine-protein kinase PIM1\"}, {\"instance_id\": \"CHEMBL204985\", \"pref_name\": \"Vascular endothelial growth factor receptor 2\"}, {\"instance_id\": \"CHEMBL205108\", \"pref_name\": \"Vascular endothelial growth factor receptor 2\"}, {\"instance_id\": \"CHEMBL205305\", \"pref_name\": \"Vascular endothelial growth factor receptor 2\"}, {\"instance_id\": \"CHEMBL205405\", \"pref_name\": \"Vascular endothelial growth factor receptor 2\"}, {\"instance_id\": \"CHEMBL205406\", \"pref_name\": \"Vascular endothelial growth factor receptor 2\"}, {\"instance_id\": \"CHEMBL2057363\", \"pref_name\": \"PI3-kinase p110-alpha subunit\"}, {\"instance_id\": \"CHEMBL205893\", \"pref_name\": \"Vascular endothelial growth factor receptor 2\"}, {\"instance_id\": \"CHEMBL2059908\", \"pref_name\": \"PI3-kinase p110-alpha subunit\"}, {\"instance_id\": \"CHEMBL206410\", \"pref_name\": \"Vascular endothelial growth factor receptor 2\"}, {\"instance_id\": \"CHEMBL2070209\", \"pref_name\": \"Carbonic anhydrase XII\"}, {\"instance_id\": \"CHEMBL2070210\", \"pref_name\": \"Carbonic anhydrase I\"}, {\"instance_id\": \"CHEMBL2070211\", \"pref_name\": \"Carbonic anhydrase II\"}, {\"instance_id\": \"CHEMBL2070214\", \"pref_name\": \"Carbonic anhydrase IX\"}, {\"instance_id\": \"CHEMBL207061\", \"pref_name\": \"Vascular endothelial growth factor receptor 2\"}, {\"instance_id\": \"CHEMBL208600\", \"pref_name\": \"Vascular endothelial growth factor receptor 2\"}, {\"instance_id\": \"CHEMBL208775\", \"pref_name\": \"Vascular endothelial growth factor receptor 2\"}, {\"instance_id\": \"CHEMBL209265\", \"pref_name\": \"Vascular endothelial growth factor receptor 2\"}, {\"instance_id\": \"CHEMBL209704\", \"pref_name\": \"Vascular endothelial growth factor receptor 2\"}, {\"instance_id\": \"CHEMBL209783\", \"pref_name\": \"Vascular endothelial growth factor receptor 2\"}, {\"instance_id\": \"CHEMBL2105487\", \"pref_name\": \"Carbonic anhydrase II\"}, {\"instance_id\": \"CHEMBL211662\", \"pref_name\": \"Vascular endothelial growth factor receptor 2\"}, {\"instance_id\": \"CHEMBL211940\", \"pref_name\": \"Vascular endothelial growth factor receptor 2\"}, {\"instance_id\": \"CHEMBL212429\", \"pref_name\": \"Vascular endothelial growth factor receptor 2\"}, {\"instance_id\": \"CHEMBL2148105\", \"pref_name\": \"Carbonic anhydrase I\"}, {\"instance_id\": \"CHEMBL214993\", \"pref_name\": \"Carbonic anhydrase I\"}, {\"instance_id\": \"CHEMBL215276\", \"pref_name\": \"Carbonic anhydrase I\"}, {\"instance_id\": \"CHEMBL215291\", \"pref_name\": \"Carbonic anhydrase I\"}, {\"instance_id\": \"CHEMBL215355\", \"pref_name\": \"Carbonic anhydrase I\"}, {\"instance_id\": \"CHEMBL215917\", \"pref_name\": \"Carbonic anhydrase I\"}, {\"instance_id\": \"CHEMBL217304\", \"pref_name\": \"Carbonic anhydrase I\"}, {\"instance_id\": \"CHEMBL2207071\", \"pref_name\": \"Carbonic anhydrase II\"}, {\"instance_id\": \"CHEMBL232299\", \"pref_name\": \"Serotonin transporter\"}, {\"instance_id\": \"CHEMBL2323124\", \"pref_name\": \"Carbonic anhydrase XII\"}, {\"instance_id\": \"CHEMBL232616\", \"pref_name\": \"Carbonic anhydrase I\"}, {\"instance_id\": \"CHEMBL232617\", \"pref_name\": \"Carbonic anhydrase I\"}, {\"instance_id\": \"CHEMBL232816\", \"pref_name\": \"Carbonic anhydrase I\"}, {\"instance_id\": \"CHEMBL233019\", \"pref_name\": \"Carbonic anhydrase I\"}, {\"instance_id\": \"CHEMBL233246\", \"pref_name\": \"Carbonic anhydrase II\"}, {\"instance_id\": \"CHEMBL234506\", \"pref_name\": \"Carbonic anhydrase II\"}, {\"instance_id\": \"CHEMBL234507\", \"pref_name\": \"Carbonic anhydrase II\"}, {\"instance_id\": \"CHEMBL2381517\", \"pref_name\": \"Histone deacetylase 1\"}, {\"instance_id\": \"CHEMBL2387463\", \"pref_name\": \"Serine/threonine-protein kinase PIM1\"}, {\"instance_id\": \"CHEMBL2387464\", \"pref_name\": \"Serine/threonine-protein kinase PIM1\"}, {\"instance_id\": \"CHEMBL2387465\", \"pref_name\": \"Serine/threonine-protein kinase PIM1\"}, {\"instance_id\": \"CHEMBL2387471\", \"pref_name\": \"Serine/threonine-protein kinase PIM1\"}, {\"instance_id\": \"CHEMBL2391541\", \"pref_name\": \"Norepinephrine transporter\"}, {\"instance_id\": \"CHEMBL24147\", \"pref_name\": \"Carbonic anhydrase I\"}, {\"instance_id\": \"CHEMBL2417782\", \"pref_name\": \"Histone deacetylase 6\"}, {\"instance_id\": \"CHEMBL247228\", \"pref_name\": \"Vascular endothelial growth factor receptor 2\"}, {\"instance_id\": \"CHEMBL247252\", \"pref_name\": \"Vascular endothelial growth factor receptor 2\"}, {\"instance_id\": \"CHEMBL247790\", \"pref_name\": \"Vascular endothelial growth factor receptor 2\"}, {\"instance_id\": \"CHEMBL258097\", \"pref_name\": \"Cytochrome P450 11B2\"}, {\"instance_id\": \"CHEMBL265470\", \"pref_name\": \"Serine/threonine-protein kinase PIM1\"}, {\"instance_id\": \"CHEMBL273564\", \"pref_name\": \"Vascular endothelial growth factor receptor 2\"}, {\"instance_id\": \"CHEMBL288441\", \"pref_name\": \"Tyrosine-protein kinase ABL\"}, {\"instance_id\": \"CHEMBL3085023\", \"pref_name\": \"Serotonin transporter\"}, {\"instance_id\": \"CHEMBL3099281\", \"pref_name\": \"Carbonic anhydrase I\"}, {\"instance_id\": \"CHEMBL3103860\", \"pref_name\": \"Serine/threonine-protein kinase PIM1\"}, {\"instance_id\": \"CHEMBL3103861\", \"pref_name\": \"Serine/threonine-protein kinase PIM1\"}, {\"instance_id\": \"CHEMBL3103862\", \"pref_name\": \"Serine/threonine-protein kinase PIM1\"}, {\"instance_id\": \"CHEMBL3103864\", \"pref_name\": \"Serine/threonine-protein kinase PIM1\"}, {\"instance_id\": \"CHEMBL310671\", \"pref_name\": \"Carbonic anhydrase I\"}, {\"instance_id\": \"CHEMBL3109980\", \"pref_name\": \"Histone deacetylase 1\"}, {\"instance_id\": \"CHEMBL3110001\", \"pref_name\": \"Histone deacetylase 1\"}, {\"instance_id\": \"CHEMBL3110015\", \"pref_name\": \"Histone deacetylase 1\"}, {\"instance_id\": \"CHEMBL3114781\", \"pref_name\": \"Tyrosine-protein kinase JAK2\"}, {\"instance_id\": \"CHEMBL3114785\", \"pref_name\": \"Tyrosine-protein kinase JAK2\"}, {\"instance_id\": \"CHEMBL328560\", \"pref_name\": \"Carbonic anhydrase XII\"}, {\"instance_id\": \"CHEMBL3288854\", \"pref_name\": \"Tyrosine-protein kinase receptor FLT3\"}, {\"instance_id\": \"CHEMBL3321788\", \"pref_name\": \"Serotonin 2c (5-HT2c) receptor\"}, {\"instance_id\": \"CHEMBL3321790\", \"pref_name\": \"Serotonin 2c (5-HT2c) receptor\"}, {\"instance_id\": \"CHEMBL3321791\", \"pref_name\": \"Serotonin 2c (5-HT2c) receptor\"}, {\"instance_id\": \"CHEMBL3321792\", \"pref_name\": \"Serotonin 2c (5-HT2c) receptor\"}, {\"instance_id\": \"CHEMBL3338404\", \"pref_name\": \"Histone deacetylase 1\"}, {\"instance_id\": \"CHEMBL3347516\", \"pref_name\": \"Histone deacetylase 1\"}, {\"instance_id\": \"CHEMBL3353053\", \"pref_name\": \"Histone deacetylase 1\"}, {\"instance_id\": \"CHEMBL3401364\", \"pref_name\": \"Fibroblast growth factor receptor 3\"}, {\"instance_id\": \"CHEMBL3401368\", \"pref_name\": \"Fibroblast growth factor receptor 3\"}, {\"instance_id\": \"CHEMBL3401369\", \"pref_name\": \"Fibroblast growth factor receptor 3\"}, {\"instance_id\": \"CHEMBL3401370\", \"pref_name\": \"Fibroblast growth factor receptor 3\"}, {\"instance_id\": \"CHEMBL3589324\", \"pref_name\": \"PI3-kinase p110-alpha subunit\"}, {\"instance_id\": \"CHEMBL3589370\", \"pref_name\": \"PI3-kinase p110-alpha subunit\"}, {\"instance_id\": \"CHEMBL3589371\", \"pref_name\": \"PI3-kinase p110-alpha subunit\"}, {\"instance_id\": \"CHEMBL3589372\", \"pref_name\": \"PI3-kinase p110-alpha subunit\"}, {\"instance_id\": \"CHEMBL358967\", \"pref_name\": \"Serotonin transporter\"}, {\"instance_id\": \"CHEMBL3621294\", \"pref_name\": \"Histone deacetylase 1\"}, {\"instance_id\": \"CHEMBL3622823\", \"pref_name\": \"Tyrosine-protein kinase JAK2\"}, {\"instance_id\": \"CHEMBL3622828\", \"pref_name\": \"Tyrosine-protein kinase JAK1\"}, {\"instance_id\": \"CHEMBL3622829\", \"pref_name\": \"Tyrosine-protein kinase JAK1\"}, {\"instance_id\": \"CHEMBL3634785\", \"pref_name\": \"Serine/threonine-protein kinase PIM2\"}, {\"instance_id\": \"CHEMBL3644618\", \"pref_name\": \"Tyrosine-protein kinase JAK1\"}, {\"instance_id\": \"CHEMBL3652639\", \"pref_name\": \"Serine/threonine-protein kinase PIM1\"}, {\"instance_id\": \"CHEMBL3660018\", \"pref_name\": \"Serine/threonine-protein kinase PIM1\"}, {\"instance_id\": \"CHEMBL3670388\", \"pref_name\": \"Beta-secretase 1\"}, {\"instance_id\": \"CHEMBL3670929\", \"pref_name\": \"Beta-secretase 1\"}, {\"instance_id\": \"CHEMBL3675685\", \"pref_name\": \"Tyrosine-protein kinase JAK1\"}, {\"instance_id\": \"CHEMBL3686864\", \"pref_name\": \"Fibroblast growth factor receptor 2\"}, {\"instance_id\": \"CHEMBL3686883\", \"pref_name\": \"Fibroblast growth factor receptor 2\"}, {\"instance_id\": \"CHEMBL3686884\", \"pref_name\": \"Fibroblast growth factor receptor 2\"}, {\"instance_id\": \"CHEMBL3701266\", \"pref_name\": \"Fibroblast growth factor receptor 2\"}, {\"instance_id\": \"CHEMBL3701274\", \"pref_name\": \"Fibroblast growth factor receptor 2\"}, {\"instance_id\": \"CHEMBL3704753\", \"pref_name\": \"Serotonin transporter\"}, {\"instance_id\": \"CHEMBL3745954\", \"pref_name\": \"Tyrosine-protein kinase JAK2\"}, {\"instance_id\": \"CHEMBL3745960\", \"pref_name\": \"Tyrosine-protein kinase JAK2\"}, {\"instance_id\": \"CHEMBL3746074\", \"pref_name\": \"Tyrosine-protein kinase JAK2\"}, {\"instance_id\": \"CHEMBL3746397\", \"pref_name\": \"Tyrosine-protein kinase JAK2\"}, {\"instance_id\": \"CHEMBL3747207\", \"pref_name\": \"Serine/threonine-protein kinase PIM1\"}, {\"instance_id\": \"CHEMBL3753318\", \"pref_name\": \"Norepinephrine transporter\"}, {\"instance_id\": \"CHEMBL3759869\", \"pref_name\": \"Histone deacetylase 6\"}, {\"instance_id\": \"CHEMBL377230\", \"pref_name\": \"Vascular endothelial growth factor receptor 2\"}, {\"instance_id\": \"CHEMBL377346\", \"pref_name\": \"Vascular endothelial growth factor receptor 2\"}, {\"instance_id\": \"CHEMBL378003\", \"pref_name\": \"Vascular endothelial growth factor receptor 2\"}, {\"instance_id\": \"CHEMBL378024\", \"pref_name\": \"Vascular endothelial growth factor receptor 2\"}, {\"instance_id\": \"CHEMBL378299\", \"pref_name\": \"Vascular endothelial growth factor receptor 2\"}, {\"instance_id\": \"CHEMBL379108\", \"pref_name\": \"Vascular endothelial growth factor receptor 2\"}, {\"instance_id\": \"CHEMBL3792428\", \"pref_name\": \"Serine/threonine-protein kinase PIM1\"}, {\"instance_id\": \"CHEMBL3792742\", \"pref_name\": \"Serine/threonine-protein kinase PIM1\"}, {\"instance_id\": \"CHEMBL3794146\", \"pref_name\": \"Serine/threonine-protein kinase PIM1\"}, {\"instance_id\": \"CHEMBL379740\", \"pref_name\": \"Vascular endothelial growth factor receptor 2\"}, {\"instance_id\": \"CHEMBL3798303\", \"pref_name\": \"Carbonic anhydrase IX\"}, {\"instance_id\": \"CHEMBL380372\", \"pref_name\": \"Vascular endothelial growth factor receptor 2\"}, {\"instance_id\": \"CHEMBL380702\", \"pref_name\": \"Vascular endothelial growth factor receptor 2\"}, {\"instance_id\": \"CHEMBL381283\", \"pref_name\": \"Vascular endothelial growth factor receptor 2\"}, {\"instance_id\": \"CHEMBL3814406\", \"pref_name\": \"Tyrosine-protein kinase JAK2\"}, {\"instance_id\": \"CHEMBL3817898\", \"pref_name\": \"Serotonin 2c (5-HT2c) receptor\"}, {\"instance_id\": \"CHEMBL3818128\", \"pref_name\": \"Serotonin 2c (5-HT2c) receptor\"}, {\"instance_id\": \"CHEMBL3818200\", \"pref_name\": \"Serotonin 2c (5-HT2c) receptor\"}, {\"instance_id\": \"CHEMBL3818989\", \"pref_name\": \"Serotonin 2c (5-HT2c) receptor\"}, {\"instance_id\": \"CHEMBL3819427\", \"pref_name\": \"Serotonin 2c (5-HT2c) receptor\"}, {\"instance_id\": \"CHEMBL383261\", \"pref_name\": \"Vascular endothelial growth factor receptor 2\"}, {\"instance_id\": \"CHEMBL383299\", \"pref_name\": \"Vascular endothelial growth factor receptor 2\"}, {\"instance_id\": \"CHEMBL383618\", \"pref_name\": \"Vascular endothelial growth factor receptor 2\"}, {\"instance_id\": \"CHEMBL383990\", \"pref_name\": \"Vascular endothelial growth factor receptor 2\"}, {\"instance_id\": \"CHEMBL385073\", \"pref_name\": \"Carbonic anhydrase I\"}, {\"instance_id\": \"CHEMBL388978\", \"pref_name\": \"Tyrosine-protein kinase ABL\"}, {\"instance_id\": \"CHEMBL3892162\", \"pref_name\": \"Serine/threonine-protein kinase PIM2\"}, {\"instance_id\": \"CHEMBL3894334\", \"pref_name\": \"Beta-secretase 1\"}, {\"instance_id\": \"CHEMBL390035\", \"pref_name\": \"Carbonic anhydrase I\"}, {\"instance_id\": \"CHEMBL3901121\", \"pref_name\": \"Serine/threonine-protein kinase PIM2\"}, {\"instance_id\": \"CHEMBL3902931\", \"pref_name\": \"Serine/threonine-protein kinase PIM2\"}, {\"instance_id\": \"CHEMBL3903651\", \"pref_name\": \"Serine/threonine-protein kinase PIM1\"}, {\"instance_id\": \"CHEMBL3911566\", \"pref_name\": \"Histone deacetylase 1\"}, {\"instance_id\": \"CHEMBL391184\", \"pref_name\": \"Vascular endothelial growth factor receptor 2\"}, {\"instance_id\": \"CHEMBL3913492\", \"pref_name\": \"Fibroblast growth factor receptor 1\"}, {\"instance_id\": \"CHEMBL3915097\", \"pref_name\": \"Beta-secretase 1\"}, {\"instance_id\": \"CHEMBL3916044\", \"pref_name\": \"Serine/threonine-protein kinase PIM2\"}, {\"instance_id\": \"CHEMBL3923980\", \"pref_name\": \"Beta-secretase 1\"}, {\"instance_id\": \"CHEMBL3930148\", \"pref_name\": \"Serine/threonine-protein kinase PIM1\"}, {\"instance_id\": \"CHEMBL3931445\", \"pref_name\": \"Cytochrome P450 11B2\"}, {\"instance_id\": \"CHEMBL3933000\", \"pref_name\": \"Fibroblast growth factor receptor 1\"}, {\"instance_id\": \"CHEMBL3934705\", \"pref_name\": \"Histone deacetylase 1\"}, {\"instance_id\": \"CHEMBL3938419\", \"pref_name\": \"Beta-secretase 1\"}, {\"instance_id\": \"CHEMBL3938461\", \"pref_name\": \"Beta-secretase 1\"}, {\"instance_id\": \"CHEMBL3939931\", \"pref_name\": \"Serine/threonine-protein kinase PIM2\"}, {\"instance_id\": \"CHEMBL3941174\", \"pref_name\": \"Vascular endothelial growth factor receptor 2\"}, {\"instance_id\": \"CHEMBL3942045\", \"pref_name\": \"Serine/threonine-protein kinase PIM2\"}, {\"instance_id\": \"CHEMBL394355\", \"pref_name\": \"Carbonic anhydrase II\"}, {\"instance_id\": \"CHEMBL395543\", \"pref_name\": \"Carbonic anhydrase II\"}, {\"instance_id\": \"CHEMBL3955578\", \"pref_name\": \"Serine/threonine-protein kinase PIM2\"}, {\"instance_id\": \"CHEMBL3957081\", \"pref_name\": \"Serine/threonine-protein kinase PIM2\"}, {\"instance_id\": \"CHEMBL395734\", \"pref_name\": \"Carbonic anhydrase I\"}, {\"instance_id\": \"CHEMBL3958501\", \"pref_name\": \"Serine/threonine-protein kinase PIM2\"}, {\"instance_id\": \"CHEMBL396107\", \"pref_name\": \"Vascular endothelial growth factor receptor 2\"}, {\"instance_id\": \"CHEMBL3961142\", \"pref_name\": \"Serine/threonine-protein kinase PIM2\"}, {\"instance_id\": \"CHEMBL3961994\", \"pref_name\": \"Fibroblast growth factor receptor 1\"}, {\"instance_id\": \"CHEMBL3965946\", \"pref_name\": \"Serine/threonine-protein kinase PIM1\"}, {\"instance_id\": \"CHEMBL3966486\", \"pref_name\": \"Beta-secretase 1\"}, {\"instance_id\": \"CHEMBL3968576\", \"pref_name\": \"Beta-secretase 1\"}, {\"instance_id\": \"CHEMBL3973891\", \"pref_name\": \"Beta-secretase 1\"}, {\"instance_id\": \"CHEMBL3975438\", \"pref_name\": \"Serine/threonine-protein kinase PIM2\"}, {\"instance_id\": \"CHEMBL3977572\", \"pref_name\": \"Serine/threonine-protein kinase PIM2\"}, {\"instance_id\": \"CHEMBL3981095\", \"pref_name\": \"Serine/threonine-protein kinase PIM2\"}, {\"instance_id\": \"CHEMBL3981567\", \"pref_name\": \"Histone deacetylase 1\"}, {\"instance_id\": \"CHEMBL3982420\", \"pref_name\": \"Serine/threonine-protein kinase PIM2\"}, {\"instance_id\": \"CHEMBL402143\", \"pref_name\": \"Serotonin 2a (5-HT2a) receptor\"}, {\"instance_id\": \"CHEMBL402363\", \"pref_name\": \"Histone deacetylase 6\"}, {\"instance_id\": \"CHEMBL408982\", \"pref_name\": \"Serine/threonine-protein kinase PIM2\"}, {\"instance_id\": \"CHEMBL411\", \"pref_name\": \"Serotonin 2c (5-HT2c) receptor\"}, {\"instance_id\": \"CHEMBL419\", \"pref_name\": \"Carbonic anhydrase I\"}, {\"instance_id\": \"CHEMBL42\", \"pref_name\": \"Serotonin 1d (5-HT1d) receptor\"}, {\"instance_id\": \"CHEMBL425247\", \"pref_name\": \"Vascular endothelial growth factor receptor 2\"}, {\"instance_id\": \"CHEMBL436806\", \"pref_name\": \"Vascular endothelial growth factor receptor 2\"}, {\"instance_id\": \"CHEMBL437369\", \"pref_name\": \"Vascular endothelial growth factor receptor 2\"}, {\"instance_id\": \"CHEMBL438861\", \"pref_name\": \"Carbonic anhydrase II\"}, {\"instance_id\": \"CHEMBL442\", \"pref_name\": \"Serotonin 1a (5-HT1a) receptor\"}, {\"instance_id\": \"CHEMBL442798\", \"pref_name\": \"Carbonic anhydrase II\"}, {\"instance_id\": \"CHEMBL448246\", \"pref_name\": \"Matrix metalloproteinase-2\"}, {\"instance_id\": \"CHEMBL453731\", \"pref_name\": \"Carbonic anhydrase I\"}, {\"instance_id\": \"CHEMBL469274\", \"pref_name\": \"Histone deacetylase 6\"}, {\"instance_id\": \"CHEMBL476108\", \"pref_name\": \"Norepinephrine transporter\"}, {\"instance_id\": \"CHEMBL476839\", \"pref_name\": \"Serotonin 2a (5-HT2a) receptor\"}, {\"instance_id\": \"CHEMBL479\", \"pref_name\": \"Serotonin 1a (5-HT1a) receptor\"}, {\"instance_id\": \"CHEMBL486043\", \"pref_name\": \"Serotonin transporter\"}, {\"instance_id\": \"CHEMBL489408\", \"pref_name\": \"Serotonin 2a (5-HT2a) receptor\"}, {\"instance_id\": \"CHEMBL490632\", \"pref_name\": \"Serotonin 2a (5-HT2a) receptor\"}, {\"instance_id\": \"CHEMBL494355\", \"pref_name\": \"Serine/threonine-protein kinase PIM1\"}, {\"instance_id\": \"CHEMBL496587\", \"pref_name\": \"Serine/threonine-protein kinase PIM1\"}, {\"instance_id\": \"CHEMBL496996\", \"pref_name\": \"Serine/threonine-protein kinase PIM1\"}, {\"instance_id\": \"CHEMBL502543\", \"pref_name\": \"Vascular endothelial growth factor receptor 2\"}, {\"instance_id\": \"CHEMBL511347\", \"pref_name\": \"Serotonin transporter\"}, {\"instance_id\": \"CHEMBL515472\", \"pref_name\": \"Serotonin 2a (5-HT2a) receptor\"}, {\"instance_id\": \"CHEMBL516088\", \"pref_name\": \"Serotonin 2a (5-HT2a) receptor\"}, {\"instance_id\": \"CHEMBL517746\", \"pref_name\": \"Carbonic anhydrase I\"}, {\"instance_id\": \"CHEMBL550350\", \"pref_name\": \"Matrix metalloproteinase-1\"}, {\"instance_id\": \"CHEMBL550548\", \"pref_name\": \"Matrix metalloproteinase-1\"}, {\"instance_id\": \"CHEMBL550628\", \"pref_name\": \"Matrix metalloproteinase-1\"}, {\"instance_id\": \"CHEMBL560837\", \"pref_name\": \"Matrix metalloproteinase-1\"}, {\"instance_id\": \"CHEMBL561036\", \"pref_name\": \"Matrix metalloproteinase-1\"}, {\"instance_id\": \"CHEMBL563026\", \"pref_name\": \"Matrix metalloproteinase-1\"}, {\"instance_id\": \"CHEMBL564916\", \"pref_name\": \"Histone deacetylase 1\"}, {\"instance_id\": \"CHEMBL566886\", \"pref_name\": \"Serotonin transporter\"}, {\"instance_id\": \"CHEMBL573176\", \"pref_name\": \"Serine/threonine-protein kinase PIM2\"}, {\"instance_id\": \"CHEMBL574\", \"pref_name\": \"Carbonic anhydrase I\"}, {\"instance_id\": \"CHEMBL575336\", \"pref_name\": \"Serine/threonine-protein kinase PIM1\"}, {\"instance_id\": \"CHEMBL575739\", \"pref_name\": \"Serine/threonine-protein kinase PIM2\"}, {\"instance_id\": \"CHEMBL583788\", \"pref_name\": \"Serine/threonine-protein kinase PIM1\"}, {\"instance_id\": \"CHEMBL584195\", \"pref_name\": \"Serine/threonine-protein kinase PIM2\"}, {\"instance_id\": \"CHEMBL6705\", \"pref_name\": \"Carbonic anhydrase I\"}, {\"instance_id\": \"CHEMBL67755\", \"pref_name\": \"Carbonic anhydrase I\"}, {\"instance_id\": \"CHEMBL6852\", \"pref_name\": \"Carbonic anhydrase I\"}, {\"instance_id\": \"CHEMBL715\", \"pref_name\": \"Serotonin 1d (5-HT1d) receptor\"}, {\"instance_id\": \"CHEMBL750\", \"pref_name\": \"Carbonic anhydrase XII\"}, {\"instance_id\": \"CHEMBL762\", \"pref_name\": \"Serotonin 1a (5-HT1a) receptor\"}, {\"instance_id\": \"CHEMBL79004\", \"pref_name\": \"Serine/threonine-protein kinase PIM2\"}, {\"instance_id\": \"CHEMBL865\", \"pref_name\": \"Carbonic anhydrase I\"}]}}, {\"mode\": \"vega-lite\"});\n",
       "</script>"
      ],
      "text/plain": [
       "alt.VConcatChart(...)"
      ]
     },
     "execution_count": 510,
     "metadata": {},
     "output_type": "execute_result"
    }
   ],
   "source": [
    "(chart_one&chart_two&chart).configure_axisBottom(labelAngle=-45)"
   ]
  },
  {
   "cell_type": "markdown",
   "metadata": {},
   "source": [
    "# All together now:"
   ]
  },
  {
   "cell_type": "code",
   "execution_count": 511,
   "metadata": {},
   "outputs": [
    {
     "data": {
      "text/html": [
       "\n",
       "<div id=\"altair-viz-192203c0f2074b6985a4d015d0f13052\"></div>\n",
       "<script type=\"text/javascript\">\n",
       "  (function(spec, embedOpt){\n",
       "    let outputDiv = document.currentScript.previousElementSibling;\n",
       "    if (outputDiv.id !== \"altair-viz-192203c0f2074b6985a4d015d0f13052\") {\n",
       "      outputDiv = document.getElementById(\"altair-viz-192203c0f2074b6985a4d015d0f13052\");\n",
       "    }\n",
       "    const paths = {\n",
       "      \"vega\": \"https://cdn.jsdelivr.net/npm//vega@5?noext\",\n",
       "      \"vega-lib\": \"https://cdn.jsdelivr.net/npm//vega-lib?noext\",\n",
       "      \"vega-lite\": \"https://cdn.jsdelivr.net/npm//vega-lite@4.8.1?noext\",\n",
       "      \"vega-embed\": \"https://cdn.jsdelivr.net/npm//vega-embed@6?noext\",\n",
       "    };\n",
       "\n",
       "    function loadScript(lib) {\n",
       "      return new Promise(function(resolve, reject) {\n",
       "        var s = document.createElement('script');\n",
       "        s.src = paths[lib];\n",
       "        s.async = true;\n",
       "        s.onload = () => resolve(paths[lib]);\n",
       "        s.onerror = () => reject(`Error loading script: ${paths[lib]}`);\n",
       "        document.getElementsByTagName(\"head\")[0].appendChild(s);\n",
       "      });\n",
       "    }\n",
       "\n",
       "    function showError(err) {\n",
       "      outputDiv.innerHTML = `<div class=\"error\" style=\"color:red;\">${err}</div>`;\n",
       "      throw err;\n",
       "    }\n",
       "\n",
       "    function displayChart(vegaEmbed) {\n",
       "      vegaEmbed(outputDiv, spec, embedOpt)\n",
       "        .catch(err => showError(`Javascript Error: ${err.message}<br>This usually means there's a typo in your chart specification. See the javascript console for the full traceback.`));\n",
       "    }\n",
       "\n",
       "    if(typeof define === \"function\" && define.amd) {\n",
       "      requirejs.config({paths});\n",
       "      require([\"vega-embed\"], displayChart, err => showError(`Error loading script: ${err.message}`));\n",
       "    } else if (typeof vegaEmbed === \"function\") {\n",
       "      displayChart(vegaEmbed);\n",
       "    } else {\n",
       "      loadScript(\"vega\")\n",
       "        .then(() => loadScript(\"vega-lite\"))\n",
       "        .then(() => loadScript(\"vega-embed\"))\n",
       "        .catch(showError)\n",
       "        .then(() => displayChart(vegaEmbed));\n",
       "    }\n",
       "  })({\"config\": {\"view\": {\"continuousWidth\": 400, \"continuousHeight\": 300}, \"axisBottom\": {\"labelAngle\": -35}, \"header\": {\"labelFontSize\": 40, \"titleFontSize\": 40}, \"title\": {}}, \"vconcat\": [{\"data\": {\"name\": \"data-c8ff6c75327497d556bdd6eac04ede2a\"}, \"mark\": \"bar\", \"encoding\": {\"color\": {\"type\": \"nominal\", \"field\": \"activity\", \"title\": \"Activity type\"}, \"order\": {\"type\": \"nominal\", \"field\": \"activity\", \"sort\": \"ascending\"}, \"x\": {\"type\": \"quantitative\", \"field\": \"PercentOfTotal\"}, \"y\": {\"type\": \"nominal\", \"axis\": {\"labels\": false}, \"field\": \"results\", \"title\": \"\"}}, \"height\": 30, \"selection\": {\"selector004\": {\"type\": \"single\", \"encodings\": [\"x\", \"color\"]}}, \"transform\": [{\"joinaggregate\": [{\"op\": \"sum\", \"field\": \"number\", \"as\": \"Total\"}]}, {\"calculate\": \"datum.number / datum.Total\", \"as\": \"PercentOfTotal\"}], \"width\": 550}, {\"data\": {\"name\": \"data-0e01c610e98ef8316865033c1a21eb8a\"}, \"mark\": \"bar\", \"encoding\": {\"color\": {\"type\": \"nominal\", \"field\": \"activity\", \"title\": \"Activity type\"}, \"order\": {\"type\": \"nominal\", \"field\": \"activity\", \"sort\": \"ascending\"}, \"x\": {\"type\": \"quantitative\", \"field\": \"PercentOfTotal\", \"title\": \"Hi\"}, \"y\": {\"type\": \"nominal\", \"axis\": {\"labels\": false}, \"field\": \"results\", \"title\": \"\"}}, \"height\": 30, \"selection\": {\"selector004\": {\"type\": \"single\", \"encodings\": [\"x\", \"color\"]}}, \"transform\": [{\"joinaggregate\": [{\"op\": \"sum\", \"field\": \"number\", \"as\": \"Total\"}]}, {\"calculate\": \"datum.number / datum.Total\", \"as\": \"PercentOfTotal\"}], \"width\": 550}, {\"data\": {\"name\": \"data-481ac349d0155016f6a8738bf72ce08a\"}, \"mark\": \"bar\", \"encoding\": {\"x\": {\"type\": \"nominal\", \"field\": \"pref_name\", \"sort\": \"-y\", \"title\": \"Target preferred name\"}, \"y\": {\"type\": \"quantitative\", \"aggregate\": \"count\"}}, \"height\": 200, \"width\": 700}], \"$schema\": \"https://vega.github.io/schema/vega-lite/v4.8.1.json\", \"datasets\": {\"data-c8ff6c75327497d556bdd6eac04ede2a\": [{\"results\": \"Results\", \"activity\": \"Active\", \"number\": 300, \"proportion\": 0.28957528957528955}, {\"results\": \"Results\", \"activity\": \"Inactive\", \"number\": 57, \"proportion\": 0.05501930501930502}, {\"results\": \"Results\", \"activity\": \"Both\", \"number\": 12, \"proportion\": 0.011583011583011582}, {\"results\": \"Results\", \"activity\": \"Unknown\", \"number\": 667, \"proportion\": 0.6438223938223938}], \"data-0e01c610e98ef8316865033c1a21eb8a\": [{\"results\": \"Results\", \"activity\": \"Active\", \"number\": 300, \"proportion\": 0.28957528957528955}, {\"results\": \"Results\", \"activity\": \"Inactive\", \"number\": 57, \"proportion\": 0.05501930501930502}, {\"results\": \"Results\", \"activity\": \"Both\", \"number\": 12, \"proportion\": 0.011583011583011582}], \"data-481ac349d0155016f6a8738bf72ce08a\": [{\"instance_id\": \"CHEMBL1081312\", \"pref_name\": \"Tyrosine-protein kinase receptor FLT3\"}, {\"instance_id\": \"CHEMBL1081484\", \"pref_name\": \"Tyrosine-protein kinase JAK2\"}, {\"instance_id\": \"CHEMBL1084546\", \"pref_name\": \"Macrophage colony stimulating factor receptor\"}, {\"instance_id\": \"CHEMBL1093358\", \"pref_name\": \"Histone deacetylase 1\"}, {\"instance_id\": \"CHEMBL1099212\", \"pref_name\": \"Serotonin transporter\"}, {\"instance_id\": \"CHEMBL1161700\", \"pref_name\": \"Carbonic anhydrase II\"}, {\"instance_id\": \"CHEMBL1172842\", \"pref_name\": \"Cytochrome P450 11B2\"}, {\"instance_id\": \"CHEMBL118\", \"pref_name\": \"Carbonic anhydrase I\"}, {\"instance_id\": \"CHEMBL1200739\", \"pref_name\": \"Carbonic anhydrase II\"}, {\"instance_id\": \"CHEMBL1241532\", \"pref_name\": \"Carbonic anhydrase I\"}, {\"instance_id\": \"CHEMBL1241772\", \"pref_name\": \"PI3-kinase p110-alpha subunit\"}, {\"instance_id\": \"CHEMBL1242025\", \"pref_name\": \"PI3-kinase p110-alpha subunit\"}, {\"instance_id\": \"CHEMBL1242030\", \"pref_name\": \"PI3-kinase p110-alpha subunit\"}, {\"instance_id\": \"CHEMBL1242794\", \"pref_name\": \"Carbonic anhydrase I\"}, {\"instance_id\": \"CHEMBL14060\", \"pref_name\": \"Carbonic anhydrase I\"}, {\"instance_id\": \"CHEMBL1440486\", \"pref_name\": \"Cytochrome P450 11B2\"}, {\"instance_id\": \"CHEMBL148169\", \"pref_name\": \"Matrix metalloproteinase 9\"}, {\"instance_id\": \"CHEMBL1556445\", \"pref_name\": \"Cytochrome P450 11B2\"}, {\"instance_id\": \"CHEMBL1644696\", \"pref_name\": \"Carbonic anhydrase II\"}, {\"instance_id\": \"CHEMBL1644697\", \"pref_name\": \"Carbonic anhydrase II\"}, {\"instance_id\": \"CHEMBL1644699\", \"pref_name\": \"Carbonic anhydrase II\"}, {\"instance_id\": \"CHEMBL1760160\", \"pref_name\": \"PI3-kinase p110-alpha subunit\"}, {\"instance_id\": \"CHEMBL176495\", \"pref_name\": \"Carbonic anhydrase I\"}, {\"instance_id\": \"CHEMBL1771212\", \"pref_name\": \"Matrix metalloproteinase-2\"}, {\"instance_id\": \"CHEMBL1801046\", \"pref_name\": \"Matrix metalloproteinase-2\"}, {\"instance_id\": \"CHEMBL1801052\", \"pref_name\": \"Matrix metalloproteinase-2\"}, {\"instance_id\": \"CHEMBL1801393\", \"pref_name\": \"Matrix metalloproteinase-2\"}, {\"instance_id\": \"CHEMBL1801429\", \"pref_name\": \"Matrix metalloproteinase-2\"}, {\"instance_id\": \"CHEMBL1801430\", \"pref_name\": \"Matrix metalloproteinase-2\"}, {\"instance_id\": \"CHEMBL180672\", \"pref_name\": \"Serotonin transporter\"}, {\"instance_id\": \"CHEMBL183419\", \"pref_name\": \"Carbonic anhydrase II\"}, {\"instance_id\": \"CHEMBL183460\", \"pref_name\": \"Serotonin 2c (5-HT2c) receptor\"}, {\"instance_id\": \"CHEMBL1910899\", \"pref_name\": \"Serine/threonine-protein kinase PIM2\"}, {\"instance_id\": \"CHEMBL1910902\", \"pref_name\": \"Serine/threonine-protein kinase PIM2\"}, {\"instance_id\": \"CHEMBL1910905\", \"pref_name\": \"Serine/threonine-protein kinase PIM2\"}, {\"instance_id\": \"CHEMBL1910907\", \"pref_name\": \"Serine/threonine-protein kinase PIM1\"}, {\"instance_id\": \"CHEMBL1910908\", \"pref_name\": \"Serine/threonine-protein kinase PIM1\"}, {\"instance_id\": \"CHEMBL1910909\", \"pref_name\": \"Serine/threonine-protein kinase PIM1\"}, {\"instance_id\": \"CHEMBL1910910\", \"pref_name\": \"Serine/threonine-protein kinase PIM1\"}, {\"instance_id\": \"CHEMBL1910911\", \"pref_name\": \"Serine/threonine-protein kinase PIM1\"}, {\"instance_id\": \"CHEMBL1910912\", \"pref_name\": \"Serine/threonine-protein kinase PIM1\"}, {\"instance_id\": \"CHEMBL1910913\", \"pref_name\": \"Serine/threonine-protein kinase PIM1\"}, {\"instance_id\": \"CHEMBL1910914\", \"pref_name\": \"Serine/threonine-protein kinase PIM1\"}, {\"instance_id\": \"CHEMBL1910915\", \"pref_name\": \"Serine/threonine-protein kinase PIM1\"}, {\"instance_id\": \"CHEMBL191384\", \"pref_name\": \"Serine/threonine-protein kinase PIM2\"}, {\"instance_id\": \"CHEMBL196871\", \"pref_name\": \"Carbonic anhydrase I\"}, {\"instance_id\": \"CHEMBL1973540\", \"pref_name\": \"Cyclin-dependent kinase 2\"}, {\"instance_id\": \"CHEMBL1997617\", \"pref_name\": \"Tyrosine-protein kinase LCK\"}, {\"instance_id\": \"CHEMBL2011240\", \"pref_name\": \"Cytochrome P450 11B2\"}, {\"instance_id\": \"CHEMBL2011241\", \"pref_name\": \"Cytochrome P450 11B2\"}, {\"instance_id\": \"CHEMBL2011245\", \"pref_name\": \"Cytochrome P450 11B2\"}, {\"instance_id\": \"CHEMBL2011249\", \"pref_name\": \"Cytochrome P450 11B2\"}, {\"instance_id\": \"CHEMBL2011250\", \"pref_name\": \"Cytochrome P450 11B2\"}, {\"instance_id\": \"CHEMBL2011251\", \"pref_name\": \"Cytochrome P450 11B2\"}, {\"instance_id\": \"CHEMBL2011252\", \"pref_name\": \"Cytochrome P450 11B2\"}, {\"instance_id\": \"CHEMBL2011436\", \"pref_name\": \"Cytochrome P450 11B2\"}, {\"instance_id\": \"CHEMBL204524\", \"pref_name\": \"Vascular endothelial growth factor receptor 2\"}, {\"instance_id\": \"CHEMBL2046613\", \"pref_name\": \"Histone deacetylase 1\"}, {\"instance_id\": \"CHEMBL2046623\", \"pref_name\": \"Histone deacetylase 1\"}, {\"instance_id\": \"CHEMBL204727\", \"pref_name\": \"Vascular endothelial growth factor receptor 2\"}, {\"instance_id\": \"CHEMBL2048860\", \"pref_name\": \"Serine/threonine-protein kinase PIM2\"}, {\"instance_id\": \"CHEMBL2048863\", \"pref_name\": \"Serine/threonine-protein kinase PIM1\"}, {\"instance_id\": \"CHEMBL2048871\", \"pref_name\": \"Serine/threonine-protein kinase PIM1\"}, {\"instance_id\": \"CHEMBL204985\", \"pref_name\": \"Vascular endothelial growth factor receptor 2\"}, {\"instance_id\": \"CHEMBL205108\", \"pref_name\": \"Vascular endothelial growth factor receptor 2\"}, {\"instance_id\": \"CHEMBL205305\", \"pref_name\": \"Vascular endothelial growth factor receptor 2\"}, {\"instance_id\": \"CHEMBL205405\", \"pref_name\": \"Vascular endothelial growth factor receptor 2\"}, {\"instance_id\": \"CHEMBL205406\", \"pref_name\": \"Vascular endothelial growth factor receptor 2\"}, {\"instance_id\": \"CHEMBL2057363\", \"pref_name\": \"PI3-kinase p110-alpha subunit\"}, {\"instance_id\": \"CHEMBL205893\", \"pref_name\": \"Vascular endothelial growth factor receptor 2\"}, {\"instance_id\": \"CHEMBL2059908\", \"pref_name\": \"PI3-kinase p110-alpha subunit\"}, {\"instance_id\": \"CHEMBL206410\", \"pref_name\": \"Vascular endothelial growth factor receptor 2\"}, {\"instance_id\": \"CHEMBL2070209\", \"pref_name\": \"Carbonic anhydrase XII\"}, {\"instance_id\": \"CHEMBL2070210\", \"pref_name\": \"Carbonic anhydrase I\"}, {\"instance_id\": \"CHEMBL2070211\", \"pref_name\": \"Carbonic anhydrase II\"}, {\"instance_id\": \"CHEMBL2070214\", \"pref_name\": \"Carbonic anhydrase IX\"}, {\"instance_id\": \"CHEMBL207061\", \"pref_name\": \"Vascular endothelial growth factor receptor 2\"}, {\"instance_id\": \"CHEMBL208600\", \"pref_name\": \"Vascular endothelial growth factor receptor 2\"}, {\"instance_id\": \"CHEMBL208775\", \"pref_name\": \"Vascular endothelial growth factor receptor 2\"}, {\"instance_id\": \"CHEMBL209265\", \"pref_name\": \"Vascular endothelial growth factor receptor 2\"}, {\"instance_id\": \"CHEMBL209704\", \"pref_name\": \"Vascular endothelial growth factor receptor 2\"}, {\"instance_id\": \"CHEMBL209783\", \"pref_name\": \"Vascular endothelial growth factor receptor 2\"}, {\"instance_id\": \"CHEMBL2105487\", \"pref_name\": \"Carbonic anhydrase II\"}, {\"instance_id\": \"CHEMBL211662\", \"pref_name\": \"Vascular endothelial growth factor receptor 2\"}, {\"instance_id\": \"CHEMBL211940\", \"pref_name\": \"Vascular endothelial growth factor receptor 2\"}, {\"instance_id\": \"CHEMBL212429\", \"pref_name\": \"Vascular endothelial growth factor receptor 2\"}, {\"instance_id\": \"CHEMBL2148105\", \"pref_name\": \"Carbonic anhydrase I\"}, {\"instance_id\": \"CHEMBL214993\", \"pref_name\": \"Carbonic anhydrase I\"}, {\"instance_id\": \"CHEMBL215276\", \"pref_name\": \"Carbonic anhydrase I\"}, {\"instance_id\": \"CHEMBL215291\", \"pref_name\": \"Carbonic anhydrase I\"}, {\"instance_id\": \"CHEMBL215355\", \"pref_name\": \"Carbonic anhydrase I\"}, {\"instance_id\": \"CHEMBL215917\", \"pref_name\": \"Carbonic anhydrase I\"}, {\"instance_id\": \"CHEMBL217304\", \"pref_name\": \"Carbonic anhydrase I\"}, {\"instance_id\": \"CHEMBL2207071\", \"pref_name\": \"Carbonic anhydrase II\"}, {\"instance_id\": \"CHEMBL232299\", \"pref_name\": \"Serotonin transporter\"}, {\"instance_id\": \"CHEMBL2323124\", \"pref_name\": \"Carbonic anhydrase XII\"}, {\"instance_id\": \"CHEMBL232616\", \"pref_name\": \"Carbonic anhydrase I\"}, {\"instance_id\": \"CHEMBL232617\", \"pref_name\": \"Carbonic anhydrase I\"}, {\"instance_id\": \"CHEMBL232816\", \"pref_name\": \"Carbonic anhydrase I\"}, {\"instance_id\": \"CHEMBL233019\", \"pref_name\": \"Carbonic anhydrase I\"}, {\"instance_id\": \"CHEMBL233246\", \"pref_name\": \"Carbonic anhydrase II\"}, {\"instance_id\": \"CHEMBL234506\", \"pref_name\": \"Carbonic anhydrase II\"}, {\"instance_id\": \"CHEMBL234507\", \"pref_name\": \"Carbonic anhydrase II\"}, {\"instance_id\": \"CHEMBL2381517\", \"pref_name\": \"Histone deacetylase 1\"}, {\"instance_id\": \"CHEMBL2387463\", \"pref_name\": \"Serine/threonine-protein kinase PIM1\"}, {\"instance_id\": \"CHEMBL2387464\", \"pref_name\": \"Serine/threonine-protein kinase PIM1\"}, {\"instance_id\": \"CHEMBL2387465\", \"pref_name\": \"Serine/threonine-protein kinase PIM1\"}, {\"instance_id\": \"CHEMBL2387471\", \"pref_name\": \"Serine/threonine-protein kinase PIM1\"}, {\"instance_id\": \"CHEMBL2391541\", \"pref_name\": \"Norepinephrine transporter\"}, {\"instance_id\": \"CHEMBL24147\", \"pref_name\": \"Carbonic anhydrase I\"}, {\"instance_id\": \"CHEMBL2417782\", \"pref_name\": \"Histone deacetylase 6\"}, {\"instance_id\": \"CHEMBL247228\", \"pref_name\": \"Vascular endothelial growth factor receptor 2\"}, {\"instance_id\": \"CHEMBL247252\", \"pref_name\": \"Vascular endothelial growth factor receptor 2\"}, {\"instance_id\": \"CHEMBL247790\", \"pref_name\": \"Vascular endothelial growth factor receptor 2\"}, {\"instance_id\": \"CHEMBL258097\", \"pref_name\": \"Cytochrome P450 11B2\"}, {\"instance_id\": \"CHEMBL265470\", \"pref_name\": \"Serine/threonine-protein kinase PIM1\"}, {\"instance_id\": \"CHEMBL273564\", \"pref_name\": \"Vascular endothelial growth factor receptor 2\"}, {\"instance_id\": \"CHEMBL288441\", \"pref_name\": \"Tyrosine-protein kinase ABL\"}, {\"instance_id\": \"CHEMBL3085023\", \"pref_name\": \"Serotonin transporter\"}, {\"instance_id\": \"CHEMBL3099281\", \"pref_name\": \"Carbonic anhydrase I\"}, {\"instance_id\": \"CHEMBL3103860\", \"pref_name\": \"Serine/threonine-protein kinase PIM1\"}, {\"instance_id\": \"CHEMBL3103861\", \"pref_name\": \"Serine/threonine-protein kinase PIM1\"}, {\"instance_id\": \"CHEMBL3103862\", \"pref_name\": \"Serine/threonine-protein kinase PIM1\"}, {\"instance_id\": \"CHEMBL3103864\", \"pref_name\": \"Serine/threonine-protein kinase PIM1\"}, {\"instance_id\": \"CHEMBL310671\", \"pref_name\": \"Carbonic anhydrase I\"}, {\"instance_id\": \"CHEMBL3109980\", \"pref_name\": \"Histone deacetylase 1\"}, {\"instance_id\": \"CHEMBL3110001\", \"pref_name\": \"Histone deacetylase 1\"}, {\"instance_id\": \"CHEMBL3110015\", \"pref_name\": \"Histone deacetylase 1\"}, {\"instance_id\": \"CHEMBL3114781\", \"pref_name\": \"Tyrosine-protein kinase JAK2\"}, {\"instance_id\": \"CHEMBL3114785\", \"pref_name\": \"Tyrosine-protein kinase JAK2\"}, {\"instance_id\": \"CHEMBL328560\", \"pref_name\": \"Carbonic anhydrase XII\"}, {\"instance_id\": \"CHEMBL3288854\", \"pref_name\": \"Tyrosine-protein kinase receptor FLT3\"}, {\"instance_id\": \"CHEMBL3321788\", \"pref_name\": \"Serotonin 2c (5-HT2c) receptor\"}, {\"instance_id\": \"CHEMBL3321790\", \"pref_name\": \"Serotonin 2c (5-HT2c) receptor\"}, {\"instance_id\": \"CHEMBL3321791\", \"pref_name\": \"Serotonin 2c (5-HT2c) receptor\"}, {\"instance_id\": \"CHEMBL3321792\", \"pref_name\": \"Serotonin 2c (5-HT2c) receptor\"}, {\"instance_id\": \"CHEMBL3338404\", \"pref_name\": \"Histone deacetylase 1\"}, {\"instance_id\": \"CHEMBL3347516\", \"pref_name\": \"Histone deacetylase 1\"}, {\"instance_id\": \"CHEMBL3353053\", \"pref_name\": \"Histone deacetylase 1\"}, {\"instance_id\": \"CHEMBL3401364\", \"pref_name\": \"Fibroblast growth factor receptor 3\"}, {\"instance_id\": \"CHEMBL3401368\", \"pref_name\": \"Fibroblast growth factor receptor 3\"}, {\"instance_id\": \"CHEMBL3401369\", \"pref_name\": \"Fibroblast growth factor receptor 3\"}, {\"instance_id\": \"CHEMBL3401370\", \"pref_name\": \"Fibroblast growth factor receptor 3\"}, {\"instance_id\": \"CHEMBL3589324\", \"pref_name\": \"PI3-kinase p110-alpha subunit\"}, {\"instance_id\": \"CHEMBL3589370\", \"pref_name\": \"PI3-kinase p110-alpha subunit\"}, {\"instance_id\": \"CHEMBL3589371\", \"pref_name\": \"PI3-kinase p110-alpha subunit\"}, {\"instance_id\": \"CHEMBL3589372\", \"pref_name\": \"PI3-kinase p110-alpha subunit\"}, {\"instance_id\": \"CHEMBL358967\", \"pref_name\": \"Serotonin transporter\"}, {\"instance_id\": \"CHEMBL3621294\", \"pref_name\": \"Histone deacetylase 1\"}, {\"instance_id\": \"CHEMBL3622823\", \"pref_name\": \"Tyrosine-protein kinase JAK2\"}, {\"instance_id\": \"CHEMBL3622828\", \"pref_name\": \"Tyrosine-protein kinase JAK1\"}, {\"instance_id\": \"CHEMBL3622829\", \"pref_name\": \"Tyrosine-protein kinase JAK1\"}, {\"instance_id\": \"CHEMBL3634785\", \"pref_name\": \"Serine/threonine-protein kinase PIM2\"}, {\"instance_id\": \"CHEMBL3644618\", \"pref_name\": \"Tyrosine-protein kinase JAK1\"}, {\"instance_id\": \"CHEMBL3652639\", \"pref_name\": \"Serine/threonine-protein kinase PIM1\"}, {\"instance_id\": \"CHEMBL3660018\", \"pref_name\": \"Serine/threonine-protein kinase PIM1\"}, {\"instance_id\": \"CHEMBL3670388\", \"pref_name\": \"Beta-secretase 1\"}, {\"instance_id\": \"CHEMBL3670929\", \"pref_name\": \"Beta-secretase 1\"}, {\"instance_id\": \"CHEMBL3675685\", \"pref_name\": \"Tyrosine-protein kinase JAK1\"}, {\"instance_id\": \"CHEMBL3686864\", \"pref_name\": \"Fibroblast growth factor receptor 2\"}, {\"instance_id\": \"CHEMBL3686883\", \"pref_name\": \"Fibroblast growth factor receptor 2\"}, {\"instance_id\": \"CHEMBL3686884\", \"pref_name\": \"Fibroblast growth factor receptor 2\"}, {\"instance_id\": \"CHEMBL3701266\", \"pref_name\": \"Fibroblast growth factor receptor 2\"}, {\"instance_id\": \"CHEMBL3701274\", \"pref_name\": \"Fibroblast growth factor receptor 2\"}, {\"instance_id\": \"CHEMBL3704753\", \"pref_name\": \"Serotonin transporter\"}, {\"instance_id\": \"CHEMBL3745954\", \"pref_name\": \"Tyrosine-protein kinase JAK2\"}, {\"instance_id\": \"CHEMBL3745960\", \"pref_name\": \"Tyrosine-protein kinase JAK2\"}, {\"instance_id\": \"CHEMBL3746074\", \"pref_name\": \"Tyrosine-protein kinase JAK2\"}, {\"instance_id\": \"CHEMBL3746397\", \"pref_name\": \"Tyrosine-protein kinase JAK2\"}, {\"instance_id\": \"CHEMBL3747207\", \"pref_name\": \"Serine/threonine-protein kinase PIM1\"}, {\"instance_id\": \"CHEMBL3753318\", \"pref_name\": \"Norepinephrine transporter\"}, {\"instance_id\": \"CHEMBL3759869\", \"pref_name\": \"Histone deacetylase 6\"}, {\"instance_id\": \"CHEMBL377230\", \"pref_name\": \"Vascular endothelial growth factor receptor 2\"}, {\"instance_id\": \"CHEMBL377346\", \"pref_name\": \"Vascular endothelial growth factor receptor 2\"}, {\"instance_id\": \"CHEMBL378003\", \"pref_name\": \"Vascular endothelial growth factor receptor 2\"}, {\"instance_id\": \"CHEMBL378024\", \"pref_name\": \"Vascular endothelial growth factor receptor 2\"}, {\"instance_id\": \"CHEMBL378299\", \"pref_name\": \"Vascular endothelial growth factor receptor 2\"}, {\"instance_id\": \"CHEMBL379108\", \"pref_name\": \"Vascular endothelial growth factor receptor 2\"}, {\"instance_id\": \"CHEMBL3792428\", \"pref_name\": \"Serine/threonine-protein kinase PIM1\"}, {\"instance_id\": \"CHEMBL3792742\", \"pref_name\": \"Serine/threonine-protein kinase PIM1\"}, {\"instance_id\": \"CHEMBL3794146\", \"pref_name\": \"Serine/threonine-protein kinase PIM1\"}, {\"instance_id\": \"CHEMBL379740\", \"pref_name\": \"Vascular endothelial growth factor receptor 2\"}, {\"instance_id\": \"CHEMBL3798303\", \"pref_name\": \"Carbonic anhydrase IX\"}, {\"instance_id\": \"CHEMBL380372\", \"pref_name\": \"Vascular endothelial growth factor receptor 2\"}, {\"instance_id\": \"CHEMBL380702\", \"pref_name\": \"Vascular endothelial growth factor receptor 2\"}, {\"instance_id\": \"CHEMBL381283\", \"pref_name\": \"Vascular endothelial growth factor receptor 2\"}, {\"instance_id\": \"CHEMBL3814406\", \"pref_name\": \"Tyrosine-protein kinase JAK2\"}, {\"instance_id\": \"CHEMBL3817898\", \"pref_name\": \"Serotonin 2c (5-HT2c) receptor\"}, {\"instance_id\": \"CHEMBL3818128\", \"pref_name\": \"Serotonin 2c (5-HT2c) receptor\"}, {\"instance_id\": \"CHEMBL3818200\", \"pref_name\": \"Serotonin 2c (5-HT2c) receptor\"}, {\"instance_id\": \"CHEMBL3818989\", \"pref_name\": \"Serotonin 2c (5-HT2c) receptor\"}, {\"instance_id\": \"CHEMBL3819427\", \"pref_name\": \"Serotonin 2c (5-HT2c) receptor\"}, {\"instance_id\": \"CHEMBL383261\", \"pref_name\": \"Vascular endothelial growth factor receptor 2\"}, {\"instance_id\": \"CHEMBL383299\", \"pref_name\": \"Vascular endothelial growth factor receptor 2\"}, {\"instance_id\": \"CHEMBL383618\", \"pref_name\": \"Vascular endothelial growth factor receptor 2\"}, {\"instance_id\": \"CHEMBL383990\", \"pref_name\": \"Vascular endothelial growth factor receptor 2\"}, {\"instance_id\": \"CHEMBL385073\", \"pref_name\": \"Carbonic anhydrase I\"}, {\"instance_id\": \"CHEMBL388978\", \"pref_name\": \"Tyrosine-protein kinase ABL\"}, {\"instance_id\": \"CHEMBL3892162\", \"pref_name\": \"Serine/threonine-protein kinase PIM2\"}, {\"instance_id\": \"CHEMBL3894334\", \"pref_name\": \"Beta-secretase 1\"}, {\"instance_id\": \"CHEMBL390035\", \"pref_name\": \"Carbonic anhydrase I\"}, {\"instance_id\": \"CHEMBL3901121\", \"pref_name\": \"Serine/threonine-protein kinase PIM2\"}, {\"instance_id\": \"CHEMBL3902931\", \"pref_name\": \"Serine/threonine-protein kinase PIM2\"}, {\"instance_id\": \"CHEMBL3903651\", \"pref_name\": \"Serine/threonine-protein kinase PIM1\"}, {\"instance_id\": \"CHEMBL3911566\", \"pref_name\": \"Histone deacetylase 1\"}, {\"instance_id\": \"CHEMBL391184\", \"pref_name\": \"Vascular endothelial growth factor receptor 2\"}, {\"instance_id\": \"CHEMBL3913492\", \"pref_name\": \"Fibroblast growth factor receptor 1\"}, {\"instance_id\": \"CHEMBL3915097\", \"pref_name\": \"Beta-secretase 1\"}, {\"instance_id\": \"CHEMBL3916044\", \"pref_name\": \"Serine/threonine-protein kinase PIM2\"}, {\"instance_id\": \"CHEMBL3923980\", \"pref_name\": \"Beta-secretase 1\"}, {\"instance_id\": \"CHEMBL3930148\", \"pref_name\": \"Serine/threonine-protein kinase PIM1\"}, {\"instance_id\": \"CHEMBL3931445\", \"pref_name\": \"Cytochrome P450 11B2\"}, {\"instance_id\": \"CHEMBL3933000\", \"pref_name\": \"Fibroblast growth factor receptor 1\"}, {\"instance_id\": \"CHEMBL3934705\", \"pref_name\": \"Histone deacetylase 1\"}, {\"instance_id\": \"CHEMBL3938419\", \"pref_name\": \"Beta-secretase 1\"}, {\"instance_id\": \"CHEMBL3938461\", \"pref_name\": \"Beta-secretase 1\"}, {\"instance_id\": \"CHEMBL3939931\", \"pref_name\": \"Serine/threonine-protein kinase PIM2\"}, {\"instance_id\": \"CHEMBL3941174\", \"pref_name\": \"Vascular endothelial growth factor receptor 2\"}, {\"instance_id\": \"CHEMBL3942045\", \"pref_name\": \"Serine/threonine-protein kinase PIM2\"}, {\"instance_id\": \"CHEMBL394355\", \"pref_name\": \"Carbonic anhydrase II\"}, {\"instance_id\": \"CHEMBL395543\", \"pref_name\": \"Carbonic anhydrase II\"}, {\"instance_id\": \"CHEMBL3955578\", \"pref_name\": \"Serine/threonine-protein kinase PIM2\"}, {\"instance_id\": \"CHEMBL3957081\", \"pref_name\": \"Serine/threonine-protein kinase PIM2\"}, {\"instance_id\": \"CHEMBL395734\", \"pref_name\": \"Carbonic anhydrase I\"}, {\"instance_id\": \"CHEMBL3958501\", \"pref_name\": \"Serine/threonine-protein kinase PIM2\"}, {\"instance_id\": \"CHEMBL396107\", \"pref_name\": \"Vascular endothelial growth factor receptor 2\"}, {\"instance_id\": \"CHEMBL3961142\", \"pref_name\": \"Serine/threonine-protein kinase PIM2\"}, {\"instance_id\": \"CHEMBL3961994\", \"pref_name\": \"Fibroblast growth factor receptor 1\"}, {\"instance_id\": \"CHEMBL3965946\", \"pref_name\": \"Serine/threonine-protein kinase PIM1\"}, {\"instance_id\": \"CHEMBL3966486\", \"pref_name\": \"Beta-secretase 1\"}, {\"instance_id\": \"CHEMBL3968576\", \"pref_name\": \"Beta-secretase 1\"}, {\"instance_id\": \"CHEMBL3973891\", \"pref_name\": \"Beta-secretase 1\"}, {\"instance_id\": \"CHEMBL3975438\", \"pref_name\": \"Serine/threonine-protein kinase PIM2\"}, {\"instance_id\": \"CHEMBL3977572\", \"pref_name\": \"Serine/threonine-protein kinase PIM2\"}, {\"instance_id\": \"CHEMBL3981095\", \"pref_name\": \"Serine/threonine-protein kinase PIM2\"}, {\"instance_id\": \"CHEMBL3981567\", \"pref_name\": \"Histone deacetylase 1\"}, {\"instance_id\": \"CHEMBL3982420\", \"pref_name\": \"Serine/threonine-protein kinase PIM2\"}, {\"instance_id\": \"CHEMBL402143\", \"pref_name\": \"Serotonin 2a (5-HT2a) receptor\"}, {\"instance_id\": \"CHEMBL402363\", \"pref_name\": \"Histone deacetylase 6\"}, {\"instance_id\": \"CHEMBL408982\", \"pref_name\": \"Serine/threonine-protein kinase PIM2\"}, {\"instance_id\": \"CHEMBL411\", \"pref_name\": \"Serotonin 2c (5-HT2c) receptor\"}, {\"instance_id\": \"CHEMBL419\", \"pref_name\": \"Carbonic anhydrase I\"}, {\"instance_id\": \"CHEMBL42\", \"pref_name\": \"Serotonin 1d (5-HT1d) receptor\"}, {\"instance_id\": \"CHEMBL425247\", \"pref_name\": \"Vascular endothelial growth factor receptor 2\"}, {\"instance_id\": \"CHEMBL436806\", \"pref_name\": \"Vascular endothelial growth factor receptor 2\"}, {\"instance_id\": \"CHEMBL437369\", \"pref_name\": \"Vascular endothelial growth factor receptor 2\"}, {\"instance_id\": \"CHEMBL438861\", \"pref_name\": \"Carbonic anhydrase II\"}, {\"instance_id\": \"CHEMBL442\", \"pref_name\": \"Serotonin 1a (5-HT1a) receptor\"}, {\"instance_id\": \"CHEMBL442798\", \"pref_name\": \"Carbonic anhydrase II\"}, {\"instance_id\": \"CHEMBL448246\", \"pref_name\": \"Matrix metalloproteinase-2\"}, {\"instance_id\": \"CHEMBL453731\", \"pref_name\": \"Carbonic anhydrase I\"}, {\"instance_id\": \"CHEMBL469274\", \"pref_name\": \"Histone deacetylase 6\"}, {\"instance_id\": \"CHEMBL476108\", \"pref_name\": \"Norepinephrine transporter\"}, {\"instance_id\": \"CHEMBL476839\", \"pref_name\": \"Serotonin 2a (5-HT2a) receptor\"}, {\"instance_id\": \"CHEMBL479\", \"pref_name\": \"Serotonin 1a (5-HT1a) receptor\"}, {\"instance_id\": \"CHEMBL486043\", \"pref_name\": \"Serotonin transporter\"}, {\"instance_id\": \"CHEMBL489408\", \"pref_name\": \"Serotonin 2a (5-HT2a) receptor\"}, {\"instance_id\": \"CHEMBL490632\", \"pref_name\": \"Serotonin 2a (5-HT2a) receptor\"}, {\"instance_id\": \"CHEMBL494355\", \"pref_name\": \"Serine/threonine-protein kinase PIM1\"}, {\"instance_id\": \"CHEMBL496587\", \"pref_name\": \"Serine/threonine-protein kinase PIM1\"}, {\"instance_id\": \"CHEMBL496996\", \"pref_name\": \"Serine/threonine-protein kinase PIM1\"}, {\"instance_id\": \"CHEMBL502543\", \"pref_name\": \"Vascular endothelial growth factor receptor 2\"}, {\"instance_id\": \"CHEMBL511347\", \"pref_name\": \"Serotonin transporter\"}, {\"instance_id\": \"CHEMBL515472\", \"pref_name\": \"Serotonin 2a (5-HT2a) receptor\"}, {\"instance_id\": \"CHEMBL516088\", \"pref_name\": \"Serotonin 2a (5-HT2a) receptor\"}, {\"instance_id\": \"CHEMBL517746\", \"pref_name\": \"Carbonic anhydrase I\"}, {\"instance_id\": \"CHEMBL550350\", \"pref_name\": \"Matrix metalloproteinase-1\"}, {\"instance_id\": \"CHEMBL550548\", \"pref_name\": \"Matrix metalloproteinase-1\"}, {\"instance_id\": \"CHEMBL550628\", \"pref_name\": \"Matrix metalloproteinase-1\"}, {\"instance_id\": \"CHEMBL560837\", \"pref_name\": \"Matrix metalloproteinase-1\"}, {\"instance_id\": \"CHEMBL561036\", \"pref_name\": \"Matrix metalloproteinase-1\"}, {\"instance_id\": \"CHEMBL563026\", \"pref_name\": \"Matrix metalloproteinase-1\"}, {\"instance_id\": \"CHEMBL564916\", \"pref_name\": \"Histone deacetylase 1\"}, {\"instance_id\": \"CHEMBL566886\", \"pref_name\": \"Serotonin transporter\"}, {\"instance_id\": \"CHEMBL573176\", \"pref_name\": \"Serine/threonine-protein kinase PIM2\"}, {\"instance_id\": \"CHEMBL574\", \"pref_name\": \"Carbonic anhydrase I\"}, {\"instance_id\": \"CHEMBL575336\", \"pref_name\": \"Serine/threonine-protein kinase PIM1\"}, {\"instance_id\": \"CHEMBL575739\", \"pref_name\": \"Serine/threonine-protein kinase PIM2\"}, {\"instance_id\": \"CHEMBL583788\", \"pref_name\": \"Serine/threonine-protein kinase PIM1\"}, {\"instance_id\": \"CHEMBL584195\", \"pref_name\": \"Serine/threonine-protein kinase PIM2\"}, {\"instance_id\": \"CHEMBL6705\", \"pref_name\": \"Carbonic anhydrase I\"}, {\"instance_id\": \"CHEMBL67755\", \"pref_name\": \"Carbonic anhydrase I\"}, {\"instance_id\": \"CHEMBL6852\", \"pref_name\": \"Carbonic anhydrase I\"}, {\"instance_id\": \"CHEMBL715\", \"pref_name\": \"Serotonin 1d (5-HT1d) receptor\"}, {\"instance_id\": \"CHEMBL750\", \"pref_name\": \"Carbonic anhydrase XII\"}, {\"instance_id\": \"CHEMBL762\", \"pref_name\": \"Serotonin 1a (5-HT1a) receptor\"}, {\"instance_id\": \"CHEMBL79004\", \"pref_name\": \"Serine/threonine-protein kinase PIM2\"}, {\"instance_id\": \"CHEMBL865\", \"pref_name\": \"Carbonic anhydrase I\"}]}}, {\"mode\": \"vega-lite\"});\n",
       "</script>"
      ],
      "text/plain": [
       "alt.VConcatChart(...)"
      ]
     },
     "execution_count": 511,
     "metadata": {},
     "output_type": "execute_result"
    }
   ],
   "source": [
    "chart_one = alt.Chart(df).transform_joinaggregate(\n",
    "        Total='sum(number)'\n",
    "    ).transform_calculate(PercentOfTotal=\"datum.number / datum.Total\").mark_bar().encode(\n",
    "    x=alt.X('PercentOfTotal:Q'),#,sort='descending'),\n",
    "    y=alt.Y('results', title='',axis=alt.Axis(labels=False)),\n",
    "    color=alt.Color('activity', title='Activity type'),\n",
    "    order=alt.Order('activity', sort='ascending')\n",
    ").add_selection(\n",
    "    selector\n",
    ").properties(height=30, width=550)\n",
    "\n",
    "chart_two = alt.Chart(df.iloc[:3]).transform_joinaggregate(\n",
    "        Total='sum(number)'\n",
    "    ).transform_calculate(PercentOfTotal=\"datum.number / datum.Total\").mark_bar().encode(\n",
    "    x=alt.X('PercentOfTotal:Q', title='Hi'),#,sort='descending'),\n",
    "    y=alt.Y('results', title='',axis=alt.Axis(labels=False)),\n",
    "    color=alt.Color('activity', title='Activity type'),\n",
    "    order=alt.Order('activity', sort='ascending')\n",
    ").add_selection(\n",
    "    selector\n",
    ").properties(height=30, width=550)\n",
    "\n",
    "chart = alt.Chart(all_pos_targets).mark_bar()\n",
    "\n",
    "chart = chart.encode(\n",
    "    x = alt.X('pref_name', sort='-y', title='Target preferred name'),\n",
    "    y = alt.Y('count()'), \n",
    ").properties(height=200,width=700)\n",
    "\n",
    "(chart_one&chart_two&chart\n",
    ").configure_axisBottom(labelAngle=-35).configure_header(\n",
    "    titleFontSize=40, \n",
    "    labelFontSize=40\n",
    ").configure_title()"
   ]
  },
  {
   "cell_type": "code",
   "execution_count": 512,
   "metadata": {},
   "outputs": [],
   "source": [
    "def parse_group(group):\n",
    "    inactive = group['outcome'].str.contains('Inactive').any()\n",
    "    active = group['outcome'].str.contains('Active').any()\n",
    "    if inactive and active:\n",
    "        return 'Both'\n",
    "    elif active and ~inactive:\n",
    "        return 'Active'\n",
    "    elif inactive and ~active:\n",
    "        return 'Inactive'\n",
    "    else:\n",
    "        return False\n",
    "    \n",
    "    \n",
    "out = assays_long.groupby(['instance_id', 'pref_name']).apply(parse_group)\n",
    "out_df= pd.DataFrame(out[out!=False]).reset_index().drop('instance_id',axis=1)\n",
    "out_df.columns=['pref_name', 'activity']"
   ]
  },
  {
   "cell_type": "code",
   "execution_count": 556,
   "metadata": {},
   "outputs": [
    {
     "data": {
      "text/html": [
       "\n",
       "<div id=\"altair-viz-85df3e07ae4043a3a886d02df3f4531b\"></div>\n",
       "<script type=\"text/javascript\">\n",
       "  (function(spec, embedOpt){\n",
       "    let outputDiv = document.currentScript.previousElementSibling;\n",
       "    if (outputDiv.id !== \"altair-viz-85df3e07ae4043a3a886d02df3f4531b\") {\n",
       "      outputDiv = document.getElementById(\"altair-viz-85df3e07ae4043a3a886d02df3f4531b\");\n",
       "    }\n",
       "    const paths = {\n",
       "      \"vega\": \"https://cdn.jsdelivr.net/npm//vega@5?noext\",\n",
       "      \"vega-lib\": \"https://cdn.jsdelivr.net/npm//vega-lib?noext\",\n",
       "      \"vega-lite\": \"https://cdn.jsdelivr.net/npm//vega-lite@4.8.1?noext\",\n",
       "      \"vega-embed\": \"https://cdn.jsdelivr.net/npm//vega-embed@6?noext\",\n",
       "    };\n",
       "\n",
       "    function loadScript(lib) {\n",
       "      return new Promise(function(resolve, reject) {\n",
       "        var s = document.createElement('script');\n",
       "        s.src = paths[lib];\n",
       "        s.async = true;\n",
       "        s.onload = () => resolve(paths[lib]);\n",
       "        s.onerror = () => reject(`Error loading script: ${paths[lib]}`);\n",
       "        document.getElementsByTagName(\"head\")[0].appendChild(s);\n",
       "      });\n",
       "    }\n",
       "\n",
       "    function showError(err) {\n",
       "      outputDiv.innerHTML = `<div class=\"error\" style=\"color:red;\">${err}</div>`;\n",
       "      throw err;\n",
       "    }\n",
       "\n",
       "    function displayChart(vegaEmbed) {\n",
       "      vegaEmbed(outputDiv, spec, embedOpt)\n",
       "        .catch(err => showError(`Javascript Error: ${err.message}<br>This usually means there's a typo in your chart specification. See the javascript console for the full traceback.`));\n",
       "    }\n",
       "\n",
       "    if(typeof define === \"function\" && define.amd) {\n",
       "      requirejs.config({paths});\n",
       "      require([\"vega-embed\"], displayChart, err => showError(`Error loading script: ${err.message}`));\n",
       "    } else if (typeof vegaEmbed === \"function\") {\n",
       "      displayChart(vegaEmbed);\n",
       "    } else {\n",
       "      loadScript(\"vega\")\n",
       "        .then(() => loadScript(\"vega-lite\"))\n",
       "        .then(() => loadScript(\"vega-embed\"))\n",
       "        .catch(showError)\n",
       "        .then(() => displayChart(vegaEmbed));\n",
       "    }\n",
       "  })({\"config\": {\"view\": {\"continuousWidth\": 400, \"continuousHeight\": 300}, \"axisBottom\": {\"labelAngle\": -35}, \"axisY\": {\"titleAlign\": \"left\", \"titleAngle\": 0, \"titleFontSize\": 16, \"titleX\": -10, \"titleY\": -10}, \"header\": {\"labelFontSize\": 40, \"titleFontSize\": 40}}, \"vconcat\": [{\"data\": {\"name\": \"data-c8ff6c75327497d556bdd6eac04ede2a\"}, \"mark\": \"bar\", \"encoding\": {\"color\": {\"type\": \"nominal\", \"field\": \"activity\", \"title\": \"Activity type\"}, \"order\": {\"type\": \"nominal\", \"field\": \"activity\", \"sort\": \"ascending\"}, \"x\": {\"type\": \"quantitative\", \"field\": \"PercentOfTotal\", \"title\": \"Proportion\"}, \"y\": {\"type\": \"nominal\", \"axis\": {\"labels\": false}, \"field\": \"results\", \"title\": \"All records\"}}, \"height\": 30, \"selection\": {\"selector004\": {\"type\": \"single\", \"encodings\": [\"x\", \"color\"]}}, \"transform\": [{\"joinaggregate\": [{\"op\": \"sum\", \"field\": \"number\", \"as\": \"Total\"}]}, {\"calculate\": \"datum.number / datum.Total\", \"as\": \"PercentOfTotal\"}], \"width\": 550}, {\"data\": {\"name\": \"data-0e01c610e98ef8316865033c1a21eb8a\"}, \"mark\": \"bar\", \"encoding\": {\"color\": {\"type\": \"nominal\", \"field\": \"activity\", \"title\": \"Activity type\"}, \"order\": {\"type\": \"nominal\", \"field\": \"activity\", \"sort\": \"ascending\"}, \"x\": {\"type\": \"quantitative\", \"field\": \"PercentOfTotal\", \"title\": \"Proportion\"}, \"y\": {\"type\": \"nominal\", \"axis\": {\"labels\": false}, \"field\": \"results\", \"title\": \"Records with evidence\"}}, \"height\": 30, \"selection\": {\"selector004\": {\"type\": \"single\", \"encodings\": [\"x\", \"color\"]}}, \"transform\": [{\"joinaggregate\": [{\"op\": \"sum\", \"field\": \"number\", \"as\": \"Total\"}]}, {\"calculate\": \"datum.number / datum.Total\", \"as\": \"PercentOfTotal\"}], \"width\": 550}, {\"data\": {\"name\": \"data-d925c3fecfd9ec5eee517cceba54a40c\"}, \"mark\": \"bar\", \"encoding\": {\"color\": {\"type\": \"nominal\", \"field\": \"activity\"}, \"order\": {\"type\": \"nominal\", \"field\": \"activity\", \"sort\": \"ascending\"}, \"x\": {\"type\": \"nominal\", \"field\": \"pref_name\", \"sort\": \"-y\", \"title\": \"Target preferred name\"}, \"y\": {\"type\": \"quantitative\", \"aggregate\": \"count\"}}, \"height\": 200, \"width\": 550}], \"$schema\": \"https://vega.github.io/schema/vega-lite/v4.8.1.json\", \"datasets\": {\"data-c8ff6c75327497d556bdd6eac04ede2a\": [{\"results\": \"Results\", \"activity\": \"Active\", \"number\": 300, \"proportion\": 0.28957528957528955}, {\"results\": \"Results\", \"activity\": \"Inactive\", \"number\": 57, \"proportion\": 0.05501930501930502}, {\"results\": \"Results\", \"activity\": \"Both\", \"number\": 12, \"proportion\": 0.011583011583011582}, {\"results\": \"Results\", \"activity\": \"Unknown\", \"number\": 667, \"proportion\": 0.6438223938223938}], \"data-0e01c610e98ef8316865033c1a21eb8a\": [{\"results\": \"Results\", \"activity\": \"Active\", \"number\": 300, \"proportion\": 0.28957528957528955}, {\"results\": \"Results\", \"activity\": \"Inactive\", \"number\": 57, \"proportion\": 0.05501930501930502}, {\"results\": \"Results\", \"activity\": \"Both\", \"number\": 12, \"proportion\": 0.011583011583011582}], \"data-d925c3fecfd9ec5eee517cceba54a40c\": [{\"pref_name\": \"Tyrosine-protein kinase JAK2\", \"activity\": \"Inactive\"}, {\"pref_name\": \"Fibroblast growth factor receptor 3\", \"activity\": \"Inactive\"}, {\"pref_name\": \"Tyrosine-protein kinase receptor FLT3\", \"activity\": \"Active\"}, {\"pref_name\": \"Tyrosine-protein kinase JAK2\", \"activity\": \"Active\"}, {\"pref_name\": \"Macrophage colony stimulating factor receptor\", \"activity\": \"Active\"}, {\"pref_name\": \"Histone deacetylase 1\", \"activity\": \"Active\"}, {\"pref_name\": \"Serotonin transporter\", \"activity\": \"Active\"}, {\"pref_name\": \"Carbonic anhydrase II\", \"activity\": \"Active\"}, {\"pref_name\": \"Cytochrome P450 11B2\", \"activity\": \"Active\"}, {\"pref_name\": \"Carbonic anhydrase I\", \"activity\": \"Active\"}, {\"pref_name\": \"Carbonic anhydrase II\", \"activity\": \"Active\"}, {\"pref_name\": \"Carbonic anhydrase I\", \"activity\": \"Active\"}, {\"pref_name\": \"PI3-kinase p110-alpha subunit\", \"activity\": \"Active\"}, {\"pref_name\": \"PI3-kinase p110-alpha subunit\", \"activity\": \"Active\"}, {\"pref_name\": \"PI3-kinase p110-alpha subunit\", \"activity\": \"Active\"}, {\"pref_name\": \"Carbonic anhydrase I\", \"activity\": \"Active\"}, {\"pref_name\": \"Serotonin 2a (5-HT2a) receptor\", \"activity\": \"Inactive\"}, {\"pref_name\": \"Tyrosine-protein kinase JAK2\", \"activity\": \"Inactive\"}, {\"pref_name\": \"Carbonic anhydrase I\", \"activity\": \"Active\"}, {\"pref_name\": \"Cytochrome P450 11B2\", \"activity\": \"Active\"}, {\"pref_name\": \"Matrix metalloproteinase 9\", \"activity\": \"Active\"}, {\"pref_name\": \"Cytochrome P450 11B2\", \"activity\": \"Active\"}, {\"pref_name\": \"Carbonic anhydrase II\", \"activity\": \"Active\"}, {\"pref_name\": \"Carbonic anhydrase II\", \"activity\": \"Active\"}, {\"pref_name\": \"Carbonic anhydrase II\", \"activity\": \"Active\"}, {\"pref_name\": \"Tyrosine-protein kinase JAK1\", \"activity\": \"Inactive\"}, {\"pref_name\": \"Tyrosine-protein kinase JAK2\", \"activity\": \"Inactive\"}, {\"pref_name\": \"Tyrosine-protein kinase SRC\", \"activity\": \"Inactive\"}, {\"pref_name\": \"PI3-kinase p110-alpha subunit\", \"activity\": \"Active\"}, {\"pref_name\": \"Carbonic anhydrase I\", \"activity\": \"Active\"}, {\"pref_name\": \"Matrix metalloproteinase-2\", \"activity\": \"Active\"}, {\"pref_name\": \"Matrix metalloproteinase-2\", \"activity\": \"Active\"}, {\"pref_name\": \"Matrix metalloproteinase-2\", \"activity\": \"Active\"}, {\"pref_name\": \"Matrix metalloproteinase-2\", \"activity\": \"Active\"}, {\"pref_name\": \"Matrix metalloproteinase-2\", \"activity\": \"Active\"}, {\"pref_name\": \"Matrix metalloproteinase-2\", \"activity\": \"Active\"}, {\"pref_name\": \"Serotonin transporter\", \"activity\": \"Active\"}, {\"pref_name\": \"Carbonic anhydrase II\", \"activity\": \"Active\"}, {\"pref_name\": \"Serotonin 2c (5-HT2c) receptor\", \"activity\": \"Active\"}, {\"pref_name\": \"Serine/threonine-protein kinase PIM2\", \"activity\": \"Active\"}, {\"pref_name\": \"Serine/threonine-protein kinase PIM2\", \"activity\": \"Active\"}, {\"pref_name\": \"Serine/threonine-protein kinase PIM2\", \"activity\": \"Active\"}, {\"pref_name\": \"Serine/threonine-protein kinase PIM1\", \"activity\": \"Active\"}, {\"pref_name\": \"Serine/threonine-protein kinase PIM1\", \"activity\": \"Active\"}, {\"pref_name\": \"Serine/threonine-protein kinase PIM1\", \"activity\": \"Active\"}, {\"pref_name\": \"Serine/threonine-protein kinase PIM1\", \"activity\": \"Active\"}, {\"pref_name\": \"Serine/threonine-protein kinase PIM1\", \"activity\": \"Active\"}, {\"pref_name\": \"Serine/threonine-protein kinase PIM1\", \"activity\": \"Active\"}, {\"pref_name\": \"Serine/threonine-protein kinase PIM1\", \"activity\": \"Active\"}, {\"pref_name\": \"Serine/threonine-protein kinase PIM1\", \"activity\": \"Active\"}, {\"pref_name\": \"Serine/threonine-protein kinase PIM1\", \"activity\": \"Active\"}, {\"pref_name\": \"Serine/threonine-protein kinase PIM2\", \"activity\": \"Active\"}, {\"pref_name\": \"Carbonic anhydrase I\", \"activity\": \"Active\"}, {\"pref_name\": \"Cyclin-dependent kinase 2\", \"activity\": \"Active\"}, {\"pref_name\": \"Tyrosine-protein kinase LCK\", \"activity\": \"Active\"}, {\"pref_name\": \"Cytochrome P450 11B2\", \"activity\": \"Both\"}, {\"pref_name\": \"Cytochrome P450 11B2\", \"activity\": \"Active\"}, {\"pref_name\": \"Cytochrome P450 11B2\", \"activity\": \"Active\"}, {\"pref_name\": \"Cytochrome P450 11B2\", \"activity\": \"Active\"}, {\"pref_name\": \"Cytochrome P450 11B2\", \"activity\": \"Active\"}, {\"pref_name\": \"Cytochrome P450 11B2\", \"activity\": \"Active\"}, {\"pref_name\": \"Cytochrome P450 11B2\", \"activity\": \"Active\"}, {\"pref_name\": \"Cytochrome P450 11B2\", \"activity\": \"Active\"}, {\"pref_name\": \"Cytochrome P450 11B2\", \"activity\": \"Both\"}, {\"pref_name\": \"Cytochrome P450 11B2\", \"activity\": \"Active\"}, {\"pref_name\": \"Serotonin 2c (5-HT2c) receptor\", \"activity\": \"Inactive\"}, {\"pref_name\": \"Vascular endothelial growth factor receptor 2\", \"activity\": \"Active\"}, {\"pref_name\": \"Histone deacetylase 1\", \"activity\": \"Active\"}, {\"pref_name\": \"Histone deacetylase 1\", \"activity\": \"Active\"}, {\"pref_name\": \"Vascular endothelial growth factor receptor 2\", \"activity\": \"Active\"}, {\"pref_name\": \"Serine/threonine-protein kinase PIM2\", \"activity\": \"Active\"}, {\"pref_name\": \"Serine/threonine-protein kinase PIM1\", \"activity\": \"Active\"}, {\"pref_name\": \"Serine/threonine-protein kinase PIM1\", \"activity\": \"Active\"}, {\"pref_name\": \"Vascular endothelial growth factor receptor 2\", \"activity\": \"Active\"}, {\"pref_name\": \"Vascular endothelial growth factor receptor 2\", \"activity\": \"Active\"}, {\"pref_name\": \"Vascular endothelial growth factor receptor 2\", \"activity\": \"Active\"}, {\"pref_name\": \"Vascular endothelial growth factor receptor 2\", \"activity\": \"Active\"}, {\"pref_name\": \"Vascular endothelial growth factor receptor 2\", \"activity\": \"Active\"}, {\"pref_name\": \"PI3-kinase p110-alpha subunit\", \"activity\": \"Active\"}, {\"pref_name\": \"Vascular endothelial growth factor receptor 2\", \"activity\": \"Active\"}, {\"pref_name\": \"PI3-kinase p110-alpha subunit\", \"activity\": \"Active\"}, {\"pref_name\": \"Vascular endothelial growth factor receptor 2\", \"activity\": \"Active\"}, {\"pref_name\": \"Carbonic anhydrase XII\", \"activity\": \"Active\"}, {\"pref_name\": \"Carbonic anhydrase I\", \"activity\": \"Active\"}, {\"pref_name\": \"Carbonic anhydrase II\", \"activity\": \"Active\"}, {\"pref_name\": \"Carbonic anhydrase IX\", \"activity\": \"Active\"}, {\"pref_name\": \"Vascular endothelial growth factor receptor 2\", \"activity\": \"Active\"}, {\"pref_name\": \"Vascular endothelial growth factor receptor 2\", \"activity\": \"Active\"}, {\"pref_name\": \"Vascular endothelial growth factor receptor 2\", \"activity\": \"Active\"}, {\"pref_name\": \"Vascular endothelial growth factor receptor 2\", \"activity\": \"Active\"}, {\"pref_name\": \"Vascular endothelial growth factor receptor 2\", \"activity\": \"Active\"}, {\"pref_name\": \"Vascular endothelial growth factor receptor 2\", \"activity\": \"Active\"}, {\"pref_name\": \"Carbonic anhydrase II\", \"activity\": \"Active\"}, {\"pref_name\": \"Vascular endothelial growth factor receptor 2\", \"activity\": \"Active\"}, {\"pref_name\": \"Vascular endothelial growth factor receptor 2\", \"activity\": \"Active\"}, {\"pref_name\": \"Vascular endothelial growth factor receptor 2\", \"activity\": \"Active\"}, {\"pref_name\": \"Carbonic anhydrase I\", \"activity\": \"Active\"}, {\"pref_name\": \"Carbonic anhydrase I\", \"activity\": \"Active\"}, {\"pref_name\": \"Carbonic anhydrase I\", \"activity\": \"Active\"}, {\"pref_name\": \"Carbonic anhydrase I\", \"activity\": \"Active\"}, {\"pref_name\": \"Carbonic anhydrase I\", \"activity\": \"Active\"}, {\"pref_name\": \"Carbonic anhydrase I\", \"activity\": \"Active\"}, {\"pref_name\": \"Histone deacetylase 6\", \"activity\": \"Inactive\"}, {\"pref_name\": \"Carbonic anhydrase I\", \"activity\": \"Active\"}, {\"pref_name\": \"Carbonic anhydrase II\", \"activity\": \"Active\"}, {\"pref_name\": \"Serotonin 2c (5-HT2c) receptor\", \"activity\": \"Inactive\"}, {\"pref_name\": \"Carbonic anhydrase I\", \"activity\": \"Inactive\"}, {\"pref_name\": \"Carbonic anhydrase II\", \"activity\": \"Inactive\"}, {\"pref_name\": \"Serotonin transporter\", \"activity\": \"Active\"}, {\"pref_name\": \"Carbonic anhydrase XII\", \"activity\": \"Active\"}, {\"pref_name\": \"Carbonic anhydrase I\", \"activity\": \"Active\"}, {\"pref_name\": \"Carbonic anhydrase I\", \"activity\": \"Active\"}, {\"pref_name\": \"Carbonic anhydrase I\", \"activity\": \"Inactive\"}, {\"pref_name\": \"Carbonic anhydrase II\", \"activity\": \"Both\"}, {\"pref_name\": \"Carbonic anhydrase I\", \"activity\": \"Inactive\"}, {\"pref_name\": \"Carbonic anhydrase II\", \"activity\": \"Both\"}, {\"pref_name\": \"Carbonic anhydrase I\", \"activity\": \"Inactive\"}, {\"pref_name\": \"Carbonic anhydrase II\", \"activity\": \"Both\"}, {\"pref_name\": \"Carbonic anhydrase I\", \"activity\": \"Inactive\"}, {\"pref_name\": \"Carbonic anhydrase II\", \"activity\": \"Inactive\"}, {\"pref_name\": \"Carbonic anhydrase I\", \"activity\": \"Inactive\"}, {\"pref_name\": \"Carbonic anhydrase II\", \"activity\": \"Both\"}, {\"pref_name\": \"Carbonic anhydrase I\", \"activity\": \"Inactive\"}, {\"pref_name\": \"Carbonic anhydrase II\", \"activity\": \"Inactive\"}, {\"pref_name\": \"Carbonic anhydrase I\", \"activity\": \"Active\"}, {\"pref_name\": \"Carbonic anhydrase I\", \"activity\": \"Active\"}, {\"pref_name\": \"Carbonic anhydrase II\", \"activity\": \"Active\"}, {\"pref_name\": \"Histone deacetylase 1\", \"activity\": \"Inactive\"}, {\"pref_name\": \"Histone deacetylase 1\", \"activity\": \"Inactive\"}, {\"pref_name\": \"Carbonic anhydrase II\", \"activity\": \"Active\"}, {\"pref_name\": \"Carbonic anhydrase II\", \"activity\": \"Active\"}, {\"pref_name\": \"Histone deacetylase 1\", \"activity\": \"Active\"}, {\"pref_name\": \"Serine/threonine-protein kinase PIM1\", \"activity\": \"Active\"}, {\"pref_name\": \"Serine/threonine-protein kinase PIM1\", \"activity\": \"Active\"}, {\"pref_name\": \"Serine/threonine-protein kinase PIM1\", \"activity\": \"Active\"}, {\"pref_name\": \"Serine/threonine-protein kinase PIM1\", \"activity\": \"Active\"}, {\"pref_name\": \"Norepinephrine transporter\", \"activity\": \"Active\"}, {\"pref_name\": \"Carbonic anhydrase I\", \"activity\": \"Active\"}, {\"pref_name\": \"Histone deacetylase 6\", \"activity\": \"Active\"}, {\"pref_name\": \"Vascular endothelial growth factor receptor 2\", \"activity\": \"Active\"}, {\"pref_name\": \"Vascular endothelial growth factor receptor 2\", \"activity\": \"Active\"}, {\"pref_name\": \"Vascular endothelial growth factor receptor 2\", \"activity\": \"Active\"}, {\"pref_name\": \"Cytochrome P450 11B2\", \"activity\": \"Active\"}, {\"pref_name\": \"Serine/threonine-protein kinase PIM1\", \"activity\": \"Active\"}, {\"pref_name\": \"Histone deacetylase 6\", \"activity\": \"Inactive\"}, {\"pref_name\": \"Vascular endothelial growth factor receptor 2\", \"activity\": \"Active\"}, {\"pref_name\": \"Histone deacetylase 6\", \"activity\": \"Both\"}, {\"pref_name\": \"Tyrosine-protein kinase ABL\", \"activity\": \"Active\"}, {\"pref_name\": \"Serotonin transporter\", \"activity\": \"Active\"}, {\"pref_name\": \"Carbonic anhydrase I\", \"activity\": \"Active\"}, {\"pref_name\": \"Serine/threonine-protein kinase PIM1\", \"activity\": \"Active\"}, {\"pref_name\": \"Serine/threonine-protein kinase PIM1\", \"activity\": \"Active\"}, {\"pref_name\": \"Serine/threonine-protein kinase PIM1\", \"activity\": \"Active\"}, {\"pref_name\": \"Serine/threonine-protein kinase PIM1\", \"activity\": \"Active\"}, {\"pref_name\": \"Carbonic anhydrase I\", \"activity\": \"Active\"}, {\"pref_name\": \"Histone deacetylase 1\", \"activity\": \"Active\"}, {\"pref_name\": \"Histone deacetylase 1\", \"activity\": \"Active\"}, {\"pref_name\": \"Histone deacetylase 1\", \"activity\": \"Active\"}, {\"pref_name\": \"Tyrosine-protein kinase JAK2\", \"activity\": \"Active\"}, {\"pref_name\": \"Tyrosine-protein kinase JAK2\", \"activity\": \"Active\"}, {\"pref_name\": \"Fibroblast growth factor receptor 1\", \"activity\": \"Inactive\"}, {\"pref_name\": \"Tyrosine-protein kinase JAK2\", \"activity\": \"Both\"}, {\"pref_name\": \"Vascular endothelial growth factor receptor 2\", \"activity\": \"Both\"}, {\"pref_name\": \"Carbonic anhydrase XII\", \"activity\": \"Active\"}, {\"pref_name\": \"Tyrosine-protein kinase receptor FLT3\", \"activity\": \"Active\"}, {\"pref_name\": \"Serotonin 2c (5-HT2c) receptor\", \"activity\": \"Active\"}, {\"pref_name\": \"Serotonin 2c (5-HT2c) receptor\", \"activity\": \"Active\"}, {\"pref_name\": \"Serotonin 2c (5-HT2c) receptor\", \"activity\": \"Active\"}, {\"pref_name\": \"Serotonin 2c (5-HT2c) receptor\", \"activity\": \"Active\"}, {\"pref_name\": \"Histone deacetylase 1\", \"activity\": \"Active\"}, {\"pref_name\": \"Histone deacetylase 1\", \"activity\": \"Active\"}, {\"pref_name\": \"Histone deacetylase 6\", \"activity\": \"Inactive\"}, {\"pref_name\": \"Histone deacetylase 6\", \"activity\": \"Inactive\"}, {\"pref_name\": \"Histone deacetylase 6\", \"activity\": \"Inactive\"}, {\"pref_name\": \"Histone deacetylase 6\", \"activity\": \"Inactive\"}, {\"pref_name\": \"Histone deacetylase 1\", \"activity\": \"Active\"}, {\"pref_name\": \"Fibroblast growth factor receptor 3\", \"activity\": \"Active\"}, {\"pref_name\": \"Fibroblast growth factor receptor 3\", \"activity\": \"Active\"}, {\"pref_name\": \"Fibroblast growth factor receptor 3\", \"activity\": \"Active\"}, {\"pref_name\": \"Fibroblast growth factor receptor 3\", \"activity\": \"Active\"}, {\"pref_name\": \"PI3-kinase p110-alpha subunit\", \"activity\": \"Active\"}, {\"pref_name\": \"PI3-kinase p110-alpha subunit\", \"activity\": \"Active\"}, {\"pref_name\": \"PI3-kinase p110-alpha subunit\", \"activity\": \"Active\"}, {\"pref_name\": \"PI3-kinase p110-alpha subunit\", \"activity\": \"Active\"}, {\"pref_name\": \"Serotonin transporter\", \"activity\": \"Active\"}, {\"pref_name\": \"Histone deacetylase 1\", \"activity\": \"Active\"}, {\"pref_name\": \"Histone deacetylase 6\", \"activity\": \"Inactive\"}, {\"pref_name\": \"Tyrosine-protein kinase JAK2\", \"activity\": \"Active\"}, {\"pref_name\": \"Tyrosine-protein kinase JAK1\", \"activity\": \"Active\"}, {\"pref_name\": \"Tyrosine-protein kinase JAK1\", \"activity\": \"Active\"}, {\"pref_name\": \"Serine/threonine-protein kinase PIM2\", \"activity\": \"Active\"}, {\"pref_name\": \"Tyrosine-protein kinase JAK1\", \"activity\": \"Active\"}, {\"pref_name\": \"Serine/threonine-protein kinase PIM1\", \"activity\": \"Active\"}, {\"pref_name\": \"Serine/threonine-protein kinase PIM1\", \"activity\": \"Active\"}, {\"pref_name\": \"Beta-secretase 1\", \"activity\": \"Active\"}, {\"pref_name\": \"Beta-secretase 1\", \"activity\": \"Active\"}, {\"pref_name\": \"Tyrosine-protein kinase JAK1\", \"activity\": \"Active\"}, {\"pref_name\": \"Fibroblast growth factor receptor 2\", \"activity\": \"Active\"}, {\"pref_name\": \"Fibroblast growth factor receptor 2\", \"activity\": \"Active\"}, {\"pref_name\": \"Fibroblast growth factor receptor 2\", \"activity\": \"Active\"}, {\"pref_name\": \"Fibroblast growth factor receptor 2\", \"activity\": \"Active\"}, {\"pref_name\": \"Fibroblast growth factor receptor 2\", \"activity\": \"Active\"}, {\"pref_name\": \"Serotonin transporter\", \"activity\": \"Active\"}, {\"pref_name\": \"Tyrosine-protein kinase JAK2\", \"activity\": \"Active\"}, {\"pref_name\": \"Tyrosine-protein kinase JAK2\", \"activity\": \"Active\"}, {\"pref_name\": \"Tyrosine-protein kinase JAK2\", \"activity\": \"Active\"}, {\"pref_name\": \"Tyrosine-protein kinase JAK2\", \"activity\": \"Active\"}, {\"pref_name\": \"Tyrosine-protein kinase JAK2\", \"activity\": \"Inactive\"}, {\"pref_name\": \"Serine/threonine-protein kinase PIM1\", \"activity\": \"Active\"}, {\"pref_name\": \"Norepinephrine transporter\", \"activity\": \"Active\"}, {\"pref_name\": \"Histone deacetylase 6\", \"activity\": \"Active\"}, {\"pref_name\": \"Vascular endothelial growth factor receptor 2\", \"activity\": \"Active\"}, {\"pref_name\": \"Vascular endothelial growth factor receptor 2\", \"activity\": \"Active\"}, {\"pref_name\": \"Vascular endothelial growth factor receptor 2\", \"activity\": \"Active\"}, {\"pref_name\": \"Vascular endothelial growth factor receptor 2\", \"activity\": \"Active\"}, {\"pref_name\": \"Vascular endothelial growth factor receptor 2\", \"activity\": \"Active\"}, {\"pref_name\": \"Vascular endothelial growth factor receptor 2\", \"activity\": \"Active\"}, {\"pref_name\": \"Serine/threonine-protein kinase PIM1\", \"activity\": \"Active\"}, {\"pref_name\": \"Serine/threonine-protein kinase PIM1\", \"activity\": \"Active\"}, {\"pref_name\": \"Serine/threonine-protein kinase PIM1\", \"activity\": \"Active\"}, {\"pref_name\": \"Vascular endothelial growth factor receptor 2\", \"activity\": \"Active\"}, {\"pref_name\": \"Carbonic anhydrase IX\", \"activity\": \"Active\"}, {\"pref_name\": \"Vascular endothelial growth factor receptor 2\", \"activity\": \"Active\"}, {\"pref_name\": \"Vascular endothelial growth factor receptor 2\", \"activity\": \"Active\"}, {\"pref_name\": \"Vascular endothelial growth factor receptor 2\", \"activity\": \"Active\"}, {\"pref_name\": \"Tyrosine-protein kinase JAK2\", \"activity\": \"Active\"}, {\"pref_name\": \"Serotonin 2c (5-HT2c) receptor\", \"activity\": \"Active\"}, {\"pref_name\": \"Serotonin 2c (5-HT2c) receptor\", \"activity\": \"Active\"}, {\"pref_name\": \"Serotonin 2c (5-HT2c) receptor\", \"activity\": \"Active\"}, {\"pref_name\": \"Serotonin 2c (5-HT2c) receptor\", \"activity\": \"Active\"}, {\"pref_name\": \"Serotonin 2c (5-HT2c) receptor\", \"activity\": \"Active\"}, {\"pref_name\": \"Vascular endothelial growth factor receptor 2\", \"activity\": \"Active\"}, {\"pref_name\": \"Vascular endothelial growth factor receptor 2\", \"activity\": \"Active\"}, {\"pref_name\": \"Vascular endothelial growth factor receptor 2\", \"activity\": \"Active\"}, {\"pref_name\": \"Vascular endothelial growth factor receptor 2\", \"activity\": \"Active\"}, {\"pref_name\": \"Carbonic anhydrase I\", \"activity\": \"Active\"}, {\"pref_name\": \"Carbonic anhydrase I\", \"activity\": \"Both\"}, {\"pref_name\": \"Tyrosine-protein kinase ABL\", \"activity\": \"Active\"}, {\"pref_name\": \"Serine/threonine-protein kinase PIM2\", \"activity\": \"Active\"}, {\"pref_name\": \"Beta-secretase 1\", \"activity\": \"Active\"}, {\"pref_name\": \"Carbonic anhydrase I\", \"activity\": \"Active\"}, {\"pref_name\": \"Serine/threonine-protein kinase PIM2\", \"activity\": \"Active\"}, {\"pref_name\": \"Serine/threonine-protein kinase PIM2\", \"activity\": \"Active\"}, {\"pref_name\": \"Serine/threonine-protein kinase PIM1\", \"activity\": \"Active\"}, {\"pref_name\": \"Histone deacetylase 1\", \"activity\": \"Active\"}, {\"pref_name\": \"Vascular endothelial growth factor receptor 2\", \"activity\": \"Active\"}, {\"pref_name\": \"Fibroblast growth factor receptor 1\", \"activity\": \"Active\"}, {\"pref_name\": \"Beta-secretase 1\", \"activity\": \"Active\"}, {\"pref_name\": \"Serine/threonine-protein kinase PIM2\", \"activity\": \"Active\"}, {\"pref_name\": \"Beta-secretase 1\", \"activity\": \"Active\"}, {\"pref_name\": \"Serine/threonine-protein kinase PIM1\", \"activity\": \"Active\"}, {\"pref_name\": \"Cytochrome P450 11B2\", \"activity\": \"Active\"}, {\"pref_name\": \"Fibroblast growth factor receptor 1\", \"activity\": \"Active\"}, {\"pref_name\": \"Histone deacetylase 1\", \"activity\": \"Active\"}, {\"pref_name\": \"Beta-secretase 1\", \"activity\": \"Active\"}, {\"pref_name\": \"Beta-secretase 1\", \"activity\": \"Active\"}, {\"pref_name\": \"Serine/threonine-protein kinase PIM2\", \"activity\": \"Active\"}, {\"pref_name\": \"Vascular endothelial growth factor receptor 2\", \"activity\": \"Active\"}, {\"pref_name\": \"Serine/threonine-protein kinase PIM2\", \"activity\": \"Active\"}, {\"pref_name\": \"Carbonic anhydrase II\", \"activity\": \"Active\"}, {\"pref_name\": \"Carbonic anhydrase II\", \"activity\": \"Active\"}, {\"pref_name\": \"Serine/threonine-protein kinase PIM2\", \"activity\": \"Active\"}, {\"pref_name\": \"Serine/threonine-protein kinase PIM2\", \"activity\": \"Active\"}, {\"pref_name\": \"Carbonic anhydrase I\", \"activity\": \"Active\"}, {\"pref_name\": \"Serine/threonine-protein kinase PIM2\", \"activity\": \"Active\"}, {\"pref_name\": \"Vascular endothelial growth factor receptor 2\", \"activity\": \"Active\"}, {\"pref_name\": \"Serine/threonine-protein kinase PIM2\", \"activity\": \"Active\"}, {\"pref_name\": \"Fibroblast growth factor receptor 1\", \"activity\": \"Active\"}, {\"pref_name\": \"Serine/threonine-protein kinase PIM1\", \"activity\": \"Active\"}, {\"pref_name\": \"Beta-secretase 1\", \"activity\": \"Active\"}, {\"pref_name\": \"Beta-secretase 1\", \"activity\": \"Active\"}, {\"pref_name\": \"Beta-secretase 1\", \"activity\": \"Active\"}, {\"pref_name\": \"Serine/threonine-protein kinase PIM2\", \"activity\": \"Active\"}, {\"pref_name\": \"Serine/threonine-protein kinase PIM2\", \"activity\": \"Active\"}, {\"pref_name\": \"Serine/threonine-protein kinase PIM2\", \"activity\": \"Active\"}, {\"pref_name\": \"Histone deacetylase 1\", \"activity\": \"Active\"}, {\"pref_name\": \"Serine/threonine-protein kinase PIM2\", \"activity\": \"Active\"}, {\"pref_name\": \"Serotonin 2a (5-HT2a) receptor\", \"activity\": \"Active\"}, {\"pref_name\": \"Histone deacetylase 6\", \"activity\": \"Active\"}, {\"pref_name\": \"Serine/threonine-protein kinase PIM2\", \"activity\": \"Active\"}, {\"pref_name\": \"Serotonin 2c (5-HT2c) receptor\", \"activity\": \"Active\"}, {\"pref_name\": \"Carbonic anhydrase I\", \"activity\": \"Active\"}, {\"pref_name\": \"Serotonin 1d (5-HT1d) receptor\", \"activity\": \"Active\"}, {\"pref_name\": \"Vascular endothelial growth factor receptor 2\", \"activity\": \"Active\"}, {\"pref_name\": \"Tyrosine-protein kinase JAK1\", \"activity\": \"Inactive\"}, {\"pref_name\": \"Vascular endothelial growth factor receptor 2\", \"activity\": \"Inactive\"}, {\"pref_name\": \"Vascular endothelial growth factor receptor 2\", \"activity\": \"Active\"}, {\"pref_name\": \"Vascular endothelial growth factor receptor 2\", \"activity\": \"Active\"}, {\"pref_name\": \"Carbonic anhydrase II\", \"activity\": \"Active\"}, {\"pref_name\": \"Serotonin 1a (5-HT1a) receptor\", \"activity\": \"Active\"}, {\"pref_name\": \"Carbonic anhydrase II\", \"activity\": \"Active\"}, {\"pref_name\": \"Matrix metalloproteinase-2\", \"activity\": \"Active\"}, {\"pref_name\": \"Carbonic anhydrase I\", \"activity\": \"Active\"}, {\"pref_name\": \"Histone deacetylase 6\", \"activity\": \"Active\"}, {\"pref_name\": \"Norepinephrine transporter\", \"activity\": \"Active\"}, {\"pref_name\": \"Serotonin 2a (5-HT2a) receptor\", \"activity\": \"Active\"}, {\"pref_name\": \"Serotonin 1a (5-HT1a) receptor\", \"activity\": \"Active\"}, {\"pref_name\": \"Serotonin transporter\", \"activity\": \"Active\"}, {\"pref_name\": \"Serotonin 2a (5-HT2a) receptor\", \"activity\": \"Active\"}, {\"pref_name\": \"Serotonin 2a (5-HT2a) receptor\", \"activity\": \"Active\"}, {\"pref_name\": \"Serine/threonine-protein kinase PIM1\", \"activity\": \"Active\"}, {\"pref_name\": \"Serine/threonine-protein kinase PIM1\", \"activity\": \"Active\"}, {\"pref_name\": \"Serine/threonine-protein kinase PIM1\", \"activity\": \"Active\"}, {\"pref_name\": \"Vascular endothelial growth factor receptor 2\", \"activity\": \"Active\"}, {\"pref_name\": \"Rho-associated protein kinase 2\", \"activity\": \"Inactive\"}, {\"pref_name\": \"Serotonin transporter\", \"activity\": \"Active\"}, {\"pref_name\": \"Serotonin 2a (5-HT2a) receptor\", \"activity\": \"Active\"}, {\"pref_name\": \"Serotonin 2a (5-HT2a) receptor\", \"activity\": \"Active\"}, {\"pref_name\": \"Carbonic anhydrase I\", \"activity\": \"Active\"}, {\"pref_name\": \"Histone deacetylase 1\", \"activity\": \"Inactive\"}, {\"pref_name\": \"Cyclin-dependent kinase 2\", \"activity\": \"Inactive\"}, {\"pref_name\": \"Serine/threonine-protein kinase AKT\", \"activity\": \"Inactive\"}, {\"pref_name\": \"Serine/threonine-protein kinase PIM1\", \"activity\": \"Inactive\"}, {\"pref_name\": \"c-Jun N-terminal kinase 1\", \"activity\": \"Inactive\"}, {\"pref_name\": \"Matrix metalloproteinase-1\", \"activity\": \"Active\"}, {\"pref_name\": \"Matrix metalloproteinase-1\", \"activity\": \"Active\"}, {\"pref_name\": \"Matrix metalloproteinase-1\", \"activity\": \"Active\"}, {\"pref_name\": \"Fibroblast growth factor receptor 1\", \"activity\": \"Inactive\"}, {\"pref_name\": \"Fibroblast growth factor receptor 3\", \"activity\": \"Inactive\"}, {\"pref_name\": \"Tyrosine-protein kinase JAK1\", \"activity\": \"Inactive\"}, {\"pref_name\": \"Serotonin 2a (5-HT2a) receptor\", \"activity\": \"Both\"}, {\"pref_name\": \"Matrix metalloproteinase-1\", \"activity\": \"Active\"}, {\"pref_name\": \"Matrix metalloproteinase-1\", \"activity\": \"Active\"}, {\"pref_name\": \"Matrix metalloproteinase-1\", \"activity\": \"Active\"}, {\"pref_name\": \"Histone deacetylase 1\", \"activity\": \"Active\"}, {\"pref_name\": \"Serotonin transporter\", \"activity\": \"Active\"}, {\"pref_name\": \"Histone deacetylase 6\", \"activity\": \"Inactive\"}, {\"pref_name\": \"Serine/threonine-protein kinase PIM2\", \"activity\": \"Active\"}, {\"pref_name\": \"Carbonic anhydrase I\", \"activity\": \"Active\"}, {\"pref_name\": \"Serine/threonine-protein kinase PIM1\", \"activity\": \"Active\"}, {\"pref_name\": \"Serine/threonine-protein kinase PIM2\", \"activity\": \"Active\"}, {\"pref_name\": \"Serine/threonine-protein kinase PIM1\", \"activity\": \"Active\"}, {\"pref_name\": \"Serine/threonine-protein kinase PIM2\", \"activity\": \"Active\"}, {\"pref_name\": \"Carbonic anhydrase I\", \"activity\": \"Active\"}, {\"pref_name\": \"Carbonic anhydrase I\", \"activity\": \"Active\"}, {\"pref_name\": \"Carbonic anhydrase I\", \"activity\": \"Active\"}, {\"pref_name\": \"Serotonin 1d (5-HT1d) receptor\", \"activity\": \"Active\"}, {\"pref_name\": \"Carbonic anhydrase XII\", \"activity\": \"Active\"}, {\"pref_name\": \"Serotonin 1a (5-HT1a) receptor\", \"activity\": \"Active\"}, {\"pref_name\": \"Serine/threonine-protein kinase PIM2\", \"activity\": \"Active\"}, {\"pref_name\": \"Carbonic anhydrase I\", \"activity\": \"Active\"}, {\"pref_name\": \"Vascular endothelial growth factor receptor 2\", \"activity\": \"Inactive\"}, {\"pref_name\": \"Serine/threonine-protein kinase PIM2\", \"activity\": \"Inactive\"}, {\"pref_name\": \"Tyrosine-protein kinase JAK2\", \"activity\": \"Inactive\"}, {\"pref_name\": \"Vascular endothelial growth factor receptor 2\", \"activity\": \"Both\"}]}}, {\"mode\": \"vega-lite\"});\n",
       "</script>"
      ],
      "text/plain": [
       "alt.VConcatChart(...)"
      ]
     },
     "execution_count": 556,
     "metadata": {},
     "output_type": "execute_result"
    }
   ],
   "source": [
    "chart_one = alt.Chart(df).transform_joinaggregate(\n",
    "        Total='sum(number)'\n",
    "    ).transform_calculate(PercentOfTotal=\"datum.number / datum.Total\").mark_bar().encode(\n",
    "    x=alt.X('PercentOfTotal:Q', title='Proportion'),#,sort='descending'),\n",
    "    y=alt.Y('results', title='All records',axis=alt.Axis(labels=False)),\n",
    "    color=alt.Color('activity', title='Activity type'),\n",
    "    order=alt.Order('activity', sort='ascending')\n",
    ").add_selection(\n",
    "    selector\n",
    ").properties(height=30, width=550)\n",
    "\n",
    "chart_two = alt.Chart(df.iloc[:3]).transform_joinaggregate(\n",
    "        Total='sum(number)'\n",
    "    ).transform_calculate(PercentOfTotal=\"datum.number / datum.Total\").mark_bar().encode(\n",
    "    x=alt.X('PercentOfTotal:Q', title='Proportion'),#,sort='descending'),\n",
    "    y=alt.Y('results', title='Records with evidence',axis=alt.Axis(labels=False)),\n",
    "    color=alt.Color('activity', title='Activity type'),\n",
    "    order=alt.Order('activity', sort='ascending')\n",
    ").add_selection(\n",
    "    selector\n",
    ").properties(height=30, width=550)\n",
    "\n",
    "\n",
    "\n",
    "\n",
    "\n",
    "\n",
    "\n",
    "\n",
    "ch = alt.Chart(out_df).mark_bar()\n",
    "ch = ch.encode(\n",
    "    x = alt.X('pref_name', sort='-y', title='Target preferred name'),\n",
    "    y = alt.Y('count()'),\n",
    "    color=alt.Color('activity'),\n",
    "    order=alt.Order('activity', sort='ascending'),\n",
    ").properties(height=200,width=550)\n",
    "\n",
    "\n",
    "(chart_one&chart_two&ch\n",
    ").configure_axisBottom(labelAngle=-35).configure_header(\n",
    "    titleFontSize=40, \n",
    "    labelFontSize=40\n",
    ").configure_axisY(\n",
    "    titleAngle=0,\n",
    "    titleAlign=\"left\",\n",
    "    titleY=-10,\n",
    "    titleX=-10,\n",
    "    titleFontSize=16,\n",
    ")"
   ]
  },
  {
   "cell_type": "code",
   "execution_count": 564,
   "metadata": {},
   "outputs": [
    {
     "data": {
      "text/html": [
       "\n",
       "<div id=\"altair-viz-7a3707f397224b4abc223c5d46c0b7e3\"></div>\n",
       "<script type=\"text/javascript\">\n",
       "  (function(spec, embedOpt){\n",
       "    let outputDiv = document.currentScript.previousElementSibling;\n",
       "    if (outputDiv.id !== \"altair-viz-7a3707f397224b4abc223c5d46c0b7e3\") {\n",
       "      outputDiv = document.getElementById(\"altair-viz-7a3707f397224b4abc223c5d46c0b7e3\");\n",
       "    }\n",
       "    const paths = {\n",
       "      \"vega\": \"https://cdn.jsdelivr.net/npm//vega@5?noext\",\n",
       "      \"vega-lib\": \"https://cdn.jsdelivr.net/npm//vega-lib?noext\",\n",
       "      \"vega-lite\": \"https://cdn.jsdelivr.net/npm//vega-lite@4.8.1?noext\",\n",
       "      \"vega-embed\": \"https://cdn.jsdelivr.net/npm//vega-embed@6?noext\",\n",
       "    };\n",
       "\n",
       "    function loadScript(lib) {\n",
       "      return new Promise(function(resolve, reject) {\n",
       "        var s = document.createElement('script');\n",
       "        s.src = paths[lib];\n",
       "        s.async = true;\n",
       "        s.onload = () => resolve(paths[lib]);\n",
       "        s.onerror = () => reject(`Error loading script: ${paths[lib]}`);\n",
       "        document.getElementsByTagName(\"head\")[0].appendChild(s);\n",
       "      });\n",
       "    }\n",
       "\n",
       "    function showError(err) {\n",
       "      outputDiv.innerHTML = `<div class=\"error\" style=\"color:red;\">${err}</div>`;\n",
       "      throw err;\n",
       "    }\n",
       "\n",
       "    function displayChart(vegaEmbed) {\n",
       "      vegaEmbed(outputDiv, spec, embedOpt)\n",
       "        .catch(err => showError(`Javascript Error: ${err.message}<br>This usually means there's a typo in your chart specification. See the javascript console for the full traceback.`));\n",
       "    }\n",
       "\n",
       "    if(typeof define === \"function\" && define.amd) {\n",
       "      requirejs.config({paths});\n",
       "      require([\"vega-embed\"], displayChart, err => showError(`Error loading script: ${err.message}`));\n",
       "    } else if (typeof vegaEmbed === \"function\") {\n",
       "      displayChart(vegaEmbed);\n",
       "    } else {\n",
       "      loadScript(\"vega\")\n",
       "        .then(() => loadScript(\"vega-lite\"))\n",
       "        .then(() => loadScript(\"vega-embed\"))\n",
       "        .catch(showError)\n",
       "        .then(() => displayChart(vegaEmbed));\n",
       "    }\n",
       "  })({\"config\": {\"view\": {\"continuousWidth\": 400, \"continuousHeight\": 300}, \"axisBottom\": {\"labelAngle\": -35}, \"axisY\": {\"titleAlign\": \"left\", \"titleAngle\": 0, \"titleFontSize\": 16, \"titleX\": -10, \"titleY\": -10}, \"header\": {\"labelFontSize\": 40, \"titleFontSize\": 40}}, \"hconcat\": [{\"data\": {\"name\": \"data-c8ff6c75327497d556bdd6eac04ede2a\"}, \"mark\": \"bar\", \"encoding\": {\"color\": {\"type\": \"nominal\", \"field\": \"activity\", \"title\": \"Activity type\"}, \"order\": {\"type\": \"nominal\", \"field\": \"activity\", \"sort\": \"ascending\"}, \"x\": {\"type\": \"nominal\", \"axis\": {\"labels\": false}, \"field\": \"results\", \"title\": \"All records\"}, \"y\": {\"type\": \"quantitative\", \"field\": \"PercentOfTotal\", \"title\": \"Proportion\"}}, \"height\": 550, \"selection\": {\"selector004\": {\"type\": \"single\", \"encodings\": [\"x\", \"color\"]}}, \"transform\": [{\"joinaggregate\": [{\"op\": \"sum\", \"field\": \"number\", \"as\": \"Total\"}]}, {\"calculate\": \"datum.number / datum.Total\", \"as\": \"PercentOfTotal\"}], \"width\": 30}, {\"data\": {\"name\": \"data-0e01c610e98ef8316865033c1a21eb8a\"}, \"mark\": \"bar\", \"encoding\": {\"color\": {\"type\": \"nominal\", \"field\": \"activity\", \"title\": \"Activity type\"}, \"order\": {\"type\": \"nominal\", \"field\": \"activity\", \"sort\": \"ascending\"}, \"x\": {\"type\": \"nominal\", \"axis\": {\"labels\": false}, \"field\": \"results\", \"title\": \"Records with evidence\"}, \"y\": {\"type\": \"quantitative\", \"field\": \"PercentOfTotal\", \"title\": \"Proportion\"}}, \"height\": 550, \"selection\": {\"selector004\": {\"type\": \"single\", \"encodings\": [\"x\", \"color\"]}}, \"transform\": [{\"joinaggregate\": [{\"op\": \"sum\", \"field\": \"number\", \"as\": \"Total\"}]}, {\"calculate\": \"datum.number / datum.Total\", \"as\": \"PercentOfTotal\"}], \"width\": 30}, {\"data\": {\"name\": \"data-d925c3fecfd9ec5eee517cceba54a40c\"}, \"mark\": \"bar\", \"encoding\": {\"color\": {\"type\": \"nominal\", \"field\": \"activity\"}, \"order\": {\"type\": \"nominal\", \"field\": \"activity\", \"sort\": \"ascending\"}, \"x\": {\"type\": \"quantitative\", \"aggregate\": \"count\"}, \"y\": {\"type\": \"nominal\", \"field\": \"pref_name\", \"sort\": \"-x\", \"title\": \"Target preferred name\"}}, \"height\": 550, \"width\": 200}], \"$schema\": \"https://vega.github.io/schema/vega-lite/v4.8.1.json\", \"datasets\": {\"data-c8ff6c75327497d556bdd6eac04ede2a\": [{\"results\": \"Results\", \"activity\": \"Active\", \"number\": 300, \"proportion\": 0.28957528957528955}, {\"results\": \"Results\", \"activity\": \"Inactive\", \"number\": 57, \"proportion\": 0.05501930501930502}, {\"results\": \"Results\", \"activity\": \"Both\", \"number\": 12, \"proportion\": 0.011583011583011582}, {\"results\": \"Results\", \"activity\": \"Unknown\", \"number\": 667, \"proportion\": 0.6438223938223938}], \"data-0e01c610e98ef8316865033c1a21eb8a\": [{\"results\": \"Results\", \"activity\": \"Active\", \"number\": 300, \"proportion\": 0.28957528957528955}, {\"results\": \"Results\", \"activity\": \"Inactive\", \"number\": 57, \"proportion\": 0.05501930501930502}, {\"results\": \"Results\", \"activity\": \"Both\", \"number\": 12, \"proportion\": 0.011583011583011582}], \"data-d925c3fecfd9ec5eee517cceba54a40c\": [{\"pref_name\": \"Tyrosine-protein kinase JAK2\", \"activity\": \"Inactive\"}, {\"pref_name\": \"Fibroblast growth factor receptor 3\", \"activity\": \"Inactive\"}, {\"pref_name\": \"Tyrosine-protein kinase receptor FLT3\", \"activity\": \"Active\"}, {\"pref_name\": \"Tyrosine-protein kinase JAK2\", \"activity\": \"Active\"}, {\"pref_name\": \"Macrophage colony stimulating factor receptor\", \"activity\": \"Active\"}, {\"pref_name\": \"Histone deacetylase 1\", \"activity\": \"Active\"}, {\"pref_name\": \"Serotonin transporter\", \"activity\": \"Active\"}, {\"pref_name\": \"Carbonic anhydrase II\", \"activity\": \"Active\"}, {\"pref_name\": \"Cytochrome P450 11B2\", \"activity\": \"Active\"}, {\"pref_name\": \"Carbonic anhydrase I\", \"activity\": \"Active\"}, {\"pref_name\": \"Carbonic anhydrase II\", \"activity\": \"Active\"}, {\"pref_name\": \"Carbonic anhydrase I\", \"activity\": \"Active\"}, {\"pref_name\": \"PI3-kinase p110-alpha subunit\", \"activity\": \"Active\"}, {\"pref_name\": \"PI3-kinase p110-alpha subunit\", \"activity\": \"Active\"}, {\"pref_name\": \"PI3-kinase p110-alpha subunit\", \"activity\": \"Active\"}, {\"pref_name\": \"Carbonic anhydrase I\", \"activity\": \"Active\"}, {\"pref_name\": \"Serotonin 2a (5-HT2a) receptor\", \"activity\": \"Inactive\"}, {\"pref_name\": \"Tyrosine-protein kinase JAK2\", \"activity\": \"Inactive\"}, {\"pref_name\": \"Carbonic anhydrase I\", \"activity\": \"Active\"}, {\"pref_name\": \"Cytochrome P450 11B2\", \"activity\": \"Active\"}, {\"pref_name\": \"Matrix metalloproteinase 9\", \"activity\": \"Active\"}, {\"pref_name\": \"Cytochrome P450 11B2\", \"activity\": \"Active\"}, {\"pref_name\": \"Carbonic anhydrase II\", \"activity\": \"Active\"}, {\"pref_name\": \"Carbonic anhydrase II\", \"activity\": \"Active\"}, {\"pref_name\": \"Carbonic anhydrase II\", \"activity\": \"Active\"}, {\"pref_name\": \"Tyrosine-protein kinase JAK1\", \"activity\": \"Inactive\"}, {\"pref_name\": \"Tyrosine-protein kinase JAK2\", \"activity\": \"Inactive\"}, {\"pref_name\": \"Tyrosine-protein kinase SRC\", \"activity\": \"Inactive\"}, {\"pref_name\": \"PI3-kinase p110-alpha subunit\", \"activity\": \"Active\"}, {\"pref_name\": \"Carbonic anhydrase I\", \"activity\": \"Active\"}, {\"pref_name\": \"Matrix metalloproteinase-2\", \"activity\": \"Active\"}, {\"pref_name\": \"Matrix metalloproteinase-2\", \"activity\": \"Active\"}, {\"pref_name\": \"Matrix metalloproteinase-2\", \"activity\": \"Active\"}, {\"pref_name\": \"Matrix metalloproteinase-2\", \"activity\": \"Active\"}, {\"pref_name\": \"Matrix metalloproteinase-2\", \"activity\": \"Active\"}, {\"pref_name\": \"Matrix metalloproteinase-2\", \"activity\": \"Active\"}, {\"pref_name\": \"Serotonin transporter\", \"activity\": \"Active\"}, {\"pref_name\": \"Carbonic anhydrase II\", \"activity\": \"Active\"}, {\"pref_name\": \"Serotonin 2c (5-HT2c) receptor\", \"activity\": \"Active\"}, {\"pref_name\": \"Serine/threonine-protein kinase PIM2\", \"activity\": \"Active\"}, {\"pref_name\": \"Serine/threonine-protein kinase PIM2\", \"activity\": \"Active\"}, {\"pref_name\": \"Serine/threonine-protein kinase PIM2\", \"activity\": \"Active\"}, {\"pref_name\": \"Serine/threonine-protein kinase PIM1\", \"activity\": \"Active\"}, {\"pref_name\": \"Serine/threonine-protein kinase PIM1\", \"activity\": \"Active\"}, {\"pref_name\": \"Serine/threonine-protein kinase PIM1\", \"activity\": \"Active\"}, {\"pref_name\": \"Serine/threonine-protein kinase PIM1\", \"activity\": \"Active\"}, {\"pref_name\": \"Serine/threonine-protein kinase PIM1\", \"activity\": \"Active\"}, {\"pref_name\": \"Serine/threonine-protein kinase PIM1\", \"activity\": \"Active\"}, {\"pref_name\": \"Serine/threonine-protein kinase PIM1\", \"activity\": \"Active\"}, {\"pref_name\": \"Serine/threonine-protein kinase PIM1\", \"activity\": \"Active\"}, {\"pref_name\": \"Serine/threonine-protein kinase PIM1\", \"activity\": \"Active\"}, {\"pref_name\": \"Serine/threonine-protein kinase PIM2\", \"activity\": \"Active\"}, {\"pref_name\": \"Carbonic anhydrase I\", \"activity\": \"Active\"}, {\"pref_name\": \"Cyclin-dependent kinase 2\", \"activity\": \"Active\"}, {\"pref_name\": \"Tyrosine-protein kinase LCK\", \"activity\": \"Active\"}, {\"pref_name\": \"Cytochrome P450 11B2\", \"activity\": \"Both\"}, {\"pref_name\": \"Cytochrome P450 11B2\", \"activity\": \"Active\"}, {\"pref_name\": \"Cytochrome P450 11B2\", \"activity\": \"Active\"}, {\"pref_name\": \"Cytochrome P450 11B2\", \"activity\": \"Active\"}, {\"pref_name\": \"Cytochrome P450 11B2\", \"activity\": \"Active\"}, {\"pref_name\": \"Cytochrome P450 11B2\", \"activity\": \"Active\"}, {\"pref_name\": \"Cytochrome P450 11B2\", \"activity\": \"Active\"}, {\"pref_name\": \"Cytochrome P450 11B2\", \"activity\": \"Active\"}, {\"pref_name\": \"Cytochrome P450 11B2\", \"activity\": \"Both\"}, {\"pref_name\": \"Cytochrome P450 11B2\", \"activity\": \"Active\"}, {\"pref_name\": \"Serotonin 2c (5-HT2c) receptor\", \"activity\": \"Inactive\"}, {\"pref_name\": \"Vascular endothelial growth factor receptor 2\", \"activity\": \"Active\"}, {\"pref_name\": \"Histone deacetylase 1\", \"activity\": \"Active\"}, {\"pref_name\": \"Histone deacetylase 1\", \"activity\": \"Active\"}, {\"pref_name\": \"Vascular endothelial growth factor receptor 2\", \"activity\": \"Active\"}, {\"pref_name\": \"Serine/threonine-protein kinase PIM2\", \"activity\": \"Active\"}, {\"pref_name\": \"Serine/threonine-protein kinase PIM1\", \"activity\": \"Active\"}, {\"pref_name\": \"Serine/threonine-protein kinase PIM1\", \"activity\": \"Active\"}, {\"pref_name\": \"Vascular endothelial growth factor receptor 2\", \"activity\": \"Active\"}, {\"pref_name\": \"Vascular endothelial growth factor receptor 2\", \"activity\": \"Active\"}, {\"pref_name\": \"Vascular endothelial growth factor receptor 2\", \"activity\": \"Active\"}, {\"pref_name\": \"Vascular endothelial growth factor receptor 2\", \"activity\": \"Active\"}, {\"pref_name\": \"Vascular endothelial growth factor receptor 2\", \"activity\": \"Active\"}, {\"pref_name\": \"PI3-kinase p110-alpha subunit\", \"activity\": \"Active\"}, {\"pref_name\": \"Vascular endothelial growth factor receptor 2\", \"activity\": \"Active\"}, {\"pref_name\": \"PI3-kinase p110-alpha subunit\", \"activity\": \"Active\"}, {\"pref_name\": \"Vascular endothelial growth factor receptor 2\", \"activity\": \"Active\"}, {\"pref_name\": \"Carbonic anhydrase XII\", \"activity\": \"Active\"}, {\"pref_name\": \"Carbonic anhydrase I\", \"activity\": \"Active\"}, {\"pref_name\": \"Carbonic anhydrase II\", \"activity\": \"Active\"}, {\"pref_name\": \"Carbonic anhydrase IX\", \"activity\": \"Active\"}, {\"pref_name\": \"Vascular endothelial growth factor receptor 2\", \"activity\": \"Active\"}, {\"pref_name\": \"Vascular endothelial growth factor receptor 2\", \"activity\": \"Active\"}, {\"pref_name\": \"Vascular endothelial growth factor receptor 2\", \"activity\": \"Active\"}, {\"pref_name\": \"Vascular endothelial growth factor receptor 2\", \"activity\": \"Active\"}, {\"pref_name\": \"Vascular endothelial growth factor receptor 2\", \"activity\": \"Active\"}, {\"pref_name\": \"Vascular endothelial growth factor receptor 2\", \"activity\": \"Active\"}, {\"pref_name\": \"Carbonic anhydrase II\", \"activity\": \"Active\"}, {\"pref_name\": \"Vascular endothelial growth factor receptor 2\", \"activity\": \"Active\"}, {\"pref_name\": \"Vascular endothelial growth factor receptor 2\", \"activity\": \"Active\"}, {\"pref_name\": \"Vascular endothelial growth factor receptor 2\", \"activity\": \"Active\"}, {\"pref_name\": \"Carbonic anhydrase I\", \"activity\": \"Active\"}, {\"pref_name\": \"Carbonic anhydrase I\", \"activity\": \"Active\"}, {\"pref_name\": \"Carbonic anhydrase I\", \"activity\": \"Active\"}, {\"pref_name\": \"Carbonic anhydrase I\", \"activity\": \"Active\"}, {\"pref_name\": \"Carbonic anhydrase I\", \"activity\": \"Active\"}, {\"pref_name\": \"Carbonic anhydrase I\", \"activity\": \"Active\"}, {\"pref_name\": \"Histone deacetylase 6\", \"activity\": \"Inactive\"}, {\"pref_name\": \"Carbonic anhydrase I\", \"activity\": \"Active\"}, {\"pref_name\": \"Carbonic anhydrase II\", \"activity\": \"Active\"}, {\"pref_name\": \"Serotonin 2c (5-HT2c) receptor\", \"activity\": \"Inactive\"}, {\"pref_name\": \"Carbonic anhydrase I\", \"activity\": \"Inactive\"}, {\"pref_name\": \"Carbonic anhydrase II\", \"activity\": \"Inactive\"}, {\"pref_name\": \"Serotonin transporter\", \"activity\": \"Active\"}, {\"pref_name\": \"Carbonic anhydrase XII\", \"activity\": \"Active\"}, {\"pref_name\": \"Carbonic anhydrase I\", \"activity\": \"Active\"}, {\"pref_name\": \"Carbonic anhydrase I\", \"activity\": \"Active\"}, {\"pref_name\": \"Carbonic anhydrase I\", \"activity\": \"Inactive\"}, {\"pref_name\": \"Carbonic anhydrase II\", \"activity\": \"Both\"}, {\"pref_name\": \"Carbonic anhydrase I\", \"activity\": \"Inactive\"}, {\"pref_name\": \"Carbonic anhydrase II\", \"activity\": \"Both\"}, {\"pref_name\": \"Carbonic anhydrase I\", \"activity\": \"Inactive\"}, {\"pref_name\": \"Carbonic anhydrase II\", \"activity\": \"Both\"}, {\"pref_name\": \"Carbonic anhydrase I\", \"activity\": \"Inactive\"}, {\"pref_name\": \"Carbonic anhydrase II\", \"activity\": \"Inactive\"}, {\"pref_name\": \"Carbonic anhydrase I\", \"activity\": \"Inactive\"}, {\"pref_name\": \"Carbonic anhydrase II\", \"activity\": \"Both\"}, {\"pref_name\": \"Carbonic anhydrase I\", \"activity\": \"Inactive\"}, {\"pref_name\": \"Carbonic anhydrase II\", \"activity\": \"Inactive\"}, {\"pref_name\": \"Carbonic anhydrase I\", \"activity\": \"Active\"}, {\"pref_name\": \"Carbonic anhydrase I\", \"activity\": \"Active\"}, {\"pref_name\": \"Carbonic anhydrase II\", \"activity\": \"Active\"}, {\"pref_name\": \"Histone deacetylase 1\", \"activity\": \"Inactive\"}, {\"pref_name\": \"Histone deacetylase 1\", \"activity\": \"Inactive\"}, {\"pref_name\": \"Carbonic anhydrase II\", \"activity\": \"Active\"}, {\"pref_name\": \"Carbonic anhydrase II\", \"activity\": \"Active\"}, {\"pref_name\": \"Histone deacetylase 1\", \"activity\": \"Active\"}, {\"pref_name\": \"Serine/threonine-protein kinase PIM1\", \"activity\": \"Active\"}, {\"pref_name\": \"Serine/threonine-protein kinase PIM1\", \"activity\": \"Active\"}, {\"pref_name\": \"Serine/threonine-protein kinase PIM1\", \"activity\": \"Active\"}, {\"pref_name\": \"Serine/threonine-protein kinase PIM1\", \"activity\": \"Active\"}, {\"pref_name\": \"Norepinephrine transporter\", \"activity\": \"Active\"}, {\"pref_name\": \"Carbonic anhydrase I\", \"activity\": \"Active\"}, {\"pref_name\": \"Histone deacetylase 6\", \"activity\": \"Active\"}, {\"pref_name\": \"Vascular endothelial growth factor receptor 2\", \"activity\": \"Active\"}, {\"pref_name\": \"Vascular endothelial growth factor receptor 2\", \"activity\": \"Active\"}, {\"pref_name\": \"Vascular endothelial growth factor receptor 2\", \"activity\": \"Active\"}, {\"pref_name\": \"Cytochrome P450 11B2\", \"activity\": \"Active\"}, {\"pref_name\": \"Serine/threonine-protein kinase PIM1\", \"activity\": \"Active\"}, {\"pref_name\": \"Histone deacetylase 6\", \"activity\": \"Inactive\"}, {\"pref_name\": \"Vascular endothelial growth factor receptor 2\", \"activity\": \"Active\"}, {\"pref_name\": \"Histone deacetylase 6\", \"activity\": \"Both\"}, {\"pref_name\": \"Tyrosine-protein kinase ABL\", \"activity\": \"Active\"}, {\"pref_name\": \"Serotonin transporter\", \"activity\": \"Active\"}, {\"pref_name\": \"Carbonic anhydrase I\", \"activity\": \"Active\"}, {\"pref_name\": \"Serine/threonine-protein kinase PIM1\", \"activity\": \"Active\"}, {\"pref_name\": \"Serine/threonine-protein kinase PIM1\", \"activity\": \"Active\"}, {\"pref_name\": \"Serine/threonine-protein kinase PIM1\", \"activity\": \"Active\"}, {\"pref_name\": \"Serine/threonine-protein kinase PIM1\", \"activity\": \"Active\"}, {\"pref_name\": \"Carbonic anhydrase I\", \"activity\": \"Active\"}, {\"pref_name\": \"Histone deacetylase 1\", \"activity\": \"Active\"}, {\"pref_name\": \"Histone deacetylase 1\", \"activity\": \"Active\"}, {\"pref_name\": \"Histone deacetylase 1\", \"activity\": \"Active\"}, {\"pref_name\": \"Tyrosine-protein kinase JAK2\", \"activity\": \"Active\"}, {\"pref_name\": \"Tyrosine-protein kinase JAK2\", \"activity\": \"Active\"}, {\"pref_name\": \"Fibroblast growth factor receptor 1\", \"activity\": \"Inactive\"}, {\"pref_name\": \"Tyrosine-protein kinase JAK2\", \"activity\": \"Both\"}, {\"pref_name\": \"Vascular endothelial growth factor receptor 2\", \"activity\": \"Both\"}, {\"pref_name\": \"Carbonic anhydrase XII\", \"activity\": \"Active\"}, {\"pref_name\": \"Tyrosine-protein kinase receptor FLT3\", \"activity\": \"Active\"}, {\"pref_name\": \"Serotonin 2c (5-HT2c) receptor\", \"activity\": \"Active\"}, {\"pref_name\": \"Serotonin 2c (5-HT2c) receptor\", \"activity\": \"Active\"}, {\"pref_name\": \"Serotonin 2c (5-HT2c) receptor\", \"activity\": \"Active\"}, {\"pref_name\": \"Serotonin 2c (5-HT2c) receptor\", \"activity\": \"Active\"}, {\"pref_name\": \"Histone deacetylase 1\", \"activity\": \"Active\"}, {\"pref_name\": \"Histone deacetylase 1\", \"activity\": \"Active\"}, {\"pref_name\": \"Histone deacetylase 6\", \"activity\": \"Inactive\"}, {\"pref_name\": \"Histone deacetylase 6\", \"activity\": \"Inactive\"}, {\"pref_name\": \"Histone deacetylase 6\", \"activity\": \"Inactive\"}, {\"pref_name\": \"Histone deacetylase 6\", \"activity\": \"Inactive\"}, {\"pref_name\": \"Histone deacetylase 1\", \"activity\": \"Active\"}, {\"pref_name\": \"Fibroblast growth factor receptor 3\", \"activity\": \"Active\"}, {\"pref_name\": \"Fibroblast growth factor receptor 3\", \"activity\": \"Active\"}, {\"pref_name\": \"Fibroblast growth factor receptor 3\", \"activity\": \"Active\"}, {\"pref_name\": \"Fibroblast growth factor receptor 3\", \"activity\": \"Active\"}, {\"pref_name\": \"PI3-kinase p110-alpha subunit\", \"activity\": \"Active\"}, {\"pref_name\": \"PI3-kinase p110-alpha subunit\", \"activity\": \"Active\"}, {\"pref_name\": \"PI3-kinase p110-alpha subunit\", \"activity\": \"Active\"}, {\"pref_name\": \"PI3-kinase p110-alpha subunit\", \"activity\": \"Active\"}, {\"pref_name\": \"Serotonin transporter\", \"activity\": \"Active\"}, {\"pref_name\": \"Histone deacetylase 1\", \"activity\": \"Active\"}, {\"pref_name\": \"Histone deacetylase 6\", \"activity\": \"Inactive\"}, {\"pref_name\": \"Tyrosine-protein kinase JAK2\", \"activity\": \"Active\"}, {\"pref_name\": \"Tyrosine-protein kinase JAK1\", \"activity\": \"Active\"}, {\"pref_name\": \"Tyrosine-protein kinase JAK1\", \"activity\": \"Active\"}, {\"pref_name\": \"Serine/threonine-protein kinase PIM2\", \"activity\": \"Active\"}, {\"pref_name\": \"Tyrosine-protein kinase JAK1\", \"activity\": \"Active\"}, {\"pref_name\": \"Serine/threonine-protein kinase PIM1\", \"activity\": \"Active\"}, {\"pref_name\": \"Serine/threonine-protein kinase PIM1\", \"activity\": \"Active\"}, {\"pref_name\": \"Beta-secretase 1\", \"activity\": \"Active\"}, {\"pref_name\": \"Beta-secretase 1\", \"activity\": \"Active\"}, {\"pref_name\": \"Tyrosine-protein kinase JAK1\", \"activity\": \"Active\"}, {\"pref_name\": \"Fibroblast growth factor receptor 2\", \"activity\": \"Active\"}, {\"pref_name\": \"Fibroblast growth factor receptor 2\", \"activity\": \"Active\"}, {\"pref_name\": \"Fibroblast growth factor receptor 2\", \"activity\": \"Active\"}, {\"pref_name\": \"Fibroblast growth factor receptor 2\", \"activity\": \"Active\"}, {\"pref_name\": \"Fibroblast growth factor receptor 2\", \"activity\": \"Active\"}, {\"pref_name\": \"Serotonin transporter\", \"activity\": \"Active\"}, {\"pref_name\": \"Tyrosine-protein kinase JAK2\", \"activity\": \"Active\"}, {\"pref_name\": \"Tyrosine-protein kinase JAK2\", \"activity\": \"Active\"}, {\"pref_name\": \"Tyrosine-protein kinase JAK2\", \"activity\": \"Active\"}, {\"pref_name\": \"Tyrosine-protein kinase JAK2\", \"activity\": \"Active\"}, {\"pref_name\": \"Tyrosine-protein kinase JAK2\", \"activity\": \"Inactive\"}, {\"pref_name\": \"Serine/threonine-protein kinase PIM1\", \"activity\": \"Active\"}, {\"pref_name\": \"Norepinephrine transporter\", \"activity\": \"Active\"}, {\"pref_name\": \"Histone deacetylase 6\", \"activity\": \"Active\"}, {\"pref_name\": \"Vascular endothelial growth factor receptor 2\", \"activity\": \"Active\"}, {\"pref_name\": \"Vascular endothelial growth factor receptor 2\", \"activity\": \"Active\"}, {\"pref_name\": \"Vascular endothelial growth factor receptor 2\", \"activity\": \"Active\"}, {\"pref_name\": \"Vascular endothelial growth factor receptor 2\", \"activity\": \"Active\"}, {\"pref_name\": \"Vascular endothelial growth factor receptor 2\", \"activity\": \"Active\"}, {\"pref_name\": \"Vascular endothelial growth factor receptor 2\", \"activity\": \"Active\"}, {\"pref_name\": \"Serine/threonine-protein kinase PIM1\", \"activity\": \"Active\"}, {\"pref_name\": \"Serine/threonine-protein kinase PIM1\", \"activity\": \"Active\"}, {\"pref_name\": \"Serine/threonine-protein kinase PIM1\", \"activity\": \"Active\"}, {\"pref_name\": \"Vascular endothelial growth factor receptor 2\", \"activity\": \"Active\"}, {\"pref_name\": \"Carbonic anhydrase IX\", \"activity\": \"Active\"}, {\"pref_name\": \"Vascular endothelial growth factor receptor 2\", \"activity\": \"Active\"}, {\"pref_name\": \"Vascular endothelial growth factor receptor 2\", \"activity\": \"Active\"}, {\"pref_name\": \"Vascular endothelial growth factor receptor 2\", \"activity\": \"Active\"}, {\"pref_name\": \"Tyrosine-protein kinase JAK2\", \"activity\": \"Active\"}, {\"pref_name\": \"Serotonin 2c (5-HT2c) receptor\", \"activity\": \"Active\"}, {\"pref_name\": \"Serotonin 2c (5-HT2c) receptor\", \"activity\": \"Active\"}, {\"pref_name\": \"Serotonin 2c (5-HT2c) receptor\", \"activity\": \"Active\"}, {\"pref_name\": \"Serotonin 2c (5-HT2c) receptor\", \"activity\": \"Active\"}, {\"pref_name\": \"Serotonin 2c (5-HT2c) receptor\", \"activity\": \"Active\"}, {\"pref_name\": \"Vascular endothelial growth factor receptor 2\", \"activity\": \"Active\"}, {\"pref_name\": \"Vascular endothelial growth factor receptor 2\", \"activity\": \"Active\"}, {\"pref_name\": \"Vascular endothelial growth factor receptor 2\", \"activity\": \"Active\"}, {\"pref_name\": \"Vascular endothelial growth factor receptor 2\", \"activity\": \"Active\"}, {\"pref_name\": \"Carbonic anhydrase I\", \"activity\": \"Active\"}, {\"pref_name\": \"Carbonic anhydrase I\", \"activity\": \"Both\"}, {\"pref_name\": \"Tyrosine-protein kinase ABL\", \"activity\": \"Active\"}, {\"pref_name\": \"Serine/threonine-protein kinase PIM2\", \"activity\": \"Active\"}, {\"pref_name\": \"Beta-secretase 1\", \"activity\": \"Active\"}, {\"pref_name\": \"Carbonic anhydrase I\", \"activity\": \"Active\"}, {\"pref_name\": \"Serine/threonine-protein kinase PIM2\", \"activity\": \"Active\"}, {\"pref_name\": \"Serine/threonine-protein kinase PIM2\", \"activity\": \"Active\"}, {\"pref_name\": \"Serine/threonine-protein kinase PIM1\", \"activity\": \"Active\"}, {\"pref_name\": \"Histone deacetylase 1\", \"activity\": \"Active\"}, {\"pref_name\": \"Vascular endothelial growth factor receptor 2\", \"activity\": \"Active\"}, {\"pref_name\": \"Fibroblast growth factor receptor 1\", \"activity\": \"Active\"}, {\"pref_name\": \"Beta-secretase 1\", \"activity\": \"Active\"}, {\"pref_name\": \"Serine/threonine-protein kinase PIM2\", \"activity\": \"Active\"}, {\"pref_name\": \"Beta-secretase 1\", \"activity\": \"Active\"}, {\"pref_name\": \"Serine/threonine-protein kinase PIM1\", \"activity\": \"Active\"}, {\"pref_name\": \"Cytochrome P450 11B2\", \"activity\": \"Active\"}, {\"pref_name\": \"Fibroblast growth factor receptor 1\", \"activity\": \"Active\"}, {\"pref_name\": \"Histone deacetylase 1\", \"activity\": \"Active\"}, {\"pref_name\": \"Beta-secretase 1\", \"activity\": \"Active\"}, {\"pref_name\": \"Beta-secretase 1\", \"activity\": \"Active\"}, {\"pref_name\": \"Serine/threonine-protein kinase PIM2\", \"activity\": \"Active\"}, {\"pref_name\": \"Vascular endothelial growth factor receptor 2\", \"activity\": \"Active\"}, {\"pref_name\": \"Serine/threonine-protein kinase PIM2\", \"activity\": \"Active\"}, {\"pref_name\": \"Carbonic anhydrase II\", \"activity\": \"Active\"}, {\"pref_name\": \"Carbonic anhydrase II\", \"activity\": \"Active\"}, {\"pref_name\": \"Serine/threonine-protein kinase PIM2\", \"activity\": \"Active\"}, {\"pref_name\": \"Serine/threonine-protein kinase PIM2\", \"activity\": \"Active\"}, {\"pref_name\": \"Carbonic anhydrase I\", \"activity\": \"Active\"}, {\"pref_name\": \"Serine/threonine-protein kinase PIM2\", \"activity\": \"Active\"}, {\"pref_name\": \"Vascular endothelial growth factor receptor 2\", \"activity\": \"Active\"}, {\"pref_name\": \"Serine/threonine-protein kinase PIM2\", \"activity\": \"Active\"}, {\"pref_name\": \"Fibroblast growth factor receptor 1\", \"activity\": \"Active\"}, {\"pref_name\": \"Serine/threonine-protein kinase PIM1\", \"activity\": \"Active\"}, {\"pref_name\": \"Beta-secretase 1\", \"activity\": \"Active\"}, {\"pref_name\": \"Beta-secretase 1\", \"activity\": \"Active\"}, {\"pref_name\": \"Beta-secretase 1\", \"activity\": \"Active\"}, {\"pref_name\": \"Serine/threonine-protein kinase PIM2\", \"activity\": \"Active\"}, {\"pref_name\": \"Serine/threonine-protein kinase PIM2\", \"activity\": \"Active\"}, {\"pref_name\": \"Serine/threonine-protein kinase PIM2\", \"activity\": \"Active\"}, {\"pref_name\": \"Histone deacetylase 1\", \"activity\": \"Active\"}, {\"pref_name\": \"Serine/threonine-protein kinase PIM2\", \"activity\": \"Active\"}, {\"pref_name\": \"Serotonin 2a (5-HT2a) receptor\", \"activity\": \"Active\"}, {\"pref_name\": \"Histone deacetylase 6\", \"activity\": \"Active\"}, {\"pref_name\": \"Serine/threonine-protein kinase PIM2\", \"activity\": \"Active\"}, {\"pref_name\": \"Serotonin 2c (5-HT2c) receptor\", \"activity\": \"Active\"}, {\"pref_name\": \"Carbonic anhydrase I\", \"activity\": \"Active\"}, {\"pref_name\": \"Serotonin 1d (5-HT1d) receptor\", \"activity\": \"Active\"}, {\"pref_name\": \"Vascular endothelial growth factor receptor 2\", \"activity\": \"Active\"}, {\"pref_name\": \"Tyrosine-protein kinase JAK1\", \"activity\": \"Inactive\"}, {\"pref_name\": \"Vascular endothelial growth factor receptor 2\", \"activity\": \"Inactive\"}, {\"pref_name\": \"Vascular endothelial growth factor receptor 2\", \"activity\": \"Active\"}, {\"pref_name\": \"Vascular endothelial growth factor receptor 2\", \"activity\": \"Active\"}, {\"pref_name\": \"Carbonic anhydrase II\", \"activity\": \"Active\"}, {\"pref_name\": \"Serotonin 1a (5-HT1a) receptor\", \"activity\": \"Active\"}, {\"pref_name\": \"Carbonic anhydrase II\", \"activity\": \"Active\"}, {\"pref_name\": \"Matrix metalloproteinase-2\", \"activity\": \"Active\"}, {\"pref_name\": \"Carbonic anhydrase I\", \"activity\": \"Active\"}, {\"pref_name\": \"Histone deacetylase 6\", \"activity\": \"Active\"}, {\"pref_name\": \"Norepinephrine transporter\", \"activity\": \"Active\"}, {\"pref_name\": \"Serotonin 2a (5-HT2a) receptor\", \"activity\": \"Active\"}, {\"pref_name\": \"Serotonin 1a (5-HT1a) receptor\", \"activity\": \"Active\"}, {\"pref_name\": \"Serotonin transporter\", \"activity\": \"Active\"}, {\"pref_name\": \"Serotonin 2a (5-HT2a) receptor\", \"activity\": \"Active\"}, {\"pref_name\": \"Serotonin 2a (5-HT2a) receptor\", \"activity\": \"Active\"}, {\"pref_name\": \"Serine/threonine-protein kinase PIM1\", \"activity\": \"Active\"}, {\"pref_name\": \"Serine/threonine-protein kinase PIM1\", \"activity\": \"Active\"}, {\"pref_name\": \"Serine/threonine-protein kinase PIM1\", \"activity\": \"Active\"}, {\"pref_name\": \"Vascular endothelial growth factor receptor 2\", \"activity\": \"Active\"}, {\"pref_name\": \"Rho-associated protein kinase 2\", \"activity\": \"Inactive\"}, {\"pref_name\": \"Serotonin transporter\", \"activity\": \"Active\"}, {\"pref_name\": \"Serotonin 2a (5-HT2a) receptor\", \"activity\": \"Active\"}, {\"pref_name\": \"Serotonin 2a (5-HT2a) receptor\", \"activity\": \"Active\"}, {\"pref_name\": \"Carbonic anhydrase I\", \"activity\": \"Active\"}, {\"pref_name\": \"Histone deacetylase 1\", \"activity\": \"Inactive\"}, {\"pref_name\": \"Cyclin-dependent kinase 2\", \"activity\": \"Inactive\"}, {\"pref_name\": \"Serine/threonine-protein kinase AKT\", \"activity\": \"Inactive\"}, {\"pref_name\": \"Serine/threonine-protein kinase PIM1\", \"activity\": \"Inactive\"}, {\"pref_name\": \"c-Jun N-terminal kinase 1\", \"activity\": \"Inactive\"}, {\"pref_name\": \"Matrix metalloproteinase-1\", \"activity\": \"Active\"}, {\"pref_name\": \"Matrix metalloproteinase-1\", \"activity\": \"Active\"}, {\"pref_name\": \"Matrix metalloproteinase-1\", \"activity\": \"Active\"}, {\"pref_name\": \"Fibroblast growth factor receptor 1\", \"activity\": \"Inactive\"}, {\"pref_name\": \"Fibroblast growth factor receptor 3\", \"activity\": \"Inactive\"}, {\"pref_name\": \"Tyrosine-protein kinase JAK1\", \"activity\": \"Inactive\"}, {\"pref_name\": \"Serotonin 2a (5-HT2a) receptor\", \"activity\": \"Both\"}, {\"pref_name\": \"Matrix metalloproteinase-1\", \"activity\": \"Active\"}, {\"pref_name\": \"Matrix metalloproteinase-1\", \"activity\": \"Active\"}, {\"pref_name\": \"Matrix metalloproteinase-1\", \"activity\": \"Active\"}, {\"pref_name\": \"Histone deacetylase 1\", \"activity\": \"Active\"}, {\"pref_name\": \"Serotonin transporter\", \"activity\": \"Active\"}, {\"pref_name\": \"Histone deacetylase 6\", \"activity\": \"Inactive\"}, {\"pref_name\": \"Serine/threonine-protein kinase PIM2\", \"activity\": \"Active\"}, {\"pref_name\": \"Carbonic anhydrase I\", \"activity\": \"Active\"}, {\"pref_name\": \"Serine/threonine-protein kinase PIM1\", \"activity\": \"Active\"}, {\"pref_name\": \"Serine/threonine-protein kinase PIM2\", \"activity\": \"Active\"}, {\"pref_name\": \"Serine/threonine-protein kinase PIM1\", \"activity\": \"Active\"}, {\"pref_name\": \"Serine/threonine-protein kinase PIM2\", \"activity\": \"Active\"}, {\"pref_name\": \"Carbonic anhydrase I\", \"activity\": \"Active\"}, {\"pref_name\": \"Carbonic anhydrase I\", \"activity\": \"Active\"}, {\"pref_name\": \"Carbonic anhydrase I\", \"activity\": \"Active\"}, {\"pref_name\": \"Serotonin 1d (5-HT1d) receptor\", \"activity\": \"Active\"}, {\"pref_name\": \"Carbonic anhydrase XII\", \"activity\": \"Active\"}, {\"pref_name\": \"Serotonin 1a (5-HT1a) receptor\", \"activity\": \"Active\"}, {\"pref_name\": \"Serine/threonine-protein kinase PIM2\", \"activity\": \"Active\"}, {\"pref_name\": \"Carbonic anhydrase I\", \"activity\": \"Active\"}, {\"pref_name\": \"Vascular endothelial growth factor receptor 2\", \"activity\": \"Inactive\"}, {\"pref_name\": \"Serine/threonine-protein kinase PIM2\", \"activity\": \"Inactive\"}, {\"pref_name\": \"Tyrosine-protein kinase JAK2\", \"activity\": \"Inactive\"}, {\"pref_name\": \"Vascular endothelial growth factor receptor 2\", \"activity\": \"Both\"}]}}, {\"mode\": \"vega-lite\"});\n",
       "</script>"
      ],
      "text/plain": [
       "alt.HConcatChart(...)"
      ]
     },
     "execution_count": 564,
     "metadata": {},
     "output_type": "execute_result"
    }
   ],
   "source": [
    "chart_one = alt.Chart(df).transform_joinaggregate(\n",
    "        Total='sum(number)'\n",
    "    ).transform_calculate(PercentOfTotal=\"datum.number / datum.Total\").mark_bar().encode(\n",
    "    y=alt.Y('PercentOfTotal:Q', title='Proportion'),#,sort='descending'),\n",
    "    x=alt.X('results', title='All records',axis=alt.Axis(labels=False)),\n",
    "    color=alt.Color('activity', title='Activity type'),\n",
    "    order=alt.Order('activity', sort='ascending')\n",
    ").add_selection(\n",
    "    selector\n",
    ").properties(height=550, width=30)\n",
    "\n",
    "chart_two = alt.Chart(df.iloc[:3]).transform_joinaggregate(\n",
    "        Total='sum(number)'\n",
    "    ).transform_calculate(PercentOfTotal=\"datum.number / datum.Total\").mark_bar().encode(\n",
    "    y=alt.Y('PercentOfTotal:Q', title='Proportion'),#,sort='descending'),\n",
    "    x=alt.X('results', title='Records with evidence',axis=alt.Axis(labels=False)),\n",
    "    color=alt.Color('activity', title='Activity type'),\n",
    "    order=alt.Order('activity', sort='ascending')\n",
    ").add_selection(\n",
    "    selector\n",
    ").properties(height=550, width=30)\n",
    "\n",
    "\n",
    "\n",
    "\n",
    "\n",
    "\n",
    "\n",
    "\n",
    "ch = alt.Chart(out_df).mark_bar()\n",
    "ch = ch.encode(\n",
    "    y = alt.Y('pref_name', sort='-x', title='Target preferred name'),\n",
    "    x = alt.X('count()'),\n",
    "    color=alt.Color('activity'),\n",
    "    order=alt.Order('activity', sort='ascending'),\n",
    ").properties(height=550,width=200)\n",
    "\n",
    "\n",
    "(chart_one|chart_two|ch\n",
    ").configure_axisBottom(labelAngle=-35).configure_header(\n",
    "    titleFontSize=40, \n",
    "    labelFontSize=40\n",
    ").configure_axisY(\n",
    "    titleAngle=0,\n",
    "    titleAlign=\"left\",\n",
    "    titleY=-10,\n",
    "    titleX=-10,\n",
    "    titleFontSize=16,\n",
    ")"
   ]
  },
  {
   "cell_type": "code",
   "execution_count": null,
   "metadata": {},
   "outputs": [],
   "source": []
  },
  {
   "cell_type": "code",
   "execution_count": null,
   "metadata": {},
   "outputs": [],
   "source": []
  },
  {
   "cell_type": "code",
   "execution_count": null,
   "metadata": {},
   "outputs": [],
   "source": []
  },
  {
   "cell_type": "code",
   "execution_count": null,
   "metadata": {},
   "outputs": [],
   "source": []
  }
 ],
 "metadata": {
  "kernelspec": {
   "display_name": "Python 3",
   "language": "python",
   "name": "python3"
  },
  "language_info": {
   "codemirror_mode": {
    "name": "ipython",
    "version": 3
   },
   "file_extension": ".py",
   "mimetype": "text/x-python",
   "name": "python",
   "nbconvert_exporter": "python",
   "pygments_lexer": "ipython3",
   "version": "3.7.6"
  }
 },
 "nbformat": 4,
 "nbformat_minor": 4
}
