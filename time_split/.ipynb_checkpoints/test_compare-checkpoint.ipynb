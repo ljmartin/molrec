{
 "cells": [
  {
   "cell_type": "code",
   "execution_count": 1,
   "metadata": {},
   "outputs": [],
   "source": [
    "#normal tools:                                                                                                                                                                 \n",
    "from scipy import sparse\n",
    "import numpy as np\n",
    "import copy\n",
    "import sys\n",
    "sys.path.append(\"..\")\n",
    "import utils\n",
    "\n",
    "#learning libraries:                                                                                                                                                           \n",
    "import implicit\n",
    "import lightfm\n",
    "\n",
    "import matplotlib.pyplot as plt\n",
    "%matplotlib inline"
   ]
  },
  {
   "cell_type": "code",
   "execution_count": null,
   "metadata": {},
   "outputs": [],
   "source": []
  },
  {
   "cell_type": "code",
   "execution_count": 2,
   "metadata": {},
   "outputs": [
    {
     "data": {
      "text/plain": [
       "(337951, 243)"
      ]
     },
     "execution_count": 2,
     "metadata": {},
     "output_type": "execute_result"
    }
   ],
   "source": [
    "year=2010\n",
    "interaction_matrix = sparse.load_npz('../data/interaction_matrix_pchembl.npz')\n",
    "interaction_matrix = np.array(interaction_matrix.todense())\n",
    "\n",
    "interaction_dates = sparse.load_npz('../data/interaction_dates_pchembl.npz')\n",
    "interaction_dates = np.array(interaction_dates.todense())\n",
    "\n",
    "split = np.array(interaction_dates<=year, dtype=int)\n",
    "train = interaction_matrix*split\n",
    "test = interaction_matrix - train\n",
    "test.shape"
   ]
  },
  {
   "cell_type": "code",
   "execution_count": 3,
   "metadata": {},
   "outputs": [
    {
     "data": {
      "text/plain": [
       "(157161, 243)"
      ]
     },
     "execution_count": 3,
     "metadata": {},
     "output_type": "execute_result"
    }
   ],
   "source": [
    "#remove rows with no labels from the train matrix:\n",
    "rowmask = np.sum(train, axis=1).nonzero()[0]\n",
    "\n",
    "train = train[rowmask]\n",
    "test = test[rowmask]\n",
    "test.shape"
   ]
  },
  {
   "cell_type": "code",
   "execution_count": null,
   "metadata": {},
   "outputs": [],
   "source": [
    "##load data for bootstrap split:                                                                                                                                         \n",
    "interaction_matrix = utils.load_subset()\n",
    "btrain, btest = utils.train_test_split(interaction_matrix, 0.05)"
   ]
  },
  {
   "cell_type": "code",
   "execution_count": 4,
   "metadata": {},
   "outputs": [],
   "source": [
    "def find_opt_pars(filename):\n",
    "    f = open('../hyperparmeter_optimization/'+filename, 'r')\n",
    "    record=False\n",
    "    for line in f:\n",
    "        if 'Paramaters:' in line:\n",
    "            return [float(i) for i in line.strip('\\n').replace('[', '').replace(']', '').replace(',', '').split()[1:]]\n"
   ]
  },
  {
   "cell_type": "code",
   "execution_count": 5,
   "metadata": {},
   "outputs": [],
   "source": [
    "def train_implicit_bpr(pars, inp):\n",
    "    model = implicit.bpr.BayesianPersonalizedRanking(factors=int(pars[0]),\n",
    "                                                 learning_rate=pars[1],\n",
    "                                                 regularization=pars[2],\n",
    "                                                 iterations=int(pars[3]),\n",
    "                                                 use_gpu=False)\n",
    "\n",
    "    model.fit(sparse.csr_matrix(inp), show_progress=False)\n",
    "    return np.dot(model.item_factors, model.user_factors.T)\n",
    "\n",
    "def train_lc(inp):\n",
    "    L1 = 1- utils.makeCorrelations(inp)\n",
    "    return utils.makeProbabilities(inp, L1)"
   ]
  },
  {
   "cell_type": "code",
   "execution_count": 6,
   "metadata": {
    "scrolled": true
   },
   "outputs": [
    {
     "name": "stdout",
     "output_type": "stream",
     "text": [
      "0.5749799518845229\n",
      "0.6038492381716118\n",
      "0.6166800320769847\n",
      "0.6174819566960705\n",
      "0.6190858059342422\n",
      "0.6190858059342422\n",
      "0.6230954290296712\n",
      "0.623897353648757\n",
      "0.6230954290296712\n",
      "0.6267040898155574\n",
      "0.6263031275060145\n",
      "0.6251002405773858\n",
      "0.6263031275060145\n",
      "0.628307939053729\n",
      "0.6299117882919005\n",
      "0.6303127506014434\n",
      "0.6295108259823576\n",
      "0.6287089013632718\n",
      "0.6307137129109863\n",
      "0.628307939053729\n",
      "0.627906976744186\n"
     ]
    }
   ],
   "source": [
    "pars = find_opt_pars('hpo_implicit_bpr.dat')\n",
    "im_pm = train_implicit_bpr(pars, train)\n",
    "f = utils.evaluate_predictions(im_pm, train, sparse.csr_matrix(test))\n",
    "print(f)\n",
    "#r = f[test.astype(bool)]\n",
    "#print((r<20).sum() / len(r))\n",
    "\n",
    "\n",
    "\n",
    "for _ in range(20):\n",
    "    new_idx = np.arange(0,train.shape[0])\n",
    "    np.random.shuffle(new_idx)\n",
    "    im_pm += train_implicit_bpr(pars, train[new_idx])[new_idx.argsort()]\n",
    "\n",
    "    \n",
    "    f = utils.evaluate_predictions(im_pm, train, sparse.csr_matrix(test))\n",
    "    print(f)\n",
    "    #r = f[test.astype(bool)]\n",
    "    #print((r<20).sum() / len(r))"
   ]
  },
  {
   "cell_type": "code",
   "execution_count": 12,
   "metadata": {},
   "outputs": [
    {
     "data": {
      "text/plain": [
       "[<matplotlib.lines.Line2D at 0x7fb0c4fbc898>]"
      ]
     },
     "execution_count": 12,
     "metadata": {},
     "output_type": "execute_result"
    },
    {
     "data": {
      "image/png": "[encoded data removed]",
      "text/plain": [
       "<Figure size 432x288 with 1 Axes>"
      ]
     },
     "metadata": {
      "needs_background": "light"
     },
     "output_type": "display_data"
    }
   ],
   "source": [
    "b = \"\"\"0.5749799518845229\n",
    "0.6038492381716118\n",
    "0.6166800320769847\n",
    "0.6174819566960705\n",
    "0.6190858059342422\n",
    "0.6190858059342422\n",
    "0.6230954290296712\n",
    "0.623897353648757\n",
    "0.6230954290296712\n",
    "0.6267040898155574\n",
    "0.6263031275060145\n",
    "0.6251002405773858\n",
    "0.6263031275060145\n",
    "0.628307939053729\n",
    "0.6299117882919005\n",
    "0.6303127506014434\n",
    "0.6295108259823576\n",
    "0.6287089013632718\n",
    "0.6307137129109863\n",
    "0.628307939053729\n",
    "0.627906976744186\n",
    "\"\"\"\n",
    "plt.plot([float(i) for i in b.split()])\n",
    "#plt.ylim(0.55,0.65)"
   ]
  },
  {
   "cell_type": "code",
   "execution_count": null,
   "metadata": {},
   "outputs": [],
   "source": []
  },
  {
   "cell_type": "code",
   "execution_count": null,
   "metadata": {},
   "outputs": [],
   "source": [
    "plt.plot(results)\n"
   ]
  },
  {
   "cell_type": "code",
   "execution_count": null,
   "metadata": {},
   "outputs": [],
   "source": [
    "import lightfm\n",
    "model = lightfm.LightFM(no_components = 128,\n",
    "                           loss='warp', \n",
    "                           max_sampled=10,\n",
    "                           learning_rate=0.06800399888746232)\n",
    "model.fit(sparse.csr_matrix(train), epochs=4)\n",
    "#lightfm 'user id' (chemical id)                                                                                                                                               \n",
    "cid = np.arange(train.shape[0])\n",
    "#lightfm 'item id' (target id)                                                                                                                                                 \n",
    "tid = np.arange(train.shape[1])\n",
    "#make interaction predictions:                                                                                                                                         \n",
    "lfm = model.predict(np.repeat(cid, len(tid)), np.tile(tid, len(cid)))\n",
    "lfm = np.reshape(lfm, (len(cid), len(tid)))\n",
    "\n",
    "\n",
    "f = utils.evaluate_predictions(lfm, train, sparse.csr_matrix(test), outtype='full')\n",
    "#r = f[test.astype(bool)]\n",
    "#print((r<20).sum() / len(r))"
   ]
  },
  {
   "cell_type": "code",
   "execution_count": null,
   "metadata": {},
   "outputs": [],
   "source": [
    "model = lightfm.LightFM(no_components = 128,\n",
    "                           loss='warp', \n",
    "                           max_sampled=10,\n",
    "                           learning_rate=0.06800399888746232)\n",
    "model.fit(sparse.csr_matrix(train), epochs=4)"
   ]
  },
  {
   "cell_type": "code",
   "execution_count": null,
   "metadata": {},
   "outputs": [],
   "source": [
    "r = f[test.astype(bool)]\n"
   ]
  },
  {
   "cell_type": "code",
   "execution_count": null,
   "metadata": {},
   "outputs": [],
   "source": [
    "(r<20).sum() / len(r)"
   ]
  },
  {
   "cell_type": "code",
   "execution_count": null,
   "metadata": {},
   "outputs": [],
   "source": []
  },
  {
   "cell_type": "code",
   "execution_count": null,
   "metadata": {},
   "outputs": [],
   "source": []
  },
  {
   "cell_type": "code",
   "execution_count": null,
   "metadata": {},
   "outputs": [],
   "source": [
    "import lightfm\n",
    "model = lightfm.LightFM(no_components = 128,\n",
    "                           loss='warp', \n",
    "                           max_sampled=10,\n",
    "                           learning_rate=0.06800399888746232)\n",
    "model.fit(sparse.csr_matrix(train), epochs=4)\n",
    "#lightfm 'user id' (chemical id)                                                                                                                                               \n",
    "cid = np.arange(train.shape[0])\n",
    "#lightfm 'item id' (target id)                                                                                                                                                 \n",
    "tid = np.arange(train.shape[1])\n",
    "#make interaction predictions:                                                                                                                                         \n",
    "lfm = model.predict(np.repeat(cid, len(tid)), np.tile(tid, len(cid)))\n",
    "lfm = np.reshape(lfm, (len(cid), len(tid)))\n",
    "\n",
    "\n",
    "f = utils.evaluate_predictions(lfm, train, sparse.csr_matrix(test))\n",
    "print(f)\n",
    "for _ in range(10):\n",
    "    model = lightfm.LightFM(no_components = 128,\n",
    "                           loss='warp', \n",
    "                           max_sampled=10,\n",
    "                           learning_rate=0.06800399888746232)\n",
    "    model.fit(sparse.csr_matrix(train), epochs=4)\n",
    "\n",
    "    #make interaction predictions:                                                                                                                                         \n",
    "    pre = model.predict(np.repeat(cid, len(tid)), np.tile(tid, len(cid)))\n",
    "    lfm += np.reshape(pre, (len(cid), len(tid)))\n",
    "    #r = f[test.astype(bool)]\n",
    "    #print((r<20).sum() / len(r))\n",
    "    print(f)"
   ]
  },
  {
   "cell_type": "code",
   "execution_count": null,
   "metadata": {},
   "outputs": [],
   "source": []
  },
  {
   "cell_type": "code",
   "execution_count": null,
   "metadata": {},
   "outputs": [],
   "source": [
    "lc_pm = train_lc(train)\n",
    "#pars = find_opt_pars('hpo_implicit_bpr.dat')\n",
    "#im_pm = train_implicit_bpr(pars, btrain)"
   ]
  },
  {
   "cell_type": "code",
   "execution_count": null,
   "metadata": {},
   "outputs": [],
   "source": [
    "#order from highest to lowest:    \n",
    "preds_ma = np.ma.masked_array(im_pm, mask=train.astype(bool))\n",
    "order = (-preds_ma).argsort(axis=1)\n",
    "#get ranks of each ligand.                                                                                                                                                 \n",
    "ranks = order.argsort(axis=1)\n",
    "print(ranks[test.astype(bool)][:20])"
   ]
  },
  {
   "cell_type": "code",
   "execution_count": null,
   "metadata": {},
   "outputs": [],
   "source": [
    "#order from highest to lowest:    \n",
    "#preds_ma = np.ma.masked_array(im_pm, mask=train.astype(bool))\n",
    "order = (-im_pm).argsort()\n",
    "#get ranks of each ligand.                                                                                                                                                 \n",
    "ranks = order.argsort()\n",
    "print(ranks[test.astype(bool)][:20])"
   ]
  },
  {
   "cell_type": "code",
   "execution_count": null,
   "metadata": {},
   "outputs": [],
   "source": [
    "#order from highest to lowest:                                                                                                                                             \n",
    "order = (-im_pm).argsort(axis=0)\n",
    "#get ranks of each ligand.                                                                                                                                                 \n",
    "ranks = order.argsort(axis=0)\n",
    "\n"
   ]
  },
  {
   "cell_type": "code",
   "execution_count": null,
   "metadata": {},
   "outputs": [],
   "source": [
    "#masked array gets rid of values where there is a known positive:\n",
    "preds_ma = np.ma.masked_array(im_pm, mask=train.astype(bool))"
   ]
  },
  {
   "cell_type": "code",
   "execution_count": null,
   "metadata": {},
   "outputs": [],
   "source": [
    "order = (-preds_ma).argsort(axis=0)"
   ]
  },
  {
   "cell_type": "code",
   "execution_count": null,
   "metadata": {},
   "outputs": [],
   "source": [
    "ranks = order.argsort(axis=0)\n",
    "pred_ranks = ranks[test.astype(bool)]"
   ]
  },
  {
   "cell_type": "code",
   "execution_count": null,
   "metadata": {},
   "outputs": [],
   "source": [
    "vals = [np.sum(pred_ranks<i)/len(pred_ranks) for i in range(len(pred_ranks))]"
   ]
  },
  {
   "cell_type": "code",
   "execution_count": null,
   "metadata": {},
   "outputs": [],
   "source": [
    "pred_ranks.shape"
   ]
  },
  {
   "cell_type": "code",
   "execution_count": null,
   "metadata": {},
   "outputs": [],
   "source": [
    "plt.plot(vals)\n",
    "plt.xlim(0,50)"
   ]
  },
  {
   "cell_type": "code",
   "execution_count": null,
   "metadata": {},
   "outputs": [],
   "source": [
    "#order from highest to lowest:                                                                                                                                             \n",
    "order = (-im_pm).argsort(axis=0)\n",
    "#get ranks of each ligand.                                                                                                                                                 \n",
    "ranks = order.argsort(axis=0)\n"
   ]
  },
  {
   "cell_type": "code",
   "execution_count": null,
   "metadata": {},
   "outputs": [],
   "source": [
    "r = ranks[test.astype(bool)]\n",
    "plt.plot([np.sum(r<i)/len(r) for i in range(len(r))], label='Label correlation')\n",
    "plt.xlim(0,50)"
   ]
  },
  {
   "cell_type": "code",
   "execution_count": null,
   "metadata": {},
   "outputs": [],
   "source": [
    "r.shape"
   ]
  },
  {
   "cell_type": "code",
   "execution_count": null,
   "metadata": {},
   "outputs": [],
   "source": []
  },
  {
   "cell_type": "code",
   "execution_count": null,
   "metadata": {},
   "outputs": [],
   "source": [
    "ranks[test.astype(bool)]"
   ]
  },
  {
   "cell_type": "code",
   "execution_count": null,
   "metadata": {},
   "outputs": [],
   "source": [
    "\n",
    "    #calc rank fo each ligand                                                                                                                                                  \n",
    "test = np.array(test.todense(), dtype=bool)\n",
    "                                                                                                                                               \n",
    "np.mean(ranks[test])"
   ]
  },
  {
   "cell_type": "code",
   "execution_count": null,
   "metadata": {},
   "outputs": [],
   "source": [
    "full = utils.evaluate_predictions(lc_pm, sparse.csr_matrix(test), outtype='full')\n",
    "full2 = utils.evaluate_predictions(im_pm, sparse.csr_matrix(test), outtype='full')\n",
    "full3 = utils.evaluate_predictions(lfm, sparse.csr_matrix(test), outtype='full')"
   ]
  },
  {
   "cell_type": "code",
   "execution_count": null,
   "metadata": {},
   "outputs": [],
   "source": [
    "r = full[test.astype(bool)] #'r' is label correlation\n",
    "r2 = full2[test.astype(bool)]\n",
    "r3 = full3[test.astype(bool)]\n",
    "print(r.mean(), r2.mean(), np.median(r), np.median(r2), np.mean(r3), np.median(r3))"
   ]
  },
  {
   "cell_type": "code",
   "execution_count": null,
   "metadata": {},
   "outputs": [],
   "source": [
    "full"
   ]
  },
  {
   "cell_type": "code",
   "execution_count": null,
   "metadata": {},
   "outputs": [],
   "source": [
    "plt.figure(figsize=(10,10))\n",
    "plt.plot(np.log10((1+full[test.astype(bool)])/(1+full2[test.astype(bool)])))\n"
   ]
  },
  {
   "cell_type": "code",
   "execution_count": null,
   "metadata": {},
   "outputs": [],
   "source": [
    "_ = plt.hist(np.concatenate([r,-r2]), bins=100)"
   ]
  },
  {
   "cell_type": "code",
   "execution_count": null,
   "metadata": {},
   "outputs": [],
   "source": [
    "_ = plt.hist(full[test.astype(bool)], bins=100)\n",
    "plt.xscale('log')"
   ]
  },
  {
   "cell_type": "code",
   "execution_count": null,
   "metadata": {},
   "outputs": [],
   "source": [
    "def squared_exponential(distance):\n",
    "    return np.exp(distance**2 / -200)\n",
    "\n",
    "x = np.linspace(0,50,100)\n",
    "plt.plot(x, squared_exponential(x))"
   ]
  },
  {
   "cell_type": "code",
   "execution_count": null,
   "metadata": {},
   "outputs": [],
   "source": [
    "##Trying inverse ranks as kernel:\n",
    "#inverse_ranks = 1/(full+1)+1/(full2+1)+1/(full3+1)\n",
    "#combo = utils.evaluate_predictions(inverse_ranks, sparse.csr_matrix(test), outtype='full')\n",
    "\n",
    "#Trying squared exponential as kernel:\n",
    "inverse_ranks = squared_exponential(full)+squared_exponential(full2)+squared_exponential(full3+1)\n",
    "combo = utils.evaluate_predictions(inverse_ranks, sparse.csr_matrix(test), outtype='full')"
   ]
  },
  {
   "cell_type": "code",
   "execution_count": null,
   "metadata": {},
   "outputs": [],
   "source": [
    "r_combo = combo[test.astype(bool)]"
   ]
  },
  {
   "cell_type": "code",
   "execution_count": null,
   "metadata": {},
   "outputs": [],
   "source": [
    "plt.figure(figsize=(10,10))\n",
    "plt.plot([np.sum(r<i)/len(r) for i in range(243)], label='Label correlation')\n",
    "plt.plot([np.sum(r2<i)/len(r2) for i in range(243)], label='Implicit')\n",
    "plt.plot([np.sum(r3<i)/len(r3) for i in range(243)], label='Lightfm-warp')\n",
    "plt.plot([np.sum(r_combo<i)/len(r3) for i in range(243)], label='Combo')\n",
    "plt.xlim(0,20)\n",
    "plt.ylim(0,0.6)\n",
    "plt.axhline(0.5)\n",
    "#plt.xticks(np.arange(20))\n",
    "plt.grid()\n",
    "plt.legend()"
   ]
  },
  {
   "cell_type": "code",
   "execution_count": null,
   "metadata": {},
   "outputs": [],
   "source": [
    "_ = plt.hist(full2[test.astype(bool)], bins=100)\n",
    "plt.xscale('log')"
   ]
  },
  {
   "cell_type": "code",
   "execution_count": null,
   "metadata": {},
   "outputs": [],
   "source": [
    "full2[test.astype(bool)]"
   ]
  },
  {
   "cell_type": "code",
   "execution_count": null,
   "metadata": {},
   "outputs": [],
   "source": [
    "full[test.astype(bool)]"
   ]
  },
  {
   "cell_type": "code",
   "execution_count": null,
   "metadata": {},
   "outputs": [],
   "source": [
    "utils.evaluate_predictions(im_pm, sparse.csr_matrix(test), outtype='unbiased_mean')"
   ]
  },
  {
   "cell_type": "code",
   "execution_count": null,
   "metadata": {},
   "outputs": [],
   "source": [
    "tr_im = utils.evaluate_predictions(prediction_matrix, sparse.csr_matrix(test),outtype='full')\n"
   ]
  },
  {
   "cell_type": "code",
   "execution_count": null,
   "metadata": {},
   "outputs": [],
   "source": []
  }
 ],
 "metadata": {
  "kernelspec": {
   "display_name": "Python 3",
   "language": "python",
   "name": "python3"
  },
  "language_info": {
   "codemirror_mode": {
    "name": "ipython",
    "version": 3
   },
   "file_extension": ".py",
   "mimetype": "text/x-python",
   "name": "python",
   "nbconvert_exporter": "python",
   "pygments_lexer": "ipython3",
   "version": "3.7.3"
  }
 },
 "nbformat": 4,
 "nbformat_minor": 2
}
