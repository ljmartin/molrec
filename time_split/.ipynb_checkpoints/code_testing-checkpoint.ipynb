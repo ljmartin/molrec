{
 "cells": [
  {
   "cell_type": "code",
   "execution_count": null,
   "metadata": {},
   "outputs": [],
   "source": [
    "from scipy import sparse\n",
    "import numpy as np\n",
    "import itertools\n",
    "import copy\n",
    "\n",
    "import matplotlib.pyplot as plt\n",
    "%matplotlib inline\n",
    "\n",
    "from scipy.stats import gaussian_kde\n",
    "from tqdm import tqdm_notebook\n",
    "from seaborn import kdeplot"
   ]
  },
  {
   "cell_type": "code",
   "execution_count": null,
   "metadata": {},
   "outputs": [],
   "source": [
    "interaction_matrix = sparse.load_npz('../data/interaction_matrix_pchembl.npz')\n",
    "#interaction_matrix = np.array(interaction_matrix.todense())\n",
    "\n",
    "interaction_dates = sparse.load_npz('../data/interaction_dates_pchembl.npz')\n",
    "#interaction_dates = np.array(interaction_dates.todense())"
   ]
  },
  {
   "cell_type": "markdown",
   "metadata": {},
   "source": [
    "The publication dates of the interactions are recorded in ChEMBL. Looking below we can see the distribution of years: "
   ]
  },
  {
   "cell_type": "code",
   "execution_count": 3,
   "metadata": {},
   "outputs": [
    {
     "data": {
      "text/plain": [
       "<matplotlib.legend.Legend at 0x112ede690>"
      ]
     },
     "execution_count": 3,
     "metadata": {},
     "output_type": "execute_result"
    },
    {
     "data": {
      "image/png": "[encoded data removed]",
      "text/plain": [
       "<Figure size 432x288 with 1 Axes>"
      ]
     },
     "metadata": {
      "needs_background": "light"
     },
     "output_type": "display_data"
    }
   ],
   "source": [
    "#removing 'year=1' which were originally NaNs in ChEMBL:\n",
    "_ = kdeplot(interaction_dates.data[interaction_dates.data>1950], shade=True)\n",
    "#bonus - set 'cumulative=True' in kdeplot to visualize the amount of data that will be in the test set.\n",
    "plt.axvline(2015, c='red', label='test/train split point')\n",
    "plt.legend()"
   ]
  },
  {
   "cell_type": "markdown",
   "metadata": {},
   "source": [
    "These can thus be used to perform time-split cross validation, which simulates prospective validation. The below sets a year, and creates a training matrix with all interactions equal to or before that year, and a test matrix with all interactions from after that year. "
   ]
  },
  {
   "cell_type": "code",
   "execution_count": 4,
   "metadata": {},
   "outputs": [],
   "source": [
    "year = 2015\n",
    "\n",
    "#turn interaction dates into a masker\n",
    "interaction_dates.data = (interaction_dates.data<=year).astype(int)\n",
    "\n",
    "#make copies that will become train / test matrices\n",
    "train = copy.copy(interaction_matrix)\n",
    "test = copy.copy(interaction_matrix)\n",
    "\n",
    "#remove 2015 and later records from train matrix\n",
    "train.data = train.data * interaction_dates.data\n",
    "#remove all training data from the test matrix. \n",
    "test.data = test.data - train.data\n",
    "\n",
    "#remove any rows from the train matrix that have zero interactions.\n",
    "#this is the case any time a new ligand is discovered in 2015 or after. \n",
    "#we can't use link prediction on new ligands! It's a cold start problem. \n",
    "#so we remove all these ligands from the present analysis. \n",
    "row_mask = np.array((train.sum(axis=1)!=0)).reshape(1,-1)[0] #there must be a cleaner way to do that.\n",
    "train = train[row_mask] \n",
    "test = test[row_mask]"
   ]
  },
  {
   "cell_type": "markdown",
   "metadata": {},
   "source": [
    "# Predict label scores using label correlation"
   ]
  },
  {
   "cell_type": "code",
   "execution_count": 250,
   "metadata": {
    "scrolled": true
   },
   "outputs": [],
   "source": [
    "##This version uses sparse matrices, which keeps everything low\n",
    "##memory. But it's a bit slower because getting/setting sparse objects is in general\n",
    "##slower than numpy. \n",
    "def makeCorrelations(y_in):\n",
    "    assert isinstance(y_in, sparse.csr_matrix)\n",
    "    tot_instances = np.array(y_in.sum(axis=0))[0]\n",
    "    L = sparse.lil_matrix((y_in.shape[1], y_in.shape[1]))\n",
    "\n",
    "    for idx in tqdm_notebook(range(y_in.shape[0]), smoothing=0.1):\n",
    "        row = y_in[idx]\n",
    "        if row.sum()>1:\n",
    "            for j,k in itertools.permutations(row.nonzero()[1], 2):\n",
    "                L[j,k] += (1)/(tot_instances[k])             \n",
    "    return L\n",
    "\n",
    "##This calculates predicted probabilities for labels (1's in the train matrix are preserved as 1's)\n",
    "def makePredictions(y_in, L):\n",
    "    L1 = 1-L.toarray() #working with dense array is much easier for this. \n",
    "                    #but because it's only numLabels x numLabels it's not that big.\n",
    "    y_new = y_in.toarray().astype('float32') #working with a dense array again\n",
    "                                             #for ease of row-wise, elementwise addition \n",
    "    for count, row in tqdm_notebook(enumerate(y_in), total=y_in.shape[0], smoothing=0.1):\n",
    "        posLines = row.nonzero()[1]\n",
    "        corrs = L1[:,posLines]\n",
    "        probs = 1-np.prod(corrs, axis=1)\n",
    "        y_new[count]+=probs #elementwise addition here. \n",
    "        y_new[count] = np.clip(y_new[count], 0, 1)\n",
    "    return sparse.csr_matrix(y_new)"
   ]
  },
  {
   "cell_type": "code",
   "execution_count": 251,
   "metadata": {},
   "outputs": [
    {
     "data": {
      "application/vnd.jupyter.widget-view+json": {
       "model_id": "8c4f71297ff94ed68cc398ee40149295",
       "version_major": 2,
       "version_minor": 0
      },
      "text/plain": [
       "HBox(children=(IntProgress(value=0, max=289126), HTML(value='')))"
      ]
     },
     "metadata": {},
     "output_type": "display_data"
    }
   ],
   "source": [
    "#L = makeCorrelations(train)\n",
    "y_new = makePredictions(train, L)"
   ]
  },
  {
   "cell_type": "markdown",
   "metadata": {},
   "source": [
    "# Predict label scores using implicit BPR:"
   ]
  },
  {
   "cell_type": "code",
   "execution_count": 328,
   "metadata": {},
   "outputs": [],
   "source": [
    "import implicit\n",
    "model = implicit.bpr.BayesianPersonalizedRanking(factors=337,\n",
    "                                                learning_rate=0.06276,\n",
    "                                                regularization=0.001147,\n",
    "                                                iterations=25,\n",
    "                                                use_gpu=False)\n",
    "model.fit(train)"
   ]
  },
  {
   "cell_type": "code",
   "execution_count": null,
   "metadata": {},
   "outputs": [],
   "source": []
  },
  {
   "cell_type": "code",
   "execution_count": null,
   "metadata": {},
   "outputs": [],
   "source": []
  },
  {
   "cell_type": "code",
   "execution_count": null,
   "metadata": {},
   "outputs": [],
   "source": [
    "#order from highest to lowest:\n",
    "order2 = (-pred_matrix2).argsort(axis=1)\n",
    "#get ranks of each ligand.\n",
    "ranks2 = order2.argsort(axis=1)"
   ]
  },
  {
   "cell_type": "code",
   "execution_count": 295,
   "metadata": {},
   "outputs": [],
   "source": [
    "#order from highest to lowest:\n",
    "order2 = (-pred_matrix2).argsort(axis=1)\n",
    "#get ranks of each ligand.\n",
    "ranks2 = order2.argsort(axis=1)"
   ]
  },
  {
   "cell_type": "code",
   "execution_count": 296,
   "metadata": {},
   "outputs": [
    {
     "data": {
      "text/plain": [
       "array([[126, 123, 129, ..., 169, 162, 220],\n",
       "       [ 93, 174,  15, ..., 161,  32,   8],\n",
       "       [122,  88, 116, ..., 198, 212,  45],\n",
       "       ...,\n",
       "       [145, 172, 203, ..., 103,  93,  19],\n",
       "       [179, 169, 170, ...,  15,  93,  20],\n",
       "       [ 96,  52, 127, ..., 118,  81,  30]])"
      ]
     },
     "execution_count": 296,
     "metadata": {},
     "output_type": "execute_result"
    }
   ],
   "source": [
    "order"
   ]
  },
  {
   "cell_type": "code",
   "execution_count": 297,
   "metadata": {},
   "outputs": [
    {
     "data": {
      "text/plain": [
       "array([[279793, 100963, 164189, ..., 205439, 221063, 133153],\n",
       "       [ 57717, 160445, 150823, ..., 140330,  86155, 108095],\n",
       "       [255076, 160804, 159621, ..., 208037, 264811, 141879],\n",
       "       ...,\n",
       "       [136866,  66739,   1659, ...,  30147, 233293, 286272],\n",
       "       [ 40915, 271701,  71601, ..., 119870, 256637,  66142],\n",
       "       [173943,  15068, 179817, ..., 118786, 115177,  66796]])"
      ]
     },
     "execution_count": 297,
     "metadata": {},
     "output_type": "execute_result"
    }
   ],
   "source": [
    "order2.T"
   ]
  },
  {
   "cell_type": "code",
   "execution_count": 298,
   "metadata": {
    "scrolled": true
   },
   "outputs": [
    {
     "data": {
      "text/plain": [
       "<matplotlib.axes._subplots.AxesSubplot at 0x15f03cb10>"
      ]
     },
     "execution_count": 298,
     "metadata": {},
     "output_type": "execute_result"
    },
    {
     "data": {
      "image/png": "[encoded data removed]",
      "text/plain": [
       "<Figure size 432x288 with 1 Axes>"
      ]
     },
     "metadata": {
      "needs_background": "light"
     },
     "output_type": "display_data"
    }
   ],
   "source": [
    "kdeplot(ranks2[test.T])"
   ]
  },
  {
   "cell_type": "code",
   "execution_count": 301,
   "metadata": {},
   "outputs": [],
   "source": [
    "from lightfm import LightFM, datasets\n",
    "data = datasets.fetch_movielens()\n"
   ]
  },
  {
   "cell_type": "code",
   "execution_count": 303,
   "metadata": {},
   "outputs": [
    {
     "data": {
      "text/plain": [
       "<943x1682 sparse matrix of type '<class 'numpy.int32'>'\n",
       "\twith 90570 stored elements in COOrdinate format>"
      ]
     },
     "execution_count": 303,
     "metadata": {},
     "output_type": "execute_result"
    }
   ],
   "source": [
    "data['train']"
   ]
  },
  {
   "cell_type": "code",
   "execution_count": 300,
   "metadata": {
    "scrolled": true
   },
   "outputs": [
    {
     "data": {
      "text/plain": [
       "array([ 63803, 111010, 257660, 213878, 160934, 258266, 281398,  22966,\n",
       "       208564, 250463,  95300, 115554,  82144, 116349,  46719, 232460,\n",
       "       104934, 187456,   4122,    818,   2632,   2348,   3550,   1419,\n",
       "          539, 175753, 225595,   5530,   7043,  38435,   2862,  69492,\n",
       "       148256,   8045,   2082,   9229,     98,   1110,   1902,    436,\n",
       "          905,   2355,  15723,   1654,   1431,   8934,   1767,    577,\n",
       "         7319, 139400,  12150, 141921,    117,  51132,   1955,   2059,\n",
       "         2864,  19702,   3924,   8331,   5312,   3452,   4864,   2553,\n",
       "         8908,  10821,   2011,   5645,   9563,   9384,  17813,   4722,\n",
       "        10186,  19543,  15306,   2834,   6225,   3543,   3711,   5430,\n",
       "         3828,  33044,   9080,   4378,   4575,  15418,  37016,  63702,\n",
       "          951,   6930,    481,  19857,   9428,   3226,  20903,  13035,\n",
       "        19693,   7067,   2715, 268340,  16911,  15207,  67698,     40,\n",
       "          386, 169317,   4066,    840,     46,   6117,   9924,  11785,\n",
       "        34247,    196,  13163,   1036,   3261,   9164,    767,   6047,\n",
       "         7534,  99545, 278144,   3659,   2199,   2741,    630,   2863,\n",
       "         3201,  11720, 244712,   9081, 102068,  73654,  72194,  36105,\n",
       "        21346,   7751,   2823, 186803,   2830,   2115,   2690, 177806,\n",
       "       215853,   1694, 172063, 281926,  80263,  77099, 146194,  10069,\n",
       "        92888,   2423,  22521,   7920,   1635,  35972,   1809,   1575,\n",
       "          630,   3112,   2575,   2707,    735,   1345,   3022,   1067,\n",
       "          430,    160,    667,  41759,  19228,  12752,  31852,  44198,\n",
       "         3205,  85860,  28925, 175854,   2594,  25904,  11405,  41148,\n",
       "        62620,  24348,   2903, 234055,   9097,   5153,  26495,  33281,\n",
       "        17974,  63435,   5592,  29551, 102677,   6378,  24316,  37623,\n",
       "        22197,  24467,  47966, 154258,  78055,   6716,   4123,   5191,\n",
       "        30933, 124652,  63776,  14433,  51077,   4078, 145752,  33291,\n",
       "        24799, 154812,  23654,  61290,  11540,  49799,  33427,   4057,\n",
       "        72954,  93385,  16281,  66098,   6259,   9636,  17965, 140845,\n",
       "        34340,  35996,  52641,  64259, 139772,   2432,  73755,  35168,\n",
       "        12554,  22628,   2713, 149779,  34579,   3156,  32511, 107043,\n",
       "         4505, 134516, 104951,   9424,   3835,   3579,  61477,  39684,\n",
       "         4533,   3435,    135,   5382,   5316,   4030,   1612,   4203,\n",
       "       263762,   5871,  10944,  16440,  23696, 202986, 202320,   2204,\n",
       "         3557, 140276,   7930,   6046,   6539,  25236,  25462,   1588,\n",
       "         2828,  20888,  95159,  38204,   1629,  68327, 208439,   2839,\n",
       "       118287,  15051,  22165,   8548,   6597,   6918,  75630,  28159,\n",
       "        19099,  34741,   5967,  81096,   5450,  42817,  43624, 281179,\n",
       "         9130,   2362,   1838, 142206,   2481,   3518,   5849,   6436,\n",
       "        12019,   1796, 179282, 101315,  24324,  60048,  28368,    465,\n",
       "       154252,   5487, 260267, 219468, 264013,  39997,  82153, 134561,\n",
       "       181558,  33098,  42162,   5819, 200348,  16495,   4909,   6862,\n",
       "         5487,  10229, 233091,  39760,   3629,   3236, 153249,  10736,\n",
       "         2339,  18734,   2850,  31633,    946,   2827,   2227,   1331,\n",
       "         2719,   1227,   3647,   1311,   1172,    727,   2893,   5044,\n",
       "        20859,   7229,   2160,   2733,  65599,  19698,  21599,   9339,\n",
       "        27203,  18234,  21033,  39912,   2645,  71683,   1728,   2654,\n",
       "          170, 196762,   3649,   3505,   2838,    849,  85223,   2767,\n",
       "         2226,   3999,   4761,  12415,   6957,   1555,   5300,  63160,\n",
       "        25518,  19401,  29879,  21578,   3155, 263486,   5187,    881,\n",
       "        45772,  14120, 226202,  51783,  70793,  10570,   3096,   2657,\n",
       "         3200,   2874,   1453,  72616,   3698,    355,   3046,    296,\n",
       "        22556,    317,  24643, 192792,    176,    761,   3359,  70541,\n",
       "         5270, 123152, 187303,  24774,   2267,  35128,  26996,   6947,\n",
       "       114893,  80290, 209142,  63243, 141357, 170881,  98852, 204400,\n",
       "       189054, 110890,  78929, 114538, 122805,  53179,  62527, 239143,\n",
       "        92552,   2401,   1782,   4689,   2450,   1097,   2662,   1614,\n",
       "         4368,  29300,   9524,  25324,  33245,  14208,  28724,  11319,\n",
       "        30821,  44456,   4614,  13433,   3602,  25714,   4485,   4175,\n",
       "         1610,  85224,     16, 130654,   9600, 106285,   2457,   1697,\n",
       "          183,  99239,   1008,  14252,   6974,  17598,   3636,   6513,\n",
       "         2736,   3973,   6008,  81566,  27259,  31792,  14923,   2203,\n",
       "         3995,   4805,   1564,  36227,  58230,   1832,   4856, 230005,\n",
       "         4226,   3347,  10020,  21860,    138,    359, 213792,   1400,\n",
       "         3191,   1635,   1080,    350,   1564,  10400, 137174,   3425,\n",
       "         8689,    168,    973,    747,   6185,   2200,   3349,   2507,\n",
       "         6003,   5344,   4766,  33524, 108679, 189789,  94493,   1542,\n",
       "         4039, 257556,  15229,   2227,  10270,   8394,   6774,   7270,\n",
       "         4016,   1010,   2978,   1890,   4649,  35418, 122056,  48631,\n",
       "         1454,   8962,    330,  14253,   2847,   4335,  87866, 107420,\n",
       "          979,   2965,  29194,   3355,   3278,   4901,   3238,   2233,\n",
       "          833,   1139,   4130,  11565,   1892,   3009,  87884,   2703,\n",
       "       141290, 288898,  10282,  91943,   1825, 206326,  21012,    489,\n",
       "         1093,   1106,   1951,   2666,   3447,   3902,   7327,   6039,\n",
       "         1931,   3254,   2423,   5863,   5351,   4587, 120767,   2723,\n",
       "        60159,  73382,  95829, 212533,  34735,  44688,  94161, 122654,\n",
       "        15376, 190736,  20482,  22172,  41700,  72427,  97591, 148508,\n",
       "       188277,  60419, 161634, 117671, 107085,  25252,  29754, 116145,\n",
       "        47663, 135534, 122054,  49972,   1079,   3024,   1959,   2777,\n",
       "        15479, 100515,  32878,   1863,    929,   1814,   3008,   1789,\n",
       "         2403,    919,   2663,    447,   4197,   1384,   2639, 136494,\n",
       "         2026, 288925,  10068,  89140,   1808,  19506,    426,  10504,\n",
       "         4013,   1100,   3178,   4178,   6755,  20207,  16430,   9446,\n",
       "        20974, 156461, 120739,   1288,   1121,   1626,   3546,    788,\n",
       "         1421,    433,    471,    194,    667,  51477, 162673, 139130,\n",
       "       114579,  79357, 169447, 180795, 247316,  38412,   1209,   5442,\n",
       "         4907, 155793,   1766,   1687,    668,   4434,  34559,    917,\n",
       "         5994,  19853,   3522,  38340, 218890,  48535,   1074,  24978,\n",
       "           68,    459,   1663,   3896,  14903,   3501,   3012,   1403,\n",
       "         2060,   2491, 220589,   2663,  74763, 158592, 132849, 164496,\n",
       "         8155,  10190,  18387,   2367,   6361,   6060,  11654,  34584,\n",
       "        28514,  78956,   1115,   1074,  22083,    194, 274755, 283572])"
      ]
     },
     "execution_count": 300,
     "metadata": {},
     "output_type": "execute_result"
    }
   ],
   "source": [
    "ranks2[test.T]"
   ]
  },
  {
   "cell_type": "code",
   "execution_count": 293,
   "metadata": {
    "scrolled": true
   },
   "outputs": [
    {
     "data": {
      "text/plain": [
       "<matplotlib.axes._subplots.AxesSubplot at 0x15d4a0990>"
      ]
     },
     "execution_count": 293,
     "metadata": {},
     "output_type": "execute_result"
    },
    {
     "data": {
      "image/png": "[encoded data removed]",
      "text/plain": [
       "<Figure size 432x288 with 1 Axes>"
      ]
     },
     "metadata": {
      "needs_background": "light"
     },
     "output_type": "display_data"
    }
   ],
   "source": [
    "kdeplot(ranks[test])"
   ]
  },
  {
   "cell_type": "code",
   "execution_count": null,
   "metadata": {},
   "outputs": [],
   "source": []
  },
  {
   "cell_type": "code",
   "execution_count": null,
   "metadata": {},
   "outputs": [],
   "source": [
    "##new version, reporting the average rank of test ligands.\n",
    "#order from highest to lowest:\n",
    "order = (-prediction_matrix).argsort()\n",
    "#get ranks of each ligand. \n",
    "ranks = order.argsort()\n",
    "    \n",
    "#calc rank fo each ligand\n",
    "#test2 = np.array(test.todense())\n",
    "test_ranks = ranks[row_mask][np.array(test[row_mask], dtype=bool)]\n",
    "\n",
    "plt.plot(test_ranks, linewidth=0.1)"
   ]
  },
  {
   "cell_type": "code",
   "execution_count": null,
   "metadata": {},
   "outputs": [],
   "source": [
    "ranks = [(test_ranks<i).sum()/len(test_ranks) for i in range(0, 20)]\n",
    "plt.plot(ranks)\n",
    "plt.grid()"
   ]
  },
  {
   "cell_type": "code",
   "execution_count": null,
   "metadata": {},
   "outputs": [],
   "source": []
  },
  {
   "cell_type": "code",
   "execution_count": null,
   "metadata": {},
   "outputs": [],
   "source": []
  },
  {
   "cell_type": "code",
   "execution_count": null,
   "metadata": {},
   "outputs": [],
   "source": []
  },
  {
   "cell_type": "code",
   "execution_count": null,
   "metadata": {},
   "outputs": [],
   "source": [
    "import lightfm\n",
    "##LightFM:                                                                                                                                                                     \n",
    "#lightfm 'user id' (chemical id)                                                                                                                                               \n",
    "cid = np.arange(train.shape[0])\n",
    "#lightfm 'item id' (target id)                                                                                                                                                 \n",
    "tid = np.arange(train.shape[1])\n",
    "model = lightfm.LightFM(no_components = 127,\n",
    "                           loss='warp',\n",
    "                           max_sampled=9,\n",
    "                           learning_rate=0.056129688436596194)\n",
    "model.fit(sparse.csr_matrix(train), epochs=6)\n",
    "lfm_prediction_matrix = model.predict(np.repeat(cid, len(tid)), np.tile(tid, len(cid)))\n",
    "lfm_prediction_matrix = np.reshape(lfm_prediction_matrix, (len(cid), len(tid)))\n"
   ]
  },
  {
   "cell_type": "code",
   "execution_count": null,
   "metadata": {},
   "outputs": [],
   "source": [
    "order_lc = (-lc_prediction_matrix).argsort()\n",
    "#get ranks of each ligand. \n",
    "ranks_lc = order_lc.argsort()\n",
    "\n",
    "order_im = (-im_prediction_matrix).argsort()\n",
    "#get ranks of each ligand. \n",
    "ranks_im = order_im.argsort()\n",
    "\n",
    "order_lfm = (-lfm_prediction_matrix).argsort()\n",
    "#get ranks of each ligand. \n",
    "ranks_lfm = order_lfm.argsort()"
   ]
  },
  {
   "cell_type": "code",
   "execution_count": null,
   "metadata": {},
   "outputs": [],
   "source": []
  },
  {
   "cell_type": "code",
   "execution_count": null,
   "metadata": {
    "scrolled": true
   },
   "outputs": [],
   "source": [
    "inverse_ranks_lc = 1/(order_lc.argsort()+1)\n",
    "inverse_ranks_im = 1/(order_im.argsort()+1)\n",
    "inverse_ranks_lfm = 1/(order_lfm.argsort()+1)"
   ]
  },
  {
   "cell_type": "code",
   "execution_count": null,
   "metadata": {},
   "outputs": [],
   "source": [
    "inverse_combined = inverse_ranks_lc+inverse_ranks_im+inverse_ranks_lfm"
   ]
  },
  {
   "cell_type": "code",
   "execution_count": null,
   "metadata": {},
   "outputs": [],
   "source": [
    "order_com = (-inverse_combined).argsort()\n",
    "#get ranks of each ligand. \n",
    "ranks_com = order_com.argsort()\n",
    "print(np.mean(ranks_com[np.array(test, dtype=bool)]))"
   ]
  },
  {
   "cell_type": "code",
   "execution_count": null,
   "metadata": {},
   "outputs": [],
   "source": []
  },
  {
   "cell_type": "code",
   "execution_count": null,
   "metadata": {},
   "outputs": [],
   "source": []
  },
  {
   "cell_type": "code",
   "execution_count": null,
   "metadata": {},
   "outputs": [],
   "source": []
  },
  {
   "cell_type": "code",
   "execution_count": null,
   "metadata": {},
   "outputs": [],
   "source": [
    "avg_ranks = (ranks_lc+ranks_im)/2"
   ]
  },
  {
   "cell_type": "code",
   "execution_count": null,
   "metadata": {},
   "outputs": [],
   "source": [
    "print(np.mean(ranks_lc[np.array(test, dtype=bool)]))\n",
    "\n",
    "print(np.mean(ranks_im[np.array(test, dtype=bool)]))\n",
    "\n",
    "print(np.mean(avg_ranks[np.array(test, dtype=bool)]))"
   ]
  },
  {
   "cell_type": "code",
   "execution_count": null,
   "metadata": {},
   "outputs": [],
   "source": []
  },
  {
   "cell_type": "code",
   "execution_count": null,
   "metadata": {},
   "outputs": [],
   "source": [
    "##new version, reporting the average rank of test ligands.\n",
    "#order from highest to lowest:\n",
    "order = (-prediction_matrix).argsort()\n",
    "#get ranks of each ligand. \n",
    "ranks = order.argsort()\n",
    "    \n",
    "#calc rank fo each ligand\n",
    "#test2 = np.array(test.todense())\n",
    "test_ranks = ranks[row_mask][np.array(test[row_mask], dtype=bool)]\n",
    "\n",
    "plt.plot(test_ranks, linewidth=0.1)"
   ]
  },
  {
   "cell_type": "code",
   "execution_count": null,
   "metadata": {},
   "outputs": [],
   "source": [
    "print(np.mean(test_ranks))\n",
    "print(np.median(test_ranks))\n",
    "\n",
    "plt.figure(figsize=(10,3))\n",
    "density = gaussian_kde(test_ranks)\n",
    "xs = np.linspace(0,243, 300)\n",
    "density.covariance_factor = lambda : 0.25\n",
    "density._compute_covariance()\n",
    "plt.plot(xs,density(xs))\n",
    "plt.axhline(0, c='k')\n",
    "#plt.xlim(-0.5,150)\n",
    "plt.scatter(test_ranks, np.zeros(len(test_ranks))+np.random.uniform(-0.02,0.0, len(test_ranks)), alpha=0.05)"
   ]
  },
  {
   "cell_type": "code",
   "execution_count": null,
   "metadata": {},
   "outputs": [],
   "source": [
    "ranks = [(test_ranks<i).sum()/len(test_ranks) for i in range(0, 20)]\n",
    "plt.plot(ranks)\n",
    "plt.grid()"
   ]
  },
  {
   "cell_type": "code",
   "execution_count": null,
   "metadata": {},
   "outputs": [],
   "source": []
  },
  {
   "cell_type": "code",
   "execution_count": null,
   "metadata": {},
   "outputs": [],
   "source": []
  },
  {
   "cell_type": "code",
   "execution_count": null,
   "metadata": {},
   "outputs": [],
   "source": []
  },
  {
   "cell_type": "code",
   "execution_count": null,
   "metadata": {},
   "outputs": [],
   "source": []
  }
 ],
 "metadata": {
  "kernelspec": {
   "display_name": "Python 3",
   "language": "python",
   "name": "python3"
  },
  "language_info": {
   "codemirror_mode": {
    "name": "ipython",
    "version": 3
   },
   "file_extension": ".py",
   "mimetype": "text/x-python",
   "name": "python",
   "nbconvert_exporter": "python",
   "pygments_lexer": "ipython3",
   "version": "3.7.6"
  }
 },
 "nbformat": 4,
 "nbformat_minor": 2
}
