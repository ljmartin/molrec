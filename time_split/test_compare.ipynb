{
 "cells": [
  {
   "cell_type": "code",
   "execution_count": 1,
   "metadata": {},
   "outputs": [],
   "source": [
    "#normal tools:                                                                                                                                                                 \n",
    "from scipy import sparse\n",
    "import numpy as np\n",
    "import copy\n",
    "import sys\n",
    "sys.path.append(\"..\")\n",
    "import utils\n",
    "\n",
    "#learning libraries:                                                                                                                                                           \n",
    "import implicit\n",
    "import lightfm\n",
    "\n",
    "import matplotlib.pyplot as plt\n",
    "%matplotlib inline"
   ]
  },
  {
   "cell_type": "code",
   "execution_count": null,
   "metadata": {},
   "outputs": [],
   "source": []
  },
  {
   "cell_type": "code",
   "execution_count": 2,
   "metadata": {},
   "outputs": [
    {
     "data": {
      "text/plain": [
       "(337951, 243)"
      ]
     },
     "execution_count": 2,
     "metadata": {},
     "output_type": "execute_result"
    }
   ],
   "source": [
    "year=2010\n",
    "interaction_matrix = sparse.load_npz('../data/interaction_matrix_pchembl.npz')\n",
    "interaction_matrix = np.array(interaction_matrix.todense())\n",
    "\n",
    "interaction_dates = sparse.load_npz('../data/interaction_dates_pchembl.npz')\n",
    "interaction_dates = np.array(interaction_dates.todense())\n",
    "\n",
    "split = np.array(interaction_dates<=year, dtype=int)\n",
    "train = interaction_matrix*split\n",
    "test = interaction_matrix - train\n",
    "test.shape"
   ]
  },
  {
   "cell_type": "code",
   "execution_count": 3,
   "metadata": {},
   "outputs": [
    {
     "data": {
      "text/plain": [
       "(157161, 243)"
      ]
     },
     "execution_count": 3,
     "metadata": {},
     "output_type": "execute_result"
    }
   ],
   "source": [
    "#remove rows with no labels from the train matrix:\n",
    "rowmask = np.sum(train, axis=1).nonzero()[0]\n",
    "\n",
    "train = train[rowmask]\n",
    "test = test[rowmask]\n",
    "test.shape"
   ]
  },
  {
   "cell_type": "code",
   "execution_count": null,
   "metadata": {},
   "outputs": [],
   "source": [
    "##load data for bootstrap split:                                                                                                                                         \n",
    "interaction_matrix = utils.load_subset()\n",
    "btrain, btest = utils.train_test_split(interaction_matrix, 0.05)"
   ]
  },
  {
   "cell_type": "code",
   "execution_count": 4,
   "metadata": {},
   "outputs": [],
   "source": [
    "def find_opt_pars(filename):\n",
    "    f = open('../hyperparmeter_optimization/'+filename, 'r')\n",
    "    record=False\n",
    "    for line in f:\n",
    "        if 'Paramaters:' in line:\n",
    "            return [float(i) for i in line.strip('\\n').replace('[', '').replace(']', '').replace(',', '').split()[1:]]\n"
   ]
  },
  {
   "cell_type": "code",
   "execution_count": 5,
   "metadata": {},
   "outputs": [],
   "source": [
    "def train_implicit_bpr(pars, inp):\n",
    "    model = implicit.bpr.BayesianPersonalizedRanking(factors=int(pars[0]),\n",
    "                                                 learning_rate=pars[1],\n",
    "                                                 regularization=pars[2],\n",
    "                                                 iterations=int(pars[3]),\n",
    "                                                 use_gpu=False)\n",
    "\n",
    "    model.fit(sparse.csr_matrix(inp), show_progress=False)\n",
    "    return np.dot(model.item_factors, model.user_factors.T)\n",
    "\n",
    "def train_lc(inp):\n",
    "    L1 = 1- utils.makeCorrelations(inp)\n",
    "    return utils.makeProbabilities(inp, L1)"
   ]
  },
  {
   "cell_type": "code",
   "execution_count": 30,
   "metadata": {},
   "outputs": [
    {
     "name": "stdout",
     "output_type": "stream",
     "text": [
      "[[   432 126717 128706 ...  74031 133424  58904]\n",
      " [ 93326  54439  20678 ... 134438  31960  99301]\n",
      " [  2236  96712 125217 ...  71408 143692  93386]\n",
      " ...\n",
      " [ 67979  36491  37394 ... 105942  12372 128765]\n",
      " [ 47246  47661  89998 ... 149053 124920 127781]\n",
      " [  5963  48701  62081 ...  99352  97949  63450]]\n"
     ]
    }
   ],
   "source": [
    "pars = find_opt_pars('hpo_implicit_bpr.dat')\n",
    "im_pm = train_implicit_bpr(pars, train.T)\n"
   ]
  },
  {
   "cell_type": "code",
   "execution_count": 34,
   "metadata": {},
   "outputs": [
    {
     "name": "stdout",
     "output_type": "stream",
     "text": [
      "0.5749799518845229\n"
     ]
    }
   ],
   "source": [
    "f = utils.evaluate_predictions(im_pm.T, train, sparse.csr_matrix(test))\n",
    "print(f)"
   ]
  },
  {
   "cell_type": "code",
   "execution_count": 6,
   "metadata": {
    "scrolled": true
   },
   "outputs": [
    {
     "name": "stdout",
     "output_type": "stream",
     "text": [
      "0.5749799518845229\n",
      "0.6038492381716118\n",
      "0.6166800320769847\n",
      "0.6174819566960705\n",
      "0.6190858059342422\n",
      "0.6190858059342422\n",
      "0.6230954290296712\n",
      "0.623897353648757\n",
      "0.6230954290296712\n",
      "0.6267040898155574\n",
      "0.6263031275060145\n",
      "0.6251002405773858\n",
      "0.6263031275060145\n",
      "0.628307939053729\n",
      "0.6299117882919005\n",
      "0.6303127506014434\n",
      "0.6295108259823576\n",
      "0.6287089013632718\n",
      "0.6307137129109863\n",
      "0.628307939053729\n",
      "0.627906976744186\n"
     ]
    }
   ],
   "source": [
    "pars = find_opt_pars('hpo_implicit_bpr.dat')\n",
    "im_pm = train_implicit_bpr(pars, train)\n",
    "f = utils.evaluate_predictions(im_pm, train, sparse.csr_matrix(test))\n",
    "print(f)\n",
    "#r = f[test.astype(bool)]\n",
    "#print((r<20).sum() / len(r))\n",
    "\n",
    "\n",
    "\n",
    "for _ in range(20):\n",
    "    new_idx = np.arange(0,train.shape[0])\n",
    "    np.random.shuffle(new_idx)\n",
    "    im_pm += train_implicit_bpr(pars, train[new_idx])[new_idx.argsort()]\n",
    "\n",
    "    \n",
    "    f = utils.evaluate_predictions(im_pm, train, sparse.csr_matrix(test))\n",
    "    print(f)\n",
    "    #r = f[test.astype(bool)]\n",
    "    #print((r<20).sum() / len(r))"
   ]
  },
  {
   "cell_type": "code",
   "execution_count": 12,
   "metadata": {},
   "outputs": [
    {
     "data": {
      "text/plain": [
       "[<matplotlib.lines.Line2D at 0x7fb0c4fbc898>]"
      ]
     },
     "execution_count": 12,
     "metadata": {},
     "output_type": "execute_result"
    },
    {
     "data": {
      "image/png": "[encoded data removed]",
      "text/plain": [
       "<Figure size 432x288 with 1 Axes>"
      ]
     },
     "metadata": {
      "needs_background": "light"
     },
     "output_type": "display_data"
    }
   ],
   "source": [
    "b = \"\"\"0.5749799518845229\n",
    "0.6038492381716118\n",
    "0.6166800320769847\n",
    "0.6174819566960705\n",
    "0.6190858059342422\n",
    "0.6190858059342422\n",
    "0.6230954290296712\n",
    "0.623897353648757\n",
    "0.6230954290296712\n",
    "0.6267040898155574\n",
    "0.6263031275060145\n",
    "0.6251002405773858\n",
    "0.6263031275060145\n",
    "0.628307939053729\n",
    "0.6299117882919005\n",
    "0.6303127506014434\n",
    "0.6295108259823576\n",
    "0.6287089013632718\n",
    "0.6307137129109863\n",
    "0.628307939053729\n",
    "0.627906976744186\n",
    "\"\"\"\n",
    "plt.plot([float(i) for i in b.split()])\n",
    "#plt.ylim(0.55,0.65)"
   ]
  },
  {
   "cell_type": "code",
   "execution_count": null,
   "metadata": {},
   "outputs": [],
   "source": []
  },
  {
   "cell_type": "code",
   "execution_count": null,
   "metadata": {},
   "outputs": [],
   "source": [
    "plt.plot(results)\n"
   ]
  },
  {
   "cell_type": "code",
   "execution_count": 26,
   "metadata": {},
   "outputs": [],
   "source": [
    "import lightfm\n",
    "model = lightfm.LightFM(no_components = 128,\n",
    "                           loss='warp', \n",
    "                           max_sampled=10,\n",
    "                           learning_rate=0.06800399888746232)\n",
    "model.fit(sparse.csr_matrix(train).T, epochs=4)\n",
    "#lightfm 'user id' (chemical id)                                                                                                                                               \n",
    "cid = np.arange(train.T.shape[0])\n",
    "#lightfm 'item id' (target id)                                                                                                                                                 \n",
    "tid = np.arange(train.T.shape[1])\n",
    "#make interaction predictions:                                                                                                                                         \n",
    "lfm = model.predict(np.repeat(cid, len(tid)), np.tile(tid, len(cid)))\n",
    "lfm = np.reshape(lfm, (len(cid), len(tid)))\n",
    "\n",
    "\n",
    "f = utils.evaluate_predictions(lfm, train, sparse.csr_matrix(test), outtype='full')\n",
    "#r = f[test.astype(bool)]\n",
    "#print((r<20).sum() / len(r))"
   ]
  },
  {
   "cell_type": "code",
   "execution_count": 27,
   "metadata": {},
   "outputs": [],
   "source": [
    "f = utils.evaluate_predictions(lfm, train, sparse.csr_matrix(test), outtype='full')"
   ]
  },
  {
   "cell_type": "code",
   "execution_count": 29,
   "metadata": {},
   "outputs": [
    {
     "data": {
      "text/plain": [
       "array([[   432, 126717, 128706, ...,  74031, 133424,  58904],\n",
       "       [ 93326,  54439,  20678, ..., 134438,  31960,  99301],\n",
       "       [  2236,  96712, 125217, ...,  71408, 143692,  93386],\n",
       "       ...,\n",
       "       [ 67979,  36491,  37394, ..., 105942,  12372, 128765],\n",
       "       [ 47246,  47661,  89998, ..., 149053, 124920, 127781],\n",
       "       [  5963,  48701,  62081, ...,  99352,  97949,  63450]])"
      ]
     },
     "execution_count": 29,
     "metadata": {},
     "output_type": "execute_result"
    }
   ],
   "source": [
    "f"
   ]
  },
  {
   "cell_type": "code",
   "execution_count": null,
   "metadata": {},
   "outputs": [],
   "source": [
    "model = lightfm.LightFM(no_components = 128,\n",
    "                           loss='warp', \n",
    "                           max_sampled=10,\n",
    "                           learning_rate=0.06800399888746232)\n",
    "model.fit(sparse.csr_matrix(train), epochs=4)"
   ]
  },
  {
   "cell_type": "code",
   "execution_count": null,
   "metadata": {},
   "outputs": [],
   "source": [
    "r = f[test.astype(bool)]\n"
   ]
  },
  {
   "cell_type": "code",
   "execution_count": null,
   "metadata": {},
   "outputs": [],
   "source": [
    "(r<20).sum() / len(r)"
   ]
  },
  {
   "cell_type": "code",
   "execution_count": null,
   "metadata": {},
   "outputs": [],
   "source": []
  },
  {
   "cell_type": "code",
   "execution_count": null,
   "metadata": {},
   "outputs": [],
   "source": []
  },
  {
   "cell_type": "code",
   "execution_count": 37,
   "metadata": {
    "scrolled": true
   },
   "outputs": [
    {
     "name": "stdout",
     "output_type": "stream",
     "text": [
      "0.2866880513231756\n",
      "0.29149959903769046\n",
      "0.2995188452285485\n"
     ]
    },
    {
     "ename": "KeyboardInterrupt",
     "evalue": "",
     "output_type": "error",
     "traceback": [
      "\u001b[0;31m---------------------------------------------------------------------------\u001b[0m",
      "\u001b[0;31mKeyboardInterrupt\u001b[0m                         Traceback (most recent call last)",
      "\u001b[0;32m<ipython-input-37-8ace64a3b672>\u001b[0m in \u001b[0;36m<module>\u001b[0;34m\u001b[0m\n\u001b[1;32m     21\u001b[0m                            \u001b[0mmax_sampled\u001b[0m\u001b[0;34m=\u001b[0m\u001b[0;36m10\u001b[0m\u001b[0;34m,\u001b[0m\u001b[0;34m\u001b[0m\u001b[0;34m\u001b[0m\u001b[0m\n\u001b[1;32m     22\u001b[0m                            learning_rate=0.06800399888746232)\n\u001b[0;32m---> 23\u001b[0;31m     \u001b[0mmodel\u001b[0m\u001b[0;34m.\u001b[0m\u001b[0mfit\u001b[0m\u001b[0;34m(\u001b[0m\u001b[0msparse\u001b[0m\u001b[0;34m.\u001b[0m\u001b[0mcsr_matrix\u001b[0m\u001b[0;34m(\u001b[0m\u001b[0mtrain\u001b[0m\u001b[0;34m)\u001b[0m\u001b[0;34m.\u001b[0m\u001b[0mT\u001b[0m\u001b[0;34m,\u001b[0m \u001b[0mepochs\u001b[0m\u001b[0;34m=\u001b[0m\u001b[0;36m4\u001b[0m\u001b[0;34m)\u001b[0m\u001b[0;34m\u001b[0m\u001b[0;34m\u001b[0m\u001b[0m\n\u001b[0m\u001b[1;32m     24\u001b[0m \u001b[0;34m\u001b[0m\u001b[0m\n\u001b[1;32m     25\u001b[0m     \u001b[0;31m#make interaction predictions:\u001b[0m\u001b[0;34m\u001b[0m\u001b[0;34m\u001b[0m\u001b[0;34m\u001b[0m\u001b[0m\n",
      "\u001b[0;32m~/miniconda3/envs/lew_conda/lib/python3.7/site-packages/lightfm/lightfm.py\u001b[0m in \u001b[0;36mfit\u001b[0;34m(self, interactions, user_features, item_features, sample_weight, epochs, num_threads, verbose)\u001b[0m\n\u001b[1;32m    477\u001b[0m                                 \u001b[0mepochs\u001b[0m\u001b[0;34m=\u001b[0m\u001b[0mepochs\u001b[0m\u001b[0;34m,\u001b[0m\u001b[0;34m\u001b[0m\u001b[0;34m\u001b[0m\u001b[0m\n\u001b[1;32m    478\u001b[0m                                 \u001b[0mnum_threads\u001b[0m\u001b[0;34m=\u001b[0m\u001b[0mnum_threads\u001b[0m\u001b[0;34m,\u001b[0m\u001b[0;34m\u001b[0m\u001b[0;34m\u001b[0m\u001b[0m\n\u001b[0;32m--> 479\u001b[0;31m                                 verbose=verbose)\n\u001b[0m\u001b[1;32m    480\u001b[0m \u001b[0;34m\u001b[0m\u001b[0m\n\u001b[1;32m    481\u001b[0m     def fit_partial(self, interactions,\n",
      "\u001b[0;32m~/miniconda3/envs/lew_conda/lib/python3.7/site-packages/lightfm/lightfm.py\u001b[0m in \u001b[0;36mfit_partial\u001b[0;34m(self, interactions, user_features, item_features, sample_weight, epochs, num_threads, verbose)\u001b[0m\n\u001b[1;32m    574\u001b[0m                             \u001b[0msample_weight_data\u001b[0m\u001b[0;34m,\u001b[0m\u001b[0;34m\u001b[0m\u001b[0;34m\u001b[0m\u001b[0m\n\u001b[1;32m    575\u001b[0m                             \u001b[0mnum_threads\u001b[0m\u001b[0;34m,\u001b[0m\u001b[0;34m\u001b[0m\u001b[0;34m\u001b[0m\u001b[0m\n\u001b[0;32m--> 576\u001b[0;31m                             self.loss)\n\u001b[0m\u001b[1;32m    577\u001b[0m \u001b[0;34m\u001b[0m\u001b[0m\n\u001b[1;32m    578\u001b[0m             \u001b[0mself\u001b[0m\u001b[0;34m.\u001b[0m\u001b[0m_check_finite\u001b[0m\u001b[0;34m(\u001b[0m\u001b[0;34m)\u001b[0m\u001b[0;34m\u001b[0m\u001b[0;34m\u001b[0m\u001b[0m\n",
      "\u001b[0;32m~/miniconda3/envs/lew_conda/lib/python3.7/site-packages/lightfm/lightfm.py\u001b[0m in \u001b[0;36m_run_epoch\u001b[0;34m(self, item_features, user_features, interactions, sample_weight, num_threads, loss)\u001b[0m\n\u001b[1;32m    613\u001b[0m                      \u001b[0mself\u001b[0m\u001b[0;34m.\u001b[0m\u001b[0muser_alpha\u001b[0m\u001b[0;34m,\u001b[0m\u001b[0;34m\u001b[0m\u001b[0;34m\u001b[0m\u001b[0m\n\u001b[1;32m    614\u001b[0m                      \u001b[0mnum_threads\u001b[0m\u001b[0;34m,\u001b[0m\u001b[0;34m\u001b[0m\u001b[0;34m\u001b[0m\u001b[0m\n\u001b[0;32m--> 615\u001b[0;31m                      self.random_state)\n\u001b[0m\u001b[1;32m    616\u001b[0m         \u001b[0;32melif\u001b[0m \u001b[0mloss\u001b[0m \u001b[0;34m==\u001b[0m \u001b[0;34m'bpr'\u001b[0m\u001b[0;34m:\u001b[0m\u001b[0;34m\u001b[0m\u001b[0;34m\u001b[0m\u001b[0m\n\u001b[1;32m    617\u001b[0m             fit_bpr(CSRMatrix(item_features),\n",
      "\u001b[0;31mKeyboardInterrupt\u001b[0m: "
     ]
    }
   ],
   "source": [
    "import lightfm\n",
    "model = lightfm.LightFM(no_components = 128,\n",
    "                           loss='warp', \n",
    "                           max_sampled=10,\n",
    "                           learning_rate=0.06800399888746232)\n",
    "model.fit(sparse.csr_matrix(train).T, epochs=4)\n",
    "#lightfm 'user id' (chemical id)                                                                                                                                               \n",
    "cid = np.arange(train.T.shape[0])\n",
    "#lightfm 'item id' (target id)                                                                                                                                                 \n",
    "tid = np.arange(train.T.shape[1])\n",
    "#make interaction predictions:                                                                                                                                         \n",
    "lfm = model.predict(np.repeat(cid, len(tid)), np.tile(tid, len(cid)))\n",
    "lfm = np.reshape(lfm, (len(cid), len(tid)))\n",
    "\n",
    "\n",
    "f = utils.evaluate_predictions(lfm.T, train, sparse.csr_matrix(test))\n",
    "print(f)\n",
    "for _ in range(10):\n",
    "    model = lightfm.LightFM(no_components = 128,\n",
    "                           loss='warp', \n",
    "                           max_sampled=10,\n",
    "                           learning_rate=0.06800399888746232)\n",
    "    model.fit(sparse.csr_matrix(train).T, epochs=4)\n",
    "\n",
    "    #make interaction predictions:                                                                                                                                         \n",
    "    pre = model.predict(np.repeat(cid, len(tid)), np.tile(tid, len(cid)))\n",
    "    lfm += np.reshape(pre, (len(cid), len(tid)))\n",
    "    f = utils.evaluate_predictions(lfm.T, train, sparse.csr_matrix(test))\n",
    "    #r = f[test.astype(bool)]\n",
    "    #print((r<20).sum() / len(r))\n",
    "    print(f)"
   ]
  },
  {
   "cell_type": "code",
   "execution_count": null,
   "metadata": {},
   "outputs": [],
   "source": []
  },
  {
   "cell_type": "code",
   "execution_count": null,
   "metadata": {},
   "outputs": [],
   "source": [
    "lc_pm = train_lc(train)\n",
    "#pars = find_opt_pars('hpo_implicit_bpr.dat')\n",
    "#im_pm = train_implicit_bpr(pars, btrain)"
   ]
  },
  {
   "cell_type": "code",
   "execution_count": 35,
   "metadata": {
    "scrolled": true
   },
   "outputs": [
    {
     "name": "stdout",
     "output_type": "stream",
     "text": [
      "[  1628     59  20834  13213 132709   1732    250   1158 101021   4945\n",
      " 137432      6    181  13530   5643    220  84578   1108  10655   8166\n",
      "   8050     97    621   2114  87469    828    433  96999    201    628\n",
      "  11602   1582   1688   1401  39182  93213    572   1769   1495   2204\n",
      "     45    317    803      5    531   1234    955     42    179    153\n",
      "    407  58663  53679    144    174 131899     16      9  12197  36699\n",
      "  41257  57273  50177  62007   4565     14    243  38778   3616  52868\n",
      "   3118  61383   3750     88 125125   7232   6983  13017   3871   2689\n",
      "  21023  12998   7251   1674   1466   1743   1657    629    273  97306\n",
      "  82597   2634    813    208    882     29   9503     21  12469 121218\n",
      " 139677  29151    507    743      3    145   1144   2423    166    857\n",
      "   1255   1435    472  15371  18299  41299  18075    640  60830  84997\n",
      "  42437   9504  23773   2543  13231    932 153705 154371 155842 155546\n",
      "     22  36203   2636  54390   3711  63009   3958  37989   2432  30678\n",
      "   2131 104900    118     58  58257   4244    669    404    678    627\n",
      "  64696   3475  11489  20853  15432  11654  21547   8784  22791  20073\n",
      "   1136   1699   4992  21189  18757  45867    756  17594    291  80579\n",
      " 112534  57025  40576 121946  79454 151163  36822     74  81904    603\n",
      "    563    640    391   1403  65710  43635  16283   6319    281   7384\n",
      "  23971  21012 141498 140103   2874  55199  62956   4620  57095  92411]\n"
     ]
    }
   ],
   "source": [
    "#order from highest to lowest:    \n",
    "preds_ma = np.ma.masked_array(im_pm.T, mask=train.astype(bool))\n",
    "order = (-preds_ma).argsort(axis=0)\n",
    "#get ranks of each ligand.                                                                                                                                                 \n",
    "ranks = order.argsort(axis=0)\n",
    "print(ranks[test.astype(bool)][:200])"
   ]
  },
  {
   "cell_type": "code",
   "execution_count": 36,
   "metadata": {},
   "outputs": [
    {
     "data": {
      "text/plain": [
       "0.0408981555733761"
      ]
     },
     "execution_count": 36,
     "metadata": {},
     "output_type": "execute_result"
    }
   ],
   "source": [
    "(ranks[test.astype(bool)]<30).sum()/2494"
   ]
  },
  {
   "cell_type": "code",
   "execution_count": 39,
   "metadata": {},
   "outputs": [
    {
     "name": "stdout",
     "output_type": "stream",
     "text": [
      "[  1282    522   1943   1456  50546   1715   1231   4958  76660   9659\n",
      "  68771   1111    134  20419   4814   2519  64795   1103  14052 149749\n",
      "  13359   1105   1584   1323  73028    635    756   6355   2612   4186\n",
      "  19479   3507   3950   4643  15051 105339    499   2921   2190   3009\n",
      "     60   3400   4201      0   4249   4491   2934   2050   2243   2224\n",
      "   2262  75155  67127    476     22  78817    478    168 116110  36687\n",
      "  81461  25330  55073  19460  34317   1676   1419  13237   6403  63400\n",
      " 101789 134789 101627   2086  50156   2218  11892  46584   3280   4363\n",
      "  12651  58500   2824   2165   2185   2512   2385   2050   1086 118031\n",
      "  10349   1884   1730   1232   1748   1037   5728   1064   4663  57351\n",
      " 128438 101725   2407   3587    531   4143   2832   3243  10412   1816\n",
      "   1060   1088   1341   9448  38884  72771  35162   1269  55563  61776\n",
      "  69560  26018  32620   8621 101477    148 156283 155885 155520 155925\n",
      "   1584  24718  31280 107834  94531  22865  20373   2274  34505  21272\n",
      "  99618  89301   2193   2716  14527  23646    311    411    317    291\n",
      "  20220  51481  80118  67060  79461 127727  79118  31739  48088  44375\n",
      "   1971   2021   5799  76476  11252 154117    381  10083    478  95336\n",
      "  72585 148885 143145  66359  75832 102446 109937   1627  40214   3354\n",
      "   1174   1060    882   1771   4338   6108   1085   9622   1043   4827\n",
      "  30263  21182 126466 147268  11950  80601  17153   3778  99164 102999]\n",
      "0.0056134723336006415\n"
     ]
    }
   ],
   "source": [
    "#order from highest to lowest:    \n",
    "preds_ma = np.ma.masked_array(lfm, mask=train.astype(bool)).T\n",
    "order = (-preds_ma).argsort(axis=0)\n",
    "#get ranks of each ligand.                                                                                                                                                 \n",
    "ranks = order.argsort(axis=0)\n",
    "print(ranks[test.astype(bool)][:200])\n",
    "print((ranks[test.astype(bool)]<30).sum()/2494)"
   ]
  },
  {
   "cell_type": "code",
   "execution_count": 24,
   "metadata": {},
   "outputs": [],
   "source": [
    "lfc = train_lc(train)"
   ]
  },
  {
   "cell_type": "code",
   "execution_count": 25,
   "metadata": {},
   "outputs": [
    {
     "name": "stdout",
     "output_type": "stream",
     "text": [
      "[   337      0    378    492      0   1644    231   1611  40571  10019\n",
      "   2669     96      7    330   4196      0  30474   1608   3125  76266\n",
      "  54619     11    224   2166  38067   1037    426 116427    242   1048\n",
      "    954    840   1510   1275   9456  54106    354   1235    991   1776\n",
      "    122    301   1060    107    277   1136    932     70    852    225\n",
      "    417   3334   1197    229    205 123557    117    101  33194  19835\n",
      "  19650  19629  19684  19681   3601     47    109  19626   5199  19869\n",
      "   4616  19767   5000    425 101798   7761   7776  16106  10619   4064\n",
      "  16821  15648  10967   1942   1289   1906   1287    514    211  31306\n",
      "  12003    262    285     36    145     14    735     35    603  14796\n",
      "  34840  17702     16      3      0    522   2421   2265    149    428\n",
      "   1314   1574    865  13432  20601  22647  19679    629  23578  31108\n",
      "  35489  17162  15190     58 117593    591   9309   9493   8689  11919\n",
      "     37  19799   3742  19801   3744  19806   3750  19807   3752  19777\n",
      "   3745   3312     26     27  19642   3662    842    608    890   1169\n",
      "  19651   3703   9843  12818  11429  10092   7666   5602  12606  11253\n",
      "   1952   1959   3962  11237  33368  20468   5806   8618    236  23338\n",
      "  21312 115038 109730  53411  57580  15319  46811     31   1754    774\n",
      "    630    444     37    285  23622  25452   6634   6648    205 116282\n",
      "  16767  16766  15355   5925   1062   6915   6913   1055   6912   6911]\n",
      "0.07939053728949479\n"
     ]
    }
   ],
   "source": [
    "#order from highest to lowest:    \n",
    "preds_ma = np.ma.masked_array(lfc, mask=train.astype(bool))\n",
    "order = (-preds_ma).argsort(axis=0)\n",
    "#get ranks of each ligand.                                                                                                                                                 \n",
    "ranks = order.argsort(axis=0)\n",
    "print(ranks[test.astype(bool)][:200])\n",
    "print((ranks[test.astype(bool)]<30).sum()/2494)"
   ]
  },
  {
   "cell_type": "code",
   "execution_count": null,
   "metadata": {},
   "outputs": [],
   "source": [
    "#order from highest to lowest:    \n",
    "#preds_ma = np.ma.masked_array(im_pm, mask=train.astype(bool))\n",
    "order = (-im_pm).argsort()\n",
    "#get ranks of each ligand.                                                                                                                                                 \n",
    "ranks = order.argsort()\n",
    "print(ranks[test.astype(bool)][:20])"
   ]
  },
  {
   "cell_type": "code",
   "execution_count": null,
   "metadata": {},
   "outputs": [],
   "source": [
    "#order from highest to lowest:                                                                                                                                             \n",
    "order = (-im_pm).argsort(axis=0)\n",
    "#get ranks of each ligand.                                                                                                                                                 \n",
    "ranks = order.argsort(axis=0)\n",
    "\n"
   ]
  },
  {
   "cell_type": "code",
   "execution_count": null,
   "metadata": {},
   "outputs": [],
   "source": [
    "#masked array gets rid of values where there is a known positive:\n",
    "preds_ma = np.ma.masked_array(im_pm, mask=train.astype(bool))"
   ]
  },
  {
   "cell_type": "code",
   "execution_count": null,
   "metadata": {},
   "outputs": [],
   "source": [
    "order = (-preds_ma).argsort(axis=0)"
   ]
  },
  {
   "cell_type": "code",
   "execution_count": null,
   "metadata": {},
   "outputs": [],
   "source": [
    "ranks = order.argsort(axis=0)\n",
    "pred_ranks = ranks[test.astype(bool)]"
   ]
  },
  {
   "cell_type": "code",
   "execution_count": null,
   "metadata": {},
   "outputs": [],
   "source": [
    "vals = [np.sum(pred_ranks<i)/len(pred_ranks) for i in range(len(pred_ranks))]"
   ]
  },
  {
   "cell_type": "code",
   "execution_count": null,
   "metadata": {},
   "outputs": [],
   "source": [
    "pred_ranks.shape"
   ]
  },
  {
   "cell_type": "code",
   "execution_count": null,
   "metadata": {},
   "outputs": [],
   "source": [
    "plt.plot(vals)\n",
    "plt.xlim(0,50)"
   ]
  },
  {
   "cell_type": "code",
   "execution_count": null,
   "metadata": {},
   "outputs": [],
   "source": [
    "#order from highest to lowest:                                                                                                                                             \n",
    "order = (-im_pm).argsort(axis=0)\n",
    "#get ranks of each ligand.                                                                                                                                                 \n",
    "ranks = order.argsort(axis=0)\n"
   ]
  },
  {
   "cell_type": "code",
   "execution_count": null,
   "metadata": {},
   "outputs": [],
   "source": [
    "r = ranks[test.astype(bool)]\n",
    "plt.plot([np.sum(r<i)/len(r) for i in range(len(r))], label='Label correlation')\n",
    "plt.xlim(0,50)"
   ]
  },
  {
   "cell_type": "code",
   "execution_count": null,
   "metadata": {},
   "outputs": [],
   "source": [
    "r.shape"
   ]
  },
  {
   "cell_type": "code",
   "execution_count": null,
   "metadata": {},
   "outputs": [],
   "source": []
  },
  {
   "cell_type": "code",
   "execution_count": null,
   "metadata": {},
   "outputs": [],
   "source": [
    "ranks[test.astype(bool)]"
   ]
  },
  {
   "cell_type": "code",
   "execution_count": null,
   "metadata": {},
   "outputs": [],
   "source": [
    "\n",
    "    #calc rank fo each ligand                                                                                                                                                  \n",
    "test = np.array(test.todense(), dtype=bool)\n",
    "                                                                                                                                               \n",
    "np.mean(ranks[test])"
   ]
  },
  {
   "cell_type": "code",
   "execution_count": null,
   "metadata": {},
   "outputs": [],
   "source": [
    "full = utils.evaluate_predictions(lc_pm, sparse.csr_matrix(test), outtype='full')\n",
    "full2 = utils.evaluate_predictions(im_pm, sparse.csr_matrix(test), outtype='full')\n",
    "full3 = utils.evaluate_predictions(lfm, sparse.csr_matrix(test), outtype='full')"
   ]
  },
  {
   "cell_type": "code",
   "execution_count": null,
   "metadata": {},
   "outputs": [],
   "source": [
    "r = full[test.astype(bool)] #'r' is label correlation\n",
    "r2 = full2[test.astype(bool)]\n",
    "r3 = full3[test.astype(bool)]\n",
    "print(r.mean(), r2.mean(), np.median(r), np.median(r2), np.mean(r3), np.median(r3))"
   ]
  },
  {
   "cell_type": "code",
   "execution_count": null,
   "metadata": {},
   "outputs": [],
   "source": [
    "full"
   ]
  },
  {
   "cell_type": "code",
   "execution_count": null,
   "metadata": {},
   "outputs": [],
   "source": [
    "plt.figure(figsize=(10,10))\n",
    "plt.plot(np.log10((1+full[test.astype(bool)])/(1+full2[test.astype(bool)])))\n"
   ]
  },
  {
   "cell_type": "code",
   "execution_count": null,
   "metadata": {},
   "outputs": [],
   "source": [
    "_ = plt.hist(np.concatenate([r,-r2]), bins=100)"
   ]
  },
  {
   "cell_type": "code",
   "execution_count": null,
   "metadata": {},
   "outputs": [],
   "source": [
    "_ = plt.hist(full[test.astype(bool)], bins=100)\n",
    "plt.xscale('log')"
   ]
  },
  {
   "cell_type": "code",
   "execution_count": null,
   "metadata": {},
   "outputs": [],
   "source": [
    "def squared_exponential(distance):\n",
    "    return np.exp(distance**2 / -200)\n",
    "\n",
    "x = np.linspace(0,50,100)\n",
    "plt.plot(x, squared_exponential(x))"
   ]
  },
  {
   "cell_type": "code",
   "execution_count": null,
   "metadata": {},
   "outputs": [],
   "source": [
    "##Trying inverse ranks as kernel:\n",
    "#inverse_ranks = 1/(full+1)+1/(full2+1)+1/(full3+1)\n",
    "#combo = utils.evaluate_predictions(inverse_ranks, sparse.csr_matrix(test), outtype='full')\n",
    "\n",
    "#Trying squared exponential as kernel:\n",
    "inverse_ranks = squared_exponential(full)+squared_exponential(full2)+squared_exponential(full3+1)\n",
    "combo = utils.evaluate_predictions(inverse_ranks, sparse.csr_matrix(test), outtype='full')"
   ]
  },
  {
   "cell_type": "code",
   "execution_count": null,
   "metadata": {},
   "outputs": [],
   "source": [
    "r_combo = combo[test.astype(bool)]"
   ]
  },
  {
   "cell_type": "code",
   "execution_count": null,
   "metadata": {},
   "outputs": [],
   "source": [
    "plt.figure(figsize=(10,10))\n",
    "plt.plot([np.sum(r<i)/len(r) for i in range(243)], label='Label correlation')\n",
    "plt.plot([np.sum(r2<i)/len(r2) for i in range(243)], label='Implicit')\n",
    "plt.plot([np.sum(r3<i)/len(r3) for i in range(243)], label='Lightfm-warp')\n",
    "plt.plot([np.sum(r_combo<i)/len(r3) for i in range(243)], label='Combo')\n",
    "plt.xlim(0,20)\n",
    "plt.ylim(0,0.6)\n",
    "plt.axhline(0.5)\n",
    "#plt.xticks(np.arange(20))\n",
    "plt.grid()\n",
    "plt.legend()"
   ]
  },
  {
   "cell_type": "code",
   "execution_count": null,
   "metadata": {},
   "outputs": [],
   "source": [
    "_ = plt.hist(full2[test.astype(bool)], bins=100)\n",
    "plt.xscale('log')"
   ]
  },
  {
   "cell_type": "code",
   "execution_count": null,
   "metadata": {},
   "outputs": [],
   "source": [
    "full2[test.astype(bool)]"
   ]
  },
  {
   "cell_type": "code",
   "execution_count": null,
   "metadata": {},
   "outputs": [],
   "source": [
    "full[test.astype(bool)]"
   ]
  },
  {
   "cell_type": "code",
   "execution_count": null,
   "metadata": {},
   "outputs": [],
   "source": [
    "utils.evaluate_predictions(im_pm, sparse.csr_matrix(test), outtype='unbiased_mean')"
   ]
  },
  {
   "cell_type": "code",
   "execution_count": null,
   "metadata": {},
   "outputs": [],
   "source": [
    "tr_im = utils.evaluate_predictions(prediction_matrix, sparse.csr_matrix(test),outtype='full')\n"
   ]
  },
  {
   "cell_type": "code",
   "execution_count": null,
   "metadata": {},
   "outputs": [],
   "source": []
  }
 ],
 "metadata": {
  "kernelspec": {
   "display_name": "Python 3",
   "language": "python",
   "name": "python3"
  },
  "language_info": {
   "codemirror_mode": {
    "name": "ipython",
    "version": 3
   },
   "file_extension": ".py",
   "mimetype": "text/x-python",
   "name": "python",
   "nbconvert_exporter": "python",
   "pygments_lexer": "ipython3",
   "version": "3.7.6"
  }
 },
 "nbformat": 4,
 "nbformat_minor": 2
}
