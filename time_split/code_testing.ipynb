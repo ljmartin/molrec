{
 "cells": [
  {
   "cell_type": "code",
   "execution_count": 1,
   "metadata": {},
   "outputs": [],
   "source": [
    "from scipy import sparse\n",
    "import numpy as np\n",
    "import itertools\n",
    "import copy\n",
    "\n",
    "import matplotlib.pyplot as plt\n",
    "%matplotlib inline\n",
    "\n",
    "from scipy.stats import gaussian_kde\n",
    "from tqdm import tqdm_notebook\n",
    "from seaborn import kdeplot"
   ]
  },
  {
   "cell_type": "code",
   "execution_count": 2,
   "metadata": {},
   "outputs": [],
   "source": [
    "interaction_matrix = sparse.load_npz('../data/interaction_matrix_pchembl.npz')\n",
    "#interaction_matrix = np.array(interaction_matrix.todense())\n",
    "\n",
    "interaction_dates = sparse.load_npz('../data/interaction_dates_pchembl.npz')\n",
    "#interaction_dates = np.array(interaction_dates.todense())"
   ]
  },
  {
   "cell_type": "code",
   "execution_count": 3,
   "metadata": {},
   "outputs": [],
   "source": [
    "import sys\n",
    "sys.path.append(\"..\")\n",
    "import utils\n",
    "#testing number of rows in utils.train_test_split:\n",
    "#train, test = utils.train_test_split(interaction_matrix.toarray(), 0.05)"
   ]
  },
  {
   "cell_type": "code",
   "execution_count": null,
   "metadata": {},
   "outputs": [],
   "source": []
  },
  {
   "cell_type": "code",
   "execution_count": null,
   "metadata": {},
   "outputs": [],
   "source": []
  },
  {
   "cell_type": "markdown",
   "metadata": {},
   "source": [
    "The publication dates of the interactions are recorded in ChEMBL. Looking below we can see the distribution of years: "
   ]
  },
  {
   "cell_type": "code",
   "execution_count": 4,
   "metadata": {},
   "outputs": [
    {
     "data": {
      "text/plain": [
       "<matplotlib.legend.Legend at 0x1154d57d0>"
      ]
     },
     "execution_count": 4,
     "metadata": {},
     "output_type": "execute_result"
    },
    {
     "data": {
      "image/png": "[encoded data removed]",
      "text/plain": [
       "<Figure size 432x288 with 1 Axes>"
      ]
     },
     "metadata": {
      "needs_background": "light"
     },
     "output_type": "display_data"
    }
   ],
   "source": [
    "#removing 'year=1' which were originally NaNs in ChEMBL:\n",
    "_ = kdeplot(interaction_dates.data[interaction_dates.data>1950], shade=True)\n",
    "#bonus - set 'cumulative=True' in kdeplot to visualize the amount of data that will be in the test set.\n",
    "plt.axvline(2015, c='red', label='test/train split point')\n",
    "plt.legend()"
   ]
  },
  {
   "cell_type": "markdown",
   "metadata": {},
   "source": [
    "These can thus be used to perform time-split cross validation, which simulates prospective validation. The below sets a year, and creates a training matrix with all interactions equal to or before that year, and a test matrix with all interactions from after that year. "
   ]
  },
  {
   "cell_type": "code",
   "execution_count": 5,
   "metadata": {},
   "outputs": [],
   "source": [
    "year = 2010\n",
    "\n",
    "#turn interaction dates into a masker\n",
    "dates_mask = (interaction_dates.data<=year).astype(int)\n",
    "\n",
    "#make copies that will become train / test matrices\n",
    "train = copy.copy(interaction_matrix)\n",
    "test = copy.copy(interaction_matrix)\n",
    "\n",
    "#remove 2015 and later records from train matrix\n",
    "train.data = train.data * dates_mask\n",
    "#remove all training data from the test matrix. \n",
    "test.data = test.data - train.data\n",
    "\n",
    "#remove any rows from the train matrix that have zero interactions.\n",
    "#this is the case any time a new ligand is discovered in 2015 or after. \n",
    "#we can't use link prediction on new ligands! It's a cold start problem. \n",
    "#so we remove all these ligands from the present analysis. \n",
    "row_mask = np.array((train.sum(axis=1)!=0)).reshape(1,-1)[0] #there must be a cleaner way to do that.\n",
    "train = train[row_mask] \n",
    "test = test[row_mask]\n",
    "\n",
    "train.eliminate_zeros()\n",
    "test.eliminate_zeros()"
   ]
  },
  {
   "cell_type": "code",
   "execution_count": 6,
   "metadata": {},
   "outputs": [
    {
     "name": "stdout",
     "output_type": "stream",
     "text": [
      "233955.0 2494.0 1.0660169690752497\n"
     ]
    },
    {
     "data": {
      "text/plain": [
       "2494.0"
      ]
     },
     "execution_count": 6,
     "metadata": {},
     "output_type": "execute_result"
    }
   ],
   "source": [
    "print(train.sum(), test.sum(), (test.sum()/train.sum())*100)\n",
    "test.sum()\n",
    "      "
   ]
  },
  {
   "cell_type": "code",
   "execution_count": null,
   "metadata": {},
   "outputs": [],
   "source": []
  },
  {
   "cell_type": "code",
   "execution_count": null,
   "metadata": {},
   "outputs": [],
   "source": []
  },
  {
   "cell_type": "code",
   "execution_count": null,
   "metadata": {},
   "outputs": [],
   "source": []
  },
  {
   "cell_type": "markdown",
   "metadata": {},
   "source": [
    "# Predict label scores using label correlation"
   ]
  },
  {
   "cell_type": "code",
   "execution_count": 7,
   "metadata": {
    "scrolled": true
   },
   "outputs": [],
   "source": [
    "##This version uses sparse matrices, which keeps everything low\n",
    "##memory. But it's a bit slower because getting/setting sparse objects is in general\n",
    "##slower than numpy. \n",
    "def makeCorrelations(y_in):\n",
    "    assert isinstance(y_in, sparse.csr_matrix)\n",
    "    tot_instances = np.array(y_in.sum(axis=0))[0]\n",
    "    L = sparse.lil_matrix((y_in.shape[1], y_in.shape[1]))\n",
    "\n",
    "    for idx in tqdm_notebook(range(y_in.shape[0]), smoothing=0.1):\n",
    "        row = y_in[idx]\n",
    "        if row.sum()>1:\n",
    "            for j,k in itertools.permutations(row.nonzero()[1], 2):\n",
    "                L[j,k] += (1)/(tot_instances[k])             \n",
    "    return L\n",
    "\n",
    "##This calculates predicted probabilities for labels (1's in the train matrix are preserved as 1's)\n",
    "def makePredictions(y_in, L):\n",
    "    L1 = 1-L.toarray() #working with dense array is much easier for this. \n",
    "                    #but because it's only numLabels x numLabels it's not that big.\n",
    "    y_new = y_in.toarray().astype('float32') #working with a dense array again\n",
    "                                             #for ease of row-wise, elementwise addition \n",
    "    for count, row in tqdm_notebook(enumerate(y_in), total=y_in.shape[0], smoothing=0.1):\n",
    "        posLines = row.nonzero()[1]\n",
    "        corrs = L1[:,posLines]\n",
    "        probs = 1-np.prod(corrs, axis=1)\n",
    "        y_new[count]+=probs #elementwise addition here. \n",
    "        y_new[count] = np.clip(y_new[count], 0, 1)\n",
    "    return sparse.csr_matrix(y_new)"
   ]
  },
  {
   "cell_type": "code",
   "execution_count": 8,
   "metadata": {},
   "outputs": [
    {
     "data": {
      "application/vnd.jupyter.widget-view+json": {
       "model_id": "83ae0390790d420e920523a1eb61f87b",
       "version_major": 2,
       "version_minor": 0
      },
      "text/plain": [
       "HBox(children=(IntProgress(value=0, max=157161), HTML(value='')))"
      ]
     },
     "metadata": {},
     "output_type": "display_data"
    },
    {
     "name": "stdout",
     "output_type": "stream",
     "text": [
      "\n"
     ]
    },
    {
     "data": {
      "application/vnd.jupyter.widget-view+json": {
       "model_id": "8ecd1926227042a6826efb9126b15f59",
       "version_major": 2,
       "version_minor": 0
      },
      "text/plain": [
       "HBox(children=(IntProgress(value=0, max=157161), HTML(value='')))"
      ]
     },
     "metadata": {},
     "output_type": "display_data"
    },
    {
     "name": "stdout",
     "output_type": "stream",
     "text": [
      "\n"
     ]
    }
   ],
   "source": [
    "L = makeCorrelations(train)\n",
    "lc_preds = makePredictions(train, L)"
   ]
  },
  {
   "cell_type": "code",
   "execution_count": 12,
   "metadata": {},
   "outputs": [],
   "source": [
    "def bapbap(predictions, test):\n",
    "    #if isinstance(test, sparse.csr_matrix):\n",
    "    #    test = test.toarray()\n",
    "\n",
    "    #This will mask all ROWS that contain no test ligands. No point ranking\n",
    "    #a row if you're aren't going to evaluate the ranks!\n",
    "    #(and it works on sparse or np.array)\n",
    "    row_mask = np.array(test.sum(axis=1)>0).reshape(-1,)\n",
    "    test_masked = test[row_mask]\n",
    "    get_ranks = test_masked.astype(bool)\n",
    "    prediction_ranks = rankdata(-predictions[row_mask], axis=1)"
   ]
  },
  {
   "cell_type": "code",
   "execution_count": 21,
   "metadata": {
    "scrolled": true
   },
   "outputs": [],
   "source": [
    "predictions = copy.copy(lc_preds)\n",
    "if isinstance(predictions, sparse.csr_matrix):\n",
    "\tpredictions = predictions.toarray()\n",
    "from scipy.stats.mstats import rankdata\n",
    "row_mask = np.array(test.sum(axis=1)>0).reshape(-1,)\n",
    "test_masked = test[row_mask]\n",
    "get_ranks = test_masked.astype(bool)\n",
    "prediction_ranks = rankdata(-predictions[row_mask], axis=1)"
   ]
  },
  {
   "cell_type": "code",
   "execution_count": null,
   "metadata": {},
   "outputs": [],
   "source": []
  },
  {
   "cell_type": "markdown",
   "metadata": {},
   "source": [
    "# Predict label scores using implicit BPR:"
   ]
  },
  {
   "cell_type": "code",
   "execution_count": 9,
   "metadata": {},
   "outputs": [
    {
     "data": {
      "application/vnd.jupyter.widget-view+json": {
       "model_id": "0c6cfc9fa1e340d0b43f29a64322cb82",
       "version_major": 2,
       "version_minor": 0
      },
      "text/plain": [
       "HBox(children=(IntProgress(value=0, max=25), HTML(value='')))"
      ]
     },
     "metadata": {},
     "output_type": "display_data"
    }
   ],
   "source": [
    "import implicit\n",
    "model = implicit.bpr.BayesianPersonalizedRanking(factors=337,\n",
    "                                                learning_rate=0.06276,\n",
    "                                                regularization=0.001147,\n",
    "                                                iterations=25,\n",
    "                                                use_gpu=False)\n",
    "model.fit(train)\n",
    "\n",
    "imbpr_preds = np.dot(model.item_factors, model.user_factors.T)"
   ]
  },
  {
   "cell_type": "code",
   "execution_count": 23,
   "metadata": {},
   "outputs": [],
   "source": [
    "def return_mean_rank(preds, test):\n",
    "    t = test.toarray().astype(bool)\n",
    "    #order from highest to lowest:\n",
    "    order = (-preds).argsort(axis=1)\n",
    "    #get ranks of each ligand.\n",
    "    ranks = order.argsort(axis=1)\n",
    "    return ranks[t]"
   ]
  },
  {
   "cell_type": "code",
   "execution_count": 32,
   "metadata": {},
   "outputs": [],
   "source": [
    "lc_ranks = return_mean_rank(lc_preds.toarray(), test)"
   ]
  },
  {
   "cell_type": "code",
   "execution_count": 33,
   "metadata": {},
   "outputs": [],
   "source": [
    "imbpr_ranks = return_mean_rank(imbpr_preds, test)"
   ]
  },
  {
   "cell_type": "code",
   "execution_count": 38,
   "metadata": {
    "scrolled": true
   },
   "outputs": [
    {
     "data": {
      "image/png": "[encoded data removed]",
      "text/plain": [
       "<Figure size 1080x576 with 1 Axes>"
      ]
     },
     "metadata": {
      "needs_background": "light"
     },
     "output_type": "display_data"
    }
   ],
   "source": [
    "plt.figure(figsize=(15,8))\n",
    "kdeplot(lc_ranks, label='Label correlation', cumulative=True)\n",
    "kdeplot(imbpr_ranks, label='ImplicitBPR', cumulative=True)\n",
    "plt.yscale('log')"
   ]
  },
  {
   "cell_type": "code",
   "execution_count": 41,
   "metadata": {},
   "outputs": [],
   "source": [
    "from statsmodels.distributions import ECDF\n",
    "ecdf = ECDF(lc_ranks)"
   ]
  },
  {
   "cell_type": "code",
   "execution_count": 62,
   "metadata": {
    "scrolled": true
   },
   "outputs": [
    {
     "data": {
      "text/plain": [
       "array([  7,  12,  24, 116,  62, 134,   8,  17,  16,   2,   3,  13,  27,\n",
       "         8,   2,   6,  12,   5,  13,   8, 102,   1, 111, 133,  10,  45,\n",
       "        45,  10,  45,  45, 136,   6,  10,   1,   2,   4,   3, 111,  10,\n",
       "         2,   1,   3,   2,   3,   2,   3,   5,   3,  32,   2,   1, 101,\n",
       "        10,  61,   4,  37,  40,   9,   6,  13,  45,   7,  18, 118,   7,\n",
       "         6,   4,   2,   1,  13,  14,   2,   5,  50,   3,   2,   1,   2,\n",
       "         1,  10,   1,   1,  64,  64,  10,  64,   1, 211,  56,   1,   9,\n",
       "        11,   3,   9, 106,   3,  14,   2,   4,   7,  31,   3,   7,   5,\n",
       "         9,   8,  17,  27,  30,  21,  54,  23,  18,  87,  10,   7,  88,\n",
       "         3,   8,  11,  17,  15,  21,  31,  10,   3,   7,   6,  37,   8,\n",
       "        20,   2,  22,  13,  29,  25,   4,  16,   9,  19,  23,  51,   5,\n",
       "        14,  24,  50, 121,   3,   3,   3,  53,  53,  53,  53,  53,  53,\n",
       "        53,  10,   8,   2,   4,   4,   3,   3,   4,  22,   6,  51,   1,\n",
       "        10,   5,  10,   5,  11,  10,   5,   5,   3,   3,   8,   4,   5,\n",
       "         3,   3,   2,   6,   5,  17,   7,  22,  16,   6,   5,  44,   2,\n",
       "         2,   7,   2,   3,   1,   2,   5,  14,  14,  14,   5,   2,   1,\n",
       "        14,  17,  14,   3,  27, 132,   2,   1,   4,  16,  10,   2,   2,\n",
       "         2,   2,   2,   2,   2,   2,   2,   2,   2,   1,   3,  14,   2,\n",
       "         1,   2,   3,   2,  11,   4,  13,   7, 151, 211, 151,   3,  83,\n",
       "         8,  26,  26,  26,  26,   1,  17,  32,  13,  22,  23,   2, 175,\n",
       "         1,   3,   3,   2,  14, 221,  13,  20,  11,  14,  10,  23,  12,\n",
       "        46,  43, 211, 112,   8,   2,   1,  16,  17,  19,   6,  10,  12,\n",
       "         8,  64,  64,   6,   3,   2, 106,  11,   3,   7,   9, 224,   3,\n",
       "        43,   2,  29,  61,  47,  10,  18,  20,  66,  11,   5,  10,  10,\n",
       "         3,  20,  14,   1,   1,   1,   1,   1,   1,   1,   1,   1,   1,\n",
       "         1,   1,   1,   1,   1,   1,   3,   1,   1,   1,   1,   1,   1,\n",
       "         1,   1,   1,   2,  64, 155, 155, 155, 155, 144,  36,  13,  28,\n",
       "         1,   1,   2,  11,  10,  16,   1,   5,   1,   1,   1,   1,   5,\n",
       "         2, 193,   5,  35,   1,   7,  27,  12,  19,  14,  28,  30,   6,\n",
       "        10,  18,   6,  12,  19,   6,  12,  19,   6,  16,   5,  19,   8,\n",
       "         4,   8,   4,   1,   1,   1,   1,   1,   1,   6,  15,  55,   7,\n",
       "         3,  80,  81,  83,  82,   1,   8,   4,  32,   1,   4,   1,   2,\n",
       "         3,   3,   2,   2,   2,   3,   3,   3,   3,   3,   3,   3,   3,\n",
       "         3,   3,   3,   3,   3,   3,   3,   3,   3,   3,   3,   3,   3,\n",
       "         3,   3,   3,   3,   3,   3,   3,   3,   3,   3,   3,   3,   3,\n",
       "         3,   3,   3,   3,   3,   3,   3,   3,   3,   3,   3,   3,   3,\n",
       "         3,   3,   3,   3,   3,   3,   3,   3,   3,   3,   3,   3,   3,\n",
       "         3,   3,   3,   3,   3,   3,   3,   3,   3,   3,   3,   3,   3,\n",
       "         3,   3,   3,   3,   3,   3,   3,   3,   3,   3,   3,   3,   9,\n",
       "         5,   1,   5,   1,   5,   1,   5,   1,   5,   1,   5,   1,   5,\n",
       "         1,   3,   5,  56, 223,   4,   3,   3,   1,   2,   2,   3,   2,\n",
       "         3,   3,   3,   3,   2,   1,  48,   1,   3,   4,   3,   4,   9,\n",
       "         3,   4,   3,   4,  68,   9,   3,   4,   9,   3,   4,   2,   2,\n",
       "        22,   4,  13,  13,  13,  13,  13,  13,   2,  63,   3,  14,   2,\n",
       "         2,   2,   2,   2,   2,   2,   2,   2,   2,   6,   2,   9,  20,\n",
       "        16,   3,  75,  57,  21,   1,   5, 237, 148,  75,  68,   2,   1,\n",
       "       120,  51,  51,  24,  66,  28,  48,  51,  30,  54,  46,  45,  30,\n",
       "        54,  46,  45,  28,  49,  51,   2,   2,   2,   2,   1,   1,   5,\n",
       "         2,  24,  21,   4,   3,   8,   5,  50,  57,   4,   3,   2,   6,\n",
       "        12,   8,  10,  50, 121,  21,   4,   7,   3,  14,   3, 178,  34,\n",
       "        12,  15,  19,  11,  89, 116,  13,  21,  82,   1,   2,   1,   2,\n",
       "         3,  17,   2,   1,   2,  82,   5,   2,   1,  37,   2,   1,   3,\n",
       "        40,  59,   5,  39,   1,   2, 121,   6,  10,  61,   8,  97, 107,\n",
       "         1,  23,  36,   5,   1,   1,   2,   5,   5,  13,  11,  11,  50,\n",
       "       121,  11,  11, 121, 121,  50, 121,  11,  13,  19,  11,   6,   3,\n",
       "         9,   8,   1, 169,  55,  13,   4,   6,  18,   2,   7,   7, 103,\n",
       "         9,   2,   2,   3,   2,   1,   2,  21])"
      ]
     },
     "execution_count": 62,
     "metadata": {},
     "output_type": "execute_result"
    }
   ],
   "source": [
    "lc_ranks"
   ]
  },
  {
   "cell_type": "code",
   "execution_count": 51,
   "metadata": {},
   "outputs": [
    {
     "data": {
      "text/plain": [
       "[<matplotlib.lines.Line2D at 0x1212aec90>]"
      ]
     },
     "execution_count": 51,
     "metadata": {},
     "output_type": "execute_result"
    },
    {
     "data": {
      "image/png": "[encoded data removed]",
      "text/plain": [
       "<Figure size 1080x432 with 1 Axes>"
      ]
     },
     "metadata": {
      "needs_background": "light"
     },
     "output_type": "display_data"
    }
   ],
   "source": [
    "plt.figure(figsize=(15,6))\n",
    "ecdf = ECDF(lc_ranks)\n",
    "plt.plot(ecdf.x, ecdf.y, label='Label correlation')\n",
    "ecdf = ECDF(imbpr_ranks)\n",
    "plt.plot(ecdf.x, ecdf.y, label='ImplicitBPR')"
   ]
  },
  {
   "cell_type": "code",
   "execution_count": 66,
   "metadata": {},
   "outputs": [
    {
     "data": {
      "image/png": "[encoded data removed]",
      "text/plain": [
       "<Figure size 1080x576 with 1 Axes>"
      ]
     },
     "metadata": {
      "needs_background": "light"
     },
     "output_type": "display_data"
    }
   ],
   "source": [
    "plt.figure(figsize=(15,8))\n",
    "#bal = [(test_ranks<i).sum()/len(test_ranks) for i in range(0, 20)]\n",
    "plt.plot([(lc_ranks<i).sum()/len(lc_ranks) for i in range(0, 256)])\n",
    "plt.plot([(imbpr_ranks<i).sum()/len(imbpr_ranks) for i in range(0, 256)])\n",
    "plt.grid()"
   ]
  },
  {
   "cell_type": "code",
   "execution_count": 69,
   "metadata": {},
   "outputs": [
    {
     "data": {
      "text/plain": [
       "251.4415760869565"
      ]
     },
     "execution_count": 69,
     "metadata": {},
     "output_type": "execute_result"
    }
   ],
   "source": [
    "sum([(imbpr_ranks<i).sum()/len(imbpr_ranks) for i in range(0, 256)])"
   ]
  },
  {
   "cell_type": "code",
   "execution_count": 70,
   "metadata": {},
   "outputs": [
    {
     "data": {
      "text/plain": [
       "234.30163043478237"
      ]
     },
     "execution_count": 70,
     "metadata": {},
     "output_type": "execute_result"
    }
   ],
   "source": [
    "sum([(lc_ranks<i).sum()/len(imbpr_ranks) for i in range(0, 256)])"
   ]
  },
  {
   "cell_type": "code",
   "execution_count": 35,
   "metadata": {},
   "outputs": [
    {
     "name": "stdout",
     "output_type": "stream",
     "text": [
      "5.0\n",
      "2.0\n"
     ]
    }
   ],
   "source": [
    "print(np.median(pa))\n",
    "print(np.median(wa))"
   ]
  },
  {
   "cell_type": "code",
   "execution_count": null,
   "metadata": {},
   "outputs": [],
   "source": [
    "#order from highest to lowest:\n",
    "order2 = (-pred_matrix2).argsort(axis=1)\n",
    "#get ranks of each ligand.\n",
    "ranks2 = order2.argsort(axis=1)"
   ]
  },
  {
   "cell_type": "code",
   "execution_count": null,
   "metadata": {},
   "outputs": [],
   "source": [
    "#order from highest to lowest:\n",
    "order2 = (-pred_matrix2).argsort(axis=1)\n",
    "#get ranks of each ligand.\n",
    "ranks2 = order2.argsort(axis=1)"
   ]
  },
  {
   "cell_type": "code",
   "execution_count": null,
   "metadata": {},
   "outputs": [],
   "source": [
    "order"
   ]
  },
  {
   "cell_type": "code",
   "execution_count": null,
   "metadata": {},
   "outputs": [],
   "source": [
    "order2.T"
   ]
  },
  {
   "cell_type": "code",
   "execution_count": null,
   "metadata": {
    "scrolled": true
   },
   "outputs": [],
   "source": [
    "kdeplot(ranks2[test.T])"
   ]
  },
  {
   "cell_type": "code",
   "execution_count": null,
   "metadata": {},
   "outputs": [],
   "source": [
    "from lightfm import LightFM, datasets\n",
    "data = datasets.fetch_movielens()\n"
   ]
  },
  {
   "cell_type": "code",
   "execution_count": null,
   "metadata": {},
   "outputs": [],
   "source": [
    "data['train']"
   ]
  },
  {
   "cell_type": "code",
   "execution_count": null,
   "metadata": {
    "scrolled": true
   },
   "outputs": [],
   "source": [
    "ranks2[test.T]"
   ]
  },
  {
   "cell_type": "code",
   "execution_count": null,
   "metadata": {
    "scrolled": true
   },
   "outputs": [],
   "source": [
    "kdeplot(ranks[test])"
   ]
  },
  {
   "cell_type": "code",
   "execution_count": null,
   "metadata": {},
   "outputs": [],
   "source": []
  },
  {
   "cell_type": "code",
   "execution_count": null,
   "metadata": {},
   "outputs": [],
   "source": [
    "##new version, reporting the average rank of test ligands.\n",
    "#order from highest to lowest:\n",
    "order = (-prediction_matrix).argsort()\n",
    "#get ranks of each ligand. \n",
    "ranks = order.argsort()\n",
    "    \n",
    "#calc rank fo each ligand\n",
    "#test2 = np.array(test.todense())\n",
    "test_ranks = ranks[row_mask][np.array(test[row_mask], dtype=bool)]\n",
    "\n",
    "plt.plot(test_ranks, linewidth=0.1)"
   ]
  },
  {
   "cell_type": "code",
   "execution_count": null,
   "metadata": {},
   "outputs": [],
   "source": [
    "ranks = [(test_ranks<i).sum()/len(test_ranks) for i in range(0, 20)]\n",
    "plt.plot(ranks)\n",
    "plt.grid()"
   ]
  },
  {
   "cell_type": "code",
   "execution_count": 15,
   "metadata": {},
   "outputs": [
    {
     "data": {
      "text/plain": [
       "array([[False, False, False, ..., False, False, False],\n",
       "       [False, False, False, ..., False, False, False],\n",
       "       [False, False, False, ..., False, False, False],\n",
       "       ...,\n",
       "       [False, False, False, ..., False, False, False],\n",
       "       [False, False, False, ..., False, False, False],\n",
       "       [False, False, False, ..., False, False, False]])"
      ]
     },
     "execution_count": 15,
     "metadata": {},
     "output_type": "execute_result"
    }
   ],
   "source": [
    "test.toarray().astype(bool)"
   ]
  },
  {
   "cell_type": "code",
   "execution_count": null,
   "metadata": {},
   "outputs": [],
   "source": []
  },
  {
   "cell_type": "code",
   "execution_count": null,
   "metadata": {},
   "outputs": [],
   "source": []
  },
  {
   "cell_type": "code",
   "execution_count": 12,
   "metadata": {},
   "outputs": [
    {
     "data": {
      "image/png": "[encoded data removed]",
      "text/plain": [
       "<Figure size 432x288 with 1 Axes>"
      ]
     },
     "metadata": {
      "needs_background": "light"
     },
     "output_type": "display_data"
    }
   ],
   "source": [
    "fig, ax = plt.subplots()"
   ]
  },
  {
   "cell_type": "code",
   "execution_count": null,
   "metadata": {},
   "outputs": [],
   "source": []
  },
  {
   "cell_type": "code",
   "execution_count": null,
   "metadata": {},
   "outputs": [],
   "source": []
  },
  {
   "cell_type": "code",
   "execution_count": null,
   "metadata": {},
   "outputs": [],
   "source": []
  },
  {
   "cell_type": "code",
   "execution_count": null,
   "metadata": {},
   "outputs": [],
   "source": []
  },
  {
   "cell_type": "code",
   "execution_count": null,
   "metadata": {},
   "outputs": [],
   "source": [
    "import lightfm\n",
    "##LightFM:                                                                                                                                                                     \n",
    "#lightfm 'user id' (chemical id)                                                                                                                                               \n",
    "cid = np.arange(train.shape[0])\n",
    "#lightfm 'item id' (target id)                                                                                                                                                 \n",
    "tid = np.arange(train.shape[1])\n",
    "model = lightfm.LightFM(no_components = 127,\n",
    "                           loss='warp',\n",
    "                           max_sampled=9,\n",
    "                           learning_rate=0.056129688436596194)\n",
    "model.fit(sparse.csr_matrix(train), epochs=6)\n",
    "lfm_prediction_matrix = model.predict(np.repeat(cid, len(tid)), np.tile(tid, len(cid)))\n",
    "lfm_prediction_matrix = np.reshape(lfm_prediction_matrix, (len(cid), len(tid)))\n"
   ]
  },
  {
   "cell_type": "code",
   "execution_count": null,
   "metadata": {},
   "outputs": [],
   "source": [
    "order_lc = (-lc_prediction_matrix).argsort()\n",
    "#get ranks of each ligand. \n",
    "ranks_lc = order_lc.argsort()\n",
    "\n",
    "order_im = (-im_prediction_matrix).argsort()\n",
    "#get ranks of each ligand. \n",
    "ranks_im = order_im.argsort()\n",
    "\n",
    "order_lfm = (-lfm_prediction_matrix).argsort()\n",
    "#get ranks of each ligand. \n",
    "ranks_lfm = order_lfm.argsort()"
   ]
  },
  {
   "cell_type": "code",
   "execution_count": null,
   "metadata": {},
   "outputs": [],
   "source": []
  },
  {
   "cell_type": "code",
   "execution_count": null,
   "metadata": {
    "scrolled": true
   },
   "outputs": [],
   "source": [
    "inverse_ranks_lc = 1/(order_lc.argsort()+1)\n",
    "inverse_ranks_im = 1/(order_im.argsort()+1)\n",
    "inverse_ranks_lfm = 1/(order_lfm.argsort()+1)"
   ]
  },
  {
   "cell_type": "code",
   "execution_count": null,
   "metadata": {},
   "outputs": [],
   "source": [
    "inverse_combined = inverse_ranks_lc+inverse_ranks_im+inverse_ranks_lfm"
   ]
  },
  {
   "cell_type": "code",
   "execution_count": null,
   "metadata": {},
   "outputs": [],
   "source": [
    "order_com = (-inverse_combined).argsort()\n",
    "#get ranks of each ligand. \n",
    "ranks_com = order_com.argsort()\n",
    "print(np.mean(ranks_com[np.array(test, dtype=bool)]))"
   ]
  },
  {
   "cell_type": "code",
   "execution_count": null,
   "metadata": {},
   "outputs": [],
   "source": []
  },
  {
   "cell_type": "code",
   "execution_count": null,
   "metadata": {},
   "outputs": [],
   "source": []
  },
  {
   "cell_type": "code",
   "execution_count": null,
   "metadata": {},
   "outputs": [],
   "source": []
  },
  {
   "cell_type": "code",
   "execution_count": null,
   "metadata": {},
   "outputs": [],
   "source": [
    "avg_ranks = (ranks_lc+ranks_im)/2"
   ]
  },
  {
   "cell_type": "code",
   "execution_count": null,
   "metadata": {},
   "outputs": [],
   "source": [
    "print(np.mean(ranks_lc[np.array(test, dtype=bool)]))\n",
    "\n",
    "print(np.mean(ranks_im[np.array(test, dtype=bool)]))\n",
    "\n",
    "print(np.mean(avg_ranks[np.array(test, dtype=bool)]))"
   ]
  },
  {
   "cell_type": "code",
   "execution_count": null,
   "metadata": {},
   "outputs": [],
   "source": []
  },
  {
   "cell_type": "code",
   "execution_count": null,
   "metadata": {},
   "outputs": [],
   "source": [
    "##new version, reporting the average rank of test ligands.\n",
    "#order from highest to lowest:\n",
    "order = (-prediction_matrix).argsort()\n",
    "#get ranks of each ligand. \n",
    "ranks = order.argsort()\n",
    "    \n",
    "#calc rank fo each ligand\n",
    "#test2 = np.array(test.todense())\n",
    "test_ranks = ranks[row_mask][np.array(test[row_mask], dtype=bool)]\n",
    "\n",
    "plt.plot(test_ranks, linewidth=0.1)"
   ]
  },
  {
   "cell_type": "code",
   "execution_count": null,
   "metadata": {},
   "outputs": [],
   "source": [
    "print(np.mean(test_ranks))\n",
    "print(np.median(test_ranks))\n",
    "\n",
    "plt.figure(figsize=(10,3))\n",
    "density = gaussian_kde(test_ranks)\n",
    "xs = np.linspace(0,243, 300)\n",
    "density.covariance_factor = lambda : 0.25\n",
    "density._compute_covariance()\n",
    "plt.plot(xs,density(xs))\n",
    "plt.axhline(0, c='k')\n",
    "#plt.xlim(-0.5,150)\n",
    "plt.scatter(test_ranks, np.zeros(len(test_ranks))+np.random.uniform(-0.02,0.0, len(test_ranks)), alpha=0.05)"
   ]
  },
  {
   "cell_type": "code",
   "execution_count": null,
   "metadata": {},
   "outputs": [],
   "source": [
    "ranks = [(test_ranks<i).sum()/len(test_ranks) for i in range(0, 20)]\n",
    "plt.plot(ranks)\n",
    "plt.grid()"
   ]
  },
  {
   "cell_type": "code",
   "execution_count": 61,
   "metadata": {},
   "outputs": [
    {
     "ename": "NameError",
     "evalue": "name 'ranks' is not defined",
     "output_type": "error",
     "traceback": [
      "\u001b[0;31m---------------------------------------------------------------------------\u001b[0m",
      "\u001b[0;31mNameError\u001b[0m                                 Traceback (most recent call last)",
      "\u001b[0;32m<ipython-input-61-c9ebc3e09949>\u001b[0m in \u001b[0;36m<module>\u001b[0;34m\u001b[0m\n\u001b[0;32m----> 1\u001b[0;31m \u001b[0mranks\u001b[0m\u001b[0;34m\u001b[0m\u001b[0;34m\u001b[0m\u001b[0m\n\u001b[0m",
      "\u001b[0;31mNameError\u001b[0m: name 'ranks' is not defined"
     ]
    }
   ],
   "source": [
    "ranks"
   ]
  },
  {
   "cell_type": "code",
   "execution_count": null,
   "metadata": {},
   "outputs": [],
   "source": []
  },
  {
   "cell_type": "code",
   "execution_count": 55,
   "metadata": {},
   "outputs": [],
   "source": [
    "###load data:\n",
    "#train, test = utils.load_time_split()\n",
    "\n",
    "filenames = ['hpo_implicit_als.dat', 'hpo_implicit_bpr.dat',\n",
    "             'hpo_lightfm_warp.dat', 'hpo_lightfm_bpr.dat']\n",
    "def find_opt_pars(filename):\n",
    "    f = open('../hyperparmeter_optimization/'+filename, 'r')\n",
    "    record=False\n",
    "    for line in f:\n",
    "        if 'Paramaters:' in line:\n",
    "            return [float(i) for i in line.strip('\\n').replace('[', '').replace(']', '').replace(',', '').split()[1:]]\n",
    "\n",
    "\n",
    "\n",
    "\n",
    "def train_implicit_als(pars):\n",
    "    model = implicit.als.AlternatingLeastSquares(factors=int(pars[0]),\n",
    "                                                     regularization=pars[1],\n",
    "                                                     iterations=int(pars[2]),\n",
    "                                                     num_threads=1,\n",
    "                                                     use_gpu=False)\n",
    "    model.fit(sparse.csr_matrix(train))\n",
    "    prediction_matrix=np.dot(model.item_factors, model.user_factors.T)\n",
    "    test_ranks = utils.evaluate_predictions(prediction_matrix, sparse.csr_matrix(test),avg=False)\n",
    "    return np.mean(test_ranks), np.median(test_ranks)\n",
    "\n",
    "def train_implicit_bpr(pars):\n",
    "    model = implicit.bpr.BayesianPersonalizedRanking(factors=int(pars[0]),\n",
    "                                                 learning_rate=pars[1],\n",
    "                                                 regularization=pars[2],\n",
    "                                                 iterations=int(pars[3]),\n",
    "                                                 use_gpu=False)\n",
    "\n",
    "    model.fit(sparse.csr_matrix(train))\n",
    "    prediction_matrix=np.dot(model.item_factors, model.user_factors.T)\n",
    "    #test_ranks = utils.evaluate_predictions(prediction_matrix, sparse.csr_matrix(test),avg=False)\n",
    "    return np.mean(test_ranks), np.median(test_ranks)\n",
    "\n",
    "\n",
    "\n",
    "##LightFM:\n",
    "#lightfm 'user id' (chemical id)\n",
    "cid = np.arange(train.shape[0])\n",
    "#lightfm 'item id' (target id)\n",
    "tid = np.arange(train.shape[1])\n",
    "\n",
    "\n",
    "\n",
    "def train_lightfm_warp(pars):\n",
    "    model = lightfm.LightFM(no_components = int(pars[0]),\n",
    "                           loss='warp',\n",
    "                           max_sampled=int(pars[1]),\n",
    "                           learning_rate=pars[2])\n",
    "    model.fit(sparse.csr_matrix(train), epochs=int(pars[3]))\n",
    "    prediction_matrix = model.predict(np.repeat(cid, len(tid)), np.tile(tid, len(cid)))\n",
    "    prediction_matrix = np.reshape(prediction_matrix, (len(cid), len(tid)))\n",
    "    test_ranks = utils.evaluate_predictions(prediction_matrix, sparse.csr_matrix(test),avg=False)\n",
    "    return np.mean(test_ranks), np.median(test_ranks)\n",
    "\n",
    "def train_lightfm_bpr(pars):\n",
    "    model = lightfm.LightFM(no_components = int(pars[0]),\n",
    "                           loss='bpr',\n",
    "                           max_sampled=int(pars[1]),\n",
    "                           learning_rate=pars[2])\n",
    "    model.fit(sparse.csr_matrix(train), epochs=int(pars[3]))\n",
    "    prediction_matrix = model.predict(np.repeat(cid, len(tid)), np.tile(tid, len(cid)))\n",
    "    prediction_matrix = np.reshape(prediction_matrix, (len(cid), len(tid)))\n",
    "    test_ranks = utils.evaluate_predictions(prediction_matrix, sparse.csr_matrix(test),avg=False)\n",
    "    return np.mean(test_ranks), np.median(test_ranks)\n",
    "\n",
    "\n"
   ]
  },
  {
   "cell_type": "code",
   "execution_count": 188,
   "metadata": {
    "scrolled": true
   },
   "outputs": [
    {
     "data": {
      "application/vnd.jupyter.widget-view+json": {
       "model_id": "d6b02b1390694fb78443755d454df748",
       "version_major": 2,
       "version_minor": 0
      },
      "text/plain": [
       "HBox(children=(IntProgress(value=0, max=16), HTML(value='')))"
      ]
     },
     "metadata": {},
     "output_type": "display_data"
    },
    {
     "name": "stdout",
     "output_type": "stream",
     "text": [
      "44.00601443464314\n",
      "19.0\n"
     ]
    },
    {
     "data": {
      "application/vnd.jupyter.widget-view+json": {
       "model_id": "c1c0522b8b114809b7f7b5dba33740ce",
       "version_major": 2,
       "version_minor": 0
      },
      "text/plain": [
       "HBox(children=(IntProgress(value=0, max=16), HTML(value='')))"
      ]
     },
     "metadata": {},
     "output_type": "display_data"
    },
    {
     "name": "stdout",
     "output_type": "stream",
     "text": [
      "42.87169206094627\n",
      "19.0\n"
     ]
    },
    {
     "data": {
      "application/vnd.jupyter.widget-view+json": {
       "model_id": "8f444a021de74ba7a4ce7f4baff5f97a",
       "version_major": 2,
       "version_minor": 0
      },
      "text/plain": [
       "HBox(children=(IntProgress(value=0, max=16), HTML(value='')))"
      ]
     },
     "metadata": {},
     "output_type": "display_data"
    },
    {
     "name": "stdout",
     "output_type": "stream",
     "text": [
      "40.92141138732959\n",
      "18.0\n"
     ]
    },
    {
     "data": {
      "application/vnd.jupyter.widget-view+json": {
       "model_id": "cd94ed4fc5144b83b1214ccd1d20c0e1",
       "version_major": 2,
       "version_minor": 0
      },
      "text/plain": [
       "HBox(children=(IntProgress(value=0, max=16), HTML(value='')))"
      ]
     },
     "metadata": {},
     "output_type": "display_data"
    },
    {
     "name": "stdout",
     "output_type": "stream",
     "text": [
      "39.900160384923815\n",
      "17.0\n"
     ]
    },
    {
     "data": {
      "application/vnd.jupyter.widget-view+json": {
       "model_id": "86f4547dff0b42fc97ffcf7f0b2be58c",
       "version_major": 2,
       "version_minor": 0
      },
      "text/plain": [
       "HBox(children=(IntProgress(value=0, max=16), HTML(value='')))"
      ]
     },
     "metadata": {},
     "output_type": "display_data"
    },
    {
     "name": "stdout",
     "output_type": "stream",
     "text": [
      "39.21130713712911\n",
      "17.0\n"
     ]
    },
    {
     "data": {
      "application/vnd.jupyter.widget-view+json": {
       "model_id": "41d03c0324004c0a9d87f20bd8952f2e",
       "version_major": 2,
       "version_minor": 0
      },
      "text/plain": [
       "HBox(children=(IntProgress(value=0, max=16), HTML(value='')))"
      ]
     },
     "metadata": {},
     "output_type": "display_data"
    },
    {
     "name": "stdout",
     "output_type": "stream",
     "text": [
      "39.162389735364876\n",
      "17.0\n"
     ]
    },
    {
     "data": {
      "application/vnd.jupyter.widget-view+json": {
       "model_id": "5133c567bef046e29ca02518e1d165aa",
       "version_major": 2,
       "version_minor": 0
      },
      "text/plain": [
       "HBox(children=(IntProgress(value=0, max=16), HTML(value='')))"
      ]
     },
     "metadata": {},
     "output_type": "display_data"
    },
    {
     "name": "stdout",
     "output_type": "stream",
     "text": [
      "39.30513231756215\n",
      "17.0\n"
     ]
    },
    {
     "data": {
      "application/vnd.jupyter.widget-view+json": {
       "model_id": "8f8bbe45025648b8b2ca4a673b771dd8",
       "version_major": 2,
       "version_minor": 0
      },
      "text/plain": [
       "HBox(children=(IntProgress(value=0, max=16), HTML(value='')))"
      ]
     },
     "metadata": {},
     "output_type": "display_data"
    },
    {
     "name": "stdout",
     "output_type": "stream",
     "text": [
      "38.90497193263833\n",
      "17.0\n"
     ]
    },
    {
     "data": {
      "application/vnd.jupyter.widget-view+json": {
       "model_id": "9b5d3c1f332c401ba735ffd180a8b018",
       "version_major": 2,
       "version_minor": 0
      },
      "text/plain": [
       "HBox(children=(IntProgress(value=0, max=16), HTML(value='')))"
      ]
     },
     "metadata": {},
     "output_type": "display_data"
    },
    {
     "name": "stdout",
     "output_type": "stream",
     "text": [
      "38.985565356856455\n",
      "17.0\n"
     ]
    },
    {
     "data": {
      "application/vnd.jupyter.widget-view+json": {
       "model_id": "14adb89941a2484b8b741e26734e87fd",
       "version_major": 2,
       "version_minor": 0
      },
      "text/plain": [
       "HBox(children=(IntProgress(value=0, max=16), HTML(value='')))"
      ]
     },
     "metadata": {},
     "output_type": "display_data"
    },
    {
     "name": "stdout",
     "output_type": "stream",
     "text": [
      "39.088211708099436\n",
      "17.0\n"
     ]
    },
    {
     "data": {
      "application/vnd.jupyter.widget-view+json": {
       "model_id": "384ef3953e054aaf92f4ffdff71c723f",
       "version_major": 2,
       "version_minor": 0
      },
      "text/plain": [
       "HBox(children=(IntProgress(value=0, max=16), HTML(value='')))"
      ]
     },
     "metadata": {},
     "output_type": "display_data"
    },
    {
     "name": "stdout",
     "output_type": "stream",
     "text": [
      "39.07578187650361\n",
      "17.0\n"
     ]
    },
    {
     "data": {
      "application/vnd.jupyter.widget-view+json": {
       "model_id": "13018af794704575b27ee121baf98d80",
       "version_major": 2,
       "version_minor": 0
      },
      "text/plain": [
       "HBox(children=(IntProgress(value=0, max=16), HTML(value='')))"
      ]
     },
     "metadata": {},
     "output_type": "display_data"
    },
    {
     "name": "stdout",
     "output_type": "stream",
     "text": [
      "38.95829991980754\n",
      "17.0\n"
     ]
    },
    {
     "data": {
      "application/vnd.jupyter.widget-view+json": {
       "model_id": "55399bb87f674585864195697c070044",
       "version_major": 2,
       "version_minor": 0
      },
      "text/plain": [
       "HBox(children=(IntProgress(value=0, max=16), HTML(value='')))"
      ]
     },
     "metadata": {},
     "output_type": "display_data"
    },
    {
     "name": "stdout",
     "output_type": "stream",
     "text": [
      "38.71611868484362\n",
      "17.0\n"
     ]
    },
    {
     "data": {
      "application/vnd.jupyter.widget-view+json": {
       "model_id": "5a024739030d4e95be618dbc4dd7c75f",
       "version_major": 2,
       "version_minor": 0
      },
      "text/plain": [
       "HBox(children=(IntProgress(value=0, max=16), HTML(value='')))"
      ]
     },
     "metadata": {},
     "output_type": "display_data"
    },
    {
     "name": "stdout",
     "output_type": "stream",
     "text": [
      "38.6355252606255\n",
      "17.0\n"
     ]
    },
    {
     "data": {
      "application/vnd.jupyter.widget-view+json": {
       "model_id": "58d4d6ba77694b80a437830886bbddc8",
       "version_major": 2,
       "version_minor": 0
      },
      "text/plain": [
       "HBox(children=(IntProgress(value=0, max=16), HTML(value='')))"
      ]
     },
     "metadata": {},
     "output_type": "display_data"
    },
    {
     "name": "stdout",
     "output_type": "stream",
     "text": [
      "38.56174819566961\n",
      "17.0\n"
     ]
    },
    {
     "data": {
      "application/vnd.jupyter.widget-view+json": {
       "model_id": "4e70ef18b1c94237b06dae095d0089a8",
       "version_major": 2,
       "version_minor": 0
      },
      "text/plain": [
       "HBox(children=(IntProgress(value=0, max=16), HTML(value='')))"
      ]
     },
     "metadata": {},
     "output_type": "display_data"
    },
    {
     "name": "stdout",
     "output_type": "stream",
     "text": [
      "38.66399358460305\n",
      "17.0\n"
     ]
    },
    {
     "data": {
      "application/vnd.jupyter.widget-view+json": {
       "model_id": "a0954da527b248debea259cb423005b0",
       "version_major": 2,
       "version_minor": 0
      },
      "text/plain": [
       "HBox(children=(IntProgress(value=0, max=16), HTML(value='')))"
      ]
     },
     "metadata": {},
     "output_type": "display_data"
    },
    {
     "name": "stdout",
     "output_type": "stream",
     "text": [
      "38.54971932638332\n",
      "17.0\n"
     ]
    }
   ],
   "source": [
    "def train_implicit_bpr(pars):\n",
    "    model = implicit.bpr.BayesianPersonalizedRanking(factors=int(pars[0]),\n",
    "                                                 learning_rate=pars[1],\n",
    "                                                 regularization=pars[2],\n",
    "                                                 iterations=int(pars[3]),\n",
    "                                                 use_gpu=False)\n",
    "\n",
    "    model.fit(train)\n",
    "    prediction_matrix=np.dot(model.item_factors, model.user_factors.T)\n",
    "    #test_ranks = utils.evaluate_predictions(prediction_matrix, sparse.csr_matrix(test),avg=False)\n",
    "    return prediction_matrix\n",
    "\n",
    "def score_prediction_matrix(preds, test):\n",
    "    t = test.toarray().astype(bool)\n",
    "    #order from highest to lowest:\n",
    "    order = (-preds).argsort(axis=1)\n",
    "    #get ranks of each ligand.\n",
    "    ranks = order.argsort(axis=1)\n",
    "    return ranks[t]\n",
    "\n",
    "#bpr:\n",
    "pars = find_opt_pars(filenames[1])\n",
    "preds = train_implicit_bpr(pars)\n",
    "r = score_prediction_matrix(preds, test)\n",
    "\n",
    "mean = np.mean(r)\n",
    "print(mean)\n",
    "median = np.median(r)\n",
    "print(median)\n",
    "#ecdf = [(r<i).sum()/len(r) for i in range(0, 243)]\n",
    "\n",
    "for _ in range(16):\n",
    "    preds += train_implicit_bpr(pars)\n",
    "    r = score_prediction_matrix(preds, test)\n",
    "    mean = np.mean(r)\n",
    "    print(mean)\n",
    "    median = np.median(r)\n",
    "    print(median)\n",
    "\n",
    "\n",
    "#    outfile.write(filenames[1]+': '+str(mean)+' '+str(median)+'\\n')\n"
   ]
  },
  {
   "cell_type": "code",
   "execution_count": 192,
   "metadata": {},
   "outputs": [],
   "source": [
    "preds\n",
    "t = test.toarray().astype(bool)"
   ]
  },
  {
   "cell_type": "code",
   "execution_count": 217,
   "metadata": {},
   "outputs": [],
   "source": [
    "#order from highest to lowest:\n",
    "order = (-lc_preds.toarray()).argsort(axis=1)\n",
    "#get ranks of each ligand.\n",
    "ranks = order.argsort(axis=1)"
   ]
  },
  {
   "cell_type": "code",
   "execution_count": 309,
   "metadata": {
    "scrolled": true
   },
   "outputs": [
    {
     "name": "stdout",
     "output_type": "stream",
     "text": [
      "0 13 0.8103598\n",
      "0 39 0.018454889\n",
      "0 175 0.5758668\n",
      "0 180 0.6142879\n",
      "Found a zero, is is rank: 212\n",
      "0 227 0.0\n",
      "63 161 0.04511278\n",
      "95 83 0.7572718\n",
      "283 161 0.04511278\n",
      "460 172 0.015224463\n",
      "738 102 0.022362385\n",
      "789 50 0.0028985508\n",
      "911 89 0.94344497\n",
      "911 191 0.34573984\n",
      "911 196 0.6831216\n",
      "932 19 0.010833222\n",
      "983 105 0.6691352\n",
      "1066 171 0.005254211\n",
      "1120 65 0.06639874\n",
      "1356 29 0.19130932\n",
      "1388 172 0.0064892927\n",
      "1482 172 0.0095877275\n",
      "1609 9 0.7332495\n",
      "1680 127 0.6892202\n",
      "1680 165 0.12308869\n",
      "1721 72 0.0006181425\n",
      "1762 165 0.25429142\n",
      "1762 177 0.5506438\n",
      "Found a zero, is is rank: 221\n",
      "1961 74 0.0\n",
      "2219 88 0.83032054\n",
      "2219 122 0.6137323\n",
      "2274 212 0.023899179\n",
      "2295 139 0.6121869\n",
      "2295 141 0.4793976\n",
      "2295 162 0.6003265\n",
      "2333 228 0.0018544274\n",
      "2466 105 0.008343265\n",
      "2466 158 0.39035815\n",
      "2846 88 0.560376\n",
      "2846 116 0.6644975\n",
      "2846 122 0.39696312\n",
      "2896 188 0.54079694\n",
      "2916 88 0.83032054\n",
      "2916 122 0.6137323\n",
      "3063 188 0.54079694\n",
      "3165 88 0.83032054\n",
      "3165 122 0.6137323\n",
      "3330 119 0.5325\n",
      "3615 90 0.969617\n",
      "4083 27 0.08950617\n",
      "4083 134 0.1090535\n",
      "4108 60 0.277245\n",
      "4510 78 0.013727561\n",
      "4510 119 0.014783527\n",
      "5173 188 0.54079694\n",
      "5174 188 0.54079694\n",
      "Found a zero, is is rank: 236\n",
      "5635 86 0.0\n",
      "5667 188 0.54079694\n",
      "5746 188 0.54079694\n",
      "5932 50 0.00030907124\n",
      "5967 74 0.0015337423\n",
      "5985 74 0.0015337423\n",
      "6041 74 0.0015337423\n",
      "6088 74 0.0015337423\n",
      "6193 74 0.0015337423\n",
      "6193 239 0.0010224949\n",
      "6346 48 0.95511335\n",
      "6346 123 0.97544044\n",
      "6402 74 0.0015337423\n",
      "6402 239 0.0010224949\n",
      "6703 74 0.0015337423\n",
      "6703 239 0.0010224949\n",
      "6827 74 0.0015337423\n",
      "6827 239 0.0010224949\n",
      "7275 116 0.8008219\n",
      "Found a zero, is is rank: 132\n",
      "7328 203 0.0\n",
      "7497 193 0.013123209\n",
      "7573 193 0.013123209\n",
      "7592 75 0.019283747\n",
      "7592 93 0.05188246\n",
      "7850 48 0.18885843\n",
      "7934 98 0.03635677\n",
      "7952 75 0.019283747\n",
      "7952 93 0.05188246\n",
      "8105 8 0.05169173\n",
      "8105 14 0.13063909\n",
      "8105 32 0.036654137\n",
      "8105 161 0.04511278\n",
      "8105 166 0.20112781\n",
      "8804 93 0.26988724\n",
      "8882 224 0.0009460738\n",
      "8961 41 0.0010817493\n",
      "9063 15 0.38995743\n",
      "9063 18 0.4707196\n",
      "9063 19 0.05836694\n",
      "9063 38 0.5314\n",
      "9063 53 0.45608845\n",
      "9063 91 0.2259045\n",
      "9063 93 0.45761535\n",
      "9063 94 0.2223075\n",
      "9064 90 0.04383521\n",
      "9064 105 0.017264308\n",
      "9064 172 0.02852467\n",
      "9083 71 0.7914407\n",
      "9083 80 0.7822573\n",
      "9083 84 0.9793561\n",
      "9243 76 0.7882306\n",
      "9243 80 0.35388312\n",
      "9377 121 0.3145292\n",
      "9439 122 0.7885247\n",
      "9512 121 0.54967207\n",
      "9518 14 0.13063909\n",
      "9518 161 0.04511278\n",
      "9518 166 0.20112781\n",
      "9695 76 0.07568807\n",
      "9788 76 0.017366135\n",
      "9788 80 0.00916546\n",
      "9788 98 0.027978774\n",
      "9788 103 0.61746264\n",
      "10080 67 0.002764314\n",
      "10080 70 0.001694257\n",
      "10080 113 0.0018487456\n",
      "10286 20 0.004069176\n",
      "10457 48 0.050824884\n",
      "10457 203 0.0049844445\n",
      "Found a zero, is is rank: 126\n",
      "10457 228 0.0\n",
      "10457 239 0.020428015\n",
      "10782 52 0.0035485958\n",
      "10782 127 0.0022118308\n",
      "10782 165 0.0023660485\n",
      "10782 177 0.0022118308\n",
      "11028 90 0.9707397\n",
      "11141 74 0.0015337423\n",
      "11141 239 0.0010224949\n",
      "11142 74 0.0015337423\n",
      "11142 239 0.0010224949\n",
      "11175 74 0.0015337423\n",
      "11175 239 0.0010224949\n",
      "11176 74 0.0015337423\n",
      "11176 239 0.0010224949\n",
      "11179 74 0.0015337423\n",
      "11179 239 0.0010224949\n",
      "11422 156 0.001447178\n",
      "11494 90 0.9707397\n",
      "11495 90 0.9707397\n",
      "11538 74 0.0015337423\n",
      "11538 239 0.0010224949\n",
      "11561 8 0.1544\n",
      "11561 14 0.292\n",
      "11561 32 0.1184\n",
      "11561 161 0.1424\n",
      "11574 74 0.0015337423\n",
      "11574 239 0.0010224949\n",
      "11630 13 0.12999812\n",
      "11630 36 0.095666826\n",
      "11630 123 0.1418499\n",
      "11630 126 0.040040076\n",
      "11630 129 0.022350555\n",
      "11630 131 0.19466536\n",
      "11630 180 0.052743543\n",
      "11630 202 0.07319909\n",
      "11636 6 0.29361543\n",
      "11685 6 0.29361543\n",
      "11707 105 0.16594982\n",
      "11707 172 0.03854083\n",
      "11797 50 0.00030907124\n",
      "11811 7 0.0009272137\n",
      "11826 239 0.0005540166\n",
      "12029 105 0.08900524\n",
      "12054 125 0.7813226\n",
      "12168 9 0.016364662\n",
      "12168 86 0.01833977\n",
      "Found a zero, is is rank: 231\n",
      "12256 79 0.0\n",
      "Found a zero, is is rank: 48\n",
      "12256 138 0.0\n",
      "12263 74 0.0003877472\n",
      "12277 90 0.001823154\n",
      "12297 30 0.000607718\n",
      "12714 90 0.0043290043\n",
      "12731 81 0.65669703\n",
      "12812 81 0.016785419\n",
      "13102 119 0.5325\n",
      "13132 75 0.6210191\n",
      "13132 112 0.6019108\n",
      "13348 167 0.8791946\n",
      "13361 13 0.8391008\n",
      "13615 150 0.0066225166\n",
      "13615 164 0.011589404\n",
      "13615 189 0.06291391\n",
      "13618 189 0.06291391\n",
      "13645 94 0.73780966\n",
      "Found a zero, is is rank: 132\n",
      "13947 200 0.0\n",
      "14084 98 0.03635677\n",
      "14085 98 0.03635677\n",
      "14207 78 0.0015397683\n",
      "14207 119 0.001236285\n",
      "14655 105 0.21260315\n",
      "14655 181 0.0027139175\n",
      "14672 181 0.0027139175\n",
      "14673 105 0.21260315\n",
      "14673 181 0.0027139175\n",
      "14674 181 0.0027139175\n",
      "Found a zero, is is rank: 195\n",
      "14797 105 0.0\n",
      "14902 76 0.7702343\n",
      "14902 98 0.44007358\n",
      "15090 89 0.02157399\n",
      "15090 126 0.00607718\n",
      "15090 129 0.009723488\n",
      "15143 19 0.0020283975\n",
      "15145 171 0.46560803\n",
      "Found a zero, is is rank: 194\n",
      "15211 105 0.0\n",
      "15211 150 0.5302115\n",
      "Found a zero, is is rank: 182\n",
      "15233 228 0.0\n",
      "15250 194 0.7520858\n",
      "15250 205 0.007151371\n",
      "15285 88 0.47046414\n",
      "15285 116 0.40632913\n",
      "15315 183 0.10670315\n",
      "Found a zero, is is rank: 148\n",
      "15519 228 0.0\n",
      "15527 13 0.65889364\n",
      "15527 131 0.68505186\n",
      "Found a zero, is is rank: 182\n",
      "15540 228 0.0\n",
      "15563 0 0.160939\n",
      "Found a zero, is is rank: 171\n",
      "15563 1 0.0\n",
      "15563 6 0.37874877\n",
      "15563 11 0.3546668\n",
      "15563 16 0.44483814\n",
      "15563 29 0.304195\n",
      "15563 31 0.30538347\n",
      "15563 36 0.3571899\n",
      "15563 72 0.19345735\n",
      "15563 73 0.21413653\n",
      "15563 123 0.5267463\n",
      "15563 136 0.17625733\n",
      "15563 140 0.26584712\n",
      "15563 142 0.019080624\n",
      "15563 149 0.23456204\n",
      "15563 168 0.008327955\n",
      "15563 175 0.10546257\n",
      "15563 176 0.16042346\n",
      "15563 178 0.44486907\n",
      "15563 183 0.12237134\n",
      "15563 191 0.016496848\n",
      "15563 193 0.027018799\n",
      "15563 198 0.18585324\n",
      "15563 199 0.04704278\n",
      "15563 202 0.19270167\n",
      "15563 204 0.23623323\n",
      "15563 212 0.01353868\n",
      "15563 214 0.20203696\n",
      "15563 215 0.04342896\n",
      "15563 218 0.13746661\n",
      "15563 235 0.030216118\n",
      "15563 236 0.18825614\n",
      "15563 237 0.090419315\n",
      "15676 25 0.041666668\n",
      "15790 76 0.4282508\n",
      "15790 84 0.3879258\n",
      "15790 173 0.03534987\n",
      "15965 84 0.4566455\n",
      "16015 79 0.9072187\n",
      "16015 123 0.92811\n",
      "16015 131 0.84573436\n",
      "16236 78 0.5422147\n",
      "16244 172 0.036734853\n",
      "16475 84 0.48147646\n",
      "16516 30 0.32984978\n",
      "16660 98 0.04818969\n",
      "17257 194 0.7520858\n",
      "17565 76 0.93184036\n",
      "17580 18 0.021072797\n",
      "17580 171 0.036124796\n",
      "17621 74 0.007364229\n",
      "17683 98 0.04818969\n",
      "18764 193 0.004823151\n",
      "18803 127 0.6892202\n",
      "18803 165 0.12308869\n",
      "18803 177 0.29166666\n",
      "18822 165 0.25429142\n",
      "18822 177 0.5506438\n",
      "18860 71 0.08852459\n",
      "18860 84 0.05409836\n",
      "18969 128 0.43107873\n",
      "18971 71 0.072463766\n",
      "19000 71 0.072463766\n",
      "19003 71 0.072463766\n",
      "19034 128 0.041237112\n",
      "19414 105 0.007881316\n",
      "19591 0 0.3476168\n",
      "Found a zero, is is rank: 165\n",
      "19591 1 0.0\n",
      "19591 11 0.6545958\n",
      "19591 13 0.53498405\n",
      "19591 16 0.6414207\n",
      "Found a zero, is is rank: 184\n",
      "19591 28 0.0\n",
      "19591 29 0.3765925\n",
      "19591 31 0.4428041\n",
      "19591 35 0.3641075\n",
      "19591 36 0.7209306\n",
      "19591 40 0.12795809\n",
      "19591 48 0.45650968\n",
      "19591 79 0.7492771\n",
      "19591 89 0.5329286\n",
      "19591 123 0.73861206\n",
      "19591 125 0.49766052\n",
      "19591 129 0.17571715\n",
      "19591 131 0.58511806\n",
      "19591 133 0.44544572\n",
      "19591 136 0.5432631\n",
      "19591 138 0.79470885\n",
      "19591 140 0.58597445\n",
      "19591 148 0.5081391\n",
      "19591 150 0.6558148\n",
      "19591 157 0.3331071\n",
      "19591 164 0.70675683\n",
      "19591 167 0.027403962\n",
      "19591 168 0.013918767\n",
      "19591 176 0.38085473\n",
      "19591 178 0.7072657\n",
      "19591 180 0.52042586\n",
      "19591 183 0.5189273\n",
      "19591 191 0.06972521\n",
      "19591 193 0.14683498\n",
      "19591 194 0.0015873016\n",
      "19591 198 0.15660203\n",
      "19591 199 0.19250187\n",
      "19591 202 0.5502036\n",
      "19591 204 0.55375385\n",
      "19591 214 0.6437435\n",
      "19591 218 0.50216717\n",
      "19591 222 0.53306043\n",
      "19591 224 0.6660612\n",
      "19591 235 0.02461115\n",
      "19591 236 0.39399335\n",
      "19847 36 0.12942989\n",
      "Found a zero, is is rank: 159\n",
      "20064 31 0.0\n",
      "20064 140 0.0011049723\n",
      "Found a zero, is is rank: 159\n",
      "20065 31 0.0\n",
      "20065 140 0.0011049723\n",
      "20066 16 0.17624618\n",
      "Found a zero, is is rank: 56\n",
      "20109 146 0.0\n",
      "20172 0 0.11458826\n",
      "20172 11 0.30845803\n",
      "20172 13 0.27414286\n",
      "20172 16 0.49010554\n",
      "Found a zero, is is rank: 185\n",
      "20172 28 0.0\n",
      "20172 29 0.28576177\n",
      "20172 31 0.23343448\n",
      "20172 36 0.36508814\n",
      "20172 48 0.25434482\n",
      "20172 73 0.21281672\n",
      "20172 79 0.37411958\n",
      "20172 89 0.18446325\n",
      "20172 123 0.41214204\n",
      "20172 129 0.024236936\n",
      "20172 136 0.17724216\n",
      "20172 140 0.24972999\n",
      "20172 148 0.13102396\n",
      "20172 149 0.21144348\n",
      "20172 175 0.093360245\n",
      "20172 176 0.11033156\n",
      "20172 180 0.24091397\n",
      "20172 193 0.016824864\n",
      "20172 198 0.13546912\n",
      "20172 199 0.027706522\n",
      "20172 224 0.33501336\n",
      "Found a zero, is is rank: 159\n",
      "20457 31 0.0\n",
      "20457 140 0.0011049723\n",
      "Found a zero, is is rank: 186\n",
      "20509 30 0.0\n",
      "20671 70 0.6282927\n",
      "20799 53 0.24864385\n",
      "21109 56 0.770326\n",
      "Found a zero, is is rank: 109\n",
      "21109 179 0.0\n",
      "Found a zero, is is rank: 240\n",
      "21439 88 0.0\n",
      "21570 165 0.002057613\n",
      "22331 9 0.0072631743\n",
      "22331 53 0.004636069\n",
      "22331 225 0.50007725\n",
      "22409 9 0.007200529\n",
      "22409 48 0.9819483\n",
      "Found a zero, is is rank: 199\n",
      "22409 71 0.0\n",
      "22409 73 0.984875\n",
      "22409 84 0.013737856\n",
      "22409 86 0.0055192425\n"
     ]
    },
    {
     "name": "stdout",
     "output_type": "stream",
     "text": [
      "Found a zero, is is rank: 223\n",
      "22409 106 0.0\n",
      "22409 154 0.9805877\n",
      "Found a zero, is is rank: 234\n",
      "22409 160 0.0\n",
      "22409 171 0.000683527\n",
      "22409 196 0.8232349\n",
      "22409 224 0.99915296\n",
      "22573 71 0.30176818\n",
      "22791 67 0.005415127\n",
      "22791 70 0.009608786\n",
      "22791 105 0.070011765\n",
      "22851 53 0.24864385\n",
      "22868 218 0.26233009\n",
      "Found a zero, is is rank: 75\n",
      "23172 165 0.0\n",
      "Found a zero, is is rank: 67\n",
      "23172 177 0.0\n",
      "23220 235 0.001519295\n",
      "23243 72 0.024916438\n",
      "23259 56 0.023386437\n",
      "Found a zero, is is rank: 217\n",
      "23259 106 0.0\n",
      "23494 113 0.9173548\n",
      "23825 41 0.0010817493\n",
      "23825 49 0.00247257\n",
      "23825 56 0.0007726781\n",
      "24310 34 0.8005997\n",
      "24597 71 0.4278281\n",
      "24738 34 0.8005997\n",
      "Found a zero, is is rank: 236\n",
      "24738 86 0.0\n",
      "25003 108 0.82911074\n",
      "25159 84 0.38681296\n",
      "25217 27 0.0055632824\n",
      "25217 37 0.0029361767\n",
      "25217 134 0.006181425\n",
      "25338 84 0.4566455\n",
      "25599 71 0.018922018\n",
      "25663 37 0.00743616\n",
      "25898 84 0.38681296\n",
      "25938 90 0.0043290043\n",
      "26374 84 0.38681296\n",
      "26410 37 0.6173322\n",
      "26452 84 0.4566455\n",
      "26483 73 0.9753057\n",
      "26483 79 0.9930963\n",
      "26483 136 0.8988582\n",
      "26483 172 0.09297089\n",
      "26483 175 0.7698798\n",
      "26483 224 0.9844924\n",
      "Found a zero, is is rank: 176\n",
      "26492 1 0.0\n",
      "26583 181 0.0037030505\n",
      "26700 83 0.67946965\n",
      "26700 94 0.6799002\n",
      "26706 168 0.014469453\n",
      "26768 172 0.01342616\n",
      "26847 105 0.00093984965\n",
      "26847 166 0.20112781\n",
      "26987 84 0.4566455\n",
      "27061 68 0.665529\n",
      "27061 112 0.5460751\n",
      "27177 76 0.2843018\n",
      "27287 84 0.006954103\n",
      "27533 27 0.09457151\n",
      "27533 134 0.11456082\n",
      "27835 74 0.010254868\n",
      "27835 162 0.05540406\n",
      "27835 169 0.027796231\n",
      "27835 170 0.055344727\n",
      "28072 92 0.0019175456\n",
      "Found a zero, is is rank: 124\n",
      "28072 190 0.0\n",
      "28171 53 0.004636069\n",
      "28171 71 0.0035543193\n",
      "28171 76 0.005717818\n",
      "28171 80 0.0026271055\n",
      "28171 98 0.006954103\n",
      "28768 211 0.047913402\n",
      "28842 21 0.000303859\n",
      "28869 41 0.15960665\n",
      "28869 56 0.3260212\n",
      "29548 37 0.000607718\n",
      "30051 161 0.04511278\n",
      "30132 108 0.8086501\n",
      "30184 36 0.00046360685\n",
      "30184 52 0.0024082302\n",
      "30184 165 0.0022539953\n",
      "30299 155 0.052941177\n",
      "30568 36 0.021014823\n",
      "30568 52 0.00046360685\n",
      "30568 74 0.0009272137\n",
      "30568 125 0.0020234056\n",
      "30568 128 0.18434481\n",
      "30568 156 0.00015453562\n",
      "30568 162 0.00046360685\n",
      "30568 165 0.00030907124\n",
      "30568 170 0.00015453562\n",
      "30870 90 0.004790604\n",
      "30870 103 0.0040179263\n",
      "32097 91 0.07257851\n",
      "32669 99 0.7554931\n",
      "32669 192 0.41697562\n",
      "Found a zero, is is rank: 186\n",
      "33220 17 0.0\n",
      "33394 92 0.0032064614\n",
      "Found a zero, is is rank: 160\n",
      "33858 54 0.0\n",
      "Found a zero, is is rank: 197\n",
      "33858 108 0.0\n",
      "34543 39 0.012652889\n",
      "34698 39 0.012652889\n",
      "34702 21 0.000303859\n",
      "Found a zero, is is rank: 141\n",
      "34710 121 0.0\n",
      "35108 95 0.8465092\n",
      "35173 76 0.12396694\n",
      "35173 84 0.09963269\n",
      "35262 88 0.47046414\n",
      "35305 76 0.9853173\n",
      "35305 84 0.37800208\n",
      "35305 86 0.32565984\n",
      "35306 76 0.93184036\n",
      "35306 105 0.13953196\n",
      "35307 76 0.7882306\n",
      "35307 80 0.35388312\n",
      "35310 76 0.7882306\n",
      "35314 76 0.7882306\n",
      "35314 80 0.35388312\n",
      "35355 93 0.55960417\n",
      "35355 171 0.55138713\n",
      "36031 36 0.00046360685\n",
      "36031 81 0.0013908206\n",
      "36031 125 0.00015453562\n",
      "36031 167 0.00015453562\n",
      "36031 228 0.0018544274\n",
      "36139 180 0.3918919\n",
      "36214 159 0.14435156\n",
      "36214 194 0.75212413\n",
      "36478 41 0.097539544\n",
      "36478 49 0.19947276\n",
      "36478 56 0.26977152\n",
      "36659 41 0.15960665\n",
      "36659 56 0.3260212\n",
      "36686 105 0.012041285\n",
      "36750 79 0.82635665\n",
      "36750 128 0.7753423\n",
      "36750 149 0.4243975\n",
      "36750 150 0.7275432\n",
      "36751 72 0.8877212\n",
      "36751 79 0.97278273\n",
      "36751 128 0.9632481\n",
      "36751 149 0.873375\n",
      "36751 150 0.9432557\n",
      "36752 79 0.9215147\n",
      "36752 128 0.89266634\n",
      "36752 138 0.9357884\n",
      "36752 149 0.8224855\n",
      "36752 150 0.84574383\n",
      "36754 79 0.97147983\n",
      "36754 128 0.94581187\n",
      "36754 149 0.7161508\n",
      "36754 150 0.93206847\n",
      "36755 72 0.7579114\n",
      "36755 79 0.85068244\n",
      "36755 128 0.8459002\n",
      "36755 138 0.7522698\n",
      "36755 149 0.46498886\n",
      "36755 150 0.8150178\n",
      "36756 79 0.8509454\n",
      "36756 128 0.83158094\n",
      "36756 149 0.4432747\n",
      "36756 150 0.7679919\n",
      "36757 128 0.76588076\n",
      "36757 150 0.71970755\n",
      "36761 72 0.9340595\n",
      "36761 128 0.9359583\n",
      "36761 150 0.90940344\n",
      "36762 72 0.96356815\n",
      "36762 79 0.9743857\n",
      "36762 128 0.9653935\n",
      "36762 150 0.95849305\n",
      "36763 79 0.95013976\n",
      "36763 150 0.94419706\n",
      "36764 72 0.95285\n",
      "36764 79 0.9516319\n",
      "36764 128 0.96162593\n",
      "36764 150 0.93285257\n",
      "36765 72 0.95285\n",
      "36765 79 0.9516319\n",
      "36765 128 0.96162593\n",
      "36765 150 0.93285257\n",
      "36766 72 0.18181819\n",
      "36766 128 0.30508474\n",
      "36766 150 0.17411402\n",
      "36767 48 0.6669477\n",
      "36840 165 0.25429142\n",
      "Found a zero, is is rank: 64\n",
      "36863 156 0.0\n",
      "36927 164 0.9451357\n",
      "36927 212 0.031714737\n",
      "36960 182 0.09155937\n",
      "Found a zero, is is rank: 155\n",
      "37020 2 0.0\n",
      "Found a zero, is is rank: 227\n",
      "37023 78 0.0\n",
      "Found a zero, is is rank: 199\n",
      "37023 119 0.0\n",
      "37126 138 0.24507967\n",
      "37411 112 0.81929743\n",
      "37592 67 0.000911577\n",
      "37642 121 0.55008256\n",
      "37642 122 0.65102106\n",
      "37844 105 0.004852557\n",
      "37844 172 0.008585293\n",
      "37897 0 0.9594325\n",
      "Found a zero, is is rank: 157\n",
      "37897 28 0.0\n",
      "37897 40 0.6022147\n",
      "37897 129 0.8552518\n",
      "37897 150 0.9996403\n",
      "37897 164 0.99994445\n",
      "37897 168 0.1636421\n",
      "37897 180 0.9982452\n",
      "37897 183 0.99135375\n",
      "37897 191 0.52800786\n",
      "37897 214 0.9997161\n",
      "37897 236 0.9824291\n",
      "Found a zero, is is rank: 64\n",
      "38308 0 0.0\n",
      "38663 131 0.12249443\n",
      "Found a zero, is is rank: 64\n",
      "38668 0 0.0\n",
      "Found a zero, is is rank: 125\n",
      "38753 200 0.0\n",
      "38819 9 0.016364662\n",
      "Found a zero, is is rank: 64\n",
      "38944 0 0.0\n",
      "39153 71 0.28413793\n",
      "39303 172 0.0025020852\n",
      "39465 230 0.22701149\n",
      "39466 230 0.22701149\n",
      "39621 93 0.027428057\n",
      "39793 8 0.83473736\n",
      "40079 0 0.3476168\n",
      "40079 13 0.53498405\n",
      "40079 31 0.4428041\n",
      "40079 40 0.12795809\n",
      "40079 89 0.5329286\n",
      "40079 140 0.58597445\n",
      "40079 150 0.6558148\n",
      "40079 164 0.70675683\n",
      "40079 176 0.38085473\n",
      "40079 193 0.14683498\n",
      "40079 202 0.5502036\n",
      "40079 204 0.55375385\n",
      "40079 218 0.50216717\n",
      "40079 235 0.02461115\n",
      "40122 55 0.019148936\n",
      "40661 11 0.12436495\n",
      "40661 13 0.18079592\n",
      "Found a zero, is is rank: 191\n",
      "40661 28 0.0\n",
      "40661 36 0.16048068\n",
      "40661 73 0.09094298\n",
      "40661 89 0.074847884\n",
      "40661 101 0.059358317\n",
      "40661 123 0.23961355\n",
      "40661 125 0.0740906\n",
      "40661 129 0.015920123\n",
      "40661 131 0.2655129\n",
      "40661 133 0.060472336\n",
      "40661 176 0.041683946\n",
      "40661 180 0.109444626\n",
      "40661 198 0.14716077\n",
      "40661 218 0.062951796\n",
      "40661 222 0.062731415\n",
      "40661 236 0.060270894\n",
      "40829 69 0.0023837902\n",
      "41029 74 0.013296399\n",
      "Found a zero, is is rank: 114\n",
      "41029 189 0.0\n",
      "41167 239 0.0036540804\n",
      "41847 180 0.9931461\n",
      "Found a zero, is is rank: 204\n",
      "42650 241 0.0\n",
      "Found a zero, is is rank: 204\n",
      "42654 241 0.0\n",
      "42671 90 0.38822052\n",
      "43251 165 0.531891\n",
      "43377 139 0.8751409\n",
      "43377 179 0.53415155\n",
      "43440 165 0.531891\n",
      "43478 93 0.19371326\n",
      "43505 7 0.04255319\n",
      "43592 70 0.04488914\n",
      "43592 90 0.29079413\n",
      "43649 165 0.531891\n",
      "Found a zero, is is rank: 225\n",
      "43668 69 0.0\n",
      "43668 73 0.7947072\n",
      "43668 144 0.028584197\n",
      "43668 158 0.017028885\n",
      "43668 159 0.017028885\n",
      "43668 167 0.024939895\n",
      "43668 194 0.019567203\n",
      "43800 79 0.00042194093\n",
      "Found a zero, is is rank: 123\n",
      "43800 193 0.0\n",
      "Found a zero, is is rank: 116\n",
      "43800 224 0.0\n",
      "Found a zero, is is rank: 142\n",
      "43911 1 0.0\n",
      "43911 158 0.39035815\n",
      "43911 159 0.33050528\n",
      "43911 167 0.61414206\n",
      "44172 165 0.531891\n",
      "44189 199 0.12779556\n",
      "44289 154 0.19010071\n",
      "44289 168 0.03041186\n",
      "44301 25 0.08484574\n",
      "44301 36 0.85468024\n",
      "44301 73 0.7959797\n",
      "44301 154 0.9002663\n",
      "44301 157 0.68869823\n",
      "44323 165 0.531891\n",
      "44401 154 0.104501605\n",
      "44401 168 0.014469453\n",
      "44461 119 0.5325\n",
      "Found a zero, is is rank: 85\n",
      "44504 217 0.0\n",
      "44544 165 0.531891\n",
      "44683 165 0.531891\n",
      "Found a zero, is is rank: 197\n",
      "44825 92 0.0\n",
      "44909 132 0.49595377\n",
      "44941 116 0.67077196\n",
      "45002 105 0.028206518\n",
      "45186 172 0.0439064\n",
      "45308 54 0.005381769\n",
      "45308 108 0.002354524\n",
      "Found a zero, is is rank: 73\n",
      "45487 144 0.0\n",
      "Found a zero, is is rank: 125\n",
      "45487 194 0.0\n",
      "45629 188 0.54079694\n",
      "Found a zero, is is rank: 78\n",
      "45834 156 0.0\n",
      "46022 56 0.023386437\n",
      "46361 11 0.99666166\n",
      "46436 157 0.8946394\n",
      "46440 130 0.009182335\n",
      "Found a zero, is is rank: 112\n",
      "46492 208 0.0\n",
      "46535 79 0.9999873\n",
      "46535 138 0.9999998\n",
      "46536 157 0.70167595\n",
      "46562 11 0.9995935\n",
      "46639 11 0.99515754\n",
      "46639 16 0.9969963\n",
      "46639 31 0.9546749\n",
      "46639 36 0.9978136\n",
      "46639 79 0.99873173\n",
      "46639 138 0.9998979\n",
      "46639 172 0.17083807\n",
      "46639 224 0.9962465\n",
      "46677 128 0.76503253\n",
      "46724 11 0.99927807\n",
      "46724 79 0.9998891\n",
      "46724 138 0.9999985\n",
      "46724 172 0.1380698\n",
      "46861 158 0.003322259\n",
      "46861 159 0.003322259\n",
      "46861 194 0.003322259\n",
      "47075 73 0.76312375\n",
      "47075 149 0.77905434\n",
      "47209 139 0.4132066\n",
      "47209 170 0.35667834\n",
      "47263 11 0.99946743\n",
      "47285 79 0.99999475\n",
      "47285 138 0.99999994\n",
      "47309 11 0.99948454\n",
      "47309 13 0.9966626\n",
      "47309 16 0.9997245\n",
      "47309 29 0.94678617\n",
      "47309 31 0.9816271\n",
      "47309 35 0.94529486\n",
      "47309 36 0.99988747\n",
      "47309 79 0.99996364\n",
      "47309 105 0.025473002\n",
      "47309 123 0.99988353\n",
      "47309 138 0.99999166\n",
      "47309 164 0.9999453\n",
      "47309 178 0.9999557\n",
      "47309 204 0.99565035\n",
      "47309 224 0.9996024\n",
      "47322 138 0.99999994\n",
      "47322 154 0.9991556\n",
      "47322 178 0.9999948\n",
      "47322 224 0.9999164\n",
      "47366 35 0.9874521\n",
      "47366 140 0.9997823\n",
      "47366 180 0.99944806\n",
      "47455 79 0.9996156\n",
      "47455 138 0.9999906\n",
      "47521 35 0.8504266\n",
      "47521 36 0.99546194\n",
      "47521 73 0.9647734\n",
      "47521 79 0.9940788\n",
      "47521 133 0.9448952\n",
      "47521 140 0.9765072\n",
      "47521 142 0.15913676\n",
      "47521 149 0.9672022\n",
      "47521 204 0.9767013\n",
      "47521 224 0.99143636\n"
     ]
    },
    {
     "name": "stdout",
     "output_type": "stream",
     "text": [
      "Found a zero, is is rank: 98\n",
      "47701 208 0.0\n",
      "47717 156 0.0010548523\n",
      "47804 139 0.4132066\n",
      "47804 170 0.35667834\n",
      "Found a zero, is is rank: 113\n",
      "47944 208 0.0\n",
      "47967 36 0.7822869\n",
      "47967 48 0.39125356\n",
      "47967 73 0.65128934\n",
      "47967 79 0.8664841\n",
      "47967 123 0.6608989\n",
      "47967 138 0.8180746\n",
      "47967 140 0.5634937\n",
      "47967 183 0.62638885\n",
      "47967 196 0.54703903\n",
      "48186 79 0.9998014\n",
      "48186 138 0.99999726\n",
      "48219 150 0.4918004\n",
      "48219 164 0.7528269\n",
      "Found a zero, is is rank: 43\n",
      "48268 138 0.0\n",
      "Found a zero, is is rank: 164\n",
      "48274 1 0.0\n",
      "48274 36 0.4662162\n",
      "48274 149 0.38175675\n",
      "48330 152 0.12877178\n",
      "48330 189 0.82020617\n",
      "48550 155 0.9991551\n",
      "48708 70 0.011656442\n",
      "48820 11 0.9993879\n",
      "48820 16 0.9997157\n",
      "48820 31 0.9748112\n",
      "48820 36 0.9997561\n",
      "48820 79 0.9999223\n",
      "48820 138 0.9999955\n",
      "48820 224 0.99955654\n",
      "48971 11 0.49081492\n",
      "48971 13 0.48721373\n",
      "48971 16 0.5124491\n",
      "48971 29 0.42855603\n",
      "48971 35 0.31474736\n",
      "48971 73 0.45905605\n",
      "48971 79 0.6024925\n",
      "48971 89 0.5521836\n",
      "48971 123 0.5000674\n",
      "48971 125 0.1921583\n",
      "48971 128 0.4850422\n",
      "48971 133 0.4936518\n",
      "48971 138 0.6621258\n",
      "48971 140 0.3668366\n",
      "48971 149 0.48382834\n",
      "48971 150 0.24843319\n",
      "48971 157 0.42522007\n",
      "48971 164 0.60377836\n",
      "48971 176 0.53920853\n",
      "48971 178 0.4967495\n",
      "48971 180 0.40605864\n",
      "48971 189 0.41576973\n",
      "48971 193 0.0112396935\n",
      "48971 204 0.625943\n",
      "48971 224 0.4726336\n",
      "48971 236 0.36855403\n",
      "49005 99 0.0025146925\n",
      "Found a zero, is is rank: 144\n",
      "49005 192 0.0\n",
      "49133 98 0.842027\n",
      "49188 31 0.114832535\n",
      "49188 36 0.16336295\n",
      "49188 138 0.42378673\n",
      "49188 175 0.042378675\n",
      "49188 196 0.036226932\n",
      "49188 204 0.08885851\n",
      "49703 48 0.58667165\n",
      "50633 138 0.6649123\n",
      "50890 194 0.7520858\n",
      "51354 141 0.6177204\n",
      "51354 162 0.7416064\n",
      "51453 88 0.47046414\n",
      "51453 116 0.40632913\n",
      "51454 88 0.47046414\n",
      "51454 116 0.40632913\n",
      "52682 90 0.0016620499\n",
      "52820 127 0.98772055\n",
      "53076 16 0.16096747\n",
      "53076 31 0.077564634\n",
      "53076 36 0.176814\n",
      "53076 48 0.07339449\n",
      "53076 138 0.29190993\n",
      "53076 178 0.1826522\n",
      "53076 180 0.12427022\n",
      "53076 198 0.068390325\n",
      "53297 225 0.5\n",
      "54398 218 0.9091053\n",
      "54588 138 0.9309668\n",
      "55773 130 0.08219591\n",
      "55852 176 0.71156967\n",
      "55852 180 0.8777516\n",
      "55852 202 0.87602943\n",
      "55852 214 0.844522\n",
      "55852 236 0.6755743\n",
      "55920 82 0.57988566\n",
      "55920 103 0.44601414\n",
      "Found a zero, is is rank: 227\n",
      "55924 74 0.0\n",
      "56363 105 0.07104316\n",
      "56729 84 0.24382187\n",
      "56809 91 0.07257851\n",
      "56854 84 0.24382187\n",
      "56938 84 0.24382187\n",
      "56958 6 0.29361543\n",
      "56997 105 0.07104316\n",
      "57358 76 0.9408554\n",
      "57643 84 0.24382187\n",
      "57794 84 0.24382187\n",
      "57799 74 0.000303859\n",
      "57942 84 0.24382187\n",
      "Found a zero, is is rank: 226\n",
      "57946 74 0.0\n",
      "58378 84 0.24382187\n",
      "58617 84 0.24382187\n",
      "58765 0 0.4123861\n",
      "58765 13 0.6398847\n",
      "58765 164 0.874606\n",
      "58765 202 0.7031845\n",
      "58898 121 0.65398854\n",
      "58921 74 0.000303859\n",
      "Found a zero, is is rank: 197\n",
      "58921 156 0.0\n",
      "58953 121 0.65398854\n",
      "59103 129 0.488099\n",
      "59103 150 0.99918747\n",
      "59103 178 0.9999335\n",
      "59103 214 0.9987505\n",
      "59450 165 0.531891\n",
      "Found a zero, is is rank: 124\n",
      "59483 190 0.0\n",
      "59495 98 0.6944074\n",
      "59508 71 0.38444483\n",
      "59561 116 0.6676136\n",
      "59561 122 0.45251623\n",
      "59573 27 0.08950617\n",
      "59573 134 0.1090535\n",
      "59853 81 0.017138088\n",
      "59884 73 0.8742587\n",
      "59977 126 0.106796116\n",
      "60025 8 0.82572895\n",
      "Found a zero, is is rank: 148\n",
      "60074 192 0.0\n",
      "Found a zero, is is rank: 168\n",
      "60562 6 0.0\n",
      "60562 13 0.8391008\n",
      "60562 48 0.703252\n",
      "60562 123 0.013188964\n",
      "60562 142 0.00203666\n",
      "60562 144 0.96983147\n",
      "60562 175 0.00203666\n",
      "60562 193 0.00203666\n",
      "60562 202 0.00203666\n",
      "60562 235 0.0011049723\n",
      "61199 79 0.104781285\n",
      "61613 140 0.06504247\n",
      "61736 127 0.98772055\n",
      "62791 8 0.609029\n",
      "63691 239 0.020428015\n",
      "63980 27 0.0055632824\n",
      "63980 134 0.006181425\n",
      "Found a zero, is is rank: 191\n",
      "64413 30 0.0\n",
      "Found a zero, is is rank: 229\n",
      "64413 81 0.0\n",
      "64525 13 0.2099344\n",
      "64679 81 0.65669703\n",
      "64721 75 0.6210191\n",
      "64721 112 0.6019108\n",
      "Found a zero, is is rank: 191\n",
      "64741 103 0.0\n",
      "64743 81 0.65669703\n",
      "64761 24 0.0036416606\n",
      "Found a zero, is is rank: 166\n",
      "64870 9 0.0\n",
      "Found a zero, is is rank: 225\n",
      "64870 71 0.0\n",
      "64870 84 0.0013003901\n",
      "64870 86 0.0013003901\n",
      "Found a zero, is is rank: 212\n",
      "64870 98 0.0\n",
      "Found a zero, is is rank: 200\n",
      "64870 113 0.0\n",
      "64870 171 0.0013003901\n",
      "64871 81 0.65669703\n",
      "64898 134 0.1090535\n",
      "65044 88 0.61403507\n",
      "Found a zero, is is rank: 166\n",
      "65176 9 0.0\n",
      "65176 86 0.0013003901\n",
      "65176 91 0.0013003901\n",
      "Found a zero, is is rank: 191\n",
      "65176 103 0.0\n",
      "65371 14 0.13063909\n",
      "65371 32 0.036654137\n",
      "65371 161 0.04511278\n",
      "65371 166 0.20112781\n",
      "65413 82 0.0040179263\n",
      "65413 103 0.0040179263\n",
      "65829 50 0.00030907124\n",
      "65936 179 0.32437363\n",
      "65951 60 0.277245\n",
      "66067 60 0.277245\n",
      "66088 159 0.39918533\n",
      "66088 194 0.796334\n",
      "66142 224 0.5420906\n",
      "66216 224 0.17352942\n",
      "66671 59 0.1712\n",
      "66917 53 0.09404816\n",
      "66917 71 0.25706485\n",
      "66917 76 0.34085694\n",
      "66917 98 0.19120036\n",
      "66917 171 0.17476772\n",
      "67005 88 0.61403507\n",
      "Found a zero, is is rank: 208\n",
      "67124 119 0.0\n",
      "67469 105 0.04295613\n",
      "67675 150 0.9867714\n",
      "67675 183 0.9170154\n",
      "67675 191 0.28752184\n",
      "67675 214 0.9889979\n",
      "67675 236 0.9432845\n",
      "68255 31 0.1701359\n",
      "68255 157 0.21446858\n",
      "68255 175 0.17660767\n",
      "68527 0 0.10123119\n",
      "69012 165 0.00030907124\n",
      "69012 177 0.00015453562\n",
      "69057 32 0.1184\n",
      "69174 102 0.837221\n",
      "69244 91 0.3842812\n",
      "69253 32 0.1184\n",
      "69665 74 0.001734104\n",
      "69738 16 0.86155444\n",
      "69738 29 0.6757895\n",
      "69738 36 0.8532427\n",
      "69738 48 0.7089778\n",
      "69738 79 0.9136873\n",
      "69738 136 0.5695233\n",
      "69738 178 0.878386\n",
      "69738 191 0.0715077\n",
      "69738 199 0.15544505\n",
      "Found a zero, is is rank: 207\n",
      "70002 241 0.0\n",
      "70454 36 0.7640036\n",
      "70454 89 0.35539073\n",
      "70454 105 0.0013679891\n",
      "70454 123 0.7197609\n",
      "70454 126 0.34229645\n",
      "70454 129 0.121847965\n",
      "70454 131 0.8093559\n",
      "70454 198 0.26785323\n",
      "70454 235 0.49261236\n",
      "70478 99 0.7551147\n",
      "70510 165 0.25429142\n",
      "70510 177 0.5506438\n",
      "70810 31 0.23803009\n",
      "70915 111 0.31043735\n",
      "71029 31 0.23803009\n",
      "71030 31 0.23803009\n",
      "Found a zero, is is rank: 107\n",
      "71079 181 0.0\n",
      "71408 14 0.292\n",
      "71408 32 0.1184\n",
      "71471 95 0.61496705\n",
      "71471 100 0.52384645\n",
      "71807 36 0.9982261\n",
      "71807 202 0.9790051\n",
      "71920 78 0.5422147\n",
      "71928 172 0.0058365758\n",
      "Found a zero, is is rank: 112\n",
      "71928 226 0.0\n",
      "72015 121 0.54967207\n",
      "72015 122 0.64931613\n",
      "Found a zero, is is rank: 159\n",
      "72222 44 0.0\n",
      "72227 19 0.0020283975\n",
      "72421 121 0.54967207\n",
      "72421 122 0.64931613\n",
      "72464 121 0.34303844\n",
      "72494 88 0.76720333\n",
      "72494 116 0.8008219\n",
      "72594 98 0.580587\n",
      "72600 131 0.60622466\n",
      "72610 76 0.7882306\n",
      "72610 80 0.35388312\n",
      "73062 104 0.6226994\n",
      "73251 31 0.23803009\n",
      "73367 67 0.6736402\n",
      "73367 113 0.8002092\n",
      "73388 111 0.31043735\n",
      "73424 165 0.00030907124\n",
      "73490 15 0.257991\n",
      "73490 91 0.18109111\n",
      "73490 94 0.18262176\n",
      "73544 156 0.00015453562\n",
      "73559 99 0.7551147\n",
      "73562 95 0.61496705\n",
      "73562 100 0.52384645\n",
      "73604 86 0.36652106\n",
      "73622 98 0.5388615\n",
      "73835 84 0.11388455\n",
      "73835 86 0.10647426\n",
      "73836 24 0.008097166\n",
      "73865 172 0.034564957\n",
      "73886 165 0.531891\n",
      "73953 71 0.4965759\n",
      "73953 105 0.2868919\n",
      "73953 113 0.9214071\n",
      "74251 127 0.6893924\n",
      "74252 52 0.002770083\n",
      "74252 127 0.0005540166\n",
      "74252 165 0.0016620499\n",
      "74252 177 0.0016620499\n",
      "74286 230 0.22701149\n",
      "74357 131 0.60622466\n",
      "74373 165 0.531891\n",
      "74480 105 0.0007564296\n",
      "74709 78 0.5422147\n",
      "74837 131 0.60622466\n",
      "75125 165 0.531891\n",
      "75127 165 0.531891\n",
      "75151 95 0.61496705\n",
      "75151 100 0.52384645\n",
      "75170 172 0.0008\n",
      "75300 82 0.79110014\n",
      "75300 90 0.8195303\n",
      "Found a zero, is is rank: 64\n",
      "75419 0 0.0\n",
      "75425 37 0.004454343\n",
      "75486 16 0.6675169\n",
      "Found a zero, is is rank: 150\n",
      "75591 50 0.0\n",
      "Found a zero, is is rank: 142\n",
      "75603 2 0.0\n",
      "75664 98 0.75104207\n",
      "75674 52 0.0030864198\n",
      "75674 127 0.002057613\n",
      "Found a zero, is is rank: 80\n",
      "75674 156 0.0\n",
      "75674 165 0.002057613\n",
      "75674 177 0.002057613\n",
      "Found a zero, is is rank: 64\n",
      "75676 0 0.0\n",
      "75743 39 0.0038910506\n",
      "75863 52 0.0030864198\n",
      "75863 127 0.002057613\n",
      "75863 165 0.002057613\n",
      "75863 177 0.002057613\n",
      "75960 172 0.0095877275\n",
      "75964 172 0.0017390978\n",
      "75989 41 0.097539544\n",
      "75989 49 0.20111993\n",
      "75989 56 0.26977152\n",
      "76013 95 0.61496705\n",
      "76013 100 0.52384645\n",
      "Found a zero, is is rank: 206\n",
      "76041 1 0.0\n",
      "76041 39 0.017783517\n",
      "76072 122 0.64931613\n",
      "76191 179 0.5164859\n",
      "76338 36 0.021014823\n",
      "76338 50 0.0023660485\n",
      "76338 81 0.005753762\n",
      "76338 125 0.0020234056\n",
      "76338 128 0.18434481\n",
      "Found a zero, is is rank: 160\n",
      "76347 238 0.0\n",
      "76392 126 0.0029182879\n",
      "76801 9 0.3259303\n",
      "76801 71 0.8533104\n",
      "77135 84 0.22592214\n",
      "77441 71 0.38312718\n",
      "77583 9 0.011814346\n",
      "77583 86 0.012658228\n",
      "77830 0 0.69004035\n",
      "77830 11 0.9521258\n",
      "Found a zero, is is rank: 195\n",
      "77830 28 0.0\n",
      "77830 29 0.79313004\n",
      "77830 36 0.9693948\n",
      "77830 73 0.8806435\n",
      "77830 148 0.74897313\n",
      "77830 149 0.87744606\n",
      "77830 150 0.86513734\n",
      "77830 164 0.9295002\n",
      "77830 175 0.5887809\n",
      "77830 176 0.68253404\n",
      "77830 180 0.89618456\n",
      "77830 189 0.5191351\n",
      "77830 204 0.88923\n",
      "77830 214 0.8581952\n",
      "77830 222 0.7323106\n",
      "77853 19 0.002925854\n"
     ]
    },
    {
     "name": "stdout",
     "output_type": "stream",
     "text": [
      "Found a zero, is is rank: 224\n",
      "77952 72 0.0\n",
      "78317 86 0.7563396\n",
      "78317 116 0.008820287\n",
      "Found a zero, is is rank: 105\n",
      "78317 225 0.0\n",
      "Found a zero, is is rank: 113\n",
      "78317 233 0.0\n",
      "78477 30 0.32984978\n",
      "78715 91 0.8401437\n",
      "78799 91 0.8401437\n",
      "78808 78 0.5422147\n",
      "79275 92 0.002621232\n",
      "79276 181 0.052964948\n",
      "79284 24 0.11793604\n",
      "79284 25 0.09602188\n",
      "79284 129 0.17274745\n",
      "79284 155 0.8261327\n",
      "79284 168 0.25748688\n",
      "79284 202 0.8090222\n",
      "79284 235 0.028110515\n",
      "Found a zero, is is rank: 154\n",
      "79432 228 0.0\n",
      "79643 91 0.8401437\n",
      "79729 91 0.8401437\n",
      "79773 91 0.8401437\n",
      "79805 91 0.8401437\n",
      "79816 17 0.0011467889\n",
      "79816 105 0.012041285\n",
      "79953 29 0.009933775\n",
      "79953 31 0.011589404\n",
      "79953 36 0.011589404\n",
      "79953 72 0.01986755\n",
      "79953 73 0.014900662\n",
      "79953 128 0.104304634\n",
      "79953 154 0.01655629\n",
      "79953 157 0.0066225166\n",
      "79953 178 0.011589404\n",
      "79953 180 0.009933775\n",
      "79953 189 0.06291391\n",
      "79953 214 0.008278145\n",
      "79953 215 0.009933775\n",
      "79953 218 0.0066225166\n",
      "79953 237 0.011589404\n",
      "79956 91 0.8401437\n",
      "80002 144 0.008303091\n",
      "80085 80 0.63284534\n",
      "80225 84 0.6787967\n",
      "80620 22 0.2200692\n",
      "80756 7 0.04255319\n",
      "80887 74 0.0009272137\n",
      "80955 105 0.16290525\n",
      "81189 13 0.9758563\n",
      "81189 31 0.96316093\n",
      "81189 48 0.96194845\n",
      "81189 144 0.11583671\n",
      "81224 78 0.5422147\n",
      "81300 74 0.013296399\n",
      "81332 52 0.0018559763\n",
      "81332 127 0.0011135858\n",
      "81338 27 0.08950617\n",
      "81338 134 0.1090535\n",
      "81551 7 0.04255319\n",
      "81884 103 0.6314977\n",
      "82195 50 0.00084388186\n",
      "82195 81 0.65771097\n",
      "Found a zero, is is rank: 111\n",
      "82195 165 0.0\n",
      "Found a zero, is is rank: 191\n",
      "82444 30 0.0\n",
      "82487 53 0.24864385\n",
      "82746 162 0.36734694\n",
      "82746 170 0.516129\n",
      "82991 216 0.012645914\n",
      "82998 18 0.22395298\n",
      "82998 80 0.11518679\n",
      "83176 50 0.00048520137\n",
      "83192 137 0.075773895\n",
      "83571 216 0.012645914\n",
      "83588 8 0.19811052\n",
      "83588 14 0.3844925\n",
      "83588 32 0.1507143\n",
      "83588 161 0.18108872\n",
      "83835 188 0.54079694\n",
      "84003 193 0.02631579\n",
      "84009 81 0.001215436\n",
      "84170 102 0.837221\n",
      "84240 165 0.25429142\n",
      "84240 177 0.5506438\n",
      "84289 52 0.037335325\n",
      "84289 127 0.027570216\n",
      "Found a zero, is is rank: 68\n",
      "84289 165 0.0\n",
      "84289 177 0.009875564\n",
      "84299 88 0.61403507\n",
      "84403 161 0.1424\n",
      "84456 161 0.18108872\n",
      "84552 102 0.64681894\n",
      "84559 99 0.7551147\n",
      "84559 192 0.416615\n",
      "84624 161 0.1424\n",
      "84628 52 0.02316412\n",
      "84628 127 0.01774273\n",
      "Found a zero, is is rank: 32\n",
      "84628 165 0.0\n",
      "84628 177 0.007392804\n",
      "84847 161 0.1424\n",
      "85021 0 0.7788553\n",
      "85021 16 0.9871263\n",
      "85021 101 0.10914104\n",
      "85021 183 0.82151896\n",
      "85021 204 0.9368698\n",
      "85276 53 0.064334765\n",
      "85276 76 0.39196765\n",
      "85555 161 0.04511278\n",
      "85800 194 0.7520858\n",
      "85802 194 0.7520858\n",
      "85803 194 0.7520858\n",
      "85804 194 0.7520858\n",
      "85862 95 0.61496705\n",
      "Found a zero, is is rank: 137\n",
      "86099 44 0.0\n",
      "86180 162 0.64424074\n",
      "86180 170 0.6016642\n",
      "86286 116 0.6676136\n",
      "86286 121 0.3145292\n",
      "Found a zero, is is rank: 144\n",
      "86483 52 0.0\n",
      "Found a zero, is is rank: 35\n",
      "86483 127 0.0\n",
      "Found a zero, is is rank: 12\n",
      "86483 165 0.0\n",
      "Found a zero, is is rank: 27\n",
      "86483 177 0.0\n",
      "86499 105 0.21094304\n",
      "86619 8 0.05169173\n",
      "86619 14 0.13063909\n",
      "86619 32 0.036654137\n",
      "86619 161 0.04511278\n",
      "86619 166 0.20112781\n",
      "86783 8 0.05169173\n",
      "86783 14 0.13063909\n",
      "86783 32 0.036654137\n",
      "86783 161 0.04511278\n",
      "86783 166 0.20112781\n",
      "86827 95 0.61496705\n",
      "86827 100 0.52384645\n",
      "87163 138 0.13028954\n",
      "87555 52 0.03987032\n",
      "87555 127 0.028850572\n",
      "Found a zero, is is rank: 66\n",
      "87555 165 0.0\n",
      "87555 177 0.01052739\n",
      "87610 139 0.3228191\n",
      "87610 141 0.38639724\n",
      "87890 84 0.08885018\n",
      "87916 121 0.65398854\n",
      "88382 100 0.6146003\n",
      "88726 136 0.07923269\n",
      "88726 138 0.29190993\n",
      "88726 178 0.1826522\n",
      "88726 191 0.0050041704\n",
      "88726 199 0.010842369\n",
      "Found a zero, is is rank: 14\n",
      "89246 156 0.0\n",
      "89449 15 0.29941025\n",
      "89702 56 0.023386437\n",
      "89798 105 0.044236735\n",
      "89847 35 0.07005838\n",
      "89847 204 0.110091746\n",
      "89912 95 0.60135674\n",
      "90138 154 0.09558824\n",
      "90313 84 0.4566455\n",
      "Found a zero, is is rank: 236\n",
      "90387 86 0.0\n",
      "90569 93 0.01681803\n",
      "90740 166 0.20112781\n",
      "90840 84 0.4566455\n",
      "91101 172 0.01020317\n",
      "91128 84 0.4586056\n",
      "91128 94 0.28433293\n",
      "91180 84 0.24382187\n",
      "91234 235 0.004040404\n",
      "91506 84 0.11388455\n",
      "92040 170 0.5794562\n",
      "92144 29 0.47053614\n",
      "92389 138 0.043126684\n",
      "Found a zero, is is rank: 195\n",
      "92585 106 0.0\n",
      "92748 128 0.0077254088\n",
      "93134 84 0.38681296\n",
      "93601 231 0.05263158\n",
      "93643 79 0.48874062\n",
      "94070 95 0.60135674\n",
      "94209 65 0.09835506\n",
      "95108 93 0.19371326\n",
      "Found a zero, is is rank: 204\n",
      "95512 241 0.0\n",
      "95605 9 0.07852761\n",
      "95605 160 0.08895706\n",
      "95641 154 0.104501605\n",
      "95641 168 0.014469453\n",
      "95716 165 0.531891\n",
      "95763 71 0.004765435\n",
      "95763 83 0.0056854174\n",
      "95763 91 0.0024502184\n",
      "95763 94 0.0013852797\n",
      "Found a zero, is is rank: 204\n",
      "95775 241 0.0\n",
      "95781 73 0.014900662\n",
      "95781 142 0.008278145\n",
      "95781 149 0.008278145\n",
      "95781 175 0.009933775\n",
      "96804 172 0.0014527845\n",
      "97215 172 0.2730289\n",
      "97440 172 0.014141414\n",
      "97880 75 0.6210191\n",
      "97880 112 0.6019108\n",
      "97923 84 0.24382187\n",
      "98069 132 0.7771392\n",
      "98791 11 0.5040703\n",
      "98791 13 0.41556573\n",
      "98791 29 0.38300547\n",
      "98791 31 0.4232764\n",
      "98791 48 0.37599513\n",
      "98791 123 0.5673862\n",
      "98791 131 0.48814344\n",
      "98791 136 0.28250107\n",
      "98791 191 0.021406466\n",
      "98791 198 0.19026333\n",
      "98791 199 0.050530314\n",
      "99365 71 0.38312718\n",
      "99515 26 0.018518519\n",
      "99533 0 0.26199955\n",
      "99533 36 0.7566946\n",
      "99533 72 0.6676204\n",
      "99533 73 0.5063704\n",
      "99533 109 0.5485664\n",
      "99533 157 0.30927062\n",
      "99533 183 0.4595279\n",
      "99533 189 0.23691915\n",
      "99533 202 0.58766913\n",
      "99533 214 0.71394795\n",
      "99533 215 0.23914911\n",
      "99533 218 0.4408575\n",
      "99533 237 0.37412778\n",
      "Found a zero, is is rank: 174\n",
      "99823 2 0.0\n",
      "Found a zero, is is rank: 218\n",
      "100384 106 0.0\n",
      "Found a zero, is is rank: 91\n",
      "100677 228 0.0\n",
      "101298 13 0.15609063\n",
      "101298 48 0.15776126\n",
      "101298 150 0.41450015\n",
      "101298 157 0.19777164\n",
      "101298 164 0.43395016\n",
      "101298 168 0.23655267\n",
      "101298 193 0.019066693\n",
      "101338 17 0.45031634\n",
      "101338 56 0.68547654\n",
      "101565 84 0.24382187\n",
      "101792 165 0.531891\n",
      "101794 0 0.19227394\n",
      "101794 11 0.45547932\n",
      "101794 16 0.55266446\n",
      "101794 20 0.03694413\n",
      "101794 29 0.39110133\n",
      "101794 31 0.3300983\n",
      "101794 36 0.46720472\n",
      "101794 48 0.5017394\n",
      "101794 73 0.29960698\n",
      "101794 89 0.25717917\n",
      "101794 123 0.5798529\n",
      "101794 125 0.21204078\n",
      "101794 126 0.17063072\n",
      "101794 136 0.26841536\n",
      "101794 138 0.842045\n",
      "101794 142 0.019564841\n",
      "101794 149 0.31831628\n",
      "101794 175 0.14529999\n",
      "101794 176 0.19756061\n",
      "101794 180 0.339424\n",
      "101794 191 0.019789416\n",
      "101794 198 0.091858104\n",
      "101794 199 0.049908403\n",
      "101794 212 0.010880407\n",
      "101794 235 0.028716186\n",
      "101794 236 0.25398576\n",
      "102026 84 0.24382187\n",
      "102041 52 0.9986332\n",
      "Found a zero, is is rank: 121\n",
      "102244 192 0.0\n",
      "102401 81 0.0013908206\n",
      "102494 0 0.99272287\n",
      "102494 6 0.95370954\n",
      "Found a zero, is is rank: 175\n",
      "102494 28 0.0\n",
      "102494 65 0.51691586\n",
      "102494 101 0.16904666\n",
      "102494 126 0.9614422\n",
      "102494 134 0.000303859\n",
      "102494 142 0.83992326\n",
      "102494 150 0.9999943\n",
      "102494 167 0.4011942\n",
      "102494 168 0.4538729\n",
      "102494 194 0.17664275\n",
      "102494 214 0.99999416\n",
      "102494 235 0.8451678\n",
      "102659 172 0.019547325\n",
      "102740 41 0.15960665\n",
      "103082 118 0.20456026\n",
      "103427 17 0.33636364\n",
      "103427 49 0.6393939\n",
      "103427 56 0.53333336\n",
      "103549 73 0.11693355\n",
      "103549 142 0.008109712\n",
      "103549 149 0.10181087\n",
      "103549 175 0.050427202\n",
      "103852 76 0.34085694\n",
      "104166 81 0.65669703\n",
      "104333 73 0.004411765\n",
      "104333 142 0.0014705883\n",
      "104333 149 0.0029411765\n",
      "104333 175 0.0029411765\n",
      "104383 73 0.004411765\n",
      "104383 142 0.0014705883\n",
      "104383 149 0.0029411765\n",
      "104383 175 0.0029411765\n",
      "Found a zero, is is rank: 132\n",
      "104660 36 0.0\n",
      "Found a zero, is is rank: 63\n",
      "104660 154 0.0\n",
      "Found a zero, is is rank: 66\n",
      "104660 157 0.0\n",
      "104671 24 0.0036416606\n",
      "104715 16 0.27240142\n",
      "104715 29 0.086021505\n",
      "104715 138 0.37634408\n",
      "105197 79 0.99971586\n",
      "105262 81 0.65669703\n",
      "Found a zero, is is rank: 233\n",
      "105263 83 0.0\n",
      "105263 84 0.0013003901\n",
      "Found a zero, is is rank: 238\n",
      "105263 90 0.0\n",
      "Found a zero, is is rank: 191\n",
      "105263 103 0.0\n",
      "Found a zero, is is rank: 200\n",
      "105263 113 0.0\n",
      "105291 224 0.17352942\n",
      "105569 88 0.61403507\n",
      "106461 76 0.22725037\n",
      "106665 172 0.0018903592\n",
      "106960 204 0.5582431\n",
      "107041 226 0.01193539\n",
      "107158 165 0.000303859\n",
      "107972 154 0.22890173\n",
      "108089 78 0.5422147\n",
      "108368 65 0.009756098\n",
      "108539 32 0.1184\n",
      "109145 9 0.28922775\n",
      "109145 19 0.0049188393\n",
      "109145 171 0.08411215\n",
      "109331 73 0.024299065\n",
      "109331 149 0.029906543\n",
      "109476 138 0.34476534\n",
      "109476 204 0.19494584\n",
      "109548 95 0.60135674\n",
      "109548 102 0.53910613\n",
      "109560 120 0.013859423\n",
      "109721 131 0.60622466\n",
      "109755 0 0.18196096\n",
      "109901 231 0.05263158\n",
      "Found a zero, is is rank: 160\n",
      "110097 1 0.0\n",
      "110114 127 0.6893924\n",
      "110114 165 0.124546155\n",
      "110114 177 0.29284394\n",
      "110303 74 0.0011454754\n",
      "110303 128 0.67357945\n",
      "110319 78 0.5422147\n",
      "110700 138 0.572995\n",
      "110776 121 0.54967207\n",
      "110776 122 0.64931613\n",
      "110810 78 0.5422147\n",
      "110834 236 0.115537204\n",
      "110963 155 0.65421146\n",
      "110995 131 0.60622466\n",
      "111021 225 0.5\n",
      "111098 121 0.54967207\n",
      "111195 99 0.0025146925\n",
      "111277 19 0.0020283975\n",
      "111343 84 0.104907975\n",
      "111343 86 0.12515338\n",
      "111389 82 0.7693122\n",
      "111389 103 0.6627625\n",
      "111389 171 0.60317683\n",
      "111402 79 0.8306904\n",
      "111439 105 0.067213595\n"
     ]
    },
    {
     "name": "stdout",
     "output_type": "stream",
     "text": [
      "Found a zero, is is rank: 203\n",
      "111535 107 0.0\n",
      "111535 135 0.0016549494\n",
      "111535 139 0.0011918951\n",
      "111535 162 0.0016549494\n",
      "111555 81 0.0026045663\n",
      "111577 39 0.0038910506\n",
      "111577 126 0.0029182879\n",
      "111592 231 0.00015453562\n",
      "112138 17 0.0029301092\n",
      "112138 54 0.002312346\n",
      "112138 108 0.0024667867\n",
      "112174 13 0.2099344\n",
      "112313 161 0.04511278\n",
      "112324 14 0.3844925\n",
      "112382 18 0.5200762\n",
      "112382 68 0.7856044\n",
      "112382 94 0.9632184\n",
      "112382 112 0.71976197\n",
      "112537 70 0.5871067\n",
      "112731 161 0.04511278\n",
      "Found a zero, is is rank: 30\n",
      "112745 165 0.0\n",
      "113011 90 0.0043290043\n",
      "113176 39 0.012652889\n",
      "113270 84 0.4566455\n",
      "113540 84 0.24382187\n",
      "114108 178 0.1302282\n",
      "114466 0 0.786378\n",
      "114466 13 0.910826\n",
      "114466 73 0.94624734\n",
      "114466 89 0.9497393\n",
      "114466 149 0.9218285\n",
      "114466 150 0.97954345\n",
      "114466 164 0.9912494\n",
      "114466 175 0.66846174\n",
      "114466 183 0.90970606\n",
      "114466 214 0.97287744\n",
      "114468 119 0.5325\n",
      "114796 52 0.002770083\n",
      "114796 165 0.0016620499\n",
      "114796 177 0.0016620499\n",
      "115116 91 0.8401437\n",
      "115122 7 0.04255319\n",
      "115208 9 0.016364662\n",
      "115208 99 0.0025146925\n",
      "Found a zero, is is rank: 144\n",
      "115208 192 0.0\n",
      "115214 121 0.54967207\n",
      "115214 122 0.64931613\n",
      "Found a zero, is is rank: 144\n",
      "115228 50 0.0\n",
      "115681 80 0.023326088\n",
      "115681 98 0.04818969\n",
      "115847 85 0.0016970725\n",
      "116008 93 0.17009246\n",
      "116349 165 0.531891\n",
      "116441 84 0.24382187\n",
      "116489 27 0.08950617\n",
      "116489 134 0.1090535\n",
      "116492 126 0.43026686\n",
      "116535 239 0.020428015\n",
      "116617 95 0.60289073\n",
      "116738 225 0.5\n",
      "117004 105 0.049686443\n",
      "117051 220 0.66064644\n",
      "117218 54 0.0016998919\n",
      "117265 105 0.0010559662\n",
      "117360 18 0.82214767\n",
      "117432 27 0.08950617\n",
      "117432 134 0.1090535\n",
      "117483 161 0.1424\n",
      "117492 50 0.001529052\n",
      "117648 74 0.0009272137\n",
      "117668 19 0.0020283975\n",
      "117875 171 0.5981071\n",
      "117953 72 0.19982713\n",
      "118013 35 0.12634045\n",
      "118017 24 0.035053927\n",
      "118017 65 0.10595486\n",
      "118017 128 0.32041377\n",
      "118017 157 0.09166138\n",
      "118017 168 0.15715581\n",
      "118063 37 0.6072872\n",
      "118651 54 0.0016998919\n",
      "118663 11 0.60921943\n",
      "Found a zero, is is rank: 190\n",
      "118663 28 0.0\n",
      "118663 29 0.5137079\n",
      "118663 31 0.48204395\n",
      "118663 36 0.62872654\n",
      "118663 73 0.44410774\n",
      "118663 79 0.63154894\n",
      "118663 123 0.7488446\n",
      "118663 133 0.3896774\n",
      "118663 136 0.37241405\n",
      "118663 140 0.5296168\n",
      "118663 142 0.031809762\n",
      "118663 149 0.45784935\n",
      "118663 150 0.43163618\n",
      "118663 157 0.22401254\n",
      "118663 168 0.013842307\n",
      "118663 175 0.21773191\n",
      "118663 176 0.2997678\n",
      "118663 183 0.27083108\n",
      "118663 198 0.25229627\n",
      "118663 199 0.08111244\n",
      "118663 204 0.47431764\n",
      "118663 214 0.43753585\n",
      "Found a zero, is is rank: 191\n",
      "118816 103 0.0\n",
      "118871 17 0.0023180344\n",
      "118911 224 0.21428572\n",
      "119004 67 0.83419305\n",
      "119109 99 0.7551147\n",
      "119109 192 0.416615\n",
      "119328 19 0.0060742283\n",
      "Found a zero, is is rank: 224\n",
      "119397 72 0.0\n",
      "119550 65 0.05007704\n",
      "119686 99 0.023476673\n",
      "119686 104 0.00097276265\n",
      "119804 65 0.05007704\n",
      "119839 105 0.0025020852\n",
      "120084 129 0.6560346\n",
      "120084 133 0.98656\n",
      "120084 204 0.9966339\n",
      "120084 224 0.9999142\n",
      "120200 35 0.12634045\n",
      "120265 60 0.0021464985\n",
      "120291 99 0.7551147\n",
      "120291 192 0.416615\n",
      "120388 35 0.12634045\n",
      "120389 35 0.12634045\n",
      "120390 35 0.12634045\n",
      "120391 13 0.64682806\n",
      "120391 35 0.38970652\n",
      "120391 73 0.6003144\n",
      "120391 79 0.7854096\n",
      "120391 131 0.7007782\n",
      "120391 198 0.3152576\n",
      "120391 224 0.7309618\n",
      "120391 236 0.45098647\n",
      "120432 31 0.66653234\n",
      "120494 8 0.1544\n",
      "120494 14 0.292\n",
      "120494 32 0.1184\n",
      "120494 161 0.1424\n",
      "120719 74 0.0015337423\n",
      "120719 239 0.0010224949\n",
      "120902 93 0.027428057\n",
      "120968 9 0.52580696\n",
      "120968 50 0.0009768466\n",
      "121057 9 0.04368175\n",
      "121057 53 0.031591263\n",
      "121057 160 0.08034322\n",
      "121057 171 0.049921997\n",
      "121080 65 0.082460776\n",
      "121113 30 0.32984978\n",
      "121115 0 0.17560175\n",
      "121115 36 0.26053077\n",
      "121115 48 0.17615189\n",
      "121115 73 0.22045022\n",
      "121115 133 0.16421425\n",
      "121115 149 0.21670866\n",
      "121115 193 0.041698363\n",
      "121115 204 0.23762503\n",
      "121131 161 0.1424\n",
      "121163 99 0.7551147\n",
      "121163 192 0.416615\n",
      "121163 210 0.0012399256\n",
      "121164 98 0.00083333335\n",
      "121181 171 0.15544404\n",
      "121185 99 0.7551147\n",
      "121185 192 0.416615\n",
      "121932 165 0.25429142\n",
      "121932 177 0.5506438\n",
      "122319 224 0.21428572\n",
      "122349 29 0.03773585\n",
      "122349 31 0.03773585\n",
      "122349 123 0.03773585\n",
      "122349 235 0.4097035\n",
      "122670 78 0.5422147\n",
      "122670 95 0.00042426813\n",
      "Found a zero, is is rank: 164\n",
      "122743 1 0.0\n",
      "122978 18 0.057331864\n",
      "123008 19 0.0020283975\n",
      "123101 130 0.35699797\n",
      "123224 161 0.1424\n",
      "123225 161 0.1424\n",
      "123270 161 0.1424\n",
      "123334 161 0.1424\n",
      "123366 224 0.21428572\n",
      "123387 161 0.1424\n",
      "123486 161 0.1424\n",
      "123516 0 0.23144363\n",
      "123516 11 0.6301442\n",
      "123516 13 0.45266616\n",
      "123516 16 0.6412415\n",
      "123516 20 0.031114975\n",
      "123516 29 0.22333422\n",
      "123516 31 0.4223907\n",
      "123516 35 0.32301146\n",
      "123516 36 0.7897148\n",
      "123516 40 0.1523909\n",
      "123516 48 0.81573963\n",
      "123516 73 0.6037579\n",
      "123516 79 0.9135935\n",
      "123516 89 0.5124348\n",
      "123516 120 0.631913\n",
      "123516 123 0.6895636\n",
      "123516 128 0.9156154\n",
      "123516 129 0.116611846\n",
      "123516 131 0.56982565\n",
      "123516 133 0.31725156\n",
      "123516 136 0.503755\n",
      "123516 138 0.86568135\n",
      "123516 140 0.5457679\n",
      "123516 142 0.047899816\n",
      "123516 148 0.44133392\n",
      "123516 149 0.57389045\n",
      "123516 150 0.84764946\n",
      "123516 158 0.0067847134\n",
      "123516 164 0.89440846\n",
      "123516 175 0.42167187\n",
      "123516 176 0.19920893\n",
      "123516 178 0.72675276\n",
      "123516 180 0.42723885\n",
      "123516 183 0.6870436\n",
      "123516 191 0.03134366\n",
      "123516 193 0.06055807\n",
      "123516 198 0.09673738\n",
      "123516 199 0.06383317\n",
      "123516 202 0.85104585\n",
      "123516 204 0.40339857\n",
      "123516 212 0.022916254\n",
      "123516 222 0.5605091\n",
      "123516 224 0.74889904\n",
      "123516 235 0.022928223\n",
      "123516 236 0.35050285\n",
      "123540 19 0.0020283975\n",
      "123928 104 0.6226994\n",
      "123945 80 0.6736316\n",
      "123954 80 0.57332236\n",
      "123962 104 0.6226994\n",
      "123962 192 0.25255623\n",
      "124037 81 0.002050581\n",
      "124037 89 0.9906063\n",
      "124037 125 0.96852154\n",
      "124037 149 0.99772096\n",
      "124037 175 0.94034344\n",
      "124037 180 0.99379575\n",
      "124037 198 0.9290812\n",
      "124072 166 0.20112781\n",
      "124087 90 0.45137805\n",
      "124196 71 0.2618004\n",
      "124196 76 0.7920027\n",
      "124199 71 0.28413793\n",
      "124228 72 0.018571742\n",
      "124257 104 0.6226994\n",
      "Found a zero, is is rank: 166\n",
      "124746 9 0.0\n",
      "124746 15 0.0013003901\n",
      "Found a zero, is is rank: 174\n",
      "124746 18 0.0\n",
      "124746 19 0.0013003901\n",
      "Found a zero, is is rank: 150\n",
      "124746 53 0.0\n",
      "124746 68 0.0078023407\n",
      "Found a zero, is is rank: 225\n",
      "124746 71 0.0\n",
      "124746 75 0.0013003901\n",
      "124746 84 0.0013003901\n",
      "124746 86 0.0013003901\n",
      "124746 93 0.0013003901\n",
      "Found a zero, is is rank: 212\n",
      "124746 98 0.0\n",
      "Found a zero, is is rank: 191\n",
      "124746 103 0.0\n",
      "124746 112 0.0013003901\n",
      "124746 130 0.0013003901\n",
      "124746 160 0.0013003901\n",
      "125125 88 0.61403507\n",
      "Found a zero, is is rank: 207\n",
      "125288 32 0.0\n",
      "Found a zero, is is rank: 229\n",
      "125288 161 0.0\n",
      "Found a zero, is is rank: 158\n",
      "125320 1 0.0\n",
      "125320 59 0.71938056\n",
      "125502 95 0.60135674\n",
      "125502 102 0.53910613\n",
      "125603 17 0.0023180344\n",
      "125822 71 0.11638076\n",
      "125823 71 0.11638076\n",
      "Found a zero, is is rank: 112\n",
      "125843 233 0.0\n",
      "126172 98 0.842027\n",
      "126252 88 0.47046414\n",
      "126252 116 0.40632913\n",
      "126303 59 0.1712\n",
      "126576 56 0.023386437\n",
      "126587 19 0.0020283975\n",
      "126589 19 0.0020283975\n",
      "126599 139 0.33909774\n",
      "126599 141 0.110526316\n",
      "126599 162 0.2736842\n",
      "126599 169 0.3556391\n",
      "126599 170 0.15413533\n",
      "126599 220 0.020300752\n",
      "126608 161 0.1424\n",
      "126644 19 0.0020283975\n",
      "126668 8 0.1544\n",
      "126668 14 0.292\n",
      "126668 32 0.1184\n",
      "126668 161 0.1424\n",
      "126760 19 0.0020283975\n",
      "126766 161 0.1424\n",
      "126781 125 0.065054215\n",
      "126833 105 0.4021753\n",
      "126834 115 0.04856951\n",
      "126852 19 0.0020283975\n",
      "126853 19 0.0020283975\n",
      "126854 19 0.0020283975\n",
      "126993 161 0.1424\n",
      "127194 6 0.12960367\n",
      "127194 11 0.25380856\n",
      "127194 13 0.22292432\n",
      "127194 16 0.35729098\n",
      "127194 29 0.12527388\n",
      "127194 31 0.2279584\n",
      "127194 36 0.3148043\n",
      "127194 48 0.2418903\n",
      "127194 79 0.32858595\n",
      "127194 123 0.38677293\n",
      "127194 131 0.36166757\n",
      "127194 136 0.18349999\n",
      "127194 178 0.3379086\n",
      "127194 180 0.19646001\n",
      "127194 191 0.015993735\n",
      "127194 198 0.13847496\n",
      "127194 199 0.02993751\n",
      "127194 204 0.17599186\n",
      "127194 212 0.010764033\n",
      "127194 236 0.1801882\n",
      "127198 161 0.1424\n",
      "127199 161 0.1424\n",
      "127248 161 0.1424\n",
      "127249 161 0.1424\n",
      "127481 138 0.09235517\n",
      "127554 160 0.11708921\n",
      "127558 19 0.0020283975\n",
      "127909 29 0.22349831\n",
      "127909 31 0.23608081\n",
      "127909 72 0.653947\n",
      "127909 150 0.71282196\n",
      "127909 215 0.24916287\n",
      "127909 218 0.38278532\n",
      "127909 237 0.37945366\n",
      "127910 93 0.048681542\n",
      "127910 130 0.35699797\n",
      "128175 9 0.33284813\n",
      "128175 84 0.6787967\n",
      "128228 71 0.072463766\n",
      "128393 218 0.88557297\n",
      "128706 71 0.26259923\n",
      "128706 84 0.2802232\n",
      "128706 86 0.2016679\n",
      "Found a zero, is is rank: 230\n",
      "128986 78 0.0\n",
      "129050 230 0.22701149\n",
      "129288 73 0.53809524\n",
      "129288 142 0.08571429\n",
      "129288 175 0.17142858\n",
      "129449 35 0.12119002\n",
      "129449 36 0.40318847\n",
      "Found a zero, is is rank: 196\n",
      "129449 51 0.0\n",
      "129449 79 0.5372169\n",
      "129449 128 0.6306385\n",
      "129449 131 0.24449342\n",
      "129449 133 0.112307996\n",
      "129449 138 0.51644546\n",
      "129449 139 0.0037380867\n",
      "129449 141 0.0041986643\n",
      "129449 162 0.057354268\n",
      "129449 170 0.054770295\n",
      "129449 172 0.062040813\n",
      "129449 180 0.1927123\n",
      "129449 204 0.190407\n",
      "129449 205 0.22268008\n",
      "Found a zero, is is rank: 175\n",
      "129449 228 0.0\n"
     ]
    },
    {
     "name": "stdout",
     "output_type": "stream",
     "text": [
      "129450 113 0.91771805\n",
      "129645 221 0.0009272137\n",
      "129713 130 0.35699797\n",
      "129729 105 0.07286346\n",
      "129729 146 0.002857022\n",
      "129729 228 0.011057988\n",
      "129848 0 0.5691297\n",
      "129848 11 0.9899049\n",
      "129848 13 0.9622261\n",
      "Found a zero, is is rank: 152\n",
      "129848 28 0.0\n",
      "129848 31 0.990496\n",
      "129848 35 0.8154011\n",
      "129848 73 0.9656723\n",
      "129848 79 0.9812041\n",
      "129848 89 0.8573348\n",
      "129848 120 0.8761322\n",
      "129848 128 0.8962539\n",
      "129848 129 0.76828814\n",
      "129848 133 0.8117961\n",
      "129848 140 0.94144076\n",
      "129848 142 0.3829718\n",
      "129848 148 0.8826159\n",
      "129848 149 0.9461115\n",
      "129848 154 0.8560844\n",
      "129848 168 0.026229294\n",
      "129848 175 0.7488022\n",
      "129848 176 0.76246834\n",
      "129848 180 0.928277\n",
      "129848 183 0.7130795\n",
      "129848 189 0.69288\n",
      "129848 193 0.6005309\n",
      "129848 198 0.7628571\n",
      "129848 204 0.95772517\n",
      "129848 212 0.29833585\n",
      "129848 214 0.9139958\n",
      "129848 218 0.8809358\n",
      "129848 222 0.7812826\n",
      "129848 236 0.8326931\n",
      "Found a zero, is is rank: 179\n",
      "130078 9 0.0\n",
      "130078 65 0.086294636\n",
      "Found a zero, is is rank: 221\n",
      "130078 71 0.0\n",
      "Found a zero, is is rank: 230\n",
      "130078 103 0.0\n",
      "130078 120 0.06599535\n",
      "130078 155 0.18970017\n",
      "130614 36 0.12942989\n",
      "130614 65 0.05007704\n",
      "130626 0 0.7537817\n",
      "130626 6 0.5635796\n",
      "130626 11 0.97374725\n",
      "Found a zero, is is rank: 109\n",
      "130626 28 0.0\n",
      "130626 31 0.91111714\n",
      "130626 35 0.7561246\n",
      "130626 48 0.88877577\n",
      "130626 73 0.98731005\n",
      "130626 79 0.9872575\n",
      "130626 89 0.87325037\n",
      "130626 123 0.98781425\n",
      "130626 125 0.80309737\n",
      "130626 129 0.30441514\n",
      "130626 133 0.8397755\n",
      "130626 136 0.8570422\n",
      "130626 140 0.93460554\n",
      "130626 142 0.46974432\n",
      "130626 148 0.8135457\n",
      "130626 150 0.92913026\n",
      "130626 154 0.93274343\n",
      "130626 164 0.9696466\n",
      "130626 168 0.12393557\n",
      "130626 176 0.748614\n",
      "130626 183 0.8391844\n",
      "130626 189 0.62028575\n",
      "130626 191 0.13018024\n",
      "130626 193 0.21368997\n",
      "130626 196 0.6748101\n",
      "130626 199 0.28723297\n",
      "130626 202 0.90846336\n",
      "130626 212 0.075155795\n",
      "130626 214 0.9395873\n",
      "130626 218 0.8242423\n",
      "130626 222 0.8536415\n",
      "130626 224 0.9752529\n",
      "130626 236 0.8099973\n",
      "130760 9 0.6984141\n",
      "130760 93 0.35237497\n",
      "130827 164 0.5154185\n",
      "130828 13 0.027836356\n",
      "130828 31 0.020244623\n",
      "130868 30 0.00015453562\n",
      "130868 81 0.0013908206\n",
      "130868 106 0.00015453562\n",
      "130918 46 0.47973758\n",
      "131102 9 0.33284813\n",
      "131413 92 0.0024543446\n",
      "131413 165 0.25429142\n",
      "131413 177 0.5506438\n",
      "131450 88 0.61403507\n",
      "131456 15 0.022582278\n",
      "131456 70 0.62892\n",
      "131708 218 0.4620565\n",
      "131708 224 0.8545552\n",
      "131820 137 0.07493062\n",
      "132038 79 0.25\n",
      "Found a zero, is is rank: 194\n",
      "132038 105 0.0\n",
      "132087 71 0.28413793\n",
      "132092 141 0.90574366\n",
      "132168 165 0.37226278\n",
      "132317 82 0.0021270132\n",
      "132317 90 0.001823154\n",
      "132317 103 0.001823154\n",
      "132502 104 0.6230664\n",
      "132525 35 0.12634045\n",
      "132562 65 0.05007704\n",
      "132584 74 0.0015337423\n",
      "132651 8 0.41751587\n",
      "132651 161 0.49574593\n",
      "Found a zero, is is rank: 166\n",
      "132840 9 0.0\n",
      "132840 19 0.0013003901\n",
      "Found a zero, is is rank: 135\n",
      "132840 38 0.0\n",
      "132840 68 0.0078023407\n",
      "Found a zero, is is rank: 225\n",
      "132840 71 0.0\n",
      "132840 75 0.0013003901\n",
      "132840 84 0.0013003901\n",
      "132840 86 0.0013003901\n",
      "132840 93 0.0013003901\n",
      "Found a zero, is is rank: 212\n",
      "132840 98 0.0\n",
      "Found a zero, is is rank: 191\n",
      "132840 103 0.0\n",
      "132840 112 0.0013003901\n",
      "132840 130 0.0013003901\n",
      "132944 71 0.11638076\n",
      "133103 88 0.61403507\n",
      "133149 71 0.21998113\n",
      "133402 36 0.67273384\n",
      "133402 69 0.016630318\n",
      "133402 89 0.6295909\n",
      "133402 129 0.083018035\n",
      "133402 142 0.03902469\n",
      "133402 175 0.2309322\n",
      "133402 193 0.03478423\n",
      "133402 218 0.35753843\n",
      "133425 161 0.1424\n",
      "133465 62 0.9729508\n",
      "Found a zero, is is rank: 144\n",
      "133494 192 0.0\n",
      "133527 161 0.1424\n",
      "133649 160 0.11708921\n",
      "133649 171 0.08424337\n",
      "133667 225 0.5\n",
      "133701 155 0.55032206\n",
      "133702 0 0.96592575\n",
      "Found a zero, is is rank: 154\n",
      "133702 28 0.0\n",
      "133702 48 0.99554485\n",
      "133702 150 0.9983835\n",
      "133702 164 0.9998201\n",
      "133702 168 0.12421818\n",
      "133702 175 0.9881665\n",
      "133702 183 0.9827397\n",
      "133702 214 0.99895805\n",
      "133910 161 0.1424\n",
      "133955 9 0.016364662\n",
      "133955 19 0.0012658228\n",
      "133955 86 0.01833977\n",
      "133962 125 0.065054215\n",
      "134209 13 0.02258727\n",
      "134209 20 0.31211498\n",
      "134209 129 0.014373717\n",
      "Found a zero, is is rank: 89\n",
      "134209 142 0.0\n",
      "134209 212 0.0041067763\n",
      "134520 172 0.03854083\n",
      "134561 231 0.00015453562\n",
      "134598 105 0.44434494\n",
      "134689 224 0.043844856\n",
      "134735 0 0.9737041\n",
      "Found a zero, is is rank: 152\n",
      "134735 28 0.0\n",
      "134735 81 0.0039027515\n",
      "134735 105 0.094954066\n",
      "134735 129 0.8718102\n",
      "134735 168 0.19559143\n",
      "134735 183 0.996185\n",
      "134735 191 0.5456753\n",
      "134735 202 0.9998771\n",
      "134735 236 0.9893913\n",
      "134937 9 0.04368175\n",
      "134937 80 0.063182525\n",
      "134937 83 0.052652106\n",
      "134937 91 0.056942277\n",
      "134937 94 0.070202805\n",
      "135321 82 0.78181624\n",
      "135321 91 0.9408384\n",
      "135321 172 0.33642253\n",
      "135805 82 0.012658228\n",
      "135805 90 0.010548524\n",
      "135805 103 0.015611814\n",
      "135929 82 0.022705033\n",
      "135929 90 0.022727646\n",
      "135929 103 0.02174879\n",
      "136120 31 0.04561852\n",
      "136302 172 0.008970358\n",
      "136372 74 0.0021527542\n",
      "136372 239 0.0010224949\n",
      "136512 74 0.0021527542\n",
      "136725 161 0.5273632\n",
      "136810 74 0.0021527542\n",
      "136810 239 0.0010224949\n",
      "136811 74 0.0006199628\n",
      "Found a zero, is is rank: 101\n",
      "136811 239 0.0\n",
      "136898 74 0.0021527542\n",
      "136898 239 0.0010224949\n",
      "137024 74 0.0021527542\n",
      "137127 0 0.7797469\n",
      "137127 129 0.4116982\n",
      "137127 133 0.881195\n",
      "137127 138 0.9999714\n",
      "137127 149 0.9709628\n",
      "137127 172 0.07745134\n",
      "137127 175 0.7547341\n",
      "137127 193 0.332481\n",
      "137281 105 0.010843435\n",
      "137281 172 0.022402646\n",
      "137457 9 0.0008992806\n",
      "137457 38 0.0004496403\n",
      "137457 68 0.0004496403\n",
      "137457 71 0.0013489209\n",
      "137457 75 0.0017985612\n",
      "137457 84 0.0013489209\n",
      "137457 93 0.027428057\n",
      "137457 112 0.0008992806\n",
      "137576 161 0.5273632\n",
      "137661 8 0.5124378\n",
      "137661 14 0.60199004\n",
      "137661 161 0.5273632\n",
      "137661 166 0.7363184\n",
      "137888 74 0.0021527542\n",
      "137888 239 0.0010224949\n",
      "138043 74 0.0021527542\n",
      "138043 239 0.0010224949\n",
      "138057 74 0.0021527542\n",
      "138057 239 0.0010224949\n",
      "138184 125 0.560334\n",
      "138184 175 0.41931146\n",
      "138184 180 0.7767171\n",
      "Found a zero, is is rank: 146\n",
      "138295 50 0.0\n",
      "138383 74 0.0021527542\n",
      "138383 239 0.0010224949\n",
      "138403 193 0.019205654\n",
      "138549 74 0.0021527542\n",
      "138673 78 0.5422147\n",
      "138696 126 0.020809248\n",
      "138701 55 0.019148936\n",
      "138719 14 0.60199004\n",
      "138719 59 0.19402985\n",
      "138719 161 0.5273632\n",
      "138719 166 0.7363184\n",
      "138740 74 0.0021527542\n",
      "138740 239 0.0010224949\n",
      "138925 65 0.09840506\n",
      "138935 193 0.019205654\n",
      "138940 82 0.79110014\n",
      "138940 90 0.8195303\n",
      "139247 74 0.0021527542\n",
      "139247 239 0.0010224949\n",
      "139297 74 0.0021527542\n",
      "139297 239 0.0010224949\n",
      "139405 93 0.59156305\n",
      "139412 74 0.0021527542\n",
      "139412 239 0.0010224949\n",
      "139504 83 0.9261825\n",
      "139505 105 0.07104316\n",
      "139628 78 0.5422147\n",
      "139835 72 0.9976411\n",
      "139835 172 0.14976084\n",
      "140031 91 0.8304915\n",
      "140067 127 0.6892202\n",
      "140172 166 0.9873129\n",
      "140272 76 0.30935678\n",
      "140403 231 0.05263158\n",
      "140530 127 0.6892202\n",
      "140531 127 0.6892202\n",
      "140594 116 0.40632913\n",
      "140915 125 0.11735507\n",
      "Found a zero, is is rank: 210\n",
      "140957 127 0.0\n",
      "140957 165 0.0022271716\n",
      "140957 177 0.0022271716\n",
      "141166 105 0.07104316\n",
      "141756 150 0.5302115\n",
      "141890 127 0.6892202\n",
      "141896 105 0.07104316\n",
      "141897 105 0.07104316\n",
      "141934 105 0.07104316\n",
      "141938 127 0.6892202\n",
      "Found a zero, is is rank: 154\n",
      "141971 28 0.0\n",
      "141971 142 0.6070916\n",
      "141971 175 0.97429776\n",
      "141971 183 0.98793894\n",
      "141971 189 0.9649229\n",
      "141971 193 0.7190666\n",
      "141971 202 0.99904746\n",
      "141971 212 0.39131147\n",
      "141971 222 0.994182\n",
      "141972 142 0.28247237\n",
      "142011 105 0.07104316\n",
      "142033 165 0.25429142\n",
      "142033 177 0.5506438\n",
      "142052 127 0.6892202\n",
      "142087 36 0.35578328\n",
      "142087 69 0.0022099447\n",
      "142087 142 0.024291499\n",
      "142087 144 0.6984633\n",
      "142087 158 0.2659673\n",
      "142087 159 0.22084685\n",
      "142087 167 0.43664303\n",
      "142087 175 0.1297821\n",
      "142120 105 0.07104316\n",
      "142167 136 0.2011837\n",
      "142167 191 0.015310201\n",
      "142167 199 0.034035347\n",
      "142172 78 0.5422147\n",
      "142290 138 0.4296636\n",
      "142312 105 0.07104316\n",
      "142452 0 0.9559355\n",
      "Found a zero, is is rank: 152\n",
      "142452 28 0.0\n",
      "142452 40 0.64403445\n",
      "142452 79 0.9999933\n",
      "142452 136 0.9967997\n",
      "142452 142 0.8014208\n",
      "142452 150 0.99888635\n",
      "142452 164 0.9998086\n",
      "142452 168 0.34122786\n",
      "142452 214 0.99835974\n",
      "142465 165 0.25429142\n",
      "142465 177 0.5506438\n",
      "142466 165 0.25429142\n",
      "142466 177 0.5506438\n",
      "142467 165 0.25429142\n",
      "142467 177 0.5506438\n",
      "142474 105 0.07104316\n",
      "142475 160 0.08034322\n",
      "142480 105 0.07104316\n",
      "142520 105 0.07104316\n",
      "142521 105 0.07104316\n",
      "142570 105 0.07104316\n",
      "142599 127 0.6892202\n",
      "142600 127 0.6892202\n",
      "142613 91 0.8401437\n",
      "142633 105 0.07104316\n",
      "142634 105 0.07104316\n",
      "142636 105 0.07104316\n",
      "142685 105 0.07104316\n",
      "142974 13 0.83736014\n",
      "142974 123 0.94107807\n",
      "142992 50 0.0055849226\n",
      "143184 224 0.9132428\n",
      "143306 91 0.8401437\n",
      "143336 105 0.07104316\n",
      "143405 236 0.039071698\n",
      "143477 105 0.07104316\n",
      "143522 95 0.61496705\n",
      "143522 100 0.52384645\n",
      "Found a zero, is is rank: 137\n",
      "143554 206 0.0\n",
      "143612 105 0.07104316\n",
      "143620 95 0.60135674\n",
      "143620 102 0.53910613\n",
      "143852 105 0.06340183\n",
      "143852 130 0.009182335\n",
      "143904 105 0.07104316\n",
      "143990 8 0.38636363\n",
      "144148 32 0.81276524\n",
      "144180 144 0.96983147\n",
      "144229 80 0.6207448\n",
      "144483 50 0.000607718\n",
      "144917 91 0.8401437\n",
      "144963 172 0.02394015\n",
      "145216 91 0.8401437\n",
      "145389 83 0.052652106\n",
      "145716 120 0.06960082\n",
      "145717 120 0.06960082\n",
      "145774 99 0.0025146925\n"
     ]
    },
    {
     "name": "stdout",
     "output_type": "stream",
     "text": [
      "Found a zero, is is rank: 144\n",
      "145774 192 0.0\n",
      "145971 120 0.06960082\n",
      "146046 120 0.06960082\n",
      "Found a zero, is is rank: 144\n",
      "146166 192 0.0\n",
      "Found a zero, is is rank: 144\n",
      "146175 192 0.0\n",
      "146497 76 0.7025029\n",
      "146497 98 0.49936268\n",
      "146526 150 0.15250544\n",
      "146539 84 0.4566455\n",
      "146815 105 0.04793028\n",
      "146815 150 0.15250544\n",
      "146815 205 0.6928105\n",
      "147309 17 0.0015262404\n",
      "147585 11 0.8406862\n",
      "147585 16 0.83800745\n",
      "Found a zero, is is rank: 202\n",
      "147585 28 0.0\n",
      "147585 31 0.64931697\n",
      "147585 35 0.5412317\n",
      "147585 36 0.8479864\n",
      "147585 40 0.09406178\n",
      "147585 48 0.6002006\n",
      "147585 73 0.70894545\n",
      "147585 79 0.86068374\n",
      "147585 125 0.46431074\n",
      "147585 131 0.87483466\n",
      "147585 133 0.6546023\n",
      "147585 136 0.5271503\n",
      "147585 142 0.06812394\n",
      "147585 148 0.51392037\n",
      "147585 149 0.7207496\n",
      "147585 150 0.6056436\n",
      "147585 164 0.7909829\n",
      "147585 175 0.3399573\n",
      "147585 183 0.41757208\n",
      "147585 212 0.03116683\n",
      "147585 214 0.59760296\n",
      "147585 224 0.8482135\n",
      "147585 236 0.6084627\n",
      "147914 99 0.0025146925\n",
      "Found a zero, is is rank: 144\n",
      "147914 192 0.0\n",
      "147929 79 0.104781285\n",
      "147929 133 0.03280773\n",
      "147931 0 0.9927972\n",
      "147931 13 0.99998605\n",
      "Found a zero, is is rank: 153\n",
      "147931 28 0.0\n",
      "147931 128 0.9999999\n",
      "147931 158 0.6162098\n",
      "147931 159 0.48867854\n",
      "147931 168 0.38715073\n",
      "147931 183 0.99927837\n",
      "147931 194 0.8320067\n",
      "148000 120 0.06960082\n",
      "148218 204 0.3224943\n",
      "148223 228 0.9968254\n",
      "148256 6 0.0011080332\n",
      "148378 91 0.8401437\n",
      "148795 175 0.0149532715\n",
      "148826 0 0.9675083\n",
      "148826 40 0.67629796\n",
      "148826 194 0.31135577\n",
      "148826 214 0.9999614\n",
      "148826 215 0.9470989\n",
      "149018 95 0.60135674\n",
      "149018 102 0.53910613\n",
      "149396 2 0.001980198\n",
      "149430 84 0.25788566\n",
      "149430 172 0.047165465\n",
      "149456 6 0.032819044\n",
      "149456 25 0.010993223\n",
      "149456 29 0.08691245\n",
      "149456 35 0.06283703\n",
      "149456 48 0.18884459\n",
      "149456 65 0.016298193\n",
      "149456 79 0.22091489\n",
      "149456 133 0.07282804\n",
      "149456 138 0.34893575\n",
      "149456 165 0.531891\n",
      "149456 180 0.092896186\n",
      "149456 198 0.03475576\n",
      "149456 205 0.085251175\n",
      "149456 224 0.18292333\n",
      "Found a zero, is is rank: 160\n",
      "149456 228 0.0\n",
      "149456 235 0.0074986718\n",
      "Found a zero, is is rank: 233\n",
      "149524 81 0.0\n",
      "149545 82 0.4643678\n",
      "149545 90 0.6114896\n",
      "149545 103 0.40507078\n",
      "149545 105 0.5463755\n",
      "149545 206 0.0021946235\n",
      "149641 105 0.5925084\n",
      "149864 76 0.97753906\n",
      "149864 84 0.9524591\n",
      "149864 90 0.91583824\n",
      "149864 93 0.52781206\n",
      "150098 19 0.04556198\n",
      "150179 93 0.3616493\n",
      "150179 105 0.28985026\n",
      "150294 71 0.2194399\n",
      "150331 84 0.7619477\n",
      "Found a zero, is is rank: 191\n",
      "150392 21 0.0\n",
      "Found a zero, is is rank: 170\n",
      "150400 17 0.0\n",
      "150423 108 0.002141543\n",
      "150649 127 0.98772055\n",
      "150666 15 0.31702778\n",
      "150666 76 0.30662358\n",
      "150824 71 0.092874296\n",
      "150824 76 0.7882306\n",
      "150824 86 0.08006405\n",
      "Found a zero, is is rank: 75\n",
      "150889 227 0.0\n",
      "150998 76 0.6781421\n",
      "151005 206 0.0004918839\n",
      "151015 125 0.067669176\n",
      "151177 105 0.27783486\n",
      "151191 91 0.2906661\n",
      "151234 121 0.54967207\n",
      "151269 121 0.54967207\n",
      "151350 18 0.50105715\n",
      "151350 19 0.075373285\n",
      "151350 68 0.7722892\n",
      "151350 91 0.94050676\n",
      "151350 94 0.88343513\n",
      "151350 112 0.6965794\n",
      "151367 91 0.9400905\n",
      "151367 94 0.8836571\n",
      "151367 105 0.5746169\n",
      "151508 20 0.0006181425\n",
      "151508 235 0.00046360685\n",
      "151542 33 0.0013816921\n",
      "Found a zero, is is rank: 182\n",
      "151542 34 0.0\n",
      "151589 105 0.007881316\n",
      "151648 35 0.026194144\n",
      "151854 105 0.017383486\n",
      "151859 9 0.0072631743\n",
      "151859 19 0.0007726781\n",
      "151859 71 0.0035543193\n",
      "151859 84 0.006954103\n",
      "151859 105 0.007881316\n",
      "151859 160 0.0010817493\n",
      "151923 50 0.0027437368\n",
      "151969 88 0.0014058107\n",
      "151978 40 0.003646308\n",
      "152127 121 0.54967207\n",
      "152314 75 0.85845566\n",
      "152520 58 0.04292078\n",
      "152629 27 0.08950617\n",
      "152629 134 0.1090535\n",
      "152705 235 0.004040404\n",
      "152764 121 0.3145292\n",
      "153125 146 0.2566597\n",
      "153125 172 0.21790054\n",
      "153140 171 0.5569228\n",
      "153200 53 0.06835722\n",
      "153200 71 0.123484015\n",
      "153200 76 0.13671444\n",
      "153200 80 0.04520397\n",
      "153200 84 0.64829105\n",
      "153200 98 0.13009922\n",
      "153214 105 0.04944376\n",
      "153214 146 0.021013597\n",
      "153221 165 0.000655308\n",
      "153402 137 0.07493062\n",
      "153494 30 0.00096736\n",
      "153494 81 0.009783117\n",
      "153542 56 0.02580416\n",
      "153542 105 0.6042458\n",
      "153542 171 0.6117789\n",
      "153565 84 0.36155757\n",
      "153604 50 0.004062082\n",
      "153647 139 0.9175883\n",
      "153700 14 0.13063909\n",
      "153700 166 0.20112781\n",
      "153783 198 0.00015453562\n",
      "153971 18 0.5073649\n",
      "153971 38 0.5799116\n",
      "153971 94 0.96275055\n",
      "153980 162 0.36734694\n",
      "153980 170 0.516129\n",
      "153980 220 0.1915734\n",
      "154000 53 0.0059594754\n",
      "154000 76 0.007151371\n",
      "154000 98 0.0059594754\n",
      "154172 76 0.897136\n",
      "154207 160 0.14058067\n",
      "Found a zero, is is rank: 157\n",
      "154232 50 0.0\n",
      "154275 99 0.7551147\n",
      "154275 192 0.416615\n",
      "154355 50 0.000607718\n",
      "154420 99 0.7551147\n",
      "154484 39 0.012652889\n",
      "154533 88 0.47193712\n",
      "154533 116 0.40843922\n",
      "154613 39 0.012652889\n",
      "Found a zero, is is rank: 159\n",
      "154654 30 0.0\n",
      "154654 81 0.004454343\n",
      "154799 76 0.7882306\n",
      "154799 80 0.35388312\n",
      "Found a zero, is is rank: 199\n",
      "154841 119 0.0\n",
      "154901 105 0.4727784\n",
      "155264 39 0.012652889\n",
      "155306 0 0.63327104\n",
      "155306 48 0.7520346\n",
      "155306 109 0.7122258\n",
      "155306 168 0.071416244\n",
      "155306 214 0.9452924\n",
      "Found a zero, is is rank: 240\n",
      "155596 106 0.0\n",
      "155596 216 0.012645914\n",
      "155644 86 0.44580308\n",
      "155680 27 0.0055632824\n",
      "155680 134 0.006181425\n",
      "155703 165 0.0023660485\n",
      "155796 180 0.74471265\n",
      "155796 183 0.77413356\n",
      "155840 36 0.96382374\n",
      "155840 175 0.5076486\n",
      "155862 138 0.13028954\n",
      "155951 165 0.25429142\n",
      "155951 177 0.5506438\n",
      "155986 170 0.77974117\n",
      "156116 161 0.1424\n",
      "156140 161 0.1424\n",
      "156159 171 0.49229375\n",
      "156264 161 0.1424\n",
      "156267 161 0.1424\n",
      "156268 161 0.1424\n",
      "156284 161 0.1424\n",
      "156291 161 0.1424\n",
      "156367 95 0.60135674\n",
      "156367 102 0.53910613\n",
      "156476 76 0.102130555\n",
      "156476 98 0.106925584\n",
      "156547 161 0.1424\n",
      "156555 127 0.03851554\n",
      "156555 165 0.00060422963\n",
      "156555 177 0.01578948\n",
      "156611 161 0.1424\n",
      "156612 161 0.1424\n",
      "156672 52 0.073393844\n",
      "156672 127 0.056288686\n",
      "Found a zero, is is rank: 32\n",
      "156672 165 0.0\n",
      "156672 177 0.016795037\n",
      "156704 161 0.1424\n",
      "156727 52 0.05281566\n",
      "156727 127 0.03978149\n",
      "156727 165 0.00060422963\n",
      "156727 177 0.016437415\n",
      "Found a zero, is is rank: 160\n",
      "156733 1 0.0\n",
      "156805 161 0.1424\n",
      "156904 138 0.13028954\n",
      "157114 161 0.1424\n"
     ]
    }
   ],
   "source": [
    "for j,k in zip(*test.toarray().nonzero()):\n",
    "    value = lc_preds[j,k]\n",
    "    if value==0:\n",
    "        one = (-lc_preds.toarray()[j]).argsort()\n",
    "        two = one.argsort()\n",
    "        print('Found a zero, is is rank:',two[k])\n",
    "    print(j,k, value)"
   ]
  },
  {
   "cell_type": "code",
   "execution_count": 330,
   "metadata": {},
   "outputs": [
    {
     "data": {
      "text/plain": [
       "array([[3., 1., 4., 2., 0.],\n",
       "       [0., 1., 2., 3., 4.]])"
      ]
     },
     "execution_count": 330,
     "metadata": {},
     "output_type": "execute_result"
    }
   ],
   "source": [
    "a = np.array([[4,2,7,2,1],[1,2,3,4,5]])\n",
    "rank = a.argsort(axis=1).argsort(axis=1)\n",
    "\n",
    "unique, inverse = np.unique(a, return_inverse = True, axis=0)\n",
    "\n",
    "unique_rank_sum = np.zeros_like(unique)\n",
    "np.add.at(unique_rank_sum, inverse, rank)\n",
    "unique_count = np.zeros_like(unique)\n",
    "np.add.at(unique_count, inverse, 1)\n",
    "\n",
    "unique_rank_mean = unique_rank_sum.astype(np.float) / unique_count\n",
    "\n",
    "rank_mean = unique_rank_mean[inverse]\n",
    "\n",
    "rank_mean"
   ]
  },
  {
   "cell_type": "code",
   "execution_count": 334,
   "metadata": {},
   "outputs": [
    {
     "data": {
      "text/plain": [
       "array([[1, 2, 2, 4, 7],\n",
       "       [5, 2, 4, 1, 3]])"
      ]
     },
     "execution_count": 334,
     "metadata": {},
     "output_type": "execute_result"
    }
   ],
   "source": [
    "unique, inverse = np.unique(a, return_inverse = True, axis=1)\n",
    "unique"
   ]
  },
  {
   "cell_type": "code",
   "execution_count": 337,
   "metadata": {},
   "outputs": [
    {
     "ename": "IndexError",
     "evalue": "index 3 is out of bounds for axis 0 with size 2",
     "output_type": "error",
     "traceback": [
      "\u001b[0;31m---------------------------------------------------------------------------\u001b[0m",
      "\u001b[0;31mIndexError\u001b[0m                                Traceback (most recent call last)",
      "\u001b[0;32m<ipython-input-337-26718a50488f>\u001b[0m in \u001b[0;36m<module>\u001b[0;34m\u001b[0m\n\u001b[1;32m      1\u001b[0m \u001b[0munique_rank_sum\u001b[0m \u001b[0;34m=\u001b[0m \u001b[0mnp\u001b[0m\u001b[0;34m.\u001b[0m\u001b[0mzeros_like\u001b[0m\u001b[0;34m(\u001b[0m\u001b[0munique\u001b[0m\u001b[0;34m)\u001b[0m\u001b[0;34m\u001b[0m\u001b[0;34m\u001b[0m\u001b[0m\n\u001b[0;32m----> 2\u001b[0;31m \u001b[0mnp\u001b[0m\u001b[0;34m.\u001b[0m\u001b[0madd\u001b[0m\u001b[0;34m.\u001b[0m\u001b[0mat\u001b[0m\u001b[0;34m(\u001b[0m\u001b[0munique_rank_sum\u001b[0m\u001b[0;34m,\u001b[0m \u001b[0minverse\u001b[0m\u001b[0;34m,\u001b[0m \u001b[0mrank\u001b[0m\u001b[0;34m)\u001b[0m\u001b[0;34m\u001b[0m\u001b[0;34m\u001b[0m\u001b[0m\n\u001b[0m\u001b[1;32m      3\u001b[0m \u001b[0munique_rank_sum\u001b[0m\u001b[0;34m\u001b[0m\u001b[0;34m\u001b[0m\u001b[0m\n",
      "\u001b[0;31mIndexError\u001b[0m: index 3 is out of bounds for axis 0 with size 2"
     ]
    }
   ],
   "source": [
    "unique_rank_sum = np.zeros_like(unique)\n",
    "np.add.at(unique_rank_sum, inverse, rank)\n",
    "unique_rank_sum"
   ]
  },
  {
   "cell_type": "code",
   "execution_count": 332,
   "metadata": {},
   "outputs": [
    {
     "name": "stdout",
     "output_type": "stream",
     "text": [
      "-0.0\n"
     ]
    }
   ],
   "source": [
    "print(-lc_preds.toarray()[0][227])\n",
    "one = (-lc_preds.toarray()[0]).argsort()\n",
    "two = one.argsort()\n",
    "\n"
   ]
  },
  {
   "cell_type": "code",
   "execution_count": 305,
   "metadata": {},
   "outputs": [
    {
     "data": {
      "text/plain": [
       "212"
      ]
     },
     "execution_count": 305,
     "metadata": {},
     "output_type": "execute_result"
    }
   ],
   "source": []
  },
  {
   "cell_type": "code",
   "execution_count": 306,
   "metadata": {},
   "outputs": [
    {
     "data": {
      "text/plain": [
       "array([208, 215, 210, 227, 223, 219, 220, 230, 233, 234, 240, 207, 213,\n",
       "       211, 205, 203, 214, 218, 235, 232, 226, 225, 239, 217, 221, 222,\n",
       "       224, 228, 241, 231, 236, 238, 229, 204, 209, 212, 216, 202, 206,\n",
       "       237, 242])"
      ]
     },
     "execution_count": 306,
     "metadata": {},
     "output_type": "execute_result"
    }
   ],
   "source": [
    "two[(-lc_preds.toarray()[0]==0)]"
   ]
  },
  {
   "cell_type": "code",
   "execution_count": 238,
   "metadata": {},
   "outputs": [
    {
     "data": {
      "text/plain": [
       "<matplotlib.collections.PathCollection at 0x121e195d0>"
      ]
     },
     "execution_count": 238,
     "metadata": {},
     "output_type": "execute_result"
    },
    {
     "data": {
      "image/png": "[encoded data removed]",
      "text/plain": [
       "<Figure size 432x288 with 1 Axes>"
      ]
     },
     "metadata": {
      "needs_background": "light"
     },
     "output_type": "display_data"
    }
   ],
   "source": [
    "plt.scatter((-lc_preds.toarray()[0]).argsort(), (-lc_preds.toarray()[0]))"
   ]
  },
  {
   "cell_type": "code",
   "execution_count": 256,
   "metadata": {},
   "outputs": [
    {
     "data": {
      "text/plain": [
       "<matplotlib.collections.PathCollection at 0x116bba710>"
      ]
     },
     "execution_count": 256,
     "metadata": {},
     "output_type": "execute_result"
    },
    {
     "data": {
      "image/png": "[encoded data removed]",
      "text/plain": [
       "<Figure size 432x288 with 1 Axes>"
      ]
     },
     "metadata": {
      "needs_background": "light"
     },
     "output_type": "display_data"
    }
   ],
   "source": [
    "from scipy.stats import rankdata\n",
    "\n",
    "plt.scatter(rankdata(-lc_preds.toarray()[0]), (-lc_preds.toarray()[0]))"
   ]
  },
  {
   "cell_type": "code",
   "execution_count": 367,
   "metadata": {},
   "outputs": [
    {
     "data": {
      "text/plain": [
       "array([[ 68. , 223. , 223. , ...,  89. , 223. , 223. ],\n",
       "       [152.5, 152.5, 152.5, ..., 152.5, 152.5, 152.5],\n",
       "       [163.5, 163.5, 163.5, ..., 163.5, 163.5, 163.5],\n",
       "       ...,\n",
       "       [129. , 129. , 129. , ..., 129. , 129. , 129. ],\n",
       "       [129. , 129. , 129. , ..., 129. , 129. , 129. ],\n",
       "       [126. , 126. , 126. , ..., 126. , 126. , 126. ]])"
      ]
     },
     "execution_count": 367,
     "metadata": {},
     "output_type": "execute_result"
    }
   ],
   "source": [
    "from scipy.stats.mstats import rankdata\n",
    "rankdata(-lc_preds.toarray()[:13000], axis=1)"
   ]
  },
  {
   "cell_type": "code",
   "execution_count": 370,
   "metadata": {},
   "outputs": [],
   "source": [
    "rm = np.array(test.sum(axis=1)>0).reshape(-1,)"
   ]
  },
  {
   "cell_type": "code",
   "execution_count": 372,
   "metadata": {},
   "outputs": [
    {
     "data": {
      "text/plain": [
       "<337951x243 sparse matrix of type '<class 'numpy.float64'>'\n",
       "\twith 11430 stored elements in Compressed Sparse Row format>"
      ]
     },
     "execution_count": 372,
     "metadata": {},
     "output_type": "execute_result"
    }
   ],
   "source": [
    "test"
   ]
  },
  {
   "cell_type": "code",
   "execution_count": 347,
   "metadata": {},
   "outputs": [
    {
     "name": "stdout",
     "output_type": "stream",
     "text": [
      "569 ms ± 27.9 ms per loop (mean ± std. dev. of 7 runs, 1 loop each)\n"
     ]
    }
   ],
   "source": [
    "%%timeit\n",
    "rm_ranked = rankdata(-lc_preds.toarray()[rm], axis=1)"
   ]
  },
  {
   "cell_type": "code",
   "execution_count": 339,
   "metadata": {},
   "outputs": [],
   "source": [
    "trm = test.toarray()[rm].astype(bool)"
   ]
  },
  {
   "cell_type": "code",
   "execution_count": 380,
   "metadata": {},
   "outputs": [
    {
     "data": {
      "text/plain": [
       "array([[0., 0., 0., ..., 0., 0., 0.],\n",
       "       [0., 0., 0., ..., 0., 0., 0.],\n",
       "       [0., 0., 0., ..., 0., 0., 0.],\n",
       "       ...,\n",
       "       [0., 0., 0., ..., 0., 0., 0.],\n",
       "       [0., 0., 0., ..., 0., 0., 0.],\n",
       "       [0., 0., 0., ..., 0., 0., 0.]])"
      ]
     },
     "execution_count": 380,
     "metadata": {},
     "output_type": "execute_result"
    }
   ],
   "source": [
    "test.toarray()[rm]"
   ]
  },
  {
   "cell_type": "code",
   "execution_count": 382,
   "metadata": {},
   "outputs": [
    {
     "data": {
      "text/plain": [
       "array([[False, False, False, ..., False, False, False],\n",
       "       [False, False, False, ..., False, False, False],\n",
       "       [False, False, False, ..., False, False, False],\n",
       "       ...,\n",
       "       [False, False, False, ..., False, False, False],\n",
       "       [False, False, False, ..., False, False, False],\n",
       "       [False, False, False, ..., False, False, False]])"
      ]
     },
     "execution_count": 382,
     "metadata": {},
     "output_type": "execute_result"
    }
   ],
   "source": [
    "trm"
   ]
  },
  {
   "cell_type": "code",
   "execution_count": 381,
   "metadata": {},
   "outputs": [
    {
     "data": {
      "text/plain": [
       "array([[ 68. , 223. , 223. , ...,  89. , 223. , 223. ],\n",
       "       [135.5, 135.5, 135.5, ..., 135.5, 135.5, 135.5],\n",
       "       [139.5, 139.5, 139.5, ..., 139.5, 139.5, 139.5],\n",
       "       ...,\n",
       "       [132. , 132. , 132. , ..., 132. , 132. , 132. ],\n",
       "       [ 58. , 186.5, 186.5, ..., 123.5, 186.5, 186.5],\n",
       "       [132. , 132. , 132. , ..., 132. , 132. , 132. ]])"
      ]
     },
     "execution_count": 381,
     "metadata": {},
     "output_type": "execute_result"
    }
   ],
   "source": [
    "rm_ranked"
   ]
  },
  {
   "cell_type": "code",
   "execution_count": 386,
   "metadata": {},
   "outputs": [],
   "source": [
    "def bapbap(predictions, test):\n",
    "    \n",
    "    row_mask = np.array(test.sum(axis=1)>0).reshape(-1,)\n",
    "    test_masked = test[row_mask]\n",
    "    get_ranks = test_masked.toarray().astype(bool) #this will select using boolean all test ranks.\n",
    "\n",
    "    #rankdata approach, which correctly handles ties:\n",
    "    prediction_ranks = rankdata(-predictions[row_mask], axis=1)\n",
    "\n",
    "    #all ranks:\n",
    "    prediction_ranks[get_ranks]\n",
    "    return prediction_ranks"
   ]
  },
  {
   "cell_type": "code",
   "execution_count": 397,
   "metadata": {},
   "outputs": [
    {
     "data": {
      "text/plain": [
       "array([ True, False, False, ..., False, False, False])"
      ]
     },
     "execution_count": 397,
     "metadata": {},
     "output_type": "execute_result"
    }
   ],
   "source": [
    "row_mask = np.array(test.sum(axis=1)>0).reshape(-1,)\n",
    "row_mask"
   ]
  },
  {
   "cell_type": "code",
   "execution_count": 398,
   "metadata": {
    "scrolled": true
   },
   "outputs": [
    {
     "data": {
      "text/plain": [
       "<1164x243 sparse matrix of type '<class 'numpy.float64'>'\n",
       "\twith 2494 stored elements in Compressed Sparse Row format>"
      ]
     },
     "execution_count": 398,
     "metadata": {},
     "output_type": "execute_result"
    }
   ],
   "source": [
    "test_masked = test[row_mask]\n",
    "test_masked"
   ]
  },
  {
   "cell_type": "code",
   "execution_count": 402,
   "metadata": {},
   "outputs": [
    {
     "data": {
      "text/plain": [
       "array([[False, False, False, ..., False, False, False],\n",
       "       [False, False, False, ..., False, False, False],\n",
       "       [False, False, False, ..., False, False, False],\n",
       "       ...,\n",
       "       [False, False, False, ..., False, False, False],\n",
       "       [False, False, False, ..., False, False, False],\n",
       "       [False, False, False, ..., False, False, False]])"
      ]
     },
     "execution_count": 402,
     "metadata": {},
     "output_type": "execute_result"
    }
   ],
   "source": [
    "get_ranks = test_masked.toarray().astype(bool)\n",
    "get_ranks"
   ]
  },
  {
   "cell_type": "code",
   "execution_count": 406,
   "metadata": {},
   "outputs": [
    {
     "data": {
      "text/plain": [
       "array([[-0.2885058 , -0.        , -0.        , ..., -0.07072667,\n",
       "        -0.        , -0.        ],\n",
       "       [-0.        , -0.        , -0.        , ..., -0.        ,\n",
       "        -0.        , -0.        ],\n",
       "       [-0.        , -0.        , -0.        , ..., -0.        ,\n",
       "        -0.        , -0.        ],\n",
       "       ...,\n",
       "       [-0.        , -0.        , -0.        , ..., -0.        ,\n",
       "        -0.        , -0.        ],\n",
       "       [-0.00668151, -0.        , -0.        , ..., -0.0003712 ,\n",
       "        -0.        , -0.        ],\n",
       "       [-0.        , -0.        , -0.        , ..., -0.        ,\n",
       "        -0.        , -0.        ]], dtype=float32)"
      ]
     },
     "execution_count": 406,
     "metadata": {},
     "output_type": "execute_result"
    }
   ],
   "source": [
    "-lc_preds[row_mask].toarray()"
   ]
  },
  {
   "cell_type": "code",
   "execution_count": 407,
   "metadata": {},
   "outputs": [],
   "source": [
    "prediction_ranks = rankdata(-lc_preds[row_mask].toarray(), axis=1)"
   ]
  },
  {
   "cell_type": "code",
   "execution_count": 416,
   "metadata": {},
   "outputs": [
    {
     "data": {
      "text/plain": [
       "<157161x243 sparse matrix of type '<class 'numpy.float32'>'\n",
       "\twith 8238272 stored elements in Compressed Sparse Row format>"
      ]
     },
     "execution_count": 416,
     "metadata": {},
     "output_type": "execute_result"
    }
   ],
   "source": [
    "lc_preds"
   ]
  },
  {
   "cell_type": "code",
   "execution_count": 409,
   "metadata": {},
   "outputs": [],
   "source": [
    "all_test_ranks = prediction_ranks[get_ranks]"
   ]
  },
  {
   "cell_type": "code",
   "execution_count": 415,
   "metadata": {},
   "outputs": [
    {
     "data": {
      "text/plain": [
       "<matplotlib.axes._subplots.AxesSubplot at 0x120b5a6d0>"
      ]
     },
     "execution_count": 415,
     "metadata": {},
     "output_type": "execute_result"
    },
    {
     "data": {
      "image/png": "[encoded data removed]",
      "text/plain": [
       "<Figure size 432x288 with 1 Axes>"
      ]
     },
     "metadata": {
      "needs_background": "light"
     },
     "output_type": "display_data"
    }
   ],
   "source": [
    "kdeplot(all_test_ranks)"
   ]
  },
  {
   "cell_type": "code",
   "execution_count": 395,
   "metadata": {},
   "outputs": [
    {
     "data": {
      "text/plain": [
       "(157161, 243)"
      ]
     },
     "execution_count": 395,
     "metadata": {},
     "output_type": "execute_result"
    }
   ],
   "source": [
    "test.shape"
   ]
  },
  {
   "cell_type": "code",
   "execution_count": null,
   "metadata": {},
   "outputs": [],
   "source": []
  },
  {
   "cell_type": "code",
   "execution_count": null,
   "metadata": {},
   "outputs": [],
   "source": []
  },
  {
   "cell_type": "code",
   "execution_count": null,
   "metadata": {},
   "outputs": [],
   "source": []
  },
  {
   "cell_type": "code",
   "execution_count": 340,
   "metadata": {},
   "outputs": [
    {
     "data": {
      "text/plain": [
       "17.0"
      ]
     },
     "execution_count": 340,
     "metadata": {},
     "output_type": "execute_result"
    }
   ],
   "source": [
    "np.median(rm_ranked[trm])"
   ]
  },
  {
   "cell_type": "code",
   "execution_count": 373,
   "metadata": {},
   "outputs": [
    {
     "data": {
      "text/plain": [
       "array([[False, False, False, ..., False, False, False],\n",
       "       [False, False, False, ..., False, False, False],\n",
       "       [False, False, False, ..., False, False, False],\n",
       "       ...,\n",
       "       [False, False, False, ..., False, False, False],\n",
       "       [False, False, False, ..., False, False, False],\n",
       "       [False, False, False, ..., False, False, False]])"
      ]
     },
     "execution_count": 373,
     "metadata": {},
     "output_type": "execute_result"
    }
   ],
   "source": [
    "trm"
   ]
  },
  {
   "cell_type": "code",
   "execution_count": null,
   "metadata": {},
   "outputs": [],
   "source": []
  },
  {
   "cell_type": "code",
   "execution_count": 250,
   "metadata": {},
   "outputs": [
    {
     "data": {
      "text/plain": [
       "array([223., 223., 223., 223., 223., 223., 223., 223., 223., 223., 223.,\n",
       "       223., 223., 223., 223., 223., 223., 223., 223., 223., 223., 223.,\n",
       "       223., 223., 223., 223., 223., 223., 223., 223., 223., 223., 223.,\n",
       "       223., 223., 223., 223., 223., 223., 223., 223.])"
      ]
     },
     "execution_count": 250,
     "metadata": {},
     "output_type": "execute_result"
    }
   ],
   "source": [
    "rankdata(-lc_preds.toarray()[0])[lc_preds.toarray()[0]==0]"
   ]
  },
  {
   "cell_type": "code",
   "execution_count": 252,
   "metadata": {},
   "outputs": [
    {
     "data": {
      "text/plain": [
       "<matplotlib.collections.PathCollection at 0x127828a10>"
      ]
     },
     "execution_count": 252,
     "metadata": {},
     "output_type": "execute_result"
    },
    {
     "data": {
      "image/png": "[encoded data removed]",
      "text/plain": [
       "<Figure size 432x288 with 1 Axes>"
      ]
     },
     "metadata": {
      "needs_background": "light"
     },
     "output_type": "display_data"
    }
   ],
   "source": [
    "from scipy.stats.mstats import rankdata\n",
    "plt.scatter(rankdata(-lc_preds.toarray()[0]), (-lc_preds.toarray()[0]), alpha=0.1)"
   ]
  },
  {
   "cell_type": "code",
   "execution_count": 205,
   "metadata": {
    "scrolled": true
   },
   "outputs": [
    {
     "name": "stdout",
     "output_type": "stream",
     "text": [
      "66.0\n",
      "3.0\n",
      "2.0\n",
      "3.0\n",
      "129.0\n",
      "14.0\n",
      "156.0\n",
      "58.333333333333336\n",
      "15.0\n",
      "41.0\n",
      "32.0\n",
      "25.0\n",
      "5.0\n",
      "99.0\n",
      "59.0\n",
      "4.0\n",
      "2.0\n",
      "218.0\n",
      "2.5\n",
      "158.0\n",
      "2.0\n",
      "64.0\n",
      "3.0\n",
      "60.0\n",
      "117.0\n",
      "1.3333333333333333\n",
      "1.0\n",
      "2.0\n",
      "1.0\n",
      "2.0\n",
      "1.0\n",
      "0.0\n",
      "1.5\n",
      "1.0\n",
      "1.5\n",
      "1.0\n",
      "1.0\n",
      "232.0\n",
      "1.0\n",
      "1.0\n",
      "49.0\n",
      "64.0\n",
      "36.0\n",
      "24.0\n",
      "46.0\n",
      "21.5\n",
      "30.0\n",
      "46.5\n",
      "27.0\n",
      "31.0\n",
      "1.0\n",
      "60.0\n",
      "10.0\n",
      "10.0\n",
      "15.0\n",
      "33.0\n",
      "18.0\n",
      "15.0\n",
      "3.0\n",
      "7.0\n",
      "205.0\n",
      "173.0\n",
      "14.125\n",
      "153.0\n",
      "12.666666666666666\n",
      "1.0\n",
      "3.0\n",
      "3.0\n",
      "2.0\n",
      "2.0\n",
      "2.0\n",
      "85.0\n",
      "173.33333333333334\n",
      "58.0\n",
      "63.25\n",
      "156.25\n",
      "2.0\n",
      "18.0\n",
      "24.0\n",
      "19.0\n",
      "14.5\n",
      "29.0\n",
      "139.0\n",
      "1.0\n",
      "2.0\n",
      "12.5\n",
      "2.5\n",
      "44.5\n",
      "35.25\n",
      "1.0\n",
      "1.0\n",
      "101.0\n",
      "38.0\n",
      "35.0\n",
      "27.0\n",
      "9.0\n",
      "33.0\n",
      "22.0\n",
      "215.5\n",
      "98.0\n",
      "239.0\n",
      "87.0\n",
      "188.0\n",
      "0.0\n",
      "50.0\n",
      "1.0\n",
      "1.5\n",
      "0.0\n",
      "5.0\n",
      "24.666666666666668\n",
      "1.0\n",
      "3.0\n",
      "48.0\n",
      "16.0\n",
      "11.0\n",
      "156.0\n",
      "80.0\n",
      "92.0\n",
      "48.5\n",
      "73.0\n",
      "198.0\n",
      "3.0\n",
      "44.0\n",
      "5.0\n",
      "9.0\n",
      "92.0\n",
      "149.0\n",
      "52.5\n",
      "1.5\n",
      "33.0\n",
      "116.0\n",
      "5.5\n",
      "158.0\n",
      "35.06060606060606\n",
      "21.0\n",
      "17.0\n",
      "8.0\n",
      "21.333333333333332\n",
      "1.0\n",
      "234.0\n",
      "7.0\n",
      "1.0\n",
      "33.0\n",
      "1.0\n",
      "0.0\n",
      "18.0\n",
      "147.0\n",
      "17.0\n",
      "11.0\n",
      "2.0\n",
      "2.5\n",
      "6.0\n",
      "3.0\n",
      "9.0\n",
      "10.0\n",
      "13.0\n",
      "58.0\n",
      "148.0\n",
      "33.06666666666667\n",
      "18.0\n",
      "19.5\n",
      "21.5\n",
      "1.0\n",
      "129.0\n",
      "21.52\n",
      "21.5\n",
      "83.0\n",
      "2.0\n",
      "3.0\n",
      "52.5\n",
      "69.0\n",
      "74.0\n",
      "89.33333333333333\n",
      "104.16666666666667\n",
      "5.0\n",
      "33.333333333333336\n",
      "3.0\n",
      "27.0\n",
      "180.0\n",
      "153.0\n",
      "19.0\n",
      "18.5\n",
      "0.0\n",
      "112.0\n",
      "1.0\n",
      "4.0\n",
      "102.5\n",
      "5.0\n",
      "7.0\n",
      "4.333333333333333\n",
      "8.0\n",
      "28.0\n",
      "46.0\n",
      "6.0\n",
      "111.0\n",
      "7.0\n",
      "3.0\n",
      "8.0\n",
      "62.833333333333336\n",
      "75.0\n",
      "66.0\n",
      "2.5\n",
      "2.0\n",
      "231.0\n",
      "86.0\n",
      "8.0\n",
      "1.5\n",
      "11.0\n",
      "120.0\n",
      "1.0\n",
      "62.75\n",
      "18.0\n",
      "147.8\n",
      "2.0\n",
      "126.0\n",
      "1.5\n",
      "92.0\n",
      "4.0\n",
      "0.0\n",
      "175.66666666666666\n",
      "4.0\n",
      "146.66666666666666\n",
      "150.0\n",
      "14.0\n",
      "2.0\n",
      "126.0\n",
      "49.0\n",
      "91.0\n",
      "3.0\n",
      "3.0\n",
      "62.0\n",
      "29.0\n",
      "2.0\n",
      "6.0\n",
      "2.0\n",
      "7.0\n",
      "3.0\n",
      "1.0\n",
      "0.0\n",
      "1.5\n",
      "13.0\n",
      "160.2\n",
      "20.0\n",
      "13.0\n",
      "2.0\n",
      "1.5\n",
      "24.0\n",
      "11.25\n",
      "13.4\n",
      "18.4\n",
      "15.25\n",
      "17.333333333333332\n",
      "10.0\n",
      "13.5\n",
      "8.0\n",
      "11.0\n",
      "7.5\n",
      "12.25\n",
      "13.25\n",
      "6.333333333333333\n",
      "1.0\n",
      "3.0\n",
      "72.0\n",
      "51.5\n",
      "1.0\n",
      "99.0\n",
      "64.5\n",
      "4.0\n",
      "2.0\n",
      "129.0\n",
      "2.0\n",
      "203.5\n",
      "37.833333333333336\n",
      "79.0\n",
      "3.0\n",
      "22.0\n",
      "19.0\n",
      "53.0\n",
      "91.0\n",
      "5.0\n",
      "203.0\n",
      "1.0\n",
      "1.0\n",
      "2.0\n",
      "4.0\n",
      "25.642857142857142\n",
      "4.0\n",
      "29.72222222222222\n",
      "7.0\n",
      "103.5\n",
      "5.0\n",
      "36.0\n",
      "39.0\n",
      "62.0\n",
      "19.0\n",
      "3.0\n",
      "5.0\n",
      "3.0\n",
      "6.0\n",
      "3.0\n",
      "27.5\n",
      "3.0\n",
      "100.42857142857143\n",
      "169.33333333333334\n",
      "20.25\n",
      "3.0\n",
      "7.0\n",
      "2.5\n",
      "17.6\n",
      "3.0\n",
      "2.5\n",
      "1.0\n",
      "43.0\n",
      "3.0\n",
      "3.0\n",
      "9.0\n",
      "0.0\n",
      "7.0\n",
      "208.0\n",
      "112.0\n",
      "45.5\n",
      "81.5\n",
      "1.0\n",
      "124.0\n",
      "5.0\n",
      "9.0\n",
      "11.0\n",
      "5.0\n",
      "135.0\n",
      "28.5\n",
      "1.0\n",
      "10.0\n",
      "42.5\n",
      "10.0\n",
      "66.5\n",
      "64.0\n",
      "12.5\n",
      "1.5\n",
      "10.0\n",
      "28.0\n",
      "44.46666666666667\n",
      "39.75\n",
      "38.333333333333336\n",
      "23.5\n",
      "23.8\n",
      "137.0\n",
      "159.0\n",
      "1.5\n",
      "133.0\n",
      "32.666666666666664\n",
      "24.5\n",
      "12.5\n",
      "231.0\n",
      "29.666666666666668\n",
      "41.0\n",
      "27.0\n",
      "22.0\n",
      "28.714285714285715\n",
      "22.153846153846153\n",
      "115.0\n",
      "2.0\n",
      "26.166666666666668\n",
      "59.0\n",
      "1.0\n",
      "1.0\n",
      "4.0\n",
      "1.5\n",
      "1.5\n",
      "197.0\n",
      "1.0\n",
      "31.25\n",
      "1.0\n",
      "17.0\n",
      "2.0\n",
      "11.0\n",
      "26.2\n",
      "1.5\n",
      "107.0\n",
      "3.0\n",
      "6.0\n",
      "13.0\n",
      "8.0\n",
      "6.0\n",
      "1.0\n",
      "3.0\n",
      "15.0\n",
      "7.0\n",
      "9.0\n",
      "103.0\n",
      "7.0\n",
      "97.0\n",
      "5.0\n",
      "9.0\n",
      "18.25\n",
      "3.0\n",
      "105.0\n",
      "3.0\n",
      "28.25\n",
      "3.0\n",
      "7.0\n",
      "2.0\n",
      "7.0\n",
      "1.0\n",
      "1.5\n",
      "69.0\n",
      "21.0\n",
      "1.0\n",
      "4.0\n",
      "159.0\n",
      "21.6\n",
      "13.0\n",
      "35.0\n",
      "1.0\n",
      "5.0\n",
      "1.0\n",
      "2.5\n",
      "100.0\n",
      "1.0\n",
      "0.0\n",
      "1.0\n",
      "114.0\n",
      "0.0\n",
      "52.0\n",
      "180.85714285714286\n",
      "0.0\n",
      "1.0\n",
      "1.0\n",
      "165.5\n",
      "2.75\n",
      "133.0\n",
      "221.0\n",
      "6.0\n",
      "1.0\n",
      "1.0\n",
      "2.0\n",
      "24.0\n",
      "29.0\n",
      "5.0\n",
      "8.6\n",
      "1.0\n",
      "148.0\n",
      "164.0\n",
      "29.6\n",
      "28.0\n",
      "11.0\n",
      "187.5\n",
      "2.0\n",
      "0.0\n",
      "14.0\n",
      "3.0\n"
     ]
    },
    {
     "ename": "KeyboardInterrupt",
     "evalue": "",
     "output_type": "error",
     "traceback": [
      "\u001b[0;31m---------------------------------------------------------------------------\u001b[0m",
      "\u001b[0;31mKeyboardInterrupt\u001b[0m                         Traceback (most recent call last)",
      "\u001b[0;32m<ipython-input-205-c34b66c526df>\u001b[0m in \u001b[0;36m<module>\u001b[0;34m\u001b[0m\n\u001b[1;32m      1\u001b[0m \u001b[0;32mfor\u001b[0m \u001b[0mj\u001b[0m\u001b[0;34m,\u001b[0m\u001b[0mk\u001b[0m \u001b[0;32min\u001b[0m \u001b[0mzip\u001b[0m\u001b[0;34m(\u001b[0m\u001b[0mranks\u001b[0m\u001b[0;34m,\u001b[0m \u001b[0mt\u001b[0m\u001b[0;34m)\u001b[0m\u001b[0;34m:\u001b[0m\u001b[0;34m\u001b[0m\u001b[0;34m\u001b[0m\u001b[0m\n\u001b[0;32m----> 2\u001b[0;31m     \u001b[0;32mif\u001b[0m \u001b[0msum\u001b[0m\u001b[0;34m(\u001b[0m\u001b[0mk\u001b[0m\u001b[0;34m)\u001b[0m\u001b[0;34m!=\u001b[0m\u001b[0;36m0\u001b[0m\u001b[0;34m:\u001b[0m\u001b[0;34m\u001b[0m\u001b[0;34m\u001b[0m\u001b[0m\n\u001b[0m\u001b[1;32m      3\u001b[0m         \u001b[0mv\u001b[0m \u001b[0;34m=\u001b[0m \u001b[0mnp\u001b[0m\u001b[0;34m.\u001b[0m\u001b[0mmean\u001b[0m\u001b[0;34m(\u001b[0m\u001b[0mj\u001b[0m\u001b[0;34m[\u001b[0m\u001b[0mk\u001b[0m\u001b[0;34m]\u001b[0m\u001b[0;34m)\u001b[0m\u001b[0;34m\u001b[0m\u001b[0;34m\u001b[0m\u001b[0m\n\u001b[1;32m      4\u001b[0m         \u001b[0mprint\u001b[0m\u001b[0;34m(\u001b[0m\u001b[0mv\u001b[0m\u001b[0;34m)\u001b[0m\u001b[0;34m\u001b[0m\u001b[0;34m\u001b[0m\u001b[0m\n",
      "\u001b[0;31mKeyboardInterrupt\u001b[0m: "
     ]
    }
   ],
   "source": [
    "for j,k in zip(ranks, t):\n",
    "    if sum(k)!=0:\n",
    "        v = np.mean(j[k])\n",
    "        print(v)"
   ]
  },
  {
   "cell_type": "code",
   "execution_count": 204,
   "metadata": {},
   "outputs": [
    {
     "data": {
      "text/plain": [
       "array([False, False, False, False, False, False, False, False, False,\n",
       "       False, False, False, False, False, False, False, False, False,\n",
       "       False, False, False, False, False, False, False, False, False,\n",
       "       False, False, False, False, False, False, False, False, False,\n",
       "       False, False, False, False, False, False, False, False, False,\n",
       "       False, False, False, False, False, False, False, False, False,\n",
       "       False, False, False, False, False, False, False, False, False,\n",
       "       False, False, False, False, False, False, False, False, False,\n",
       "       False, False, False, False, False, False, False, False, False,\n",
       "       False, False, False, False, False, False, False, False, False,\n",
       "       False, False, False, False, False, False, False, False, False,\n",
       "       False, False, False, False, False, False, False, False, False,\n",
       "       False, False, False, False, False, False, False, False, False,\n",
       "       False, False, False, False, False, False, False, False, False,\n",
       "       False, False, False, False, False, False, False, False, False,\n",
       "       False, False, False, False, False, False, False, False, False,\n",
       "       False, False, False, False, False, False, False, False, False,\n",
       "       False, False, False, False, False, False, False, False, False,\n",
       "       False, False, False, False, False, False, False, False, False,\n",
       "       False, False, False, False, False, False, False, False, False,\n",
       "       False, False, False, False, False, False, False, False, False,\n",
       "       False, False, False, False, False, False, False, False, False,\n",
       "       False, False, False, False, False, False, False, False, False,\n",
       "       False, False, False, False, False, False, False, False, False,\n",
       "       False, False, False, False, False, False, False, False, False,\n",
       "       False, False, False, False, False, False, False, False, False,\n",
       "       False, False, False, False, False, False, False, False, False])"
      ]
     },
     "execution_count": 204,
     "metadata": {},
     "output_type": "execute_result"
    }
   ],
   "source": [
    "k"
   ]
  },
  {
   "cell_type": "code",
   "execution_count": 200,
   "metadata": {},
   "outputs": [
    {
     "data": {
      "text/plain": [
       "array([55.90005 , 29.53061 , 34.497025, 26.1203  , -8.975437],\n",
       "      dtype=float32)"
      ]
     },
     "execution_count": 200,
     "metadata": {},
     "output_type": "execute_result"
    }
   ],
   "source": [
    "preds[0][t[0]]"
   ]
  },
  {
   "cell_type": "code",
   "execution_count": 209,
   "metadata": {
    "scrolled": true
   },
   "outputs": [],
   "source": [
    "r = score_prediction_matrix(preds, test)\n",
    "pr = score_prediction_matrix(lc_preds.toarray(), test)"
   ]
  },
  {
   "cell_type": "code",
   "execution_count": 341,
   "metadata": {},
   "outputs": [],
   "source": [
    "pr = rm_ranked[trm]"
   ]
  },
  {
   "cell_type": "code",
   "execution_count": 342,
   "metadata": {},
   "outputs": [
    {
     "data": {
      "text/plain": [
       "array([ 26., 110.,  42., ...,   5.,   3.,   5.])"
      ]
     },
     "execution_count": 342,
     "metadata": {},
     "output_type": "execute_result"
    }
   ],
   "source": [
    "pr"
   ]
  },
  {
   "cell_type": "code",
   "execution_count": 352,
   "metadata": {
    "scrolled": false
   },
   "outputs": [
    {
     "name": "stdout",
     "output_type": "stream",
     "text": [
      "38.54971932638332\n",
      "17.0\n",
      "33.257016840417\n",
      "16.0\n",
      "34.07257417802727\n",
      "17.0\n"
     ]
    },
    {
     "data": {
      "text/plain": [
       "(0, 20)"
      ]
     },
     "execution_count": 352,
     "metadata": {},
     "output_type": "execute_result"
    },
    {
     "data": {
      "image/png": "[encoded data removed]",
      "text/plain": [
       "<Figure size 1080x576 with 1 Axes>"
      ]
     },
     "metadata": {
      "needs_background": "light"
     },
     "output_type": "display_data"
    }
   ],
   "source": [
    "plt.figure(figsize=(15,8))\n",
    "mean = np.mean(r)\n",
    "print(mean)\n",
    "median = np.median(r)\n",
    "print(median)\n",
    "ecdf = [(r<i).sum()/len(r) for i in range(0, 243)]\n",
    "plt.plot(ecdf, label='ImplicitBPR')\n",
    "\n",
    "\n",
    "\n",
    "pr = score_prediction_matrix(lc_preds.toarray(), test)\n",
    "mean = np.mean(pr)\n",
    "print(mean)\n",
    "median = np.median(pr)\n",
    "print(median)\n",
    "ecdf = [(pr<i).sum()/len(pr) for i in range(0, 243)]\n",
    "plt.plot(ecdf, label='LabelCorr')\n",
    "\n",
    "\n",
    "pr = rm_ranked[trm]\n",
    "mean = np.mean(pr)\n",
    "print(mean)\n",
    "median = np.median(pr)\n",
    "print(median)\n",
    "ecdf = [(pr<i).sum()/len(pr) for i in range(0, 243)]\n",
    "plt.plot(ecdf, label='LabelCorr.Avg')\n",
    "\n",
    "plt.legend()\n",
    "##plt.ylim(0,20)\n",
    "plt.xlim(0,20)"
   ]
  },
  {
   "cell_type": "code",
   "execution_count": 181,
   "metadata": {},
   "outputs": [
    {
     "name": "stdout",
     "output_type": "stream",
     "text": [
      "20.69836956521739\n",
      "5.0\n"
     ]
    }
   ],
   "source": [
    "mean = np.mean(lc_ranks)\n",
    "print(mean)\n",
    "median = np.median(lc_ranks)\n",
    "print(median)\n",
    "ecdf = [(lc_ranks<i).sum()/len(lc_ranks) for i in range(0, 243)]\n"
   ]
  },
  {
   "cell_type": "code",
   "execution_count": null,
   "metadata": {},
   "outputs": [],
   "source": []
  },
  {
   "cell_type": "code",
   "execution_count": 108,
   "metadata": {},
   "outputs": [
    {
     "data": {
      "text/plain": [
       "[<matplotlib.lines.Line2D at 0x127672490>]"
      ]
     },
     "execution_count": 108,
     "metadata": {},
     "output_type": "execute_result"
    },
    {
     "data": {
      "image/png": "[encoded data removed]",
      "text/plain": [
       "<Figure size 432x288 with 1 Axes>"
      ]
     },
     "metadata": {
      "needs_background": "light"
     },
     "output_type": "display_data"
    }
   ],
   "source": [
    "plt.plot(ecdf)"
   ]
  },
  {
   "cell_type": "code",
   "execution_count": 105,
   "metadata": {},
   "outputs": [
    {
     "data": {
      "text/plain": [
       "<matplotlib.axes._subplots.AxesSubplot at 0x12778afd0>"
      ]
     },
     "execution_count": 105,
     "metadata": {},
     "output_type": "execute_result"
    },
    {
     "data": {
      "image/png": "[encoded data removed]",
      "text/plain": [
       "<Figure size 432x288 with 1 Axes>"
      ]
     },
     "metadata": {
      "needs_background": "light"
     },
     "output_type": "display_data"
    }
   ],
   "source": [
    "#kdeplot(lc_ranks)\n",
    "kdeplot(r)\n"
   ]
  },
  {
   "cell_type": "code",
   "execution_count": null,
   "metadata": {},
   "outputs": [],
   "source": []
  },
  {
   "cell_type": "code",
   "execution_count": null,
   "metadata": {},
   "outputs": [],
   "source": []
  },
  {
   "cell_type": "code",
   "execution_count": null,
   "metadata": {},
   "outputs": [],
   "source": [
    "#outfile = open('results.dat', 'w')\n",
    "#outfile.write('algorithm, mean, median\\n')\n",
    "\n",
    "##implicit:\n",
    "#als:\n",
    "pars = find_opt_pars(filenames[0])\n",
    "for _ in range(3):\n",
    "    mean, median = train_implicit_als(pars)\n",
    "    #outfile.write(filenames[0]+': '+str(mean)+' '+str(median)+'\\n')\n",
    "\n",
    "#bpr:\n",
    "pars = find_opt_pars(filenames[1])\n",
    "for _ in range(3):\n",
    "    mean, median = train_implicit_bpr(pars)\n",
    "    outfile.write(filenames[1]+': '+str(mean)+' '+str(median)+'\\n')\n",
    "\n",
    "##lightfm\n",
    "#warp\n",
    "pars = find_opt_pars(filenames[2])\n",
    "for _ in range(3):\n",
    "    mean, median = train_lightfm_warp(pars)\n",
    "    outfile.write(filenames[2]+': '+str(mean)+' '+str(median)+'\\n')\n",
    "\n",
    "#bpr\n",
    "pars = find_opt_pars(filenames[3])\n",
    "for _ in range(3):\n",
    "    mean, median = train_lightfm_bpr(pars)\n",
    "    outfile.write(filenames[3]+': '+str(mean)+' '+str(median)+'\\n')\n",
    "\n",
    "#label correlation:\n",
    "L1 = 1- utils.makeCorrelations(train)\n",
    "prediction_matrix = utils.makeProbabilities(train, L1)\n",
    "test_ranks = utils.evaluate_predictions(prediction_matrix, sparse.csr_matrix(test), avg=False)\n",
    "outfile.write('label correl: '+str(np.mean(test_ranks))+' '+str(np.median(test_ranks))+'\\n')\n",
    "\n",
    "\n",
    "outfile.close()"
   ]
  }
 ],
 "metadata": {
  "kernelspec": {
   "display_name": "Python 3",
   "language": "python",
   "name": "python3"
  },
  "language_info": {
   "codemirror_mode": {
    "name": "ipython",
    "version": 3
   },
   "file_extension": ".py",
   "mimetype": "text/x-python",
   "name": "python",
   "nbconvert_exporter": "python",
   "pygments_lexer": "ipython3",
   "version": "3.7.6"
  }
 },
 "nbformat": 4,
 "nbformat_minor": 2
}
