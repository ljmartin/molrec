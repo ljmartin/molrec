{
 "cells": [
  {
   "cell_type": "code",
   "execution_count": 1,
   "metadata": {},
   "outputs": [
    {
     "name": "stderr",
     "output_type": "stream",
     "text": [
      "/Users/lmar3213/miniconda3/envs/lew_conda/lib/python3.7/site-packages/lightfm/_lightfm_fast.py:9: UserWarning: LightFM was compiled without OpenMP support. Only a single thread will be used.\n",
      "  warnings.warn('LightFM was compiled without OpenMP support. '\n"
     ]
    }
   ],
   "source": [
    "from scipy import sparse\n",
    "import numpy as np\n",
    "import itertools\n",
    "import copy\n",
    "\n",
    "import matplotlib.pyplot as plt\n",
    "%matplotlib inline\n",
    "\n",
    "from scipy.stats import gaussian_kde\n",
    "from tqdm import tqdm_notebook\n",
    "from seaborn import kdeplot\n",
    "\n",
    "import sys\n",
    "sys.path.append(\"..\")\n",
    "import utils"
   ]
  },
  {
   "cell_type": "code",
   "execution_count": 2,
   "metadata": {},
   "outputs": [],
   "source": [
    "interaction_matrix = sparse.load_npz('../data/interaction_matrix_pchembl.npz')\n",
    "##interaction_matrix = np.array(interaction_matrix.todense())\n",
    "#\n",
    "interaction_dates = sparse.load_npz('../data/interaction_dates_pchembl.npz')\n",
    "##interaction_dates = np.array(interaction_dates.todense())"
   ]
  },
  {
   "cell_type": "markdown",
   "metadata": {},
   "source": [
    "The publication dates of the interactions are recorded in ChEMBL. Looking below we can see the distribution of years: "
   ]
  },
  {
   "cell_type": "code",
   "execution_count": 3,
   "metadata": {},
   "outputs": [
    {
     "data": {
      "text/plain": [
       "<matplotlib.legend.Legend at 0x112a87250>"
      ]
     },
     "execution_count": 3,
     "metadata": {},
     "output_type": "execute_result"
    },
    {
     "data": {
      "image/png": "[encoded data removed]",
      "text/plain": [
       "<Figure size 432x288 with 1 Axes>"
      ]
     },
     "metadata": {
      "needs_background": "light"
     },
     "output_type": "display_data"
    }
   ],
   "source": [
    "#removing 'year=1' which were originally NaNs in ChEMBL:\n",
    "_ = kdeplot(interaction_dates.data[interaction_dates.data>1950], shade=True)\n",
    "#bonus - set 'cumulative=True' in kdeplot to visualize the amount of data that will be in the test set.\n",
    "plt.axvline(2015, c='red', label='test/train split point')\n",
    "plt.legend()"
   ]
  },
  {
   "cell_type": "markdown",
   "metadata": {},
   "source": [
    "These can thus be used to perform time-split cross validation, which simulates prospective validation. The below sets a year, and creates a training matrix with all interactions equal to or before that year, and a test matrix with all interactions from after that year. "
   ]
  },
  {
   "cell_type": "code",
   "execution_count": 4,
   "metadata": {},
   "outputs": [],
   "source": [
    "#train, test = utils.load_time_split()"
   ]
  },
  {
   "cell_type": "code",
   "execution_count": 5,
   "metadata": {},
   "outputs": [],
   "source": [
    "#sparse.csr_matrix(train)"
   ]
  },
  {
   "cell_type": "code",
   "execution_count": 6,
   "metadata": {},
   "outputs": [],
   "source": [
    "# interaction_matrix = utils.load_subset()"
   ]
  },
  {
   "cell_type": "code",
   "execution_count": null,
   "metadata": {},
   "outputs": [],
   "source": [
    "#train, test = utils.train_test_split(interaction_matrix, 0.05)"
   ]
  },
  {
   "cell_type": "code",
   "execution_count": null,
   "metadata": {},
   "outputs": [],
   "source": [
    "%%time\n",
    "train, test = utils.load_time_split()\n",
    "name = 'hpo_implicit_bpr'\n",
    "params = utils.read_params(name)\n",
    "preds = utils.train_implicit_bpr(params, train)\n",
    "ranks = utils.evaluate_predictions(preds, test, train)\n",
    "mean, median, kde, ecdf = score_ranks(ranks)\n",
    "print(mean, median)\n",
    "for _ in range(16):\n",
    "    preds+=utils.train_implicit_bpr(params, train)\n",
    "    ranks = utils.evaluate_predictions(preds, test, train)\n",
    "    mean, median, kde, ecdf = score_ranks(ranks)\n",
    "    print(mean, median)\n"
   ]
  },
  {
   "cell_type": "code",
   "execution_count": 7,
   "metadata": {},
   "outputs": [
    {
     "data": {
      "application/vnd.jupyter.widget-view+json": {
       "model_id": "d2ecc8982d3747859459c1f256723568",
       "version_major": 2,
       "version_minor": 0
      },
      "text/plain": [
       "HBox(children=(IntProgress(value=0, max=1), HTML(value='')))"
      ]
     },
     "metadata": {},
     "output_type": "display_data"
    },
    {
     "name": "stdout",
     "output_type": "stream",
     "text": [
      "\n",
      "CPU times: user 5.28 s, sys: 320 ms, total: 5.6 s\n",
      "Wall time: 5.35 s\n"
     ]
    }
   ],
   "source": [
    "%%time\n",
    "train, test = utils.load_time_split()\n",
    "name = 'hpo_implicit_bpr'\n",
    "params = utils.read_params(name)\n",
    "preds_imp = utils.train_implicit_bpr(params, train)\n",
    "#ranks = utils.evaluate_predictions(preds, test, train)\n",
    "#mean, median, kde, ecdf = score_ranks(ranks)\n",
    "#print(mean, median)\n",
    "for _ in tqdm_notebook(range(1)):\n",
    "    preds_imp+=utils.train_implicit_bpr(params, train)\n",
    "    #ranks = utils.evaluate_predictions(preds, test, train)\n",
    "    #mean, median, kde, ecdf = score_ranks(ranks)\n",
    "    #print(mean, median)"
   ]
  },
  {
   "cell_type": "code",
   "execution_count": 8,
   "metadata": {},
   "outputs": [],
   "source": [
    "ranks_imp = utils.evaluate_predictions(preds_imp, test, train)"
   ]
  },
  {
   "cell_type": "code",
   "execution_count": null,
   "metadata": {},
   "outputs": [],
   "source": [
    "#median corresponds to the minimum of the l1 norm! \n",
    "#https://statmodeling.stat.columbia.edu/2006/11/16/bayesian-inference-median/\n",
    "l1norm=list()\n",
    "for i in np.linspace(1,25,500):\n",
    "    diffs = np.abs(i-ranks_imp)\n",
    "    l1norm.append(np.sum(diffs))"
   ]
  },
  {
   "cell_type": "code",
   "execution_count": null,
   "metadata": {},
   "outputs": [],
   "source": [
    "np.argmin(l1norm)"
   ]
  },
  {
   "cell_type": "code",
   "execution_count": null,
   "metadata": {},
   "outputs": [],
   "source": [
    "np.linspace(1,25,500)[187]"
   ]
  },
  {
   "cell_type": "code",
   "execution_count": null,
   "metadata": {},
   "outputs": [],
   "source": [
    "np.median(ranks_imp)"
   ]
  },
  {
   "cell_type": "code",
   "execution_count": null,
   "metadata": {},
   "outputs": [],
   "source": [
    "plt.plot(np.linspace(1,25,500),l1norm)"
   ]
  },
  {
   "cell_type": "code",
   "execution_count": null,
   "metadata": {},
   "outputs": [],
   "source": [
    "ranks_imp"
   ]
  },
  {
   "cell_type": "code",
   "execution_count": 9,
   "metadata": {},
   "outputs": [],
   "source": [
    "#Laplace distribution is related to l1 norm. \n",
    "#so we could use laplace as the likelihood for pymc3:\n",
    "\n",
    "import pymc3 as pm\n",
    "\n",
    "with pm.Model() as model:\n",
    "    #prior:\n",
    "    m = pm.Normal('m', mu=5, sigma=6.0)\n",
    "    bee = pm.HalfNormal('bee', sigma=6.0)\n",
    "    #likelihood:\n",
    "    y = pm.Laplace('y', mu=m, b=bee,observed=ranks_imp)"
   ]
  },
  {
   "cell_type": "code",
   "execution_count": 10,
   "metadata": {},
   "outputs": [
    {
     "name": "stderr",
     "output_type": "stream",
     "text": [
      "Auto-assigning NUTS sampler...\n",
      "Initializing NUTS using jitter+adapt_diag...\n",
      "Multiprocess sampling (2 chains in 2 jobs)\n",
      "NUTS: [bee, m]\n",
      "Sampling 2 chains, 0 divergences: 100%|██████████| 2000/2000 [00:01<00:00, 1168.69draws/s]\n"
     ]
    }
   ],
   "source": [
    "with model:\n",
    "    trace = pm.sample(draws=500, tune=500, chains=2,\n",
    "                      target_accept=0.9)\n"
   ]
  },
  {
   "cell_type": "code",
   "execution_count": null,
   "metadata": {},
   "outputs": [],
   "source": [
    "kdeplot(trace['m'])\n",
    "plt.vlines(pm.stats.hpd(trace['m']),0,0.6)"
   ]
  },
  {
   "cell_type": "code",
   "execution_count": null,
   "metadata": {},
   "outputs": [],
   "source": [
    "pm.plots.plot_posterior(trace, var_names=['m'])\n",
    "plt.savefig('hi')"
   ]
  },
  {
   "cell_type": "code",
   "execution_count": null,
   "metadata": {},
   "outputs": [],
   "source": [
    "kdeplot(trace['bee'])\n",
    "plt.vlines(pm.stats.hpd(trace['bee']),0,0.6)"
   ]
  },
  {
   "cell_type": "code",
   "execution_count": null,
   "metadata": {},
   "outputs": [],
   "source": [
    "from scipy import stats\n",
    "plt.plot(np.linspace(-20,40,100), [stats.laplace(10.5,31).pdf(i) for i in np.linspace(-20,40,100)])\n"
   ]
  },
  {
   "cell_type": "code",
   "execution_count": null,
   "metadata": {},
   "outputs": [],
   "source": [
    "pm.stats.hpd(trace['m'])"
   ]
  },
  {
   "cell_type": "code",
   "execution_count": null,
   "metadata": {},
   "outputs": [],
   "source": [
    "pm.traceplot(trace, var_names=['m'])"
   ]
  },
  {
   "cell_type": "code",
   "execution_count": null,
   "metadata": {},
   "outputs": [],
   "source": [
    "trace['m']"
   ]
  },
  {
   "cell_type": "code",
   "execution_count": null,
   "metadata": {},
   "outputs": [],
   "source": [
    "import scikits.bootstrap as boot\n",
    "#import numpy as np\n",
    "boot.ci(ranks, np.median, n_samples=100)\n"
   ]
  },
  {
   "cell_type": "code",
   "execution_count": null,
   "metadata": {},
   "outputs": [],
   "source": [
    "len(ranks)"
   ]
  },
  {
   "cell_type": "code",
   "execution_count": null,
   "metadata": {
    "scrolled": true
   },
   "outputs": [],
   "source": [
    "medians = list()\n",
    "for _ in range(1000):\n",
    "    beep = np.random.choice(ranks, 500)\n",
    "    medians.append(np.median(beep))"
   ]
  },
  {
   "cell_type": "code",
   "execution_count": null,
   "metadata": {
    "scrolled": true
   },
   "outputs": [],
   "source": [
    "sorted(medians)[25]"
   ]
  },
  {
   "cell_type": "code",
   "execution_count": null,
   "metadata": {},
   "outputs": [],
   "source": [
    "sorted(medians)[975]"
   ]
  },
  {
   "cell_type": "code",
   "execution_count": null,
   "metadata": {},
   "outputs": [],
   "source": [
    "plt.hist(medians,bins=250)\n",
    "#kdeplot(medians)\n",
    "plt.axvline(8, c='k')\n",
    "plt.axvline(13, c='k')"
   ]
  },
  {
   "cell_type": "code",
   "execution_count": null,
   "metadata": {
    "scrolled": true
   },
   "outputs": [],
   "source": [
    "%%time\n",
    "train, test = utils.load_time_split()\n",
    "name = 'hpo_lightfm_warp'\n",
    "params = utils.read_params(name)\n",
    "preds_lfm = utils.train_lightfm_warp(params, train)\n",
    "#ranks = utils.evaluate_predictions(preds, test, train)\n",
    "#mean, median, kde, ecdf = score_ranks(ranks)\n",
    "#print(mean, median)\n",
    "for _ in tqdm_notebook(range(8)):\n",
    "    preds_lfm+=utils.train_lightfm_warp(params, train)\n",
    "    #ranks = utils.evaluate_predictions(preds, test, train)\n",
    "    #mean, median, kde, ecdf = score_ranks(ranks)\n",
    "    #print(mean, median)\n"
   ]
  },
  {
   "cell_type": "code",
   "execution_count": null,
   "metadata": {},
   "outputs": [],
   "source": [
    "ranks_lfm = utils.evaluate_predictions(preds_lfm, test, train)"
   ]
  },
  {
   "cell_type": "code",
   "execution_count": null,
   "metadata": {},
   "outputs": [],
   "source": [
    "np.vstack([ranks_lfm, ranks_imp]).T"
   ]
  },
  {
   "cell_type": "code",
   "execution_count": null,
   "metadata": {},
   "outputs": [],
   "source": [
    "ranks_lfm"
   ]
  },
  {
   "cell_type": "code",
   "execution_count": null,
   "metadata": {},
   "outputs": [],
   "source": [
    "import pandas as pd\n",
    "bah = pd.DataFrame(data=np.vstack([ranks_lfm, ranks_imp]).T, columns=['lfm','bpr'])\n",
    "bah.to_csv('lfm_vs_bpr.csv',index=False)"
   ]
  },
  {
   "cell_type": "code",
   "execution_count": null,
   "metadata": {},
   "outputs": [],
   "source": [
    "%%time\n",
    "train, test = utils.load_time_split()\n",
    "name = 'hpo_lightfm_bpr'\n",
    "params = utils.read_params(name)\n",
    "preds_lfm_bpr = utils.train_lightfm_bpr(params, train)\n",
    "for _ in tqdm_notebook(range(8)):\n",
    "    preds_lfm_bpr+=utils.train_lightfm_warp(params, train)"
   ]
  },
  {
   "cell_type": "code",
   "execution_count": null,
   "metadata": {},
   "outputs": [],
   "source": [
    "%%time\n",
    "train, test = utils.load_time_split()\n",
    "name = 'hpo_implicit_als'\n",
    "params = utils.read_params(name)\n",
    "preds_imp_als = utils.train_implicit_als(params, train)\n",
    "for _ in tqdm_notebook(range(8)):\n",
    "    preds_imp_als+=utils.train_implicit_als(params, train)"
   ]
  },
  {
   "cell_type": "code",
   "execution_count": null,
   "metadata": {},
   "outputs": [],
   "source": [
    "ranks_lfm = utils.evaluate_predictions(preds_lfm, test, train)\n",
    "ranks_imp = utils.evaluate_predictions(preds_imp, test, train)\n",
    "mean_lfm,median_lfm,kde_lfm,ecdf_lfm = score_ranks(ranks_lfm)\n",
    "mean_imp,median_imp,kde_imp,ecdf_imp = score_ranks(ranks_imp)"
   ]
  },
  {
   "cell_type": "code",
   "execution_count": null,
   "metadata": {},
   "outputs": [],
   "source": [
    "ranks_lfm_bpr = utils.evaluate_predictions(preds_lfm_bpr, test, train)\n",
    "ranks_imp_als = utils.evaluate_predictions(preds_imp_als, test, train)\n",
    "\n",
    "mean_lfm_bpr,median_lfm_bpr,kde_lfm_bpr,ecdf_lfm_bpr = score_ranks(ranks_lfm_bpr)\n",
    "mean_imp_als,median_imp_als,kde_imp_als,ecdf_imp_als = score_ranks(ranks_imp_als)"
   ]
  },
  {
   "cell_type": "code",
   "execution_count": null,
   "metadata": {},
   "outputs": [],
   "source": [
    "ranks_geo = (ranks_lfm*ranks_imp*ranks_lfm_bpr)**(1/3)\n",
    "ranks_geo = (ranks_lfm*ranks_imp)**(1/2)\n",
    "ranks_geo = (ranks_lfm*ranks_lfm_bpr)**(1/2)\n",
    "mean_geo,median_geo,kde_geo,ecdf_geo = score_ranks(ranks_geo)"
   ]
  },
  {
   "cell_type": "code",
   "execution_count": null,
   "metadata": {},
   "outputs": [],
   "source": [
    "print(mean_geo, median_geo)"
   ]
  },
  {
   "cell_type": "code",
   "execution_count": null,
   "metadata": {},
   "outputs": [],
   "source": [
    "median_imp_als"
   ]
  },
  {
   "cell_type": "code",
   "execution_count": null,
   "metadata": {},
   "outputs": [],
   "source": [
    "print(mean_geo, median_geo)"
   ]
  },
  {
   "cell_type": "code",
   "execution_count": null,
   "metadata": {},
   "outputs": [],
   "source": [
    "plt.plot(kde_lfm, label='lfm_warp')\n",
    "plt.plot(kde_lfm_bpr, label='lfm_bpr')\n",
    "plt.plot(kde_imp, label='imp_bpr')\n",
    "plt.plot(kde_imp_als, label='imp_als')\n",
    "plt.plot(kde_geo, label='geo')\n",
    "\n",
    "plt.legend()\n",
    "plt.xlim(0,20)"
   ]
  },
  {
   "cell_type": "code",
   "execution_count": null,
   "metadata": {},
   "outputs": [],
   "source": [
    "plt.figure(figsize=(10,10))\n",
    "plt.plot(ecdf_lfm, label='lfm_warp')\n",
    "plt.plot(ecdf_lfm_bpr, label='lfm_bpr')\n",
    "plt.plot(ecdf_imp, label='imp_bpr')\n",
    "plt.plot(ecdf_imp_als, label='imp_als')\n",
    "plt.plot(ecdf_geo, label='geo')\n",
    "\n",
    "plt.legend()\n",
    "plt.xlim(0,20)"
   ]
  },
  {
   "cell_type": "code",
   "execution_count": null,
   "metadata": {},
   "outputs": [],
   "source": [
    "plt.figure(figsize=(10,10))\n",
    "plt.plot(ecdf_lfm, label='lfm')\n",
    "plt.plot(ecdf_imp, label='imp')\n",
    "plt.plot(ecdf_geo, label='geo')\n",
    "plt.legend()\n",
    "plt.xlim(0,20)"
   ]
  },
  {
   "cell_type": "code",
   "execution_count": null,
   "metadata": {},
   "outputs": [],
   "source": [
    "ranks_lfm"
   ]
  },
  {
   "cell_type": "code",
   "execution_count": null,
   "metadata": {},
   "outputs": [],
   "source": [
    "ranks_imp"
   ]
  },
  {
   "cell_type": "code",
   "execution_count": null,
   "metadata": {},
   "outputs": [],
   "source": [
    "print(mean, median)\n",
    "plt.plot(kde)"
   ]
  },
  {
   "cell_type": "code",
   "execution_count": null,
   "metadata": {},
   "outputs": [],
   "source": []
  },
  {
   "cell_type": "code",
   "execution_count": null,
   "metadata": {},
   "outputs": [],
   "source": []
  },
  {
   "cell_type": "code",
   "execution_count": null,
   "metadata": {},
   "outputs": [],
   "source": [
    "def score_ranks(ranks):\n",
    "    \n",
    "    #normal statistics:\n",
    "    mean = np.mean(ranks)\n",
    "    median = np.median(ranks)\n",
    "\n",
    "    #kde:\n",
    "    density = gaussian_kde(ranks)\n",
    "    xs = np.linspace(0,243,243)\n",
    "    density.covariance_factor= lambda : 0.25\n",
    "    density._compute_covariance()\n",
    "\n",
    "    #empirical cumulative distribution function:\n",
    "    ecdf = [(ranks<i).sum()/len(ranks) for i in range(0, 243)]\n",
    "\n",
    "    return mean, median, density(xs), ecdf"
   ]
  },
  {
   "cell_type": "code",
   "execution_count": null,
   "metadata": {},
   "outputs": [],
   "source": []
  },
  {
   "cell_type": "code",
   "execution_count": null,
   "metadata": {},
   "outputs": [],
   "source": []
  },
  {
   "cell_type": "code",
   "execution_count": null,
   "metadata": {},
   "outputs": [],
   "source": []
  },
  {
   "cell_type": "code",
   "execution_count": null,
   "metadata": {},
   "outputs": [],
   "source": []
  },
  {
   "cell_type": "code",
   "execution_count": null,
   "metadata": {},
   "outputs": [],
   "source": [
    "year = 2010\n",
    "\n",
    "#turn interaction dates into a masker\n",
    "dates_mask = (interaction_dates.data<=year).astype(int)\n",
    "\n",
    "#make copies that will become train / test matrices\n",
    "train = copy.copy(interaction_matrix)\n",
    "test = copy.copy(interaction_matrix)\n",
    "\n",
    "#remove 2015 and later records from train matrix\n",
    "train.data = train.data * dates_mask\n",
    "#remove all training data from the test matrix. \n",
    "test.data = test.data - train.data\n",
    "\n",
    "#remove any rows from the train matrix that have zero interactions.\n",
    "#this is the case any time a new ligand is discovered in 2015 or after. \n",
    "#we can't use link prediction on new ligands! It's a cold start problem. \n",
    "#so we remove all these ligands from the present analysis. \n",
    "row_mask = np.array((train.sum(axis=1)!=0)).reshape(1,-1)[0] #there must be a cleaner way to do that.\n",
    "train = train[row_mask] \n",
    "test = test[row_mask]\n",
    "\n",
    "train.eliminate_zeros()\n",
    "test.eliminate_zeros()"
   ]
  },
  {
   "cell_type": "code",
   "execution_count": null,
   "metadata": {},
   "outputs": [],
   "source": [
    "name = 'hpo_implicit_bpr'\n",
    "parameter_flag=False\n",
    "params = dict()\n",
    "for line in open('../hyperparameter_optimization/'+name+'.dat', 'r').readlines():\n",
    "    if 'Result' in line:\n",
    "        parameter_flag=False\n",
    "    if parameter_flag:\n",
    "        words = line.split()\n",
    "        params[words[0]]=float(words[1])\n",
    "        print(line.split())\n",
    "    if 'Best parameters' in line:\n",
    "        parameter_flag=True"
   ]
  },
  {
   "cell_type": "code",
   "execution_count": null,
   "metadata": {},
   "outputs": [],
   "source": [
    "params"
   ]
  },
  {
   "cell_type": "code",
   "execution_count": null,
   "metadata": {},
   "outputs": [],
   "source": [
    "utils.train_implicit_bpr(train)"
   ]
  },
  {
   "cell_type": "code",
   "execution_count": null,
   "metadata": {},
   "outputs": [],
   "source": []
  },
  {
   "cell_type": "code",
   "execution_count": null,
   "metadata": {},
   "outputs": [],
   "source": []
  },
  {
   "cell_type": "code",
   "execution_count": null,
   "metadata": {},
   "outputs": [],
   "source": []
  },
  {
   "cell_type": "code",
   "execution_count": null,
   "metadata": {},
   "outputs": [],
   "source": []
  },
  {
   "cell_type": "code",
   "execution_count": null,
   "metadata": {},
   "outputs": [],
   "source": [
    "def score_ranks(ranks):\n",
    "    \n",
    "    #normal statistics:\n",
    "    mean = np.mean(ranks)\n",
    "    median = np.median(ranks)\n",
    "\n",
    "    #kde:\n",
    "    density = gaussian_kde(ranks)\n",
    "    xs = np.linspace(0,243,243)\n",
    "    density.covariance_factor= lambda : 0.25\n",
    "    density._compute_covariance()\n",
    "\n",
    "    #empirical cumulative distribution function:\n",
    "    ecdf = [(ranks<i).sum()/len(ranks) for i in range(0, 243)]\n",
    "\n",
    "    return mean, median, density(xs), ecdf"
   ]
  },
  {
   "cell_type": "code",
   "execution_count": null,
   "metadata": {},
   "outputs": [],
   "source": [
    "mean, med, kde, ecdf = plot_ranks(ranks)"
   ]
  },
  {
   "cell_type": "code",
   "execution_count": null,
   "metadata": {},
   "outputs": [],
   "source": [
    "from matplotlib.gridspec import GridSpec\n",
    "fig, ax = plt.subplots(2,2)\n",
    "gs = GridSpec(2, 2, width_ratios=[[6,2],[6,2]])\n",
    "for i in range(4):\n",
    "    ax[i][j].set_position(gs[i].get_position(fig))\n"
   ]
  },
  {
   "cell_type": "code",
   "execution_count": null,
   "metadata": {},
   "outputs": [],
   "source": [
    "gs[4]"
   ]
  },
  {
   "cell_type": "code",
   "execution_count": null,
   "metadata": {},
   "outputs": [],
   "source": [
    "#plt.plot(ecdf)\n",
    "plt.plot(kde)"
   ]
  },
  {
   "cell_type": "code",
   "execution_count": null,
   "metadata": {},
   "outputs": [],
   "source": [
    "def find_opt_pars(filename):\n",
    "    f = open('../hyperparmeter_optimization/'+filename, 'r')\n",
    "    record=False\n",
    "    for line in f:\n",
    "        if 'Paramaters:' in line:\n",
    "            return [float(i) for i in line.strip('\\n').replace('[', '').replace(']', '').replace(',', '').split()[1:]]\n"
   ]
  },
  {
   "cell_type": "code",
   "execution_count": null,
   "metadata": {},
   "outputs": [],
   "source": [
    "pars = find_opt_pars('hpo_implicit_bpr.dat')\n",
    "pars"
   ]
  },
  {
   "cell_type": "code",
   "execution_count": null,
   "metadata": {},
   "outputs": [],
   "source": [
    "def train_implicit_bpr(pars, inp):\n",
    "    model = implicit.bpr.BayesianPersonalizedRanking(factors=int(pars[0]),\n",
    "                                                 learning_rate=pars[1],\n",
    "                                                 regularization=pars[2],\n",
    "                                                 iterations=int(pars[3]),\n",
    "                                                 use_gpu=False)\n",
    "    model.fit(sparse.csr_matrix(inp), show_progress=False)\n",
    "    return np.dot(model.item_factors, model.user_factors.T)\n",
    "\n",
    "\n",
    "pars = find_opt_pars('hpo_implicit_bpr.dat')\n",
    "implicit_bpr_preds = train_implicit_bpr(pars, train)\n",
    "for _ in range(7):\n",
    "    implicit_bpr_preds += train_implicit_bpr(pars, train)\n",
    "implicit_bpr_ranks = utils.evaluate_predictions(implicit_bpr_preds, test)"
   ]
  },
  {
   "cell_type": "code",
   "execution_count": null,
   "metadata": {},
   "outputs": [],
   "source": [
    "def train_implicit_als(pars, inp):\n",
    "    model = implicit.als.AlternatingLeastSquares(factors=params['factors'],\n",
    "                                                 regularization=params['regularization'],\n",
    "                                                 iterations=params['iterations'],\n",
    "                                                 num_threads=1,\n",
    "                                                 use_gpu=False)\n",
    "    model.fit(train)\n",
    "    return np.dot(model.item_factors, model.user_factors.T)\n",
    "        #evaluate by calculating mean rank:\n",
    "        results.append(utils.evaluate_predictions(pred_matrix, test).mean())\n",
    "\n",
    "    return np.mean(results)"
   ]
  },
  {
   "cell_type": "code",
   "execution_count": null,
   "metadata": {},
   "outputs": [],
   "source": [
    "import implicit\n",
    "means = list()\n",
    "medians = list()\n",
    "kdes = list()\n",
    "\n",
    "model = implicit.bpr.BayesianPersonalizedRanking(factors=337,\n",
    "                                                learning_rate=0.06276,\n",
    "                                                regularization=0.001147,\n",
    "                                                iterations=25,\n",
    "                                                use_gpu=False)\n",
    "model.fit(train)\n",
    "\n",
    "imbpr_preds = np.dot(model.item_factors, model.user_factors.T)\n",
    "ranks = utils.evaluate_predictions(imbpr_preds, test)\n",
    "m, med, kde = plot_ranks(ranks)\n",
    "means.append(m)\n",
    "medians.append(med)\n",
    "kdes.append(kde)\n",
    "\n",
    "for _ in range(5):\n",
    "    model = implicit.bpr.BayesianPersonalizedRanking(factors=337,\n",
    "                                                learning_rate=0.06276,\n",
    "                                                regularization=0.001147,\n",
    "                                                iterations=25,\n",
    "                                                use_gpu=False)\n",
    "    model.fit(train)\n",
    "\n",
    "    imbpr_preds += np.dot(model.item_factors, model.user_factors.T)\n",
    "    ranks = utils.evaluate_predictions(imbpr_preds, test)\n",
    "    m, med, kde = plot_ranks(ranks)\n",
    "    means.append(m)\n",
    "    medians.append(med)\n",
    "    kdes.append(kde)"
   ]
  },
  {
   "cell_type": "code",
   "execution_count": null,
   "metadata": {},
   "outputs": [],
   "source": [
    "for _ in range(10):\n",
    "    model = implicit.bpr.BayesianPersonalizedRanking(factors=337,\n",
    "                                                learning_rate=0.06276,\n",
    "                                                regularization=0.001147,\n",
    "                                                iterations=25,\n",
    "                                                use_gpu=False)\n",
    "    model.fit(train)\n",
    "\n",
    "    imbpr_preds += np.dot(model.item_factors, model.user_factors.T)\n",
    "    ranks = utils.evaluate_predictions(imbpr_preds, test)\n",
    "    m, med, kde = plot_ranks(ranks)\n",
    "    means.append(m)\n",
    "    medians.append(med)\n",
    "    kdes.append(kde)"
   ]
  },
  {
   "cell_type": "code",
   "execution_count": null,
   "metadata": {},
   "outputs": [],
   "source": [
    "for k in kdes:\n",
    "    plt.plot(k)"
   ]
  },
  {
   "cell_type": "code",
   "execution_count": null,
   "metadata": {},
   "outputs": [],
   "source": [
    "plt.plot(means)"
   ]
  },
  {
   "cell_type": "code",
   "execution_count": null,
   "metadata": {},
   "outputs": [],
   "source": [
    "plt.plot(np.arange(len(medians)),medians)"
   ]
  },
  {
   "cell_type": "code",
   "execution_count": null,
   "metadata": {},
   "outputs": [],
   "source": [
    "import lightfm\n",
    "means2 =list()\n",
    "medians2=list()\n",
    "kdes2=list()\n",
    "\n",
    "##LightFM:                                                                                                                                                                     \n",
    "#lightfm 'user id' (chemical id)                                                                                                                                               \n",
    "cid = np.arange(train.shape[0])\n",
    "#lightfm 'item id' (target id)                                                                                                                                                 \n",
    "tid = np.arange(train.shape[1])\n",
    "model = lightfm.LightFM(no_components = 127,\n",
    "                           loss='warp',\n",
    "                           max_sampled=9,\n",
    "                           learning_rate=0.056129688436596194)\n",
    "model.fit(sparse.csr_matrix(train), epochs=6)\n",
    "lfm_prediction_matrix = model.predict(np.repeat(cid, len(tid)), np.tile(tid, len(cid)))\n",
    "lfm_prediction_matrix = np.reshape(lfm_prediction_matrix, (len(cid), len(tid)))\n",
    "\n",
    "ranks = utils.evaluate_predictions(lfm_prediction_matrix, test)\n",
    "m, med, kde = plot_ranks(ranks)\n",
    "means2.append(m)\n",
    "medians2.append(med)\n",
    "kdes2.append(kde)\n",
    "\n",
    "for _ in range(10):\n",
    "    print(_)\n",
    "    model = lightfm.LightFM(no_components = 127,\n",
    "                           loss='warp',\n",
    "                           max_sampled=9,\n",
    "                           learning_rate=0.056129688436596194)\n",
    "    model.fit(sparse.csr_matrix(train), epochs=6)\n",
    "\n",
    "    temp = model.predict(np.repeat(cid, len(tid)), np.tile(tid, len(cid)))\n",
    "    lfm_prediction_matrix+=np.reshape(temp, (len(cid), len(tid)))\n",
    "    \n",
    "    ranks = utils.evaluate_predictions(lfm_prediction_matrix, test)\n",
    "    m, med, kde = plot_ranks(ranks)\n",
    "    means2.append(m)\n",
    "    medians2.append(med)\n",
    "    kdes2.append(kde)\n",
    "\n",
    "\n",
    "\n"
   ]
  },
  {
   "cell_type": "code",
   "execution_count": null,
   "metadata": {},
   "outputs": [],
   "source": [
    "plt.plot(means2)"
   ]
  },
  {
   "cell_type": "code",
   "execution_count": null,
   "metadata": {},
   "outputs": [],
   "source": [
    "plt.plot(medians2)"
   ]
  },
  {
   "cell_type": "code",
   "execution_count": null,
   "metadata": {},
   "outputs": [],
   "source": [
    "for i in kdes2:\n",
    "    plt.plot(i)"
   ]
  },
  {
   "cell_type": "code",
   "execution_count": null,
   "metadata": {},
   "outputs": [],
   "source": [
    "ranks1 = utils.evaluate_predictions(imbpr_preds, test)\n",
    "ranks2 = utils.evaluate_predictions(lfm_prediction_matrix, test)"
   ]
  },
  {
   "cell_type": "code",
   "execution_count": null,
   "metadata": {},
   "outputs": [],
   "source": [
    "plt.scatter(ranks1, ranks2, alpha=0.2)"
   ]
  },
  {
   "cell_type": "code",
   "execution_count": null,
   "metadata": {},
   "outputs": [],
   "source": [
    "from scipy.stats.mstats import rankdata\n",
    "one = rankdata(-imbpr_preds[:,0])\n",
    "two = rankdata(-lfm_prediction_matrix[:,0])"
   ]
  },
  {
   "cell_type": "code",
   "execution_count": null,
   "metadata": {},
   "outputs": [],
   "source": [
    "one"
   ]
  },
  {
   "cell_type": "code",
   "execution_count": null,
   "metadata": {},
   "outputs": [],
   "source": [
    "plt.scatter(one, two, alpha=0.005)"
   ]
  },
  {
   "cell_type": "code",
   "execution_count": null,
   "metadata": {},
   "outputs": [],
   "source": [
    "indices = np.argsort(one)\n",
    "\n",
    "plt.scatter(three[indices][:10000], one[indices][:10000], alpha=0.1)"
   ]
  },
  {
   "cell_type": "code",
   "execution_count": null,
   "metadata": {},
   "outputs": [],
   "source": [
    "import statsmodels.api as sm\n",
    "model = sm.OLS(one[indices][:10000], two[indices][:10000])\n",
    "results = model.fit()f\n",
    "print(results.summary())"
   ]
  },
  {
   "cell_type": "code",
   "execution_count": null,
   "metadata": {},
   "outputs": [],
   "source": [
    "kdeplot(one,two)"
   ]
  },
  {
   "cell_type": "markdown",
   "metadata": {},
   "source": [
    "# Predict label scores using label correlation"
   ]
  },
  {
   "cell_type": "code",
   "execution_count": null,
   "metadata": {
    "scrolled": true
   },
   "outputs": [],
   "source": [
    "##This version uses sparse matrices, which keeps everything low\n",
    "##memory. But it's a bit slower because getting/setting sparse objects is in general\n",
    "##slower than numpy. \n",
    "def makeCorrelations(y_in):\n",
    "    assert isinstance(y_in, sparse.csr_matrix)\n",
    "    tot_instances = np.array(y_in.sum(axis=0))[0]\n",
    "    L = sparse.lil_matrix((y_in.shape[1], y_in.shape[1]))\n",
    "\n",
    "    for idx in tqdm_notebook(range(y_in.shape[0]), smoothing=0.1):\n",
    "        row = y_in[idx]\n",
    "        if row.sum()>1:\n",
    "            for j,k in itertools.permutations(row.nonzero()[1], 2):\n",
    "                L[j,k] += (1)/(tot_instances[k])             \n",
    "    return L\n",
    "\n",
    "##This calculates predicted probabilities for labels (1's in the train matrix are preserved as 1's)\n",
    "def makePredictions(y_in, L):\n",
    "    L1 = 1-L.toarray() #working with dense array is much easier for this. \n",
    "                    #but because it's only numLabels x numLabels it's not that big.\n",
    "    y_new = y_in.toarray().astype('float32') #working with a dense array again\n",
    "                                             #for ease of row-wise, elementwise addition \n",
    "    for count, row in tqdm_notebook(enumerate(y_in), total=y_in.shape[0], smoothing=0.1):\n",
    "        posLines = row.nonzero()[1]\n",
    "        corrs = L1[:,posLines]\n",
    "        probs = 1-np.prod(corrs, axis=1)\n",
    "        y_new[count]+=probs #elementwise addition here. \n",
    "        y_new[count] = np.clip(y_new[count], 0, 1)\n",
    "    return sparse.csr_matrix(y_new)"
   ]
  },
  {
   "cell_type": "code",
   "execution_count": null,
   "metadata": {},
   "outputs": [],
   "source": [
    "L = makeCorrelations(train)\n",
    "lc_preds = makePredictions(train, L)"
   ]
  },
  {
   "cell_type": "code",
   "execution_count": null,
   "metadata": {},
   "outputs": [],
   "source": [
    "three = rankdata(-lc_preds.toarray()[:,0])"
   ]
  },
  {
   "cell_type": "code",
   "execution_count": null,
   "metadata": {},
   "outputs": [],
   "source": [
    "plt.scatter(one, three, alpha=0.005)"
   ]
  },
  {
   "cell_type": "code",
   "execution_count": null,
   "metadata": {},
   "outputs": [],
   "source": [
    "plt.scatter(two, three, alpha=0.005)"
   ]
  },
  {
   "cell_type": "code",
   "execution_count": null,
   "metadata": {},
   "outputs": [],
   "source": [
    "bap = [1,2]\n",
    "stdevs =list()\n",
    "stdevs.append(np.std(bap))\n",
    "for _ in range(100):\n",
    "    bap.append(2)\n",
    "    stdevs.append(np.std(bap))"
   ]
  },
  {
   "cell_type": "code",
   "execution_count": null,
   "metadata": {},
   "outputs": [],
   "source": [
    "plt.plot(stdevs)"
   ]
  },
  {
   "cell_type": "code",
   "execution_count": null,
   "metadata": {},
   "outputs": [],
   "source": [
    "def bapbap(predictions, test):\n",
    "    #if isinstance(test, sparse.csr_matrix):\n",
    "    #    test = test.toarray()\n",
    "\n",
    "    #This will mask all ROWS that contain no test ligands. No point ranking\n",
    "    #a row if you're aren't going to evaluate the ranks!\n",
    "    #(and it works on sparse or np.array)\n",
    "    row_mask = np.array(test.sum(axis=1)>0).reshape(-1,)\n",
    "    test_masked = test[row_mask]\n",
    "    get_ranks = test_masked.astype(bool)\n",
    "    prediction_ranks = rankdata(-predictions[row_mask], axis=1)"
   ]
  },
  {
   "cell_type": "code",
   "execution_count": null,
   "metadata": {},
   "outputs": [],
   "source": [
    "def get_ranks_masked():\n",
    "    predictions = copy.copy(lc_preds)\n",
    "    if isinstance(predictions, sparse.csr_matrix):\n",
    "        predictions = predictions.toarray()\n",
    "        \n",
    "    row_mask = np.array(test.sum(axis=1)>0).reshape(-1,)\n",
    "    test_masked = test[row_mask]\n",
    "    get_ranks = test_masked.astype(bool)\n",
    "    predictions2 = np.ma.masked_array(predictions[row_mask], mask=train.toarray()[row_mask].astype(bool))    \n",
    "    prediction_ranks = rankdata(-predictions2, axis=1)\n",
    "    return prediction_ranks[get_ranks.toarray()]\n"
   ]
  },
  {
   "cell_type": "code",
   "execution_count": null,
   "metadata": {},
   "outputs": [],
   "source": [
    "def get_ranks_unmasked():\n",
    "    predictions = copy.copy(lc_preds)\n",
    "    if isinstance(predictions, sparse.csr_matrix):\n",
    "        predictions = predictions.toarray()\n",
    "        \n",
    "    row_mask = np.array(test.sum(axis=1)>0).reshape(-1,)\n",
    "    test_masked = test[row_mask]\n",
    "    get_ranks = test_masked.astype(bool)\n",
    "    #predictions2 = np.ma.masked_array(predictions[row_mask], mask=train.toarray()[row_mask].astype(bool))    \n",
    "    prediction_ranks = rankdata(-predictions[row_mask], axis=1)\n",
    "    return prediction_ranks[get_ranks.toarray()]"
   ]
  },
  {
   "cell_type": "code",
   "execution_count": null,
   "metadata": {
    "scrolled": true
   },
   "outputs": [],
   "source": [
    "r_masked = get_ranks_masked()\n",
    "r_unmasked = get_ranks_unmasked()"
   ]
  },
  {
   "cell_type": "code",
   "execution_count": null,
   "metadata": {},
   "outputs": [],
   "source": [
    "kdeplot(r_masked)\n",
    "kdeplot(r_unmasked)"
   ]
  },
  {
   "cell_type": "code",
   "execution_count": null,
   "metadata": {},
   "outputs": [],
   "source": [
    "r_masked"
   ]
  },
  {
   "cell_type": "code",
   "execution_count": null,
   "metadata": {},
   "outputs": [],
   "source": [
    "r_unmasked"
   ]
  },
  {
   "cell_type": "code",
   "execution_count": null,
   "metadata": {
    "scrolled": true
   },
   "outputs": [],
   "source": [
    "predictions = copy.copy(lc_preds)\n",
    "\n",
    "\n",
    "\n",
    "if isinstance(predictions, sparse.csr_matrix):\n",
    "\tpredictions = predictions.toarray()\n",
    "\n",
    "#predictions = np.ma.masked_array(predictions, mask=train.toarray()[row_mask].astype(bool))    \n",
    "    \n",
    "from scipy.stats.mstats import rankdata\n",
    "row_mask = np.array(test.sum(axis=1)>0).reshape(-1,)\n",
    "\n",
    "test_masked = test[row_mask]\n",
    "get_ranks = test_masked.astype(bool)\n",
    "\n",
    "predictions2 = np.ma.masked_array(predictions[row_mask], mask=train.toarray()[row_mask].astype(bool))    \n",
    "prediction_ranks = rankdata(-predictions2, axis=1)"
   ]
  },
  {
   "cell_type": "code",
   "execution_count": null,
   "metadata": {},
   "outputs": [],
   "source": [
    "kdeplot(prediction_ranks[get_ranks.toarray()])"
   ]
  },
  {
   "cell_type": "code",
   "execution_count": null,
   "metadata": {},
   "outputs": [],
   "source": [
    "get_ranks.toarray()"
   ]
  },
  {
   "cell_type": "markdown",
   "metadata": {},
   "source": [
    "# Predict label scores using implicit BPR:"
   ]
  },
  {
   "cell_type": "code",
   "execution_count": null,
   "metadata": {},
   "outputs": [],
   "source": [
    "import implicit\n",
    "model = implicit.bpr.BayesianPersonalizedRanking(factors=337,\n",
    "                                                learning_rate=0.06276,\n",
    "                                                regularization=0.001147,\n",
    "                                                iterations=25,\n",
    "                                                use_gpu=False)\n",
    "model.fit(train)\n",
    "\n",
    "imbpr_preds = np.dot(model.item_factors, model.user_factors.T)"
   ]
  },
  {
   "cell_type": "code",
   "execution_count": null,
   "metadata": {},
   "outputs": [],
   "source": [
    "def return_mean_rank(preds, test):\n",
    "    t = test.toarray().astype(bool)\n",
    "    #order from highest to lowest:\n",
    "    order = (-preds).argsort(axis=1)\n",
    "    #get ranks of each ligand.\n",
    "    ranks = order.argsort(axis=1)\n",
    "    return ranks[t]"
   ]
  },
  {
   "cell_type": "code",
   "execution_count": null,
   "metadata": {},
   "outputs": [],
   "source": [
    "lc_ranks = return_mean_rank(lc_preds.toarray(), test)"
   ]
  },
  {
   "cell_type": "code",
   "execution_count": null,
   "metadata": {},
   "outputs": [],
   "source": [
    "imbpr_ranks = return_mean_rank(imbpr_preds, test)"
   ]
  },
  {
   "cell_type": "code",
   "execution_count": null,
   "metadata": {
    "scrolled": true
   },
   "outputs": [],
   "source": [
    "plt.figure(figsize=(15,8))\n",
    "kdeplot(lc_ranks, label='Label correlation', cumulative=True)\n",
    "kdeplot(imbpr_ranks, label='ImplicitBPR', cumulative=True)\n",
    "plt.yscale('log')"
   ]
  },
  {
   "cell_type": "code",
   "execution_count": null,
   "metadata": {},
   "outputs": [],
   "source": [
    "from statsmodels.distributions import ECDF\n",
    "ecdf = ECDF(lc_ranks)"
   ]
  },
  {
   "cell_type": "code",
   "execution_count": null,
   "metadata": {
    "scrolled": true
   },
   "outputs": [],
   "source": [
    "lc_ranks"
   ]
  },
  {
   "cell_type": "code",
   "execution_count": null,
   "metadata": {},
   "outputs": [],
   "source": [
    "plt.figure(figsize=(15,6))\n",
    "ecdf = ECDF(lc_ranks)\n",
    "plt.plot(ecdf.x, ecdf.y, label='Label correlation')\n",
    "ecdf = ECDF(imbpr_ranks)\n",
    "plt.plot(ecdf.x, ecdf.y, label='ImplicitBPR')"
   ]
  },
  {
   "cell_type": "code",
   "execution_count": null,
   "metadata": {},
   "outputs": [],
   "source": [
    "plt.figure(figsize=(15,8))\n",
    "#bal = [(test_ranks<i).sum()/len(test_ranks) for i in range(0, 20)]\n",
    "plt.plot([(lc_ranks<i).sum()/len(lc_ranks) for i in range(0, 256)])\n",
    "plt.plot([(imbpr_ranks<i).sum()/len(imbpr_ranks) for i in range(0, 256)])\n",
    "plt.grid()"
   ]
  },
  {
   "cell_type": "code",
   "execution_count": null,
   "metadata": {},
   "outputs": [],
   "source": [
    "sum([(imbpr_ranks<i).sum()/len(imbpr_ranks) for i in range(0, 256)])"
   ]
  },
  {
   "cell_type": "code",
   "execution_count": null,
   "metadata": {},
   "outputs": [],
   "source": [
    "sum([(lc_ranks<i).sum()/len(imbpr_ranks) for i in range(0, 256)])"
   ]
  },
  {
   "cell_type": "code",
   "execution_count": null,
   "metadata": {},
   "outputs": [],
   "source": [
    "print(np.median(pa))\n",
    "print(np.median(wa))"
   ]
  },
  {
   "cell_type": "code",
   "execution_count": null,
   "metadata": {},
   "outputs": [],
   "source": [
    "#order from highest to lowest:\n",
    "order2 = (-pred_matrix2).argsort(axis=1)\n",
    "#get ranks of each ligand.\n",
    "ranks2 = order2.argsort(axis=1)"
   ]
  },
  {
   "cell_type": "code",
   "execution_count": null,
   "metadata": {},
   "outputs": [],
   "source": [
    "#order from highest to lowest:\n",
    "order2 = (-pred_matrix2).argsort(axis=1)\n",
    "#get ranks of each ligand.\n",
    "ranks2 = order2.argsort(axis=1)"
   ]
  },
  {
   "cell_type": "code",
   "execution_count": null,
   "metadata": {},
   "outputs": [],
   "source": [
    "order"
   ]
  },
  {
   "cell_type": "code",
   "execution_count": null,
   "metadata": {},
   "outputs": [],
   "source": [
    "order2.T"
   ]
  },
  {
   "cell_type": "code",
   "execution_count": null,
   "metadata": {
    "scrolled": true
   },
   "outputs": [],
   "source": [
    "kdeplot(ranks2[test.T])"
   ]
  },
  {
   "cell_type": "code",
   "execution_count": null,
   "metadata": {},
   "outputs": [],
   "source": [
    "from lightfm import LightFM, datasets\n",
    "data = datasets.fetch_movielens()\n"
   ]
  },
  {
   "cell_type": "code",
   "execution_count": null,
   "metadata": {},
   "outputs": [],
   "source": [
    "data['train']"
   ]
  },
  {
   "cell_type": "code",
   "execution_count": null,
   "metadata": {
    "scrolled": true
   },
   "outputs": [],
   "source": [
    "ranks2[test.T]"
   ]
  },
  {
   "cell_type": "code",
   "execution_count": null,
   "metadata": {
    "scrolled": true
   },
   "outputs": [],
   "source": [
    "kdeplot(ranks[test])"
   ]
  },
  {
   "cell_type": "code",
   "execution_count": null,
   "metadata": {},
   "outputs": [],
   "source": []
  },
  {
   "cell_type": "code",
   "execution_count": null,
   "metadata": {},
   "outputs": [],
   "source": [
    "##new version, reporting the average rank of test ligands.\n",
    "#order from highest to lowest:\n",
    "order = (-prediction_matrix).argsort()\n",
    "#get ranks of each ligand. \n",
    "ranks = order.argsort()\n",
    "    \n",
    "#calc rank fo each ligand\n",
    "#test2 = np.array(test.todense())\n",
    "test_ranks = ranks[row_mask][np.array(test[row_mask], dtype=bool)]\n",
    "\n",
    "plt.plot(test_ranks, linewidth=0.1)"
   ]
  },
  {
   "cell_type": "code",
   "execution_count": null,
   "metadata": {},
   "outputs": [],
   "source": [
    "ranks = [(test_ranks<i).sum()/len(test_ranks) for i in range(0, 20)]\n",
    "plt.plot(ranks)\n",
    "plt.grid()"
   ]
  },
  {
   "cell_type": "code",
   "execution_count": null,
   "metadata": {},
   "outputs": [],
   "source": [
    "test.toarray().astype(bool)"
   ]
  },
  {
   "cell_type": "code",
   "execution_count": null,
   "metadata": {},
   "outputs": [],
   "source": []
  },
  {
   "cell_type": "code",
   "execution_count": null,
   "metadata": {},
   "outputs": [],
   "source": []
  },
  {
   "cell_type": "code",
   "execution_count": null,
   "metadata": {},
   "outputs": [],
   "source": [
    "fig, ax = plt.subplots()"
   ]
  },
  {
   "cell_type": "code",
   "execution_count": null,
   "metadata": {},
   "outputs": [],
   "source": []
  },
  {
   "cell_type": "code",
   "execution_count": null,
   "metadata": {},
   "outputs": [],
   "source": []
  },
  {
   "cell_type": "code",
   "execution_count": null,
   "metadata": {},
   "outputs": [],
   "source": []
  },
  {
   "cell_type": "code",
   "execution_count": null,
   "metadata": {},
   "outputs": [],
   "source": []
  },
  {
   "cell_type": "code",
   "execution_count": null,
   "metadata": {},
   "outputs": [],
   "source": [
    "import lightfm\n",
    "##LightFM:                                                                                                                                                                     \n",
    "#lightfm 'user id' (chemical id)                                                                                                                                               \n",
    "cid = np.arange(train.shape[0])\n",
    "#lightfm 'item id' (target id)                                                                                                                                                 \n",
    "tid = np.arange(train.shape[1])\n",
    "model = lightfm.LightFM(no_components = 127,\n",
    "                           loss='warp',\n",
    "                           max_sampled=9,\n",
    "                           learning_rate=0.056129688436596194)\n",
    "model.fit(sparse.csr_matrix(train), epochs=6)\n",
    "lfm_prediction_matrix = model.predict(np.repeat(cid, len(tid)), np.tile(tid, len(cid)))\n",
    "lfm_prediction_matrix = np.reshape(lfm_prediction_matrix, (len(cid), len(tid)))\n"
   ]
  },
  {
   "cell_type": "code",
   "execution_count": null,
   "metadata": {},
   "outputs": [],
   "source": [
    "order_lc = (-lc_prediction_matrix).argsort()\n",
    "#get ranks of each ligand. \n",
    "ranks_lc = order_lc.argsort()\n",
    "\n",
    "order_im = (-im_prediction_matrix).argsort()\n",
    "#get ranks of each ligand. \n",
    "ranks_im = order_im.argsort()\n",
    "\n",
    "order_lfm = (-lfm_prediction_matrix).argsort()\n",
    "#get ranks of each ligand. \n",
    "ranks_lfm = order_lfm.argsort()"
   ]
  },
  {
   "cell_type": "code",
   "execution_count": null,
   "metadata": {},
   "outputs": [],
   "source": []
  },
  {
   "cell_type": "code",
   "execution_count": null,
   "metadata": {
    "scrolled": true
   },
   "outputs": [],
   "source": [
    "inverse_ranks_lc = 1/(order_lc.argsort()+1)\n",
    "inverse_ranks_im = 1/(order_im.argsort()+1)\n",
    "inverse_ranks_lfm = 1/(order_lfm.argsort()+1)"
   ]
  },
  {
   "cell_type": "code",
   "execution_count": null,
   "metadata": {},
   "outputs": [],
   "source": [
    "inverse_combined = inverse_ranks_lc+inverse_ranks_im+inverse_ranks_lfm"
   ]
  },
  {
   "cell_type": "code",
   "execution_count": null,
   "metadata": {},
   "outputs": [],
   "source": [
    "order_com = (-inverse_combined).argsort()\n",
    "#get ranks of each ligand. \n",
    "ranks_com = order_com.argsort()\n",
    "print(np.mean(ranks_com[np.array(test, dtype=bool)]))"
   ]
  },
  {
   "cell_type": "code",
   "execution_count": null,
   "metadata": {},
   "outputs": [],
   "source": []
  },
  {
   "cell_type": "code",
   "execution_count": null,
   "metadata": {},
   "outputs": [],
   "source": []
  },
  {
   "cell_type": "code",
   "execution_count": null,
   "metadata": {},
   "outputs": [],
   "source": []
  },
  {
   "cell_type": "code",
   "execution_count": null,
   "metadata": {},
   "outputs": [],
   "source": [
    "avg_ranks = (ranks_lc+ranks_im)/2"
   ]
  },
  {
   "cell_type": "code",
   "execution_count": null,
   "metadata": {},
   "outputs": [],
   "source": [
    "print(np.mean(ranks_lc[np.array(test, dtype=bool)]))\n",
    "\n",
    "print(np.mean(ranks_im[np.array(test, dtype=bool)]))\n",
    "\n",
    "print(np.mean(avg_ranks[np.array(test, dtype=bool)]))"
   ]
  },
  {
   "cell_type": "code",
   "execution_count": null,
   "metadata": {},
   "outputs": [],
   "source": []
  },
  {
   "cell_type": "code",
   "execution_count": null,
   "metadata": {},
   "outputs": [],
   "source": [
    "##new version, reporting the average rank of test ligands.\n",
    "#order from highest to lowest:\n",
    "order = (-prediction_matrix).argsort()\n",
    "#get ranks of each ligand. \n",
    "ranks = order.argsort()\n",
    "    \n",
    "#calc rank fo each ligand\n",
    "#test2 = np.array(test.todense())\n",
    "test_ranks = ranks[row_mask][np.array(test[row_mask], dtype=bool)]\n",
    "\n",
    "plt.plot(test_ranks, linewidth=0.1)"
   ]
  },
  {
   "cell_type": "code",
   "execution_count": null,
   "metadata": {},
   "outputs": [],
   "source": [
    "print(np.mean(test_ranks))\n",
    "print(np.median(test_ranks))\n",
    "\n",
    "plt.figure(figsize=(10,3))\n",
    "density = gaussian_kde(test_ranks)\n",
    "xs = np.linspace(0,243, 300)\n",
    "density.covariance_factor = lambda : 0.25\n",
    "density._compute_covariance()\n",
    "plt.plot(xs,density(xs))\n",
    "plt.axhline(0, c='k')\n",
    "#plt.xlim(-0.5,150)\n",
    "plt.scatter(test_ranks, np.zeros(len(test_ranks))+np.random.uniform(-0.02,0.0, len(test_ranks)), alpha=0.05)"
   ]
  },
  {
   "cell_type": "code",
   "execution_count": null,
   "metadata": {},
   "outputs": [],
   "source": [
    "ranks = [(test_ranks<i).sum()/len(test_ranks) for i in range(0, 20)]\n",
    "plt.plot(ranks)\n",
    "plt.grid()"
   ]
  },
  {
   "cell_type": "code",
   "execution_count": null,
   "metadata": {},
   "outputs": [],
   "source": [
    "ranks"
   ]
  },
  {
   "cell_type": "code",
   "execution_count": null,
   "metadata": {},
   "outputs": [],
   "source": []
  },
  {
   "cell_type": "code",
   "execution_count": null,
   "metadata": {},
   "outputs": [],
   "source": [
    "###load data:\n",
    "#train, test = utils.load_time_split()\n",
    "\n",
    "filenames = ['hpo_implicit_als.dat', 'hpo_implicit_bpr.dat',\n",
    "             'hpo_lightfm_warp.dat', 'hpo_lightfm_bpr.dat']\n",
    "def find_opt_pars(filename):\n",
    "    f = open('../hyperparmeter_optimization/'+filename, 'r')\n",
    "    record=False\n",
    "    for line in f:\n",
    "        if 'Paramaters:' in line:\n",
    "            return [float(i) for i in line.strip('\\n').replace('[', '').replace(']', '').replace(',', '').split()[1:]]\n",
    "\n",
    "\n",
    "\n",
    "\n",
    "def train_implicit_als(pars):\n",
    "    model = implicit.als.AlternatingLeastSquares(factors=int(pars[0]),\n",
    "                                                     regularization=pars[1],\n",
    "                                                     iterations=int(pars[2]),\n",
    "                                                     num_threads=1,\n",
    "                                                     use_gpu=False)\n",
    "    model.fit(sparse.csr_matrix(train))\n",
    "    prediction_matrix=np.dot(model.item_factors, model.user_factors.T)\n",
    "    test_ranks = utils.evaluate_predictions(prediction_matrix, sparse.csr_matrix(test),avg=False)\n",
    "    return np.mean(test_ranks), np.median(test_ranks)\n",
    "\n",
    "def train_implicit_bpr(pars):\n",
    "    model = implicit.bpr.BayesianPersonalizedRanking(factors=int(pars[0]),\n",
    "                                                 learning_rate=pars[1],\n",
    "                                                 regularization=pars[2],\n",
    "                                                 iterations=int(pars[3]),\n",
    "                                                 use_gpu=False)\n",
    "\n",
    "    model.fit(sparse.csr_matrix(train))\n",
    "    prediction_matrix=np.dot(model.item_factors, model.user_factors.T)\n",
    "    #test_ranks = utils.evaluate_predictions(prediction_matrix, sparse.csr_matrix(test),avg=False)\n",
    "    return np.mean(test_ranks), np.median(test_ranks)\n",
    "\n",
    "\n",
    "\n",
    "##LightFM:\n",
    "#lightfm 'user id' (chemical id)\n",
    "cid = np.arange(train.shape[0])\n",
    "#lightfm 'item id' (target id)\n",
    "tid = np.arange(train.shape[1])\n",
    "\n",
    "\n",
    "\n",
    "def train_lightfm_warp(pars):\n",
    "    model = lightfm.LightFM(no_components = int(pars[0]),\n",
    "                           loss='warp',\n",
    "                           max_sampled=int(pars[1]),\n",
    "                           learning_rate=pars[2])\n",
    "    model.fit(sparse.csr_matrix(train), epochs=int(pars[3]))\n",
    "    prediction_matrix = model.predict(np.repeat(cid, len(tid)), np.tile(tid, len(cid)))\n",
    "    prediction_matrix = np.reshape(prediction_matrix, (len(cid), len(tid)))\n",
    "    test_ranks = utils.evaluate_predictions(prediction_matrix, sparse.csr_matrix(test),avg=False)\n",
    "    return np.mean(test_ranks), np.median(test_ranks)\n",
    "\n",
    "def train_lightfm_bpr(pars):\n",
    "    model = lightfm.LightFM(no_components = int(pars[0]),\n",
    "                           loss='bpr',\n",
    "                           max_sampled=int(pars[1]),\n",
    "                           learning_rate=pars[2])\n",
    "    model.fit(sparse.csr_matrix(train), epochs=int(pars[3]))\n",
    "    prediction_matrix = model.predict(np.repeat(cid, len(tid)), np.tile(tid, len(cid)))\n",
    "    prediction_matrix = np.reshape(prediction_matrix, (len(cid), len(tid)))\n",
    "    test_ranks = utils.evaluate_predictions(prediction_matrix, sparse.csr_matrix(test),avg=False)\n",
    "    return np.mean(test_ranks), np.median(test_ranks)\n",
    "\n",
    "\n"
   ]
  },
  {
   "cell_type": "code",
   "execution_count": null,
   "metadata": {
    "scrolled": true
   },
   "outputs": [],
   "source": [
    "def train_implicit_bpr(pars):\n",
    "    model = implicit.bpr.BayesianPersonalizedRanking(factors=int(pars[0]),\n",
    "                                                 learning_rate=pars[1],\n",
    "                                                 regularization=pars[2],\n",
    "                                                 iterations=int(pars[3]),\n",
    "                                                 use_gpu=False)\n",
    "\n",
    "    model.fit(train)\n",
    "    prediction_matrix=np.dot(model.item_factors, model.user_factors.T)\n",
    "    #test_ranks = utils.evaluate_predictions(prediction_matrix, sparse.csr_matrix(test),avg=False)\n",
    "    return prediction_matrix\n",
    "\n",
    "def score_prediction_matrix(preds, test):\n",
    "    t = test.toarray().astype(bool)\n",
    "    #order from highest to lowest:\n",
    "    order = (-preds).argsort(axis=1)\n",
    "    #get ranks of each ligand.\n",
    "    ranks = order.argsort(axis=1)\n",
    "    return ranks[t]\n",
    "\n",
    "#bpr:\n",
    "pars = find_opt_pars(filenames[1])\n",
    "preds = train_implicit_bpr(pars)\n",
    "r = score_prediction_matrix(preds, test)\n",
    "\n",
    "mean = np.mean(r)\n",
    "print(mean)\n",
    "median = np.median(r)\n",
    "print(median)\n",
    "#ecdf = [(r<i).sum()/len(r) for i in range(0, 243)]\n",
    "\n",
    "for _ in range(16):\n",
    "    preds += train_implicit_bpr(pars)\n",
    "    r = score_prediction_matrix(preds, test)\n",
    "    mean = np.mean(r)\n",
    "    print(mean)\n",
    "    median = np.median(r)\n",
    "    print(median)\n",
    "\n",
    "\n",
    "#    outfile.write(filenames[1]+': '+str(mean)+' '+str(median)+'\\n')\n"
   ]
  },
  {
   "cell_type": "code",
   "execution_count": null,
   "metadata": {},
   "outputs": [],
   "source": [
    "preds\n",
    "t = test.toarray().astype(bool)"
   ]
  },
  {
   "cell_type": "code",
   "execution_count": null,
   "metadata": {},
   "outputs": [],
   "source": [
    "#order from highest to lowest:\n",
    "order = (-lc_preds.toarray()).argsort(axis=1)\n",
    "#get ranks of each ligand.\n",
    "ranks = order.argsort(axis=1)"
   ]
  },
  {
   "cell_type": "code",
   "execution_count": null,
   "metadata": {
    "scrolled": true
   },
   "outputs": [],
   "source": [
    "for j,k in zip(*test.toarray().nonzero()):\n",
    "    value = lc_preds[j,k]\n",
    "    if value==0:\n",
    "        one = (-lc_preds.toarray()[j]).argsort()\n",
    "        two = one.argsort()\n",
    "        print('Found a zero, is is rank:',two[k])\n",
    "    print(j,k, value)"
   ]
  },
  {
   "cell_type": "code",
   "execution_count": null,
   "metadata": {},
   "outputs": [],
   "source": [
    "a = np.array([[4,2,7,2,1],[1,2,3,4,5]])\n",
    "rank = a.argsort(axis=1).argsort(axis=1)\n",
    "\n",
    "unique, inverse = np.unique(a, return_inverse = True, axis=0)\n",
    "\n",
    "unique_rank_sum = np.zeros_like(unique)\n",
    "np.add.at(unique_rank_sum, inverse, rank)\n",
    "unique_count = np.zeros_like(unique)\n",
    "np.add.at(unique_count, inverse, 1)\n",
    "\n",
    "unique_rank_mean = unique_rank_sum.astype(np.float) / unique_count\n",
    "\n",
    "rank_mean = unique_rank_mean[inverse]\n",
    "\n",
    "rank_mean"
   ]
  },
  {
   "cell_type": "code",
   "execution_count": null,
   "metadata": {},
   "outputs": [],
   "source": [
    "unique, inverse = np.unique(a, return_inverse = True, axis=1)\n",
    "unique"
   ]
  },
  {
   "cell_type": "code",
   "execution_count": null,
   "metadata": {},
   "outputs": [],
   "source": [
    "unique_rank_sum = np.zeros_like(unique)\n",
    "np.add.at(unique_rank_sum, inverse, rank)\n",
    "unique_rank_sum"
   ]
  },
  {
   "cell_type": "code",
   "execution_count": null,
   "metadata": {},
   "outputs": [],
   "source": [
    "print(-lc_preds.toarray()[0][227])\n",
    "one = (-lc_preds.toarray()[0]).argsort()\n",
    "two = one.argsort()\n",
    "\n"
   ]
  },
  {
   "cell_type": "code",
   "execution_count": null,
   "metadata": {},
   "outputs": [],
   "source": []
  },
  {
   "cell_type": "code",
   "execution_count": null,
   "metadata": {},
   "outputs": [],
   "source": [
    "two[(-lc_preds.toarray()[0]==0)]"
   ]
  },
  {
   "cell_type": "code",
   "execution_count": null,
   "metadata": {},
   "outputs": [],
   "source": [
    "plt.scatter((-lc_preds.toarray()[0]).argsort(), (-lc_preds.toarray()[0]))"
   ]
  },
  {
   "cell_type": "code",
   "execution_count": null,
   "metadata": {},
   "outputs": [],
   "source": [
    "from scipy.stats import rankdata\n",
    "\n",
    "plt.scatter(rankdata(-lc_preds.toarray()[0]), (-lc_preds.toarray()[0]))"
   ]
  },
  {
   "cell_type": "code",
   "execution_count": null,
   "metadata": {},
   "outputs": [],
   "source": [
    "from scipy.stats.mstats import rankdata\n",
    "rankdata(-lc_preds.toarray()[:13000], axis=1)"
   ]
  },
  {
   "cell_type": "code",
   "execution_count": null,
   "metadata": {},
   "outputs": [],
   "source": [
    "rm = np.array(test.sum(axis=1)>0).reshape(-1,)"
   ]
  },
  {
   "cell_type": "code",
   "execution_count": null,
   "metadata": {},
   "outputs": [],
   "source": [
    "test"
   ]
  },
  {
   "cell_type": "code",
   "execution_count": null,
   "metadata": {},
   "outputs": [],
   "source": [
    "%%timeit\n",
    "rm_ranked = rankdata(-lc_preds.toarray()[rm], axis=1)"
   ]
  },
  {
   "cell_type": "code",
   "execution_count": null,
   "metadata": {},
   "outputs": [],
   "source": [
    "trm = test.toarray()[rm].astype(bool)"
   ]
  },
  {
   "cell_type": "code",
   "execution_count": null,
   "metadata": {},
   "outputs": [],
   "source": [
    "test.toarray()[rm]"
   ]
  },
  {
   "cell_type": "code",
   "execution_count": null,
   "metadata": {},
   "outputs": [],
   "source": [
    "trm"
   ]
  },
  {
   "cell_type": "code",
   "execution_count": null,
   "metadata": {},
   "outputs": [],
   "source": [
    "rm_ranked"
   ]
  },
  {
   "cell_type": "code",
   "execution_count": null,
   "metadata": {},
   "outputs": [],
   "source": [
    "def bapbap(predictions, test):\n",
    "    \n",
    "    row_mask = np.array(test.sum(axis=1)>0).reshape(-1,)\n",
    "    test_masked = test[row_mask]\n",
    "    get_ranks = test_masked.toarray().astype(bool) #this will select using boolean all test ranks.\n",
    "\n",
    "    #rankdata approach, which correctly handles ties:\n",
    "    prediction_ranks = rankdata(-predictions[row_mask], axis=1)\n",
    "\n",
    "    #all ranks:\n",
    "    prediction_ranks[get_ranks]\n",
    "    return prediction_ranks"
   ]
  },
  {
   "cell_type": "code",
   "execution_count": null,
   "metadata": {},
   "outputs": [],
   "source": [
    "row_mask = np.array(test.sum(axis=1)>0).reshape(-1,)\n",
    "row_mask"
   ]
  },
  {
   "cell_type": "code",
   "execution_count": null,
   "metadata": {
    "scrolled": true
   },
   "outputs": [],
   "source": [
    "test_masked = test[row_mask]\n",
    "test_masked"
   ]
  },
  {
   "cell_type": "code",
   "execution_count": null,
   "metadata": {},
   "outputs": [],
   "source": [
    "get_ranks = test_masked.toarray().astype(bool)\n",
    "get_ranks"
   ]
  },
  {
   "cell_type": "code",
   "execution_count": null,
   "metadata": {},
   "outputs": [],
   "source": [
    "-lc_preds[row_mask].toarray()"
   ]
  },
  {
   "cell_type": "code",
   "execution_count": null,
   "metadata": {},
   "outputs": [],
   "source": [
    "prediction_ranks = rankdata(-lc_preds[row_mask].toarray(), axis=1)"
   ]
  },
  {
   "cell_type": "code",
   "execution_count": null,
   "metadata": {},
   "outputs": [],
   "source": [
    "lc_preds"
   ]
  },
  {
   "cell_type": "code",
   "execution_count": null,
   "metadata": {},
   "outputs": [],
   "source": [
    "all_test_ranks = prediction_ranks[get_ranks]"
   ]
  },
  {
   "cell_type": "code",
   "execution_count": null,
   "metadata": {},
   "outputs": [],
   "source": [
    "kdeplot(all_test_ranks)"
   ]
  },
  {
   "cell_type": "code",
   "execution_count": null,
   "metadata": {},
   "outputs": [],
   "source": [
    "test.shape"
   ]
  },
  {
   "cell_type": "code",
   "execution_count": null,
   "metadata": {},
   "outputs": [],
   "source": []
  },
  {
   "cell_type": "code",
   "execution_count": null,
   "metadata": {},
   "outputs": [],
   "source": []
  },
  {
   "cell_type": "code",
   "execution_count": null,
   "metadata": {},
   "outputs": [],
   "source": []
  },
  {
   "cell_type": "code",
   "execution_count": null,
   "metadata": {},
   "outputs": [],
   "source": [
    "np.median(rm_ranked[trm])"
   ]
  },
  {
   "cell_type": "code",
   "execution_count": null,
   "metadata": {},
   "outputs": [],
   "source": [
    "trm"
   ]
  },
  {
   "cell_type": "code",
   "execution_count": null,
   "metadata": {},
   "outputs": [],
   "source": []
  },
  {
   "cell_type": "code",
   "execution_count": null,
   "metadata": {},
   "outputs": [],
   "source": [
    "rankdata(-lc_preds.toarray()[0])[lc_preds.toarray()[0]==0]"
   ]
  },
  {
   "cell_type": "code",
   "execution_count": null,
   "metadata": {},
   "outputs": [],
   "source": [
    "from scipy.stats.mstats import rankdata\n",
    "plt.scatter(rankdata(-lc_preds.toarray()[0]), (-lc_preds.toarray()[0]), alpha=0.1)"
   ]
  },
  {
   "cell_type": "code",
   "execution_count": null,
   "metadata": {
    "scrolled": true
   },
   "outputs": [],
   "source": [
    "for j,k in zip(ranks, t):\n",
    "    if sum(k)!=0:\n",
    "        v = np.mean(j[k])\n",
    "        print(v)"
   ]
  },
  {
   "cell_type": "code",
   "execution_count": null,
   "metadata": {},
   "outputs": [],
   "source": [
    "k"
   ]
  },
  {
   "cell_type": "code",
   "execution_count": null,
   "metadata": {},
   "outputs": [],
   "source": [
    "preds[0][t[0]]"
   ]
  },
  {
   "cell_type": "code",
   "execution_count": null,
   "metadata": {
    "scrolled": true
   },
   "outputs": [],
   "source": [
    "r = score_prediction_matrix(preds, test)\n",
    "pr = score_prediction_matrix(lc_preds.toarray(), test)"
   ]
  },
  {
   "cell_type": "code",
   "execution_count": null,
   "metadata": {},
   "outputs": [],
   "source": [
    "pr = rm_ranked[trm]"
   ]
  },
  {
   "cell_type": "code",
   "execution_count": null,
   "metadata": {},
   "outputs": [],
   "source": [
    "pr"
   ]
  },
  {
   "cell_type": "code",
   "execution_count": null,
   "metadata": {
    "scrolled": false
   },
   "outputs": [],
   "source": [
    "plt.figure(figsize=(15,8))\n",
    "mean = np.mean(r)\n",
    "print(mean)\n",
    "median = np.median(r)\n",
    "print(median)\n",
    "ecdf = [(r<i).sum()/len(r) for i in range(0, 243)]\n",
    "plt.plot(ecdf, label='ImplicitBPR')\n",
    "\n",
    "\n",
    "\n",
    "pr = score_prediction_matrix(lc_preds.toarray(), test)\n",
    "mean = np.mean(pr)\n",
    "print(mean)\n",
    "median = np.median(pr)\n",
    "print(median)\n",
    "ecdf = [(pr<i).sum()/len(pr) for i in range(0, 243)]\n",
    "plt.plot(ecdf, label='LabelCorr')\n",
    "\n",
    "\n",
    "pr = rm_ranked[trm]\n",
    "mean = np.mean(pr)\n",
    "print(mean)\n",
    "median = np.median(pr)\n",
    "print(median)\n",
    "ecdf = [(pr<i).sum()/len(pr) for i in range(0, 243)]\n",
    "plt.plot(ecdf, label='LabelCorr.Avg')\n",
    "\n",
    "plt.legend()\n",
    "##plt.ylim(0,20)\n",
    "plt.xlim(0,20)"
   ]
  },
  {
   "cell_type": "code",
   "execution_count": null,
   "metadata": {},
   "outputs": [],
   "source": [
    "mean = np.mean(lc_ranks)\n",
    "print(mean)\n",
    "median = np.median(lc_ranks)\n",
    "print(median)\n",
    "ecdf = [(lc_ranks<i).sum()/len(lc_ranks) for i in range(0, 243)]\n"
   ]
  },
  {
   "cell_type": "code",
   "execution_count": null,
   "metadata": {},
   "outputs": [],
   "source": []
  },
  {
   "cell_type": "code",
   "execution_count": null,
   "metadata": {},
   "outputs": [],
   "source": [
    "plt.plot(ecdf)"
   ]
  },
  {
   "cell_type": "code",
   "execution_count": null,
   "metadata": {},
   "outputs": [],
   "source": [
    "#kdeplot(lc_ranks)\n",
    "kdeplot(r)\n"
   ]
  },
  {
   "cell_type": "code",
   "execution_count": null,
   "metadata": {},
   "outputs": [],
   "source": []
  },
  {
   "cell_type": "code",
   "execution_count": null,
   "metadata": {},
   "outputs": [],
   "source": []
  },
  {
   "cell_type": "code",
   "execution_count": null,
   "metadata": {},
   "outputs": [],
   "source": [
    "#outfile = open('results.dat', 'w')\n",
    "#outfile.write('algorithm, mean, median\\n')\n",
    "\n",
    "##implicit:\n",
    "#als:\n",
    "pars = find_opt_pars(filenames[0])\n",
    "for _ in range(3):\n",
    "    mean, median = train_implicit_als(pars)\n",
    "    #outfile.write(filenames[0]+': '+str(mean)+' '+str(median)+'\\n')\n",
    "\n",
    "#bpr:\n",
    "pars = find_opt_pars(filenames[1])\n",
    "for _ in range(3):\n",
    "    mean, median = train_implicit_bpr(pars)\n",
    "    outfile.write(filenames[1]+': '+str(mean)+' '+str(median)+'\\n')\n",
    "\n",
    "##lightfm\n",
    "#warp\n",
    "pars = find_opt_pars(filenames[2])\n",
    "for _ in range(3):\n",
    "    mean, median = train_lightfm_warp(pars)\n",
    "    outfile.write(filenames[2]+': '+str(mean)+' '+str(median)+'\\n')\n",
    "\n",
    "#bpr\n",
    "pars = find_opt_pars(filenames[3])\n",
    "for _ in range(3):\n",
    "    mean, median = train_lightfm_bpr(pars)\n",
    "    outfile.write(filenames[3]+': '+str(mean)+' '+str(median)+'\\n')\n",
    "\n",
    "#label correlation:\n",
    "L1 = 1- utils.makeCorrelations(train)\n",
    "prediction_matrix = utils.makeProbabilities(train, L1)\n",
    "test_ranks = utils.evaluate_predictions(prediction_matrix, sparse.csr_matrix(test), avg=False)\n",
    "outfile.write('label correl: '+str(np.mean(test_ranks))+' '+str(np.median(test_ranks))+'\\n')\n",
    "\n",
    "\n",
    "outfile.close()"
   ]
  }
 ],
 "metadata": {
  "kernelspec": {
   "display_name": "Python 3",
   "language": "python",
   "name": "python3"
  },
  "language_info": {
   "codemirror_mode": {
    "name": "ipython",
    "version": 3
   },
   "file_extension": ".py",
   "mimetype": "text/x-python",
   "name": "python",
   "nbconvert_exporter": "python",
   "pygments_lexer": "ipython3",
   "version": "3.7.6"
  }
 },
 "nbformat": 4,
 "nbformat_minor": 2
}
