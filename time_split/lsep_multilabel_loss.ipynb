{
 "cells": [
  {
   "cell_type": "code",
   "execution_count": 204,
   "metadata": {},
   "outputs": [],
   "source": [
    "import numpy as np\n",
    "import jax.numpy as jp\n",
    "from scipy import sparse\n",
    "import copy\n",
    "\n",
    "import matplotlib.pyplot as plt\n",
    "%matplotlib inline\n",
    "\n",
    "from tqdm import tqdm_notebook \n",
    "\n",
    "from jax import random\n",
    "from jax.experimental import stax,optimizers\n",
    "from jax.experimental.stax import Dense\n",
    "from jax import grad, value_and_grad, vmap\n",
    "from jax.nn.initializers import he_uniform, glorot_normal\n",
    "from jax.experimental.stax import Dense, Relu, LeakyRelu, Elu, Dropout, Gelu, Sigmoid"
   ]
  },
  {
   "cell_type": "code",
   "execution_count": 158,
   "metadata": {},
   "outputs": [],
   "source": [
    "interaction_matrix = sparse.load_npz('../data/interaction_matrix_pchembl.npz')\n",
    "##interaction_matrix = np.array(interaction_matrix.todense())\n",
    "#\n",
    "interaction_dates = sparse.load_npz('../data/interaction_dates_pchembl.npz')\n",
    "##interaction_dates = np.array(interaction_dates.todense())"
   ]
  },
  {
   "cell_type": "code",
   "execution_count": 18,
   "metadata": {},
   "outputs": [],
   "source": [
    "year=2010\n",
    "#turn interaction dates into a masker\n",
    "dates_mask = (interaction_dates.data<=year).astype(int)\n",
    "\n",
    "\n",
    "#make copies that will become train / test matrices\n",
    "train = copy.copy(interaction_matrix)\n",
    "test = copy.copy(interaction_matrix)\n",
    "\n",
    "#remove 2015 and later records from train matrix\n",
    "train.data = train.data * dates_mask\n",
    "#remove all training data from the test matrix.\n",
    "test.data = test.data - train.data\n",
    "\n",
    "#remove any rows from the train matrix that have zero interactions.\n",
    "#this is the case any time a new ligand is discovered in the cutoff-year or after.\n",
    "#we can't use link prediction on new ligands! It's a cold start problem.\n",
    "#so we remove all these ligands from the present analysis.\n",
    "row_mask = np.array((train.sum(axis=1)!=0)).reshape(1,-1)[0] #there must be a cleaner way to do that.\n",
    "train = train[row_mask]\n",
    "test = test[row_mask]\n",
    "\n",
    "train.eliminate_zeros()\n",
    "test.eliminate_zeros()"
   ]
  },
  {
   "cell_type": "code",
   "execution_count": 20,
   "metadata": {},
   "outputs": [
    {
     "data": {
      "text/plain": [
       "(157161, 243)"
      ]
     },
     "execution_count": 20,
     "metadata": {},
     "output_type": "execute_result"
    }
   ],
   "source": [
    "train.shape"
   ]
  },
  {
   "cell_type": "code",
   "execution_count": null,
   "metadata": {},
   "outputs": [],
   "source": []
  },
  {
   "cell_type": "code",
   "execution_count": 479,
   "metadata": {},
   "outputs": [],
   "source": [
    "def init_my_network():\n",
    "    test_rng = random.PRNGKey(1)\n",
    "    _, dec_init_rng = random.split(random.PRNGKey(2))\n",
    "    ##got median down to about 15 or 16 using glorot_normal and no activations. 3x243.\n",
    "    #243, 125, 243 also works pretty good, with glorot_normal.\n",
    "    decoder_init, decode = stax.serial(\n",
    "        Dense(243, W_init=glorot_normal()), \n",
    "        #Dense(125, W_init=glorot_normal()), \n",
    "        #Dense(243, W_init=glorot_normal()),\n",
    "        Sigmoid)\n",
    "\n",
    "    _, init_decoder_params =decoder_init(dec_init_rng, (-1,243))\n",
    "    opt_init, opt_update, get_params = optimizers.adam(step_size=1e-4)\n",
    "    #opt_init, opt_update, get_params = optimizers.adagrad(step_size=1e-5)\n",
    "    opt_state = opt_init(init_decoder_params)\n",
    "    return opt_state, opt_update, decode, get_params\n",
    "\n",
    "def compare_ranks(score, lab):\n",
    "    return (jp.log(1+jp.exp(score-score[:,jp.newaxis]))*lab).sum()\n",
    "\n",
    "\n",
    "def loss(p, label_vector):\n",
    "    scores = decode(p,label_vector)\n",
    "    #label_mask = label_vector.astype(bool)\n",
    "    #scores_pos = scores[label_mask]\n",
    "    #scores_neg = scores[~label_mask]\n",
    "    #cores_diff = scores_neg-scores_pos[:,jp.newaxis]\n",
    "    \n",
    "    return - vmap(compare_ranks, in_axes=(0,0))(scores, label_vector).sum()\n",
    "\n",
    "\n",
    "def step(i, opt_state):\n",
    "    p = get_params(opt_state)  \n",
    "    #a random input:\n",
    "    label_vector = mymat[np.random.choice(np.arange(mymat.shape[0]), 200, replace=False)]\n",
    "    l, g = value_and_grad(loss)(p, label_vector)\n",
    "    \n",
    "    if i%10==0:\n",
    "        loss_list.append(l)\n",
    "        print(l)\n",
    "    if i%10==0:\n",
    "        print('PRINTING RESULT ON TEST:')\n",
    "        preds = decode(p, train.toarray())\n",
    "        ranks = evaluate_predictions(preds, test, train )\n",
    "        ranks_median_list.append(np.median(ranks))\n",
    "        ranks_mean_list.append(np.mean(ranks))\n",
    "        print(np.median(ranks), np.mean(ranks))\n",
    "        doplot(ranks_median_list, ranks_mean_list)\n",
    "        \n",
    "    return opt_update(i, g, opt_state)\n",
    "\n",
    "def doplot(medians, means):\n",
    "    fig,ax=plt.subplots()\n",
    "    ax.plot(medians, label='medians')\n",
    "    ax.plot(means, label='means')\n",
    "    ax.legend()\n",
    "    fig.savefig('progress.png')\n",
    "    "
   ]
  },
  {
   "cell_type": "code",
   "execution_count": 480,
   "metadata": {},
   "outputs": [],
   "source": [
    "mymat = train.toarray()#interaction_matrix.toarray()\n",
    "\n",
    "row_mask = mymat.sum(axis=1)>1\n",
    "\n",
    "mymat = mymat[row_mask]"
   ]
  },
  {
   "cell_type": "code",
   "execution_count": null,
   "metadata": {
    "scrolled": true
   },
   "outputs": [
    {
     "name": "stderr",
     "output_type": "stream",
     "text": [
      "<ipython-input-481-4979e69eb2bb>:8: TqdmDeprecationWarning: This function will be removed in tqdm==5.0.0\n",
      "Please use `tqdm.notebook.tqdm` instead of `tqdm.tqdm_notebook`\n",
      "  for i in tqdm_notebook(range(100000)):\n"
     ]
    },
    {
     "data": {
      "application/vnd.jupyter.widget-view+json": {
       "model_id": "292d47af080f4333a40165e8852762a6",
       "version_major": 2,
       "version_minor": 0
      },
      "text/plain": [
       "HBox(children=(FloatProgress(value=0.0, max=100000.0), HTML(value='')))"
      ]
     },
     "metadata": {},
     "output_type": "display_data"
    },
    {
     "name": "stdout",
     "output_type": "stream",
     "text": [
      "-95170.914\n",
      "PRINTING RESULT ON TEST:\n",
      "127.0 122.92802726543705\n",
      "-92580.39\n",
      "PRINTING RESULT ON TEST:\n",
      "124.0 121.34643143544507\n",
      "-89433.375\n",
      "PRINTING RESULT ON TEST:\n",
      "122.0 119.70850040096231\n",
      "-101070.01\n",
      "PRINTING RESULT ON TEST:\n",
      "118.0 117.82919005613472\n",
      "-100451.0\n",
      "PRINTING RESULT ON TEST:\n",
      "115.0 116.07959101844426\n",
      "-93780.984\n",
      "PRINTING RESULT ON TEST:\n",
      "113.0 114.26022453889334\n",
      "-103102.24\n",
      "PRINTING RESULT ON TEST:\n",
      "109.5 112.50400962309543\n",
      "-92544.14\n",
      "PRINTING RESULT ON TEST:\n",
      "107.0 110.97072975140337\n",
      "-96365.9\n",
      "PRINTING RESULT ON TEST:\n",
      "105.0 109.38231756214915\n",
      "-96312.29\n",
      "PRINTING RESULT ON TEST:\n",
      "104.0 107.75902165196472\n",
      "-86118.78\n",
      "PRINTING RESULT ON TEST:\n",
      "102.0 106.15477145148355\n",
      "-94165.36\n",
      "PRINTING RESULT ON TEST:\n",
      "99.0 104.52766639935847\n",
      "-107713.37\n",
      "PRINTING RESULT ON TEST:\n",
      "95.0 102.99639133921411\n",
      "-89614.234\n",
      "PRINTING RESULT ON TEST:\n",
      "93.0 101.19186046511628\n",
      "-95672.09\n",
      "PRINTING RESULT ON TEST:\n",
      "91.0 99.58821170809944\n",
      "-100437.016\n",
      "PRINTING RESULT ON TEST:\n",
      "89.0 98.08179631114675\n",
      "-99966.805\n",
      "PRINTING RESULT ON TEST:\n",
      "86.0 96.52004811547714\n",
      "-88061.96\n",
      "PRINTING RESULT ON TEST:\n",
      "84.0 94.94045709703288\n",
      "-101781.086\n",
      "PRINTING RESULT ON TEST:\n",
      "82.0 93.46311146752205\n",
      "-86361.34\n",
      "PRINTING RESULT ON TEST:\n",
      "81.0 91.91940657578188\n"
     ]
    }
   ],
   "source": [
    "loss_list = list()\n",
    "ranks_median_list = list()\n",
    "ranks_mean_list = list()\n",
    "opt_state, opt_update, decode, get_params = init_my_network()\n",
    "\n",
    "\n",
    "\n",
    "for i in tqdm_notebook(range(100000)):\n",
    "    opt_state = step(i, opt_state)\n"
   ]
  },
  {
   "cell_type": "code",
   "execution_count": 467,
   "metadata": {},
   "outputs": [
    {
     "data": {
      "image/png": "[encoded data removed]",
      "text/plain": [
       "<Figure size 432x288 with 1 Axes>"
      ]
     },
     "metadata": {
      "needs_background": "light"
     },
     "output_type": "display_data"
    }
   ],
   "source": [
    "plt.plot(ranks_median_list)\n",
    "plt.plot(ranks_mean_list)\n",
    "plt.yscale('log')"
   ]
  },
  {
   "cell_type": "code",
   "execution_count": 472,
   "metadata": {},
   "outputs": [
    {
     "data": {
      "image/png": "[encoded data removed]",
      "text/plain": [
       "<Figure size 432x288 with 1 Axes>"
      ]
     },
     "metadata": {
      "needs_background": "light"
     },
     "output_type": "display_data"
    }
   ],
   "source": [
    "plt.plot(ranks_median_list)\n",
    "plt.plot(ranks_mean_list)\n",
    "plt.yscale('log')"
   ]
  },
  {
   "cell_type": "code",
   "execution_count": 468,
   "metadata": {},
   "outputs": [
    {
     "data": {
      "text/plain": [
       "[<matplotlib.lines.Line2D at 0x143f40be0>]"
      ]
     },
     "execution_count": 468,
     "metadata": {},
     "output_type": "execute_result"
    },
    {
     "data": {
      "image/png": "[encoded data removed]",
      "text/plain": [
       "<Figure size 432x288 with 1 Axes>"
      ]
     },
     "metadata": {
      "needs_background": "light"
     },
     "output_type": "display_data"
    }
   ],
   "source": [
    "plt.plot(loss_list)\n",
    "#plt.yscale('log')"
   ]
  },
  {
   "cell_type": "code",
   "execution_count": null,
   "metadata": {},
   "outputs": [],
   "source": []
  },
  {
   "cell_type": "code",
   "execution_count": null,
   "metadata": {},
   "outputs": [],
   "source": []
  },
  {
   "cell_type": "code",
   "execution_count": 405,
   "metadata": {},
   "outputs": [],
   "source": [
    "p = get_params(opt_state)\n",
    "\n",
    "label_vector = mymat[np.random.choice(np.arange(mymat.shape[0]), 10, replace=False)]\n",
    "\n",
    "\n",
    "#scores = jp.log(decode(p,label_vector))\n",
    "#l, g = value_and_grad(loss)(p, label_vector)\n"
   ]
  },
  {
   "cell_type": "code",
   "execution_count": 412,
   "metadata": {},
   "outputs": [
    {
     "data": {
      "text/plain": [
       "(array([ 88, 116, 121]),)"
      ]
     },
     "execution_count": 412,
     "metadata": {},
     "output_type": "execute_result"
    }
   ],
   "source": [
    "label_vector[0].nonzero()"
   ]
  },
  {
   "cell_type": "code",
   "execution_count": 414,
   "metadata": {},
   "outputs": [],
   "source": [
    "boop = copy.copy(label_vector[0])\n",
    "boop[88]=0"
   ]
  },
  {
   "cell_type": "code",
   "execution_count": 420,
   "metadata": {
    "scrolled": true
   },
   "outputs": [
    {
     "data": {
      "text/plain": [
       "DeviceArray(0.97073585, dtype=float32)"
      ]
     },
     "execution_count": 420,
     "metadata": {},
     "output_type": "execute_result"
    }
   ],
   "source": [
    "scores = decode(p,boop)\n",
    "scores[88]"
   ]
  },
  {
   "cell_type": "code",
   "execution_count": 431,
   "metadata": {},
   "outputs": [],
   "source": [
    "preds = decode(p, train.toarray())"
   ]
  },
  {
   "cell_type": "code",
   "execution_count": 426,
   "metadata": {},
   "outputs": [
    {
     "data": {
      "text/plain": [
       "DeviceArray([[2.04803725e-03, 5.02913084e-04, 4.99534326e-05, ...,\n",
       "              3.92691945e-05, 5.29636927e-05, 1.16100877e-04],\n",
       "             [9.83567350e-03, 2.96536554e-03, 4.63484321e-03, ...,\n",
       "              2.92881578e-03, 7.03386543e-03, 3.80049320e-03],\n",
       "             [8.58729985e-03, 3.17333592e-03, 4.35902411e-03, ...,\n",
       "              2.51848157e-03, 6.01475220e-03, 3.87987960e-03],\n",
       "             ...,\n",
       "             [2.54777563e-03, 1.41532323e-03, 1.56465766e-03, ...,\n",
       "              4.15920571e-04, 6.49513095e-04, 2.23693647e-03],\n",
       "             [1.13957286e-01, 7.24635944e-02, 1.33379400e-01, ...,\n",
       "              9.52010304e-02, 1.25511751e-01, 1.25550911e-01],\n",
       "             [2.05191057e-02, 1.09566469e-02, 1.20877381e-02, ...,\n",
       "              5.67095168e-03, 7.39753619e-03, 1.53226769e-02]],            dtype=float32)"
      ]
     },
     "execution_count": 426,
     "metadata": {},
     "output_type": "execute_result"
    }
   ],
   "source": [
    "preds"
   ]
  },
  {
   "cell_type": "code",
   "execution_count": 435,
   "metadata": {},
   "outputs": [],
   "source": [
    "from scipy.stats.mstats import rankdata\n",
    "def evaluate_predictions(predictions, test, train):\n",
    "    \"\"\"\n",
    "    Input a numpy array, with rows for instances and columns for labels,\n",
    "    with entries containing predicted interaction scores. Usually, the higher\n",
    "    the highest interaction score corresponds to the top predicted ligand,\n",
    "    and thus function assumes the most positive score is the best.\n",
    "\n",
    "    Calculates the ranks of the test ligands and returns the mean rank.\n",
    "    This is to be optimized (i.e. minimized) by scikit-optimize.\n",
    "\n",
    "    :param prediction_matrix: n by m np array (n = number of instances, m = number of labels)\n",
    "    containg predicted interaction scores resulting from some recommender algorithm\n",
    "    :param test: n by m sparse matrix containing 1's in the positions of each test label. Returned\n",
    "    by train_test_split.\n",
    "#    :param outtype: either 'mean', 'unbiased_mean', or 'full'. Mean gives the mean over\n",
    "#    all ranks for each test label. Unbiased mean accounts for inspection bias (where promiscuous\n",
    "#    ligands are over-represented in the mean statistic) by first taking the mean rank for EACH\n",
    "#    ligand, and then taking mean over all these. 'Full' just returns the ranks of all ligands.\n",
    "    \"\"\"\n",
    "    if isinstance(test, sparse.csr_matrix):\n",
    "        test = test.toarray()\n",
    "    if isinstance(train, sparse.csr_matrix):\n",
    "        train = train.toarray()\n",
    "    if isinstance(predictions, sparse.csr_matrix):\n",
    "        predictions = predictions.toarray()\n",
    "        \n",
    "    #This will mask all ROWS that contain no test ligands. No point ranking\n",
    "    #a row if you're aren't going to evaluate the ranks!\n",
    "    #(and it works on sparse or np.array)\n",
    "    row_mask = np.array(test.sum(axis=1)>0).reshape(-1,)\n",
    "    test_masked = test[row_mask]\n",
    "    get_ranks = test_masked.astype(bool) #this will select using boolean all test ranks.\n",
    "\n",
    "    ####Double argsort approach (not used anymore):\n",
    "    ##order from highest to lowest:\n",
    "    #order = (-prediction_matrix).argsort(axis=1)\n",
    "    ##get ranks of each ligand.\n",
    "    #ranks = order.argsort(axis=1)\n",
    "\n",
    "    #This step masks the known positives from the training set,\n",
    "    #so we are not penalising a highly ranked unknown if it\n",
    "    #is only behind other true positives. This has a pretty substantial\n",
    "    #effect since the algo's are really good at ranking known positives highly.\n",
    "    predictions = np.ma.masked_array(predictions[row_mask], mask=train[row_mask].astype(bool))\n",
    "    #rankdata approach, which correctly handles ties and also thankgod can take masked arrays:\n",
    "    prediction_ranks = rankdata(-predictions, axis=1)\n",
    "\n",
    "    #all ranks:\n",
    "    all_test_ranks = prediction_ranks[get_ranks]\n",
    "    return all_test_ranks"
   ]
  },
  {
   "cell_type": "code",
   "execution_count": 441,
   "metadata": {},
   "outputs": [
    {
     "data": {
      "image/png": "[encoded data removed]",
      "text/plain": [
       "<Figure size 432x288 with 1 Axes>"
      ]
     },
     "metadata": {
      "needs_background": "light"
     },
     "output_type": "display_data"
    }
   ],
   "source": [
    "\n",
    "_=plt.hist(evaluate_predictions(preds, test, train ),bins=100)"
   ]
  },
  {
   "cell_type": "code",
   "execution_count": 442,
   "metadata": {},
   "outputs": [
    {
     "data": {
      "text/plain": [
       "19.0"
      ]
     },
     "execution_count": 442,
     "metadata": {},
     "output_type": "execute_result"
    }
   ],
   "source": [
    "np.median(evaluate_predictions(preds, test, train ))"
   ]
  },
  {
   "cell_type": "code",
   "execution_count": 421,
   "metadata": {},
   "outputs": [
    {
     "data": {
      "text/plain": [
       "0.0"
      ]
     },
     "execution_count": 421,
     "metadata": {},
     "output_type": "execute_result"
    }
   ],
   "source": [
    "boop[88]"
   ]
  },
  {
   "cell_type": "code",
   "execution_count": 375,
   "metadata": {},
   "outputs": [
    {
     "data": {
      "text/plain": [
       "DeviceArray([0.9909168 , 0.9990637 , 0.92579836, 0.9380158 , 0.99847096,\n",
       "             0.99323153, 0.99184316, 0.9799636 , 0.99435014, 0.992063  ,\n",
       "             0.99105144, 0.9153578 , 0.9984981 , 0.9352736 , 0.99890673,\n",
       "             0.98877966, 0.99271977, 0.9924327 , 0.9942002 , 0.9605544 ,\n",
       "             0.9735935 , 0.99101806, 0.9997954 , 0.998541  , 0.98312956,\n",
       "             0.9925373 , 0.9946673 , 0.9909209 , 0.9856199 , 0.9787419 ,\n",
       "             0.9930548 , 0.9415739 , 0.985571  , 0.96346384, 0.9327428 ,\n",
       "             0.99731785, 0.97727215, 0.9963722 , 0.9933961 , 0.9778926 ,\n",
       "             0.99558455, 0.99561334, 0.9900947 , 0.98918647, 0.99664295,\n",
       "             0.9900609 , 0.99845266, 0.9983885 , 0.9951597 , 0.9982951 ,\n",
       "             0.9980013 , 0.99802506, 0.99478793, 0.98140544, 0.99782383,\n",
       "             0.98968315, 0.99683917, 0.9992519 , 0.99615604, 0.9832023 ,\n",
       "             0.9947625 , 0.98282605, 0.97246474, 0.9802782 , 0.96839595,\n",
       "             0.99202466, 0.998694  , 0.99520147, 0.9954625 , 0.9961318 ,\n",
       "             0.9806143 , 0.997269  , 0.9978551 , 0.9947242 , 0.9961538 ,\n",
       "             0.99211615, 0.9489514 , 0.8677469 , 0.98527414, 0.9890153 ,\n",
       "             0.90001   , 0.98705775, 0.9705573 , 0.98644686, 0.99932265,\n",
       "             0.99298966, 0.99883133, 0.9975376 , 0.99949336, 0.97958666,\n",
       "             0.9939725 , 0.9803674 , 0.98453563, 0.99140257, 0.98054594,\n",
       "             0.99932516, 0.9998398 , 0.9793097 , 0.9848194 , 0.9996203 ,\n",
       "             0.99957985, 0.9972479 , 0.99806803, 0.99034166, 0.99945694,\n",
       "             0.97669095, 0.9702389 , 0.98386496, 0.999032  , 0.9896416 ,\n",
       "             0.9992487 , 0.9970143 , 0.9975932 , 0.97652996, 0.9919984 ,\n",
       "             0.9994967 , 0.99927205, 0.9976776 , 0.97040987, 0.9643436 ,\n",
       "             0.9874628 , 0.9986743 , 0.9929108 , 0.9958436 , 0.9921853 ,\n",
       "             0.910621  , 0.98343235, 0.9965789 , 0.9956125 , 0.9342516 ,\n",
       "             0.9956078 , 0.7346047 , 0.9806819 , 0.9822693 , 0.99748766,\n",
       "             0.99891543, 0.9916437 , 0.9763288 , 0.9938764 , 0.9581329 ,\n",
       "             0.99003124, 0.97430295, 0.97859657, 0.9932274 , 0.9408868 ,\n",
       "             0.99481744, 0.96421224, 0.98173046, 0.94672465, 0.9955551 ,\n",
       "             0.9965893 , 0.99152243, 0.9665473 , 0.9926917 , 0.99735105,\n",
       "             0.9903866 , 0.9990165 , 0.97640514, 0.9714343 , 0.9657526 ,\n",
       "             0.99280566, 0.9872651 , 0.9775425 , 0.97019774, 0.9863208 ,\n",
       "             0.9958215 , 0.9987914 , 0.9470345 , 0.927806  , 0.95505697,\n",
       "             0.9748949 , 0.98951364, 0.9485457 , 0.9997161 , 0.97804123,\n",
       "             0.98969144, 0.95531416, 0.98984224, 0.9965765 , 0.93659693,\n",
       "             0.99666107, 0.9941223 , 0.9847419 , 0.9646135 , 0.99551034,\n",
       "             0.96774876, 0.99815243, 0.8949618 , 0.98966914, 0.9471007 ,\n",
       "             0.99419725, 0.977997  , 0.9993412 , 0.98884773, 0.95635855,\n",
       "             0.8826793 , 0.99057066, 0.9846843 , 0.94675255, 0.9899211 ,\n",
       "             0.99693453, 0.8495421 , 0.98697287, 0.9993662 , 0.99845743,\n",
       "             0.99428034, 0.9944502 , 0.9977877 , 0.9850248 , 0.9970662 ,\n",
       "             0.975775  , 0.98868984, 0.99053395, 0.9945368 , 0.9610867 ,\n",
       "             0.99256563, 0.98430496, 0.9889101 , 0.9868355 , 0.9859607 ,\n",
       "             0.91218585, 0.9512605 , 0.98877585, 0.98263204, 0.9913015 ,\n",
       "             0.9986786 , 0.993364  , 0.9911771 , 0.9253206 , 0.99888307,\n",
       "             0.86709535, 0.9980877 , 0.9877894 , 0.9993734 , 0.7791656 ,\n",
       "             0.95513403, 0.97584504, 0.9894996 , 0.9876481 , 0.9899766 ,\n",
       "             0.93747145, 0.        , 0.99202394], dtype=float32)"
      ]
     },
     "execution_count": 375,
     "metadata": {},
     "output_type": "execute_result"
    }
   ],
   "source": [
    "scores[0]*(1-label_vector[0])"
   ]
  },
  {
   "cell_type": "code",
   "execution_count": 296,
   "metadata": {},
   "outputs": [
    {
     "data": {
      "text/plain": [
       "DeviceArray([[0.9999751 , 0.9999608 , 0.99997616, ..., 0.99996555,\n",
       "              0.9999691 , 0.9999573 ],\n",
       "             [0.9987085 , 0.99863297, 0.9988092 , ..., 0.99885046,\n",
       "              0.9986064 , 0.9984738 ],\n",
       "             [0.99692875, 0.99681926, 0.9971359 , ..., 0.997223  ,\n",
       "              0.9970319 , 0.99634725],\n",
       "             ...,\n",
       "             [0.99855417, 0.9982274 , 0.99872535, ..., 0.99846077,\n",
       "              0.9984528 , 0.99829274],\n",
       "             [0.9987085 , 0.99863297, 0.9988092 , ..., 0.99885046,\n",
       "              0.9986064 , 0.9984738 ],\n",
       "             [0.999321  , 0.9991347 , 0.99935323, ..., 0.99939144,\n",
       "              0.9992945 , 0.99908507]], dtype=float32)"
      ]
     },
     "execution_count": 296,
     "metadata": {},
     "output_type": "execute_result"
    }
   ],
   "source": [
    "raw"
   ]
  },
  {
   "cell_type": "code",
   "execution_count": 297,
   "metadata": {},
   "outputs": [
    {
     "data": {
      "text/plain": [
       "array([[-2.4915053e-05, -3.9220628e-05, -2.3842142e-05, ...,\n",
       "        -3.4452078e-05, -3.0875683e-05, -4.2677835e-05],\n",
       "       [-1.2923483e-03, -1.3679677e-03, -1.1914911e-03, ...,\n",
       "        -1.1501964e-03, -1.3945883e-03, -1.5273427e-03],\n",
       "       [-3.0759745e-03, -3.1858117e-03, -2.8682316e-03, ...,\n",
       "        -2.7808435e-03, -2.9724864e-03, -3.6594390e-03],\n",
       "       ...,\n",
       "       [-1.4468761e-03, -1.7741554e-03, -1.2754584e-03, ...,\n",
       "        -1.5404162e-03, -1.5484155e-03, -1.7087149e-03],\n",
       "       [-1.2923483e-03, -1.3679677e-03, -1.1914911e-03, ...,\n",
       "        -1.1501964e-03, -1.3945883e-03, -1.5273427e-03],\n",
       "       [-6.7924679e-04, -8.6565519e-04, -6.4697926e-04, ...,\n",
       "        -6.0874870e-04, -7.0572959e-04, -9.1535004e-04]], dtype=float32)"
      ]
     },
     "execution_count": 297,
     "metadata": {},
     "output_type": "execute_result"
    }
   ],
   "source": [
    "scores = np.log(raw)\n",
    "scores"
   ]
  },
  {
   "cell_type": "code",
   "execution_count": 302,
   "metadata": {
    "scrolled": true
   },
   "outputs": [
    {
     "data": {
      "text/plain": [
       "DeviceArray([3.7049271e-05, 1.3910545e-03, 3.3585858e-03, 1.1374551e-03,\n",
       "             1.9670392e-03, 4.0485064e-04, 1.9693770e-03, 1.6400565e-03,\n",
       "             1.3910545e-03, 8.3291612e-04], dtype=float32)"
      ]
     },
     "execution_count": 302,
     "metadata": {},
     "output_type": "execute_result"
    }
   ],
   "source": [
    "vmap(compare_ranks, in_axes=(0,0))(scores, label_vector)"
   ]
  },
  {
   "cell_type": "code",
   "execution_count": 301,
   "metadata": {},
   "outputs": [
    {
     "data": {
      "text/plain": [
       "3.704942918311682e-05"
      ]
     },
     "execution_count": 301,
     "metadata": {},
     "output_type": "execute_result"
    }
   ],
   "source": [
    "compare_ranks(scores[0], label_vector[0])"
   ]
  },
  {
   "cell_type": "code",
   "execution_count": 352,
   "metadata": {},
   "outputs": [],
   "source": [
    "def compare_ranks(score, lab):\n",
    "    return (jp.log(1+jp.exp(score-score[:,jp.newaxis]))*lab).sum()\n",
    "    \n",
    "    #score_pos = score*lab\n",
    "    #score_neg = score*(1-lab)\n",
    "    #score_diff = score_pos[:,jp.newaxis] - score_neg\n",
    "    return score_diff\n"
   ]
  },
  {
   "cell_type": "code",
   "execution_count": 353,
   "metadata": {
    "scrolled": true
   },
   "outputs": [
    {
     "data": {
      "text/plain": [
       "DeviceArray([673.74445, 168.3947 , 168.33783, 168.34767, 168.36798,\n",
       "             336.8737 , 168.3995 , 168.3622 , 168.3947 , 168.45744],            dtype=float32)"
      ]
     },
     "execution_count": 353,
     "metadata": {},
     "output_type": "execute_result"
    }
   ],
   "source": [
    "vmap(compare_ranks,in_axes=(0,0))(scores, label_vector.astype(bool))"
   ]
  },
  {
   "cell_type": "code",
   "execution_count": 347,
   "metadata": {},
   "outputs": [
    {
     "data": {
      "text/plain": [
       "array([[False, False, False, ..., False, False, False],\n",
       "       [False, False, False, ..., False, False, False],\n",
       "       [False, False, False, ..., False, False, False],\n",
       "       ...,\n",
       "       [False, False, False, ..., False, False, False],\n",
       "       [False, False, False, ..., False, False, False],\n",
       "       [False, False, False, ..., False, False, False]])"
      ]
     },
     "execution_count": 347,
     "metadata": {},
     "output_type": "execute_result"
    }
   ],
   "source": [
    "label_vector.astype(bool)"
   ]
  },
  {
   "cell_type": "code",
   "execution_count": 351,
   "metadata": {},
   "outputs": [
    {
     "data": {
      "text/plain": [
       "<matplotlib.image.AxesImage at 0x1475c6ac0>"
      ]
     },
     "execution_count": 351,
     "metadata": {},
     "output_type": "execute_result"
    },
    {
     "data": {
      "image/png": "[encoded data removed]",
      "text/plain": [
       "<Figure size 432x288 with 1 Axes>"
      ]
     },
     "metadata": {
      "needs_background": "light"
     },
     "output_type": "display_data"
    }
   ],
   "source": [
    "plt.imshow(jp.log(1+jp.exp(score-score[:,jp.newaxis])) * lab)"
   ]
  },
  {
   "cell_type": "code",
   "execution_count": 324,
   "metadata": {
    "scrolled": true
   },
   "outputs": [
    {
     "data": {
      "text/plain": [
       "<matplotlib.image.AxesImage at 0x14717b6d0>"
      ]
     },
     "execution_count": 324,
     "metadata": {},
     "output_type": "execute_result"
    },
    {
     "data": {
      "image/png": "[encoded data removed]",
      "text/plain": [
       "<Figure size 432x288 with 1 Axes>"
      ]
     },
     "metadata": {
      "needs_background": "light"
     },
     "output_type": "display_data"
    }
   ],
   "source": [
    "plt.imshow(score_pos[:,jp.newaxis] - score)"
   ]
  },
  {
   "cell_type": "code",
   "execution_count": null,
   "metadata": {},
   "outputs": [],
   "source": []
  },
  {
   "cell_type": "code",
   "execution_count": null,
   "metadata": {},
   "outputs": [],
   "source": []
  },
  {
   "cell_type": "code",
   "execution_count": null,
   "metadata": {},
   "outputs": [],
   "source": []
  },
  {
   "cell_type": "code",
   "execution_count": null,
   "metadata": {},
   "outputs": [],
   "source": []
  },
  {
   "cell_type": "code",
   "execution_count": 215,
   "metadata": {
    "scrolled": true
   },
   "outputs": [
    {
     "data": {
      "text/plain": [
       "DeviceArray(-7.271253, dtype=float32)"
      ]
     },
     "execution_count": 215,
     "metadata": {},
     "output_type": "execute_result"
    }
   ],
   "source": [
    "compare_ranks(scores[0], mymat[2])"
   ]
  },
  {
   "cell_type": "code",
   "execution_count": 248,
   "metadata": {
    "scrolled": true
   },
   "outputs": [
    {
     "data": {
      "text/plain": [
       "DeviceArray([-3450.667 , -3498.161 , -3458.5847, -3451.861 , -3459.904 ,\n",
       "             -3452.5632, -3473.1384, -3439.0803, -3427.0242, -3470.535 ],            dtype=float32)"
      ]
     },
     "execution_count": 248,
     "metadata": {},
     "output_type": "execute_result"
    }
   ],
   "source": [
    "vmapped = vmap(compare_ranks, in_axes=(0,0))\n",
    "\n",
    "vmapped(scores, label_vector)"
   ]
  },
  {
   "cell_type": "code",
   "execution_count": 223,
   "metadata": {},
   "outputs": [
    {
     "data": {
      "text/plain": [
       "(10, 243)"
      ]
     },
     "execution_count": 223,
     "metadata": {},
     "output_type": "execute_result"
    }
   ],
   "source": [
    "scores.shape"
   ]
  },
  {
   "cell_type": "code",
   "execution_count": 226,
   "metadata": {},
   "outputs": [
    {
     "data": {
      "text/plain": [
       "DeviceArray([[0., 0., 0., ..., 0., 0., 0.],\n",
       "             [0., 0., 0., ..., 0., 0., 0.],\n",
       "             [0., 0., 0., ..., 0., 0., 0.],\n",
       "             ...,\n",
       "             [0., 0., 0., ..., 0., 0., 0.],\n",
       "             [0., 0., 0., ..., 0., 0., 0.],\n",
       "             [0., 0., 0., ..., 0., 0., 0.]], dtype=float32)"
      ]
     },
     "execution_count": 226,
     "metadata": {},
     "output_type": "execute_result"
    }
   ],
   "source": [
    "jp.array(label_vector)"
   ]
  },
  {
   "cell_type": "code",
   "execution_count": 192,
   "metadata": {},
   "outputs": [],
   "source": [
    "scores = jp.log(decode(p,label_vector))\n",
    "label_mask = label_vector.astype(bool)\n",
    "scores_pos = scores[label_mask]\n",
    "scores_neg = scores[~label_mask]\n",
    "    \n",
    "scores_diff = scores_neg-scores_pos[:,jp.newaxis]"
   ]
  },
  {
   "cell_type": "code",
   "execution_count": 194,
   "metadata": {},
   "outputs": [
    {
     "data": {
      "text/plain": [
       "(10, 243)"
      ]
     },
     "execution_count": 194,
     "metadata": {},
     "output_type": "execute_result"
    }
   ],
   "source": [
    "scores.shape"
   ]
  },
  {
   "cell_type": "code",
   "execution_count": 202,
   "metadata": {},
   "outputs": [
    {
     "data": {
      "text/plain": [
       "DeviceArray([-0.5622527 , -0.5781313 , -0.5528097 , -0.38716915,\n",
       "             -0.335316  , -0.52157825, -0.35522795, -0.6382668 ,\n",
       "             -0.6067904 , -0.63247275, -0.62135357, -0.38355547],            dtype=float32)"
      ]
     },
     "execution_count": 202,
     "metadata": {},
     "output_type": "execute_result"
    }
   ],
   "source": [
    "scores[label_mask]"
   ]
  },
  {
   "cell_type": "code",
   "execution_count": 203,
   "metadata": {},
   "outputs": [
    {
     "data": {
      "text/plain": [
       "12"
      ]
     },
     "execution_count": 203,
     "metadata": {},
     "output_type": "execute_result"
    }
   ],
   "source": [
    "np.sum(label_mask)"
   ]
  },
  {
   "cell_type": "code",
   "execution_count": 199,
   "metadata": {},
   "outputs": [
    {
     "data": {
      "text/plain": [
       "(array([232]),)"
      ]
     },
     "execution_count": 199,
     "metadata": {},
     "output_type": "execute_result"
    }
   ],
   "source": [
    "label_vector[0].nonzero()"
   ]
  },
  {
   "cell_type": "code",
   "execution_count": 200,
   "metadata": {},
   "outputs": [
    {
     "data": {
      "text/plain": [
       "DeviceArray(-0.5622527, dtype=float32)"
      ]
     },
     "execution_count": 200,
     "metadata": {},
     "output_type": "execute_result"
    }
   ],
   "source": [
    "scores[0][232]"
   ]
  },
  {
   "cell_type": "code",
   "execution_count": null,
   "metadata": {},
   "outputs": [],
   "source": []
  },
  {
   "cell_type": "code",
   "execution_count": null,
   "metadata": {},
   "outputs": [],
   "source": []
  },
  {
   "cell_type": "code",
   "execution_count": null,
   "metadata": {},
   "outputs": [],
   "source": []
  },
  {
   "cell_type": "code",
   "execution_count": null,
   "metadata": {},
   "outputs": [],
   "source": []
  },
  {
   "cell_type": "code",
   "execution_count": 74,
   "metadata": {},
   "outputs": [],
   "source": [
    "p = get_params(opt_state)"
   ]
  },
  {
   "cell_type": "code",
   "execution_count": 148,
   "metadata": {},
   "outputs": [],
   "source": [
    "mymat = interaction_matrix.toarray()"
   ]
  },
  {
   "cell_type": "code",
   "execution_count": 152,
   "metadata": {},
   "outputs": [
    {
     "data": {
      "text/plain": [
       "32"
      ]
     },
     "execution_count": 152,
     "metadata": {},
     "output_type": "execute_result"
    }
   ],
   "source": [
    "np.random.choice(np.arange(243))"
   ]
  },
  {
   "cell_type": "code",
   "execution_count": null,
   "metadata": {},
   "outputs": [],
   "source": []
  }
 ],
 "metadata": {
  "kernelspec": {
   "display_name": "Python 3",
   "language": "python",
   "name": "python3"
  },
  "language_info": {
   "codemirror_mode": {
    "name": "ipython",
    "version": 3
   },
   "file_extension": ".py",
   "mimetype": "text/x-python",
   "name": "python",
   "nbconvert_exporter": "python",
   "pygments_lexer": "ipython3",
   "version": "3.8.0"
  }
 },
 "nbformat": 4,
 "nbformat_minor": 2
}
