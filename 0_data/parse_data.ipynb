{
 "cells": [
  {
   "cell_type": "code",
   "execution_count": 27,
   "metadata": {},
   "outputs": [],
   "source": [
    "import pandas as pd\n",
    "import numpy as np\n",
    "import tqdm\n",
    "import copy\n",
    "from scipy import sparse"
   ]
  },
  {
   "cell_type": "code",
   "execution_count": 3,
   "metadata": {},
   "outputs": [],
   "source": [
    "#load and drop duplicate records \n",
    "df =pd.read_csv('classes_data_pchembl.csv').drop_duplicates(['chembl_id', 'lig_chemblid'])\n",
    "\n",
    "#filter for number of ligands per target:\n",
    "low = 500\n",
    "high = 5000\n",
    "df = df.groupby('chembl_id').filter(lambda x : (len(x)>500) and (len(x)<5000) ) "
   ]
  },
  {
   "cell_type": "code",
   "execution_count": 18,
   "metadata": {},
   "outputs": [],
   "source": [
    "num_instances = df['lig_chemblid'].unique().shape[0]\n",
    "num_targets = df['chembl_id'].unique().shape[0]\n",
    "\n",
    "#interaction matrix:\n",
    "interaction_matrix = np.zeros([num_instances, num_targets])\n",
    "#interaction dates:\n",
    "interaction_dates = copy.copy(interaction_matrix)"
   ]
  },
  {
   "cell_type": "code",
   "execution_count": 22,
   "metadata": {},
   "outputs": [
    {
     "name": "stderr",
     "output_type": "stream",
     "text": [
      "/Users/lmar3213/miniconda3/envs/lew_conda/lib/python3.7/site-packages/ipykernel_launcher.py:15: TqdmDeprecationWarning: This function will be removed in tqdm==5.0.0\n",
      "Please use `tqdm.notebook.tqdm` instead of `tqdm.tqdm_notebook`\n",
      "  from ipykernel import kernelapp as app\n"
     ]
    },
    {
     "data": {
      "application/vnd.jupyter.widget-view+json": {
       "model_id": "ee7f1efba5d944ec949bbf6050db567e",
       "version_major": 2,
       "version_minor": 0
      },
      "text/plain": [
       "HBox(children=(FloatProgress(value=0.0, max=454516.0), HTML(value='')))"
      ]
     },
     "metadata": {},
     "output_type": "display_data"
    },
    {
     "name": "stdout",
     "output_type": "stream",
     "text": [
      "\n"
     ]
    }
   ],
   "source": [
    "###setting up column indices, to use in filling in the matrices above\n",
    "tids = df.sort_values('chembl_id')['chembl_id'].unique()\n",
    "cids = df.sort_values('lig_chemblid')['lig_chemblid'].unique()\n",
    "target_indices = dict()\n",
    "for count, i in enumerate(tids):\n",
    "    target_indices[i]=count\n",
    "\n",
    "instance_indices = dict()\n",
    "for count, i in enumerate(cids):\n",
    "    instance_indices[i]=count\n",
    "\n",
    "\n",
    "#Actually filling the values:\n",
    "for count, item in tqdm.tqdm_notebook(df.iterrows(), \n",
    "                                      total=len(df),\n",
    "                                      smoothing=0):\n",
    "    t_id = item['chembl_id']\n",
    "    i_id = item['lig_chemblid']\n",
    "    date = item['year']\n",
    "\n",
    "    row = instance_indices[i_id]\n",
    "    column = target_indices[t_id]\n",
    "\n",
    "    interaction_matrix[row, column] = 1\n",
    "    interaction_dates[row, column] = date"
   ]
  },
  {
   "cell_type": "code",
   "execution_count": 25,
   "metadata": {},
   "outputs": [
    {
     "name": "stdout",
     "output_type": "stream",
     "text": [
      "passed\n",
      "Matrix shape: (318026, 300)\n"
     ]
    }
   ],
   "source": [
    "#Do a little test to make sure some randomly chosen positives in the interaction_matrix line up with real entries in the df.\n",
    "\n",
    "for _ in range(100):\n",
    "    row = np.random.choice(interaction_matrix.shape[0]) #select random instance\n",
    "    col = np.random.choice(interaction_matrix[row].nonzero()[0]) #select from positives of that instance\n",
    "    assert tids[col] in list(df[df['lig_chemblid']==cids[row]]['chembl_id'])\n",
    "    \n",
    "print('passed')\n",
    "print('Matrix shape:', interaction_matrix.shape)"
   ]
  },
  {
   "cell_type": "code",
   "execution_count": 28,
   "metadata": {},
   "outputs": [],
   "source": [
    "\n",
    "fname = 'pchembl'\n",
    "\n",
    "##Save all the data\n",
    "sparse.save_npz('./interaction_dates_'+fname+'.npz', sparse.csr_matrix(interaction_dates))\n",
    "sparse.save_npz('./interaction_matrix_'+fname+'.npz', sparse.csr_matrix(interaction_matrix))\n",
    "\n",
    "\n",
    "df.sort_values('lig_chemblid').drop_duplicates(['lig_chemblid'])[['lig_chemblid', 'canonical_smiles']].to_csv('./'+fname+'_chemicals.csv', index=False)\n",
    "df.sort_values('chembl_id').drop_duplicates(['chembl_id'])['pref_name'].to_csv('subset_targets', index=False, header=None)\n",
    "df.sort_values('chembl_id').drop_duplicates(['chembl_id']).to_csv('subset_targets.csv', index=False)"
   ]
  }
 ],
 "metadata": {
  "kernelspec": {
   "display_name": "Python 3",
   "language": "python",
   "name": "python3"
  },
  "language_info": {
   "codemirror_mode": {
    "name": "ipython",
    "version": 3
   },
   "file_extension": ".py",
   "mimetype": "text/x-python",
   "name": "python",
   "nbconvert_exporter": "python",
   "pygments_lexer": "ipython3",
   "version": "3.7.8"
  }
 },
 "nbformat": 4,
 "nbformat_minor": 4
}
