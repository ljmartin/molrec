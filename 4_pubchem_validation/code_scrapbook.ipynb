{
 "cells": [
  {
   "cell_type": "code",
   "execution_count": 1,
   "metadata": {},
   "outputs": [],
   "source": [
    "%matplotlib inline\n",
    "import matplotlib\n",
    "import matplotlib.pyplot as plt\n",
    "\n",
    "import pandas as pd\n",
    "from pprint import pprint\n",
    "\n",
    "import re\n",
    "\n",
    "from tqdm import tqdm_notebook\n",
    "\n",
    "import scipy\n",
    "from scipy import sparse\n",
    "from scipy import stats\n",
    "\n",
    "import pubchempy as pcp\n",
    "from chembl_webresource_client.new_client import new_client \n",
    "import json\n",
    "import requests\n",
    "\n",
    "import copy\n",
    "\n",
    "import rdkit\n",
    "from rdkit import Chem\n",
    "from rdkit.Chem import Draw\n",
    "from rdkit.Chem.Draw import IPythonConsole"
   ]
  },
  {
   "cell_type": "code",
   "execution_count": 2,
   "metadata": {},
   "outputs": [
    {
     "name": "stderr",
     "output_type": "stream",
     "text": [
      "/Users/lmar3213/miniconda3/envs/lew_conda/lib/python3.7/site-packages/lightfm/_lightfm_fast.py:9: UserWarning: LightFM was compiled without OpenMP support. Only a single thread will be used.\n",
      "  warnings.warn('LightFM was compiled without OpenMP support. '\n"
     ]
    }
   ],
   "source": [
    "import sys\n",
    "sys.path.append(\"..\")\n",
    "import utils\n",
    "import numpy as np"
   ]
  },
  {
   "cell_type": "code",
   "execution_count": 3,
   "metadata": {},
   "outputs": [],
   "source": [
    "#all labels:\n",
    "interaction_matrix = sparse.load_npz('../data/interaction_matrix_pchembl.npz')\n",
    "smiles = pd.read_csv('../data/pchembl_chemicals.csv')\n",
    "targets = pd.read_csv('../data/subset_targets.csv')"
   ]
  },
  {
   "cell_type": "code",
   "execution_count": 4,
   "metadata": {},
   "outputs": [
    {
     "name": "stderr",
     "output_type": "stream",
     "text": [
      "  0%|          | 249/85681 [00:00<00:34, 2479.39it/s]"
     ]
    },
    {
     "name": "stdout",
     "output_type": "stream",
     "text": [
      "y_in shape is: (337951, 243)\n"
     ]
    },
    {
     "name": "stderr",
     "output_type": "stream",
     "text": [
      "100%|██████████| 85681/85681 [00:26<00:00, 3225.35it/s]\n",
      "100%|██████████| 337951/337951 [01:00<00:00, 5585.28it/s]\n"
     ]
    }
   ],
   "source": [
    "probability_matrix = utils.train_label_correlation(interaction_matrix)"
   ]
  },
  {
   "cell_type": "code",
   "execution_count": 5,
   "metadata": {},
   "outputs": [],
   "source": [
    "train, test, fps = utils.load_time_split(year=2030, return_fingerprints=True) #set a year after now"
   ]
  },
  {
   "cell_type": "code",
   "execution_count": 6,
   "metadata": {},
   "outputs": [],
   "source": [
    "##The following is to calculate AVE bias:\n",
    "def fast_jaccard(X, Y=None):\n",
    "    \"\"\"credit: https://stackoverflow.com/questions/32805916/compute-jaccard-distances-on-sparse-matrix\"\"\"\n",
    "    if isinstance(X, np.ndarray):\n",
    "        X = sparse.csr_matrix(X)\n",
    "    if Y is None:\n",
    "        Y = X\n",
    "    else:\n",
    "        if isinstance(Y, np.ndarray):\n",
    "            Y = sparse.csr_matrix(Y)\n",
    "    assert X.shape[1] == Y.shape[1]\n",
    "\n",
    "    X = X.astype(bool).astype(int)\n",
    "    Y = Y.astype(bool).astype(int)\n",
    "    intersect = X.dot(Y.T)\n",
    "    x_sum = X.sum(axis=1).A1\n",
    "    y_sum = Y.sum(axis=1).A1\n",
    "    xx, yy = np.meshgrid(x_sum, y_sum)\n",
    "    union = ((xx + yy).T - intersect)\n",
    "    return (1 - intersect / union).A\n"
   ]
  },
  {
   "cell_type": "code",
   "execution_count": 7,
   "metadata": {},
   "outputs": [],
   "source": [
    "probability_arr = probability_matrix.toarray()"
   ]
  },
  {
   "cell_type": "code",
   "execution_count": 8,
   "metadata": {},
   "outputs": [
    {
     "name": "stdout",
     "output_type": "stream",
     "text": [
      "Should be a high number < 1:\n",
      "0.99991256\n",
      "Should be a low number >= 0:\n",
      "0.0\n",
      "Sorted array indices:\n"
     ]
    },
    {
     "data": {
      "text/plain": [
       "array([[328242,    138],\n",
       "       [ 68104,    138],\n",
       "       [315225,     72],\n",
       "       ...,\n",
       "       [132327,     26],\n",
       "       [132327,     28],\n",
       "       [337950,    242]])"
      ]
     },
     "execution_count": 8,
     "metadata": {},
     "output_type": "execute_result"
    }
   ],
   "source": [
    "arr = probability_matrix.toarray()\n",
    "arr = arr - interaction_matrix\n",
    "arr_sorted = np.dstack(np.unravel_index(np.argsort(-arr.ravel()), (arr.shape[0], arr.shape[1])))[0]\n",
    "print('Should be a high number < 1:')\n",
    "print(probability_arr[arr_sorted[0][0]][arr_sorted[0][1]])\n",
    "print('Should be a low number >= 0:')\n",
    "print(probability_arr[arr_sorted[-1][0]][arr_sorted[-1][1]])\n",
    "print('Sorted array indices:')\n",
    "arr_sorted"
   ]
  },
  {
   "cell_type": "code",
   "execution_count": 9,
   "metadata": {},
   "outputs": [],
   "source": [
    "\n",
    "n = 500000\n",
    "probs = probability_arr[arr_sorted[:n][:,0], arr_sorted[:n][:,1]]"
   ]
  },
  {
   "cell_type": "code",
   "execution_count": 10,
   "metadata": {},
   "outputs": [
    {
     "data": {
      "text/plain": [
       "[<matplotlib.lines.Line2D at 0x7fef8054c210>]"
      ]
     },
     "execution_count": 10,
     "metadata": {},
     "output_type": "execute_result"
    },
    {
     "data": {
      "image/png": "[encoded data removed]",
      "text/plain": [
       "<Figure size 432x288 with 1 Axes>"
      ]
     },
     "metadata": {
      "needs_background": "light"
     },
     "output_type": "display_data"
    }
   ],
   "source": [
    "import matplotlib.pyplot as plt\n",
    "plt.plot(probs)"
   ]
  },
  {
   "cell_type": "code",
   "execution_count": 16,
   "metadata": {
    "scrolled": true
   },
   "outputs": [
    {
     "data": {
      "image/png": "[encoded data removed]",
      "text/plain": [
       "<Figure size 432x288 with 1 Axes>"
      ]
     },
     "metadata": {
      "needs_background": "light"
     },
     "output_type": "display_data"
    }
   ],
   "source": [
    "_ =plt.hist(np.random.choice(n, 50000, replace=False), bins=100)"
   ]
  },
  {
   "cell_type": "code",
   "execution_count": null,
   "metadata": {},
   "outputs": [],
   "source": []
  },
  {
   "cell_type": "code",
   "execution_count": null,
   "metadata": {},
   "outputs": [],
   "source": []
  },
  {
   "cell_type": "code",
   "execution_count": null,
   "metadata": {},
   "outputs": [],
   "source": []
  },
  {
   "cell_type": "code",
   "execution_count": 17,
   "metadata": {
    "scrolled": true
   },
   "outputs": [
    {
     "name": "stdout",
     "output_type": "stream",
     "text": [
      "C[C@@H](Oc... Vascular endothelial growth factor receptor 2 \t Vascular endothelial growth factor receptor 2\n",
      "CHEMBL601719 C[C@@H](Oc1cc(cnc1N)c2cnn(c2)C3CCNCC3)c4c(Cl)ccc(F)c4Cl\n",
      "Nc1ncnc2sc... Vascular endothelial growth factor receptor 2 \t Vascular endothelial growth factor receptor 2\n",
      "CHEMBL1998585 Nc1ncnc2scc(c3ccc(NC(=O)Nc4cc(ccc4F)C(F)(F)F)cc3)c12\n",
      "CCN(CC)CCN... Serine/threonine-protein kinase PIM1 \t Serine/threonine-protein kinase PIM1\n",
      "CHEMBL535 CCN(CC)CCNC(=O)c1c(C)[nH]c(\\C=C\\2/C(=O)Nc3ccc(F)cc23)c1C\n",
      "CNC(=O)c1c... Vascular endothelial growth factor receptor 2 \t Vascular endothelial growth factor receptor 2\n",
      "CHEMBL2005631 CNC(=O)c1cnc(N)c2c(csc12)c3ccc(NC(=O)Nc4cc(C)ccc4F)cc3\n",
      "Cn1cc(cn1)... Vascular endothelial growth factor receptor 2 \t Vascular endothelial growth factor receptor 2\n",
      "CHEMBL1988717 Cn1cc(cn1)c2cnn3c(N)c(cnc23)c4ccc(NC(=O)Nc5cccc(c5)C(F)(F)F)cc4\n",
      "Cc1ccc(NC(... Vascular endothelial growth factor receptor 2 \t Vascular endothelial growth factor receptor 2\n",
      "CHEMBL2000335 Cc1ccc(NC(=O)Nc2ccc(cc2)c3csc4ncnc(N)c34)cc1C\n",
      "Fc1cccc(c1... Serine/threonine-protein kinase PIM1 \t Serine/threonine-protein kinase PIM1\n",
      "CHEMBL2003638 Fc1cccc(c1)C(=O)Nc2n[nH]c3ccc(cc23)c4cn(Cc5ccccc5)nn4\n",
      "CCCC(=O)Nc... Serine/threonine-protein kinase PIM1 \t Serine/threonine-protein kinase PIM1\n",
      "CHEMBL2005936 CCCC(=O)Nc1n[nH]c2ccc(cc12)c3nnn(Cc4ccccc4)c3c5ccccc5\n",
      "NCCCn1cc(c... Serine/threonine-protein kinase PIM1 \t Serine/threonine-protein kinase PIM1\n",
      "CHEMBL592030 NCCCn1cc(c2cc(c3cc4ccccc4s3)c5[nH]ncc5c2)c6nc(N)ncc16\n",
      "COc1ccc(cc... Serine/threonine-protein kinase PIM1 \t Serine/threonine-protein kinase PIM1\n",
      "CHEMBL1190711 COc1ccc(cc1OC)c2cc3nccn3c(Nc4ncccc4C(=O)N)n2\n"
     ]
    }
   ],
   "source": [
    "##Test that it lines up:\n",
    "for pair in arr_sorted[:10]:\n",
    "    smi = smiles['canonical_smiles'].iloc[pair[0]]\n",
    "    chembl_id = smiles['instance_id'].iloc[pair[0]]\n",
    "    predicted_target = targets['pref_name'].iloc[pair[1]]\n",
    "    tid = targets[targets['pref_name']==predicted_target]['pref_name'].iloc[0]\n",
    "    print(smi[:10]+'...', predicted_target, '\\t', tid)\n",
    "    print(chembl_id, smi)\n"
   ]
  },
  {
   "cell_type": "code",
   "execution_count": 18,
   "metadata": {},
   "outputs": [],
   "source": [
    "def get_nnrank_of_target(ligand_idx, target_idx):\n",
    "    positives = interaction_matrix[ligand_idx].nonzero()[1]\n",
    "    all_distances = all_distances =fast_jaccard(fps[ligand_idx], fps)[0]\n",
    "    s = np.argsort(all_distances)\n",
    "    \n",
    "    pred = target_idx\n",
    "    curr_rank = 0\n",
    "    count=1\n",
    "    preds = []\n",
    "    seen = []\n",
    "\n",
    "    while pred not in preds:\n",
    "        predictions = interaction_matrix[s[count]].nonzero()[1]\n",
    "    \n",
    "        preds = np.setdiff1d(predictions,positives)\n",
    "        preds = np.setdiff1d(preds, seen)\n",
    "        seen += list(preds)\n",
    "        curr_rank += 0 if len(preds)<1 else np.mean(np.arange(len(preds))+1)\n",
    "\n",
    "        count+=1\n",
    "    return curr_rank\n",
    "    #rank = (np.array(seen)[np.sort(np.unique(seen, return_index=True)[1])] == pred).nonzero()[0] + 1\n",
    "    return rank"
   ]
  },
  {
   "cell_type": "code",
   "execution_count": 19,
   "metadata": {},
   "outputs": [],
   "source": [
    "def clean_text(input_string):\n",
    "    #source: https://stackoverflow.com/questions/34860982/replace-the-punctuation-with-whitespace\n",
    "    #replace these with whitespace:\n",
    "    clean_string = re.sub(r\"\"\"\n",
    "               [(),.;@#?!&$]+  # Accept one or more copies of punctuation\n",
    "               \\ *           # plus zero or more copies of a space,\n",
    "               \"\"\",\n",
    "               \" \",          # and replace it with a single space\n",
    "               input_string.lower(), flags=re.VERBOSE)\n",
    "    \n",
    "    #replace these with nothing:\n",
    "    clean_string = clean_string.replace('-', '')\n",
    "    clean_string = clean_string.replace('=', '')\n",
    "    return clean_string\n",
    "\n",
    "\n",
    "def get_synonyms(tid):\n",
    "    target = new_client.target\n",
    "    res = target.filter(target_chembl_id=tid)\n",
    "    target_synonyms = [i['component_synonym'] for i in res[0]['target_components'][0]['target_component_synonyms']]\n",
    "    #clean:\n",
    "    target_synonyms = [clean_text(i) for i in target_synonyms]\n",
    "    #make all lowercase to improve correct matchings:\n",
    "    #target_synonyms = [i.lower() for i in target_synonyms]\n",
    "    #remove all punctuations to improve correct matchings:\n",
    "    #target_synonyms = [i.translate(str.maketrans('', '', string.punctuation)) for i in target_synonyms]\n",
    "    \n",
    "    return target_synonyms\n",
    "\n",
    "def get_cid(smi):\n",
    "    try:\n",
    "        c = pcp.get_compounds(smi, 'smiles')[0]\n",
    "        return c.cid\n",
    "    except Exception as e:\n",
    "        print(e)\n",
    "        return None\n",
    "\n",
    "def get_assay_summary(cid):\n",
    "    b = json.loads(requests.get('https://pubchem.ncbi.nlm.nih.gov/rest/pug/compound/cid/'+str(cid)+'/assaysummary/JSON').content)\n",
    "    return b\n",
    "\n",
    "def get_relevant_aids(assay_summary, synonyms):\n",
    "    #iterates through all assays and checks for overlap in Assay Name with any of the synonyms. \n",
    "    #if there is a shared word, returns the pubchem assay ID. \n",
    "    #relevant_aids = list()\n",
    "    bioactivity_outcomes = list()\n",
    "    assay_names = list()\n",
    "    \n",
    "    for i in assay_summary['Table']['Row']:\n",
    "        assay_name = i['Cell'][11]\n",
    "        #trick from word embedding - remove all punctuations to improve word matching\n",
    "        #assay_name = assay_name.translate(str.maketrans('', '', string.punctuation))\n",
    "        clean_assay_name = clean_text(assay_name)\n",
    "        #now match words:\n",
    "        if len(set(synonyms).intersection(clean_assay_name.split()))>0:\n",
    "            \n",
    "            ###This is the variable that stores the 'active' or 'unspecified' or 'inactive' string:\n",
    "            bioactivity_outcome = i['Cell'][6]\n",
    "            ###\n",
    "            \n",
    "            bioactivity_outcomes.append(bioactivity_outcome)\n",
    "            assay_names.append(assay_name)\n",
    "            \n",
    "            #this stores the AID number\n",
    "            #relevant_aids.append(i['Cell'][0])\n",
    "\n",
    "    return bioactivity_outcomes, assay_names#relevant_aids\n",
    "\n",
    "def get_assay_details(aid, cid):\n",
    "    b = json.loads(requests.get('https://pubchem.ncbi.nlm.nih.gov/rest/pug/assay/aid/'+str(aid)+'/JSON?cid='+str(cid)).content)\n",
    "    return b\n",
    "\n",
    "def get_pair_details(pair):\n",
    "    smi = smiles['canonical_smiles'].iloc[pair[0]]\n",
    "    instance_id = smiles['instance_id'].iloc[pair[0]]\n",
    "    predicted_target = targets['pref_name'].iloc[pair[1]]\n",
    "    tid = targets[targets['pref_name']==predicted_target]['chembl_id'].iloc[0]\n",
    "    return smi, instance_id, tid, predicted_target\n"
   ]
  },
  {
   "cell_type": "code",
   "execution_count": 20,
   "metadata": {},
   "outputs": [],
   "source": [
    "def fetch_assay_details(tid, smi):\n",
    "    if tid in synonym_dict:\n",
    "        synonyms = synonym_dict[tid]\n",
    "    else:\n",
    "        synonyms = get_synonyms(tid)\n",
    "        synonym_dict[tid] = synonyms\n",
    "\n",
    "        \n",
    "    if smi in cid_dict:\n",
    "        compound_id = cid_dict[smi]\n",
    "    else:\n",
    "        compound_id = get_cid(smi)\n",
    "        cid_dict[smi] = compound_id\n",
    "        \n",
    "    if compound_id in assay_dict:\n",
    "        assay_summary = assay_dict[compound_id]\n",
    "    else: \n",
    "        assay_summary = get_assay_summary(compound_id)\n",
    "        assay_dict[compound_id]=assay_summary\n",
    "        \n",
    "    return synonyms, compound_id, assay_summary"
   ]
  },
  {
   "cell_type": "code",
   "execution_count": null,
   "metadata": {
    "scrolled": true
   },
   "outputs": [
    {
     "name": "stderr",
     "output_type": "stream",
     "text": [
      "/Users/lmar3213/miniconda3/envs/lew_conda/lib/python3.7/site-packages/ipykernel_launcher.py:21: TqdmDeprecationWarning: This function will be removed in tqdm==5.0.0\n",
      "Please use `tqdm.notebook.tqdm` instead of `tqdm.tqdm_notebook`\n"
     ]
    },
    {
     "data": {
      "application/vnd.jupyter.widget-view+json": {
       "model_id": "f09e802e7b5e4c35b02d81965e2bbae5",
       "version_major": 2,
       "version_minor": 0
      },
      "text/plain": [
       "HBox(children=(FloatProgress(value=0.0, max=10000.0), HTML(value='')))"
      ]
     },
     "metadata": {},
     "output_type": "display_data"
    },
    {
     "name": "stdout",
     "output_type": "stream",
     "text": [
      "testing 0th pair: [328242    138] ...  skipping, rank was 3.0\n",
      "testing 1th pair: [68104   138] ...  skipping, rank was 1.5\n",
      "testing 2th pair: [315225     72] ...  ['Inactive', 'Unspecified', 'Unspecified', 'Unspecified', 'Unspecified']\n",
      " - finished.\n",
      "testing 3th pair: [68544   138] ...  skipping, rank was 1.5\n",
      "testing 4th pair: [67490   138] ...  took too long. moving on.\n",
      "testing 5th pair: [68211   138] ...  []\n",
      " - finished.\n",
      "testing 6th pair: [68422    72] ...  took too long. moving on.\n",
      "testing 7th pair: [68566    72] ...  "
     ]
    },
    {
     "name": "stderr",
     "output_type": "stream",
     "text": [
      "Exception ignored in: <generator object tqdm.__iter__ at 0x7fee2ab11ed0>\n",
      "Traceback (most recent call last):\n",
      "  File \"/Users/lmar3213/miniconda3/envs/lew_conda/lib/python3.7/site-packages/tqdm/std.py\", line 1183, in __iter__\n",
      "    self.close()\n",
      "  File \"/Users/lmar3213/miniconda3/envs/lew_conda/lib/python3.7/site-packages/tqdm/notebook.py\", line 255, in close\n",
      "    self.sp(bar_style='danger')\n",
      "  File \"/Users/lmar3213/miniconda3/envs/lew_conda/lib/python3.7/site-packages/tqdm/notebook.py\", line 184, in display\n",
      "    pbar.bar_style = bar_style\n",
      "  File \"/Users/lmar3213/miniconda3/envs/lew_conda/lib/python3.7/site-packages/traitlets/traitlets.py\", line 585, in __set__\n",
      "    self.set(obj, value)\n",
      "  File \"/Users/lmar3213/miniconda3/envs/lew_conda/lib/python3.7/site-packages/traitlets/traitlets.py\", line 574, in set\n",
      "    obj._notify_trait(self.name, old_value, new_value)\n",
      "  File \"/Users/lmar3213/miniconda3/envs/lew_conda/lib/python3.7/site-packages/traitlets/traitlets.py\", line 1139, in _notify_trait\n",
      "    type='change',\n",
      "  File \"/Users/lmar3213/miniconda3/envs/lew_conda/lib/python3.7/site-packages/ipywidgets/widgets/widget.py\", line 605, in notify_change\n",
      "    self.send_state(key=name)\n",
      "  File \"/Users/lmar3213/miniconda3/envs/lew_conda/lib/python3.7/site-packages/ipywidgets/widgets/widget.py\", line 489, in send_state\n",
      "    self._send(msg, buffers=buffers)\n",
      "  File \"/Users/lmar3213/miniconda3/envs/lew_conda/lib/python3.7/site-packages/ipywidgets/widgets/widget.py\", line 737, in _send\n",
      "    self.comm.send(data=msg, buffers=buffers)\n",
      "  File \"/Users/lmar3213/miniconda3/envs/lew_conda/lib/python3.7/site-packages/ipykernel/comm/comm.py\", line 123, in send\n",
      "    data=data, metadata=metadata, buffers=buffers,\n",
      "  File \"/Users/lmar3213/miniconda3/envs/lew_conda/lib/python3.7/site-packages/ipykernel/comm/comm.py\", line 71, in _publish_msg\n",
      "    buffers=buffers,\n",
      "  File \"/Users/lmar3213/miniconda3/envs/lew_conda/lib/python3.7/site-packages/jupyter_client/session.py\", line 740, in send\n",
      "    to_send = self.serialize(msg, ident)\n",
      "  File \"/Users/lmar3213/miniconda3/envs/lew_conda/lib/python3.7/site-packages/jupyter_client/session.py\", line 651, in serialize\n",
      "    to_send.append(DELIM)\n",
      "KeyboardInterrupt: \n",
      "ERROR:root:Internal Python error in the inspect module.\n",
      "Below is the traceback from this internal error.\n",
      "\n"
     ]
    },
    {
     "name": "stdout",
     "output_type": "stream",
     "text": [
      "\n",
      "Traceback (most recent call last):\n",
      "  File \"/Users/lmar3213/miniconda3/envs/lew_conda/lib/python3.7/site-packages/IPython/core/interactiveshell.py\", line 3417, in run_code\n",
      "    exec(code_obj, self.user_global_ns, self.user_ns)\n",
      "  File \"<ipython-input-21-7d0f342315bd>\", line 25, in <module>\n",
      "    rank = get_nnrank_of_target(pair[0], pair[1])\n",
      "  File \"<ipython-input-18-d1231f84a543>\", line 3, in get_nnrank_of_target\n",
      "    all_distances = all_distances =fast_jaccard(fps[ligand_idx], fps)[0]\n",
      "  File \"<ipython-input-6-b8325076f4ee>\", line 14, in fast_jaccard\n",
      "    Y = Y.astype(bool).astype(int)\n",
      "  File \"/Users/lmar3213/miniconda3/envs/lew_conda/lib/python3.7/site-packages/scipy/sparse/data.py\", line 72, in astype\n",
      "    self._deduped_data().astype(dtype, casting=casting, copy=copy),\n",
      "KeyboardInterrupt\n",
      "\n",
      "During handling of the above exception, another exception occurred:\n",
      "\n",
      "Traceback (most recent call last):\n",
      "  File \"/Users/lmar3213/miniconda3/envs/lew_conda/lib/python3.7/site-packages/IPython/core/interactiveshell.py\", line 2044, in showtraceback\n",
      "    stb = value._render_traceback_()\n",
      "AttributeError: 'KeyboardInterrupt' object has no attribute '_render_traceback_'\n",
      "\n",
      "During handling of the above exception, another exception occurred:\n",
      "\n",
      "Traceback (most recent call last):\n",
      "  File \"/Users/lmar3213/miniconda3/envs/lew_conda/lib/python3.7/site-packages/IPython/core/ultratb.py\", line 1169, in get_records\n",
      "    return _fixed_getinnerframes(etb, number_of_lines_of_context, tb_offset)\n",
      "  File \"/Users/lmar3213/miniconda3/envs/lew_conda/lib/python3.7/site-packages/IPython/core/ultratb.py\", line 316, in wrapped\n",
      "    return f(*args, **kwargs)\n",
      "  File \"/Users/lmar3213/miniconda3/envs/lew_conda/lib/python3.7/site-packages/IPython/core/ultratb.py\", line 350, in _fixed_getinnerframes\n",
      "    records = fix_frame_records_filenames(inspect.getinnerframes(etb, context))\n",
      "  File \"/Users/lmar3213/miniconda3/envs/lew_conda/lib/python3.7/inspect.py\", line 1502, in getinnerframes\n",
      "    frameinfo = (tb.tb_frame,) + getframeinfo(tb, context)\n",
      "  File \"/Users/lmar3213/miniconda3/envs/lew_conda/lib/python3.7/inspect.py\", line 1460, in getframeinfo\n",
      "    filename = getsourcefile(frame) or getfile(frame)\n",
      "  File \"/Users/lmar3213/miniconda3/envs/lew_conda/lib/python3.7/inspect.py\", line 696, in getsourcefile\n",
      "    if getattr(getmodule(object, filename), '__loader__', None) is not None:\n",
      "  File \"/Users/lmar3213/miniconda3/envs/lew_conda/lib/python3.7/inspect.py\", line 739, in getmodule\n",
      "    f = getabsfile(module)\n",
      "  File \"/Users/lmar3213/miniconda3/envs/lew_conda/lib/python3.7/inspect.py\", line 708, in getabsfile\n",
      "    _filename = getsourcefile(object) or getfile(object)\n",
      "  File \"/Users/lmar3213/miniconda3/envs/lew_conda/lib/python3.7/inspect.py\", line 693, in getsourcefile\n",
      "    if os.path.exists(filename):\n",
      "  File \"/Users/lmar3213/miniconda3/envs/lew_conda/lib/python3.7/genericpath.py\", line 19, in exists\n",
      "    os.stat(path)\n",
      "KeyboardInterrupt\n"
     ]
    },
    {
     "name": "stderr",
     "output_type": "stream",
     "text": [
      "ERROR:root:Internal Python error in the inspect module.\n",
      "Below is the traceback from this internal error.\n",
      "\n",
      "ERROR:root:Internal Python error in the inspect module.\n",
      "Below is the traceback from this internal error.\n",
      "\n"
     ]
    },
    {
     "name": "stdout",
     "output_type": "stream",
     "text": [
      "Traceback (most recent call last):\n",
      "  File \"/Users/lmar3213/miniconda3/envs/lew_conda/lib/python3.7/site-packages/IPython/core/interactiveshell.py\", line 3417, in run_code\n",
      "    exec(code_obj, self.user_global_ns, self.user_ns)\n",
      "  File \"<ipython-input-21-7d0f342315bd>\", line 25, in <module>\n",
      "    rank = get_nnrank_of_target(pair[0], pair[1])\n",
      "  File \"<ipython-input-18-d1231f84a543>\", line 3, in get_nnrank_of_target\n",
      "    all_distances = all_distances =fast_jaccard(fps[ligand_idx], fps)[0]\n",
      "  File \"<ipython-input-6-b8325076f4ee>\", line 14, in fast_jaccard\n",
      "    Y = Y.astype(bool).astype(int)\n",
      "  File \"/Users/lmar3213/miniconda3/envs/lew_conda/lib/python3.7/site-packages/scipy/sparse/data.py\", line 72, in astype\n",
      "    self._deduped_data().astype(dtype, casting=casting, copy=copy),\n",
      "KeyboardInterrupt\n",
      "\n",
      "During handling of the above exception, another exception occurred:\n",
      "\n",
      "Traceback (most recent call last):\n",
      "  File \"/Users/lmar3213/miniconda3/envs/lew_conda/lib/python3.7/site-packages/IPython/core/interactiveshell.py\", line 2044, in showtraceback\n",
      "    stb = value._render_traceback_()\n",
      "AttributeError: 'KeyboardInterrupt' object has no attribute '_render_traceback_'\n",
      "\n",
      "During handling of the above exception, another exception occurred:\n",
      "\n",
      "Traceback (most recent call last):\n",
      "  File \"/Users/lmar3213/miniconda3/envs/lew_conda/lib/python3.7/site-packages/IPython/core/interactiveshell.py\", line 3337, in run_ast_nodes\n",
      "    if (await self.run_code(code, result,  async_=asy)):\n",
      "  File \"/Users/lmar3213/miniconda3/envs/lew_conda/lib/python3.7/site-packages/IPython/core/interactiveshell.py\", line 3434, in run_code\n",
      "    self.showtraceback(running_compiled_code=True)\n",
      "  File \"/Users/lmar3213/miniconda3/envs/lew_conda/lib/python3.7/site-packages/IPython/core/interactiveshell.py\", line 2047, in showtraceback\n",
      "    value, tb, tb_offset=tb_offset)\n",
      "  File \"/Users/lmar3213/miniconda3/envs/lew_conda/lib/python3.7/site-packages/IPython/core/ultratb.py\", line 1436, in structured_traceback\n",
      "    self, etype, value, tb, tb_offset, number_of_lines_of_context)\n",
      "  File \"/Users/lmar3213/miniconda3/envs/lew_conda/lib/python3.7/site-packages/IPython/core/ultratb.py\", line 1336, in structured_traceback\n",
      "    self, etype, value, tb, tb_offset, number_of_lines_of_context\n",
      "  File \"/Users/lmar3213/miniconda3/envs/lew_conda/lib/python3.7/site-packages/IPython/core/ultratb.py\", line 1193, in structured_traceback\n",
      "    tb_offset)\n",
      "  File \"/Users/lmar3213/miniconda3/envs/lew_conda/lib/python3.7/site-packages/IPython/core/ultratb.py\", line 1150, in format_exception_as_a_whole\n",
      "    last_unique, recursion_repeat = find_recursion(orig_etype, evalue, records)\n",
      "  File \"/Users/lmar3213/miniconda3/envs/lew_conda/lib/python3.7/site-packages/IPython/core/ultratb.py\", line 451, in find_recursion\n",
      "    return len(records), 0\n",
      "TypeError: object of type 'NoneType' has no len()\n",
      "\n",
      "During handling of the above exception, another exception occurred:\n",
      "\n",
      "Traceback (most recent call last):\n",
      "  File \"/Users/lmar3213/miniconda3/envs/lew_conda/lib/python3.7/site-packages/IPython/core/interactiveshell.py\", line 2044, in showtraceback\n",
      "    stb = value._render_traceback_()\n",
      "AttributeError: 'TypeError' object has no attribute '_render_traceback_'\n",
      "\n",
      "During handling of the above exception, another exception occurred:\n",
      "\n",
      "Traceback (most recent call last):\n",
      "  File \"/Users/lmar3213/miniconda3/envs/lew_conda/lib/python3.7/site-packages/IPython/core/ultratb.py\", line 1169, in get_records\n",
      "    return _fixed_getinnerframes(etb, number_of_lines_of_context, tb_offset)\n",
      "  File \"/Users/lmar3213/miniconda3/envs/lew_conda/lib/python3.7/site-packages/IPython/core/ultratb.py\", line 316, in wrapped\n",
      "    return f(*args, **kwargs)\n",
      "  File \"/Users/lmar3213/miniconda3/envs/lew_conda/lib/python3.7/site-packages/IPython/core/ultratb.py\", line 350, in _fixed_getinnerframes\n",
      "    records = fix_frame_records_filenames(inspect.getinnerframes(etb, context))\n",
      "  File \"/Users/lmar3213/miniconda3/envs/lew_conda/lib/python3.7/inspect.py\", line 1502, in getinnerframes\n",
      "    frameinfo = (tb.tb_frame,) + getframeinfo(tb, context)\n",
      "  File \"/Users/lmar3213/miniconda3/envs/lew_conda/lib/python3.7/inspect.py\", line 1460, in getframeinfo\n",
      "    filename = getsourcefile(frame) or getfile(frame)\n",
      "  File \"/Users/lmar3213/miniconda3/envs/lew_conda/lib/python3.7/inspect.py\", line 696, in getsourcefile\n",
      "    if getattr(getmodule(object, filename), '__loader__', None) is not None:\n",
      "  File \"/Users/lmar3213/miniconda3/envs/lew_conda/lib/python3.7/inspect.py\", line 742, in getmodule\n",
      "    os.path.realpath(f)] = module.__name__\n",
      "  File \"/Users/lmar3213/miniconda3/envs/lew_conda/lib/python3.7/posixpath.py\", line 395, in realpath\n",
      "    path, ok = _joinrealpath(filename[:0], filename, {})\n",
      "  File \"/Users/lmar3213/miniconda3/envs/lew_conda/lib/python3.7/posixpath.py\", line 429, in _joinrealpath\n",
      "    if not islink(newpath):\n",
      "  File \"/Users/lmar3213/miniconda3/envs/lew_conda/lib/python3.7/posixpath.py\", line 171, in islink\n",
      "    st = os.lstat(path)\n",
      "KeyboardInterrupt\n",
      "Traceback (most recent call last):\n",
      "  File \"/Users/lmar3213/miniconda3/envs/lew_conda/lib/python3.7/site-packages/IPython/core/interactiveshell.py\", line 3417, in run_code\n",
      "    exec(code_obj, self.user_global_ns, self.user_ns)\n",
      "  File \"<ipython-input-21-7d0f342315bd>\", line 25, in <module>\n",
      "    rank = get_nnrank_of_target(pair[0], pair[1])\n",
      "  File \"<ipython-input-18-d1231f84a543>\", line 3, in get_nnrank_of_target\n",
      "    all_distances = all_distances =fast_jaccard(fps[ligand_idx], fps)[0]\n",
      "  File \"<ipython-input-6-b8325076f4ee>\", line 14, in fast_jaccard\n",
      "    Y = Y.astype(bool).astype(int)\n",
      "  File \"/Users/lmar3213/miniconda3/envs/lew_conda/lib/python3.7/site-packages/scipy/sparse/data.py\", line 72, in astype\n",
      "    self._deduped_data().astype(dtype, casting=casting, copy=copy),\n",
      "KeyboardInterrupt\n",
      "\n",
      "During handling of the above exception, another exception occurred:\n",
      "\n",
      "Traceback (most recent call last):\n",
      "  File \"/Users/lmar3213/miniconda3/envs/lew_conda/lib/python3.7/site-packages/IPython/core/interactiveshell.py\", line 2044, in showtraceback\n",
      "    stb = value._render_traceback_()\n",
      "AttributeError: 'KeyboardInterrupt' object has no attribute '_render_traceback_'\n",
      "\n",
      "During handling of the above exception, another exception occurred:\n",
      "\n",
      "Traceback (most recent call last):\n",
      "  File \"/Users/lmar3213/miniconda3/envs/lew_conda/lib/python3.7/site-packages/IPython/core/interactiveshell.py\", line 3337, in run_ast_nodes\n",
      "    if (await self.run_code(code, result,  async_=asy)):\n",
      "  File \"/Users/lmar3213/miniconda3/envs/lew_conda/lib/python3.7/site-packages/IPython/core/interactiveshell.py\", line 3434, in run_code\n",
      "    self.showtraceback(running_compiled_code=True)\n",
      "  File \"/Users/lmar3213/miniconda3/envs/lew_conda/lib/python3.7/site-packages/IPython/core/interactiveshell.py\", line 2047, in showtraceback\n",
      "    value, tb, tb_offset=tb_offset)\n",
      "  File \"/Users/lmar3213/miniconda3/envs/lew_conda/lib/python3.7/site-packages/IPython/core/ultratb.py\", line 1436, in structured_traceback\n",
      "    self, etype, value, tb, tb_offset, number_of_lines_of_context)\n",
      "  File \"/Users/lmar3213/miniconda3/envs/lew_conda/lib/python3.7/site-packages/IPython/core/ultratb.py\", line 1336, in structured_traceback\n",
      "    self, etype, value, tb, tb_offset, number_of_lines_of_context\n",
      "  File \"/Users/lmar3213/miniconda3/envs/lew_conda/lib/python3.7/site-packages/IPython/core/ultratb.py\", line 1193, in structured_traceback\n",
      "    tb_offset)\n",
      "  File \"/Users/lmar3213/miniconda3/envs/lew_conda/lib/python3.7/site-packages/IPython/core/ultratb.py\", line 1150, in format_exception_as_a_whole\n",
      "    last_unique, recursion_repeat = find_recursion(orig_etype, evalue, records)\n",
      "  File \"/Users/lmar3213/miniconda3/envs/lew_conda/lib/python3.7/site-packages/IPython/core/ultratb.py\", line 451, in find_recursion\n",
      "    return len(records), 0\n",
      "TypeError: object of type 'NoneType' has no len()\n",
      "\n",
      "During handling of the above exception, another exception occurred:\n",
      "\n",
      "Traceback (most recent call last):\n",
      "  File \"/Users/lmar3213/miniconda3/envs/lew_conda/lib/python3.7/site-packages/IPython/core/interactiveshell.py\", line 2044, in showtraceback\n",
      "    stb = value._render_traceback_()\n",
      "AttributeError: 'TypeError' object has no attribute '_render_traceback_'\n",
      "\n",
      "During handling of the above exception, another exception occurred:\n",
      "\n",
      "Traceback (most recent call last):\n",
      "  File \"/Users/lmar3213/miniconda3/envs/lew_conda/lib/python3.7/site-packages/IPython/core/interactiveshell.py\", line 2922, in _run_cell\n",
      "    return runner(coro)\n",
      "  File \"/Users/lmar3213/miniconda3/envs/lew_conda/lib/python3.7/site-packages/IPython/core/async_helpers.py\", line 68, in _pseudo_sync_runner\n",
      "    coro.send(None)\n",
      "  File \"/Users/lmar3213/miniconda3/envs/lew_conda/lib/python3.7/site-packages/IPython/core/interactiveshell.py\", line 3146, in run_cell_async\n",
      "    interactivity=interactivity, compiler=compiler, result=result)\n",
      "  File \"/Users/lmar3213/miniconda3/envs/lew_conda/lib/python3.7/site-packages/IPython/core/interactiveshell.py\", line 3356, in run_ast_nodes\n",
      "    self.showtraceback()\n",
      "  File \"/Users/lmar3213/miniconda3/envs/lew_conda/lib/python3.7/site-packages/IPython/core/interactiveshell.py\", line 2047, in showtraceback\n",
      "    value, tb, tb_offset=tb_offset)\n",
      "  File \"/Users/lmar3213/miniconda3/envs/lew_conda/lib/python3.7/site-packages/IPython/core/ultratb.py\", line 1436, in structured_traceback\n",
      "    self, etype, value, tb, tb_offset, number_of_lines_of_context)\n",
      "  File \"/Users/lmar3213/miniconda3/envs/lew_conda/lib/python3.7/site-packages/IPython/core/ultratb.py\", line 1336, in structured_traceback\n",
      "    self, etype, value, tb, tb_offset, number_of_lines_of_context\n",
      "  File \"/Users/lmar3213/miniconda3/envs/lew_conda/lib/python3.7/site-packages/IPython/core/ultratb.py\", line 1211, in structured_traceback\n",
      "    chained_exceptions_tb_offset)\n",
      "  File \"/Users/lmar3213/miniconda3/envs/lew_conda/lib/python3.7/site-packages/IPython/core/ultratb.py\", line 1150, in format_exception_as_a_whole\n",
      "    last_unique, recursion_repeat = find_recursion(orig_etype, evalue, records)\n",
      "  File \"/Users/lmar3213/miniconda3/envs/lew_conda/lib/python3.7/site-packages/IPython/core/ultratb.py\", line 451, in find_recursion\n",
      "    return len(records), 0\n",
      "TypeError: object of type 'NoneType' has no len()\n",
      "\n",
      "During handling of the above exception, another exception occurred:\n",
      "\n",
      "Traceback (most recent call last):\n",
      "  File \"/Users/lmar3213/miniconda3/envs/lew_conda/lib/python3.7/site-packages/IPython/core/interactiveshell.py\", line 2044, in showtraceback\n",
      "    stb = value._render_traceback_()\n",
      "AttributeError: 'TypeError' object has no attribute '_render_traceback_'\n",
      "\n",
      "During handling of the above exception, another exception occurred:\n",
      "\n",
      "Traceback (most recent call last):\n",
      "  File \"/Users/lmar3213/miniconda3/envs/lew_conda/lib/python3.7/site-packages/IPython/core/ultratb.py\", line 1169, in get_records\n",
      "    return _fixed_getinnerframes(etb, number_of_lines_of_context, tb_offset)\n",
      "  File \"/Users/lmar3213/miniconda3/envs/lew_conda/lib/python3.7/site-packages/IPython/core/ultratb.py\", line 316, in wrapped\n",
      "    return f(*args, **kwargs)\n",
      "  File \"/Users/lmar3213/miniconda3/envs/lew_conda/lib/python3.7/site-packages/IPython/core/ultratb.py\", line 350, in _fixed_getinnerframes\n",
      "    records = fix_frame_records_filenames(inspect.getinnerframes(etb, context))\n",
      "  File \"/Users/lmar3213/miniconda3/envs/lew_conda/lib/python3.7/inspect.py\", line 1502, in getinnerframes\n",
      "    frameinfo = (tb.tb_frame,) + getframeinfo(tb, context)\n",
      "  File \"/Users/lmar3213/miniconda3/envs/lew_conda/lib/python3.7/inspect.py\", line 1460, in getframeinfo\n",
      "    filename = getsourcefile(frame) or getfile(frame)\n",
      "  File \"/Users/lmar3213/miniconda3/envs/lew_conda/lib/python3.7/inspect.py\", line 696, in getsourcefile\n",
      "    if getattr(getmodule(object, filename), '__loader__', None) is not None:\n",
      "  File \"/Users/lmar3213/miniconda3/envs/lew_conda/lib/python3.7/inspect.py\", line 742, in getmodule\n",
      "    os.path.realpath(f)] = module.__name__\n",
      "  File \"/Users/lmar3213/miniconda3/envs/lew_conda/lib/python3.7/posixpath.py\", line 395, in realpath\n",
      "    path, ok = _joinrealpath(filename[:0], filename, {})\n",
      "  File \"/Users/lmar3213/miniconda3/envs/lew_conda/lib/python3.7/posixpath.py\", line 429, in _joinrealpath\n",
      "    if not islink(newpath):\n",
      "  File \"/Users/lmar3213/miniconda3/envs/lew_conda/lib/python3.7/posixpath.py\", line 171, in islink\n",
      "    st = os.lstat(path)\n",
      "KeyboardInterrupt\n"
     ]
    }
   ],
   "source": [
    "\n",
    "# import time as time\n",
    "# import signal\n",
    "# #Close session\n",
    "# def handler(signum, frame):\n",
    "#     raise Exception('Action took too much time')\n",
    "# signal.signal(signal.SIGALRM, handler)\n",
    "# signal.alarm(35) #Set the parameter to the amount of seconds you want to wait\n",
    "\n",
    "\n",
    "\n",
    "synonym_dict = dict()\n",
    "cid_dict = dict()\n",
    "assay_dict = dict()\n",
    "assays_long = pd.DataFrame(columns=['ligandIdx', 'targetIdx', 'instance_id', 'pref_name', 'outcome', 'assayname'])\n",
    "rownum=0\n",
    "\n",
    "    \n",
    "resultdict = dict()\n",
    "\n",
    "\n",
    "for count, pair in tqdm_notebook(enumerate(arr_sorted[:10000]), smoothing=0, total=10000):\n",
    "    print(f'testing {count}th pair: {pair} ... ', end=' ')\n",
    "    \n",
    "    #first, check if it would have been predicted using nearest neighbors anyway:\n",
    "    rank = get_nnrank_of_target(pair[0], pair[1])\n",
    "    if rank>3:\n",
    "        pass\n",
    "    else:\n",
    "        print(f'skipping, rank was {rank}')\n",
    "        resultdict[count] = 'lowrank'\n",
    "        continue\n",
    "        \n",
    "    #next, ping pubchem for assays. \n",
    "    try:\n",
    "        smi, instance_id, tid, pref_name = get_pair_details(pair)\n",
    "    \n",
    "        synonyms, compound_id, assay_summary = fetch_assay_details(tid, smi )\n",
    "    \n",
    "    \n",
    "        if 'Fault' in assay_summary.keys():\n",
    "            None\n",
    "            #print('No assays present.')\n",
    "        else:\n",
    "            bioactivity_outcomes, assay_names = get_relevant_aids(assay_summary, synonyms)\n",
    "            print(bioactivity_outcomes)\n",
    "            for outcome, aname in zip(bioactivity_outcomes, assay_names):\n",
    "                assays_long.loc[rownum]=[pair[0], pair[1], instance_id, pref_name, outcome, aname]\n",
    "                resultdict[count] = 'success'\n",
    "                rownum += 1\n",
    "    \n",
    "        if count%100==0:\n",
    "            assays_long.to_csv('assays_long.csv')\n",
    "        print(' - finished.')\n",
    "    except KeyboardInterrupt:\n",
    "        raise\n",
    "    except (Exception):\n",
    "        resultdict[count] = 'exception'\n",
    "        print('took too long. moving on.')\n",
    "\n"
   ]
  },
  {
   "cell_type": "code",
   "execution_count": 18,
   "metadata": {},
   "outputs": [
    {
     "name": "stderr",
     "output_type": "stream",
     "text": [
      "/Users/lmar3213/miniconda3/envs/lew_conda/lib/python3.7/site-packages/ipykernel_launcher.py:1: TqdmDeprecationWarning: This function will be removed in tqdm==5.0.0\n",
      "Please use `tqdm.notebook.tqdm` instead of `tqdm.tqdm_notebook`\n",
      "  \"\"\"Entry point for launching an IPython kernel.\n"
     ]
    },
    {
     "data": {
      "application/vnd.jupyter.widget-view+json": {
       "model_id": "bb3b0a61c7d248a193615939e5212a42",
       "version_major": 2,
       "version_minor": 0
      },
      "text/plain": [
       "HBox(children=(FloatProgress(value=0.0, max=10000.0), HTML(value='')))"
      ]
     },
     "metadata": {},
     "output_type": "display_data"
    },
    {
     "name": "stdout",
     "output_type": "stream",
     "text": [
      "testing 0th pair: [305639    215] ...   - finished.\n",
      "testing 1th pair: [300900     86] ...   - finished.\n",
      "testing 2th pair: [110653    214] ...   - finished.\n",
      "testing 3th pair: [12480    94] ...   - finished.\n",
      "testing 4th pair: [67179   142] ...   - finished.\n",
      "testing 5th pair: [336258     91] ...   - finished.\n",
      "testing 6th pair: [68378   164] ...   - finished.\n",
      "testing 7th pair: [225050    170] ...   - finished.\n",
      "testing 8th pair: [76914   170] ...  skipping, rank was 1.5\n",
      "testing 9th pair: [78010   170] ...  skipping, rank was 1.0\n",
      "testing 10th pair: [296941    170] ...  skipping, rank was 2.5\n",
      "testing 11th pair: [77840   170] ...  \n"
     ]
    },
    {
     "ename": "KeyboardInterrupt",
     "evalue": "",
     "output_type": "error",
     "traceback": [
      "\u001b[0;31m---------------------------------------------------------------------------\u001b[0m",
      "\u001b[0;31mKeyboardInterrupt\u001b[0m                         Traceback (most recent call last)",
      "\u001b[0;32m<ipython-input-18-8a765978c964>\u001b[0m in \u001b[0;36m<module>\u001b[0;34m\u001b[0m\n\u001b[1;32m      3\u001b[0m \u001b[0;34m\u001b[0m\u001b[0m\n\u001b[1;32m      4\u001b[0m     \u001b[0;31m#first, check if it would have been predicted using nearest neighbors anyway:\u001b[0m\u001b[0;34m\u001b[0m\u001b[0;34m\u001b[0m\u001b[0;34m\u001b[0m\u001b[0m\n\u001b[0;32m----> 5\u001b[0;31m     \u001b[0mrank\u001b[0m \u001b[0;34m=\u001b[0m \u001b[0mget_nnrank_of_target\u001b[0m\u001b[0;34m(\u001b[0m\u001b[0mpair\u001b[0m\u001b[0;34m[\u001b[0m\u001b[0;36m0\u001b[0m\u001b[0;34m]\u001b[0m\u001b[0;34m,\u001b[0m \u001b[0mpair\u001b[0m\u001b[0;34m[\u001b[0m\u001b[0;36m1\u001b[0m\u001b[0;34m]\u001b[0m\u001b[0;34m)\u001b[0m\u001b[0;34m\u001b[0m\u001b[0;34m\u001b[0m\u001b[0m\n\u001b[0m\u001b[1;32m      6\u001b[0m     \u001b[0;32mif\u001b[0m \u001b[0mrank\u001b[0m\u001b[0;34m>\u001b[0m\u001b[0;36m3\u001b[0m\u001b[0;34m:\u001b[0m\u001b[0;34m\u001b[0m\u001b[0;34m\u001b[0m\u001b[0m\n\u001b[1;32m      7\u001b[0m         \u001b[0;32mpass\u001b[0m\u001b[0;34m\u001b[0m\u001b[0;34m\u001b[0m\u001b[0m\n",
      "\u001b[0;32m<ipython-input-13-d1231f84a543>\u001b[0m in \u001b[0;36mget_nnrank_of_target\u001b[0;34m(ligand_idx, target_idx)\u001b[0m\n\u001b[1;32m      1\u001b[0m \u001b[0;32mdef\u001b[0m \u001b[0mget_nnrank_of_target\u001b[0m\u001b[0;34m(\u001b[0m\u001b[0mligand_idx\u001b[0m\u001b[0;34m,\u001b[0m \u001b[0mtarget_idx\u001b[0m\u001b[0;34m)\u001b[0m\u001b[0;34m:\u001b[0m\u001b[0;34m\u001b[0m\u001b[0;34m\u001b[0m\u001b[0m\n\u001b[1;32m      2\u001b[0m     \u001b[0mpositives\u001b[0m \u001b[0;34m=\u001b[0m \u001b[0minteraction_matrix\u001b[0m\u001b[0;34m[\u001b[0m\u001b[0mligand_idx\u001b[0m\u001b[0;34m]\u001b[0m\u001b[0;34m.\u001b[0m\u001b[0mnonzero\u001b[0m\u001b[0;34m(\u001b[0m\u001b[0;34m)\u001b[0m\u001b[0;34m[\u001b[0m\u001b[0;36m1\u001b[0m\u001b[0;34m]\u001b[0m\u001b[0;34m\u001b[0m\u001b[0;34m\u001b[0m\u001b[0m\n\u001b[0;32m----> 3\u001b[0;31m     \u001b[0mall_distances\u001b[0m \u001b[0;34m=\u001b[0m \u001b[0mall_distances\u001b[0m \u001b[0;34m=\u001b[0m\u001b[0mfast_jaccard\u001b[0m\u001b[0;34m(\u001b[0m\u001b[0mfps\u001b[0m\u001b[0;34m[\u001b[0m\u001b[0mligand_idx\u001b[0m\u001b[0;34m]\u001b[0m\u001b[0;34m,\u001b[0m \u001b[0mfps\u001b[0m\u001b[0;34m)\u001b[0m\u001b[0;34m[\u001b[0m\u001b[0;36m0\u001b[0m\u001b[0;34m]\u001b[0m\u001b[0;34m\u001b[0m\u001b[0;34m\u001b[0m\u001b[0m\n\u001b[0m\u001b[1;32m      4\u001b[0m     \u001b[0ms\u001b[0m \u001b[0;34m=\u001b[0m \u001b[0mnp\u001b[0m\u001b[0;34m.\u001b[0m\u001b[0margsort\u001b[0m\u001b[0;34m(\u001b[0m\u001b[0mall_distances\u001b[0m\u001b[0;34m)\u001b[0m\u001b[0;34m\u001b[0m\u001b[0;34m\u001b[0m\u001b[0m\n\u001b[1;32m      5\u001b[0m \u001b[0;34m\u001b[0m\u001b[0m\n",
      "\u001b[0;32m<ipython-input-9-b8325076f4ee>\u001b[0m in \u001b[0;36mfast_jaccard\u001b[0;34m(X, Y)\u001b[0m\n\u001b[1;32m     12\u001b[0m \u001b[0;34m\u001b[0m\u001b[0m\n\u001b[1;32m     13\u001b[0m     \u001b[0mX\u001b[0m \u001b[0;34m=\u001b[0m \u001b[0mX\u001b[0m\u001b[0;34m.\u001b[0m\u001b[0mastype\u001b[0m\u001b[0;34m(\u001b[0m\u001b[0mbool\u001b[0m\u001b[0;34m)\u001b[0m\u001b[0;34m.\u001b[0m\u001b[0mastype\u001b[0m\u001b[0;34m(\u001b[0m\u001b[0mint\u001b[0m\u001b[0;34m)\u001b[0m\u001b[0;34m\u001b[0m\u001b[0;34m\u001b[0m\u001b[0m\n\u001b[0;32m---> 14\u001b[0;31m     \u001b[0mY\u001b[0m \u001b[0;34m=\u001b[0m \u001b[0mY\u001b[0m\u001b[0;34m.\u001b[0m\u001b[0mastype\u001b[0m\u001b[0;34m(\u001b[0m\u001b[0mbool\u001b[0m\u001b[0;34m)\u001b[0m\u001b[0;34m.\u001b[0m\u001b[0mastype\u001b[0m\u001b[0;34m(\u001b[0m\u001b[0mint\u001b[0m\u001b[0;34m)\u001b[0m\u001b[0;34m\u001b[0m\u001b[0;34m\u001b[0m\u001b[0m\n\u001b[0m\u001b[1;32m     15\u001b[0m     \u001b[0mintersect\u001b[0m \u001b[0;34m=\u001b[0m \u001b[0mX\u001b[0m\u001b[0;34m.\u001b[0m\u001b[0mdot\u001b[0m\u001b[0;34m(\u001b[0m\u001b[0mY\u001b[0m\u001b[0;34m.\u001b[0m\u001b[0mT\u001b[0m\u001b[0;34m)\u001b[0m\u001b[0;34m\u001b[0m\u001b[0;34m\u001b[0m\u001b[0m\n\u001b[1;32m     16\u001b[0m     \u001b[0mx_sum\u001b[0m \u001b[0;34m=\u001b[0m \u001b[0mX\u001b[0m\u001b[0;34m.\u001b[0m\u001b[0msum\u001b[0m\u001b[0;34m(\u001b[0m\u001b[0maxis\u001b[0m\u001b[0;34m=\u001b[0m\u001b[0;36m1\u001b[0m\u001b[0;34m)\u001b[0m\u001b[0;34m.\u001b[0m\u001b[0mA1\u001b[0m\u001b[0;34m\u001b[0m\u001b[0;34m\u001b[0m\u001b[0m\n",
      "\u001b[0;32m~/miniconda3/envs/lew_conda/lib/python3.7/site-packages/scipy/sparse/data.py\u001b[0m in \u001b[0;36mastype\u001b[0;34m(self, dtype, casting, copy)\u001b[0m\n\u001b[1;32m     70\u001b[0m         \u001b[0;32mif\u001b[0m \u001b[0mself\u001b[0m\u001b[0;34m.\u001b[0m\u001b[0mdtype\u001b[0m \u001b[0;34m!=\u001b[0m \u001b[0mdtype\u001b[0m\u001b[0;34m:\u001b[0m\u001b[0;34m\u001b[0m\u001b[0;34m\u001b[0m\u001b[0m\n\u001b[1;32m     71\u001b[0m             return self._with_data(\n\u001b[0;32m---> 72\u001b[0;31m                 \u001b[0mself\u001b[0m\u001b[0;34m.\u001b[0m\u001b[0m_deduped_data\u001b[0m\u001b[0;34m(\u001b[0m\u001b[0;34m)\u001b[0m\u001b[0;34m.\u001b[0m\u001b[0mastype\u001b[0m\u001b[0;34m(\u001b[0m\u001b[0mdtype\u001b[0m\u001b[0;34m,\u001b[0m \u001b[0mcasting\u001b[0m\u001b[0;34m=\u001b[0m\u001b[0mcasting\u001b[0m\u001b[0;34m,\u001b[0m \u001b[0mcopy\u001b[0m\u001b[0;34m=\u001b[0m\u001b[0mcopy\u001b[0m\u001b[0;34m)\u001b[0m\u001b[0;34m,\u001b[0m\u001b[0;34m\u001b[0m\u001b[0;34m\u001b[0m\u001b[0m\n\u001b[0m\u001b[1;32m     73\u001b[0m                 copy=copy)\n\u001b[1;32m     74\u001b[0m         \u001b[0;32melif\u001b[0m \u001b[0mcopy\u001b[0m\u001b[0;34m:\u001b[0m\u001b[0;34m\u001b[0m\u001b[0;34m\u001b[0m\u001b[0m\n",
      "\u001b[0;32m~/miniconda3/envs/lew_conda/lib/python3.7/site-packages/scipy/sparse/data.py\u001b[0m in \u001b[0;36m_deduped_data\u001b[0;34m(self)\u001b[0m\n\u001b[1;32m     30\u001b[0m     \u001b[0;32mdef\u001b[0m \u001b[0m_deduped_data\u001b[0m\u001b[0;34m(\u001b[0m\u001b[0mself\u001b[0m\u001b[0;34m)\u001b[0m\u001b[0;34m:\u001b[0m\u001b[0;34m\u001b[0m\u001b[0;34m\u001b[0m\u001b[0m\n\u001b[1;32m     31\u001b[0m         \u001b[0;32mif\u001b[0m \u001b[0mhasattr\u001b[0m\u001b[0;34m(\u001b[0m\u001b[0mself\u001b[0m\u001b[0;34m,\u001b[0m \u001b[0;34m'sum_duplicates'\u001b[0m\u001b[0;34m)\u001b[0m\u001b[0;34m:\u001b[0m\u001b[0;34m\u001b[0m\u001b[0;34m\u001b[0m\u001b[0m\n\u001b[0;32m---> 32\u001b[0;31m             \u001b[0mself\u001b[0m\u001b[0;34m.\u001b[0m\u001b[0msum_duplicates\u001b[0m\u001b[0;34m(\u001b[0m\u001b[0;34m)\u001b[0m\u001b[0;34m\u001b[0m\u001b[0;34m\u001b[0m\u001b[0m\n\u001b[0m\u001b[1;32m     33\u001b[0m         \u001b[0;32mreturn\u001b[0m \u001b[0mself\u001b[0m\u001b[0;34m.\u001b[0m\u001b[0mdata\u001b[0m\u001b[0;34m\u001b[0m\u001b[0;34m\u001b[0m\u001b[0m\n\u001b[1;32m     34\u001b[0m \u001b[0;34m\u001b[0m\u001b[0m\n",
      "\u001b[0;32m~/miniconda3/envs/lew_conda/lib/python3.7/site-packages/scipy/sparse/compressed.py\u001b[0m in \u001b[0;36msum_duplicates\u001b[0;34m(self)\u001b[0m\n\u001b[1;32m   1087\u001b[0m         \u001b[0mThe\u001b[0m \u001b[0;32mis\u001b[0m \u001b[0man\u001b[0m \u001b[0;34m*\u001b[0m\u001b[0;32min\u001b[0m \u001b[0mplace\u001b[0m\u001b[0;34m*\u001b[0m \u001b[0moperation\u001b[0m\u001b[0;34m\u001b[0m\u001b[0;34m\u001b[0m\u001b[0m\n\u001b[1;32m   1088\u001b[0m         \"\"\"\n\u001b[0;32m-> 1089\u001b[0;31m         \u001b[0;32mif\u001b[0m \u001b[0mself\u001b[0m\u001b[0;34m.\u001b[0m\u001b[0mhas_canonical_format\u001b[0m\u001b[0;34m:\u001b[0m\u001b[0;34m\u001b[0m\u001b[0;34m\u001b[0m\u001b[0m\n\u001b[0m\u001b[1;32m   1090\u001b[0m             \u001b[0;32mreturn\u001b[0m\u001b[0;34m\u001b[0m\u001b[0;34m\u001b[0m\u001b[0m\n\u001b[1;32m   1091\u001b[0m         \u001b[0mself\u001b[0m\u001b[0;34m.\u001b[0m\u001b[0msort_indices\u001b[0m\u001b[0;34m(\u001b[0m\u001b[0;34m)\u001b[0m\u001b[0;34m\u001b[0m\u001b[0;34m\u001b[0m\u001b[0m\n",
      "\u001b[0;32m~/miniconda3/envs/lew_conda/lib/python3.7/site-packages/scipy/sparse/compressed.py\u001b[0m in \u001b[0;36m__get_has_canonical_format\u001b[0;34m(self)\u001b[0m\n\u001b[1;32m   1071\u001b[0m         \u001b[0;32melif\u001b[0m \u001b[0;32mnot\u001b[0m \u001b[0mhasattr\u001b[0m\u001b[0;34m(\u001b[0m\u001b[0mself\u001b[0m\u001b[0;34m,\u001b[0m \u001b[0;34m'_has_canonical_format'\u001b[0m\u001b[0;34m)\u001b[0m\u001b[0;34m:\u001b[0m\u001b[0;34m\u001b[0m\u001b[0;34m\u001b[0m\u001b[0m\n\u001b[1;32m   1072\u001b[0m             self.has_canonical_format = _sparsetools.csr_has_canonical_format(\n\u001b[0;32m-> 1073\u001b[0;31m                 len(self.indptr) - 1, self.indptr, self.indices)\n\u001b[0m\u001b[1;32m   1074\u001b[0m         \u001b[0;32mreturn\u001b[0m \u001b[0mself\u001b[0m\u001b[0;34m.\u001b[0m\u001b[0m_has_canonical_format\u001b[0m\u001b[0;34m\u001b[0m\u001b[0;34m\u001b[0m\u001b[0m\n\u001b[1;32m   1075\u001b[0m \u001b[0;34m\u001b[0m\u001b[0m\n",
      "\u001b[0;31mKeyboardInterrupt\u001b[0m: "
     ]
    }
   ],
   "source": [
    "\n",
    "\n",
    "\n",
    "synonym_dict_mid = dict()\n",
    "cid_dict_mid = dict()\n",
    "assay_dict_mid = dict()\n",
    "assays_long_mid = pd.DataFrame(columns=['ligandIdx', 'targetIdx', 'instance_id', 'pref_name', 'outcome', 'assayname'])\n",
    "rownum_mid=0\n",
    "\n",
    "    \n",
    "resultdict_mid = dict()\n",
    "\n",
    "\n",
    "for count, pair in tqdm_notebook(enumerate(arr_sorted[10000:20000]), smoothing=0, total=10000):\n",
    "    print(f'testing {count}th pair: {pair} ... ', end=' ')\n",
    "    \n",
    "    #first, check if it would have been predicted using nearest neighbors anyway:\n",
    "    rank = get_nnrank_of_target(pair[0], pair[1])\n",
    "    if rank>3:\n",
    "        pass\n",
    "    else:\n",
    "        print(f'skipping, rank was {rank}')\n",
    "        resultdict[count] = 'lowrank'\n",
    "        continue\n",
    "        \n",
    "    #next, ping pubchem for assays. \n",
    "    try:\n",
    "        smi, instance_id, tid, pref_name = get_pair_details(pair)\n",
    "    \n",
    "        synonyms, compound_id, assay_summary = fetch_assay_details(tid, smi )\n",
    "    \n",
    "    \n",
    "        if 'Fault' in assay_summary.keys():\n",
    "            None\n",
    "            #print('No assays present.')\n",
    "        else:\n",
    "            bioactivity_outcomes, assay_names = get_relevant_aids(assay_summary, synonyms)\n",
    "            for outcome, aname in zip(bioactivity_outcomes, assay_names):\n",
    "                assays_long_mid.loc[rownum]=[pair[0], pair[1], instance_id, pref_name, outcome, aname]\n",
    "                resultdict_mid[count] = 'success'\n",
    "                rownum_mid += 1\n",
    "    \n",
    "        if count%100==0:\n",
    "            assays_long_mid.to_csv('assays_long.csv')\n",
    "        print(' - finished.')\n",
    "    except (KeyboardInterrupt, Exception):\n",
    "        resultdict_mid[count] = 'exception'\n",
    "        print('took too long. moving on.')\n",
    "        \n",
    "        "
   ]
  },
  {
   "cell_type": "code",
   "execution_count": null,
   "metadata": {},
   "outputs": [],
   "source": []
  },
  {
   "cell_type": "code",
   "execution_count": null,
   "metadata": {},
   "outputs": [],
   "source": []
  },
  {
   "cell_type": "code",
   "execution_count": null,
   "metadata": {},
   "outputs": [],
   "source": []
  },
  {
   "cell_type": "code",
   "execution_count": 68,
   "metadata": {},
   "outputs": [],
   "source": [
    "both = 0\n",
    "neg = 0\n",
    "pos = 0\n",
    "positive_targs = list()\n",
    "both_targs = list()\n",
    "negative_targs= list()\n",
    "\n",
    "for count, item in enumerate(assay_keeper):\n",
    "    active = 'Active' in item['Outcome'].tolist()\n",
    "    inactive = 'Inactive' in item['Outcome'].tolist()\n",
    "    \n",
    "    if active and inactive:\n",
    "        both += 1\n",
    "        both_targs.append(count)\n",
    "    elif active:\n",
    "        pos += 1\n",
    "        positive_targs.append(count)\n",
    "    elif inactive:\n",
    "        neg += 1\n",
    "        negative_targs.append(count)"
   ]
  },
  {
   "cell_type": "code",
   "execution_count": null,
   "metadata": {},
   "outputs": [],
   "source": []
  },
  {
   "cell_type": "code",
   "execution_count": 70,
   "metadata": {},
   "outputs": [
    {
     "data": {
      "image/png": "[encoded data removed]",
      "text/plain": [
       "<Figure size 864x216 with 1 Axes>"
      ]
     },
     "metadata": {
      "needs_background": "light"
     },
     "output_type": "display_data"
    }
   ],
   "source": [
    "##Use this to choose colours for the horizontal barplots\n",
    "from matplotlib import colors\n",
    "\n",
    "def view_colormap(cmap):\n",
    "    \"\"\"Plot a colormap\"\"\"\n",
    "    cmap = plt.cm.get_cmap(cmap)\n",
    "    colors = cmap(np.arange(cmap.N))\n",
    "    \n",
    "    \n",
    "    fig, ax = plt.subplots(1, figsize=(12, 3),\n",
    "                           subplot_kw=dict(xticks=range(len(colors)), yticks=[]))\n",
    "    ax.imshow([colors], extent=[0, len(colors), 0, 1])\n",
    "\n",
    "    \n",
    "view_colormap('tab20')"
   ]
  },
  {
   "cell_type": "code",
   "execution_count": 71,
   "metadata": {},
   "outputs": [],
   "source": [
    "def makeCmap(name, color_nums):\n",
    "    cmap = plt.get_cmap(name)\n",
    "    cmap2 = colors.ListedColormap([cmap.colors[i] for i in color_nums])\n",
    "    #bounds=[i for i in range(len(color_nums))]\n",
    "    #norm = colors.BoundaryNorm(bounds, cmap2.N)\n",
    "    \n",
    "    return cmap2#, norm"
   ]
  },
  {
   "cell_type": "code",
   "execution_count": 72,
   "metadata": {},
   "outputs": [
    {
     "data": {
      "image/png": "[encoded data removed]",
      "text/plain": [
       "<Figure size 864x108 with 1 Axes>"
      ]
     },
     "metadata": {
      "needs_background": "light"
     },
     "output_type": "display_data"
    }
   ],
   "source": [
    "cmap = makeCmap('tab20', [0, 1])\n",
    "\n",
    "\n",
    "arr = np.zeros([50,1])\n",
    "arr[0:both+pos+neg] = 0\n",
    "arr[both+pos+neg:] = 1\n",
    "\n",
    "#cmap = plt.get_cmap('tab20')\n",
    "#cmap = plt.cm.get_cmap('Blues', 2)\n",
    "fig, ax = plt.subplots(1)\n",
    "fig.set_figheight(1.5)\n",
    "fig.set_figwidth(12)\n",
    "ax.xaxis.tick_top()\n",
    "ax.set_yticks([])\n",
    "\n",
    "ax.tick_params(axis=\"x\", labelsize=16)\n",
    "ax.imshow(arr.T, cmap=cmap, aspect='auto')\n",
    "plt.tight_layout()\n",
    "#fig.savefig('total_assays.png')"
   ]
  },
  {
   "cell_type": "code",
   "execution_count": 73,
   "metadata": {},
   "outputs": [
    {
     "data": {
      "text/plain": [
       "<matplotlib.image.AxesImage at 0x15ee7a0d0>"
      ]
     },
     "execution_count": 73,
     "metadata": {},
     "output_type": "execute_result"
    },
    {
     "data": {
      "image/png": "[encoded data removed]",
      "text/plain": [
       "<Figure size 864x108 with 1 Axes>"
      ]
     },
     "metadata": {
      "needs_background": "light"
     },
     "output_type": "display_data"
    }
   ],
   "source": [
    "#Use this when you have active, inactive, and ambiguous evidence\n",
    "#cmap = makeCmap('Set2', [1,2,0])\n",
    "\n",
    "#Use this for the demo, where we only have active evidence (the \n",
    "#order gets messed up when there's only one type of result)\n",
    "cmap = makeCmap('Set2', [0,2,1])\n",
    "\n",
    "\n",
    "arr = np.zeros([pos+both+neg,1])\n",
    "arr[0:neg] = 0\n",
    "arr[neg:neg+both] = 1\n",
    "arr[neg+both:] = 2\n",
    "\n",
    "\n",
    "#cmap = plt.cm.get_cmap('Blues', 2)\n",
    "fig, ax = plt.subplots(1)\n",
    "fig.set_figheight(1.5)\n",
    "fig.set_figwidth(12)\n",
    "#ax.xaxis.tick_top()\n",
    "ax.set_yticks([])\n",
    "ax.tick_params(axis=\"x\", labelsize=16)\n",
    "plt.tight_layout()\n",
    "ax.imshow(arr.T, cmap=cmap, aspect='auto')\n",
    "\n",
    "#fig.savefig('assay_results.png')"
   ]
  },
  {
   "cell_type": "code",
   "execution_count": 76,
   "metadata": {},
   "outputs": [],
   "source": [
    "targs = list()\n",
    "\n",
    "for count, pair in enumerate(arr_sorted[:10000]):\n",
    "    predicted_target = targets['pref_name'].iloc[pair[1]]\n",
    "    targs.append(predicted_target)\n",
    "    \n",
    "pdf = pd.DataFrame(targs)\n",
    "\n",
    "a= pdf.iloc[positive_targs][0].value_counts()"
   ]
  },
  {
   "cell_type": "code",
   "execution_count": 83,
   "metadata": {},
   "outputs": [
    {
     "name": "stdout",
     "output_type": "stream",
     "text": [
      "Num negative assays: 1\n",
      "33.33333333333333\n",
      "Num with ambiguous assay evidence: 1\n",
      "33.33333333333333\n",
      "Num with positive assay evidence: 1\n",
      "33.33333333333333\n"
     ]
    }
   ],
   "source": [
    "#Print out percentages of ambiguous evidence, negative evidence, and positive evidence\n",
    "tot = both+pos+neg\n",
    "print('Num negative assays:', neg)\n",
    "print(neg/tot*100)\n",
    "\n",
    "print('Num with ambiguous assay evidence:', both)\n",
    "print(both/tot*100)\n",
    "\n",
    "print('Num with positive assay evidence:', pos)\n",
    "print(pos/tot*(100))\n"
   ]
  },
  {
   "cell_type": "code",
   "execution_count": null,
   "metadata": {},
   "outputs": [],
   "source": []
  }
 ],
 "metadata": {
  "kernelspec": {
   "display_name": "Python 3",
   "language": "python",
   "name": "python3"
  },
  "language_info": {
   "codemirror_mode": {
    "name": "ipython",
    "version": 3
   },
   "file_extension": ".py",
   "mimetype": "text/x-python",
   "name": "python",
   "nbconvert_exporter": "python",
   "pygments_lexer": "ipython3",
   "version": "3.7.8"
  }
 },
 "nbformat": 4,
 "nbformat_minor": 4
}
