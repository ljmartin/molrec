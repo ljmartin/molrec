{
 "cells": [
  {
   "cell_type": "code",
   "execution_count": 1,
   "metadata": {},
   "outputs": [
    {
     "name": "stderr",
     "output_type": "stream",
     "text": [
      "/Users/lmar3213/miniconda3/envs/lew_conda/lib/python3.7/site-packages/lightfm/_lightfm_fast.py:9: UserWarning: LightFM was compiled without OpenMP support. Only a single thread will be used.\n",
      "  warnings.warn('LightFM was compiled without OpenMP support. '\n"
     ]
    }
   ],
   "source": [
    "from scipy import sparse\n",
    "import numpy as np\n",
    "import itertools\n",
    "import copy\n",
    "\n",
    "import matplotlib.pyplot as plt\n",
    "%matplotlib inline\n",
    "\n",
    "import pandas as pd\n",
    "\n",
    "from scipy.stats import gaussian_kde\n",
    "from tqdm import tqdm_notebook\n",
    "from seaborn import kdeplot\n",
    "\n",
    "import sys\n",
    "sys.path.append(\"..\")\n",
    "import utils\n",
    "\n",
    "from statsmodels.distributions import ECDF"
   ]
  },
  {
   "cell_type": "code",
   "execution_count": 89,
   "metadata": {},
   "outputs": [],
   "source": [
    "fps = sparse.load_npz('../time_split/morgan.npz')\n",
    "interaction_matrix = sparse.load_npz('../data/interaction_matrix_pchembl.npz')\n",
    "assays_long = pd.read_csv('assays_long.csv')\n",
    "smiles = pd.read_csv('../data/pchembl_chemicals.csv')\n",
    "                     "
   ]
  },
  {
   "cell_type": "code",
   "execution_count": 7,
   "metadata": {},
   "outputs": [],
   "source": [
    "def fast_dice(X, Y=None):\n",
    "    if isinstance(X, np.ndarray):\n",
    "        X = sparse.csr_matrix(X).astype(bool).astype(int)\n",
    "    if Y is None:\n",
    "        Y = X\n",
    "    else:\n",
    "        if isinstance(Y, np.ndarray):\n",
    "            Y = sparse.csr_matrix(Y).astype(bool).astype(int)\n",
    "\n",
    "    intersect = X.dot(Y.T)\n",
    "    #cardinality = X.sum(1).A\n",
    "    cardinality_X = X.getnnz(1)[:,None] #slightly faster on large matrices - 13s vs 16s for 12k x 12k\n",
    "    cardinality_Y = Y.getnnz(1) #slightly faster on large matrices - 13s vs 16s for 12k x 12k\n",
    "    return (1-(2*intersect) / (cardinality_X+cardinality_Y.T)).A\n",
    "\n",
    "\n",
    "##The following is to calculate AVE bias:\n",
    "def fast_jaccard(X, Y=None):\n",
    "    \"\"\"credit: https://stackoverflow.com/questions/32805916/compute-jaccard-distances-on-sparse-matrix\"\"\"\n",
    "    if isinstance(X, np.ndarray):\n",
    "        X = sparse.csr_matrix(X)\n",
    "    if Y is None:\n",
    "        Y = X\n",
    "    else:\n",
    "        if isinstance(Y, np.ndarray):\n",
    "            Y = sparse.csr_matrix(Y)\n",
    "    assert X.shape[1] == Y.shape[1]\n",
    "\n",
    "    X = X.astype(bool).astype(int)\n",
    "    Y = Y.astype(bool).astype(int)\n",
    "    intersect = X.dot(Y.T)\n",
    "    x_sum = X.sum(axis=1).A1\n",
    "    y_sum = Y.sum(axis=1).A1\n",
    "    xx, yy = np.meshgrid(x_sum, y_sum)\n",
    "    union = ((xx + yy).T - intersect)\n",
    "    return (1 - intersect / union).A"
   ]
  },
  {
   "cell_type": "code",
   "execution_count": 53,
   "metadata": {},
   "outputs": [
    {
     "data": {
      "text/html": [
       "<div>\n",
       "<style scoped>\n",
       "    .dataframe tbody tr th:only-of-type {\n",
       "        vertical-align: middle;\n",
       "    }\n",
       "\n",
       "    .dataframe tbody tr th {\n",
       "        vertical-align: top;\n",
       "    }\n",
       "\n",
       "    .dataframe thead th {\n",
       "        text-align: right;\n",
       "    }\n",
       "</style>\n",
       "<table border=\"1\" class=\"dataframe\">\n",
       "  <thead>\n",
       "    <tr style=\"text-align: right;\">\n",
       "      <th></th>\n",
       "      <th>Unnamed: 0</th>\n",
       "      <th>ligandIdx</th>\n",
       "      <th>targetIdx</th>\n",
       "      <th>instance_id</th>\n",
       "      <th>pref_name</th>\n",
       "      <th>outcome</th>\n",
       "      <th>assayname</th>\n",
       "    </tr>\n",
       "  </thead>\n",
       "  <tbody>\n",
       "    <tr>\n",
       "      <th>0</th>\n",
       "      <td>0</td>\n",
       "      <td>236194</td>\n",
       "      <td>84</td>\n",
       "      <td>CHEMBL3908870</td>\n",
       "      <td>Serotonin 2a (5-HT2a) receptor</td>\n",
       "      <td>Unspecified</td>\n",
       "      <td>Displacement of [3H]-ketanserin from human 5-H...</td>\n",
       "    </tr>\n",
       "    <tr>\n",
       "      <th>1</th>\n",
       "      <td>1</td>\n",
       "      <td>153449</td>\n",
       "      <td>194</td>\n",
       "      <td>CHEMBL3401988</td>\n",
       "      <td>PI3-kinase p110-alpha subunit</td>\n",
       "      <td>Unspecified</td>\n",
       "      <td>Inhibition of PI3Kalpha (unknown origin)</td>\n",
       "    </tr>\n",
       "    <tr>\n",
       "      <th>2</th>\n",
       "      <td>2</td>\n",
       "      <td>16124</td>\n",
       "      <td>194</td>\n",
       "      <td>CHEMBL1242661</td>\n",
       "      <td>PI3-kinase p110-alpha subunit</td>\n",
       "      <td>Unspecified</td>\n",
       "      <td>Inhibition of recombinant PI3Kalpha by radioac...</td>\n",
       "    </tr>\n",
       "    <tr>\n",
       "      <th>3</th>\n",
       "      <td>3</td>\n",
       "      <td>57881</td>\n",
       "      <td>164</td>\n",
       "      <td>CHEMBL1908395</td>\n",
       "      <td>Rho-associated protein kinase 1</td>\n",
       "      <td>Unspecified</td>\n",
       "      <td>Binding constant for ROCK1 kinase domain</td>\n",
       "    </tr>\n",
       "    <tr>\n",
       "      <th>4</th>\n",
       "      <td>4</td>\n",
       "      <td>311049</td>\n",
       "      <td>138</td>\n",
       "      <td>CHEMBL50894</td>\n",
       "      <td>Vascular endothelial growth factor receptor 2</td>\n",
       "      <td>Unspecified</td>\n",
       "      <td>Millipore: Percentage of residual kinase activ...</td>\n",
       "    </tr>\n",
       "  </tbody>\n",
       "</table>\n",
       "</div>"
      ],
      "text/plain": [
       "   Unnamed: 0  ligandIdx  targetIdx    instance_id  \\\n",
       "0           0     236194         84  CHEMBL3908870   \n",
       "1           1     153449        194  CHEMBL3401988   \n",
       "2           2      16124        194  CHEMBL1242661   \n",
       "3           3      57881        164  CHEMBL1908395   \n",
       "4           4     311049        138    CHEMBL50894   \n",
       "\n",
       "                                       pref_name      outcome  \\\n",
       "0                 Serotonin 2a (5-HT2a) receptor  Unspecified   \n",
       "1                  PI3-kinase p110-alpha subunit  Unspecified   \n",
       "2                  PI3-kinase p110-alpha subunit  Unspecified   \n",
       "3                Rho-associated protein kinase 1  Unspecified   \n",
       "4  Vascular endothelial growth factor receptor 2  Unspecified   \n",
       "\n",
       "                                           assayname  \n",
       "0  Displacement of [3H]-ketanserin from human 5-H...  \n",
       "1           Inhibition of PI3Kalpha (unknown origin)  \n",
       "2  Inhibition of recombinant PI3Kalpha by radioac...  \n",
       "3           Binding constant for ROCK1 kinase domain  \n",
       "4  Millipore: Percentage of residual kinase activ...  "
      ]
     },
     "execution_count": 53,
     "metadata": {},
     "output_type": "execute_result"
    }
   ],
   "source": [
    "assays_long.head()"
   ]
  },
  {
   "cell_type": "code",
   "execution_count": 54,
   "metadata": {},
   "outputs": [
    {
     "data": {
      "text/html": [
       "<div>\n",
       "<style scoped>\n",
       "    .dataframe tbody tr th:only-of-type {\n",
       "        vertical-align: middle;\n",
       "    }\n",
       "\n",
       "    .dataframe tbody tr th {\n",
       "        vertical-align: top;\n",
       "    }\n",
       "\n",
       "    .dataframe thead th {\n",
       "        text-align: right;\n",
       "    }\n",
       "</style>\n",
       "<table border=\"1\" class=\"dataframe\">\n",
       "  <thead>\n",
       "    <tr style=\"text-align: right;\">\n",
       "      <th></th>\n",
       "      <th>ligandIdx</th>\n",
       "      <th>targetIdx</th>\n",
       "      <th>0</th>\n",
       "    </tr>\n",
       "  </thead>\n",
       "  <tbody>\n",
       "    <tr>\n",
       "      <th>0</th>\n",
       "      <td>917</td>\n",
       "      <td>199</td>\n",
       "      <td>True</td>\n",
       "    </tr>\n",
       "    <tr>\n",
       "      <th>1</th>\n",
       "      <td>974</td>\n",
       "      <td>82</td>\n",
       "      <td>True</td>\n",
       "    </tr>\n",
       "    <tr>\n",
       "      <th>2</th>\n",
       "      <td>993</td>\n",
       "      <td>162</td>\n",
       "      <td>True</td>\n",
       "    </tr>\n",
       "    <tr>\n",
       "      <th>3</th>\n",
       "      <td>3267</td>\n",
       "      <td>36</td>\n",
       "      <td>True</td>\n",
       "    </tr>\n",
       "    <tr>\n",
       "      <th>4</th>\n",
       "      <td>3325</td>\n",
       "      <td>149</td>\n",
       "      <td>True</td>\n",
       "    </tr>\n",
       "  </tbody>\n",
       "</table>\n",
       "</div>"
      ],
      "text/plain": [
       "   ligandIdx  targetIdx     0\n",
       "0        917        199  True\n",
       "1        974         82  True\n",
       "2        993        162  True\n",
       "3       3267         36  True\n",
       "4       3325        149  True"
      ]
     },
     "execution_count": 54,
     "metadata": {},
     "output_type": "execute_result"
    }
   ],
   "source": [
    "actives_df = pd.DataFrame(assays_long.groupby(['ligandIdx', 'targetIdx']).apply( \n",
    "    lambda grouped_df: (grouped_df['outcome'].str.contains('Active').any())))\n",
    "\n",
    "actives_df=actives_df[actives_df[0]==True].reset_index()\n",
    "actives_df.head()"
   ]
  },
  {
   "cell_type": "code",
   "execution_count": 73,
   "metadata": {},
   "outputs": [
    {
     "name": "stdout",
     "output_type": "stream",
     "text": [
      "731\r"
     ]
    }
   ],
   "source": [
    "similarities = list()\n",
    "for count, ligId, targId in zip(range(len(actives_df)), actives_df['ligandIdx'], actives_df['targetIdx']):\n",
    "    print(count, end = '\\r')\n",
    "    allSimilarities = fast_dice(fps[ligId], fps[(interaction_matrix[:,targId]==1).toarray().flatten()])\n",
    "    similarities.append(allSimilarities.min())\n",
    "    \n",
    "similarities = np.array(similarities)"
   ]
  },
  {
   "cell_type": "code",
   "execution_count": 81,
   "metadata": {},
   "outputs": [
    {
     "data": {
      "text/plain": [
       "<matplotlib.axes._subplots.AxesSubplot at 0x129eb7e10>"
      ]
     },
     "execution_count": 81,
     "metadata": {},
     "output_type": "execute_result"
    },
    {
     "data": {
      "image/png": "[encoded data removed]",
      "text/plain": [
       "<Figure size 432x288 with 1 Axes>"
      ]
     },
     "metadata": {
      "needs_background": "light"
     },
     "output_type": "display_data"
    }
   ],
   "source": [
    "numrandom = 100\n",
    "kdeplot(fast_dice(fps[np.random.choice(range(fps.shape[0]), numrandom)],\n",
    "          fps[np.random.choice(range(fps.shape[0]), numrandom)]).flatten())"
   ]
  },
  {
   "cell_type": "code",
   "execution_count": 120,
   "metadata": {},
   "outputs": [
    {
     "data": {
      "text/plain": [
       "<matplotlib.axes._subplots.AxesSubplot at 0x129bb7e90>"
      ]
     },
     "execution_count": 120,
     "metadata": {},
     "output_type": "execute_result"
    },
    {
     "data": {
      "image/png": "[encoded data removed]",
      "text/plain": [
       "<Figure size 432x288 with 1 Axes>"
      ]
     },
     "metadata": {
      "needs_background": "light"
     },
     "output_type": "display_data"
    }
   ],
   "source": [
    "targetidx = np.random.choice(interaction_matrix.shape[1])\n",
    "ligands = fps[(interaction_matrix[:,targId]==1).toarray().flatten()]\n",
    "\n",
    "\n",
    "kdeplot(fast_dice(ligands[np.random.choice(range(ligands.shape[0]), numrandom)],\n",
    "          ligands[np.random.choice(range(ligands.shape[0]), numrandom)]).flatten())\n",
    "\n",
    "numrandom = 1000\n",
    "kdeplot(fast_dice(fps[np.random.choice(range(fps.shape[0]), numrandom)],\n",
    "          fps[np.random.choice(range(fps.shape[0]), numrandom)]).flatten())\n",
    "\n",
    "kdeplot(similarities)"
   ]
  },
  {
   "cell_type": "code",
   "execution_count": 74,
   "metadata": {
    "scrolled": false
   },
   "outputs": [
    {
     "data": {
      "text/plain": [
       "array([0.92592593, 0.92      , 0.89473684, 0.88235294, 0.85714286,\n",
       "       0.73913043, 0.63636364, 0.61006289, 0.60509554, 0.6039604 ])"
      ]
     },
     "execution_count": 74,
     "metadata": {},
     "output_type": "execute_result"
    }
   ],
   "source": [
    "similarities[np.argsort(-similarities)[:10]]"
   ]
  },
  {
   "cell_type": "code",
   "execution_count": 101,
   "metadata": {},
   "outputs": [
    {
     "data": {
      "text/plain": [
       "array([192,  29,  93, 209,  74,  73,  26, 339, 340, 648])"
      ]
     },
     "execution_count": 101,
     "metadata": {},
     "output_type": "execute_result"
    }
   ],
   "source": [
    "np.argsort(-similarities)[:10]"
   ]
  },
  {
   "cell_type": "code",
   "execution_count": 114,
   "metadata": {},
   "outputs": [
    {
     "data": {
      "text/plain": [
       "ligandIdx    37957\n",
       "targetIdx       52\n",
       "0             True\n",
       "Name: 73, dtype: object"
      ]
     },
     "execution_count": 114,
     "metadata": {},
     "output_type": "execute_result"
    }
   ],
   "source": [
    "actives_df.iloc[73]"
   ]
  },
  {
   "cell_type": "code",
   "execution_count": 115,
   "metadata": {},
   "outputs": [
    {
     "data": {
      "text/plain": [
       "0.8947368421052632"
      ]
     },
     "execution_count": 115,
     "metadata": {},
     "output_type": "execute_result"
    }
   ],
   "source": [
    "fast_dice(fps[54432], fps[(interaction_matrix[:,52]==1).toarray().flatten()]).min()\n",
    "#similarities.append(allSimilarities.min())"
   ]
  },
  {
   "cell_type": "code",
   "execution_count": 117,
   "metadata": {},
   "outputs": [
    {
     "data": {
      "text/plain": [
       "instance_id         CHEMBL1644696\n",
       "canonical_smiles    [Na+].[O-]C#N\n",
       "Name: 37957, dtype: object"
      ]
     },
     "execution_count": 117,
     "metadata": {},
     "output_type": "execute_result"
    }
   ],
   "source": [
    "smiles.iloc[37957]"
   ]
  },
  {
   "cell_type": "code",
   "execution_count": null,
   "metadata": {},
   "outputs": [],
   "source": []
  },
  {
   "cell_type": "code",
   "execution_count": 93,
   "metadata": {},
   "outputs": [
    {
     "data": {
      "text/plain": [
       "array([192,  29,  93, 209,  74,  73,  26, 339, 340, 648])"
      ]
     },
     "execution_count": 93,
     "metadata": {},
     "output_type": "execute_result"
    }
   ],
   "source": [
    "np.argsort(-similarities)[:10]"
   ]
  },
  {
   "cell_type": "code",
   "execution_count": null,
   "metadata": {},
   "outputs": [],
   "source": []
  },
  {
   "cell_type": "code",
   "execution_count": 91,
   "metadata": {},
   "outputs": [
    {
     "data": {
      "text/plain": [
       "<337951x243 sparse matrix of type '<class 'numpy.float64'>'\n",
       "\twith 483643 stored elements in Compressed Sparse Row format>"
      ]
     },
     "execution_count": 91,
     "metadata": {},
     "output_type": "execute_result"
    }
   ],
   "source": [
    "interaction_matrix"
   ]
  },
  {
   "cell_type": "code",
   "execution_count": 92,
   "metadata": {},
   "outputs": [
    {
     "data": {
      "text/plain": [
       "337951"
      ]
     },
     "execution_count": 92,
     "metadata": {},
     "output_type": "execute_result"
    }
   ],
   "source": [
    "len(smiles)"
   ]
  },
  {
   "cell_type": "code",
   "execution_count": 65,
   "metadata": {},
   "outputs": [
    {
     "data": {
      "text/plain": [
       "(array([50.,  0., 10.,  5., 19., 27., 50., 49., 55., 42., 60., 34., 33.,\n",
       "        27., 26., 26., 25., 11., 17., 16., 13., 13., 11., 12., 10., 13.,\n",
       "        10.,  9.,  7.,  8., 16.,  5.,  2.,  6.,  2.,  5.,  1.,  1.,  0.,\n",
       "         0.,  0.,  0.,  0.,  1.,  0.,  0.,  0.,  0.,  0.,  0.,  1.,  0.,\n",
       "         1.,  1.,  2.]),\n",
       " array([0.        , 0.01683502, 0.03367003, 0.05050505, 0.06734007,\n",
       "        0.08417508, 0.1010101 , 0.11784512, 0.13468013, 0.15151515,\n",
       "        0.16835017, 0.18518519, 0.2020202 , 0.21885522, 0.23569024,\n",
       "        0.25252525, 0.26936027, 0.28619529, 0.3030303 , 0.31986532,\n",
       "        0.33670034, 0.35353535, 0.37037037, 0.38720539, 0.4040404 ,\n",
       "        0.42087542, 0.43771044, 0.45454545, 0.47138047, 0.48821549,\n",
       "        0.50505051, 0.52188552, 0.53872054, 0.55555556, 0.57239057,\n",
       "        0.58922559, 0.60606061, 0.62289562, 0.63973064, 0.65656566,\n",
       "        0.67340067, 0.69023569, 0.70707071, 0.72390572, 0.74074074,\n",
       "        0.75757576, 0.77441077, 0.79124579, 0.80808081, 0.82491582,\n",
       "        0.84175084, 0.85858586, 0.87542088, 0.89225589, 0.90909091,\n",
       "        0.92592593]),\n",
       " <a list of 55 Patch objects>)"
      ]
     },
     "execution_count": 65,
     "metadata": {},
     "output_type": "execute_result"
    },
    {
     "data": {
      "image/png": "[encoded data removed]",
      "text/plain": [
       "<Figure size 432x288 with 1 Axes>"
      ]
     },
     "metadata": {
      "needs_background": "light"
     },
     "output_type": "display_data"
    }
   ],
   "source": [
    "from seaborn import kdeplot\n",
    "plt.hist(similarities, bins=55)"
   ]
  },
  {
   "cell_type": "code",
   "execution_count": null,
   "metadata": {},
   "outputs": [],
   "source": []
  }
 ],
 "metadata": {
  "kernelspec": {
   "display_name": "Python 3",
   "language": "python",
   "name": "python3"
  },
  "language_info": {
   "codemirror_mode": {
    "name": "ipython",
    "version": 3
   },
   "file_extension": ".py",
   "mimetype": "text/x-python",
   "name": "python",
   "nbconvert_exporter": "python",
   "pygments_lexer": "ipython3",
   "version": "3.7.6"
  }
 },
 "nbformat": 4,
 "nbformat_minor": 4
}
