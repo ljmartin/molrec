{
 "cells": [
  {
   "cell_type": "code",
   "execution_count": 1,
   "metadata": {},
   "outputs": [
    {
     "name": "stderr",
     "output_type": "stream",
     "text": [
      "/Users/lmar3213/miniconda3/envs/lew_conda/lib/python3.7/site-packages/lightfm/_lightfm_fast.py:9: UserWarning: LightFM was compiled without OpenMP support. Only a single thread will be used.\n",
      "  warnings.warn('LightFM was compiled without OpenMP support. '\n"
     ]
    }
   ],
   "source": [
    "import numpy as np\n",
    "from scipy import sparse\n",
    "\n",
    "import sys\n",
    "sys.path.append(\"..\")\n",
    "import utils"
   ]
  },
  {
   "cell_type": "code",
   "execution_count": 223,
   "metadata": {},
   "outputs": [],
   "source": [
    "##The following is to calculate AVE bias:\n",
    "def fast_jaccard(X, Y=None):\n",
    "    \"\"\"credit: https://stackoverflow.com/questions/32805916/compute-jaccard-distances-on-sparse-matrix\"\"\"\n",
    "    if isinstance(X, np.ndarray):\n",
    "        X = sparse.csr_matrix(X)\n",
    "    if Y is None:\n",
    "        Y = X\n",
    "    else:\n",
    "        if isinstance(Y, np.ndarray):\n",
    "            Y = sparse.csr_matrix(Y)\n",
    "    assert X.shape[1] == Y.shape[1]\n",
    "\n",
    "    X = X.astype(bool).astype(int)\n",
    "    Y = Y.astype(bool).astype(int)\n",
    "    intersect = X.dot(Y.T)\n",
    "    x_sum = X.sum(axis=1).A1\n",
    "    y_sum = Y.sum(axis=1).A1\n",
    "    xx, yy = np.meshgrid(x_sum, y_sum)\n",
    "    union = ((xx + yy).T - intersect)\n",
    "    return (1 - intersect / union).A\n",
    "\n",
    "def get_nnrank_of_target(ligand_idx, target_idx, train_matrix):\n",
    "        \n",
    "    positives = train_matrix[ligand_idx].nonzero()[1]\n",
    "    all_distances = fast_jaccard(fps[ligand_idx], fps)[0]\n",
    "    s = np.argsort(all_distances)\n",
    "    \n",
    "    pred = target_idx\n",
    "    curr_rank = 0\n",
    "    count=1\n",
    "    preds = []\n",
    "    seen = []\n",
    "\n",
    "    while pred not in seen:\n",
    "    #for _ in range(100):\n",
    "        predictions = train_matrix[s[count]].nonzero()[1]\n",
    "    \n",
    "        preds = np.setdiff1d(predictions,positives)\n",
    "        preds = np.setdiff1d(preds, seen)\n",
    "        \n",
    "        curr_rank = len(seen)\n",
    "        \n",
    "        seen += list(preds)\n",
    "        if len(preds)>0:\n",
    "             curr_rank+= np.mean(np.arange(len(preds))+1)\n",
    "        count+=1\n",
    "\n",
    "    return curr_rank"
   ]
  },
  {
   "cell_type": "code",
   "execution_count": 224,
   "metadata": {},
   "outputs": [],
   "source": [
    "train, test, fps = utils.load_time_split(year=2015, return_fingerprints=True)\n",
    "#all labels:\n",
    "interaction_matrix = sparse.load_npz('../0_data/interaction_matrix_pchembl.npz')"
   ]
  },
  {
   "cell_type": "code",
   "execution_count": 221,
   "metadata": {
    "scrolled": true
   },
   "outputs": [
    {
     "name": "stderr",
     "output_type": "stream",
     "text": [
      "/Users/lmar3213/miniconda3/envs/lew_conda/lib/python3.7/site-packages/ipykernel_launcher.py:5: TqdmDeprecationWarning: This function will be removed in tqdm==5.0.0\n",
      "Please use `tqdm.notebook.tqdm` instead of `tqdm.tqdm_notebook`\n",
      "  \"\"\"\n"
     ]
    },
    {
     "data": {
      "application/vnd.jupyter.widget-view+json": {
       "model_id": "d7535cfe4b354919852365fee871f876",
       "version_major": 2,
       "version_minor": 0
      },
      "text/plain": [
       "HBox(children=(FloatProgress(value=0.0, max=736.0), HTML(value='')))"
      ]
     },
     "metadata": {},
     "output_type": "display_data"
    },
    {
     "name": "stdout",
     "output_type": "stream",
     "text": [
      "8.0\n",
      "1.5\n",
      "64.0\n",
      "109.5\n",
      "76.0\n",
      "2.0\n",
      "158.0\n",
      "20.5\n",
      "12.0\n",
      "2.5\n",
      "2.5\n",
      "4.5\n",
      "4.5\n",
      "3.0\n",
      "2.0\n",
      "14.0\n",
      "14.0\n",
      "14.0\n",
      "14.0\n",
      "14.0\n",
      "2.0\n",
      "2.0\n",
      "1.5\n",
      "1.5\n",
      "6.0\n",
      "30.0\n",
      "83.0\n",
      "7.0\n",
      "\n"
     ]
    },
    {
     "ename": "KeyboardInterrupt",
     "evalue": "",
     "output_type": "error",
     "traceback": [
      "\u001b[0;31m-----------------------------------\u001b[0m",
      "\u001b[0;31mKeyboardInterrupt\u001b[0mTraceback (most recent call last)",
      "\u001b[0;32m<ipython-input-221-0ef3dbada4d6>\u001b[0m in \u001b[0;36m<module>\u001b[0;34m\u001b[0m\n\u001b[1;32m      4\u001b[0m \u001b[0;34m\u001b[0m\u001b[0m\n\u001b[1;32m      5\u001b[0m \u001b[0;32mfor\u001b[0m \u001b[0mlig_idx\u001b[0m\u001b[0;34m,\u001b[0m \u001b[0mtarg_idx\u001b[0m \u001b[0;32min\u001b[0m \u001b[0mtqdm\u001b[0m\u001b[0;34m.\u001b[0m\u001b[0mtqdm_notebook\u001b[0m\u001b[0;34m(\u001b[0m\u001b[0mzip\u001b[0m\u001b[0;34m(\u001b[0m\u001b[0mrow_idx\u001b[0m\u001b[0;34m,\u001b[0m \u001b[0mcol_idx\u001b[0m\u001b[0;34m)\u001b[0m\u001b[0;34m,\u001b[0m \u001b[0mtotal\u001b[0m\u001b[0;34m=\u001b[0m\u001b[0mlen\u001b[0m\u001b[0;34m(\u001b[0m\u001b[0mrow_idx\u001b[0m\u001b[0;34m)\u001b[0m\u001b[0;34m)\u001b[0m\u001b[0;34m:\u001b[0m\u001b[0;34m\u001b[0m\u001b[0;34m\u001b[0m\u001b[0m\n\u001b[0;32m----> 6\u001b[0;31m     \u001b[0mnnrank\u001b[0m \u001b[0;34m=\u001b[0m \u001b[0mget_nnrank_of_target\u001b[0m\u001b[0;34m(\u001b[0m\u001b[0mlig_idx\u001b[0m\u001b[0;34m,\u001b[0m \u001b[0mtarg_idx\u001b[0m\u001b[0;34m,\u001b[0m \u001b[0mtrain\u001b[0m\u001b[0;34m)\u001b[0m\u001b[0;34m\u001b[0m\u001b[0;34m\u001b[0m\u001b[0m\n\u001b[0m\u001b[1;32m      7\u001b[0m     \u001b[0mprint\u001b[0m\u001b[0;34m(\u001b[0m\u001b[0mnnrank\u001b[0m\u001b[0;34m)\u001b[0m\u001b[0;34m\u001b[0m\u001b[0;34m\u001b[0m\u001b[0m\n\u001b[1;32m      8\u001b[0m     \u001b[0mnnranks\u001b[0m\u001b[0;34m.\u001b[0m\u001b[0mappend\u001b[0m\u001b[0;34m(\u001b[0m\u001b[0mnnrank\u001b[0m\u001b[0;34m)\u001b[0m\u001b[0;34m\u001b[0m\u001b[0;34m\u001b[0m\u001b[0m\n",
      "\u001b[0;32m<ipython-input-219-07e2bb7b96a7>\u001b[0m in \u001b[0;36mget_nnrank_of_target\u001b[0;34m(ligand_idx, target_idx, train_matrix)\u001b[0m\n\u001b[1;32m     36\u001b[0m         \u001b[0mpredictions\u001b[0m \u001b[0;34m=\u001b[0m \u001b[0mtrain_matrix\u001b[0m\u001b[0;34m[\u001b[0m\u001b[0ms\u001b[0m\u001b[0;34m[\u001b[0m\u001b[0mcount\u001b[0m\u001b[0;34m]\u001b[0m\u001b[0;34m]\u001b[0m\u001b[0;34m.\u001b[0m\u001b[0mnonzero\u001b[0m\u001b[0;34m(\u001b[0m\u001b[0;34m)\u001b[0m\u001b[0;34m[\u001b[0m\u001b[0;36m1\u001b[0m\u001b[0;34m]\u001b[0m\u001b[0;34m\u001b[0m\u001b[0;34m\u001b[0m\u001b[0m\n\u001b[1;32m     37\u001b[0m \u001b[0;34m\u001b[0m\u001b[0m\n\u001b[0;32m---> 38\u001b[0;31m         \u001b[0mpreds\u001b[0m \u001b[0;34m=\u001b[0m \u001b[0mnp\u001b[0m\u001b[0;34m.\u001b[0m\u001b[0msetdiff1d\u001b[0m\u001b[0;34m(\u001b[0m\u001b[0mpredictions\u001b[0m\u001b[0;34m,\u001b[0m\u001b[0mpositives\u001b[0m\u001b[0;34m)\u001b[0m\u001b[0;34m\u001b[0m\u001b[0;34m\u001b[0m\u001b[0m\n\u001b[0m\u001b[1;32m     39\u001b[0m         \u001b[0mpreds\u001b[0m \u001b[0;34m=\u001b[0m \u001b[0mnp\u001b[0m\u001b[0;34m.\u001b[0m\u001b[0msetdiff1d\u001b[0m\u001b[0;34m(\u001b[0m\u001b[0mpreds\u001b[0m\u001b[0;34m,\u001b[0m \u001b[0mseen\u001b[0m\u001b[0;34m)\u001b[0m\u001b[0;34m\u001b[0m\u001b[0;34m\u001b[0m\u001b[0m\n\u001b[1;32m     40\u001b[0m \u001b[0;34m\u001b[0m\u001b[0m\n",
      "\u001b[0;32m<__array_function__ internals>\u001b[0m in \u001b[0;36msetdiff1d\u001b[0;34m(*args, **kwargs)\u001b[0m\n",
      "\u001b[0;32m~/miniconda3/envs/lew_conda/lib/python3.7/site-packages/numpy/lib/arraysetops.py\u001b[0m in \u001b[0;36msetdiff1d\u001b[0;34m(ar1, ar2, assume_unique)\u001b[0m\n\u001b[1;32m    795\u001b[0m     \u001b[0;32melse\u001b[0m\u001b[0;34m:\u001b[0m\u001b[0;34m\u001b[0m\u001b[0;34m\u001b[0m\u001b[0m\n\u001b[1;32m    796\u001b[0m         \u001b[0mar1\u001b[0m \u001b[0;34m=\u001b[0m \u001b[0munique\u001b[0m\u001b[0;34m(\u001b[0m\u001b[0mar1\u001b[0m\u001b[0;34m)\u001b[0m\u001b[0;34m\u001b[0m\u001b[0;34m\u001b[0m\u001b[0m\n\u001b[0;32m--> 797\u001b[0;31m         \u001b[0mar2\u001b[0m \u001b[0;34m=\u001b[0m \u001b[0munique\u001b[0m\u001b[0;34m(\u001b[0m\u001b[0mar2\u001b[0m\u001b[0;34m)\u001b[0m\u001b[0;34m\u001b[0m\u001b[0;34m\u001b[0m\u001b[0m\n\u001b[0m\u001b[1;32m    798\u001b[0m     \u001b[0;32mreturn\u001b[0m \u001b[0mar1\u001b[0m\u001b[0;34m[\u001b[0m\u001b[0min1d\u001b[0m\u001b[0;34m(\u001b[0m\u001b[0mar1\u001b[0m\u001b[0;34m,\u001b[0m \u001b[0mar2\u001b[0m\u001b[0;34m,\u001b[0m \u001b[0massume_unique\u001b[0m\u001b[0;34m=\u001b[0m\u001b[0;32mTrue\u001b[0m\u001b[0;34m,\u001b[0m \u001b[0minvert\u001b[0m\u001b[0;34m=\u001b[0m\u001b[0;32mTrue\u001b[0m\u001b[0;34m)\u001b[0m\u001b[0;34m]\u001b[0m\u001b[0;34m\u001b[0m\u001b[0;34m\u001b[0m\u001b[0m\n",
      "\u001b[0;32m<__array_function__ internals>\u001b[0m in \u001b[0;36munique\u001b[0;34m(*args, **kwargs)\u001b[0m\n",
      "\u001b[0;32m~/miniconda3/envs/lew_conda/lib/python3.7/site-packages/numpy/lib/arraysetops.py\u001b[0m in \u001b[0;36munique\u001b[0;34m(ar, return_index, return_inverse, return_counts, axis)\u001b[0m\n\u001b[1;32m    259\u001b[0m     \u001b[0mar\u001b[0m \u001b[0;34m=\u001b[0m \u001b[0mnp\u001b[0m\u001b[0;34m.\u001b[0m\u001b[0masanyarray\u001b[0m\u001b[0;34m(\u001b[0m\u001b[0mar\u001b[0m\u001b[0;34m)\u001b[0m\u001b[0;34m\u001b[0m\u001b[0;34m\u001b[0m\u001b[0m\n\u001b[1;32m    260\u001b[0m     \u001b[0;32mif\u001b[0m \u001b[0maxis\u001b[0m \u001b[0;32mis\u001b[0m \u001b[0;32mNone\u001b[0m\u001b[0;34m:\u001b[0m\u001b[0;34m\u001b[0m\u001b[0;34m\u001b[0m\u001b[0m\n\u001b[0;32m--> 261\u001b[0;31m         \u001b[0mret\u001b[0m \u001b[0;34m=\u001b[0m \u001b[0m_unique1d\u001b[0m\u001b[0;34m(\u001b[0m\u001b[0mar\u001b[0m\u001b[0;34m,\u001b[0m \u001b[0mreturn_index\u001b[0m\u001b[0;34m,\u001b[0m \u001b[0mreturn_inverse\u001b[0m\u001b[0;34m,\u001b[0m \u001b[0mreturn_counts\u001b[0m\u001b[0;34m)\u001b[0m\u001b[0;34m\u001b[0m\u001b[0;34m\u001b[0m\u001b[0m\n\u001b[0m\u001b[1;32m    262\u001b[0m         \u001b[0;32mreturn\u001b[0m \u001b[0m_unpack_tuple\u001b[0m\u001b[0;34m(\u001b[0m\u001b[0mret\u001b[0m\u001b[0;34m)\u001b[0m\u001b[0;34m\u001b[0m\u001b[0;34m\u001b[0m\u001b[0m\n\u001b[1;32m    263\u001b[0m \u001b[0;34m\u001b[0m\u001b[0m\n",
      "\u001b[0;32m~/miniconda3/envs/lew_conda/lib/python3.7/site-packages/numpy/lib/arraysetops.py\u001b[0m in \u001b[0;36m_unique1d\u001b[0;34m(ar, return_index, return_inverse, return_counts)\u001b[0m\n\u001b[1;32m    323\u001b[0m         \u001b[0maux\u001b[0m \u001b[0;34m=\u001b[0m \u001b[0mar\u001b[0m\u001b[0;34m\u001b[0m\u001b[0;34m\u001b[0m\u001b[0m\n\u001b[1;32m    324\u001b[0m     \u001b[0mmask\u001b[0m \u001b[0;34m=\u001b[0m \u001b[0mnp\u001b[0m\u001b[0;34m.\u001b[0m\u001b[0mempty\u001b[0m\u001b[0;34m(\u001b[0m\u001b[0maux\u001b[0m\u001b[0;34m.\u001b[0m\u001b[0mshape\u001b[0m\u001b[0;34m,\u001b[0m \u001b[0mdtype\u001b[0m\u001b[0;34m=\u001b[0m\u001b[0mnp\u001b[0m\u001b[0;34m.\u001b[0m\u001b[0mbool_\u001b[0m\u001b[0;34m)\u001b[0m\u001b[0;34m\u001b[0m\u001b[0;34m\u001b[0m\u001b[0m\n\u001b[0;32m--> 325\u001b[0;31m     \u001b[0mmask\u001b[0m\u001b[0;34m[\u001b[0m\u001b[0;34m:\u001b[0m\u001b[0;36m1\u001b[0m\u001b[0;34m]\u001b[0m \u001b[0;34m=\u001b[0m \u001b[0;32mTrue\u001b[0m\u001b[0;34m\u001b[0m\u001b[0;34m\u001b[0m\u001b[0m\n\u001b[0m\u001b[1;32m    326\u001b[0m     \u001b[0mmask\u001b[0m\u001b[0;34m[\u001b[0m\u001b[0;36m1\u001b[0m\u001b[0;34m:\u001b[0m\u001b[0;34m]\u001b[0m \u001b[0;34m=\u001b[0m \u001b[0maux\u001b[0m\u001b[0;34m[\u001b[0m\u001b[0;36m1\u001b[0m\u001b[0;34m:\u001b[0m\u001b[0;34m]\u001b[0m \u001b[0;34m!=\u001b[0m \u001b[0maux\u001b[0m\u001b[0;34m[\u001b[0m\u001b[0;34m:\u001b[0m\u001b[0;34m-\u001b[0m\u001b[0;36m1\u001b[0m\u001b[0;34m]\u001b[0m\u001b[0;34m\u001b[0m\u001b[0;34m\u001b[0m\u001b[0m\n\u001b[1;32m    327\u001b[0m \u001b[0;34m\u001b[0m\u001b[0m\n",
      "\u001b[0;31mKeyboardInterrupt\u001b[0m: "
     ]
    }
   ],
   "source": [
    "import tqdm \n",
    "row_idx, col_idx = test.nonzero()\n",
    "nnranks = list()\n",
    "\n",
    "for lig_idx, targ_idx in tqdm.tqdm_notebook(zip(row_idx, col_idx), total=len(row_idx)):\n",
    "    nnrank = get_nnrank_of_target(lig_idx, targ_idx, train)\n",
    "    print(nnrank)\n",
    "    nnranks.append(nnrank)"
   ]
  },
  {
   "cell_type": "code",
   "execution_count": 222,
   "metadata": {},
   "outputs": [
    {
     "data": {
      "text/plain": [
       "array([  8. ,   2.5,  64. , 109.5,  76. ,   1.5, 158. ,  20. ,  12. ,\n",
       "         2.5,   2.5,   4.5,   4.5,   3. ,   2. ,  14. ,  14. ,  14. ,\n",
       "        14. ,  14. ,   2. ,   2. ,   1.5,   1.5,   6. ,  30. ,  82.5,\n",
       "         7. ,  57. , 118. , 108. ,   1.5,   5. ,   1. ,   3.5,   3.5,\n",
       "         2. ,  61. , 238. ,  21. ,   1. ,   2. ,  12. ,   1. ,  16. ,\n",
       "        19. ,  39. ,   4.5,   8. ,   4. ,   1.5, 130. ,  81.5,   1. ,\n",
       "         1. ,  11. ,  21.5,   2. ,   4. ,  17. ,  17. ,  17. ,   7. ,\n",
       "        51.5,  10.5,   5.5,   5.5,   5.5,   4. ,  67. ,  13. ,  10.5,\n",
       "        10.5,   4.5,   6.5,   2. ,   1. ,   5.5,   2. ,  10. ,   5.5,\n",
       "         2. , 143.5, 166. ,   2. , 173. ,   1. , 169. ,  45. ,   1. ,\n",
       "         3. , 142. ,  18. ,  14. ,  92. ,   9.5,   1.5,   3. ,   2. ,\n",
       "        92. ,  16.5,  15.5,  52. ,  67. ,   6. ,  25. ,   4. ,  16. ,\n",
       "         2. ,   2. ,  35. ,  13. ,   5. ,   1. ,   1.5,   1.5, 165. ,\n",
       "        24. ,  24. ,   6. ,  30. ,  30. ,  30. ,  12. ,   6. ,   6. ,\n",
       "         6. ,  30. , 123. ,  30. ,   6. ,   6. ,  30. ,   6. , 134.5,\n",
       "        66.5,   6. ,   6. ,  30. ,  30. ,  30. ,  76.5,   6. ,   6. ,\n",
       "        30. ,  45.5, 119. ,   2. ,   2. ,   2. ,   3. ,   3. ,   3. ,\n",
       "         3. ,   3. ,   3. ,   2. ,  16. ,  64.5,   2.5,   5. ,   3. ,\n",
       "         1.5,   2. ,   3. ,   3.5,   4.5,  29. ,  26. ,  14. ,   2. ,\n",
       "        12. ,   8. ,   7.5,   7.5,   7.5,   3. ,   3.5,   3.5, 172. ,\n",
       "       172. ,   1.5,   1.5,   1.5,   1.5,  22.5,   3. ,  22.5,  22.5,\n",
       "        22.5,  16.5,   8. ,   3.5, 142. ,   5.5,   1.5,  35. ,   2. ,\n",
       "         3. ,   4.5,  11. ,   1. ,   7.5,  20. ,   5. ,   1. ,   4. ,\n",
       "         6. ,  13.5,  40. ,  25.5,   2. ,   6. , 214.5,   1. ,   3. ,\n",
       "        17.5,  11. ,  17.5,  30. ,   7. ,   8. ,   4.5,   3. ,   4.5,\n",
       "        12. ,   1.5,   3.5,  22.5,   1. ,   3. ,   1. ,   2. ,   2.5,\n",
       "         1. ,   8.5,   1.5,   1.5,  68. ,   2. ,   1.5,   1.5,  11.5,\n",
       "        11.5,  47.5,   1. , 112. ,   6. ,  56.5,  33. ,  32. ,  44. ,\n",
       "         2.5,  52.5, 127. ,  23. ,  89. ,  17. ,   1.5,  25. , 156. ,\n",
       "         1. ,   1. ,   1. ,   5. ,  17.5,   4. ,   1. ,  40. ,  52. ,\n",
       "        40. ,  89.5,  32. ,  93. ,  93. ,  98.5, 222. ,   4. ,   1. ,\n",
       "         1. ,  14. ,  20. ,  36.5,   1.5,   1.5,   3.5,   3.5, 120. ,\n",
       "       129.5,  14.5,   3.5,  14.5,  47. ,   4. ,   4. ,   6. ,  18.5,\n",
       "        23.5,   2. ,   2. ,   2. ,   1. , 115. , 230. ,  43. ,   3.5,\n",
       "        23. ,  12. ,  52. ,   8.5,  43.5,  67. ,   1. ,   1.5,   1.5,\n",
       "         1. ,   1. ,   1. ,   2. ,   2. ,   2. ,   1. ,   1. ,   1. ,\n",
       "         1. ,   2. ,   1. ,   1. ,   1. ,   1. ,   2. ,   1. ,   1. ,\n",
       "         2. ,   1. ,   2. ,   1. ,   1. ,   1. ,   1. ,   1. ,  10. ,\n",
       "         3. ,  33.5, 126. , 104. ,  16. ,  27.5,  27.5,  83. ,  83. ,\n",
       "        13. ,   2. ,   1. ,  20. , 181. , 146. ,   1.5,   3. ,   2. ,\n",
       "         2. ,   2. ,   2. ,   1. ,   1. ,  36.5,   1. ,   2. ,   1. ,\n",
       "         1.5,   1.5,   1.5,   7.5,   7.5,   7.5,   7.5,   3. ,   2.5,\n",
       "         8. ,   4. ,   1.5,   8. ,   3. ,   1.5,   9. ,   3. ,   2. ,\n",
       "         2. ,  16.5, 196.5, 207.5, 204. , 192.5,   1. ,   1. ,   1.5,\n",
       "         2. ,   2. ,   6.5,   9. ,  22.5, 180. ,   2.5,   2.5,   2.5,\n",
       "         2.5,   2.5,   2.5,   1. , 193.5, 219. , 196. ,   1.5,   1.5,\n",
       "         4. ,   4. ,  10. ,   1. ,   3. ,   8.5,  61. , 117. ,   1. ,\n",
       "         1. ,   1. ,   1. ,   1. ,   1. ,   1. ,   1. ,   1. ,   1. ,\n",
       "         1. ,   1. ,   1. ,   1. ,   1. ,   1. ,   1. ,   1. ,   1. ,\n",
       "         1. ,   1. ,   1. ,   1. ,   1. ,   1. ,   1. ,   1. ,   1. ,\n",
       "         1. ,   1. ,   1. ,   1. ,   1. ,   1. ,   1. ,   1. ,   1. ,\n",
       "         1. ,   1. ,   1. ,   1. ])"
      ]
     },
     "execution_count": 222,
     "metadata": {},
     "output_type": "execute_result"
    }
   ],
   "source": [
    "two"
   ]
  },
  {
   "cell_type": "code",
   "execution_count": null,
   "metadata": {},
   "outputs": [],
   "source": [
    "np.save('nnranks.npy', nnranks)"
   ]
  },
  {
   "cell_type": "code",
   "execution_count": 139,
   "metadata": {
    "scrolled": true
   },
   "outputs": [
    {
     "data": {
      "text/plain": [
       "[<matplotlib.lines.Line2D at 0x7f9a027c8690>]"
      ]
     },
     "execution_count": 139,
     "metadata": {},
     "output_type": "execute_result"
    },
    {
     "data": {
      "image/png": "[encoded data removed]",
      "text/plain": [
       "<Figure size 432x288 with 1 Axes>"
      ]
     },
     "metadata": {
      "needs_background": "light"
     },
     "output_type": "display_data"
    }
   ],
   "source": [
    "plt.plot(nnranks)\n",
    "plt.plot(np.load('../3_time_split/processed_data/2015_nearest_neighbor.npy')[:len(nnranks)])"
   ]
  },
  {
   "cell_type": "code",
   "execution_count": 140,
   "metadata": {},
   "outputs": [],
   "source": [
    "one = np.array(nnranks)\n",
    "two = np.load('../3_time_split/processed_data/2015_nearest_neighbor.npy')[:len(nnranks)]"
   ]
  },
  {
   "cell_type": "code",
   "execution_count": 141,
   "metadata": {
    "scrolled": true
   },
   "outputs": [
    {
     "data": {
      "text/plain": [
       "[<matplotlib.lines.Line2D at 0x7f9a030e01d0>]"
      ]
     },
     "execution_count": 141,
     "metadata": {},
     "output_type": "execute_result"
    },
    {
     "data": {
      "image/png": "[encoded data removed]",
      "text/plain": [
       "<Figure size 432x288 with 1 Axes>"
      ]
     },
     "metadata": {
      "needs_background": "light"
     },
     "output_type": "display_data"
    }
   ],
   "source": [
    "plt.plot(one)"
   ]
  },
  {
   "cell_type": "code",
   "execution_count": 142,
   "metadata": {
    "scrolled": true
   },
   "outputs": [
    {
     "data": {
      "text/plain": [
       "array([  8. ,   1.5,  54. ,  97.5,  56.5,   2. , 135.5,  19. ,  11.5,\n",
       "         2.5,   2.5,   4.5,   4.5,   3. ,   2. ,  11. ,  11. ,  11. ,\n",
       "        11. ,  11. ,   2. ,   2. ,   1.5,   1.5,   5. ,  26. ,  74.5,\n",
       "         5. ,  51. , 105.5,  89.5,   1.5,   4.5,   1. ,   3.5,   3.5,\n",
       "         2. ,  54. , 222.5,  19. ,   1. ,   2. ,  10.5,   1. ,  13.5,\n",
       "        18. ,  35.5,   4.5,   7. ,   4. ,   1.5, 112. ,  73.5,   1. ,\n",
       "         1. ,  10. ,  21.5,   2. ,   3. ,  12.5,   9. ,  12.5,   6.5,\n",
       "        43. ,   9.5,   4.5,   4.5,   5.5,   4. ,  62. ,  10.5,  10.5,\n",
       "        10.5,   4. ,   6.5,   2. ,   1. ,   5.5,   2. ,   8.5,   3. ,\n",
       "         2. , 128.5, 148. ,   2. , 156.5,   1. , 144.5,  35.5,   1. ,\n",
       "         3. , 123. ,  15.5,  12.5,  79.5,   7.5,   1.5,   3. ,   2. ,\n",
       "        82. ,  15.5,  15.5,  46. ,  59.5,   6.5,  19. ,   3. ,  13.5,\n",
       "         2. ,   2. ,  29.5,  10.5,   4. ,   1. ,   1.5,   1.5, 131. ,\n",
       "        24. ,  24. ,   6. ,  24.5,  24.5,  24.5,   7. ,   6. ,   6. ,\n",
       "         6. ,  24.5, 106. ,  24.5,   6. ,   6. ,  24.5,   6. , 117. ,\n",
       "        52.5,   6. ,   6. ,  24.5,  24.5,  24.5,  62. ,   6. ,   6. ,\n",
       "        24.5,  39.5, 105.5,   2. ,   2. ,   2. ,   3. ,   3. ,   3. ,\n",
       "         3. ,   3. ,   3. ,   2. ,  14. ,  58. ,   2.5,   3.5,   2.5,\n",
       "         1.5,   2. ,   2.5,   3.5,   4. ,  24. ,  24.5,  12.5,   2. ,\n",
       "         8. ,   7. ,   6.5,   6.5,   6.5,   3. ,   3. ,   3. , 151.5,\n",
       "       151.5,   1.5,   1.5,   1.5,   1.5,  20.5,   3. ,  20.5,  20.5,\n",
       "        20.5,  13. ,   6.5,   3.5, 125. ,   5.5,   1.5,  29.5,   2. ,\n",
       "         3. ,   4.5,   9. ,   1. ,   7.5,  15.5,   5. ,   1. ,   3.5,\n",
       "         6. ,  11. ,  25. ,  20. ,   2. ,   4.5, 197. ,   1. ,   3. ,\n",
       "        16.5,  10. ,  16.5,  25. ,   5.5,   7.5,   3.5,   2.5,   3.5,\n",
       "        11. ,   1.5,   3. ,  19.5,   1. ,   3. ,   1. ,   2. ,   2.5,\n",
       "         1. ,   7.5,   1.5,   1.5,  62.5,   2. ,   1.5,   1.5,  10.5,\n",
       "        10.5,  42.5,   1. , 104.5,   5.5,  45. ,  25. ,  22. ,  34.5,\n",
       "         2.5,  42. , 105. ,  18.5,  69.5,  15. ,   1.5,  17.5, 138.5,\n",
       "         1. ,   1. ,   1. ,   4.5,  14. ,   4. ,   1. ,  37.5,  47. ,\n",
       "        37.5,  80. ,  29. ,  84.5,  84.5,  77.5, 199.5,   3.5,   1. ,\n",
       "         1. ,  12.5,  17.5,  32.5,   1.5,   1.5,   3. ,   3. , 106.5,\n",
       "       115.5,  13. ,   3.5,  13. ,  35. ,   4. ,   4. ,   6. ,  18. ,\n",
       "        23. ,   2. ,   2. ,   2. ,   1. , 106.5, 211. ,  39.5,   3.5,\n",
       "        18. ,   8. ,  36.5,   7.5,  30. ,  49. ,   1. ,   1.5,   1.5,\n",
       "         1. ,   1. ,   1. ,   2. ,   2. ,   2. ,   1. ,   1. ,   1. ,\n",
       "         1. ,   2. ,   1. ,   1. ,   1. ,   1. ,   2. ,   1. ,   1. ,\n",
       "         2. ,   1. ,   2. ,   1. ,   1. ,   1. ,   1. ,   1. ,   8. ,\n",
       "         3. ,  29.5, 111.5,  94. ,  13.5,  26.5,  26.5,  75. ,  75. ,\n",
       "        13. ,   2. ,   1. ,  17. , 152.5, 128. ,   1.5,   1.5,   2. ,\n",
       "         2. ,   2. ,   2. ,   1. ,   1. ,  33. ,   1. ,   2. ,   1. ,\n",
       "         1.5,   1.5,   1.5,   6.5,   6.5,   6.5,   6.5,   2.5,   2.5,\n",
       "         7.5,   3.5,   1.5,   7.5,   2.5,   1.5,   8.5,   2.5,   2. ,\n",
       "         2. ,  16.5, 176. , 187. , 186.5, 175. ,   1. ,   1. ,   2. ,\n",
       "         2. ,   2. ,   1.5,   7. ,  20.5, 157. ,   2.5,   2.5,   2.5,\n",
       "         2.5,   2.5,   2.5,   1. , 176. , 198. , 178. ,   1.5,   1.5,\n",
       "         3.5,   3.5,   7. ,   1. ,   3. ,   8.5,  56.5, 108. ,   1. ,\n",
       "         1. ,   1. ,   1. ,   1. ,   1. ,   1. ,   1. ,   1. ,   1. ,\n",
       "         1. ,   1. ,   1. ,   1. ,   1. ,   1. ,   1. ,   1. ,   1. ,\n",
       "         1. ,   1. ,   1. ,   1. ,   1. ,   1. ,   1. ,   1. ,   1. ,\n",
       "         1. ,   1. ,   1. ,   1. ,   1. ,   1. ,   1. ,   1. ,   1. ,\n",
       "         1. ,   1. ,   1. ,   1. ])"
      ]
     },
     "execution_count": 142,
     "metadata": {},
     "output_type": "execute_result"
    }
   ],
   "source": [
    "one\n"
   ]
  },
  {
   "cell_type": "code",
   "execution_count": 143,
   "metadata": {
    "scrolled": true
   },
   "outputs": [
    {
     "data": {
      "text/plain": [
       "array([  8. ,   2.5,  64. , 109.5,  76. ,   1.5, 158. ,  20. ,  12. ,\n",
       "         2.5,   2.5,   4.5,   4.5,   3. ,   2. ,  14. ,  14. ,  14. ,\n",
       "        14. ,  14. ,   2. ,   2. ,   1.5,   1.5,   6. ,  30. ,  82.5,\n",
       "         7. ,  57. , 118. , 108. ,   1.5,   5. ,   1. ,   3.5,   3.5,\n",
       "         2. ,  61. , 238. ,  21. ,   1. ,   2. ,  12. ,   1. ,  16. ,\n",
       "        19. ,  39. ,   4.5,   8. ,   4. ,   1.5, 130. ,  81.5,   1. ,\n",
       "         1. ,  11. ,  21.5,   2. ,   4. ,  17. ,  17. ,  17. ,   7. ,\n",
       "        51.5,  10.5,   5.5,   5.5,   5.5,   4. ,  67. ,  13. ,  10.5,\n",
       "        10.5,   4.5,   6.5,   2. ,   1. ,   5.5,   2. ,  10. ,   5.5,\n",
       "         2. , 143.5, 166. ,   2. , 173. ,   1. , 169. ,  45. ,   1. ,\n",
       "         3. , 142. ,  18. ,  14. ,  92. ,   9.5,   1.5,   3. ,   2. ,\n",
       "        92. ,  16.5,  15.5,  52. ,  67. ,   6. ,  25. ,   4. ,  16. ,\n",
       "         2. ,   2. ,  35. ,  13. ,   5. ,   1. ,   1.5,   1.5, 165. ,\n",
       "        24. ,  24. ,   6. ,  30. ,  30. ,  30. ,  12. ,   6. ,   6. ,\n",
       "         6. ,  30. , 123. ,  30. ,   6. ,   6. ,  30. ,   6. , 134.5,\n",
       "        66.5,   6. ,   6. ,  30. ,  30. ,  30. ,  76.5,   6. ,   6. ,\n",
       "        30. ,  45.5, 119. ,   2. ,   2. ,   2. ,   3. ,   3. ,   3. ,\n",
       "         3. ,   3. ,   3. ,   2. ,  16. ,  64.5,   2.5,   5. ,   3. ,\n",
       "         1.5,   2. ,   3. ,   3.5,   4.5,  29. ,  26. ,  14. ,   2. ,\n",
       "        12. ,   8. ,   7.5,   7.5,   7.5,   3. ,   3.5,   3.5, 172. ,\n",
       "       172. ,   1.5,   1.5,   1.5,   1.5,  22.5,   3. ,  22.5,  22.5,\n",
       "        22.5,  16.5,   8. ,   3.5, 142. ,   5.5,   1.5,  35. ,   2. ,\n",
       "         3. ,   4.5,  11. ,   1. ,   7.5,  20. ,   5. ,   1. ,   4. ,\n",
       "         6. ,  13.5,  40. ,  25.5,   2. ,   6. , 214.5,   1. ,   3. ,\n",
       "        17.5,  11. ,  17.5,  30. ,   7. ,   8. ,   4.5,   3. ,   4.5,\n",
       "        12. ,   1.5,   3.5,  22.5,   1. ,   3. ,   1. ,   2. ,   2.5,\n",
       "         1. ,   8.5,   1.5,   1.5,  68. ,   2. ,   1.5,   1.5,  11.5,\n",
       "        11.5,  47.5,   1. , 112. ,   6. ,  56.5,  33. ,  32. ,  44. ,\n",
       "         2.5,  52.5, 127. ,  23. ,  89. ,  17. ,   1.5,  25. , 156. ,\n",
       "         1. ,   1. ,   1. ,   5. ,  17.5,   4. ,   1. ,  40. ,  52. ,\n",
       "        40. ,  89.5,  32. ,  93. ,  93. ,  98.5, 222. ,   4. ,   1. ,\n",
       "         1. ,  14. ,  20. ,  36.5,   1.5,   1.5,   3.5,   3.5, 120. ,\n",
       "       129.5,  14.5,   3.5,  14.5,  47. ,   4. ,   4. ,   6. ,  18.5,\n",
       "        23.5,   2. ,   2. ,   2. ,   1. , 115. , 230. ,  43. ,   3.5,\n",
       "        23. ,  12. ,  52. ,   8.5,  43.5,  67. ,   1. ,   1.5,   1.5,\n",
       "         1. ,   1. ,   1. ,   2. ,   2. ,   2. ,   1. ,   1. ,   1. ,\n",
       "         1. ,   2. ,   1. ,   1. ,   1. ,   1. ,   2. ,   1. ,   1. ,\n",
       "         2. ,   1. ,   2. ,   1. ,   1. ,   1. ,   1. ,   1. ,  10. ,\n",
       "         3. ,  33.5, 126. , 104. ,  16. ,  27.5,  27.5,  83. ,  83. ,\n",
       "        13. ,   2. ,   1. ,  20. , 181. , 146. ,   1.5,   3. ,   2. ,\n",
       "         2. ,   2. ,   2. ,   1. ,   1. ,  36.5,   1. ,   2. ,   1. ,\n",
       "         1.5,   1.5,   1.5,   7.5,   7.5,   7.5,   7.5,   3. ,   2.5,\n",
       "         8. ,   4. ,   1.5,   8. ,   3. ,   1.5,   9. ,   3. ,   2. ,\n",
       "         2. ,  16.5, 196.5, 207.5, 204. , 192.5,   1. ,   1. ,   1.5,\n",
       "         2. ,   2. ,   6.5,   9. ,  22.5, 180. ,   2.5,   2.5,   2.5,\n",
       "         2.5,   2.5,   2.5,   1. , 193.5, 219. , 196. ,   1.5,   1.5,\n",
       "         4. ,   4. ,  10. ,   1. ,   3. ,   8.5,  61. , 117. ,   1. ,\n",
       "         1. ,   1. ,   1. ,   1. ,   1. ,   1. ,   1. ,   1. ,   1. ,\n",
       "         1. ,   1. ,   1. ,   1. ,   1. ,   1. ,   1. ,   1. ,   1. ,\n",
       "         1. ,   1. ,   1. ,   1. ,   1. ,   1. ,   1. ,   1. ,   1. ,\n",
       "         1. ,   1. ,   1. ,   1. ,   1. ,   1. ,   1. ,   1. ,   1. ,\n",
       "         1. ,   1. ,   1. ,   1. ])"
      ]
     },
     "execution_count": 143,
     "metadata": {},
     "output_type": "execute_result"
    }
   ],
   "source": [
    "two"
   ]
  },
  {
   "cell_type": "code",
   "execution_count": null,
   "metadata": {},
   "outputs": [],
   "source": []
  },
  {
   "cell_type": "code",
   "execution_count": null,
   "metadata": {},
   "outputs": [],
   "source": []
  },
  {
   "cell_type": "code",
   "execution_count": 212,
   "metadata": {},
   "outputs": [
    {
     "name": "stdout",
     "output_type": "stream",
     "text": [
      "743 102\n"
     ]
    }
   ],
   "source": [
    "it = 1\n",
    "lig_idx = row_idx[it]\n",
    "targ_idx = col_idx[it]\n",
    "\n",
    "ligand_idx = lig_idx.copy()\n",
    "\n",
    "positives = train[ligand_idx].nonzero()[1]\n",
    "all_distances = fast_jaccard(fps[ligand_idx], fps)[0]\n",
    "s = np.argsort(all_distances)\n",
    "\n",
    "\n",
    "pred = targ_idx\n",
    "curr_rank = 0\n",
    "count=1\n",
    "preds = []\n",
    "seen = []\n",
    "\n",
    "sc = list()\n",
    "print(lig_idx, targ_idx)"
   ]
  },
  {
   "cell_type": "code",
   "execution_count": 194,
   "metadata": {},
   "outputs": [
    {
     "name": "stdout",
     "output_type": "stream",
     "text": [
      "[] 0\n",
      "[] 0\n",
      "[] 0\n",
      "[] 0\n",
      "[] 0\n",
      "[] 0\n",
      "[] 0\n",
      "[] 0\n",
      "[] 0\n",
      "[] 0\n",
      "[] 0\n",
      "[] 0\n",
      "[] 0\n",
      "[] 0\n",
      "[] 0\n",
      "[] 0\n",
      "[] 0\n",
      "[102, 172] 1.5\n"
     ]
    }
   ],
   "source": [
    "\n",
    "while pred not in seen:\n",
    "    predictions = train[s[count]].nonzero()[1]\n",
    "    #print('predictions;', predictions)\n",
    "    preds = np.setdiff1d(predictions,positives)\n",
    "    #print('preds:', preds)\n",
    "    preds = np.setdiff1d(preds, seen)\n",
    "    seen += list(preds)\n",
    "    if len(preds)>0:\n",
    "        \n",
    "    curr_rank += 0 if len(preds)<1 else np.mean(np.arange(len(preds))+1)\n",
    "    sc.append(len(seen))\n",
    "    print(seen, curr_rank)\n",
    "    count+=1\n",
    "\n",
    "    \n",
    "    "
   ]
  },
  {
   "cell_type": "code",
   "execution_count": 195,
   "metadata": {},
   "outputs": [
    {
     "data": {
      "text/plain": [
       "array([102, 172], dtype=int32)"
      ]
     },
     "execution_count": 195,
     "metadata": {},
     "output_type": "execute_result"
    }
   ],
   "source": [
    "preds"
   ]
  },
  {
   "cell_type": "code",
   "execution_count": 164,
   "metadata": {},
   "outputs": [],
   "source": [
    "def get_nnrank_of_target(ligand_idx, target_idx, train_matrix):  \n",
    "    positives = train_matrix[ligand_idx].nonzero()[1]\n",
    "    all_distances = fast_jaccard(fps[ligand_idx], fps)[0]\n",
    "    s = np.argsort(all_distances)\n",
    "    \n",
    "    pred = target_idx\n",
    "    curr_rank = 0\n",
    "    count=1\n",
    "    preds = []\n",
    "    seen = []\n",
    "\n",
    "    while pred not in seen:\n",
    "    #for _ in range(100):\n",
    "        predictions = train_matrix[s[count]].nonzero()[1]\n",
    "    \n",
    "        preds = np.setdiff1d(predictions,positives)\n",
    "        preds = np.setdiff1d(preds, seen)\n",
    "        seen += list(preds)\n",
    "        curr_rank += 0 if len(preds)<1 else np.mean(np.arange(len(preds))+1)\n",
    "        count+=1\n",
    "        print(curr_rank, seen, )\n",
    "\n",
    "    return curr_rank"
   ]
  },
  {
   "cell_type": "code",
   "execution_count": 165,
   "metadata": {},
   "outputs": [
    {
     "data": {
      "text/plain": [
       "array([1. , 2.5, 2.5, 4. ])"
      ]
     },
     "execution_count": 165,
     "metadata": {},
     "output_type": "execute_result"
    }
   ],
   "source": [
    "rankdata([0,1,1,2])"
   ]
  },
  {
   "cell_type": "code",
   "execution_count": 168,
   "metadata": {},
   "outputs": [
    {
     "data": {
      "text/plain": [
       "1.5"
      ]
     },
     "execution_count": 168,
     "metadata": {},
     "output_type": "execute_result"
    }
   ],
   "source": [
    "(np.arange(2)+1).mean()"
   ]
  },
  {
   "cell_type": "code",
   "execution_count": 97,
   "metadata": {},
   "outputs": [
    {
     "data": {
      "text/plain": [
       "array([False, False, False, False, False, False, False, False, False,\n",
       "       False, False, False, False, False, False, False, False, False,\n",
       "       False, False, False, False, False, False, False, False, False,\n",
       "       False, False, False, False, False, False, False, False, False,\n",
       "       False, False, False, False, False, False, False, False, False,\n",
       "       False, False, False, False, False, False, False, False, False,\n",
       "       False, False, False, False, False, False, False, False, False,\n",
       "       False, False, False, False, False, False, False, False, False,\n",
       "       False, False, False, False, False, False, False, False, False,\n",
       "       False, False, False, False, False, False, False, False, False,\n",
       "       False, False, False, False,  True, False, False, False, False,\n",
       "       False, False, False, False, False, False, False, False, False,\n",
       "       False, False, False, False, False, False, False, False, False,\n",
       "       False, False, False, False, False, False, False, False, False,\n",
       "       False, False, False, False, False, False, False, False, False,\n",
       "       False, False, False, False, False, False, False, False, False,\n",
       "       False, False, False, False, False, False, False, False, False,\n",
       "       False, False, False, False, False, False, False, False, False,\n",
       "       False, False, False, False, False, False, False, False, False,\n",
       "       False, False, False, False, False, False, False, False, False,\n",
       "       False, False, False, False, False, False, False, False, False,\n",
       "       False, False, False, False, False, False, False, False, False,\n",
       "       False, False, False, False, False, False, False, False, False,\n",
       "       False, False, False, False, False, False, False, False, False,\n",
       "       False, False, False, False, False, False, False, False, False,\n",
       "       False, False, False, False, False, False, False, False, False,\n",
       "       False, False, False, False, False, False, False, False, False])"
      ]
     },
     "execution_count": 97,
     "metadata": {},
     "output_type": "execute_result"
    }
   ],
   "source": [
    "np.array(seen)==pred"
   ]
  },
  {
   "cell_type": "code",
   "execution_count": null,
   "metadata": {},
   "outputs": [],
   "source": []
  },
  {
   "cell_type": "code",
   "execution_count": 85,
   "metadata": {},
   "outputs": [
    {
     "data": {
      "text/plain": [
       "True"
      ]
     },
     "execution_count": 85,
     "metadata": {},
     "output_type": "execute_result"
    }
   ],
   "source": [
    "pred in seen"
   ]
  },
  {
   "cell_type": "code",
   "execution_count": 81,
   "metadata": {},
   "outputs": [
    {
     "name": "stdout",
     "output_type": "stream",
     "text": [
      "243\n"
     ]
    },
    {
     "data": {
      "image/png": "[encoded data removed]",
      "text/plain": [
       "<Figure size 432x288 with 1 Axes>"
      ]
     },
     "metadata": {
      "needs_background": "light"
     },
     "output_type": "display_data"
    }
   ],
   "source": [
    "import matplotlib.pyplot as plt\n",
    "plt.plot(sc)\n",
    "print(max(sc))"
   ]
  },
  {
   "cell_type": "code",
   "execution_count": 73,
   "metadata": {},
   "outputs": [
    {
     "data": {
      "text/plain": [
       "243"
      ]
     },
     "execution_count": 73,
     "metadata": {},
     "output_type": "execute_result"
    }
   ],
   "source": [
    "max(sc)"
   ]
  },
  {
   "cell_type": "code",
   "execution_count": 62,
   "metadata": {},
   "outputs": [
    {
     "data": {
      "text/plain": [
       "[67,\n",
       " 73,\n",
       " 142,\n",
       " 149,\n",
       " 175,\n",
       " 145,\n",
       " 227,\n",
       " 79,\n",
       " 224,\n",
       " 217,\n",
       " 226,\n",
       " 173,\n",
       " 39,\n",
       " 228,\n",
       " 139,\n",
       " 170,\n",
       " 88,\n",
       " 122,\n",
       " 95,\n",
       " 100,\n",
       " 102,\n",
       " 87,\n",
       " 132]"
      ]
     },
     "execution_count": 62,
     "metadata": {},
     "output_type": "execute_result"
    }
   ],
   "source": [
    "\n",
    "seen"
   ]
  },
  {
   "cell_type": "code",
   "execution_count": 69,
   "metadata": {},
   "outputs": [
    {
     "ename": "NameError",
     "evalue": "name 'ranks' is not defined",
     "output_type": "error",
     "traceback": [
      "\u001b[0;31m-----------------------------------\u001b[0m",
      "\u001b[0;31mNameError\u001b[0mTraceback (most recent call last)",
      "\u001b[0;32m<ipython-input-69-f28de165800e>\u001b[0m in \u001b[0;36m<module>\u001b[0;34m\u001b[0m\n\u001b[1;32m      8\u001b[0m \u001b[0;34m\u001b[0m\u001b[0m\n\u001b[1;32m      9\u001b[0m \u001b[0;34m\u001b[0m\u001b[0m\n\u001b[0;32m---> 10\u001b[0;31m \u001b[0;32mfor\u001b[0m \u001b[0mrow\u001b[0m\u001b[0;34m,\u001b[0m \u001b[0mcol\u001b[0m\u001b[0;34m,\u001b[0m \u001b[0mran\u001b[0m \u001b[0;32min\u001b[0m \u001b[0mtqdm\u001b[0m\u001b[0;34m.\u001b[0m\u001b[0mtqdm_notebook\u001b[0m\u001b[0;34m(\u001b[0m\u001b[0mzip\u001b[0m\u001b[0;34m(\u001b[0m\u001b[0mrow_idx\u001b[0m\u001b[0;34m,\u001b[0m \u001b[0mcol_idx\u001b[0m\u001b[0;34m,\u001b[0m \u001b[0mranks\u001b[0m\u001b[0;34m)\u001b[0m\u001b[0;34m,\u001b[0m \u001b[0mtotal\u001b[0m\u001b[0;34m=\u001b[0m\u001b[0mlen\u001b[0m\u001b[0;34m(\u001b[0m\u001b[0mranks\u001b[0m\u001b[0;34m)\u001b[0m\u001b[0;34m)\u001b[0m\u001b[0;34m:\u001b[0m\u001b[0;34m\u001b[0m\u001b[0;34m\u001b[0m\u001b[0m\n\u001b[0m\u001b[1;32m     11\u001b[0m \u001b[0;34m\u001b[0m\u001b[0m\n\u001b[1;32m     12\u001b[0m     \u001b[0mtest_ligand\u001b[0m \u001b[0;34m=\u001b[0m \u001b[0mfps\u001b[0m\u001b[0;34m[\u001b[0m\u001b[0mrow\u001b[0m\u001b[0;34m]\u001b[0m\u001b[0;34m\u001b[0m\u001b[0;34m\u001b[0m\u001b[0m\n",
      "\u001b[0;31mNameError\u001b[0m: name 'ranks' is not defined"
     ]
    }
   ],
   "source": [
    "\n",
    "row_idx, col_idx = test.nonzero()\n",
    "nnranks = list()\n",
    "\n",
    "idx_list = list()\n",
    "for c in range(train.shape[1]):\n",
    "    positives =train[:,c].nonzero()[0]\n",
    "    idx_list.append(positives)\n",
    "    \n",
    "\n",
    "for row, col, ran in tqdm.tqdm_notebook(zip(row_idx, col_idx, ranks), total=len(ranks)):\n",
    "    \n",
    "    test_ligand = fps[row]\n",
    "    all_distances =fast_jaccard(test_ligand, fps)[0]\n",
    "    closest_distances = list()\n",
    "    for idx in idx_list:\n",
    "        closest_distance = all_distances[idx].min()\n",
    "        closest_distances.append(closest_distance)\n",
    "    \n",
    "    #mask the targets that are known positives so we only calculate rank amongst unknown. \n",
    "    closest_distances = np.ma.masked_array(closest_distances, mask=(train[row]==1).toarray()[0])\n",
    "    prediction_ranks = rankdata(closest_distances)\n",
    "    \n",
    "    rank = prediction_ranks[col]\n",
    "    nnranks.append(rank)\n",
    "    print(rank, ran)"
   ]
  },
  {
   "cell_type": "code",
   "execution_count": null,
   "metadata": {},
   "outputs": [],
   "source": []
  }
 ],
 "metadata": {
  "kernelspec": {
   "display_name": "Python 3",
   "language": "python",
   "name": "python3"
  },
  "language_info": {
   "codemirror_mode": {
    "name": "ipython",
    "version": 3
   },
   "file_extension": ".py",
   "mimetype": "text/x-python",
   "name": "python",
   "nbconvert_exporter": "python",
   "pygments_lexer": "ipython3",
   "version": "3.7.8"
  }
 },
 "nbformat": 4,
 "nbformat_minor": 4
}
