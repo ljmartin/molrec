{
 "cells": [
  {
   "cell_type": "code",
   "execution_count": 1,
   "metadata": {},
   "outputs": [
    {
     "name": "stderr",
     "output_type": "stream",
     "text": [
      "/Users/lmar3213/miniconda3/envs/lew_conda/lib/python3.7/site-packages/lightfm/_lightfm_fast.py:9: UserWarning: LightFM was compiled without OpenMP support. Only a single thread will be used.\n",
      "  warnings.warn('LightFM was compiled without OpenMP support. '\n"
     ]
    }
   ],
   "source": [
    "import pandas as pd\n",
    "import numpy as np\n",
    "from scipy import sparse\n",
    "from tqdm import tqdm_notebook\n",
    "\n",
    "import sys\n",
    "sys.path.append(\"..\")\n",
    "import utils\n",
    "\n",
    "import rdkit\n",
    "from rdkit import Chem\n",
    "from rdkit.Chem import Draw, AllChem\n",
    "from rdkit.Chem.Draw import IPythonConsole\n",
    "\n",
    "import matplotlib.pyplot as plt\n",
    "%matplotlib inline"
   ]
  },
  {
   "cell_type": "code",
   "execution_count": 2,
   "metadata": {},
   "outputs": [],
   "source": [
    "interaction_matrix = sparse.load_npz('../data/interaction_matrix_ALL_species.npz')\n",
    "targetNames = pd.read_csv('../data/all_targets', header=None).to_numpy().reshape(1,-1)[0]\n",
    "targetIndex = (targetNames=='G-protein coupled receptor 55').nonzero()[0][0]"
   ]
  },
  {
   "cell_type": "code",
   "execution_count": 3,
   "metadata": {},
   "outputs": [],
   "source": [
    "#test = sparse.lil_matrix((interaction_matrix.shape[0],interaction_matrix.shape[1]))\n",
    "#test[:,targetIndex]=1\n",
    "#test = sparse.csr_matrix(test)"
   ]
  },
  {
   "cell_type": "code",
   "execution_count": null,
   "metadata": {
    "scrolled": true
   },
   "outputs": [
    {
     "name": "stderr",
     "output_type": "stream",
     "text": [
      "  0%|          | 238/200945 [00:00<01:24, 2374.35it/s]"
     ]
    },
    {
     "name": "stdout",
     "output_type": "stream",
     "text": [
      "label_correlation\n",
      "y_in shape is: (630617, 852)\n"
     ]
    },
    {
     "name": "stderr",
     "output_type": "stream",
     "text": [
      "100%|██████████| 200945/200945 [01:16<00:00, 2625.44it/s]\n",
      "100%|██████████| 630617/630617 [01:31<00:00, 6909.48it/s]\n"
     ]
    },
    {
     "name": "stdout",
     "output_type": "stream",
     "text": [
      "hpo_implicit_bpr\n",
      "hpo_lightfm_warp\n"
     ]
    }
   ],
   "source": [
    "def calc_ranks_given_name(name, algo, train, test):\n",
    "    if name == 'label_correlation':\n",
    "        preds = algo(train)\n",
    "    else:\n",
    "        params = utils.read_params(name)\n",
    "        preds = algo(params, train)\n",
    "        for _ in range(7):\n",
    "            preds += algo(params, train)\n",
    "    ranks = utils.evaluate_predictions(preds, test, train)\n",
    "    return ranks\n",
    "\n",
    "filenames = ['label_correlation', 'hpo_implicit_bpr',\n",
    "             'hpo_lightfm_warp']\n",
    "\n",
    "##Functions to train those algorithms:\n",
    "algorithms = [utils.train_label_correlation,\n",
    "                  utils.train_implicit_bpr,\n",
    "                  utils.train_lightfm_warp]\n",
    "\n",
    "\n",
    "preds_list = list()\n",
    "ranks_list = list()\n",
    "for name, algo in zip(filenames, algorithms):\n",
    "        print(name)\n",
    "        if name == 'label_correlation':\n",
    "            preds = algo(interaction_matrix)\n",
    "        else:\n",
    "            params = utils.read_params(name)\n",
    "            preds = algo(params, interaction_matrix)\n",
    "            for _ in range(7):\n",
    "                preds += algo(params, interaction_matrix)\n",
    "        preds_list.append(preds[:,targetIndex])"
   ]
  },
  {
   "cell_type": "code",
   "execution_count": null,
   "metadata": {},
   "outputs": [],
   "source": [
    "interaction_matrix"
   ]
  },
  {
   "cell_type": "code",
   "execution_count": null,
   "metadata": {},
   "outputs": [],
   "source": [
    "\n",
    "tot_instances = np.array(interaction_matrix.sum(axis=0))[0]\n",
    "row_mask = np.array(interaction_matrix.sum(axis=1)>=2).reshape(1,-1)[0]\n",
    "    #y_in = y_in[row_mask]"
   ]
  },
  {
   "cell_type": "code",
   "execution_count": null,
   "metadata": {},
   "outputs": [],
   "source": [
    "np.array(row_mask).reshape(1,-1)[0]"
   ]
  },
  {
   "cell_type": "code",
   "execution_count": null,
   "metadata": {},
   "outputs": [],
   "source": [
    "np.array(interaction_matrix.sum(axis=1)<2).reshape(1,-1)[0]"
   ]
  },
  {
   "cell_type": "code",
   "execution_count": null,
   "metadata": {
    "scrolled": true
   },
   "outputs": [],
   "source": [
    "row_mask.sum()"
   ]
  },
  {
   "cell_type": "code",
   "execution_count": null,
   "metadata": {},
   "outputs": [],
   "source": [
    "interaction_matrix[row_mask]"
   ]
  },
  {
   "cell_type": "code",
   "execution_count": null,
   "metadata": {},
   "outputs": [],
   "source": []
  }
 ],
 "metadata": {
  "kernelspec": {
   "display_name": "Python 3",
   "language": "python",
   "name": "python3"
  },
  "language_info": {
   "codemirror_mode": {
    "name": "ipython",
    "version": 3
   },
   "file_extension": ".py",
   "mimetype": "text/x-python",
   "name": "python",
   "nbconvert_exporter": "python",
   "pygments_lexer": "ipython3",
   "version": "3.7.6"
  }
 },
 "nbformat": 4,
 "nbformat_minor": 4
}
