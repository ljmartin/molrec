{
 "cells": [
  {
   "cell_type": "code",
   "execution_count": 150,
   "metadata": {},
   "outputs": [],
   "source": [
    "import json\n",
    "import requests\n",
    "import pandas as pd\n",
    "import numpy as np"
   ]
  },
  {
   "cell_type": "markdown",
   "metadata": {},
   "source": [
    "# Downloading PubChem bioassay data for GPR55\n",
    "\n",
    "Some of this is difficult to script so this notebook contains points where the user should write a file and upload it to one of PubChem's websites. \n",
    "\n",
    "First up, get all the assay data _summaries_ for GPR55 in PubChem. GPR55 has `geneid:9290`. Some of these assays aren't measuring chemical bioactivity, so they can be removed. Loop through these assays and save the relevant assay IDs. "
   ]
  },
  {
   "cell_type": "code",
   "execution_count": 12,
   "metadata": {},
   "outputs": [],
   "source": [
    "site = 'https://pubchem.ncbi.nlm.nih.gov/rest/pug/assay/target/geneid/9290/aids/JSON'\n",
    "data = json.loads(requests.get(site).content)"
   ]
  },
  {
   "cell_type": "code",
   "execution_count": 74,
   "metadata": {
    "scrolled": true
   },
   "outputs": [
    {
     "name": "stdout",
     "output_type": "stream",
     "text": [
      "Image-based HTS for Selective Agonists of GPR55\n",
      "Summary of Image-based HTS for Selective Agonists of GPR55\n",
      "Image-Based HTS for Selective Antagonists for GPR55\n",
      "Summary of Image-based HTS for Selective Antagonists of GPR55\n",
      "SAR analysis of selective Agonists of GPR55 using an Image-Based Assay\n",
      "SAR Analysis of Selective Antagonists of GPR55 using an Image-Based Assay\n",
      "SAR Analysis of Selective Antagonists of GPR55 using an Image-Based Assay - Set 2\n",
      "SAR analysis of selective Agonists of GPR55 using an Image-Based Assay - Set 2\n",
      "SAR Analysis for the identification of Selective Agonists of GPR55 using an Image-Based Screen\n",
      "SAR Analysis of Selective Antagonists of GPR55 using an Image-Based Assay - Set 3\n",
      "Binding affinity to GPR55\n",
      "SAR analysis of Agonists of GPR55 using MAPK Activation Assay\n",
      "SAR Analysis of Selective Antagonists of GPR55 using an Image-Based Assay - Set 4\n",
      "SAR Analysis for the identification of Selective Antagonists of GPR55 using an Image-Based Screen\n",
      "Agonist activity at GPR55 (unknown origin) expressed in CHO cells assessed as inhibition of LPI-induced beta-arrestin translocation after 90 mins by luminescence assay\n",
      "Antagonist activity at human GPR55 expressed in CHO cells assessed as inhibition of LPI-induced beta-arrestin translocation at 10 uM after 90 mins by luminescence assay\n",
      "failed 731341\n",
      "Antagonist activity at human GPR55 expressed in CHO cells assessed as inhibition of LPI-induced beta-arrestin translocation after 90 mins by luminescence assay\n",
      "Antagonist activity at human GPR55 expressed in HEK293 cells assessed as inhibition of LPI-induced beta-arrestin recruitment incubated 60 mins prior to LPI addition by beta-arrestin translocation assay\n",
      "failed 750722\n",
      "Agonist activity at human GPR55 transfected in CHO cells at 10 uM after 90 mins by beta-arrestin translocation assay\n",
      "failed 750724\n",
      "Antagonist activity at human GPR55 transfected in CHO cells assessed as inhibition of LPI-induced beta-arrestin recruitment incubated 60 mins prior to LPI addition by Gaddum method\n",
      "Antagonist activity at human GPR55 transfected in CHO cells assessed as inhibition of LPI-induced beta-arrestin recruitment incubated 60 mins prior to LPI addition by Schild regression method\n",
      "Agonist activity at human GPR55 transfected in CHO cells after 90 mins by beta-arrestin translocation assay relative to LPI\n",
      "Antagonist activity at human GPR55 transfected in CHO cells assessed as inhibition of LPI-induced beta-arrestin recruitment at 10 uM incubated 60 mins prior to LPI addition by beta-arrestin translocation assay\n",
      "failed 750736\n",
      "Antagonist activity at human GPR55 transfected in CHO cells assessed as inhibition of LPI-induced beta-arrestin recruitment incubated 60 mins prior to LPI addition by beta-arrestin translocation assay\n",
      "Antagonist activity at human GPR55 expressed in CHO cells assessed as inhibition of lysophosphotidylinositol-induced beta-arrestin recruitment at 10 uM preincubated for 30 mins followed by lysophosphotidylinositol induction by beta-galactosidase reporter gene assay relative to control\n",
      "failed 754134\n",
      "Antagonist activity at human GPR55 expressed in CHO cells assessed as inhibition of lysophosphotidylinositol-induced beta-arrestin recruitment preincubated for 30 mins followed by lysophosphotidylinositol induction by beta-galactosidase reporter gene assay\n",
      "Agonist activity at human GPR55 expressed in CHO cells assessed as induction of beta-arrestin recruitment at 10 uM after 90 mins by beta-galactosidase reporter gene assay relative to lysophosphotidylinositol\n",
      "failed 754136\n",
      "Agonist activity at GPR55 (unknown origin) expressed in CHO-K1 cells at 10 uM after 90 to 180 mins by beta-arrestin assay relative to control\n",
      "failed 1055437\n",
      "Antagonist activity at human GPR55 expressed in CHO cells assessed as inhibition of LPI-mediated beta-arrestin recruitment after 90 mins by beta-galactosidase reporter gene assay\n",
      "Antagonist activity at human GPR55 expressed in CHO cells assessed as inhibition of LPI-mediated beta-arrestin recruitment at 10 uM after 90 mins by beta-galactosidase reporter gene assay relative to control\n",
      "failed 1070510\n",
      "Agonist activity at human GPR55 expressed in CHO cells assessed as induction of LPI-induced beta-arrestin recruitment by beta-galactosidase enzyme fragment complementation method relative to LPI\n",
      "failed 1122490\n",
      "Agonist activity at human GPR55 expressed in HEK293 cells assessed as increase in oscillation Ca2+ transients by fura-2 dye based fluorescence analysis\n",
      "Allosteric antagonist activity against human GPR55 expressed in CHO cells assessed as induction of rightward shift of concentration response curve of LPI-induced beta-arrestin recruitment at 10 uM by beta-galactosidase enzyme fragment complementation method\n",
      "failed 1122505\n",
      "Inverse agonist activity against human GPR55 expressed in CHO cells assessed as reduction in LPI-induced beta-arrestin recruitment at 30 uM by beta-galactosidase enzyme fragment complementation method\n",
      "failed 1122506\n",
      "Inverse agonist activity against human GPR55 expressed in CHO cells assessed as reduction in LPI-induced beta-arrestin recruitment at 10 uM by beta-galactosidase enzyme fragment complementation method\n",
      "failed 1122507\n",
      "Agonist activity at human GPR55 expressed in CHO cells assessed as induction of LPI-induced beta-arrestin recruitment by beta-galactosidase enzyme fragment complementation method\n",
      "Antagonist activity against human GPR55 expressed in CHO cells assessed as reduction in LPI-induced beta-arrestin recruitment at 10 uM by beta-galactosidase enzyme fragment complementation method\n",
      "failed 1122516\n",
      "Antagonist activity against human GPR55 expressed in CHO cells assessed as reduction in LPI-induced beta-arrestin recruitment by beta-galactosidase enzyme fragment complementation method\n",
      "Agonist activity at human GPR55 expressed in CHOK1 cells at 10 uM by pathHunter beta-arrestin assay relative to LPI\n",
      "failed 1267163\n",
      "Agonist activity at human GPR55 expressed in HEK293 cells assessed as calcium signalling by fura 2-based digital epifluorescence microscopy\n",
      "Agonist activity at human GPR55 expressed in CHOK1 cells at 10 uM by pathHunter beta-arrestin assay relative to control\n",
      "failed 1267175\n",
      "Agonist activity at human GPR55 expressed in HEK293 cells assessed as calcium signalling at 10 uM by fura 2-based digital epifluorescence microscopy\n",
      "failed 1267176\n",
      "Agonist activity at human GPR55 expressed in Saccharomyces cerevisiae by beta-galactosidase reporter assay\n",
      "Partial agonist activity at recombinant human GPR55 expressed in HEK293 cells after 5 mins by xCELLigence assay\n",
      "Agonist activity at recombinant human GPR55 expressed in HEK293 cells after 5 mins by xCELLigence assay\n",
      "Partial agonist activity at recombinant human GPR55 expressed in HEK293 cells at 1 uM after 5 mins by xCELLigence assay relative to LPI\n",
      "failed 1286528\n",
      "Agonist activity at recombinant human GPR55 expressed in HEK293 cells at 1 uM after 5 mins by xCELLigence assay relative to LPI\n",
      "failed 1286529\n",
      "Antagonist activity at recombinant human GPR55 expressed in HEK293 cells assessed as inhibition of LPI mediated receptor activation by measuring LPI EC50 after 5 mins by xCELLigence assay (Rvb = 1.6 to 4.1 nM)\n",
      "Antagonist activity at recombinant human GPR55 expressed in HEK293 cells assessed as LPI mediated receptor activation by measuring LPI Emax at 1 uM after 5 mins by xCELLigence assay (Rvb = 99 to 104%)\n",
      "failed 1286531\n",
      "Human GPR55 (GPR18, GPR55 and GPR119)\n"
     ]
    }
   ],
   "source": [
    "aids = list()\n",
    "names = list()\n",
    "df = pd.DataFrame(columns = ['name', 'aid', 'hasscore', 'method', 'sidcountall', 'sidcountactive',\n",
    "                             'sidcountinactive', 'sidcountinconclusive'])\n",
    "assays = list()\n",
    "for aid in data['IdentifierList']['AID']:\n",
    "    site = 'https://pubchem.ncbi.nlm.nih.gov/rest/pug/assay/aid/'+str(aid)+'/summary/JSON'\n",
    "    assay_data = json.loads(requests.get(site).content)['AssaySummaries']['AssaySummary'][0]\n",
    "    \n",
    "    try:\n",
    "        \n",
    "        name = assay_data['Name']\n",
    "        \n",
    "        if 'GPR55' in name:\n",
    "            print(name)\n",
    "            hasscore = assay_data['HasScore']\n",
    "            method = assay_data['Method']\n",
    "            sidcountall = assay_data['SIDCountAll']\n",
    "            sidcountactive = assay_data['SIDCountActive']\n",
    "            sidcountinactive = assay_data['SIDCountInactive']\n",
    "            sidcountinconclusive = assay_data['SIDCountInconclusive']\n",
    "\n",
    "            df.loc[len(df)] = [name, aid, hasscore, method, sidcountall, sidcountactive, sidcountinactive,\n",
    "                           sidcountinconclusive]\n",
    "            assays.append(cb)\n",
    "            \n",
    "    except:\n",
    "        print('failed', aid)\n",
    "        None"
   ]
  },
  {
   "cell_type": "code",
   "execution_count": null,
   "metadata": {},
   "outputs": [],
   "source": [
    "df.to_csv('gpr55_aids.csv', header=None, index=False)"
   ]
  },
  {
   "cell_type": "markdown",
   "metadata": {},
   "source": [
    "# Use PubChem query to download bioactivity data\n",
    "\n",
    "The assay IDs from the file above should be uploaded to PubChem. On the front page of [PubChem](https://pubchem.ncbi.nlm.nih.gov), click `Upload ID`, select `AID` as the type of IDs to upload, and upload the file (`gpr55_aids.csv`). \n",
    "\n",
    "You can then download a csv file with all bioactivities from the relevant assays. The `Activity` column is what stores the yes/no activity responses. \n"
   ]
  },
  {
   "cell_type": "code",
   "execution_count": 134,
   "metadata": {},
   "outputs": [],
   "source": [
    "bioassay_activities = pd.read_csv('PubChem_bioactivity_composite_query_gpr55_aids.csv')"
   ]
  },
  {
   "cell_type": "code",
   "execution_count": 136,
   "metadata": {},
   "outputs": [
    {
     "data": {
      "text/plain": [
       "array(['Inactive', 'Inconclusive', 'Active', 'Probe', 'Unspecified'],\n",
       "      dtype=object)"
      ]
     },
     "execution_count": 136,
     "metadata": {},
     "output_type": "execute_result"
    }
   ],
   "source": [
    "bioassay_activities['activity'].unique()"
   ]
  },
  {
   "cell_type": "markdown",
   "metadata": {},
   "source": [
    "# Use PubChem to translate predicted chemicals into CIDs\n",
    "\n",
    "PubChem has a handy [identifier exchange] service. We have ChEMBL IDs associated with the top 2000 predicted hits. Simply upload the ChEMBL IDs on that service to return CID (compound IDs) with which to match up the assay data. \n",
    "\n",
    "The CIDs returned by this list (`predicted_smiles_CIDs.tsv`) can be used to filter the results as demonstrated below."
   ]
  },
  {
   "cell_type": "code",
   "execution_count": 169,
   "metadata": {
    "scrolled": true
   },
   "outputs": [],
   "source": [
    "predicted_activities = pd.read_csv('predicted_smiles_CIDs.tsv', sep='\\t', header=None)\n",
    "predicted_activities.columns = ['smiles', 'cid']\n",
    "\n",
    "#Don't need to make CIDs into int:\n",
    "#predicted_activities = predicted_activities[~pd.isna(predicted_activities['cid'])]\n",
    "#predicted_activities['cid'] = predicted_activities['cid'].astype(int)"
   ]
  },
  {
   "cell_type": "code",
   "execution_count": 180,
   "metadata": {
    "scrolled": true
   },
   "outputs": [
    {
     "data": {
      "text/plain": [
       "<matplotlib.collections.PathCollection at 0x129615a90>"
      ]
     },
     "execution_count": 180,
     "metadata": {},
     "output_type": "execute_result"
    },
    {
     "data": {
      "image/png": "[encoded data removed]",
      "text/plain": [
       "<Figure size 432x288 with 1 Axes>"
      ]
     },
     "metadata": {
      "needs_background": "light"
     },
     "output_type": "display_data"
    }
   ],
   "source": [
    "from seaborn import kdeplot\n",
    "import matplotlib.pyplot as plt\n",
    "%matplotlib inline\n",
    "points = predicted_activities['cid'].isin(activites['cid'][activites['activity']=='Inactive']).to_numpy().nonzero()[0]\n",
    "kdeplot(points)\n",
    "plt.scatter(points, np.random.randn(len(points))*0.00001, alpha=0.15)\n"
   ]
  },
  {
   "cell_type": "code",
   "execution_count": 182,
   "metadata": {
    "scrolled": true
   },
   "outputs": [],
   "source": [
    "points_pos = predicted_activities['cid'].isin(activites['cid'][activites['activity']=='Active']).to_numpy().nonzero()[0]\n",
    "points_neg = predicted_activities['cid'].isin(activites['cid'][activites['activity']=='Inactive']).to_numpy().nonzero()[0]"
   ]
  },
  {
   "cell_type": "code",
   "execution_count": 187,
   "metadata": {},
   "outputs": [
    {
     "name": "stderr",
     "output_type": "stream",
     "text": [
      "/Users/lmar3213/miniconda3/envs/lew_conda/lib/python3.7/site-packages/ipykernel_launcher.py:1: RuntimeWarning: invalid value encountered in long_scalars\n",
      "  \"\"\"Entry point for launching an IPython kernel.\n"
     ]
    },
    {
     "data": {
      "text/plain": [
       "[<matplotlib.lines.Line2D at 0x12cdd2e50>]"
      ]
     },
     "execution_count": 187,
     "metadata": {},
     "output_type": "execute_result"
    },
    {
     "data": {
      "image/png": "[encoded data removed]",
      "text/plain": [
       "<Figure size 432x288 with 1 Axes>"
      ]
     },
     "metadata": {
      "needs_background": "light"
     },
     "output_type": "display_data"
    }
   ],
   "source": [
    "plt.plot([sum(points_pos<i)/sum(points_neg<i) for i in range(100)])"
   ]
  },
  {
   "cell_type": "code",
   "execution_count": 177,
   "metadata": {},
   "outputs": [],
   "source": [
    "smi = predicted_activities[predicted_activities['cid'].isin(activites['cid'][activites['activity']=='Active'])].smiles"
   ]
  },
  {
   "cell_type": "code",
   "execution_count": 189,
   "metadata": {},
   "outputs": [
    {
     "data": {
      "text/plain": [
       "array([   0,    1,    7,    9,   12,   14,   15,   18,   20,   23,   25,\n",
       "         28,   29,   32,   34,   36,   39,   40,   42,   44,   46,   47,\n",
       "         48,   50,   51,   53,   54,   57,   58,   59,   60,   62,   64,\n",
       "         66,   67,   68,   71,   73,   74,   75,   84,   85,   87,   88,\n",
       "         90,   91,   93,   97,   99,  104,  106,  108,  110,  112,  113,\n",
       "        114,  115,  121,  122,  124,  126,  133,  134,  135,  136,  137,\n",
       "        139,  140,  141,  144,  145,  146,  147,  148,  149,  153,  154,\n",
       "        157,  160,  161,  163,  164,  165,  167,  171,  172,  173,  179,\n",
       "        180,  181,  184,  186,  188,  190,  191,  194,  196,  197,  198,\n",
       "        200,  201,  203,  204,  205,  207,  208,  212,  214,  220,  222,\n",
       "        223,  224,  227,  228,  230,  234,  239,  243,  245,  247,  248,\n",
       "        249,  252,  253,  255,  259,  262,  267,  268,  269,  271,  274,\n",
       "        277,  278,  279,  280,  281,  284,  287,  288,  289,  290,  292,\n",
       "        302,  305,  306,  308,  311,  320,  321,  323,  324,  329,  330,\n",
       "        331,  333,  335,  338,  340,  345,  351,  353,  357,  358,  359,\n",
       "        360,  362,  365,  366,  372,  374,  375,  379,  380,  385,  386,\n",
       "        387,  388,  392,  394,  399,  401,  408,  410,  413,  414,  415,\n",
       "        427,  436,  437,  439,  442,  445,  448,  452,  455,  457,  458,\n",
       "        459,  464,  468,  469,  474,  475,  476,  479,  483,  485,  486,\n",
       "        489,  492,  497,  501,  505,  509,  514,  516,  518,  519,  520,\n",
       "        525,  528,  529,  530,  531,  536,  538,  539,  542,  544,  551,\n",
       "        555,  559,  562,  563,  564,  565,  575,  576,  579,  586,  587,\n",
       "        592,  596,  599,  601,  602,  607,  612,  613,  615,  622,  623,\n",
       "        624,  625,  626,  629,  633,  634,  636,  645,  650,  651,  654,\n",
       "        659,  661,  663,  664,  665,  667,  668,  674,  675,  677,  679,\n",
       "        680,  683,  685,  688,  689,  690,  694,  706,  709,  710,  715,\n",
       "        717,  722,  729,  730,  732,  734,  740,  741,  744,  749,  753,\n",
       "        760,  766,  767,  768,  772,  785,  794,  796,  800,  804,  805,\n",
       "        808,  810,  812,  818,  820,  826,  833,  836,  838,  845,  846,\n",
       "        852,  856,  867,  868,  875,  877,  881,  885,  888,  889,  892,\n",
       "        893,  894,  900,  903,  904,  905,  907,  909,  910,  914,  915,\n",
       "        916,  922,  927,  929,  931,  934,  935,  938,  939,  942,  948,\n",
       "        949,  956,  957,  959,  967,  968,  976,  979,  980,  994,  995,\n",
       "       1000, 1002, 1003, 1005, 1008, 1019, 1022, 1027, 1028, 1029, 1034,\n",
       "       1035, 1036, 1037, 1042, 1043, 1049, 1056, 1061, 1068, 1069, 1073,\n",
       "       1074, 1079, 1081, 1083, 1088, 1089, 1092, 1093, 1094, 1096, 1098,\n",
       "       1100, 1107, 1120, 1124, 1127, 1128, 1131, 1132, 1133, 1146, 1148,\n",
       "       1161, 1164, 1169, 1170, 1171, 1172, 1184, 1185, 1196, 1200, 1201,\n",
       "       1216, 1217, 1218, 1229, 1233, 1235, 1237, 1239, 1248, 1252, 1256,\n",
       "       1257, 1263, 1272, 1274, 1291, 1308, 1314, 1315, 1322, 1326, 1327,\n",
       "       1332, 1334, 1340, 1341, 1348, 1351, 1352, 1354, 1356, 1361, 1363,\n",
       "       1370, 1374, 1387, 1395, 1410, 1413, 1415, 1417, 1424, 1425, 1426,\n",
       "       1427, 1433, 1443, 1447, 1449, 1454, 1460, 1476, 1477, 1479, 1485,\n",
       "       1487, 1490, 1492, 1497, 1500, 1506, 1528, 1531, 1537, 1541, 1544,\n",
       "       1545, 1546, 1553, 1554, 1557, 1566, 1599, 1606, 1610, 1619, 1629,\n",
       "       1630, 1636, 1637, 1638, 1643, 1644, 1646, 1649, 1654, 1657, 1658,\n",
       "       1661, 1663, 1671, 1675, 1677, 1679, 1686, 1687, 1696, 1699, 1701,\n",
       "       1702, 1703, 1708, 1711, 1715, 1720, 1738, 1745, 1751, 1764, 1765,\n",
       "       1769, 1770, 1781, 1788, 1794, 1795, 1796, 1798, 1814, 1819, 1831,\n",
       "       1832, 1833, 1834, 1856, 1859, 1862, 1872, 1873, 1875, 1884, 1885,\n",
       "       1896, 1897, 1901, 1904, 1907, 1911, 1933, 1935, 1940, 1949, 1957,\n",
       "       1958, 1960, 1966, 1973, 1983, 1987, 1994, 1996, 1997])"
      ]
     },
     "execution_count": 189,
     "metadata": {},
     "output_type": "execute_result"
    }
   ],
   "source": [
    "points_neg"
   ]
  },
  {
   "cell_type": "code",
   "execution_count": 178,
   "metadata": {},
   "outputs": [
    {
     "data": {
      "image/png": "[encoded data removed]",
      "text/plain": [
       "<PIL.PngImagePlugin.PngImageFile image mode=RGB size=1200x400 at 0x129621790>"
      ]
     },
     "execution_count": 178,
     "metadata": {},
     "output_type": "execute_result"
    }
   ],
   "source": [
    "import rdkit\n",
    "from rdkit import Chem\n",
    "from rdkit.Chem import Draw, AllChem, rdFingerprintGenerator, PandasTools\n",
    "from rdkit.Chem.Draw import IPythonConsole\n",
    "from rdkit.Chem import DataStructs\n",
    "\n",
    "mols = [Chem.MolFromSmiles(i) for i in smi]\n",
    "Draw.MolsToGridImage(mols, molsPerRow=6)\n"
   ]
  },
  {
   "cell_type": "markdown",
   "metadata": {},
   "source": [
    "assay domain < namespace > = aid | listkey | type/< assay type > | sourceall/< source name > | target/< assay target > | activity/< activity column name >\n",
    "\n",
    "< assay type > = all | confirmatory | doseresponse | onhold | panel | rnai | screening | summary | cellbased | biochemical | invivo | invitro | activeconcentrationspecified\n",
    "\n",
    "< assay target > = gi | proteinname | geneid | genesymbol | accession\n",
    "\n",
    "< identifiers > = comma-separated list of positive integers (e.g. cid, sid, aid) or identifier strings (source, inchikey, formula); in some cases only a single identifier string (name, smiles, xref; inchi, sdf by POST only)"
   ]
  },
  {
   "cell_type": "code",
   "execution_count": null,
   "metadata": {},
   "outputs": [],
   "source": [
    "'https://pubchem.ncbi.nlm.nih.gov/rest/pug/compound/cid/2244/property/MolecularFormula,InChIKey/[<output specification>]'\n",
    "\n",
    " "
   ]
  },
  {
   "cell_type": "markdown",
   "metadata": {},
   "source": [
    "assay domain < operation specification > = record | concise | aids | sids | cids | description | targets/< target type > | < doseresponse > | summary | classification"
   ]
  },
  {
   "cell_type": "code",
   "execution_count": 237,
   "metadata": {},
   "outputs": [
    {
     "data": {
      "text/plain": [
       "{'Fault': {'Code': 'PUGREST.BadRequest',\n",
       "  'Message': 'Too many SIDs',\n",
       "  'Details': ['Assay record retrieval is limited to 10000 SIDs']}}"
      ]
     },
     "execution_count": 237,
     "metadata": {},
     "output_type": "execute_result"
    }
   ],
   "source": [
    "site = 'https://pubchem.ncbi.nlm.nih.gov/rest/pug/assay/aid/1961/JSON'\n",
    "#site = 'https://pubchem.ncbi.nlm.nih.gov/rest/pug/assay/aid/260895/concise/CSV'\n",
    "data = json.loads(requests.get(site).content)\n",
    "data"
   ]
  },
  {
   "cell_type": "code",
   "execution_count": 230,
   "metadata": {},
   "outputs": [
    {
     "data": {
      "text/plain": [
       "28"
      ]
     },
     "execution_count": 230,
     "metadata": {},
     "output_type": "execute_result"
    }
   ],
   "source": [
    "data['PC_AssaySubmit']['data'])"
   ]
  },
  {
   "cell_type": "code",
   "execution_count": 204,
   "metadata": {},
   "outputs": [],
   "source": [
    "site = 'https://pubchem.ncbi.nlm.nih.gov/rest/pug/assay/target/genesymbol/egfr/concise/CSV'\n",
    "data=requests.get(site).content"
   ]
  },
  {
   "cell_type": "code",
   "execution_count": 205,
   "metadata": {},
   "outputs": [
    {
     "data": {
      "text/plain": [
       "b'Status: 504\\nCode: PUGREST.Timeout\\nMessage: Request timed out\\n'"
      ]
     },
     "execution_count": 205,
     "metadata": {},
     "output_type": "execute_result"
    }
   ],
   "source": [
    "data"
   ]
  },
  {
   "cell_type": "code",
   "execution_count": 239,
   "metadata": {},
   "outputs": [],
   "source": [
    "from pubchempy import *"
   ]
  },
  {
   "cell_type": "code",
   "execution_count": 240,
   "metadata": {},
   "outputs": [],
   "source": [
    "d = get_assays(1961)"
   ]
  },
  {
   "cell_type": "code",
   "execution_count": 244,
   "metadata": {},
   "outputs": [],
   "source": [
    "a = d[0]"
   ]
  },
  {
   "cell_type": "code",
   "execution_count": 248,
   "metadata": {},
   "outputs": [
    {
     "data": {
      "text/plain": [
       "{'assay': {'descr': {'aid': {'id': 1961, 'version': 2},\n",
       "   'aid_source': {'db': {'name': 'Burnham Center for Chemical Genomics',\n",
       "     'source_id': {'str': 'BCCG-A221-GPR55-Agonist-Assay'}}},\n",
       "   'name': 'Image-based HTS for Selective Agonists of GPR55',\n",
       "   'description': ['Data Source: Sanford-Burnham Center for Chemical Genomics (SBCCG)',\n",
       "    'Source Affiliation: Sanford-Burnham Medical Research Institute (SBMRI, San Diego, CA)',\n",
       "    'Network: NIH Molecular Libraries Probe Production Centers Network (MLPCN)',\n",
       "    'Grant Proposal Number: 1X01 DA026205-01 ',\n",
       "    'Assay Provider: Dr. Mary Abood, California Pacific Medical Center Research Institute (currently Temple University)',\n",
       "    '',\n",
       "    'The cannabinoid and endocannabinoid system has been implicated in the pathophysiology of drug dependence and addiction disorders.  GPR55, an orphan G-Protein Coupled Receptor, has been reported to be a cannabinoid receptor, but its status as such remains unresolved due to conflicting results from pharmacological studies.  The goal of the project is to identify small molecule agonists of GPR55, which may aid in the deorphanization efforts of this receptor and ultimately further the understanding of the role of GPR55 in drug addiction.',\n",
       "    '',\n",
       "    'This high content imaging assay utilizes a cell line permanently expressing a beta-arrestin GFP biosensor and an enhanced GPR55 receptor.  Upon agonist-mediated GPR55 activation, the arrestin-GFP redistributes from the cytosolic compartment to the plasma membrane to coated pits and further into endosomal vesicles.  This arrestin-GFP redistribution is measured as increased local concentrations of fluorescent arrestins.  '],\n",
       "   'protocol': ['Assay Materials:',\n",
       "    '1) 384-well plates, black with clear bottom (Greiner# 781091)',\n",
       "    '2) U2OS (Human Osteosarcoma) cell line stably expressing the Beta-arrestin GFP and GPR55 receptor',\n",
       "    '3) Culture Media: MEM with L-glutamine, Pen-strep, 10% Fetal Bovine Serum and selection antibiotics - 100ug/ml G418 and 50ug/ml Zeocin',\n",
       "    '4) Positive Control Working Solution: Lysophosphatidylinositol (Sigma L7635, 5mM stock in Methanol water) diluted in water to 250uM.  Additional DMSO is added to achieve a DMSO concentration of 2.5%. ',\n",
       "    '5) Negative Control Working Solution: 2.5% DMSO diluted in water.',\n",
       "    '6) Fixative Working Solution: 6% Paraformaldehyde (PFA) diluted in PBS.',\n",
       "    '7) Nuclear Stain Working Solution: DAPI (Invitrogen, D1306) diluted to 150ng/ml in DAPI buffer (10mM TRIS, 10mM EDTA, 100mM NaCl, pH 7.4).',\n",
       "    '',\n",
       "    'Primary Screen Procedure:',\n",
       "    '1) 45ul of cell suspension (200,000 cells/ml in culture medium) was dispensed in each well of the assay plates using a Wellmate bulk dispenser.  ',\n",
       "    '2) Plates are incubated overnight or approximately 20 hours at 37 degree C and 5% CO2.',\n",
       "    '3) Serum is removed by media aspiration and replacing with 45ul serum-free MEM prior to addition of compounds. ',\n",
       "    '4) Compound addition was done on a Biomek FX with 384-head dispenser (Beckman):',\n",
       "    'a) 5ul of 100uM compound solution was added to columns 3 through 24 of the assay plates for a final assay compound concentration of 10uM and 0.25% DMSO.  ',\n",
       "    'b) 5ul of negative control (2.5% DMSO) working solution was added to column 2. ',\n",
       "    'c) 5ul of the positive control (250uM LPI) working solution was added to column 1.  ',\n",
       "    '5) Plates were incubated for 75 minutes at 37 degrees C and 5% CO2.  ',\n",
       "    '6) Media was aspirated leaving 20ul liquid in each well using a Titertek plate washer.  ',\n",
       "    '7) 40ul of fixative working solution was added to each well using a Wellmate bulk dispenser (Matrix) for a final concentration of 4% PFA.',\n",
       "    '8) Plates were incubated for 40 minutes at room temperature.',\n",
       "    '9) Fixative was aspirated and plates were washed twice with 50ul PBS leaving 20ul liquid in each well using a Titertek plate washer.',\n",
       "    '10) 40ul of DAPI working solution was added using a Wellmate bulk dispenser for a final DAPI concentration of 100ng/ml. Aluminum plate sealers were applied to each plate.',\n",
       "    '',\n",
       "    'Hit Confirmation Procedure:',\n",
       "    '1) The same procedure as used for primary screen (above) steps 1 to 3.',\n",
       "    \"2) Compound addition was done on the ECHO550 Liquid Handler.  The 'dose response protocol' was used to dispense corresponding volumes of each 10mM compound on the assay plate.\",\n",
       "    'a. Compounds were added to columns 3 to 22. Final concentration ranged from 32uM to 500nM, in duplicate (seven doses).',\n",
       "    'b. Positive control was added to column 1.  LPI final concentration was 25uM.',\n",
       "    'c. Negative control was added to column 2. DMSO final concentration was 0.3%.',\n",
       "    '3) Primary screen procedure (above) steps 5 to 10 were followed.  ',\n",
       "    '',\n",
       "    'Image Acquisition and Analysis:',\n",
       "    '1) Image acquisition was performed on an Opera QEHS (Perkin Elmer) with 45 plate capacity loader/stacker and the following settings:',\n",
       "    '  20x 0.45 NA air objective ',\n",
       "    '  Acquisition camera set to 2-by-2 binning for an image size of 688 by 512 pixels',\n",
       "    '  2 channels acquired sequentially: Exp1Cam1 = Beta-arrestin GFP using 488 nm laser excitation and 540/70 nm emisssion filters, Exp2Cam2 = DAPI (nuclei) using 365 nm Xenon lamp excitation and 450/50 nm emission filters',\n",
       "    '  2 fields per well for Primary screen',\n",
       "    '  4 fields per well for Hit Confirmation',\n",
       "    '',\n",
       "    '2) Image analysis was performed using the Acapella Spot Detection Algorithm.  ',\n",
       "    '',\n",
       "    'Analysis settings:',\n",
       "    'Nuclei Detection',\n",
       "    '  Threshold Adjustment:     1.5',\n",
       "    '  Nuclear Splitting Adjustment:   7',\n",
       "    '  Minimum Nuclear Area:    70',\n",
       "    '  Minimum Nuclear Contrast:    0.1',\n",
       "    'Cytoplasm Detection',\n",
       "    '  Cytoplasm Threshold Adjustment:   0.45',\n",
       "    '  Cytoplasm Individual Threshold Adjustment:  0.15',\n",
       "    'Spot Detection',\n",
       "    ' Spot Minimum Distance    3',\n",
       "    ' Spot Peak Radius     0',\n",
       "    ' Spot Reference Radius    2',\n",
       "    ' Spot Minimum Contrast    0.25',\n",
       "    ' Spot Minimum to Cell Intensity   1',\n",
       "    '',\n",
       "    'Metrics calculated from',\n",
       "    'Nuclei Images: Cell Count (\"NumberofCellsAnalyzed\"), Nuclei Area (\"AreaoftheNucleus\"), Integrated Intensity of the Nuclei (\"TotalIntegratedIntensityoftheNucleus\"), Average Intensity of the Nuclei (\"AverageIntensityoftheNucleus\")',\n",
       "    'GFP Images: Integrated Intensity of the Cytoplasm (\"TotalCytoplasmIntensity\"), Integrated Intensity of the Detected Spots (\"TotalSpotIntensity\"), Ratio of the Integrated Spot to Integrated Cytoplasm Intensities (\"RatioofSpotIntensitytoCytoplasmintensity\"), Number of Spots per Cell (\"AverageSpotsPerCell\"), Percentage of Cells Positive for Spot Formation (\"PercentagePositiveCells\")',\n",
       "    '',\n",
       "    '3)  Actives from the primary screen were determined using CBIS software (ChemInnovations) by calculating the %activation of the \"PercentagePositiveCells\" metric and using a hit criteria of Activity > 40% and \"NumberofCellsAnalyzed\" > 50.  Wells with cell counts lower than 50 in the 2 acquired images were flagged \"cytotoxic / low cell count\" and were excluded from hit selection.'],\n",
       "   'comment': ['In the primary screen compounds were \"active\" if Activity > 40% and \"NumberofCellsAnalyzed\" > 50.  Wells with cell counts lower than 50 in the 2 acquired images were flagged \"cytotoxic / low cell count\".  Flagged wells were excluded from hit selection and were assigned an outcome of \"inconclusive\".',\n",
       "    '',\n",
       "    'The primary screen \"actives\" were then tested for dose-response hit confirmation.  Compounds with an IC50 <10uM were considered \"confirmed actives\".  ',\n",
       "    '',\n",
       "    'To simplify the distinction between the actives of the primary screen and of the confirmatory dose response, a tiered activity scoring system was devised to take into consideration compound efficacy and potential interference with the assay. The outline of the scoring system utilized for the screen is as follows: ',\n",
       "    '',\n",
       "    '1) First tier (0-40 range) is reserved for primary screening data.  The score is correlated with % activity in the assay demonstrated by a compound at 10 uM concentration:',\n",
       "    'a. If primary % activity is less than 0%, then the assigned score is 0',\n",
       "    'b. If primary % activity is greater than 100%, then the assigned score is 40',\n",
       "    'c. If primary % activity is between 0% and 100%, then the calculated score is (%activity)*0.4',\n",
       "    '',\n",
       "    '2) Second tier (41-80 range) is reserved for dose-response confirmation data. ',\n",
       "    'a. Inactive compounds of the confirmatory stage are assigned a score value equal 41. ',\n",
       "    'b. The score is linearly correlated with compound potency and, in addition, provides a measure of the likelihood that the compound is not an artifact based on the available information.',\n",
       "    'Score = 44 + 6*(pEC50 - 3)',\n",
       "    'where pEC50 is a negative log(10) of the EC50 value expressed in mole/L concentration units. This equation results in score values above 50 for compounds that demonstrate high potency and predictable behavior. Compounds that are inactive in the assay or whose concentration-dependent behavior is  likely to be an artifact of that assay will generally have lower  score values.',\n",
       "    '',\n",
       "    '3) Third tier (81-100 range) is reserved for resynthesized true positives and their analogues and is not applicable to this assay.'],\n",
       "   'xref': [{'xref': {'aid': 1965}},\n",
       "    {'xref': {'gene': 9290},\n",
       "     'comment': 'GPR55, G-Protein Coupled Receptor 55'},\n",
       "    {'xref': {'pmid': 18263782}},\n",
       "    {'xref': {'pmid': 19233486}},\n",
       "    {'xref': {'dburl': 'http://cpccg.burnham.org'}},\n",
       "    {'xref': {'pmid': 17765871}},\n",
       "    {'xref': {'pmid': 9931487}},\n",
       "    {'xref': {'pmid': 17876302}},\n",
       "    {'xref': {'pmid': 17906678}},\n",
       "    {'xref': {'pmid': 19723626}}],\n",
       "   'results': [{'tid': 1,\n",
       "     'name': 'EC50_Qualifier',\n",
       "     'description': ['This qualifier is to be used with the next TID, EC50. If qualifier is \"=\", EC50 result equals to the value in that column; if qualifier is \">\", EC50 result is greater than that value.'],\n",
       "     'type': 4,\n",
       "     'unit': 254},\n",
       "    {'tid': 2,\n",
       "     'name': 'EC50',\n",
       "     'description': ['IC50 value determined using sigmoidal dose response equation'],\n",
       "     'type': 1,\n",
       "     'unit': 5,\n",
       "     'ac': True},\n",
       "    {'tid': 3,\n",
       "     'name': 'Std.Err(EC50)',\n",
       "     'description': ['Standard Error of EC50 value'],\n",
       "     'type': 1,\n",
       "     'unit': 5},\n",
       "    {'tid': 4,\n",
       "     'name': 'nH',\n",
       "     'description': ['Hill coefficient determined using sigmoidal dose response equation'],\n",
       "     'type': 1,\n",
       "     'unit': 254},\n",
       "    {'tid': 5,\n",
       "     'name': '%Activity at 10 uM',\n",
       "     'description': ['%Activity at 10 uM'],\n",
       "     'type': 1,\n",
       "     'unit': 15,\n",
       "     'tc': {'concentration': 10, 'unit': 5}},\n",
       "    {'tid': 6,\n",
       "     'name': 'Mean_NC',\n",
       "     'description': ['Mean luminescence signal of negative controls in the corresponding plate'],\n",
       "     'type': 1,\n",
       "     'sunit': 'CPS',\n",
       "     'tc': {'concentration': 10, 'unit': 5}},\n",
       "    {'tid': 7,\n",
       "     'name': 'StdDev_NC',\n",
       "     'description': ['Standard deviation (n=16) of negative controls in the corresponding plate'],\n",
       "     'type': 1,\n",
       "     'sunit': 'CPS',\n",
       "     'tc': {'concentration': 10, 'unit': 5}},\n",
       "    {'tid': 8,\n",
       "     'name': 'Mean_PC',\n",
       "     'description': ['Mean luminescence signal of positive controls in the corresponding plate'],\n",
       "     'type': 1,\n",
       "     'sunit': 'CPS',\n",
       "     'tc': {'concentration': 10, 'unit': 5}},\n",
       "    {'tid': 9,\n",
       "     'name': 'StdDev_PC',\n",
       "     'description': ['Standard deviation (n=16) of positive controls in the corresponding plate'],\n",
       "     'type': 1,\n",
       "     'sunit': 'CPS',\n",
       "     'tc': {'concentration': 10, 'unit': 5}},\n",
       "    {'tid': 10,\n",
       "     'name': 'PercentagePositiveCells',\n",
       "     'description': ['Percentage of Cells Positive for Spot Formation'],\n",
       "     'type': 1,\n",
       "     'unit': 15,\n",
       "     'tc': {'concentration': 10, 'unit': 5}},\n",
       "    {'tid': 11,\n",
       "     'name': ' NumberofCellsAnalyzed',\n",
       "     'description': ['Cell count'],\n",
       "     'type': 1,\n",
       "     'sunit': 'cells',\n",
       "     'tc': {'concentration': 10, 'unit': 5}},\n",
       "    {'tid': 12,\n",
       "     'name': 'AreaoftheNucleus ',\n",
       "     'description': ['Nuclei Area '],\n",
       "     'type': 1,\n",
       "     'sunit': 'um^2',\n",
       "     'tc': {'concentration': 10, 'unit': 5}},\n",
       "    {'tid': 13,\n",
       "     'name': 'TotalIntegratedIntensityoftheNucleus',\n",
       "     'description': ['Integrated Intensity of the Nuclei (#'],\n",
       "     'type': 1,\n",
       "     'sunit': 'RU',\n",
       "     'tc': {'concentration': 10, 'unit': 5}},\n",
       "    {'tid': 14,\n",
       "     'name': 'AverageIntegratedIntensityoftheNucleus',\n",
       "     'description': ['Average Intensity of the Nuclei '],\n",
       "     'type': 1,\n",
       "     'sunit': 'RU',\n",
       "     'tc': {'concentration': 10, 'unit': 5}},\n",
       "    {'tid': 15,\n",
       "     'name': 'TotalCytoplasmIntensity ',\n",
       "     'description': ['Integrated Intensity of the Cytoplasm '],\n",
       "     'type': 1,\n",
       "     'sunit': 'RU',\n",
       "     'tc': {'concentration': 10, 'unit': 5}},\n",
       "    {'tid': 16,\n",
       "     'name': 'TotalSpotIntensity ',\n",
       "     'description': ['Integrated Intensity of the Detected Spots '],\n",
       "     'type': 1,\n",
       "     'sunit': 'RU',\n",
       "     'tc': {'concentration': 10, 'unit': 5}},\n",
       "    {'tid': 17,\n",
       "     'name': 'RatioofSpotintensitytoCytoplasmintensity',\n",
       "     'description': ['Ratio of the Integrated Spot to Integrated Cytoplasm Intensities '],\n",
       "     'type': 1,\n",
       "     'sunit': 'RU',\n",
       "     'tc': {'concentration': 10, 'unit': 5}},\n",
       "    {'tid': 18,\n",
       "     'name': 'AverageSpotsPerCell',\n",
       "     'description': ['Number of Spots per Cell '],\n",
       "     'type': 1,\n",
       "     'sunit': 'RU',\n",
       "     'tc': {'concentration': 10, 'unit': 5}}],\n",
       "   'revision': 2,\n",
       "   'target': [{'name': 'G protein-coupled receptor 55 [Homo sapiens]',\n",
       "     'mol_id': 33695107,\n",
       "     'molecule_type': 1,\n",
       "     'organism': {'genome': 0,\n",
       "      'origin': 0,\n",
       "      'org': {'taxname': 'Homo sapiens',\n",
       "       'common': 'human',\n",
       "       'db': [{'db': 'taxon', 'tag': {'id': 9606}}]}}}],\n",
       "   'activity_outcome_method': 2,\n",
       "   'grant_number': ['1X01 DA026205-01 '],\n",
       "   'project_category': 2}}}"
      ]
     },
     "execution_count": 248,
     "metadata": {},
     "output_type": "execute_result"
    }
   ],
   "source": [
    "a.record"
   ]
  },
  {
   "cell_type": "code",
   "execution_count": null,
   "metadata": {},
   "outputs": [],
   "source": []
  }
 ],
 "metadata": {
  "kernelspec": {
   "display_name": "Python 3",
   "language": "python",
   "name": "python3"
  },
  "language_info": {
   "codemirror_mode": {
    "name": "ipython",
    "version": 3
   },
   "file_extension": ".py",
   "mimetype": "text/x-python",
   "name": "python",
   "nbconvert_exporter": "python",
   "pygments_lexer": "ipython3",
   "version": "3.7.6"
  }
 },
 "nbformat": 4,
 "nbformat_minor": 4
}
